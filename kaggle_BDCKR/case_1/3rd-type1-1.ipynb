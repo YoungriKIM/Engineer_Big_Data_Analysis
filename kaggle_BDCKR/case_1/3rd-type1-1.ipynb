{
 "cells": [
  {
   "cell_type": "markdown",
   "metadata": {},
   "source": [
    "* [출처](https://www.kaggle.com/code/agileteam/3rd-type1-1-3-1-1)"
   ]
  },
  {
   "cell_type": "markdown",
   "metadata": {},
   "source": []
  }
 ],
 "metadata": {
  "language_info": {
   "name": "python"
  }
 },
 "nbformat": 4,
 "nbformat_minor": 2
}
