{
 "cells": [
  {
   "cell_type": "markdown",
   "metadata": {},
   "source": [
    "- 범주형 데이터의 관찰된 빈도와 기대된 빈도를 비교하여\n",
    "- 두 변수 간의 독립성이나 분포의 적합성을 검정하는 방법\n",
    "\n",
    "1. 적합도 검정\n",
    "2. 독립성 검정\n",
    "3. 동질성 검정"
   ]
  },
  {
   "cell_type": "markdown",
   "metadata": {},
   "source": [
    "#### 카이제곱 검정"
   ]
  },
  {
   "cell_type": "markdown",
   "metadata": {},
   "source": [
    "##### 적합도 검정"
   ]
  },
  {
   "cell_type": "code",
   "execution_count": 10,
   "metadata": {},
   "outputs": [],
   "source": [
    "# 1개의 범주형 변수가 특정 분포를 잘 따르고 있는가\n",
    "    \n",
    "# 귀무가설: 특정 분포를 따른다.\n",
    "# 대립가설: 특정 분포를 따르지 않는다."
   ]
  },
  {
   "cell_type": "code",
   "execution_count": 4,
   "metadata": {},
   "outputs": [],
   "source": [
    "# scipy.stats.chisquare(observed, expected, ddof, axis)\n",
    "    # observed: 관즉된 빈도 리스트\n",
    "    # ecpected: 기대 빈도 리스트\n",
    "    # ddof: 자유도 조정, 기본값 0\n",
    "    # axis: 축, 기본값 0 "
   ]
  },
  {
   "cell_type": "code",
   "execution_count": 7,
   "metadata": {},
   "outputs": [
    {
     "data": {
      "text/plain": [
       "Power_divergenceResult(statistic=7.142857142857142, pvalue=0.028115659748972056)"
      ]
     },
     "execution_count": 7,
     "metadata": {},
     "output_type": "execute_result"
    }
   ],
   "source": [
    "# 300명 대상으로 아이스크림 선호도를 조사하니 바닐라 150명, 초코 120, 딸기30\n",
    "# 전국 대상 비율은 바닐라 50%, 초코35% 딸기 15%인데 이 도시의 맛 선호도는 전국의 맛 선호도와 차이가 있는가?\n",
    "observed = [150, 120, 30] # 전체 300명\n",
    "expected = [0.5*300, 0.35*300, 0.15*300]\n",
    "\n",
    "from scipy.stats import chisquare\n",
    "chisquare(observed, expected)\n",
    "# 0.02로 0.05보다 작아서\n",
    "# 이 지역은 전국의 맛 선호도와 차이가 있음"
   ]
  },
  {
   "cell_type": "markdown",
   "metadata": {},
   "source": [
    "##### 독립성 검정"
   ]
  },
  {
   "cell_type": "code",
   "execution_count": 12,
   "metadata": {},
   "outputs": [],
   "source": [
    "# 2개의 변수가 서로 독립적인지, 연관이 있는지 검정\n",
    "    \n",
    "# 귀무가설: 두 변수가 독립적이다.\n",
    "# 대립가설: 두 변수는 독립적이 아니다."
   ]
  },
  {
   "cell_type": "code",
   "execution_count": 13,
   "metadata": {},
   "outputs": [],
   "source": [
    "# scipy.stats.chi2_contingency(table, correction=True)\n",
    "    # table: 교차표(Contingency table)\n",
    "    # correction: 연속성 수정 여부, 기본값이 True\n",
    "        # 문제에서 연속성을 수정하지 않는다고 하면 False"
   ]
  },
  {
   "cell_type": "code",
   "execution_count": null,
   "metadata": {},
   "outputs": [],
   "source": []
  }
 ],
 "metadata": {
  "kernelspec": {
   "display_name": "big",
   "language": "python",
   "name": "python3"
  },
  "language_info": {
   "codemirror_mode": {
    "name": "ipython",
    "version": 3
   },
   "file_extension": ".py",
   "mimetype": "text/x-python",
   "name": "python",
   "nbconvert_exporter": "python",
   "pygments_lexer": "ipython3",
   "version": "3.10.14"
  }
 },
 "nbformat": 4,
 "nbformat_minor": 2
}
