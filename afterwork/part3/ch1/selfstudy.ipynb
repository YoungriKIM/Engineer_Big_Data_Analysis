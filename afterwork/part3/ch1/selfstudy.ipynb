{
 "cells": [
  {
   "cell_type": "markdown",
   "metadata": {},
   "source": [
    "#### 가설 검정: 한 개 혹은 두 개의 데이터의 평균 차이를 검증하는 방법"
   ]
  },
  {
   "cell_type": "markdown",
   "metadata": {},
   "source": [
    "#### 단일 표본 검정\n",
    "- one sample t-test\n",
    "- 이미 준비된 평균과 모집단 표본의 평균이 같은지 확인\n",
    "- scipy.stats 의 ttest_1samp()"
   ]
  },
  {
   "cell_type": "code",
   "execution_count": 1,
   "metadata": {},
   "outputs": [],
   "source": [
    "# ttest_1samp() 사용\n",
    "    # ttest_1samp(a, popmean, alternative)\n",
    "    # a: 모집단에서 뽑은 표본 데이터\n",
    "    # popmean: 비교하려는 모집단의 평균 또는 기댓값\n",
    "    # alternative: 대립가설 정의\n",
    "        # greater: 주어진(알려진) 특정 값보다 표본의 평균이 큼\n",
    "        # less: 주어진(알려진) 특정 값보다 표본의 평균이 작음\n",
    "        # two-sided: 주어진(알려진) 특정 값과 표본의 평균이 같지 않음"
   ]
  },
  {
   "cell_type": "code",
   "execution_count": 2,
   "metadata": {},
   "outputs": [],
   "source": [
    "# 팝콘 평균 120g\n",
    "    # 귀무 가설: 팝콘 라지 사이즈의 평균 무게는 120g이다.\n",
    "    # 대립 가설: 팝콘 라지 사이즈의 평균 무게는 120g이 아니다.\n",
    "    # 유의수준: 별도의 안내가 없다면 0.05를 기준\n",
    "\n",
    "import pandas as pd\n",
    "df =pd.DataFrame({\n",
    "    'weights':[122, 121, 120, 119, 125, 115, 121, 118, 117, 127,\n",
    "           123, 129, 119, 124, 114, 126, 122, 124, 121, 116,\n",
    "           120, 123, 127, 118, 122, 117, 124, 125, 123, 121]\n",
    "})"
   ]
  },
  {
   "cell_type": "code",
   "execution_count": 3,
   "metadata": {},
   "outputs": [
    {
     "name": "stdout",
     "output_type": "stream",
     "text": [
      "t_statistic, 통계량: 2.1155384372682344\n",
      "p_value, p값: 0.043092957066609296\n",
      "귀무가설 기각, 대립가설 채택: 팝콘의 평균 무게는 120g이 아니다.\n"
     ]
    }
   ],
   "source": [
    "# ttest_1samp 함수를 이용하면 검정 통계량과 유의확률(p-value)를 반환 받을 수 있음\n",
    "from scipy import stats\n",
    "alpha = 0.05\n",
    "\n",
    "t_statistic, p_value = stats.ttest_1samp(df['weights'], 120, alternative = 'two-sided')\n",
    "print('t_statistic, 통계량:', t_statistic)\n",
    "print('p_value, p값:', p_value)\n",
    "\n",
    "if p_value < alpha:\n",
    "    print('귀무가설 기각, 대립가설 채택: 팝콘의 평균 무게는 120g이 아니다.')\n",
    "else: print('귀무가설을 기각할 수 없음, 대립가설 기각: 팝콘의 평균 무게는 120g이다.')\n",
    "\n",
    "# 이 과정이 양측검정(two-sided)"
   ]
  },
  {
   "cell_type": "code",
   "execution_count": 4,
   "metadata": {},
   "outputs": [
    {
     "name": "stdout",
     "output_type": "stream",
     "text": [
      "t_statistic, 통계량: 2.1155384372682344\n",
      "p_value, p값: 0.021546478533304648\n",
      "귀무가설을 기각, 대립가설을 채택: 팝콘의 평균은 120g보다 크다.\n",
      "--------------------------------------------------\n",
      "t_statistic, 통계량: 2.1155384372682344\n",
      "p_value, p값: 0.9784535214666953\n",
      "귀무가설을 기각할 수 없음, 대립가설 기각: 팝콘의 평균은 120g이다.\n"
     ]
    }
   ],
   "source": [
    "# 단측 검정 해보기\n",
    "    # 크거나, 작거나\n",
    "    \n",
    "# greater\n",
    "    # 귀무가설: 팝콘의 평균은 120g이다.\n",
    "    # 대립가설: 팝콘의 평균은 120g보다 크다.\n",
    "    \n",
    "t_statistic, p_value = stats.ttest_1samp(df['weights'], 120, alternative='greater')\n",
    "print('t_statistic, 통계량:', t_statistic)\n",
    "print('p_value, p값:', p_value)\n",
    "\n",
    "if p_value < alpha :\n",
    "    print('귀무가설을 기각, 대립가설을 채택: 팝콘의 평균은 120g보다 크다.')\n",
    "else: print('귀무가설을 기각할 수 없음, 대립가설 기각: 팝콘의 평균은 120g이다.')\n",
    "print('-'*50)\n",
    "\n",
    "# less\n",
    "    # 귀무가설: 팝콘의 평균은 120g이다.\n",
    "    # 대립가설: 팝콘의 평균은 120g보다 작다.\n",
    "    \n",
    "t_statistic, p_value = stats.ttest_1samp(df['weights'], 120, alternative='less')\n",
    "print('t_statistic, 통계량:', t_statistic)\n",
    "print('p_value, p값:', p_value)\n",
    "\n",
    "if p_value < alpha :\n",
    "    print('귀무가설 기각, 대립가설 채택: 팝콘의 평균은 120g보다 작다.')\n",
    "else: print('귀무가설을 기각할 수 없음, 대립가설 기각: 팝콘의 평균은 120g이다.')"
   ]
  },
  {
   "cell_type": "code",
   "execution_count": 6,
   "metadata": {},
   "outputs": [],
   "source": [
    "# 심화학습: 표본 데이터가 정규 분포를 따르는가?"
   ]
  },
  {
   "cell_type": "code",
   "execution_count": 7,
   "metadata": {},
   "outputs": [
    {
     "name": "stdout",
     "output_type": "stream",
     "text": [
      "0.022960129822451016\n",
      "0.9814453125\n"
     ]
    }
   ],
   "source": [
    "# 정규성은 scipy.stats.shapiro(data)를 사용해서 검정 가능\n",
    "    # 정규성을 따른다면 > 단일 표본 t-검정 scipy.stats.ttest_1samp(data, 귀무가설 기대값)\n",
    "    # 정규성을 따르지 않는다면 > Wilcoxon의 부호 순위 검정 scipy.stats.wilcoxon(data - 귀무가설 기대값)\n",
    "    \n",
    "# 문제: 아메리카노 한 잔의 평균은 120g보다 작다고 할 수 있을까? (유의수준 0.05)\n",
    "    # 귀무가설: 아메리카노 한 잔의 평균은 120g이다.\n",
    "    # 대립가설: 아메리카노 한 잔의 평균은 120g보다 작다.\n",
    "\n",
    "# 1 정규성 검정 먼저\n",
    "    # 귀무가설: 주어진 샘플 데이터는 정규 분포를 따른다.\n",
    "    # 대립가설: 주어진 샘플 데이터는 정규 분포를 따르지 않는다.\n",
    "alpha = 0.05\n",
    "df = pd.DataFrame({\n",
    "    'weights':[125, 126, 118, 124, 117, 127, 123, 122, 119, 142]\n",
    "})\n",
    "\n",
    "from scipy.stats import shapiro\n",
    "t_statistic, p_value = shapiro(df['weights'])\n",
    "print(p_value)\n",
    "# 유의수준보다 작기 때문에, 대립가설 채택: 주어진 샘플 데이터는 정규 분포를 따르지 않는다.\n",
    "\n",
    "# 2 정규 분포를 따르지 않을 때는 > 윌콕슨의 부호 순위 검정을 진행\n",
    "    # 윌콕슨의 부호 순위 검정은 평균이 아닌 중앙값에 대한 가설을 검정\n",
    "    # 때문에 데이터에서 검증하려는 값을 빼고 대입\n",
    "    \n",
    "from scipy.stats import wilcoxon\n",
    "    # 귀무 가설: 주어진 샘플 데이터의 중앙값은 120g이다.\n",
    "    # 대립 가설: 주어진 샘플 데이터의 중값값은 120g보다 작다.\n",
    "t_statistic, p_value = wilcoxon(df['weights']-120, alternative='less')\n",
    "print(p_value)\n",
    "# alpha 보다 크므로,\n",
    "    # 귀무 가설을 기각할 수 없음, 대립 가설 기각: 주어진 샘플 데이터의 중앙값은 120g이다.\n",
    "    # (120g보다 클 수도 있음, 검증 해야봐야 앎)"
   ]
  },
  {
   "cell_type": "markdown",
   "metadata": {},
   "source": [
    "#### 대응 표본검정"
   ]
  },
  {
   "cell_type": "code",
   "execution_count": 1,
   "metadata": {},
   "outputs": [],
   "source": [
    "# 같은 그룹에서 나온 데이터를 비교할 때 사용\n",
    "# from scipy.stats import ttest_rel(a, b, alternative)\n",
    "    # a : before\n",
    "    # b : after 로 주로 사용\n",
    "    # alternative :\n",
    "        # less: a의 평균이 b보다 작다\n",
    "        # greater: a의 평균이 b보다 크다\n",
    "        # two-sided: a의 평균과 b의 평균은 다르다"
   ]
  },
  {
   "cell_type": "code",
   "execution_count": 8,
   "metadata": {},
   "outputs": [],
   "source": [
    "import pandas as pd\n",
    "df = pd.DataFrame({\n",
    "    'before':[85, 90, 92, 88, 86, 89, 83, 87],\n",
    "    'after':[85.5,89.9,92.6,89.5,85.8,88.8,84.6,87.8]\n",
    "})"
   ]
  },
  {
   "cell_type": "code",
   "execution_count": 9,
   "metadata": {},
   "outputs": [
    {
     "data": {
      "text/plain": [
       "TtestResult(statistic=-2.2127749675452324, pvalue=0.03127028733756238, df=7)"
      ]
     },
     "execution_count": 9,
     "metadata": {},
     "output_type": "execute_result"
    }
   ],
   "source": [
    "from scipy.stats import ttest_rel\n",
    "ttest_rel(df['before'], df['after'], alternative='less')\n",
    "# 귀무가설: before의 평균은 after와 같다\n",
    "# 대립가설: before의 평균은 after보다 작다.\n",
    "    # 귀무가설 기각, 대립가설 채택"
   ]
  },
  {
   "cell_type": "code",
   "execution_count": 10,
   "metadata": {},
   "outputs": [
    {
     "data": {
      "text/plain": [
       "TtestResult(statistic=-2.2127749675452324, pvalue=0.9687297126624377, df=7)"
      ]
     },
     "execution_count": 10,
     "metadata": {},
     "output_type": "execute_result"
    }
   ],
   "source": [
    "from scipy.stats import ttest_rel\n",
    "ttest_rel(df['before'], df['after'], alternative='greater')\n",
    "# 귀무가설: before의 평균은 after와 같다.\n",
    "# 대립가설: before의 평균은 after보다 크다.\n",
    "    # 귀무가설 기각하지 못함"
   ]
  },
  {
   "cell_type": "code",
   "execution_count": 11,
   "metadata": {},
   "outputs": [
    {
     "data": {
      "text/plain": [
       "TtestResult(statistic=-2.2127749675452324, pvalue=0.06254057467512476, df=7)"
      ]
     },
     "execution_count": 11,
     "metadata": {},
     "output_type": "execute_result"
    }
   ],
   "source": [
    "from scipy.stats import ttest_rel\n",
    "ttest_rel(df['before'], df['after'], alternative='two-sided')\n",
    "# 귀무가설: before의 평균은 after와 같다.\n",
    "# 대립가설: before의 평균은 after보다 다르다.\n",
    "    # 귀무가설 기각하지 못함"
   ]
  },
  {
   "cell_type": "code",
   "execution_count": 12,
   "metadata": {},
   "outputs": [],
   "source": [
    "# 심화 학습\n",
    "    # 문제에서 데이터가 정규 분포를 따른다고 명시적으로 작성하지 않았다면,\n",
    "    # 우선적으로 정규성 검정을 실시해야 한다.\n",
    "    \n",
    "# 정규성을 따른다면?\n",
    "    # > 대응 표본검정 진행\n",
    "# 정규성을 안 따른다면?\n",
    "    # > 윌콕슨 부호 순위 검정 진행(중앙값 비교)"
   ]
  },
  {
   "cell_type": "code",
   "execution_count": 13,
   "metadata": {},
   "outputs": [
    {
     "name": "stdout",
     "output_type": "stream",
     "text": [
      "ShapiroResult(statistic=0.885486928626845, pvalue=0.21232743678800203)\n"
     ]
    }
   ],
   "source": [
    "# 샤피로로로 after, before 그리고 두 데이터의 차이가 정규분포를 따르는지 확인\n",
    "# 하기 위해서 두 표본의 차이를 입력하면 된다.\n",
    "# 차이를 빼는 순서는 ttest_rel 에 넣는 순서와 같은 편이 좋다.\n",
    "from scipy.stats import shapiro\n",
    "df['diff'] = df['before'] - df['after']\n",
    "\n",
    "print(shapiro(df['diff']))\n",
    "# 모두 0.05보다 크므로 정규 분포를 만족함"
   ]
  },
  {
   "cell_type": "code",
   "execution_count": 16,
   "metadata": {},
   "outputs": [
    {
     "name": "stdout",
     "output_type": "stream",
     "text": [
      "ShapiroResult(statistic=0.6886147375920879, pvalue=0.0016734051223900109)\n",
      "WilcoxonResult(statistic=7.0, pvalue=0.07421875)\n"
     ]
    }
   ],
   "source": [
    "# 새로운 데이터로 진행\n",
    "df = pd.DataFrame({\n",
    "    'before':[85, 90, 92, 88, 86, 89, 83, 87],\n",
    "    'after':[86, 92, 94, 89, 84, 90, 84, 88]\n",
    "})\n",
    "# 새로운 교육 프로그램이 효과가 있는지 궁금한 상황\n",
    "\n",
    "from scipy.stats import shapiro\n",
    "print(shapiro(df['before'] - df['after']))\n",
    "# 귀무가설: 주어진 데이터 샘플이 정규 분포를 따른다.\n",
    "# 대립가설: 주어진 데이터 샘플이 정규 분포를 따르지 않는다.\n",
    "    # 0.05보다 작으므로 귀무가설 기각\n",
    "    # > 이럴 때는 윌콕스 부호 검정을 사용\n",
    "    \n",
    "from scipy.stats import wilcoxon\n",
    "print(wilcoxon(df['before'], df['after'], alternative='less'))\n",
    "# 0.0.7로 유의수준보다 크므로\n",
    "# 귀무가설(교육 전 후 성적의 평균은 같다.)를 기각하지 못한다."
   ]
  },
  {
   "cell_type": "markdown",
   "metadata": {},
   "source": [
    "#### 독립 표본검정"
   ]
  },
  {
   "cell_type": "code",
   "execution_count": null,
   "metadata": {},
   "outputs": [],
   "source": [
    "# 두 표본 간의 평균이 통계적으로 유의미하게 다른지 판단하는 통계 방법\n",
    "# from scipy.stats import ttest_ind\n",
    "    # ttest_ind(a, b, alternative, equal_var)\n",
    "        # 표본 집단 a\n",
    "        # 표본 집단 b\n",
    "        # alternative\n",
    "            # less: a의 평균이 b보다 작다.\n",
    "            # greater: a의 평균이 b보다 크다.\n",
    "            # two-sided: a와 b의 평균은 다르다\n",
    "        # equal_var\n",
    "            # True: 두 모집단의 분산이 같다고 가정\n",
    "            # False: 두 모집단의 분산이 다르다고 가정"
   ]
  },
  {
   "cell_type": "code",
   "execution_count": 19,
   "metadata": {},
   "outputs": [],
   "source": [
    "# 두 개의 반별 수학 시험 점수에 차이가 있는지 검정(유의수준 0.05)\n",
    "import pandas as pd\n",
    "class1 = [85, 90, 92, 88, 86, 89, 83, 87]\n",
    "class2 = [80, 82, 88, 85, 84]"
   ]
  },
  {
   "cell_type": "code",
   "execution_count": 25,
   "metadata": {},
   "outputs": [
    {
     "name": "stdout",
     "output_type": "stream",
     "text": [
      "TtestResult(statistic=2.2108140580092237, pvalue=0.04914857789252186, df=11.0)\n",
      "TtestResult(statistic=2.1818699281825236, pvalue=0.059589330071355334, df=8.272682358753572)\n"
     ]
    }
   ],
   "source": [
    "# 귀무가설: 반별 수학 평균 점수는 같다.\n",
    "# 대립가설: 반별 수학 평균 점수는 다르다.\n",
    "\n",
    "from scipy.stats import ttest_ind\n",
    "# 분산이 같은 경우, 다른 경우를 모두 진행\n",
    "    # 분산이 같다는 가정\n",
    "print(ttest_ind(class1, class2, alternative='two-sided', equal_var=True))\n",
    "    # 0.05 보다 작으므로 대립가성 채택\n",
    "    \n",
    "    # 분산이 다르다는 가정\n",
    "print(ttest_ind(class1, class2, alternative='two-sided', equal_var=False))\n",
    "    # 0.05 보다 크므로 귀무가설을 기각하지 못함"
   ]
  },
  {
   "cell_type": "code",
   "execution_count": 29,
   "metadata": {},
   "outputs": [
    {
     "data": {
      "text/plain": [
       "TtestResult(statistic=-2.2108140580092237, pvalue=0.9754257110537391, df=11.0)"
      ]
     },
     "execution_count": 29,
     "metadata": {},
     "output_type": "execute_result"
    }
   ],
   "source": [
    "# 귀무가설: 1반과 2반의 평균 점수는 같다.\n",
    "# 대립가설: 2반 평균 점수가 더 높다.\n",
    "    # 두 표본의 모분산은 동일하다.\n",
    "    \n",
    "ttest_ind(class2, class1, alternative='greater', equal_var=True)\n",
    "# 0.05보다 크므로 귀무가설을 기각하지 못한다."
   ]
  },
  {
   "cell_type": "code",
   "execution_count": 31,
   "metadata": {},
   "outputs": [
    {
     "data": {
      "text/plain": [
       "TtestResult(statistic=2.2108140580092237, pvalue=0.02457428894626093, df=11.0)"
      ]
     },
     "execution_count": 31,
     "metadata": {},
     "output_type": "execute_result"
    }
   ],
   "source": [
    "# 귀무가설: 1반과 2반의 평균 점수는 같다.\n",
    "# 대립가설: 1반의 평균 점수가 더 높다.\n",
    "    # 두 표본의 모분산은 동일하다.\n",
    "    \n",
    "ttest_ind(class1, class2, alternative='greater', equal_var=True)\n",
    "# 0.02로 유의수준보다 작으므로 대립가설을 채택"
   ]
  },
  {
   "cell_type": "code",
   "execution_count": 32,
   "metadata": {},
   "outputs": [],
   "source": [
    "# 심화 학습"
   ]
  },
  {
   "cell_type": "code",
   "execution_count": 34,
   "metadata": {},
   "outputs": [],
   "source": [
    "# 독립 표본 검정을 수행할 때는\n",
    "    # 데이터가 정규분포를 갖는지 (shapiro)\n",
    "        # → 등분산성을 가짐\n",
    "            # → 데이터의 모분산이 같은지 (levene)\n",
    "                # → 등분산성이고 모분산이 같음: ttest_ind, equal_var=True\n",
    "                # → 등분산성이고 모분산이 다음: ttest_ind, equal_var=False\n",
    "        # 정규분포를를 갖지 않음: 맨휘트니u검정 manwhitneyu(a, b, alternative)\n",
    "    \n",
    "    # 의 순서로 확인한다."
   ]
  },
  {
   "cell_type": "code",
   "execution_count": 46,
   "metadata": {},
   "outputs": [
    {
     "name": "stdout",
     "output_type": "stream",
     "text": [
      "ShapiroResult(statistic=0.9981893537736595, pvalue=0.999986994137081)\n",
      "ShapiroResult(statistic=0.9917398436295009, pvalue=0.9854182266624983)\n",
      "LeveneResult(statistic=0.0027925869510027727, pvalue=0.958802951766629)\n"
     ]
    },
    {
     "data": {
      "text/plain": [
       "TtestResult(statistic=2.2108140580092237, pvalue=0.9754257110537391, df=11.0)"
      ]
     },
     "execution_count": 46,
     "metadata": {},
     "output_type": "execute_result"
    }
   ],
   "source": [
    "# 1반과 2반의 평균 점수 차이가 있는지 0.05에서 가설 검정\n",
    "    # 귀무가설: 반별 수학 점수는 같다.\n",
    "    # 대립가설: 2반 점수가 더 높다.\n",
    "    \n",
    "class1 = [85, 90, 92, 88, 86, 89, 83, 87]\n",
    "class2 = [80, 82, 88, 85, 84]\n",
    "\n",
    "# 1 | 데이터가 정규분포를 갖는지\n",
    "from scipy.stats import shapiro\n",
    "print(shapiro(class1))\n",
    "print(shapiro(class2))\n",
    "    # 둘 다 0.05를 넘어 귀무가설인 데이터는 정규분포를 갖는다를 채택\n",
    "\n",
    "# 2 | 데이터의 모분산이 같은지\n",
    "from scipy.stats import levene\n",
    "print(levene(class1, class2))\n",
    "# 0.05보다 크므로 귀무가설인 등분산성이다를 채택\n",
    "\n",
    "# 3 | 독립표본 검정\n",
    "from scipy.stats import ttest_ind\n",
    "ttest_ind(class1, class2, alternative='less', equal_var=True)\n",
    "# 0.9 이므로 귀무가설인 반별 수학 점수는 같다를 채택"
   ]
  },
  {
   "cell_type": "code",
   "execution_count": 55,
   "metadata": {},
   "outputs": [
    {
     "name": "stdout",
     "output_type": "stream",
     "text": [
      "ShapiroResult(statistic=0.9981893537736595, pvalue=0.999986994137081)\n",
      "ShapiroResult(statistic=0.6880497349322277, pvalue=0.007151570728885509)\n"
     ]
    },
    {
     "data": {
      "text/plain": [
       "MannwhitneyuResult(statistic=26.0, pvalue=0.8299904236851448)"
      ]
     },
     "execution_count": 55,
     "metadata": {},
     "output_type": "execute_result"
    }
   ],
   "source": [
    "# 정규분포를 갖지 않는 데이터를 사용해서 검정\n",
    "class1 = [85, 90, 92, 88, 86, 89, 83, 87]\n",
    "class2 = [80, 82, 88, 85, 130]\n",
    "\n",
    "from scipy.stats import shapiro\n",
    "print(shapiro(class1))\n",
    "print(shapiro(class2))\n",
    "# class1이 정규분포를 만족하지 않음\n",
    "    # > manwhitneyu를 사용\n",
    "    \n",
    "from scipy.stats import mannwhitneyu\n",
    "mannwhitneyu(class1, class2, alternative='less')\n",
    "# 0.8이므로 귀무가설인 두 반의 평균은 같다을 채택"
   ]
  }
 ],
 "metadata": {
  "kernelspec": {
   "display_name": "big",
   "language": "python",
   "name": "python3"
  },
  "language_info": {
   "codemirror_mode": {
    "name": "ipython",
    "version": 3
   },
   "file_extension": ".py",
   "mimetype": "text/x-python",
   "name": "python",
   "nbconvert_exporter": "python",
   "pygments_lexer": "ipython3",
   "version": "3.10.14"
  }
 },
 "nbformat": 4,
 "nbformat_minor": 2
}
