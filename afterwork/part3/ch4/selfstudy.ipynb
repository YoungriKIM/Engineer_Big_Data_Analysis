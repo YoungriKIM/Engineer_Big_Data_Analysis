{
 "cells": [
  {
   "cell_type": "markdown",
   "metadata": {},
   "source": [
    "#### 상관계수 검정\n",
    "- 두 변수 간의 선형적 관계를 확인하는 방법\n",
    "- 두 변수 간의 연관성 정도를 파악 가능"
   ]
  },
  {
   "cell_type": "code",
   "execution_count": 17,
   "metadata": {},
   "outputs": [],
   "source": [
    "# 가설 설정\n",
    "    # 귀무가설: 두 변수는 선형적 관계가 없다.\n",
    "    # 대립가설: 두 변수는 선형적 관계가 있다.\n",
    "    \n",
    "# 두 변수 간 피어슨 상관계수 계산\n",
    "    # from scipy.stats import pearsonr\n",
    "    # statistic, p_value = pearsonr(df['변수1'], df['변수2'])\n",
    "\n",
    "# 두 변수 간 스피어맨 순위 상관계수 계산\n",
    "    # from scipy.stats import spearmanr\n",
    "    # statistic, p_value = spearmanr(df['변수1'], df['변수2'])\n",
    "\n",
    "# 두 변수 간 켄달 타우 상관계수 계산\n",
    "    # from scipy.stats import kendalltau\n",
    "    # statistic, p_value = kendalltau(df['변수1'], df['변수2'])\n"
   ]
  },
  {
   "cell_type": "code",
   "execution_count": 3,
   "metadata": {},
   "outputs": [
    {
     "name": "stdout",
     "output_type": "stream",
     "text": [
      "            키       몸무게\n",
      "키    1.000000  0.919509\n",
      "몸무게  0.919509  1.000000\n"
     ]
    }
   ],
   "source": [
    "import pandas as pd\n",
    "# 주어진 데이터\n",
    "data = {\n",
    "    '키': [150, 160, 170, 175, 165],\n",
    "    '몸무게': [42, 50, 70, 64, 56]\n",
    "}\n",
    "df = pd.DataFrame(data)\n",
    "\n",
    "# 상관계수 계산\n",
    "correlation = df.corr()\n",
    "print(correlation)"
   ]
  },
  {
   "cell_type": "code",
   "execution_count": 5,
   "metadata": {},
   "outputs": [
    {
     "data": {
      "text/plain": [
       "0.9195090879163764"
      ]
     },
     "execution_count": 5,
     "metadata": {},
     "output_type": "execute_result"
    }
   ],
   "source": [
    "correlation.iloc[0, 1]"
   ]
  },
  {
   "cell_type": "code",
   "execution_count": 8,
   "metadata": {},
   "outputs": [
    {
     "data": {
      "text/plain": [
       "0.9195090879163765"
      ]
     },
     "execution_count": 8,
     "metadata": {},
     "output_type": "execute_result"
    }
   ],
   "source": [
    "df['키'].corr(df['몸무게'])\n",
    "df['몸무게'].corr(df['키'])"
   ]
  },
  {
   "cell_type": "code",
   "execution_count": 13,
   "metadata": {},
   "outputs": [
    {
     "name": "stdout",
     "output_type": "stream",
     "text": [
      "---- 피어슨\n",
      "            키       몸무게\n",
      "키    1.000000  0.919509\n",
      "몸무게  0.919509  1.000000\n",
      "----스피어맨\n",
      "       키  몸무게\n",
      "키    1.0  0.9\n",
      "몸무게  0.9  1.0\n",
      "----켄달타우\n",
      "       키  몸무게\n",
      "키    1.0  0.8\n",
      "몸무게  0.8  1.0\n"
     ]
    }
   ],
   "source": [
    "# 상관계수 변경하기\n",
    "\n",
    "# 1 피어슨 상관계수 (기본값)\n",
    "print('---- 피어슨')\n",
    "print(df.corr())\n",
    "\n",
    "# 2 스피어맨 상관계수\n",
    "print('----스피어맨')\n",
    "print(df.corr(method='spearman'))\n",
    "\n",
    "# 3 켄달타우 상관계수\n",
    "print('----켄달타우')\n",
    "print(df.corr(method='kendall'))"
   ]
  },
  {
   "cell_type": "code",
   "execution_count": 16,
   "metadata": {},
   "outputs": [
    {
     "name": "stdout",
     "output_type": "stream",
     "text": [
      "---- 피어슨\n",
      "PearsonRResult(statistic=0.9195090879163765, pvalue=0.02707945689558949)\n",
      "----스피어맨\n",
      "SignificanceResult(statistic=0.8999999999999998, pvalue=0.03738607346849874)\n",
      "----켄달타우\n",
      "SignificanceResult(statistic=0.7999999999999999, pvalue=0.08333333333333333)\n"
     ]
    }
   ],
   "source": [
    "# 각 방법에 대해서 p-value까지 확인하기\n",
    "# from scipy.stats import pearsonr, spearmanr, kendalltau\n",
    "\n",
    "from scipy.stats import pearsonr, spearmanr, kendalltau\n",
    "\n",
    "print('---- 피어슨')\n",
    "print(pearsonr(df['몸무게'], df['키']))\n",
    "\n",
    "print('----스피어맨')\n",
    "print(spearmanr(df['몸무게'], df['키']))\n",
    "\n",
    "print('----켄달타우')\n",
    "print(kendalltau(df['몸무게'], df['키']))\n"
   ]
  }
 ],
 "metadata": {
  "kernelspec": {
   "display_name": "asg",
   "language": "python",
   "name": "python3"
  },
  "language_info": {
   "codemirror_mode": {
    "name": "ipython",
    "version": 3
   },
   "file_extension": ".py",
   "mimetype": "text/x-python",
   "name": "python",
   "nbconvert_exporter": "python",
   "pygments_lexer": "ipython3",
   "version": "3.10.14"
  }
 },
 "nbformat": 4,
 "nbformat_minor": 2
}
