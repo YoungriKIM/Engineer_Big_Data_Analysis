{
 "cells": [
  {
   "cell_type": "markdown",
   "metadata": {},
   "source": [
    "#### 회귀 분석\n",
    "- 수치형 변수 간의 관계 또는 Input(원인)과 Output(결과) 간의 관계를 추정하거나 예측하는 사용"
   ]
  },
  {
   "cell_type": "markdown",
   "metadata": {},
   "source": [
    "##### 상관계수 검정\n",
    "- 두 변수 간의 선형적 관계를 확인하는 방법\n",
    "- 두 변수 간의 연관성 정도를 강도와 방향으로 측정"
   ]
  },
  {
   "cell_type": "code",
   "execution_count": 2,
   "metadata": {},
   "outputs": [],
   "source": [
    "# -1 <= r <= 1\n",
    "    # 1에 가까울 수록 강한 양의 선형 관계\n",
    "    # 0에 가까울 수록 약한 선형 관계\n",
    "    # -1에 가까울 수록 강한 음의 선형 관계\n",
    "    \n",
    "# 선형관계는 pandas의 corr()로 계산\n",
    "    # pandas.DataFrame.corr(method='pearson', numeric_only=False)\n",
    "        # method = 'preason' : 피어슨 (기본값)\n",
    "        # method = 'kendall' : 켄달의 타우\n",
    "        # method = 'spearman' : 스피어만"
   ]
  },
  {
   "cell_type": "code",
   "execution_count": 3,
   "metadata": {},
   "outputs": [
    {
     "data": {
      "text/html": [
       "<div>\n",
       "<style scoped>\n",
       "    .dataframe tbody tr th:only-of-type {\n",
       "        vertical-align: middle;\n",
       "    }\n",
       "\n",
       "    .dataframe tbody tr th {\n",
       "        vertical-align: top;\n",
       "    }\n",
       "\n",
       "    .dataframe thead th {\n",
       "        text-align: right;\n",
       "    }\n",
       "</style>\n",
       "<table border=\"1\" class=\"dataframe\">\n",
       "  <thead>\n",
       "    <tr style=\"text-align: right;\">\n",
       "      <th></th>\n",
       "      <th>키</th>\n",
       "      <th>몸무게</th>\n",
       "    </tr>\n",
       "  </thead>\n",
       "  <tbody>\n",
       "    <tr>\n",
       "      <th>키</th>\n",
       "      <td>1.000000</td>\n",
       "      <td>0.919509</td>\n",
       "    </tr>\n",
       "    <tr>\n",
       "      <th>몸무게</th>\n",
       "      <td>0.919509</td>\n",
       "      <td>1.000000</td>\n",
       "    </tr>\n",
       "  </tbody>\n",
       "</table>\n",
       "</div>"
      ],
      "text/plain": [
       "            키       몸무게\n",
       "키    1.000000  0.919509\n",
       "몸무게  0.919509  1.000000"
      ]
     },
     "execution_count": 3,
     "metadata": {},
     "output_type": "execute_result"
    }
   ],
   "source": [
    "# 학생들의 키와 몸무게 데이터로 상관 계수 구하기\n",
    "\n",
    "import pandas as pd\n",
    "\n",
    "# 주어진 데이터\n",
    "data = {\n",
    "    '키': [150, 160, 170, 175, 165],\n",
    "    '몸무게': [42, 50, 70, 64, 56]\n",
    "}\n",
    "df = pd.DataFrame(data)\n",
    "\n",
    "df.corr()"
   ]
  },
  {
   "cell_type": "code",
   "execution_count": 4,
   "metadata": {},
   "outputs": [
    {
     "data": {
      "text/plain": [
       "0.9195090879163765"
      ]
     },
     "execution_count": 4,
     "metadata": {},
     "output_type": "execute_result"
    }
   ],
   "source": [
    "# 혹은 두 변수에 대한 상관 관계만 구할 수도 있다\n",
    "df['키'].corr(df['몸무게'])"
   ]
  },
  {
   "cell_type": "code",
   "execution_count": 5,
   "metadata": {},
   "outputs": [
    {
     "data": {
      "text/html": [
       "<div>\n",
       "<style scoped>\n",
       "    .dataframe tbody tr th:only-of-type {\n",
       "        vertical-align: middle;\n",
       "    }\n",
       "\n",
       "    .dataframe tbody tr th {\n",
       "        vertical-align: top;\n",
       "    }\n",
       "\n",
       "    .dataframe thead th {\n",
       "        text-align: right;\n",
       "    }\n",
       "</style>\n",
       "<table border=\"1\" class=\"dataframe\">\n",
       "  <thead>\n",
       "    <tr style=\"text-align: right;\">\n",
       "      <th></th>\n",
       "      <th>키</th>\n",
       "      <th>몸무게</th>\n",
       "    </tr>\n",
       "  </thead>\n",
       "  <tbody>\n",
       "    <tr>\n",
       "      <th>키</th>\n",
       "      <td>1.000000</td>\n",
       "      <td>0.919509</td>\n",
       "    </tr>\n",
       "    <tr>\n",
       "      <th>몸무게</th>\n",
       "      <td>0.919509</td>\n",
       "      <td>1.000000</td>\n",
       "    </tr>\n",
       "  </tbody>\n",
       "</table>\n",
       "</div>"
      ],
      "text/plain": [
       "            키       몸무게\n",
       "키    1.000000  0.919509\n",
       "몸무게  0.919509  1.000000"
      ]
     },
     "metadata": {},
     "output_type": "display_data"
    },
    {
     "data": {
      "text/html": [
       "<div>\n",
       "<style scoped>\n",
       "    .dataframe tbody tr th:only-of-type {\n",
       "        vertical-align: middle;\n",
       "    }\n",
       "\n",
       "    .dataframe tbody tr th {\n",
       "        vertical-align: top;\n",
       "    }\n",
       "\n",
       "    .dataframe thead th {\n",
       "        text-align: right;\n",
       "    }\n",
       "</style>\n",
       "<table border=\"1\" class=\"dataframe\">\n",
       "  <thead>\n",
       "    <tr style=\"text-align: right;\">\n",
       "      <th></th>\n",
       "      <th>키</th>\n",
       "      <th>몸무게</th>\n",
       "    </tr>\n",
       "  </thead>\n",
       "  <tbody>\n",
       "    <tr>\n",
       "      <th>키</th>\n",
       "      <td>1.0</td>\n",
       "      <td>0.9</td>\n",
       "    </tr>\n",
       "    <tr>\n",
       "      <th>몸무게</th>\n",
       "      <td>0.9</td>\n",
       "      <td>1.0</td>\n",
       "    </tr>\n",
       "  </tbody>\n",
       "</table>\n",
       "</div>"
      ],
      "text/plain": [
       "       키  몸무게\n",
       "키    1.0  0.9\n",
       "몸무게  0.9  1.0"
      ]
     },
     "metadata": {},
     "output_type": "display_data"
    },
    {
     "data": {
      "text/html": [
       "<div>\n",
       "<style scoped>\n",
       "    .dataframe tbody tr th:only-of-type {\n",
       "        vertical-align: middle;\n",
       "    }\n",
       "\n",
       "    .dataframe tbody tr th {\n",
       "        vertical-align: top;\n",
       "    }\n",
       "\n",
       "    .dataframe thead th {\n",
       "        text-align: right;\n",
       "    }\n",
       "</style>\n",
       "<table border=\"1\" class=\"dataframe\">\n",
       "  <thead>\n",
       "    <tr style=\"text-align: right;\">\n",
       "      <th></th>\n",
       "      <th>키</th>\n",
       "      <th>몸무게</th>\n",
       "    </tr>\n",
       "  </thead>\n",
       "  <tbody>\n",
       "    <tr>\n",
       "      <th>키</th>\n",
       "      <td>1.0</td>\n",
       "      <td>0.8</td>\n",
       "    </tr>\n",
       "    <tr>\n",
       "      <th>몸무게</th>\n",
       "      <td>0.8</td>\n",
       "      <td>1.0</td>\n",
       "    </tr>\n",
       "  </tbody>\n",
       "</table>\n",
       "</div>"
      ],
      "text/plain": [
       "       키  몸무게\n",
       "키    1.0  0.8\n",
       "몸무게  0.8  1.0"
      ]
     },
     "metadata": {},
     "output_type": "display_data"
    }
   ],
   "source": [
    "# method 바꿔서 해보기\n",
    "\n",
    "display(df.corr(method='pearson'))\n",
    "display(df.corr(method='spearman'))\n",
    "display(df.corr(method='kendall'))"
   ]
  },
  {
   "cell_type": "code",
   "execution_count": 6,
   "metadata": {},
   "outputs": [
    {
     "name": "stdout",
     "output_type": "stream",
     "text": [
      "PearsonRResult(statistic=0.9195090879163766, pvalue=0.02707945689558947)\n",
      "SignificanceResult(statistic=0.8999999999999998, pvalue=0.03738607346849874)\n",
      "SignificanceResult(statistic=0.7999999999999999, pvalue=0.08333333333333333)\n"
     ]
    }
   ],
   "source": [
    "# 상관계수와 t-검정 결과 확인하기\n",
    "from scipy.stats import pearsonr, spearmanr, kendalltau\n",
    "\n",
    "data = {\n",
    "    '키': [150, 160, 170, 175, 165],\n",
    "    '몸무게': [42, 50, 70, 64, 56]\n",
    "}\n",
    "df = pd.DataFrame(data)\n",
    "\n",
    "# 가설 설정\n",
    "    # 귀무 가설: 두 변수는 선형적 관계가 없다.\n",
    "    # 대립 가설: 두 변수는 선형적 관계가 있다.\n",
    "    \n",
    "print(pearsonr(df['키'], df['몸무게']))\n",
    "# PearsonRResult(statistic=0.9195090879163766, pvalue=0.02707945689558947)\n",
    "# statistic 이 상관계수, 뒤가 p값\n",
    "print(spearmanr(df['키'], df['몸무게']))\n",
    "# SignificanceResult(statistic=0.8999999999999998, pvalue=0.03738607346849874)\n",
    "print(kendalltau(df['키'], df['몸무게']))\n",
    "# SignificanceResult(statistic=0.7999999999999999, pvalue=0.08333333333333333)\n",
    "\n",
    "# 모두 0.05 보다 작은 p값으로 키와 몸무게는 선형적 관계가 있다.\n",
    "# 상관계수는 statistic 값"
   ]
  },
  {
   "cell_type": "markdown",
   "metadata": {},
   "source": [
    "##### 단순 선형 회귀 분석\n",
    "- 하나의 독립변수로부터 하나의 종속변수와의 관계를 분석, 예측하는 방법\n",
    "- '키워드 광고를 많이 하면 판매량이 어떻게 변할까?'\n",
    "  - 키워드 광고 > 독립 변수\n",
    "  - 판매량 > 종속 변수"
   ]
  },
  {
   "cell_type": "code",
   "execution_count": 7,
   "metadata": {},
   "outputs": [],
   "source": [
    "# 키, 몸무게 데이터로 진행\n",
    "import pandas as pd\n",
    "data = {\n",
    "    '키': [150, 160, 170, 175, 165, 155, 172, 168, 174, 158,\n",
    "          162, 173, 156, 159, 167, 163, 171, 169, 176, 161],\n",
    "    '몸무게': [42, 50, 70, 64, 56, 48, 68, 60, 65, 52,\n",
    "            54, 67, 49, 51, 58, 55, 69, 61, 66, 53]\n",
    "}\n",
    "df = pd.DataFrame(data)"
   ]
  },
  {
   "cell_type": "code",
   "execution_count": 8,
   "metadata": {},
   "outputs": [
    {
     "name": "stdout",
     "output_type": "stream",
     "text": [
      "                            OLS Regression Results                            \n",
      "==============================================================================\n",
      "Dep. Variable:                      키   R-squared:                       0.892\n",
      "Model:                            OLS   Adj. R-squared:                  0.886\n",
      "Method:                 Least Squares   F-statistic:                     148.0\n",
      "Date:                Thu, 28 Nov 2024   Prob (F-statistic):           4.04e-10\n",
      "Time:                        21:46:05   Log-Likelihood:                -45.761\n",
      "No. Observations:                  20   AIC:                             95.52\n",
      "Df Residuals:                      18   BIC:                             97.51\n",
      "Df Model:                           1                                         \n",
      "Covariance Type:            nonrobust                                         \n",
      "==============================================================================\n",
      "                 coef    std err          t      P>|t|      [0.025      0.975]\n",
      "------------------------------------------------------------------------------\n",
      "Intercept    115.0676      4.158     27.671      0.000     106.331     123.804\n",
      "몸무게            0.8658      0.071     12.167      0.000       0.716       1.015\n",
      "==============================================================================\n",
      "Omnibus:                        0.985   Durbin-Watson:                   2.609\n",
      "Prob(Omnibus):                  0.611   Jarque-Bera (JB):                0.336\n",
      "Skew:                          -0.315   Prob(JB):                        0.845\n",
      "Kurtosis:                       3.082   Cond. No.                         432.\n",
      "==============================================================================\n",
      "\n",
      "Notes:\n",
      "[1] Standard Errors assume that the covariance matrix of the errors is correctly specified.\n"
     ]
    }
   ],
   "source": [
    "# 최소제곱법을 지표로 하는 단순 선형 회귀 모델을 ols로 만들 수 있다.\n",
    "from statsmodels.formula.api import ols\n",
    "model = ols(\"키 ~몸무게\", df).fit()\n",
    "# 요약을 출력할 수 있다.\n",
    "print(model.summary())\n",
    "\n",
    "# 결과 해석\n",
    "    # 몸무게의 기울기(몸무게 - coef): 0.8658\n",
    "    # 절편의 기울기(Intercept - coef): 115.0676\n",
    "    # 결정계수(R2): R-suqared 0.892\n",
    "    # 몸무게의 p-value: (몸무게 - P>|t): 0.000 (0에 아주가까운 값)"
   ]
  },
  {
   "cell_type": "code",
   "execution_count": 9,
   "metadata": {},
   "outputs": [
    {
     "name": "stdout",
     "output_type": "stream",
     "text": [
      "결정 계수 0.8915914350087261\n",
      "--------------------------------------------------\n",
      "기울기 0.8658438852380184\n",
      "절편 115.06763904471866\n",
      "--------------------------------------------------\n",
      "pvalue: 4.03793255993052e-10\n",
      "--------------------------------------------------\n"
     ]
    }
   ],
   "source": [
    "# 원하는 결과만 출력하기\n",
    "\n",
    "# 회귀 모델의 결정 계수(R2) - rsquared\n",
    "print('결정 계수', model.rsquared)\n",
    "print('-'*50)\n",
    "\n",
    "# 회귀 모델의 회귀 계수 (기울기와 절편) - model.params\n",
    "    # Intercept    115.067639 > 절편\n",
    "    # 몸무게            0.865844 > 기울기\n",
    "print('기울기', model.params['몸무게'])\n",
    "print('절편', model.params['Intercept'])\n",
    "print('-'*50)\n",
    "\n",
    "# 회귀 모델에서 몸무게의 회귀 계수가 통계적으로 유의한지 검정했을 때는 p-value - model.pvalues\n",
    "print('pvalue:', model.pvalues['몸무게'])\n",
    "print('-'*50)"
   ]
  },
  {
   "cell_type": "code",
   "execution_count": 10,
   "metadata": {},
   "outputs": [
    {
     "name": "stdout",
     "output_type": "stream",
     "text": [
      "173.0791793556659\n",
      "--------------------------------------------------\n"
     ]
    }
   ],
   "source": [
    "# 예측하기\n",
    "\n",
    "# 회귀 모델에 몸무게가 67일 때의 예측키 구하기\n",
    "print(model.predict(pd.DataFrame({'몸무게':[67]}))[0])\n",
    "print('-'*50)"
   ]
  },
  {
   "cell_type": "code",
   "execution_count": 11,
   "metadata": {},
   "outputs": [
    {
     "data": {
      "text/html": [
       "<div>\n",
       "<style scoped>\n",
       "    .dataframe tbody tr th:only-of-type {\n",
       "        vertical-align: middle;\n",
       "    }\n",
       "\n",
       "    .dataframe tbody tr th {\n",
       "        vertical-align: top;\n",
       "    }\n",
       "\n",
       "    .dataframe thead th {\n",
       "        text-align: right;\n",
       "    }\n",
       "</style>\n",
       "<table border=\"1\" class=\"dataframe\">\n",
       "  <thead>\n",
       "    <tr style=\"text-align: right;\">\n",
       "      <th></th>\n",
       "      <th>키</th>\n",
       "      <th>몸무게</th>\n",
       "      <th>잔차</th>\n",
       "    </tr>\n",
       "  </thead>\n",
       "  <tbody>\n",
       "    <tr>\n",
       "      <th>0</th>\n",
       "      <td>150</td>\n",
       "      <td>42</td>\n",
       "      <td>-1.433082</td>\n",
       "    </tr>\n",
       "    <tr>\n",
       "      <th>1</th>\n",
       "      <td>160</td>\n",
       "      <td>50</td>\n",
       "      <td>1.640167</td>\n",
       "    </tr>\n",
       "    <tr>\n",
       "      <th>2</th>\n",
       "      <td>170</td>\n",
       "      <td>70</td>\n",
       "      <td>-5.676711</td>\n",
       "    </tr>\n",
       "  </tbody>\n",
       "</table>\n",
       "</div>"
      ],
      "text/plain": [
       "     키  몸무게        잔차\n",
       "0  150   42 -1.433082\n",
       "1  160   50  1.640167\n",
       "2  170   70 -5.676711"
      ]
     },
     "metadata": {},
     "output_type": "display_data"
    },
    {
     "name": "stdout",
     "output_type": "stream",
     "text": [
      "잔차제곱합: 113.74226638884456\n",
      "Mean squared error: 5.687113319442227\n"
     ]
    },
    {
     "data": {
      "text/plain": [
       "5.687113319442227"
      ]
     },
     "execution_count": 11,
     "metadata": {},
     "output_type": "execute_result"
    }
   ],
   "source": [
    "# 평가 지표 계산하기\n",
    "\n",
    "# 회귀 모델의 잔차 제곱합 구하기\n",
    "df['잔차'] = df['키'] - model.predict(df)\n",
    "display(df.head(3))\n",
    "print('잔차제곱합:', sum(df['잔차']**2))\n",
    "\n",
    "# MSE(mean squared error) 구하기 = 잔차의 제곱의 평균\n",
    "print('Mean squared error:', (df['잔차']**2).mean())\n",
    "\n",
    "# MES 라이브러리 사용하기\n",
    "from sklearn.metrics import mean_squared_error\n",
    "mean_squared_error(df['키'], model.predict(df))"
   ]
  },
  {
   "cell_type": "code",
   "execution_count": 12,
   "metadata": {},
   "outputs": [
    {
     "data": {
      "text/html": [
       "<div>\n",
       "<style scoped>\n",
       "    .dataframe tbody tr th:only-of-type {\n",
       "        vertical-align: middle;\n",
       "    }\n",
       "\n",
       "    .dataframe tbody tr th {\n",
       "        vertical-align: top;\n",
       "    }\n",
       "\n",
       "    .dataframe thead th {\n",
       "        text-align: right;\n",
       "    }\n",
       "</style>\n",
       "<table border=\"1\" class=\"dataframe\">\n",
       "  <thead>\n",
       "    <tr style=\"text-align: right;\">\n",
       "      <th></th>\n",
       "      <th>0</th>\n",
       "      <th>1</th>\n",
       "    </tr>\n",
       "  </thead>\n",
       "  <tbody>\n",
       "    <tr>\n",
       "      <th>Intercept</th>\n",
       "      <td>106.330992</td>\n",
       "      <td>123.804286</td>\n",
       "    </tr>\n",
       "    <tr>\n",
       "      <th>몸무게</th>\n",
       "      <td>0.716337</td>\n",
       "      <td>1.015351</td>\n",
       "    </tr>\n",
       "  </tbody>\n",
       "</table>\n",
       "</div>"
      ],
      "text/plain": [
       "                    0           1\n",
       "Intercept  106.330992  123.804286\n",
       "몸무게          0.716337    1.015351"
      ]
     },
     "metadata": {},
     "output_type": "display_data"
    },
    {
     "name": "stdout",
     "output_type": "stream",
     "text": [
      "0    0.716337\n",
      "1    1.015351\n",
      "Name: 몸무게, dtype: float64\n"
     ]
    },
    {
     "data": {
      "text/html": [
       "<div>\n",
       "<style scoped>\n",
       "    .dataframe tbody tr th:only-of-type {\n",
       "        vertical-align: middle;\n",
       "    }\n",
       "\n",
       "    .dataframe tbody tr th {\n",
       "        vertical-align: top;\n",
       "    }\n",
       "\n",
       "    .dataframe thead th {\n",
       "        text-align: right;\n",
       "    }\n",
       "</style>\n",
       "<table border=\"1\" class=\"dataframe\">\n",
       "  <thead>\n",
       "    <tr style=\"text-align: right;\">\n",
       "      <th></th>\n",
       "      <th>mean</th>\n",
       "      <th>mean_se</th>\n",
       "      <th>mean_ci_lower</th>\n",
       "      <th>mean_ci_upper</th>\n",
       "      <th>obs_ci_lower</th>\n",
       "      <th>obs_ci_upper</th>\n",
       "    </tr>\n",
       "  </thead>\n",
       "  <tbody>\n",
       "    <tr>\n",
       "      <th>0</th>\n",
       "      <td>158.359833</td>\n",
       "      <td>0.794986</td>\n",
       "      <td>156.68963</td>\n",
       "      <td>160.030037</td>\n",
       "      <td>152.820798</td>\n",
       "      <td>163.898869</td>\n",
       "    </tr>\n",
       "  </tbody>\n",
       "</table>\n",
       "</div>"
      ],
      "text/plain": [
       "         mean   mean_se  mean_ci_lower  mean_ci_upper  obs_ci_lower  \\\n",
       "0  158.359833  0.794986      156.68963     160.030037    152.820798   \n",
       "\n",
       "   obs_ci_upper  \n",
       "0    163.898869  "
      ]
     },
     "execution_count": 12,
     "metadata": {},
     "output_type": "execute_result"
    }
   ],
   "source": [
    "# 심화\n",
    "\n",
    "# 몸무게의 95% 신뢰 구간을 구하기\n",
    "    # 신뢰 구간은 model.conf_int(alpha = 유의수준)으로 확인\n",
    "display(model.conf_int(alpha=0.05))\n",
    "print(model.conf_int(alpha=0.05).loc['몸무게'])\n",
    "\n",
    "# 몸무게가 50일 때의 예측 키의 신뢰 구간과 예측 구간 \n",
    "    # model.get_prediction(새로운 인풋).summary_frame(alpha)으로 확인\n",
    "model.get_prediction({'몸무게':[50]}).summary_frame(alpha=0.05)"
   ]
  },
  {
   "cell_type": "markdown",
   "metadata": {},
   "source": [
    "##### 다중 선형 회귀 분석\n",
    "- 2개 이상의 독립변수와 하나의 종속변수 간의 관계를 분석"
   ]
  },
  {
   "cell_type": "code",
   "execution_count": 13,
   "metadata": {},
   "outputs": [
    {
     "name": "stdout",
     "output_type": "stream",
     "text": [
      "   매출액  광고비  직원수\n",
      "0  300   70   15\n",
      "1  320   75   16\n",
      "2  250   30   14\n"
     ]
    }
   ],
   "source": [
    "# 독립 변수: 광고비, 직원수\n",
    "# 종속 변수: 매출액                 에 대한 관계 분석\n",
    "import pandas as pd\n",
    "data = {\n",
    "    '매출액': [300, 320, 250, 360, 315, 328, 310, 335, 326, 280,\n",
    "            290, 300, 315, 328, 310, 335, 300, 400, 500, 600],\n",
    "    '광고비': [70, 75, 30, 80, 72, 77, 70, 82, 70, 80,\n",
    "            68, 90, 72, 77, 70, 82, 40, 20, 75, 80],\n",
    "    '직원수': [15, 16, 14, 20, 19, 17, 16, 19, 15, 20,\n",
    "            14, 5, 16, 17, 16, 14, 30, 40, 10, 50]\n",
    "    }\n",
    "df = pd.DataFrame(data)\n",
    "print(df.head(3))"
   ]
  },
  {
   "cell_type": "code",
   "execution_count": 14,
   "metadata": {},
   "outputs": [
    {
     "name": "stdout",
     "output_type": "stream",
     "text": [
      "                            OLS Regression Results                            \n",
      "==============================================================================\n",
      "Dep. Variable:                    매출액   R-squared:                       0.512\n",
      "Model:                            OLS   Adj. R-squared:                  0.454\n",
      "Method:                 Least Squares   F-statistic:                     8.907\n",
      "Date:                Thu, 28 Nov 2024   Prob (F-statistic):            0.00226\n",
      "Time:                        21:46:05   Log-Likelihood:                -108.22\n",
      "No. Observations:                  20   AIC:                             222.4\n",
      "Df Residuals:                      17   BIC:                             225.4\n",
      "Df Model:                           2                                         \n",
      "Covariance Type:            nonrobust                                         \n",
      "==============================================================================\n",
      "                 coef    std err          t      P>|t|      [0.025      0.975]\n",
      "------------------------------------------------------------------------------\n",
      "Intercept    101.0239     71.716      1.409      0.177     -50.284     252.331\n",
      "광고비            1.8194      0.807      2.255      0.038       0.117       3.522\n",
      "직원수            5.9288      1.430      4.147      0.001       2.912       8.945\n",
      "==============================================================================\n",
      "Omnibus:                       30.534   Durbin-Watson:                   1.354\n",
      "Prob(Omnibus):                  0.000   Jarque-Bera (JB):               64.655\n",
      "Skew:                           2.444   Prob(JB):                     9.13e-15\n",
      "Kurtosis:                      10.327   Cond. No.                         401.\n",
      "==============================================================================\n",
      "\n",
      "Notes:\n",
      "[1] Standard Errors assume that the covariance matrix of the errors is correctly specified.\n"
     ]
    }
   ],
   "source": [
    "# 문제1 | 최소제곱법을 이용한 다중 선형 회귀 모델을 구축하고 통계적 요약을 출력\n",
    "from statsmodels.formula.api import ols\n",
    "model = ols(\"매출액 ~ 광고비 + 직원수\", df).fit()\n",
    "print(model.summary())"
   ]
  },
  {
   "cell_type": "code",
   "execution_count": 15,
   "metadata": {},
   "outputs": [
    {
     "data": {
      "text/plain": [
       "0.13316981737040343"
      ]
     },
     "execution_count": 15,
     "metadata": {},
     "output_type": "execute_result"
    }
   ],
   "source": [
    "# 문제2 | 광고비와 매출액의 상관 계수\n",
    "    # 그냥 상관계수라면 >> pd corr() 사용하면 됨\n",
    "df['광고비'].corr(df['매출액'])"
   ]
  },
  {
   "cell_type": "code",
   "execution_count": 16,
   "metadata": {},
   "outputs": [
    {
     "name": "stdout",
     "output_type": "stream",
     "text": [
      "PearsonRResult(statistic=0.13316981737040345, pvalue=0.5756778801904271)\n"
     ]
    },
    {
     "data": {
      "text/plain": [
       "0.5756778801904271"
      ]
     },
     "execution_count": 16,
     "metadata": {},
     "output_type": "execute_result"
    }
   ],
   "source": [
    "# 문제3 | 광고비와 매출액의 t검정의 p value 구하기\n",
    "    # t-검정의 p-value의 경우 scipy.stats.pearsonr을 사용\n",
    "from scipy.stats import pearsonr\n",
    "print(pearsonr(df['광고비'], df['매출액']))\n",
    "pearsonr(df['광고비'], df['매출액'])[1]"
   ]
  },
  {
   "cell_type": "code",
   "execution_count": 17,
   "metadata": {},
   "outputs": [
    {
     "data": {
      "text/plain": [
       "0.5116964327009044"
      ]
     },
     "execution_count": 17,
     "metadata": {},
     "output_type": "execute_result"
    }
   ],
   "source": [
    "# 문제4 | 회귀모델의 결정계수\n",
    "    # r2 는 model.rsquared\n",
    "model.rsquared"
   ]
  },
  {
   "cell_type": "code",
   "execution_count": 18,
   "metadata": {},
   "outputs": [
    {
     "name": "stdout",
     "output_type": "stream",
     "text": [
      "Intercept    101.023872\n",
      "광고비            1.819427\n",
      "직원수            5.928756\n",
      "dtype: float64\n",
      "101.02387228241548\n",
      "1.8194269419344615\n",
      "5.928755546950754\n"
     ]
    }
   ],
   "source": [
    "# 문제5 | 회귀 모델에서 회귀 계수(기울기와 절편)을 구하기\n",
    "    # model.params를 이용\n",
    "print(model.params)\n",
    "# Intercept : 절편\n",
    "# 광고비(독립변수1): 독립변수1의 기울기\n",
    "# 직원수(독립변수2): 독립변수2의 기울기\n",
    "\n",
    "print(model.params['Intercept'])\n",
    "print(model.params['광고비'])\n",
    "print(model.params['직원수'])"
   ]
  },
  {
   "cell_type": "code",
   "execution_count": 19,
   "metadata": {},
   "outputs": [
    {
     "data": {
      "text/plain": [
       "0.037643506476960256"
      ]
     },
     "execution_count": 19,
     "metadata": {},
     "output_type": "execute_result"
    }
   ],
   "source": [
    "# 문제6 | 회귀 모델에서 광고비의 회귀 계수가 통계적으로 유의한지 검정했을 때의 p-value\n",
    "    # 특정 독립변수의 p-value는 model.pvalues['독립변수']\n",
    "model.pvalues['광고비']"
   ]
  },
  {
   "cell_type": "code",
   "execution_count": 20,
   "metadata": {},
   "outputs": [
    {
     "data": {
      "text/plain": [
       "310.57033031815365"
      ]
     },
     "execution_count": 20,
     "metadata": {},
     "output_type": "execute_result"
    }
   ],
   "source": [
    "# 문제7 | 광고비 50, 직원 수 20인 데이터에 대한 매출액 예상\n",
    "    # model.predict(new_df) 이용\n",
    "model.predict(pd.DataFrame({'광고비':[50],\n",
    "                            '직원수':[20]}))[0]"
   ]
  },
  {
   "cell_type": "code",
   "execution_count": 21,
   "metadata": {},
   "outputs": [
    {
     "data": {
      "text/plain": [
       "58686.17827156106"
      ]
     },
     "execution_count": 21,
     "metadata": {},
     "output_type": "execute_result"
    }
   ],
   "source": [
    "# 문제8 | 회귀 모델의 잔차의 제곱합 구하기\n",
    "df['잔차'] = df['매출액'] - model.predict(df)\n",
    "sum(df['잔차']**2)"
   ]
  },
  {
   "cell_type": "code",
   "execution_count": 22,
   "metadata": {},
   "outputs": [
    {
     "data": {
      "text/plain": [
       "2934.3089135780533"
      ]
     },
     "execution_count": 22,
     "metadata": {},
     "output_type": "execute_result"
    }
   ],
   "source": [
    "# 문제9 | 회귀 모델의 MSE 구하기\n",
    "    # mean squared error 잔차 제곱의 평균\n",
    "(df['잔차']**2).mean()"
   ]
  },
  {
   "cell_type": "code",
   "execution_count": 23,
   "metadata": {},
   "outputs": [
    {
     "name": "stdout",
     "output_type": "stream",
     "text": [
      "0    0.116785\n",
      "1    3.522069\n",
      "Name: 광고비, dtype: float64\n",
      "0    2.912406\n",
      "1    8.945105\n",
      "Name: 직원수, dtype: float64\n"
     ]
    }
   ],
   "source": [
    "# 문제10 | 각 변수별 95%의 신뢰 구간 구하기\n",
    "    # model.conf_int(alpha) 이용\n",
    "print(model.conf_int(alpha=0.05).loc['광고비'])\n",
    "print(model.conf_int(alpha=0.05).loc['직원수'])"
   ]
  },
  {
   "cell_type": "code",
   "execution_count": 26,
   "metadata": {},
   "outputs": [
    {
     "data": {
      "text/html": [
       "<div>\n",
       "<style scoped>\n",
       "    .dataframe tbody tr th:only-of-type {\n",
       "        vertical-align: middle;\n",
       "    }\n",
       "\n",
       "    .dataframe tbody tr th {\n",
       "        vertical-align: top;\n",
       "    }\n",
       "\n",
       "    .dataframe thead th {\n",
       "        text-align: right;\n",
       "    }\n",
       "</style>\n",
       "<table border=\"1\" class=\"dataframe\">\n",
       "  <thead>\n",
       "    <tr style=\"text-align: right;\">\n",
       "      <th></th>\n",
       "      <th>mean</th>\n",
       "      <th>mean_se</th>\n",
       "      <th>mean_ci_lower</th>\n",
       "      <th>mean_ci_upper</th>\n",
       "      <th>obs_ci_lower</th>\n",
       "      <th>obs_ci_upper</th>\n",
       "    </tr>\n",
       "  </thead>\n",
       "  <tbody>\n",
       "    <tr>\n",
       "      <th>0</th>\n",
       "      <td>313.330707</td>\n",
       "      <td>22.502058</td>\n",
       "      <td>265.855514</td>\n",
       "      <td>360.8059</td>\n",
       "      <td>180.58875</td>\n",
       "      <td>446.072663</td>\n",
       "    </tr>\n",
       "  </tbody>\n",
       "</table>\n",
       "</div>"
      ],
      "text/plain": [
       "         mean    mean_se  mean_ci_lower  mean_ci_upper  obs_ci_lower  \\\n",
       "0  313.330707  22.502058     265.855514       360.8059     180.58875   \n",
       "\n",
       "   obs_ci_upper  \n",
       "0    446.072663  "
      ]
     },
     "execution_count": 26,
     "metadata": {},
     "output_type": "execute_result"
    }
   ],
   "source": [
    "# 문제11 | 광고비 45, 직원수 22 일 때 95% 신뢰 구간과 예측 구간을 구하기\n",
    "    # 새로운 데이터에 대한 신뢰구간과 예측구간은 get_prediction(new_input).summary_frame(alpha)\n",
    "    # mean_ci_lower 신뢰구간 / obs_ci_upper 예측 구간\n",
    "model.get_prediction(pd.DataFrame({'광고비':[45], '직원수':[22]})).summary_frame(alpha=0.05)"
   ]
  },
  {
   "cell_type": "markdown",
   "metadata": {},
   "source": [
    "##### 범주형 변수\n",
    "- 회귀 분석에서 범주형 변수 사용하기\n",
    "- 통상적으로 원핫 인코딩을 이용해 수치화하고 사용"
   ]
  },
  {
   "cell_type": "code",
   "execution_count": 28,
   "metadata": {},
   "outputs": [
    {
     "data": {
      "text/html": [
       "<div>\n",
       "<style scoped>\n",
       "    .dataframe tbody tr th:only-of-type {\n",
       "        vertical-align: middle;\n",
       "    }\n",
       "\n",
       "    .dataframe tbody tr th {\n",
       "        vertical-align: top;\n",
       "    }\n",
       "\n",
       "    .dataframe thead th {\n",
       "        text-align: right;\n",
       "    }\n",
       "</style>\n",
       "<table border=\"1\" class=\"dataframe\">\n",
       "  <thead>\n",
       "    <tr style=\"text-align: right;\">\n",
       "      <th></th>\n",
       "      <th>study_hours</th>\n",
       "      <th>material_type</th>\n",
       "      <th>score</th>\n",
       "    </tr>\n",
       "  </thead>\n",
       "  <tbody>\n",
       "    <tr>\n",
       "      <th>0</th>\n",
       "      <td>71</td>\n",
       "      <td>강의</td>\n",
       "      <td>95</td>\n",
       "    </tr>\n",
       "    <tr>\n",
       "      <th>1</th>\n",
       "      <td>34</td>\n",
       "      <td>독학</td>\n",
       "      <td>63</td>\n",
       "    </tr>\n",
       "    <tr>\n",
       "      <th>2</th>\n",
       "      <td>91</td>\n",
       "      <td>도서</td>\n",
       "      <td>95</td>\n",
       "    </tr>\n",
       "    <tr>\n",
       "      <th>3</th>\n",
       "      <td>80</td>\n",
       "      <td>독학</td>\n",
       "      <td>80</td>\n",
       "    </tr>\n",
       "    <tr>\n",
       "      <th>4</th>\n",
       "      <td>40</td>\n",
       "      <td>강의</td>\n",
       "      <td>79</td>\n",
       "    </tr>\n",
       "    <tr>\n",
       "      <th>...</th>\n",
       "      <td>...</td>\n",
       "      <td>...</td>\n",
       "      <td>...</td>\n",
       "    </tr>\n",
       "    <tr>\n",
       "      <th>95</th>\n",
       "      <td>54</td>\n",
       "      <td>독학</td>\n",
       "      <td>68</td>\n",
       "    </tr>\n",
       "    <tr>\n",
       "      <th>96</th>\n",
       "      <td>54</td>\n",
       "      <td>독학</td>\n",
       "      <td>68</td>\n",
       "    </tr>\n",
       "    <tr>\n",
       "      <th>97</th>\n",
       "      <td>52</td>\n",
       "      <td>독학</td>\n",
       "      <td>75</td>\n",
       "    </tr>\n",
       "    <tr>\n",
       "      <th>98</th>\n",
       "      <td>24</td>\n",
       "      <td>독학</td>\n",
       "      <td>53</td>\n",
       "    </tr>\n",
       "    <tr>\n",
       "      <th>99</th>\n",
       "      <td>60</td>\n",
       "      <td>강의</td>\n",
       "      <td>92</td>\n",
       "    </tr>\n",
       "  </tbody>\n",
       "</table>\n",
       "<p>100 rows × 3 columns</p>\n",
       "</div>"
      ],
      "text/plain": [
       "    study_hours material_type  score\n",
       "0            71            강의     95\n",
       "1            34            독학     63\n",
       "2            91            도서     95\n",
       "3            80            독학     80\n",
       "4            40            강의     79\n",
       "..          ...           ...    ...\n",
       "95           54            독학     68\n",
       "96           54            독학     68\n",
       "97           52            독학     75\n",
       "98           24            독학     53\n",
       "99           60            강의     92\n",
       "\n",
       "[100 rows x 3 columns]"
      ]
     },
     "execution_count": 28,
     "metadata": {},
     "output_type": "execute_result"
    }
   ],
   "source": [
    "# 범주형 변수 자동 원-핫 인코딩하기\n",
    "    # statsmodels 의 ols는 자동으로 범주형 데이터를 원핫 인코딩 처리해준다.\n",
    "    \n",
    "df = pd.read_csv(\"study.csv\")\n",
    "df\n",
    "\n",
    "# material_type 이 범주형인 데이터"
   ]
  },
  {
   "cell_type": "code",
   "execution_count": 35,
   "metadata": {},
   "outputs": [
    {
     "name": "stdout",
     "output_type": "stream",
     "text": [
      "                            OLS Regression Results                            \n",
      "==============================================================================\n",
      "Dep. Variable:                  score   R-squared:                       0.969\n",
      "Model:                            OLS   Adj. R-squared:                  0.968\n",
      "Method:                 Least Squares   F-statistic:                     991.9\n",
      "Date:                Thu, 28 Nov 2024   Prob (F-statistic):           4.42e-72\n",
      "Time:                        21:55:03   Log-Likelihood:                -238.89\n",
      "No. Observations:                 100   AIC:                             485.8\n",
      "Df Residuals:                      96   BIC:                             496.2\n",
      "Df Model:                           3                                         \n",
      "Covariance Type:            nonrobust                                         \n",
      "=======================================================================================\n",
      "                          coef    std err          t      P>|t|      [0.025      0.975]\n",
      "---------------------------------------------------------------------------------------\n",
      "Intercept              59.2111      0.799     74.147      0.000      57.626      60.796\n",
      "material_type[T.도서]    -8.6696      0.678    -12.778      0.000     -10.016      -7.323\n",
      "material_type[T.독학]   -17.6129      0.634    -27.790      0.000     -18.871     -16.355\n",
      "study_hours             0.4839      0.011     43.810      0.000       0.462       0.506\n",
      "==============================================================================\n",
      "Omnibus:                        1.754   Durbin-Watson:                   2.173\n",
      "Prob(Omnibus):                  0.416   Jarque-Bera (JB):                1.216\n",
      "Skew:                           0.231   Prob(JB):                        0.544\n",
      "Kurtosis:                       3.280   Cond. No.                         228.\n",
      "==============================================================================\n",
      "\n",
      "Notes:\n",
      "[1] Standard Errors assume that the covariance matrix of the errors is correctly specified.\n"
     ]
    }
   ],
   "source": [
    "# 회귀 모델 생성\n",
    "\n",
    "# C(독립변수)를 하지 않아도 자동으로 처리해준다.\n",
    "    # 하지만 C()붙이는 편이 더 안전하다고 생각..\n",
    "from statsmodels.formula.api import ols\n",
    "model = ols(\"score ~ material_type + study_hours\", df).fit()\n",
    "print(model.summary())\n",
    "\n",
    "# 결과에서\n",
    "    # 강의 > Intercept\n",
    "    # 도서\n",
    "    # 독학"
   ]
  }
 ],
 "metadata": {
  "kernelspec": {
   "display_name": "big",
   "language": "python",
   "name": "python3"
  },
  "language_info": {
   "codemirror_mode": {
    "name": "ipython",
    "version": 3
   },
   "file_extension": ".py",
   "mimetype": "text/x-python",
   "name": "python",
   "nbconvert_exporter": "python",
   "pygments_lexer": "ipython3",
   "version": "3.10.14"
  }
 },
 "nbformat": 4,
 "nbformat_minor": 2
}
