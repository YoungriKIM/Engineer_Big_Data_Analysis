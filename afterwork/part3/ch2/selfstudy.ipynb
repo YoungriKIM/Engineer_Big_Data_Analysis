{
 "cells": [
  {
   "cell_type": "markdown",
   "metadata": {},
   "source": [
    "#### 분산 분석(ANOVA): 여러 집단의 평균 차이를 통계적으로 유의미한지 검정하는 방법으로 주로 3개 이상의 집단을 비교할 때 사용"
   ]
  },
  {
   "cell_type": "markdown",
   "metadata": {},
   "source": [
    "#### 일원 분산 분석\n",
    "- 3개 이상의 집단 간의 평균 차이를 검증\n",
    "- 3개 집단을 나누는 요인(원인)이 1개라서 일원\n",
    "- 만약 집단을 나누는 요인이 1개이고 집단의 수가 2개일 때는 t-검정을 적용"
   ]
  },
  {
   "cell_type": "code",
   "execution_count": 4,
   "metadata": {},
   "outputs": [],
   "source": [
    "# 기본 가정\n",
    "    # 독립성: 각 집단의 관측치는 모두 다른 집단의 관측치들과 독립적이다 > 기본 가정\n",
    "    # 정규성: 각 집단에서의 관측치는 정규분포를 따른다 > shapiro\n",
    "    # 등분산성: 모든 집단에서의 관측치는 동일한 분산을 가진다 > levene"
   ]
  },
  {
   "cell_type": "code",
   "execution_count": 5,
   "metadata": {},
   "outputs": [],
   "source": [
    "# 귀무가설: 모든 집단의 평균은 동일하다.\n",
    "# 대립가설: 집단의 평균에는 차이가 있다.(적어도 두 개의 그룹)"
   ]
  },
  {
   "cell_type": "code",
   "execution_count": 6,
   "metadata": {},
   "outputs": [
    {
     "name": "stdout",
     "output_type": "stream",
     "text": [
      "ShapiroResult(statistic=0.9649054066073813, pvalue=0.8400161543468654)\n",
      "ShapiroResult(statistic=0.9468040874196029, pvalue=0.6308700692815115)\n",
      "ShapiroResult(statistic=0.9701646110856055, pvalue=0.892367306190296)\n",
      "ShapiroResult(statistic=0.9752339025839644, pvalue=0.9346854448707653)\n",
      "LeveneResult(statistic=1.9355354288758708, pvalue=0.14127835331346628)\n"
     ]
    },
    {
     "data": {
      "text/plain": [
       "F_onewayResult(statistic=89.12613851177174, pvalue=1.0018381522523723e-16)"
      ]
     },
     "execution_count": 6,
     "metadata": {},
     "output_type": "execute_result"
    }
   ],
   "source": [
    "# scipy.stats.f_oneway 사용하기\n",
    "    # from scipy.stats.f_oneway(sample1, sample2, sample3 ...)\n",
    "    \n",
    "# 4 종류의 비료를 사용한 식물 성장 실험 결과 비교 (유의수준 0.05)\n",
    "import pandas as pd\n",
    "df = pd.DataFrame({\n",
    "    'A': [10.5, 11.3, 10.8, 9.6, 11.1, 10.2, 10.9, 11.4, 10.5, 10.3],\n",
    "    'B': [11.9, 12.4, 12.1, 13.2, 12.5, 11.8, 12.2, 12.9, 12.4, 12.3],\n",
    "    'C': [11.2, 11.7, 11.6, 10.9, 11.3, 11.1, 10.8, 11.5, 11.4, 11.0],\n",
    "    'D': [9.8, 9.4, 9.1, 9.5, 9.6, 9.9, 9.2, 9.7, 9.3, 9.4]\n",
    "})\n",
    "\n",
    "# 1 | 정규분포 확인\n",
    "from scipy.stats import shapiro\n",
    "print(shapiro(df['A']))\n",
    "print(shapiro(df['B']))\n",
    "print(shapiro(df['C']))\n",
    "print(shapiro(df['D']))\n",
    "# 모두 0.05 보다 크므로 귀무가설(정규분포를 따른다)를 채택\n",
    "\n",
    "# 2 | 등분산성 확인\n",
    "from scipy.stats import levene\n",
    "print(levene(df['A'], df['B'], df['C'], df['D']))\n",
    "# 0.05보다 크므로 귀무가설 채택(네 개의 그룹은 분산이 같음)\n",
    "\n",
    "# 3 | 일원 분산 분석 진행\n",
    "from scipy.stats import f_oneway\n",
    "f_oneway(df['A'], df['B'], df['C'], df['D'])\n",
    "# 0.05 보다 작으므로 귀무가설 기각, 대립가설 채택"
   ]
  },
  {
   "cell_type": "code",
   "execution_count": 7,
   "metadata": {},
   "outputs": [
    {
     "data": {
      "text/html": [
       "<div>\n",
       "<style scoped>\n",
       "    .dataframe tbody tr th:only-of-type {\n",
       "        vertical-align: middle;\n",
       "    }\n",
       "\n",
       "    .dataframe tbody tr th {\n",
       "        vertical-align: top;\n",
       "    }\n",
       "\n",
       "    .dataframe thead th {\n",
       "        text-align: right;\n",
       "    }\n",
       "</style>\n",
       "<table border=\"1\" class=\"dataframe\">\n",
       "  <thead>\n",
       "    <tr style=\"text-align: right;\">\n",
       "      <th></th>\n",
       "      <th>비료</th>\n",
       "      <th>성장</th>\n",
       "    </tr>\n",
       "  </thead>\n",
       "  <tbody>\n",
       "    <tr>\n",
       "      <th>0</th>\n",
       "      <td>A</td>\n",
       "      <td>10.5</td>\n",
       "    </tr>\n",
       "    <tr>\n",
       "      <th>1</th>\n",
       "      <td>A</td>\n",
       "      <td>11.3</td>\n",
       "    </tr>\n",
       "    <tr>\n",
       "      <th>2</th>\n",
       "      <td>A</td>\n",
       "      <td>10.8</td>\n",
       "    </tr>\n",
       "    <tr>\n",
       "      <th>3</th>\n",
       "      <td>A</td>\n",
       "      <td>9.6</td>\n",
       "    </tr>\n",
       "    <tr>\n",
       "      <th>4</th>\n",
       "      <td>A</td>\n",
       "      <td>11.1</td>\n",
       "    </tr>\n",
       "  </tbody>\n",
       "</table>\n",
       "</div>"
      ],
      "text/plain": [
       "  비료    성장\n",
       "0  A  10.5\n",
       "1  A  11.3\n",
       "2  A  10.8\n",
       "3  A   9.6\n",
       "4  A  11.1"
      ]
     },
     "metadata": {},
     "output_type": "display_data"
    },
    {
     "data": {
      "text/html": [
       "<div>\n",
       "<style scoped>\n",
       "    .dataframe tbody tr th:only-of-type {\n",
       "        vertical-align: middle;\n",
       "    }\n",
       "\n",
       "    .dataframe tbody tr th {\n",
       "        vertical-align: top;\n",
       "    }\n",
       "\n",
       "    .dataframe thead th {\n",
       "        text-align: right;\n",
       "    }\n",
       "</style>\n",
       "<table border=\"1\" class=\"dataframe\">\n",
       "  <thead>\n",
       "    <tr style=\"text-align: right;\">\n",
       "      <th></th>\n",
       "      <th>비료</th>\n",
       "      <th>성장</th>\n",
       "    </tr>\n",
       "  </thead>\n",
       "  <tbody>\n",
       "    <tr>\n",
       "      <th>35</th>\n",
       "      <td>D</td>\n",
       "      <td>9.9</td>\n",
       "    </tr>\n",
       "    <tr>\n",
       "      <th>36</th>\n",
       "      <td>D</td>\n",
       "      <td>9.2</td>\n",
       "    </tr>\n",
       "    <tr>\n",
       "      <th>37</th>\n",
       "      <td>D</td>\n",
       "      <td>9.7</td>\n",
       "    </tr>\n",
       "    <tr>\n",
       "      <th>38</th>\n",
       "      <td>D</td>\n",
       "      <td>9.3</td>\n",
       "    </tr>\n",
       "    <tr>\n",
       "      <th>39</th>\n",
       "      <td>D</td>\n",
       "      <td>9.4</td>\n",
       "    </tr>\n",
       "  </tbody>\n",
       "</table>\n",
       "</div>"
      ],
      "text/plain": [
       "   비료   성장\n",
       "35  D  9.9\n",
       "36  D  9.2\n",
       "37  D  9.7\n",
       "38  D  9.3\n",
       "39  D  9.4"
      ]
     },
     "metadata": {},
     "output_type": "display_data"
    }
   ],
   "source": [
    "# statsmodels를 이용해서 진행하기\n",
    "# 판다스로 데이터 불러와서 적용\n",
    "df = pd.read_csv('fertilizer.csv')\n",
    "display(df.head())\n",
    "display(df.tail())"
   ]
  },
  {
   "cell_type": "code",
   "execution_count": 8,
   "metadata": {},
   "outputs": [
    {
     "name": "stdout",
     "output_type": "stream",
     "text": [
      "            df    sum_sq    mean_sq          F        PR(>F)\n",
      "C(비료)      3.0  43.21875  14.406250  89.126139  1.001838e-16\n",
      "Residual  36.0   5.81900   0.161639        NaN           NaN\n"
     ]
    }
   ],
   "source": [
    "# '성장'에 대한 '비료' 요인의 영향을 분석하기 위해\n",
    "    # Ordinary Least Squares 모델을 사용하고\n",
    "    # anova linear model에 입력\n",
    "from statsmodels.formula.api import ols\n",
    "from statsmodels.stats.anova import anova_lm\n",
    "\n",
    "# ols에 입력 할 때는\n",
    "    # '성장'에 대한 '비료'의 요인을 분석\n",
    "        # 종속변수: 성상\n",
    "        # 독립변수: 비료 (구분을 ~ 로)\n",
    "    # 비료를 범주형으로 처리해서 넣기 > C(비료)\n",
    "    # 로 컬럼명을 지정\n",
    "model = ols(\"성장 ~C(비료)\", df).fit()\n",
    "\n",
    "# model로 anova lm에 넣기\n",
    "print(anova_lm(model))\n",
    "    # PR이 0.05보다 매우 작으므로\n",
    "    # 비료가 성장에 영향을 안 준다는 귀무가설을 기각"
   ]
  },
  {
   "cell_type": "markdown",
   "metadata": {},
   "source": [
    "#### 이원 분산 분석\n",
    "- 2개 이상의 독립적인 요인(factor)에 대해 각 요인이 종속 변수에 미치는 영향을 검증\n",
    "- 각 요인에 대해 두 가지 이상의 수준이 있을 때 사용하며, 두 요인의 상호작용도 고려할 수 있음\n",
    "- 예를 들어, 비료 종류와 온도라는 두 요인이 성장에 미치는 영향을 분석할 수 있음"
   ]
  },
  {
   "cell_type": "code",
   "execution_count": 9,
   "metadata": {},
   "outputs": [],
   "source": [
    "# 기본 가정\n",
    "    # 독립성: 각 그룹(요인 수준)의 관측치는 다른 그룹의 관측치들과 독립적이어야 한다. (기본 가정)\n",
    "    # 정규성: 각 그룹에서의 관측치는 정규분포를 따라야 한다. > shapiro\n",
    "    # 등분산성: 모든 그룹에서의 관측치는 동일한 분산을 가져야 한다. > levene"
   ]
  },
  {
   "cell_type": "code",
   "execution_count": 10,
   "metadata": {},
   "outputs": [],
   "source": [
    "# 귀무가설과 대립가설\n",
    "# 공부 성적(종속변수)과 공부방법(독립변수1), 공부장소(독립변수2)의 관계를 검증할 때\n",
    "    # 주 효과 1번 요인 - 공부 방법\n",
    "        # 귀무가설: 공부 방법에 따른 성적 차이가 없다.\n",
    "        # 대립가설: 공부 방법에 따른 성적 차이가 있다.\n",
    "    # 주 효과 2번 요인 - 공부 장소\n",
    "        # 귀무가설: 공부 방법에 따른 성적 차이가 없다.\n",
    "        # 대립가설: 공부 방법에 따른 성적 차이가 있다.\n",
    "    # 상호작용 효과 - 요인1과 요인2\n",
    "        # 귀무가설: 요인1과 요인2의 상호작용이 없다.\n",
    "        # 대립가설: 요인1과 요인2의 상호작용이 있다."
   ]
  },
  {
   "cell_type": "code",
   "execution_count": 25,
   "metadata": {},
   "outputs": [
    {
     "data": {
      "text/html": [
       "<div>\n",
       "<style scoped>\n",
       "    .dataframe tbody tr th:only-of-type {\n",
       "        vertical-align: middle;\n",
       "    }\n",
       "\n",
       "    .dataframe tbody tr th {\n",
       "        vertical-align: top;\n",
       "    }\n",
       "\n",
       "    .dataframe thead th {\n",
       "        text-align: right;\n",
       "    }\n",
       "</style>\n",
       "<table border=\"1\" class=\"dataframe\">\n",
       "  <thead>\n",
       "    <tr style=\"text-align: right;\">\n",
       "      <th></th>\n",
       "      <th>나무</th>\n",
       "      <th>비료</th>\n",
       "      <th>성장률</th>\n",
       "    </tr>\n",
       "  </thead>\n",
       "  <tbody>\n",
       "    <tr>\n",
       "      <th>0</th>\n",
       "      <td>A</td>\n",
       "      <td>1</td>\n",
       "      <td>54.967142</td>\n",
       "    </tr>\n",
       "    <tr>\n",
       "      <th>1</th>\n",
       "      <td>A</td>\n",
       "      <td>1</td>\n",
       "      <td>48.617357</td>\n",
       "    </tr>\n",
       "    <tr>\n",
       "      <th>2</th>\n",
       "      <td>A</td>\n",
       "      <td>1</td>\n",
       "      <td>56.476885</td>\n",
       "    </tr>\n",
       "    <tr>\n",
       "      <th>3</th>\n",
       "      <td>A</td>\n",
       "      <td>1</td>\n",
       "      <td>65.230299</td>\n",
       "    </tr>\n",
       "    <tr>\n",
       "      <th>4</th>\n",
       "      <td>A</td>\n",
       "      <td>1</td>\n",
       "      <td>47.658466</td>\n",
       "    </tr>\n",
       "    <tr>\n",
       "      <th>...</th>\n",
       "      <td>...</td>\n",
       "      <td>...</td>\n",
       "      <td>...</td>\n",
       "    </tr>\n",
       "    <tr>\n",
       "      <th>115</th>\n",
       "      <td>D</td>\n",
       "      <td>3</td>\n",
       "      <td>74.015473</td>\n",
       "    </tr>\n",
       "    <tr>\n",
       "      <th>116</th>\n",
       "      <td>D</td>\n",
       "      <td>3</td>\n",
       "      <td>70.652882</td>\n",
       "    </tr>\n",
       "    <tr>\n",
       "      <th>117</th>\n",
       "      <td>D</td>\n",
       "      <td>3</td>\n",
       "      <td>59.313220</td>\n",
       "    </tr>\n",
       "    <tr>\n",
       "      <th>118</th>\n",
       "      <td>D</td>\n",
       "      <td>3</td>\n",
       "      <td>82.428228</td>\n",
       "    </tr>\n",
       "    <tr>\n",
       "      <th>119</th>\n",
       "      <td>D</td>\n",
       "      <td>3</td>\n",
       "      <td>78.519330</td>\n",
       "    </tr>\n",
       "  </tbody>\n",
       "</table>\n",
       "<p>120 rows × 3 columns</p>\n",
       "</div>"
      ],
      "text/plain": [
       "    나무  비료        성장률\n",
       "0    A   1  54.967142\n",
       "1    A   1  48.617357\n",
       "2    A   1  56.476885\n",
       "3    A   1  65.230299\n",
       "4    A   1  47.658466\n",
       "..  ..  ..        ...\n",
       "115  D   3  74.015473\n",
       "116  D   3  70.652882\n",
       "117  D   3  59.313220\n",
       "118  D   3  82.428228\n",
       "119  D   3  78.519330\n",
       "\n",
       "[120 rows x 3 columns]"
      ]
     },
     "execution_count": 25,
     "metadata": {},
     "output_type": "execute_result"
    }
   ],
   "source": [
    "# 네 가지 종류의 나무에 대해서 세 가지 종류의 비료를 사용했을 때 성장률 차이를 유의수준 0.05 에서 검정한다.\n",
    "    # 주 효과1 나무\n",
    "        # 귀무가설: 모든 나무 종류의 성장률은 동일하다.\n",
    "        # 대립가설: 나무 종류의 성장률에는 차이가 있다.\n",
    "    # 주 효과2 비료\n",
    "        # 귀무가설: 모든 비료의 성장률 효과는 동일하다.\n",
    "        # 대립가설: 비료 종류가 성장률에 영향을 준다.\n",
    "    # 상호작용 효과\n",
    "        # 귀무가설: 나무 종류와 비료 간의 상호작용은 성장률에 영향을 주지 않는다.\n",
    "        # 대립가설: 나무 종류와 비료 간의 상호작용은 성장률에 영향을 준다.\n",
    "        \n",
    "df = pd.read_csv(\"tree.csv\")\n",
    "df"
   ]
  },
  {
   "cell_type": "code",
   "execution_count": 27,
   "metadata": {},
   "outputs": [
    {
     "name": "stdout",
     "output_type": "stream",
     "text": [
      "             df       sum_sq      mean_sq          F        PR(>F)\n",
      "나무          3.0  4783.353938  1594.451313  18.855528  6.600012e-10\n",
      "C(비료)       2.0  1127.924259   563.962129   6.669256  1.857612e-03\n",
      "나무:C(비료)    6.0   717.520672   119.586779   1.414199  2.157357e-01\n",
      "Residual  108.0  9132.639448    84.561476        NaN           NaN\n"
     ]
    }
   ],
   "source": [
    "# statsmodels의 ols와 anoval_lm을 사용\n",
    "\n",
    "# model = ols(종속변수 ~요인1 + 요인2 + 요인1:요인2)\n",
    "# anova_lm(model, typ)\n",
    "    # typ=1 : 변수의 순서에 따른 분석\n",
    "    # typ=2 : 각 변수의 독립적인 효과 분석\n",
    "    # tpy=3 : 모든 변수와 상호작은 동시에 고려해 분석\n",
    "\n",
    "from statsmodels.formula.api import ols\n",
    "from statsmodels.stats.anova import anova_lm\n",
    "\n",
    "# 비료가 1,2,3 이라 연속형 변수로 잘못 인식될 수 있음 C를 사용\n",
    "model = ols(\"성장률 ~ 나무 + C(비료) + 나무:C(비료)\", df).fit()\n",
    "print(anova_lm(model))\n",
    "\n",
    "# 나무와 비료에 따른 차이는 유의미하지만\n",
    "# 나무와 비료의 상호작용은 유의미한 영향을 주지 않는다."
   ]
  },
  {
   "cell_type": "code",
   "execution_count": 35,
   "metadata": {},
   "outputs": [
    {
     "data": {
      "text/plain": [
       "'0.21573570000'"
      ]
     },
     "execution_count": 35,
     "metadata": {},
     "output_type": "execute_result"
    }
   ],
   "source": [
    "# 지수 표기법 바꾸는 법\n",
    "target = 2.157357e-01\n",
    "format(target,'.11f')"
   ]
  }
 ],
 "metadata": {
  "kernelspec": {
   "display_name": "big",
   "language": "python",
   "name": "python3"
  },
  "language_info": {
   "codemirror_mode": {
    "name": "ipython",
    "version": 3
   },
   "file_extension": ".py",
   "mimetype": "text/x-python",
   "name": "python",
   "nbconvert_exporter": "python",
   "pygments_lexer": "ipython3",
   "version": "3.10.14"
  }
 },
 "nbformat": 4,
 "nbformat_minor": 2
}
