{
 "cells": [
  {
   "cell_type": "markdown",
   "metadata": {},
   "source": [
    "#### 로지스틱 회귀분석\n",
    "- 범주형 종속변수를 대상으로 하는 통계적 분석 방법, 보통 분류 문제 해결\n",
    "- 사건의 발생 여부나 확률을 예측하여 범주를 분류\n",
    "- 회귀라는 용어가 사용되었지만 분류 모델에 속한다"
   ]
  },
  {
   "cell_type": "markdown",
   "metadata": {},
   "source": [
    "##### 로지스틱 회귀 분석"
   ]
  },
  {
   "cell_type": "code",
   "execution_count": 1,
   "metadata": {},
   "outputs": [],
   "source": [
    "# 역시 statsmodels를 사용\n",
    "# from statsmodels.formula.api import logit('종속변수 ~독립변수1 + 독립변수2 + ...', df).fit()\n",
    "    # 종속변수: 모델에서 결과로 예측하고자 하는 이진형 변수(1사건발생, 0미발생)\n",
    "    # 독립변수: 종속에 영향을 미칠 거로 예상되는 변수들"
   ]
  },
  {
   "cell_type": "code",
   "execution_count": null,
   "metadata": {},
   "outputs": [
    {
     "data": {
      "text/html": [
       "<div>\n",
       "<style scoped>\n",
       "    .dataframe tbody tr th:only-of-type {\n",
       "        vertical-align: middle;\n",
       "    }\n",
       "\n",
       "    .dataframe tbody tr th {\n",
       "        vertical-align: top;\n",
       "    }\n",
       "\n",
       "    .dataframe thead th {\n",
       "        text-align: right;\n",
       "    }\n",
       "</style>\n",
       "<table border=\"1\" class=\"dataframe\">\n",
       "  <thead>\n",
       "    <tr style=\"text-align: right;\">\n",
       "      <th></th>\n",
       "      <th>age</th>\n",
       "      <th>bmi</th>\n",
       "      <th>smoker</th>\n",
       "      <th>activity_level</th>\n",
       "      <th>disease</th>\n",
       "    </tr>\n",
       "  </thead>\n",
       "  <tbody>\n",
       "    <tr>\n",
       "      <th>0</th>\n",
       "      <td>62</td>\n",
       "      <td>35.179089</td>\n",
       "      <td>0</td>\n",
       "      <td>0</td>\n",
       "      <td>1</td>\n",
       "    </tr>\n",
       "    <tr>\n",
       "      <th>1</th>\n",
       "      <td>65</td>\n",
       "      <td>18.576042</td>\n",
       "      <td>0</td>\n",
       "      <td>2</td>\n",
       "      <td>1</td>\n",
       "    </tr>\n",
       "    <tr>\n",
       "      <th>2</th>\n",
       "      <td>71</td>\n",
       "      <td>33.178426</td>\n",
       "      <td>0</td>\n",
       "      <td>1</td>\n",
       "      <td>1</td>\n",
       "    </tr>\n",
       "    <tr>\n",
       "      <th>3</th>\n",
       "      <td>18</td>\n",
       "      <td>37.063007</td>\n",
       "      <td>1</td>\n",
       "      <td>2</td>\n",
       "      <td>0</td>\n",
       "    </tr>\n",
       "    <tr>\n",
       "      <th>4</th>\n",
       "      <td>21</td>\n",
       "      <td>17.613266</td>\n",
       "      <td>0</td>\n",
       "      <td>0</td>\n",
       "      <td>0</td>\n",
       "    </tr>\n",
       "  </tbody>\n",
       "</table>\n",
       "</div>"
      ],
      "text/plain": [
       "   age        bmi  smoker  activity_level  disease\n",
       "0   62  35.179089       0               0        1\n",
       "1   65  18.576042       0               2        1\n",
       "2   71  33.178426       0               1        1\n",
       "3   18  37.063007       1               2        0\n",
       "4   21  17.613266       0               0        0"
      ]
     },
     "execution_count": 3,
     "metadata": {},
     "output_type": "execute_result"
    }
   ],
   "source": [
    "# 특정 질병의 유무를 나타내는 환자 데이터를 사용\n",
    "\n",
    "import pandas as pd\n",
    "df = pd.read_csv('health_survey.csv')\n",
    "df.head()\n",
    "\n",
    "# 종속 변수: disease\n",
    "# 독립 변수: age, bmi, smoker, activity_level"
   ]
  },
  {
   "cell_type": "code",
   "execution_count": 11,
   "metadata": {},
   "outputs": [
    {
     "name": "stdout",
     "output_type": "stream",
     "text": [
      "Optimization terminated successfully.\n",
      "         Current function value: 0.643725\n",
      "         Iterations 5\n",
      "                           Logit Regression Results                           \n",
      "==============================================================================\n",
      "Dep. Variable:                disease   No. Observations:                 1000\n",
      "Model:                          Logit   Df Residuals:                      997\n",
      "Method:                           MLE   Df Model:                            2\n",
      "Date:                Fri, 29 Nov 2024   Pseudo R-squ.:                 0.04996\n",
      "Time:                        00:00:07   Log-Likelihood:                -643.72\n",
      "converged:                       True   LL-Null:                       -677.58\n",
      "Covariance Type:            nonrobust   LLR p-value:                 1.984e-15\n",
      "==============================================================================\n",
      "                 coef    std err          z      P>|z|      [0.025      0.975]\n",
      "------------------------------------------------------------------------------\n",
      "Intercept     -1.8700      0.289     -6.482      0.000      -2.435      -1.305\n",
      "age            0.0177      0.004      4.747      0.000       0.010       0.025\n",
      "bmi            0.0563      0.009      6.418      0.000       0.039       0.074\n",
      "==============================================================================\n",
      "0.05633387968708853\n"
     ]
    }
   ],
   "source": [
    "# 문제1 | 로지스틱 회귀 모델을 이용하고 독립변수는 age, bmi를 사용해 disease 발생 여부를 예측하려 한다. bmi 변수의 계수 값은?\n",
    "\n",
    "from statsmodels.formula.api import logit\n",
    "model = logit('disease ~age + bmi', df).fit()\n",
    "print(model.summary())\n",
    "print(model.params['bmi'])"
   ]
  },
  {
   "cell_type": "code",
   "execution_count": 18,
   "metadata": {},
   "outputs": [
    {
     "data": {
      "text/plain": [
       "1.057950853075076"
      ]
     },
     "execution_count": 18,
     "metadata": {},
     "output_type": "execute_result"
    }
   ],
   "source": [
    "# 문제2 | 1번 문제에서 추정된 로지스틱 회귀 모델에서 bmi 변수가 한 단위 증가할 때 질병 발생의 오즈비 값은?\n",
    "    # 오즈비 계산 방법\n",
    "        # 1. bmi의 계수값 알아내기\n",
    "        # 2. 계수값을 np.exp()로 오즈비로 변환\n",
    "import numpy as np\n",
    "np.exp(model.params['bmi'])"
   ]
  },
  {
   "cell_type": "code",
   "execution_count": 20,
   "metadata": {},
   "outputs": [
    {
     "name": "stdout",
     "output_type": "stream",
     "text": [
      "-643.7246164682088\n",
      "1287.4492329364175\n"
     ]
    }
   ],
   "source": [
    "# 문제3 | 로그 우도(Log-Likelihood)와 잔차이탈도(Deviance) 구하기\n",
    "    # 로그우도 : model.llf\n",
    "    # 잔차이탈도는 로그우도에 -2 곱하기: -2*model.llf\n",
    "print(model.llf)\n",
    "print(-2*model.llf)"
   ]
  },
  {
   "cell_type": "code",
   "execution_count": 21,
   "metadata": {},
   "outputs": [],
   "source": [
    "# 문제4 | 정확도와 오류율 구하기\n",
    "    # 정확도는 데이터를 올바르게 분류한 비율\n",
    "    # 오류율은 1-정확도"
   ]
  },
  {
   "cell_type": "code",
   "execution_count": null,
   "metadata": {},
   "outputs": [],
   "source": []
  }
 ],
 "metadata": {
  "kernelspec": {
   "display_name": "big",
   "language": "python",
   "name": "python3"
  },
  "language_info": {
   "codemirror_mode": {
    "name": "ipython",
    "version": 3
   },
   "file_extension": ".py",
   "mimetype": "text/x-python",
   "name": "python",
   "nbconvert_exporter": "python",
   "pygments_lexer": "ipython3",
   "version": "3.10.14"
  }
 },
 "nbformat": 4,
 "nbformat_minor": 2
}
