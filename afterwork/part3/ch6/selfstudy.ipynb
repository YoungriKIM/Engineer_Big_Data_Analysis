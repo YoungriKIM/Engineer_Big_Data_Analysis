{
 "cells": [
  {
   "cell_type": "code",
   "execution_count": 2,
   "metadata": {},
   "outputs": [
    {
     "name": "stdout",
     "output_type": "stream",
     "text": [
      "ShapiroResult(statistic=0.9826578166170536, pvalue=0.9322031137746971)\n",
      "TtestResult(statistic=array([-5.50173704]), pvalue=array([5.86865539e-06]), df=array([24]))\n",
      "5.8686553916715e-06\n",
      "0.0000058687\n"
     ]
    }
   ],
   "source": [
    "# section 1\n",
    "# 카페인 정도가 평균 95보다 작은지\n",
    "    # 귀무가설: 평균이 같다.\n",
    "    # 대립가설: 평균보다 작다.\n",
    "# 정규성도 확인해야함\n",
    "\n",
    "# 데이터\n",
    "import pandas as pd\n",
    "df = pd.DataFrame({\n",
    "    'Caffeine(mg)': [\n",
    "        94.2, 93.7, 95.5, 93.9, 94.0, 95.2, 94.7, 93.5, 92.8, 94.4,\n",
    "        93.8, 94.6, 93.3, 95.1, 94.3, 94.9, 93.9, 94.8, 95.0, 94.2,\n",
    "        93.7, 94.4, 95.1, 94.0, 93.6\n",
    "    ]\n",
    "})\n",
    "\n",
    "# 정규성 검정 먼저 진행\n",
    "    # 귀무가설: 정규 분포를 따른다.\n",
    "    # 대립가설: 정규 분포를 따르지 않는다.\n",
    "from scipy.stats import shapiro\n",
    "print(shapiro(df))\n",
    "# 0.05보다 크므로 정규 분포를 따른다.\n",
    "\n",
    "from scipy.stats import ttest_1samp\n",
    "print(ttest_1samp(df, 95, alternative='less'))\n",
    "# 0.05보다 작으므로 평균95보다 작다.\n",
    "\n",
    "# 소수점 10번째 자리까지 출력하라고 했다면?\n",
    "t_statistic, p_value = ttest_1samp(df['Caffeine(mg)'], 95, alternative='less')\n",
    "print(p_value)\n",
    "print(f\"{p_value:.10f}\")"
   ]
  },
  {
   "cell_type": "code",
   "execution_count": 3,
   "metadata": {},
   "outputs": [
    {
     "data": {
      "text/html": [
       "<div>\n",
       "<style scoped>\n",
       "    .dataframe tbody tr th:only-of-type {\n",
       "        vertical-align: middle;\n",
       "    }\n",
       "\n",
       "    .dataframe tbody tr th {\n",
       "        vertical-align: top;\n",
       "    }\n",
       "\n",
       "    .dataframe thead th {\n",
       "        text-align: right;\n",
       "    }\n",
       "</style>\n",
       "<table border=\"1\" class=\"dataframe\">\n",
       "  <thead>\n",
       "    <tr style=\"text-align: right;\">\n",
       "      <th></th>\n",
       "      <th>충전기</th>\n",
       "      <th>충전시간</th>\n",
       "    </tr>\n",
       "  </thead>\n",
       "  <tbody>\n",
       "    <tr>\n",
       "      <th>7</th>\n",
       "      <td>New</td>\n",
       "      <td>1.4</td>\n",
       "    </tr>\n",
       "    <tr>\n",
       "      <th>12</th>\n",
       "      <td>Old</td>\n",
       "      <td>1.7</td>\n",
       "    </tr>\n",
       "    <tr>\n",
       "      <th>14</th>\n",
       "      <td>Old</td>\n",
       "      <td>1.8</td>\n",
       "    </tr>\n",
       "  </tbody>\n",
       "</table>\n",
       "</div>"
      ],
      "text/plain": [
       "    충전기  충전시간\n",
       "7   New   1.4\n",
       "12  Old   1.7\n",
       "14  Old   1.8"
      ]
     },
     "metadata": {},
     "output_type": "display_data"
    },
    {
     "name": "stdout",
     "output_type": "stream",
     "text": [
      "ShapiroResult(statistic=0.9065684572704982, pvalue=0.25824165549017347)\n",
      "ShapiroResult(statistic=0.9044355911726943, pvalue=0.2449121806027384)\n",
      "LeveneResult(statistic=0.20000000000000173, pvalue=0.6600556531895849)\n"
     ]
    },
    {
     "data": {
      "text/plain": [
       "TtestResult(statistic=-4.582575694955849, pvalue=0.00011546547787696304, df=18.0)"
      ]
     },
     "execution_count": 3,
     "metadata": {},
     "output_type": "execute_result"
    }
   ],
   "source": [
    "# section 2\n",
    "# 새 충전기와의 평균이 옛날 충전기의 평균 시간보다 작은지\n",
    "df = pd.DataFrame({\n",
    "    '충전기': ['New']*10 + ['Old']*10,\n",
    "    '충전시간': [\n",
    "        1.5, 1.6, 1.4, 1.7, 1.5, 1.6, 1.7, 1.4, 1.6, 1.5,\n",
    "        1.7, 1.8, 1.7, 1.9, 1.8, 1.7, 1.8, 1.9, 1.7, 1.6\n",
    "    ]\n",
    "})\n",
    "display(df.sample(3))\n",
    "new_charger = df[df['충전기']=='New']['충전시간']\n",
    "old_charger = df[df['충전기']=='Old']['충전시간']\n",
    "\n",
    "# 독립표본이므로 정규성, 등분산성 확인\n",
    "from scipy.stats import shapiro\n",
    "print(shapiro(new_charger))\n",
    "print(shapiro(old_charger))\n",
    "# 모두 0.05 보다 크므로 귀무가설(정규분포를 따른다.) 채택\n",
    "\n",
    "# 정규성을 따르니 다음은 등분산성 확인\n",
    "from scipy.stats import levene\n",
    "print(levene(new_charger, old_charger))\n",
    "# 0.05보다 크므로 귀무가설(분산이 같다.)를 채택\n",
    "\n",
    "# 이어서 독립표본 진행\n",
    "    # 귀무가설: 두 충전기의 충전시간 평균은 같다.\n",
    "    # 대립가설: 새 충전기의 충전시간 평균이 옛날 충전기보다 작다.\n",
    "from scipy.stats import ttest_ind\n",
    "ttest_ind(new_charger, old_charger, alternative='less')\n",
    "# p값이 0.05보다 작으므로 귀무가설을 기각하고 대립가설을 채택"
   ]
  },
  {
   "cell_type": "code",
   "execution_count": 4,
   "metadata": {},
   "outputs": [
    {
     "data": {
      "text/html": [
       "<div>\n",
       "<style scoped>\n",
       "    .dataframe tbody tr th:only-of-type {\n",
       "        vertical-align: middle;\n",
       "    }\n",
       "\n",
       "    .dataframe tbody tr th {\n",
       "        vertical-align: top;\n",
       "    }\n",
       "\n",
       "    .dataframe thead th {\n",
       "        text-align: right;\n",
       "    }\n",
       "</style>\n",
       "<table border=\"1\" class=\"dataframe\">\n",
       "  <thead>\n",
       "    <tr style=\"text-align: right;\">\n",
       "      <th></th>\n",
       "      <th>User</th>\n",
       "      <th>기존방법</th>\n",
       "      <th>새로운방법</th>\n",
       "    </tr>\n",
       "  </thead>\n",
       "  <tbody>\n",
       "    <tr>\n",
       "      <th>0</th>\n",
       "      <td>1</td>\n",
       "      <td>60.4</td>\n",
       "      <td>59.8</td>\n",
       "    </tr>\n",
       "    <tr>\n",
       "      <th>1</th>\n",
       "      <td>2</td>\n",
       "      <td>60.7</td>\n",
       "      <td>60.2</td>\n",
       "    </tr>\n",
       "    <tr>\n",
       "      <th>2</th>\n",
       "      <td>3</td>\n",
       "      <td>60.5</td>\n",
       "      <td>60.1</td>\n",
       "    </tr>\n",
       "  </tbody>\n",
       "</table>\n",
       "</div>"
      ],
      "text/plain": [
       "   User  기존방법  새로운방법\n",
       "0     1  60.4   59.8\n",
       "1     2  60.7   60.2\n",
       "2     3  60.5   60.1"
      ]
     },
     "metadata": {},
     "output_type": "display_data"
    },
    {
     "data": {
      "text/plain": [
       "TtestResult(statistic=-3.407973078114844, pvalue=0.0038872633380070652, df=9)"
      ]
     },
     "execution_count": 4,
     "metadata": {},
     "output_type": "execute_result"
    }
   ],
   "source": [
    "# section 3\n",
    "# 기존 방법과 새로운 방법의 유의미한 차이 검증\n",
    "# 새로운 방법의 수치가 더 낮음을 확인\n",
    "df = pd.DataFrame({\n",
    "    'User': list(range(1, 11)),\n",
    "    '기존방법': [60.4, 60.7, 60.5, 60.3, 60.8, 60.6, 60.2, 60.5, 60.7, 60.4],\n",
    "    '새로운방법': [59.8, 60.2, 60.1, 59.9, 59.7, 58.4, 57.0, 60.3, 59.6, 59.8]\n",
    "})\n",
    "display(df.head(3))\n",
    "\n",
    "# 귀무가설: 두 방법의 평균은 같다.\n",
    "# 대립가설: 새로운 방법의 수치가 더 낮다.\n",
    "from scipy.stats import ttest_rel\n",
    "ttest_rel(df['새로운방법'], df['기존방법'], alternative='less')\n",
    "# p값이 0.05보다 작으므로 귀무가설 기각하고 대립가설 채택"
   ]
  },
  {
   "cell_type": "code",
   "execution_count": null,
   "metadata": {},
   "outputs": [],
   "source": [
    "# section 4\n",
    "# 그룹 abcd의 점수의 아노바 분석"
   ]
  }
 ],
 "metadata": {
  "kernelspec": {
   "display_name": "asg",
   "language": "python",
   "name": "python3"
  },
  "language_info": {
   "codemirror_mode": {
    "name": "ipython",
    "version": 3
   },
   "file_extension": ".py",
   "mimetype": "text/x-python",
   "name": "python",
   "nbconvert_exporter": "python",
   "pygments_lexer": "ipython3",
   "version": "3.10.14"
  }
 },
 "nbformat": 4,
 "nbformat_minor": 2
}
