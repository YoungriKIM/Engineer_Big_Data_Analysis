{
 "cells": [
  {
   "cell_type": "markdown",
   "metadata": {},
   "source": [
    "### Getting Financial Data - Pandas Datareader\n",
    "* [AlphaVantage API 키 받기](https://www.alphavantage.co/support/#api-key)\n",
    "* [datareader docs 보기](https://pandas-datareader.readthedocs.io/en/latest/)"
   ]
  },
  {
   "cell_type": "code",
   "execution_count": 3,
   "metadata": {},
   "outputs": [],
   "source": [
    "import pandas as pd\n",
    "import numpy as np\n",
    "import datetime as dt\n",
    "import matplotlib.pyplot as plt\n",
    "import pandas_datareader as pdr\n",
    "\n",
    "%matplotlib inline"
   ]
  },
  {
   "cell_type": "code",
   "execution_count": 2,
   "metadata": {},
   "outputs": [
    {
     "data": {
      "text/plain": [
       "DatetimeIndex(['2015-01-01', '2015-01-02', '2015-01-03', '2015-01-04',\n",
       "               '2015-01-05', '2015-01-06', '2015-01-07', '2015-01-08',\n",
       "               '2015-01-09', '2015-01-10',\n",
       "               ...\n",
       "               '2024-05-30', '2024-05-31', '2024-06-01', '2024-06-02',\n",
       "               '2024-06-03', '2024-06-04', '2024-06-05', '2024-06-06',\n",
       "               '2024-06-07', '2024-06-08'],\n",
       "              dtype='datetime64[ns]', length=3447, freq='D')"
      ]
     },
     "execution_count": 2,
     "metadata": {},
     "output_type": "execute_result"
    }
   ],
   "source": [
    "# 시작이 1/01/2015 끝이 오늘(오늘이 언제든)이 되는 datetime 데이터 만들기\n",
    "start_d = '2015-01-01'\n",
    "end_d = pd.Timestamp.today().date()\n",
    "\n",
    "date_s = pd.date_range(start_d, end_d)\n",
    "date_s"
   ]
  },
  {
   "cell_type": "code",
   "execution_count": 16,
   "metadata": {},
   "outputs": [],
   "source": [
    "personal_api = 'PLYYVN9GNXIW6A4G'"
   ]
  },
  {
   "cell_type": "code",
   "execution_count": null,
   "metadata": {},
   "outputs": [],
   "source": [
    "import pandas_datareader as pdr\n",
    "import pandas as pd\n",
    "\n",
    "# API 키 설정\n",
    "personal_api = 'YOUR_API_KEY'\n",
    "\n",
    "# 시작 날짜와 종료 날짜 설정\n",
    "start_d = '2015-01-01'\n",
    "end_d = pd.Timestamp.today().date()\n",
    "\n",
    "# AVTimeSeriesReader를 사용하여 데이터 불러오기\n",
    "reader = pdr.av.time_series.AVTimeSeriesReader(symbols='AAPL', function='TIME_SERIES_DAILY', start=start_d, end=end_d, api_key=personal_api)\n",
    "\n",
    "# 데이터를 데이터프레임으로 변환\n",
    "df_apple = reader.read()\n",
    "\n",
    "# 데이터프레임의 첫 5개 행 출력\n",
    "print(df_apple.head())\n"
   ]
  },
  {
   "cell_type": "code",
   "execution_count": 15,
   "metadata": {},
   "outputs": [
    {
     "ename": "AttributeError",
     "evalue": "'AVTimeSeriesReader' object has no attribute 'head'",
     "output_type": "error",
     "traceback": [
      "\u001b[1;31m---------------------------------------------------------------------------\u001b[0m",
      "\u001b[1;31mAttributeError\u001b[0m                            Traceback (most recent call last)",
      "Cell \u001b[1;32mIn[15], line 9\u001b[0m\n\u001b[0;32m      1\u001b[0m \u001b[38;5;66;03m# pandas_datareader 이용해서 지정한 기간 동안의 애플 주가(AAPL)를 불러와서 df_apple로 지정하고 뽑기\u001b[39;00m\n\u001b[0;32m      2\u001b[0m \n\u001b[0;32m      3\u001b[0m \u001b[38;5;66;03m# class pandas_datareader.av.time_series.AVTimeSeriesReader(symbols=None, function='TIME_SERIES_DAILY', \u001b[39;00m\n\u001b[0;32m      4\u001b[0m \u001b[38;5;66;03m#                                                           start=None, end=None, retry_count=3, pause=0.1,\u001b[39;00m\n\u001b[0;32m      5\u001b[0m \u001b[38;5;66;03m#                                                           session=None, chunksize=25, api_key=None)\u001b[39;00m\n\u001b[0;32m      6\u001b[0m \u001b[38;5;66;03m# Returns DataFrame of the Alpha Vantage Stock Time Series endpoints\u001b[39;00m\n\u001b[0;32m      8\u001b[0m df \u001b[38;5;241m=\u001b[39m pdr\u001b[38;5;241m.\u001b[39mav\u001b[38;5;241m.\u001b[39mtime_series\u001b[38;5;241m.\u001b[39mAVTimeSeriesReader(symbols\u001b[38;5;241m=\u001b[39m\u001b[38;5;124m'\u001b[39m\u001b[38;5;124mAAPL\u001b[39m\u001b[38;5;124m'\u001b[39m, function\u001b[38;5;241m=\u001b[39m\u001b[38;5;124m'\u001b[39m\u001b[38;5;124mTIME_SERIES_DAILY\u001b[39m\u001b[38;5;124m'\u001b[39m, start\u001b[38;5;241m=\u001b[39mstart_d, end\u001b[38;5;241m=\u001b[39mend_d, api_key\u001b[38;5;241m=\u001b[39mpersonal_api)\n\u001b[1;32m----> 9\u001b[0m \u001b[43mdf\u001b[49m\u001b[38;5;241;43m.\u001b[39;49m\u001b[43mhead\u001b[49m()\n",
      "\u001b[1;31mAttributeError\u001b[0m: 'AVTimeSeriesReader' object has no attribute 'head'"
     ]
    }
   ],
   "source": [
    "# pandas_datareader 이용해서 지정한 기간 동안의 애플 주가(AAPL)를 불러와서 df_apple로 지정하고 뽑기\n",
    "\n",
    "# class pandas_datareader.av.time_series.AVTimeSeriesReader(symbols=None, function='TIME_SERIES_DAILY', \n",
    "#                                                           start=None, end=None, retry_count=3, pause=0.1,\n",
    "#                                                           session=None, chunksize=25, api_key=None)\n",
    "# Returns DataFrame of the Alpha Vantage Stock Time Series endpoints\n",
    "\n",
    "df = pdr.av.time_series.AVTimeSeriesReader(symbols='AAPL', function='TIME_SERIES_DAILY', start=start_d, end=end_d, api_key=personal_api)\n",
    "df.head()"
   ]
  },
  {
   "cell_type": "code",
   "execution_count": 14,
   "metadata": {},
   "outputs": [
    {
     "ename": "AttributeError",
     "evalue": "'AVTimeSeriesReader' object has no attribute 'head'",
     "output_type": "error",
     "traceback": [
      "\u001b[1;31m---------------------------------------------------------------------------\u001b[0m",
      "\u001b[1;31mAttributeError\u001b[0m                            Traceback (most recent call last)",
      "Cell \u001b[1;32mIn[14], line 1\u001b[0m\n\u001b[1;32m----> 1\u001b[0m \u001b[43mdf\u001b[49m\u001b[38;5;241;43m.\u001b[39;49m\u001b[43mhead\u001b[49m()\n",
      "\u001b[1;31mAttributeError\u001b[0m: 'AVTimeSeriesReader' object has no attribute 'head'"
     ]
    }
   ],
   "source": [
    "df.head()"
   ]
  }
 ],
 "metadata": {
  "kernelspec": {
   "display_name": "big",
   "language": "python",
   "name": "python3"
  },
  "language_info": {
   "codemirror_mode": {
    "name": "ipython",
    "version": 3
   },
   "file_extension": ".py",
   "mimetype": "text/x-python",
   "name": "python",
   "nbconvert_exporter": "python",
   "pygments_lexer": "ipython3",
   "version": "3.10.14"
  }
 },
 "nbformat": 4,
 "nbformat_minor": 2
}
