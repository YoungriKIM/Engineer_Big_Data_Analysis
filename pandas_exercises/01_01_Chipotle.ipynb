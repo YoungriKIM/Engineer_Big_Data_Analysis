{
 "cells": [
  {
   "cell_type": "markdown",
   "metadata": {},
   "source": [
    "Ex2 - Getting and Knowing your Data\n",
    "- [원본 튜토리얼 영상](http://youtube.com/watch?v=lpuYZ5EUyS8&list=PLgJhDSE2ZLxaY_DigHeiIDC1cD09rXgJv&index=2)\n",
    "- 인터넷에서 바로 데이터 불러와서 활용하기"
   ]
  },
  {
   "cell_type": "code",
   "execution_count": 81,
   "metadata": {},
   "outputs": [],
   "source": [
    "# 라이브러리\n",
    "import pandas as pd\n",
    "import numpy as np\n",
    "from IPython.display import display\n",
    "\n",
    "# tsv 데이터 링크(Chipotle Mexican Grill에서 판매된 주문 데이터)\n",
    "url = \"https://raw.githubusercontent.com/justmarkham/DAT8/master/data/chipotle.tsv\"\n",
    "chipo = pd.read_csv(url, sep='\\t')"
   ]
  },
  {
   "cell_type": "code",
   "execution_count": 104,
   "metadata": {},
   "outputs": [
    {
     "data": {
      "text/html": [
       "<div>\n",
       "<style scoped>\n",
       "    .dataframe tbody tr th:only-of-type {\n",
       "        vertical-align: middle;\n",
       "    }\n",
       "\n",
       "    .dataframe tbody tr th {\n",
       "        vertical-align: top;\n",
       "    }\n",
       "\n",
       "    .dataframe thead th {\n",
       "        text-align: right;\n",
       "    }\n",
       "</style>\n",
       "<table border=\"1\" class=\"dataframe\">\n",
       "  <thead>\n",
       "    <tr style=\"text-align: right;\">\n",
       "      <th></th>\n",
       "      <th>order_id</th>\n",
       "      <th>quantity</th>\n",
       "      <th>item_name</th>\n",
       "      <th>choice_description</th>\n",
       "      <th>item_price</th>\n",
       "    </tr>\n",
       "  </thead>\n",
       "  <tbody>\n",
       "    <tr>\n",
       "      <th>0</th>\n",
       "      <td>1</td>\n",
       "      <td>1</td>\n",
       "      <td>Chips and Fresh Tomato Salsa</td>\n",
       "      <td>NaN</td>\n",
       "      <td>$2.39</td>\n",
       "    </tr>\n",
       "    <tr>\n",
       "      <th>1</th>\n",
       "      <td>1</td>\n",
       "      <td>1</td>\n",
       "      <td>Izze</td>\n",
       "      <td>[Clementine]</td>\n",
       "      <td>$3.39</td>\n",
       "    </tr>\n",
       "    <tr>\n",
       "      <th>2</th>\n",
       "      <td>1</td>\n",
       "      <td>1</td>\n",
       "      <td>Nantucket Nectar</td>\n",
       "      <td>[Apple]</td>\n",
       "      <td>$3.39</td>\n",
       "    </tr>\n",
       "    <tr>\n",
       "      <th>3</th>\n",
       "      <td>1</td>\n",
       "      <td>1</td>\n",
       "      <td>Chips and Tomatillo-Green Chili Salsa</td>\n",
       "      <td>NaN</td>\n",
       "      <td>$2.39</td>\n",
       "    </tr>\n",
       "    <tr>\n",
       "      <th>4</th>\n",
       "      <td>2</td>\n",
       "      <td>2</td>\n",
       "      <td>Chicken Bowl</td>\n",
       "      <td>[Tomatillo-Red Chili Salsa (Hot), [Black Beans...</td>\n",
       "      <td>$16.98</td>\n",
       "    </tr>\n",
       "    <tr>\n",
       "      <th>5</th>\n",
       "      <td>3</td>\n",
       "      <td>1</td>\n",
       "      <td>Chicken Bowl</td>\n",
       "      <td>[Fresh Tomato Salsa (Mild), [Rice, Cheese, Sou...</td>\n",
       "      <td>$10.98</td>\n",
       "    </tr>\n",
       "    <tr>\n",
       "      <th>6</th>\n",
       "      <td>3</td>\n",
       "      <td>1</td>\n",
       "      <td>Side of Chips</td>\n",
       "      <td>NaN</td>\n",
       "      <td>$1.69</td>\n",
       "    </tr>\n",
       "    <tr>\n",
       "      <th>7</th>\n",
       "      <td>4</td>\n",
       "      <td>1</td>\n",
       "      <td>Steak Burrito</td>\n",
       "      <td>[Tomatillo Red Chili Salsa, [Fajita Vegetables...</td>\n",
       "      <td>$11.75</td>\n",
       "    </tr>\n",
       "    <tr>\n",
       "      <th>8</th>\n",
       "      <td>4</td>\n",
       "      <td>1</td>\n",
       "      <td>Steak Soft Tacos</td>\n",
       "      <td>[Tomatillo Green Chili Salsa, [Pinto Beans, Ch...</td>\n",
       "      <td>$9.25</td>\n",
       "    </tr>\n",
       "    <tr>\n",
       "      <th>9</th>\n",
       "      <td>5</td>\n",
       "      <td>1</td>\n",
       "      <td>Steak Burrito</td>\n",
       "      <td>[Fresh Tomato Salsa, [Rice, Black Beans, Pinto...</td>\n",
       "      <td>$9.25</td>\n",
       "    </tr>\n",
       "  </tbody>\n",
       "</table>\n",
       "</div>"
      ],
      "text/plain": [
       "   order_id  quantity                              item_name  \\\n",
       "0         1         1           Chips and Fresh Tomato Salsa   \n",
       "1         1         1                                   Izze   \n",
       "2         1         1                       Nantucket Nectar   \n",
       "3         1         1  Chips and Tomatillo-Green Chili Salsa   \n",
       "4         2         2                           Chicken Bowl   \n",
       "5         3         1                           Chicken Bowl   \n",
       "6         3         1                          Side of Chips   \n",
       "7         4         1                          Steak Burrito   \n",
       "8         4         1                       Steak Soft Tacos   \n",
       "9         5         1                          Steak Burrito   \n",
       "\n",
       "                                  choice_description item_price  \n",
       "0                                                NaN     $2.39   \n",
       "1                                       [Clementine]     $3.39   \n",
       "2                                            [Apple]     $3.39   \n",
       "3                                                NaN     $2.39   \n",
       "4  [Tomatillo-Red Chili Salsa (Hot), [Black Beans...    $16.98   \n",
       "5  [Fresh Tomato Salsa (Mild), [Rice, Cheese, Sou...    $10.98   \n",
       "6                                                NaN     $1.69   \n",
       "7  [Tomatillo Red Chili Salsa, [Fajita Vegetables...    $11.75   \n",
       "8  [Tomatillo Green Chili Salsa, [Pinto Beans, Ch...     $9.25   \n",
       "9  [Fresh Tomato Salsa, [Rice, Black Beans, Pinto...     $9.25   "
      ]
     },
     "metadata": {},
     "output_type": "display_data"
    },
    {
     "name": "stdout",
     "output_type": "stream",
     "text": [
      "--------------------------------------------------\n",
      "(4622, 5)\n",
      "전체 행 개수:  4622\n",
      "전체 열 개수:  5\n",
      "--------------------------------------------------\n",
      "<class 'pandas.core.frame.DataFrame'>\n",
      "RangeIndex: 4622 entries, 0 to 4621\n",
      "Data columns (total 5 columns):\n",
      " #   Column              Non-Null Count  Dtype \n",
      "---  ------              --------------  ----- \n",
      " 0   order_id            4622 non-null   int64 \n",
      " 1   quantity            4622 non-null   int64 \n",
      " 2   item_name           4622 non-null   object\n",
      " 3   choice_description  3376 non-null   object\n",
      " 4   item_price          4622 non-null   object\n",
      "dtypes: int64(2), object(3)\n",
      "memory usage: 180.7+ KB\n",
      "None\n"
     ]
    }
   ],
   "source": [
    "# 처음 10개 확인\n",
    "display(chipo.head(10))\n",
    "print('-'*50)\n",
    "\n",
    "# 전체 데이터 개수 shape로 확인하기\n",
    "print(chipo.shape)\n",
    "print(\"전체 행 개수: \", chipo.shape[0])\n",
    "print(\"전체 열 개수: \", chipo.shape[1])\n",
    "print('-'*50)\n",
    "\n",
    "# 전체 데이터 개수 info로 확인하기\n",
    "print(chipo.info())\n",
    "\n",
    "# order_id: 주문 번호(중복값 있음)\n",
    "# quantity: 수량\n",
    "# item_name: 주문 메뉴\n",
    "# choice_description: 주문 옵션\n",
    "# item_price: 주문 가격"
   ]
  },
  {
   "cell_type": "code",
   "execution_count": 105,
   "metadata": {},
   "outputs": [
    {
     "name": "stdout",
     "output_type": "stream",
     "text": [
      "Index(['order_id', 'quantity', 'item_name', 'choice_description',\n",
      "       'item_price'],\n",
      "      dtype='object')\n",
      "--------------------------------------------------\n",
      "RangeIndex(start=0, stop=4622, step=1)\n"
     ]
    }
   ],
   "source": [
    "# 모든 행 이름 확인하기\n",
    "print(chipo.columns)\n",
    "print('-'*50)\n",
    "\n",
    "# 데이터셋 인덱스 확인하기\n",
    "print(chipo.index)\n",
    "# RangeIndex(start=0 : 인덱스가 0부터 시작\n",
    "#        , stop=4622 : 인덱스가 4622에서 끝남 (4622는 포함 안 됨, 0~4621까지임)\n",
    "#           , step=1 : 인덱스가 1씩 증가\n",
    "# )"
   ]
  },
  {
   "cell_type": "code",
   "execution_count": 106,
   "metadata": {},
   "outputs": [
    {
     "data": {
      "text/html": [
       "<div>\n",
       "<style scoped>\n",
       "    .dataframe tbody tr th:only-of-type {\n",
       "        vertical-align: middle;\n",
       "    }\n",
       "\n",
       "    .dataframe tbody tr th {\n",
       "        vertical-align: top;\n",
       "    }\n",
       "\n",
       "    .dataframe thead th {\n",
       "        text-align: right;\n",
       "    }\n",
       "</style>\n",
       "<table border=\"1\" class=\"dataframe\">\n",
       "  <thead>\n",
       "    <tr style=\"text-align: right;\">\n",
       "      <th></th>\n",
       "      <th>order_id</th>\n",
       "      <th>quantity</th>\n",
       "      <th>choice_description</th>\n",
       "      <th>item_price</th>\n",
       "    </tr>\n",
       "    <tr>\n",
       "      <th>item_name</th>\n",
       "      <th></th>\n",
       "      <th></th>\n",
       "      <th></th>\n",
       "      <th></th>\n",
       "    </tr>\n",
       "  </thead>\n",
       "  <tbody>\n",
       "    <tr>\n",
       "      <th>Chicken Bowl</th>\n",
       "      <td>713926</td>\n",
       "      <td>761</td>\n",
       "      <td>[Tomatillo-Red Chili Salsa (Hot), [Black Beans...</td>\n",
       "      <td>$16.98 $10.98 $11.25 $8.75 $8.49 $11.25 $8.75 ...</td>\n",
       "    </tr>\n",
       "    <tr>\n",
       "      <th>Chicken Burrito</th>\n",
       "      <td>497303</td>\n",
       "      <td>591</td>\n",
       "      <td>[Tomatillo-Green Chili Salsa (Medium), [Pinto ...</td>\n",
       "      <td>$8.49 $8.49 $10.98 $8.49 $10.98 $10.98 $8.75 $...</td>\n",
       "    </tr>\n",
       "    <tr>\n",
       "      <th>Chips and Guacamole</th>\n",
       "      <td>449959</td>\n",
       "      <td>506</td>\n",
       "      <td>0</td>\n",
       "      <td>$4.45 $4.45 $4.45 $4.45 $4.45 $3.99 $4.45 $3.9...</td>\n",
       "    </tr>\n",
       "    <tr>\n",
       "      <th>Steak Burrito</th>\n",
       "      <td>328437</td>\n",
       "      <td>386</td>\n",
       "      <td>[Tomatillo Red Chili Salsa, [Fajita Vegetables...</td>\n",
       "      <td>$11.75 $9.25 $8.99 $11.75 $8.99 $8.99 $8.99 $8...</td>\n",
       "    </tr>\n",
       "    <tr>\n",
       "      <th>Canned Soft Drink</th>\n",
       "      <td>304753</td>\n",
       "      <td>351</td>\n",
       "      <td>[Coke][Sprite][Coke][Coke][Lemonade][Sprite][D...</td>\n",
       "      <td>$1.25 $1.25 $1.25 $1.25 $1.25 $1.25 $1.25 $1.2...</td>\n",
       "    </tr>\n",
       "  </tbody>\n",
       "</table>\n",
       "</div>"
      ],
      "text/plain": [
       "                     order_id  quantity  \\\n",
       "item_name                                 \n",
       "Chicken Bowl           713926       761   \n",
       "Chicken Burrito        497303       591   \n",
       "Chips and Guacamole    449959       506   \n",
       "Steak Burrito          328437       386   \n",
       "Canned Soft Drink      304753       351   \n",
       "\n",
       "                                                    choice_description  \\\n",
       "item_name                                                                \n",
       "Chicken Bowl         [Tomatillo-Red Chili Salsa (Hot), [Black Beans...   \n",
       "Chicken Burrito      [Tomatillo-Green Chili Salsa (Medium), [Pinto ...   \n",
       "Chips and Guacamole                                                  0   \n",
       "Steak Burrito        [Tomatillo Red Chili Salsa, [Fajita Vegetables...   \n",
       "Canned Soft Drink    [Coke][Sprite][Coke][Coke][Lemonade][Sprite][D...   \n",
       "\n",
       "                                                            item_price  \n",
       "item_name                                                               \n",
       "Chicken Bowl         $16.98 $10.98 $11.25 $8.75 $8.49 $11.25 $8.75 ...  \n",
       "Chicken Burrito      $8.49 $8.49 $10.98 $8.49 $10.98 $10.98 $8.75 $...  \n",
       "Chips and Guacamole  $4.45 $4.45 $4.45 $4.45 $4.45 $3.99 $4.45 $3.9...  \n",
       "Steak Burrito        $11.75 $9.25 $8.99 $11.75 $8.99 $8.99 $8.99 $8...  \n",
       "Canned Soft Drink    $1.25 $1.25 $1.25 $1.25 $1.25 $1.25 $1.25 $1.2...  "
      ]
     },
     "metadata": {},
     "output_type": "display_data"
    },
    {
     "name": "stdout",
     "output_type": "stream",
     "text": [
      "--------------------------------------------------\n",
      "가장 많이 주문한 메뉴: Chicken Bowl, 횟수: 761\n"
     ]
    }
   ],
   "source": [
    "# 가장 많이 주문한 상품 알아보기 - item_name 기준\n",
    "\n",
    "# 아이템별로 그룹화\n",
    "groupby_item = chipo.groupby('item_name')\n",
    "# 각 아이템으로 주문된 총 수량 합산\n",
    "groupby_item = groupby_item.sum()\n",
    "# 정렬 진행, quantity를 기준으로 내림차\n",
    "groupby_item = groupby_item.sort_values(by = ['quantity'], ascending=False)\n",
    "# 데이터프레임 상단 5개 확인\n",
    "display(groupby_item.head())\n",
    "print('-'*50)\n",
    "\n",
    "# 가장 많이 주문한 상품명과 횟수\n",
    "print(f\"가장 많이 주문한 메뉴: {groupby_item.iloc[0].name}, 횟수: {groupby_item.iloc[0].quantity}\")"
   ]
  },
  {
   "cell_type": "code",
   "execution_count": 107,
   "metadata": {},
   "outputs": [
    {
     "data": {
      "text/html": [
       "<div>\n",
       "<style scoped>\n",
       "    .dataframe tbody tr th:only-of-type {\n",
       "        vertical-align: middle;\n",
       "    }\n",
       "\n",
       "    .dataframe tbody tr th {\n",
       "        vertical-align: top;\n",
       "    }\n",
       "\n",
       "    .dataframe thead th {\n",
       "        text-align: right;\n",
       "    }\n",
       "</style>\n",
       "<table border=\"1\" class=\"dataframe\">\n",
       "  <thead>\n",
       "    <tr style=\"text-align: right;\">\n",
       "      <th></th>\n",
       "      <th>order_id</th>\n",
       "      <th>quantity</th>\n",
       "      <th>item_name</th>\n",
       "      <th>item_price</th>\n",
       "    </tr>\n",
       "    <tr>\n",
       "      <th>choice_description</th>\n",
       "      <th></th>\n",
       "      <th></th>\n",
       "      <th></th>\n",
       "      <th></th>\n",
       "    </tr>\n",
       "  </thead>\n",
       "  <tbody>\n",
       "    <tr>\n",
       "      <th>[Diet Coke]</th>\n",
       "      <td>123455</td>\n",
       "      <td>159</td>\n",
       "      <td>Canned SodaCanned SodaCanned Soda6 Pack Soft D...</td>\n",
       "      <td>$2.18 $1.09 $1.09 $6.49 $2.18 $1.25 $1.09 $6.4...</td>\n",
       "    </tr>\n",
       "    <tr>\n",
       "      <th>[Coke]</th>\n",
       "      <td>122752</td>\n",
       "      <td>143</td>\n",
       "      <td>Canned Soft DrinkCanned Soft DrinkCanned Soft ...</td>\n",
       "      <td>$1.25 $1.25 $1.25 $6.49 $1.25 $1.25 $1.25 $1.2...</td>\n",
       "    </tr>\n",
       "    <tr>\n",
       "      <th>[Sprite]</th>\n",
       "      <td>80426</td>\n",
       "      <td>89</td>\n",
       "      <td>Canned SodaCanned SodaCanned Soft Drink6 Pack ...</td>\n",
       "      <td>$2.18 $1.09 $1.25 $6.49 $1.25 $1.25 $1.09 $1.2...</td>\n",
       "    </tr>\n",
       "    <tr>\n",
       "      <th>[Fresh Tomato Salsa, [Rice, Black Beans, Cheese, Sour Cream, Lettuce]]</th>\n",
       "      <td>43088</td>\n",
       "      <td>49</td>\n",
       "      <td>Chicken BowlChicken BurritoChicken BowlChicken...</td>\n",
       "      <td>$8.75 $8.75 $8.75 $8.75 $9.25 $8.75 $8.75 $8.7...</td>\n",
       "    </tr>\n",
       "    <tr>\n",
       "      <th>[Fresh Tomato Salsa, [Rice, Black Beans, Cheese, Sour Cream]]</th>\n",
       "      <td>36041</td>\n",
       "      <td>42</td>\n",
       "      <td>Chicken BowlChicken BowlChicken BurritoCarnita...</td>\n",
       "      <td>$17.50 $8.75 $8.75 $9.25 $8.75 $9.25 $8.75 $8....</td>\n",
       "    </tr>\n",
       "  </tbody>\n",
       "</table>\n",
       "</div>"
      ],
      "text/plain": [
       "                                                    order_id  quantity  \\\n",
       "choice_description                                                       \n",
       "[Diet Coke]                                           123455       159   \n",
       "[Coke]                                                122752       143   \n",
       "[Sprite]                                               80426        89   \n",
       "[Fresh Tomato Salsa, [Rice, Black Beans, Cheese...     43088        49   \n",
       "[Fresh Tomato Salsa, [Rice, Black Beans, Cheese...     36041        42   \n",
       "\n",
       "                                                                                            item_name  \\\n",
       "choice_description                                                                                      \n",
       "[Diet Coke]                                         Canned SodaCanned SodaCanned Soda6 Pack Soft D...   \n",
       "[Coke]                                              Canned Soft DrinkCanned Soft DrinkCanned Soft ...   \n",
       "[Sprite]                                            Canned SodaCanned SodaCanned Soft Drink6 Pack ...   \n",
       "[Fresh Tomato Salsa, [Rice, Black Beans, Cheese...  Chicken BowlChicken BurritoChicken BowlChicken...   \n",
       "[Fresh Tomato Salsa, [Rice, Black Beans, Cheese...  Chicken BowlChicken BowlChicken BurritoCarnita...   \n",
       "\n",
       "                                                                                           item_price  \n",
       "choice_description                                                                                     \n",
       "[Diet Coke]                                         $2.18 $1.09 $1.09 $6.49 $2.18 $1.25 $1.09 $6.4...  \n",
       "[Coke]                                              $1.25 $1.25 $1.25 $6.49 $1.25 $1.25 $1.25 $1.2...  \n",
       "[Sprite]                                            $2.18 $1.09 $1.25 $6.49 $1.25 $1.25 $1.09 $1.2...  \n",
       "[Fresh Tomato Salsa, [Rice, Black Beans, Cheese...  $8.75 $8.75 $8.75 $8.75 $9.25 $8.75 $8.75 $8.7...  \n",
       "[Fresh Tomato Salsa, [Rice, Black Beans, Cheese...  $17.50 $8.75 $8.75 $9.25 $8.75 $9.25 $8.75 $8....  "
      ]
     },
     "metadata": {},
     "output_type": "display_data"
    },
    {
     "name": "stdout",
     "output_type": "stream",
     "text": [
      "--------------------------------------------------\n",
      "가장 많이 주문한 메뉴: [Diet Coke], 횟수: 159\n"
     ]
    }
   ],
   "source": [
    "# 가장 많이 주문한 상품 알아보기 - choice_description 기준\n",
    "\n",
    "groupby_desc = chipo.groupby('choice_description').sum().sort_values(by=['quantity'], ascending=False)\n",
    "# 데이터프레임 상단 5개 확인\n",
    "display(groupby_desc.head())\n",
    "print('-'*50)\n",
    "\n",
    "# 가장 많이 주문한 상품명과 횟수\n",
    "print(f\"가장 많이 주문한 메뉴: {groupby_desc.iloc[0].name}, 횟수: {groupby_desc.iloc[0].quantity}\")"
   ]
  },
  {
   "cell_type": "code",
   "execution_count": 108,
   "metadata": {},
   "outputs": [
    {
     "data": {
      "text/plain": [
       "4972"
      ]
     },
     "execution_count": 108,
     "metadata": {},
     "output_type": "execute_result"
    }
   ],
   "source": [
    "# 주문된 메뉴의 총 개수(order id와 별개)\n",
    "total_items_orders = chipo.quantity.sum()\n",
    "total_items_orders"
   ]
  },
  {
   "cell_type": "code",
   "execution_count": 138,
   "metadata": {},
   "outputs": [
    {
     "name": "stdout",
     "output_type": "stream",
     "text": [
      "원래 item price type: object\n",
      "item price 예시: $2.39 \n",
      "--------------------------------------------------\n",
      "변환된 item price type: float64\n",
      "item price 예시: 2.39\n"
     ]
    }
   ],
   "source": [
    "# 주문 가격을 float으로 바꾸기\n",
    "\n",
    "# chipo2 독립적으로 복사해서 지정하기\n",
    "chipo_2 = chipo.copy()\n",
    "\n",
    "# item price 타입 확인\n",
    "print(f\"원래 item price type: {chipo_2['item_price'].dtype}\") # object는 string 타입\n",
    "print(f\"item price 예시: {chipo_2['item_price'][0]}\")\n",
    "print('-'*50)\n",
    "\n",
    "# 람다 함수 만들어서 적용하기\n",
    "dollarizer = lambda x: float(x[1:]) # 맨 앞이 $라 1부터 시작\n",
    "chipo_2.item_price = chipo_2.item_price.apply(dollarizer)\n",
    "\n",
    "# 타입 다시 확인\n",
    "print(f\"변환된 item price type: {chipo_2['item_price'].dtype}\")\n",
    "print(f\"item price 예시: {chipo_2['item_price'][0]}\")"
   ]
  },
  {
   "cell_type": "code",
   "execution_count": 156,
   "metadata": {},
   "outputs": [
    {
     "name": "stdout",
     "output_type": "stream",
     "text": [
      "총 수익: $39237.02\n",
      "--------------------------------------------------\n",
      "1834 1834\n"
     ]
    }
   ],
   "source": [
    "# 다음 과정부터 가격을 float형으로 변환한 chipo_2를 사용\n",
    "\n",
    "# 데이터셋의 전체 수익 확인\n",
    "revenue = (chipo_2['quantity'] * chipo_2['item_price']).sum()\n",
    "print(f\"총 수익: ${revenue}\")\n",
    "print('-'*50)\n",
    "\n",
    "# 주문 횟수 (order_id 기준)\n",
    "orders1 = chipo_2.order_id.value_counts().count() #order_id를 기준으로 value_counts 진행하고 개수를 세는 방법\n",
    "orders2 = chipo_2['order_id'].nunique() # order_id에서 중복을 제거한 개수\n",
    "print(orders1, orders2)"
   ]
  },
  {
   "cell_type": "code",
   "execution_count": 150,
   "metadata": {},
   "outputs": [
    {
     "name": "stdout",
     "output_type": "stream",
     "text": [
      "mean_revenue1: $21.39423118865867\n",
      "--------------------------------------------------\n",
      "mean_revenue2: $21.39423118865867\n"
     ]
    }
   ],
   "source": [
    "# 주문당 평균 금액 확인\n",
    "\n",
    "# 주문별로 개수*금액 계산해서 revenue 행에 넣기\n",
    "chipo_2['revenue'] = chipo_2['quantity'] * chipo_2['item_price']\n",
    "# order_id 기준으로 그룹핑하고 같은 order_id의 값들 더하기\n",
    "order_grouped = chipo_2.groupby(by=['order_id']).sum()\n",
    "# order_grouped의 revenue 평균값 확인\n",
    "mean_revenue1 = order_grouped['revenue'].mean()\n",
    "print(f\"mean_revenue1: ${mean_revenue1}\")\n",
    "print('-'*50)\n",
    "\n",
    "# 한 줄로 축약\n",
    "mean_revenue2 = chipo_2.groupby(by=['order_id']).sum()['revenue'].mean()\n",
    "print(f\"mean_revenue2: ${mean_revenue2}\")"
   ]
  },
  {
   "cell_type": "code",
   "execution_count": 155,
   "metadata": {},
   "outputs": [
    {
     "name": "stdout",
     "output_type": "stream",
     "text": [
      "50\n",
      "50\n"
     ]
    }
   ],
   "source": [
    "# 판매된 메뉴는 총 몇 종류?\n",
    "\n",
    "# 첫 번째 방법 \n",
    "print(chipo.item_name.value_counts().count())\n",
    "# 두 번째 방법\n",
    "print(chipo['item_name'].nunique())"
   ]
  }
 ],
 "metadata": {
  "kernelspec": {
   "display_name": "Python 3",
   "language": "python",
   "name": "python3"
  },
  "language_info": {
   "codemirror_mode": {
    "name": "ipython",
    "version": 3
   },
   "file_extension": ".py",
   "mimetype": "text/x-python",
   "name": "python",
   "nbconvert_exporter": "python",
   "pygments_lexer": "ipython3",
   "version": "3.10.14"
  }
 },
 "nbformat": 4,
 "nbformat_minor": 2
}
