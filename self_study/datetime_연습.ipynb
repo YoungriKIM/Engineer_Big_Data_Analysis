{
 "cells": [
  {
   "cell_type": "code",
   "execution_count": 1,
   "metadata": {},
   "outputs": [],
   "source": [
    "import datetime"
   ]
  },
  {
   "cell_type": "code",
   "execution_count": 9,
   "metadata": {},
   "outputs": [
    {
     "data": {
      "text/plain": [
       "datetime.date(2023, 1, 31)"
      ]
     },
     "execution_count": 9,
     "metadata": {},
     "output_type": "execute_result"
    }
   ],
   "source": [
    "# 날짜 객체 생성\n",
    "date1 = datetime.date(2023, 1, 31)\n",
    "date1"
   ]
  },
  {
   "cell_type": "code",
   "execution_count": 10,
   "metadata": {},
   "outputs": [
    {
     "name": "stdout",
     "output_type": "stream",
     "text": [
      "2023\n",
      "1\n",
      "31\n"
     ]
    }
   ],
   "source": [
    "# 날짜 연도만\n",
    "print(date1.year)\n",
    "\n",
    "# 날짜 월만\n",
    "print(date1.month)\n",
    "\n",
    "# 날짜 일만\n",
    "print(date1.day)"
   ]
  },
  {
   "cell_type": "code",
   "execution_count": 11,
   "metadata": {},
   "outputs": [
    {
     "data": {
      "text/plain": [
       "datetime.date(2024, 6, 3)"
      ]
     },
     "execution_count": 11,
     "metadata": {},
     "output_type": "execute_result"
    }
   ],
   "source": [
    "# 오늘 날짜 가져오기\n",
    "datetime.date.today()"
   ]
  },
  {
   "cell_type": "code",
   "execution_count": 12,
   "metadata": {},
   "outputs": [
    {
     "data": {
      "text/plain": [
       "datetime.date(2024, 1, 1)"
      ]
     },
     "execution_count": 12,
     "metadata": {},
     "output_type": "execute_result"
    }
   ],
   "source": [
    "# 이번 해의 첫 날짜\n",
    "datetime.date(datetime.date.today().year, 1, 1)"
   ]
  },
  {
   "cell_type": "code",
   "execution_count": 15,
   "metadata": {},
   "outputs": [
    {
     "data": {
      "text/plain": [
       "1"
      ]
     },
     "execution_count": 15,
     "metadata": {},
     "output_type": "execute_result"
    }
   ],
   "source": [
    "# 특정 날짜의 요일\n",
    "date1.weekday()\n",
    "# 0 월요일 ~ 6 일요일"
   ]
  },
  {
   "cell_type": "code",
   "execution_count": 29,
   "metadata": {},
   "outputs": [
    {
     "data": {
      "text/plain": [
       "'2023/01/31'"
      ]
     },
     "execution_count": 29,
     "metadata": {},
     "output_type": "execute_result"
    }
   ],
   "source": [
    "# 사람이 읽기 좋게 str format으로 출력\n",
    "date1.strftime(\"%Y/%m/%d\")\n",
    "\n",
    "# %Y: 네 자릿수의 연도 (예: 2023)\n",
    "# %y: 두 자릿수의 연도 (예: 23)\n",
    "# %m: 월 (01에서 12)\n",
    "# %B: 영어로 된 월 이름 (January, February, …)\n",
    "# %b: 영어로 된 월 이름의 약자 (Jan, Feb, …)\n",
    "# %d: 일 (01에서 31)\n",
    "# %A: 영어로 된 요일 이름 (Monday, Tuesday, …)\n",
    "# %a: 영어로 된 요일 이름의 약자 (Mon, Tue, …)\n",
    "# %H: 시간 (24시간 형식, 00에서 23)\n",
    "# %I: 시간 (12시간 형식, 01에서 12)\n",
    "# %p: AM 또는 PM\n",
    "# %M: 분 (00에서 59)\n",
    "# %S: 초 (00에서 59)\n",
    "# %f: 마이크로초 (000000에서 999999)\n",
    "# %j: 연중 일수 (001에서 366)"
   ]
  },
  {
   "cell_type": "code",
   "execution_count": 25,
   "metadata": {},
   "outputs": [
    {
     "data": {
      "text/plain": [
       "489"
      ]
     },
     "execution_count": 25,
     "metadata": {},
     "output_type": "execute_result"
    }
   ],
   "source": [
    "# 두 날짜 차이 계산\n",
    "today_date = datetime.date.today()\n",
    "\n",
    "result_days = today_date - date1\n",
    "result_days.days"
   ]
  },
  {
   "cell_type": "code",
   "execution_count": 26,
   "metadata": {},
   "outputs": [
    {
     "data": {
      "text/plain": [
       "datetime.date(2023, 2, 10)"
      ]
     },
     "execution_count": 26,
     "metadata": {},
     "output_type": "execute_result"
    }
   ],
   "source": [
    "# 날짜에 일 수 추가하기\n",
    "data2 = date1 + datetime.timedelta(days=10)\n",
    "data2"
   ]
  }
 ],
 "metadata": {
  "kernelspec": {
   "display_name": "base",
   "language": "python",
   "name": "python3"
  },
  "language_info": {
   "codemirror_mode": {
    "name": "ipython",
    "version": 3
   },
   "file_extension": ".py",
   "mimetype": "text/x-python",
   "name": "python",
   "nbconvert_exporter": "python",
   "pygments_lexer": "ipython3",
   "version": "3.11.7"
  }
 },
 "nbformat": 4,
 "nbformat_minor": 2
}
