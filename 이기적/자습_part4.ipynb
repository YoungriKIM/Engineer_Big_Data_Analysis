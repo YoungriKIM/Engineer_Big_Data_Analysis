{
 "cells": [
  {
   "cell_type": "markdown",
   "metadata": {},
   "source": [
    "**PART 04** 제3유형: 통계적 가설 검정\n",
    "\n",
    "> **CHAPTER 02** 통계적 가설 검정 기법 실습\n",
    "> >**1) 표본의 평균 검정**"
   ]
  },
  {
   "cell_type": "markdown",
   "metadata": {},
   "source": []
  }
 ],
 "metadata": {
  "language_info": {
   "name": "python"
  }
 },
 "nbformat": 4,
 "nbformat_minor": 2
}
