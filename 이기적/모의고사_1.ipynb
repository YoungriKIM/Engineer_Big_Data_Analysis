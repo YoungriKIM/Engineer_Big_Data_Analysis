{
 "cells": [
  {
   "cell_type": "markdown",
   "metadata": {},
   "source": [
    "#### 1유형"
   ]
  },
  {
   "cell_type": "markdown",
   "metadata": {},
   "source": [
    "* 데이터셋: airquality.csv\n",
    "1. airquality 데이터에 대해서 결측치가 가장 많은 변수를 찾아서 해당 결측치를 0으로 대치하고, 결측치를 제외한 평균과 0으로 대치한 후의 평균과의 차이를 구하시오.\n",
    "2. Wind 변수에 대해서 Min~Max 정규화를 수행한 후 평균값과 Z 정규화를 수행한 후 평균 값의 차이를 구하시오.(소수점 2자리까지 표시)\n",
    "3. 월별(5월~9월) 평균 기온을 구하시오."
   ]
  },
  {
   "cell_type": "code",
   "execution_count": 25,
   "metadata": {},
   "outputs": [
    {
     "name": "stdout",
     "output_type": "stream",
     "text": [
      "42.12931034482759\n",
      "31.941176470588236\n"
     ]
    }
   ],
   "source": [
    "# 1\n",
    "\n",
    "import pandas as pd\n",
    "\n",
    "# 데이터 로드\n",
    "df = pd.read_csv('C:/Engineer_Big_Data_Analysis/DATAS/이기적데이터/airquality.csv')\n",
    "# 결측치 가장 많은 변수 확인\n",
    "max_null_col = df.isna().sum().idxmax()\n",
    "# 결측치를 대치하기 전 평균\n",
    "print(df[max_null_col].mean())\n",
    "# 결측치 0으로 대치 후 평균\n",
    "print(df[max_null_col].fillna(0).mean())"
   ]
  },
  {
   "cell_type": "code",
   "execution_count": 36,
   "metadata": {},
   "outputs": [
    {
     "name": "stdout",
     "output_type": "stream",
     "text": [
      "0.43\n",
      "-0.00\n"
     ]
    }
   ],
   "source": [
    "# 2\n",
    "\n",
    "import pandas as pd\n",
    "from sklearn.preprocessing import MinMaxScaler, StandardScaler\n",
    "\n",
    "# 데이터 로드\n",
    "df = pd.read_csv('C:/Engineer_Big_Data_Analysis/DATAS/이기적데이터/airquality.csv')\n",
    "df = df[['Wind']]\n",
    "\n",
    "# scaler 지정\n",
    "mm_scaler = MinMaxScaler()\n",
    "sd_scaler = StandardScaler()\n",
    "\n",
    "# 민맥스스케일러 적용한 후 평균값\n",
    "print(f'{mm_scaler.fit_transform(df).mean():0.2f}')\n",
    "\n",
    "# Z정규화(스탠다드스케일러) 적용한 후 평균값\n",
    "print(f'{sd_scaler.fit_transform(df).mean():0.2f}')"
   ]
  },
  {
   "cell_type": "code",
   "execution_count": 37,
   "metadata": {},
   "outputs": [
    {
     "data": {
      "text/html": [
       "<div>\n",
       "<style scoped>\n",
       "    .dataframe tbody tr th:only-of-type {\n",
       "        vertical-align: middle;\n",
       "    }\n",
       "\n",
       "    .dataframe tbody tr th {\n",
       "        vertical-align: top;\n",
       "    }\n",
       "\n",
       "    .dataframe thead th {\n",
       "        text-align: right;\n",
       "    }\n",
       "</style>\n",
       "<table border=\"1\" class=\"dataframe\">\n",
       "  <thead>\n",
       "    <tr style=\"text-align: right;\">\n",
       "      <th></th>\n",
       "      <th>Temp</th>\n",
       "    </tr>\n",
       "    <tr>\n",
       "      <th>Month</th>\n",
       "      <th></th>\n",
       "    </tr>\n",
       "  </thead>\n",
       "  <tbody>\n",
       "    <tr>\n",
       "      <th>5</th>\n",
       "      <td>65.548387</td>\n",
       "    </tr>\n",
       "    <tr>\n",
       "      <th>6</th>\n",
       "      <td>79.100000</td>\n",
       "    </tr>\n",
       "    <tr>\n",
       "      <th>7</th>\n",
       "      <td>83.903226</td>\n",
       "    </tr>\n",
       "    <tr>\n",
       "      <th>8</th>\n",
       "      <td>83.967742</td>\n",
       "    </tr>\n",
       "    <tr>\n",
       "      <th>9</th>\n",
       "      <td>76.900000</td>\n",
       "    </tr>\n",
       "  </tbody>\n",
       "</table>\n",
       "</div>"
      ],
      "text/plain": [
       "            Temp\n",
       "Month           \n",
       "5      65.548387\n",
       "6      79.100000\n",
       "7      83.903226\n",
       "8      83.967742\n",
       "9      76.900000"
      ]
     },
     "execution_count": 37,
     "metadata": {},
     "output_type": "execute_result"
    }
   ],
   "source": [
    "# 3\n",
    "\n",
    "import pandas as pd\n",
    "import numpy as np\n",
    "\n",
    "# 데이터 로드\n",
    "df = pd.read_csv('C:/Engineer_Big_Data_Analysis/DATAS/이기적데이터/airquality.csv')\n",
    "df = df[['Month', 'Temp']]\n",
    "\n",
    "# 월별 평균 기온\n",
    "df.groupby('Month').Temp.mean().to_frame()"
   ]
  },
  {
   "cell_type": "markdown",
   "metadata": {},
   "source": [
    "#### 2유형"
   ]
  },
  {
   "cell_type": "markdown",
   "metadata": {},
   "source": [
    "* 데이터셋 : Bank_Personal_Loan_Modeling.csv\n",
    "1. 은행에서 수집한 고객 5,000명의 금융정보에 따른 대출여부가 들어있는 참조데이터를 이용하여 대출여부를 분류하는 가장 최적의 이웃의 크기(k)를 구하고, 이에 분류정확도를 산출하시오.\n",
    "   1. 단, 참조데이터는 7:3의 비율로 트레이닝 데이터와 테스트 데이터로 구분하고, 트레이닝 데이터와 테스트 데이터의 대출여부(Y)의 비율도 유지한다. 또한 normalizer를 사용하여 스케일링을 진행한다."
   ]
  },
  {
   "cell_type": "code",
   "execution_count": 7,
   "metadata": {},
   "outputs": [
    {
     "data": {
      "text/html": [
       "<div>\n",
       "<style scoped>\n",
       "    .dataframe tbody tr th:only-of-type {\n",
       "        vertical-align: middle;\n",
       "    }\n",
       "\n",
       "    .dataframe tbody tr th {\n",
       "        vertical-align: top;\n",
       "    }\n",
       "\n",
       "    .dataframe thead th {\n",
       "        text-align: right;\n",
       "    }\n",
       "</style>\n",
       "<table border=\"1\" class=\"dataframe\">\n",
       "  <thead>\n",
       "    <tr style=\"text-align: right;\">\n",
       "      <th></th>\n",
       "      <th>ID</th>\n",
       "      <th>Age</th>\n",
       "      <th>Experience</th>\n",
       "      <th>Income</th>\n",
       "      <th>ZIP Code</th>\n",
       "      <th>Family</th>\n",
       "      <th>CCAvg</th>\n",
       "      <th>Education</th>\n",
       "      <th>Mortgage</th>\n",
       "      <th>Personal Loan</th>\n",
       "      <th>Securities Account</th>\n",
       "      <th>CD Account</th>\n",
       "      <th>Online</th>\n",
       "      <th>CreditCard</th>\n",
       "    </tr>\n",
       "  </thead>\n",
       "  <tbody>\n",
       "    <tr>\n",
       "      <th>0</th>\n",
       "      <td>1</td>\n",
       "      <td>25</td>\n",
       "      <td>1</td>\n",
       "      <td>49</td>\n",
       "      <td>91107</td>\n",
       "      <td>4</td>\n",
       "      <td>1.6</td>\n",
       "      <td>1</td>\n",
       "      <td>0</td>\n",
       "      <td>0</td>\n",
       "      <td>1</td>\n",
       "      <td>0</td>\n",
       "      <td>0</td>\n",
       "      <td>0</td>\n",
       "    </tr>\n",
       "    <tr>\n",
       "      <th>1</th>\n",
       "      <td>2</td>\n",
       "      <td>45</td>\n",
       "      <td>19</td>\n",
       "      <td>34</td>\n",
       "      <td>90089</td>\n",
       "      <td>3</td>\n",
       "      <td>1.5</td>\n",
       "      <td>1</td>\n",
       "      <td>0</td>\n",
       "      <td>0</td>\n",
       "      <td>1</td>\n",
       "      <td>0</td>\n",
       "      <td>0</td>\n",
       "      <td>0</td>\n",
       "    </tr>\n",
       "    <tr>\n",
       "      <th>2</th>\n",
       "      <td>3</td>\n",
       "      <td>39</td>\n",
       "      <td>15</td>\n",
       "      <td>11</td>\n",
       "      <td>94720</td>\n",
       "      <td>1</td>\n",
       "      <td>1.0</td>\n",
       "      <td>1</td>\n",
       "      <td>0</td>\n",
       "      <td>0</td>\n",
       "      <td>0</td>\n",
       "      <td>0</td>\n",
       "      <td>0</td>\n",
       "      <td>0</td>\n",
       "    </tr>\n",
       "  </tbody>\n",
       "</table>\n",
       "</div>"
      ],
      "text/plain": [
       "   ID  Age  Experience  Income  ZIP Code  Family  CCAvg  Education  Mortgage  \\\n",
       "0   1   25           1      49     91107       4    1.6          1         0   \n",
       "1   2   45          19      34     90089       3    1.5          1         0   \n",
       "2   3   39          15      11     94720       1    1.0          1         0   \n",
       "\n",
       "   Personal Loan  Securities Account  CD Account  Online  CreditCard  \n",
       "0              0                   1           0       0           0  \n",
       "1              0                   1           0       0           0  \n",
       "2              0                   0           0       0           0  "
      ]
     },
     "metadata": {},
     "output_type": "display_data"
    },
    {
     "name": "stdout",
     "output_type": "stream",
     "text": [
      "(3500, 11) (3500,)\n",
      "(1500, 11) (1500,)\n",
      "정확도가 가장 높은 K는 2이고 0.9227\n"
     ]
    }
   ],
   "source": [
    "import numpy as np\n",
    "import scipy.stats as ss\n",
    "import pandas as pd\n",
    "from sklearn.preprocessing import Normalizer\n",
    "from sklearn.neighbors import KNeighborsClassifier\n",
    "from sklearn.model_selection import train_test_split\n",
    "from sklearn.metrics import accuracy_score\n",
    "\n",
    "# 데이터 로드\n",
    "df = pd.read_csv('C:/Engineer_Big_Data_Analysis/DATAS/이기적데이터/Bank_Personal_Loan_Modeling.csv')\n",
    "display(df.head(3))\n",
    "\n",
    "# 필요없는 ID, ZIP Code 삭제\n",
    "df = df.drop(columns=['ID', 'ZIP Code'], axis=1)\n",
    "\n",
    "# X,y 지정\n",
    "y = df['Personal Loan']\n",
    "X = df.drop(columns='Personal Loan', axis=1)\n",
    "\n",
    "# 분할 7:3\n",
    "x_train, x_test, y_train, y_test = train_test_split(X, y, test_size=0.3, random_state=311)\n",
    "print(x_train.shape, y_train.shape)\n",
    "print(x_test.shape, y_test.shape)\n",
    "\n",
    "# normalization 적용\n",
    "normalizer = Normalizer()\n",
    "x_train = normalizer.fit_transform(x_train)\n",
    "x_test = normalizer.transform(x_test)\n",
    "\n",
    "# K 1~25 넣어서 학습하고 가장 높은 값으로 반환\n",
    "max_k_nb = 0\n",
    "max_acc = 0\n",
    "for k_nb in range(1, 26):\n",
    "    model = KNeighborsClassifier(k_nb)\n",
    "    model.fit(x_train, y_train)\n",
    "    y_pred = model.predict(x_test)\n",
    "    acc = accuracy_score(y_test, y_pred)\n",
    "    if acc > max_acc :\n",
    "        max_acc = acc\n",
    "        max_k_nb = k_nb\n",
    "        \n",
    "print(f'정확도가 가장 높은 K는 {max_k_nb}이고 {max_acc:0.4f}')"
   ]
  },
  {
   "cell_type": "markdown",
   "metadata": {},
   "source": [
    "#### 3유형"
   ]
  },
  {
   "cell_type": "markdown",
   "metadata": {},
   "source": [
    "* 데이터셋 : airquality.csv\n",
    "1. 측정한 온도(Temp)의 평균값이 평균온도인 77과 일치하는지 t-검정을 이용하여 확인하시오.\n",
    "   1. 표본평균 X를 소수점 둘째짜리까지 반올림하여 구하시오.\n",
    "   2. 가설검정을 위한 검정통계량을 소수점 둘째짜리까지 반올림하여 구하시오.\n",
    "   3. 통계량에 대한 p-value 값을 소수점 넷째짜리까지 반올림하여 구하고, 유의수준 0.05 내에서 결과를 논하시오. (채택과 기각 중 선택)"
   ]
  },
  {
   "cell_type": "code",
   "execution_count": 11,
   "metadata": {},
   "outputs": [
    {
     "name": "stdout",
     "output_type": "stream",
     "text": [
      "표본평균의 실제 평균: 77.88\n",
      "검정통계량: 1.15\n",
      "p-값: 0.2507\n",
      "--------------------------------------------------\n",
      "대립가설 기각, 표본의 평균은 77과 같을 가능성이 있음\n"
     ]
    }
   ],
   "source": [
    "import pandas as pd\n",
    "import scipy.stats as ss\n",
    "\n",
    "# 데이터 로드\n",
    "df = pd.read_csv('C:/Engineer_Big_Data_Analysis/DATAS/이기적데이터/airquality.csv')\n",
    "# Temp만 남기기\n",
    "df_temp = df['Temp']\n",
    "\n",
    "# 실제 표본평균 X\n",
    "X = df_temp.mean()\n",
    "\n",
    "# t-test 1sample 진행\n",
    "t_stat, p_value = ss.ttest_1samp(df_temp, 77)\n",
    "\n",
    "# 결과 확인\n",
    "print(f'표본평균의 실제 평균: {round(X, 2)}')\n",
    "print(f'검정통계량: {round(t_stat, 2)}')\n",
    "print(f'p-값: {round(p_value, 4)}')\n",
    "print('-'*50)\n",
    "\n",
    "if p_value < 0.05 : print('귀무가설 기각, 표본평균의 평균은 77과 다를 가능성이 있음')\n",
    "else : print('대립가설 기각, 표본의 평균은 77과 같을 가능성이 있음')"
   ]
  }
 ],
 "metadata": {
  "kernelspec": {
   "display_name": "big",
   "language": "python",
   "name": "python3"
  },
  "language_info": {
   "codemirror_mode": {
    "name": "ipython",
    "version": 3
   },
   "file_extension": ".py",
   "mimetype": "text/x-python",
   "name": "python",
   "nbconvert_exporter": "python",
   "pygments_lexer": "ipython3",
   "version": "3.10.14"
  }
 },
 "nbformat": 4,
 "nbformat_minor": 2
}
