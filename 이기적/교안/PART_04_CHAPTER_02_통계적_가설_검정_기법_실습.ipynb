{
  "cells": [
    {
      "cell_type": "markdown",
      "metadata": {
        "id": "gzb1Nj1KQLus"
      },
      "source": [
        "**PART 04** 제3유형: 통계적 가설 검정\n",
        "\n",
        "> **CHAPTER 02** 통계적 가설 검정 기법 실습\n",
        "> >**1) 표본의 평균 검정**"
      ]
    },
    {
      "cell_type": "code",
      "execution_count": null,
      "metadata": {
        "colab": {
          "base_uri": "https://localhost:8080/"
        },
        "id": "Z_3iL3v79gYT",
        "outputId": "13c725fa-10db-49a8-b1f9-83b55e2fa857"
      },
      "outputs": [
        {
          "name": "stdout",
          "output_type": "stream",
          "text": [
            "표본평균: 27.9\n",
            "검정통계량: -0.15811388300842122\n",
            "임계값: 1.959963984540054\n",
            "p-값: 0.87436706116289\n",
            "귀무가설을 기각하지 못합니다. 표본평균이 모집단 평균과 차이가 없을 가능성이 있습니다.\n"
          ]
        }
      ],
      "source": [
        "import numpy as np\n",
        "from scipy.stats import norm\n",
        "\n",
        "# 예제 데이터 생성\n",
        "data = np.array([23, 25, 28, 30, 26, 27, 29, 32, 31, 28])\n",
        "\n",
        "# 모집단의 평균과 분산 (표준편차)\n",
        "population_mean = 28      # 모집단의 평균\n",
        "population_variance = 4   # 모집단의 분산 (표준편차의 제곱)\n",
        "\n",
        "# 유의수준 설정\n",
        "alpha = 0.05\n",
        "\n",
        "# 단측 또는 양측 검정 선택 (예: 양측 검정)\n",
        "alternative = \"two.sided\"\n",
        "\n",
        "# 표본평균 계산\n",
        "sample_mean = np.mean(data)\n",
        "\n",
        "# 표본 크기\n",
        "n = len(data)\n",
        "\n",
        "# 검정통계량 계산 (Z-검정)\n",
        "test_statistic = (sample_mean - population_mean) / (np.sqrt(population_variance) / np.sqrt(n))\n",
        "\n",
        "# 임계값 계산 (Z-검정, 양측 검정)\n",
        "critical_value = norm.ppf(1 - alpha / 2)\n",
        "\n",
        "# p-값 계산 (양측 검정)\n",
        "p_value = 2 * (1 - norm.cdf(abs(test_statistic)))\n",
        "\n",
        "# 결과 출력\n",
        "print(\"표본평균:\", sample_mean)\n",
        "print(\"검정통계량:\", test_statistic)\n",
        "print(\"임계값:\", critical_value)\n",
        "print(\"p-값:\", p_value)\n",
        "\n",
        "# 결과 해석\n",
        "if abs(test_statistic) > critical_value:\n",
        "    print(\"귀무가설을 기각합니다. 표본평균이 모집단 평균과 다릅니다.\")\n",
        "else:\n",
        "    print(\"귀무가설을 기각하지 못합니다. 표본평균이 모집단 평균과 차이가 없을 가능성이 있습니다.\")"
      ]
    },
    {
      "cell_type": "code",
      "execution_count": null,
      "metadata": {
        "colab": {
          "base_uri": "https://localhost:8080/"
        },
        "id": "xmnNZUHV_iM6",
        "outputId": "ba7d5419-0931-47b4-bb93-c898d09bcec0"
      },
      "outputs": [
        {
          "name": "stdout",
          "output_type": "stream",
          "text": [
            "t-통계량: 31.887160448233363\n",
            "p-값: 1.4410218033665443e-10\n",
            "95% 신뢰구간: (25.92070225277866, 29.879297747221337)\n",
            "귀무가설을 기각합니다. 표본평균이 모집단 평균과 다릅니다.\n"
          ]
        }
      ],
      "source": [
        "import numpy as np\n",
        "from scipy import stats\n",
        "\n",
        "# 예제 데이터 생성\n",
        "data = np.array([23, 25, 28, 30, 26, 27, 29, 32, 31, 28])\n",
        "\n",
        "# 유의수준 설정\n",
        "alpha = 0.05\n",
        "\n",
        "# 단측 또는 양측 검정 선택 (예: 양측 검정)\n",
        "alternative = 'two-sided'  # greater 또는 less로 변경 가능\n",
        "\n",
        "# t-검정 수행\n",
        "t_statistic, p_value = stats.ttest_1samp(data, popmean=0, alternative=alternative)\n",
        "\n",
        "# 95% 신뢰구간 계산\n",
        "confidence_interval = stats.t.interval(1-alpha, len(data) - 1, loc=np.mean(data), scale=stats.sem(data))\n",
        "\n",
        "# 결과 출력\n",
        "print(\"t-통계량:\", t_statistic)\n",
        "print(\"p-값:\", p_value)\n",
        "print(\"95% 신뢰구간:\", confidence_interval)\n",
        "\n",
        "# 결과 해석\n",
        "if p_value < alpha:\n",
        "    print(\"귀무가설을 기각합니다. 표본평균이 모집단 평균과 다릅니다.\")\n",
        "else:\n",
        "    print(\"귀무가설을 기각하지 못합니다. 표본평균이 모집단 평균과 차이가 없을 가능성이 있습니다.\")"
      ]
    },
    {
      "cell_type": "code",
      "execution_count": null,
      "metadata": {
        "colab": {
          "base_uri": "https://localhost:8080/"
        },
        "id": "Mtqpokhh_1kZ",
        "outputId": "dfb0abbf-879f-44dc-8563-fcbe20d20f75"
      },
      "outputs": [
        {
          "name": "stdout",
          "output_type": "stream",
          "text": [
            "mpg의 표본평균: 20.0906\n",
            "mpg의 표본분산: 36.3241\n",
            "단일표본 t-검정 결과:\n",
            "t-통계량: 0.08506003568133688\n",
            "p-값: 0.9327606409093872\n",
            "mpg 평균의 95% 신뢰구간: 17.9177 - 22.2636\n"
          ]
        }
      ],
      "source": [
        "# 따라하기\n",
        "import pandas as pd\n",
        "import numpy as np\n",
        "from scipy import stats\n",
        "\n",
        "# 데이터 불러오기\n",
        "mtcars = pd.read_csv('https://raw.githubusercontent.com/YoungjinBD/dataset/main/mtcars.csv')\n",
        "\n",
        "# mpg 열의 표본평균 계산 및 반올림\n",
        "mpg_mean = round(np.mean(mtcars['mpg']), 4)\n",
        "print(\"mpg의 표본평균:\", mpg_mean)\n",
        "\n",
        "# mpg 열의 표본분산 계산 및 반올림\n",
        "mpg_var = round(np.var(mtcars['mpg'], ddof=1), 4)\n",
        "print(\"mpg의 표본분산:\", mpg_var)\n",
        "\n",
        "# 단일표본 t-검정 수행, mpg 열의 평균이 20인지 검정\n",
        "t_stat, p_value = stats.ttest_1samp(mtcars['mpg'], 20)\n",
        "print(\"단일표본 t-검정 결과:\")\n",
        "print(\"t-통계량:\", t_stat)\n",
        "print(\"p-값:\", p_value)\n",
        "\n",
        "# mpg 평균의 95% 신뢰구간 계산 및 출력\n",
        "conf_interval = stats.t.interval(0.95, len(mtcars['mpg']) - 1, loc=np.mean(mtcars['mpg']), scale=stats.sem(mtcars['mpg']))\n",
        "print(\"mpg 평균의 95% 신뢰구간:\", round(conf_interval[0], 4), \"-\", round(conf_interval[1], 4))"
      ]
    },
    {
      "cell_type": "markdown",
      "metadata": {
        "id": "nBB7-IGERc5z"
      },
      "source": [
        ">>**2) 두 독립표본의 평균, 중앙값 차이 검정**"
      ]
    },
    {
      "cell_type": "code",
      "execution_count": null,
      "metadata": {
        "colab": {
          "base_uri": "https://localhost:8080/"
        },
        "id": "EeF9DM-KAYxn",
        "outputId": "15ea74b7-5c38-409b-ef12-6ffa9fe3859c"
      },
      "outputs": [
        {
          "name": "stdout",
          "output_type": "stream",
          "text": [
            "t-검정통계량: 1.5778641172210597\n",
            "Sample 1 평균: 27.6\n",
            "Sample 2 평균: 23.8\n",
            "p-값 (two-tailed): 0.15324889402868613\n",
            "두 그룹의 평균은 유의미하게 다르지 않습니다.\n"
          ]
        }
      ],
      "source": [
        "import scipy.stats as stats\n",
        "import numpy as np\n",
        "\n",
        "# 두 독립 표본 데이터\n",
        "sample1 = [23, 25, 28, 30, 32]\n",
        "sample2 = [19, 21, 24, 26, 29]\n",
        "\n",
        "# t-검정 실행\n",
        "t_statistic, p_value = stats.ttest_ind(sample1, sample2)\n",
        "\n",
        "# 각 샘플의 평균\n",
        "mean_sample1 = np.mean(sample1)\n",
        "mean_sample2 = np.mean(sample2)\n",
        "\n",
        "# 결과 출력\n",
        "alpha = 0.05    # 유의수준 (일반적으로 0.05 사용)\n",
        "print(\"t-검정통계량:\", t_statistic)\n",
        "print(\"Sample 1 평균:\", mean_sample1)\n",
        "print(\"Sample 2 평균:\", mean_sample2)\n",
        "print(\"p-값 (two-tailed):\", p_value)\n",
        "if p_value < alpha:\n",
        "    print(\"두 그룹의 평균은 유의미하게 다릅니다.\")\n",
        "else:\n",
        "    print(\"두 그룹의 평균은 유의미하게 다르지 않습니다.\")\n"
      ]
    },
    {
      "cell_type": "code",
      "execution_count": null,
      "metadata": {
        "colab": {
          "base_uri": "https://localhost:8080/"
        },
        "id": "YSJbNf5QElqp",
        "outputId": "96b1804c-b332-4eb9-e1b0-d63aac9b330b"
      },
      "outputs": [
        {
          "name": "stdout",
          "output_type": "stream",
          "text": [
            "Mann-Whitney U 통계량: 19.0\n",
            "Sample 1 평균: 27.6\n",
            "Sample 2 평균: 23.8\n",
            "p-값 (two-tailed): 0.2222222222222222\n",
            "두 그룹의 중앙값은 유의미하게 다르지 않습니다.\n"
          ]
        }
      ],
      "source": [
        "import scipy.stats as stats\n",
        "import numpy as np\n",
        "\n",
        "# 두 독립 표본 데이터\n",
        "sample1 = [23, 25, 28, 30, 32]\n",
        "sample2 = [19, 21, 24, 26, 29]\n",
        "\n",
        "# Mann-Whitney U 검정 실행\n",
        "u_statistic, p_value = stats.mannwhitneyu(sample1, sample2)\n",
        "\n",
        "# 각 샘플의 평균\n",
        "mean_sample1 = np.mean(sample1)\n",
        "mean_sample2 = np.mean(sample2)\n",
        "\n",
        "# 결과 출력\n",
        "alpha = 0.05 # 유의수준 (일반적으로 0.05 사용)\n",
        "print(\"Mann-Whitney U 통계량:\", u_statistic)\n",
        "print(\"Sample 1 평균:\", mean_sample1)\n",
        "print(\"Sample 2 평균:\", mean_sample2)\n",
        "print(\"p-값 (two-tailed):\", p_value)\n",
        "if p_value < alpha:\n",
        "    print(\"두 그룹의 중앙값은 유의미하게 다릅니다.\")\n",
        "else:\n",
        "    print(\"두 그룹의 중앙값은 유의미하게 다르지 않습니다.\")"
      ]
    },
    {
      "cell_type": "code",
      "execution_count": null,
      "metadata": {
        "colab": {
          "base_uri": "https://localhost:8080/"
        },
        "id": "hkR3ZBqaHJap",
        "outputId": "04aa4181-6b00-4e59-f748-42a24531aacf"
      },
      "outputs": [
        {
          "name": "stdout",
          "output_type": "stream",
          "text": [
            "Shapiro-Wilk 테스트 통계량: 0.9553363919258118\n",
            "p-값: 0.7484778761863708\n",
            "귀무가설을 기각하지 못하며, 데이터는 정규분포를 따를 가능성이 높습니다.\n"
          ]
        }
      ],
      "source": [
        "from scipy import stats\n",
        "\n",
        "# 정규성 검정을 위한 샘플 데이터 생성\n",
        "data = [2.4, 2.7, 3.1, 3.2, 3.5, 3.7, 3.9, 4.1, 4.2]\n",
        "\n",
        "# Shapiro-Wilk 테스트 수행\n",
        "statistic, p_value = stats.shapiro(data)\n",
        "\n",
        "# 결과 출력\n",
        "alpha = 0.05    # 유의수준 설정\n",
        "print(\"Shapiro-Wilk 테스트 통계량:\", statistic)\n",
        "print(\"p-값:\", p_value)\n",
        "if p_value > alpha:\n",
        "    print(\"귀무가설을 기각하지 못하며, 데이터는 정규분포를 따를 가능성이 높습니다.\")\n",
        "else:\n",
        "    print(\"귀무가설을 기각하며, 데이터는 정규분포를 따르지 않을 가능성이 있습니다.\")"
      ]
    },
    {
      "cell_type": "code",
      "execution_count": null,
      "metadata": {
        "colab": {
          "base_uri": "https://localhost:8080/"
        },
        "id": "xYSjDl9yHXTm",
        "outputId": "41fc12ad-6fc0-47f6-b87c-f440479cee56"
      },
      "outputs": [
        {
          "name": "stdout",
          "output_type": "stream",
          "text": [
            "남자 데이터 평균: 100.0\n",
            "여자 데이터 평균: 108.0\n",
            "\n",
            "남자 데이터 Shapiro-Wilk 테스트 통계량: 0.932635486125946\n",
            "남자 데이터 p-값: 0.17352384328842163\n",
            "남자 데이터는 정규분포를 따를 가능성이 높습니다.\n",
            "\n",
            "여자 데이터 Shapiro-Wilk 테스트 통계량: 0.9615268111228943\n",
            "여자 데이터 p-값: 0.5747838020324707\n",
            "여자 데이터는 정규분포를 따를 가능성이 높습니다.\n"
          ]
        }
      ],
      "source": [
        "# 따라하기\n",
        "from scipy import stats\n",
        "\n",
        "# 데이터 샘플\n",
        "dat_M = [117, 108, 105, 89, 101, 93, 96, 108, 108, 94, 93, 112, 92, 91, 100, 96, 120, 86, 96, 95]\n",
        "dat_F = [121, 101, 102, 114, 103, 105, 101, 131, 96, 109, 109, 113, 115, 94, 108, 96, 110, 112, 120, 100]\n",
        "\n",
        "# 평균 계산\n",
        "mean_M = sum(dat_M) / len(dat_M)\n",
        "mean_F = sum(dat_F) / len(dat_F)\n",
        "print(\"남자 데이터 평균:\", mean_M)\n",
        "print(\"여자 데이터 평균:\", mean_F)\n",
        "\n",
        "# 샤피로-윌크 정규성 테스트 수행\n",
        "statistic_M, p_value_M = stats.shapiro(dat_M)\n",
        "statistic_F, p_value_F = stats.shapiro(dat_F)\n",
        "\n",
        "print(\"\\n남자 데이터 Shapiro-Wilk 테스트 통계량:\", statistic_M)\n",
        "print(\"남자 데이터 p-값:\", p_value_M)\n",
        "\n",
        "if p_value_M > 0.05:\n",
        "    print(\"남자 데이터는 정규분포를 따를 가능성이 높습니다.\")\n",
        "else:\n",
        "    print(\"남자 데이터는 정규분포를 따르지 않을 가능성이 있습니다.\")\n",
        "\n",
        "print(\"\\n여자 데이터 Shapiro-Wilk 테스트 통계량:\", statistic_F)\n",
        "print(\"여자 데이터 p-값:\", p_value_F)\n",
        "\n",
        "if p_value_F > 0.05:\n",
        "    print(\"여자 데이터는 정규분포를 따를 가능성이 높습니다.\")\n",
        "else:\n",
        "    print(\"여자 데이터는 정규분포를 따르지 않을 가능성이 있습니다.\")\n"
      ]
    },
    {
      "cell_type": "code",
      "execution_count": null,
      "metadata": {
        "colab": {
          "base_uri": "https://localhost:8080/"
        },
        "id": "HWHufVmuIW1I",
        "outputId": "609c717b-b80e-4d43-e864-fa49fe9669f3"
      },
      "outputs": [
        {
          "name": "stdout",
          "output_type": "stream",
          "text": [
            "t-검정통계량: -2.670573872669349\n",
            "p-값: 0.011082895240510138\n",
            "두 표본 간에는 유의한 평균 차이가 있습니다. (귀무가설 기각)\n"
          ]
        }
      ],
      "source": [
        "from scipy import stats\n",
        "\n",
        "# 독립표본 t-검정 수행\n",
        "t_statistic, p_value = stats.ttest_ind(dat_M, dat_F)\n",
        "print(\"t-검정통계량:\", t_statistic)\n",
        "print(\"p-값:\", p_value)\n",
        "alpha = 0.05    # 유의수준 설정\n",
        "\n",
        "if p_value < alpha:\n",
        "    print(\"두 표본 간에는 유의한 평균 차이가 있습니다. (귀무가설 기각)\")\n",
        "else:\n",
        "    print(\"두 표본 간에는 유의한 평균 차이가 없습니다. (귀무가설 채택)\")\n"
      ]
    },
    {
      "cell_type": "markdown",
      "metadata": {
        "id": "-sqkFhtR85aA"
      },
      "source": [
        ">>**3) 대응표본의 평균 차이 검정 (t-검정)**"
      ]
    },
    {
      "cell_type": "code",
      "execution_count": null,
      "metadata": {
        "colab": {
          "base_uri": "https://localhost:8080/"
        },
        "id": "nn2fGOKdIrJi",
        "outputId": "12c0225a-2d42-4e1d-d9d6-d5a5edf83895"
      },
      "outputs": [
        {
          "name": "stdout",
          "output_type": "stream",
          "text": [
            "대응표본 t-검정 결과:\n",
            "t-통계량 : -8.25674954467424\n",
            "p-값 : 0.0011738040715128372\n"
          ]
        }
      ],
      "source": [
        "from scipy import stats\n",
        "\n",
        "data_before = [72, 75, 68, 71, 73]\n",
        "data_after = [76, 79, 74, 78, 80]\n",
        "\n",
        "t_statistic, p_value = stats.ttest_rel(data_before, data_after)\n",
        "\n",
        "print(\"대응표본 t-검정 결과:\")\n",
        "print(f\"t-통계량 : {t_statistic}\")\n",
        "print(f\"p-값 : {p_value}\")"
      ]
    },
    {
      "cell_type": "code",
      "execution_count": null,
      "metadata": {
        "colab": {
          "base_uri": "https://localhost:8080/"
        },
        "id": "YqgVMouOJPJA",
        "outputId": "693c535c-c44c-4b5f-db84-57d275332772"
      },
      "outputs": [
        {
          "name": "stdout",
          "output_type": "stream",
          "text": [
            "before 데이터의 정규성 검정:\n",
            "p-값: 0.835266649723053\n",
            "before 데이터는 정규분포를 따릅니다.\n",
            "\n",
            "after 데이터의 정규성 검정:\n",
            "p-값: 0.6177965998649597\n",
            "after 데이터는 정규분포를 따릅니다.\n"
          ]
        }
      ],
      "source": [
        "# 따라하기\n",
        "\n",
        "from scipy import stats\n",
        "\n",
        "before = [7, 3, 4, 5, 2, 1, 6, 6, 5, 4]\n",
        "after = [8, 4, 5, 6, 2, 3, 6, 8, 6, 5]\n",
        "\n",
        "# 샤피로-윌크 검정 수행\n",
        "_, p_value_before = stats.shapiro(before)\n",
        "_, p_value_after = stats.shapiro(after)\n",
        "\n",
        "# 결과 출력\n",
        "print(\"before 데이터의 정규성 검정:\")\n",
        "\n",
        "if p_value_before > 0.05:\n",
        "    print(\"p-값:\", p_value_before)\n",
        "    print(\"before 데이터는 정규분포를 따릅니다.\")\n",
        "else:\n",
        "    print(\"p-값:\", p_value_before)\n",
        "    print(\"before 데이터는 정규분포를 따르지 않습니다.\")\n",
        "print(\"\\nafter 데이터의 정규성 검정:\")\n",
        "\n",
        "if p_value_after > 0.05:\n",
        "    print(\"p-값:\", p_value_after)\n",
        "    print(\"after 데이터는 정규분포를 따릅니다.\")\n",
        "else:\n",
        "    print(\"p-값:\", p_value_after)\n",
        "    print(\"after 데이터는 정규분포를 따르지 않습니다.\")"
      ]
    },
    {
      "cell_type": "code",
      "execution_count": null,
      "metadata": {
        "colab": {
          "base_uri": "https://localhost:8080/"
        },
        "id": "XZKtg8naJ1b7",
        "outputId": "9b8736a8-a55a-462c-f1a0-d393513adb32"
      },
      "outputs": [
        {
          "name": "stdout",
          "output_type": "stream",
          "text": [
            "대응 표본 t-검정 결과:\n",
            "t-통계량(t-statistic): -4.743416490252569\n",
            "p-값(p-value): 0.0010538712570165528\n",
            "p-값이 유의수준보다 작으므로 귀무가설을 기각합니다.\n",
            "수면유도제를 복용하기 전과 후의 평균 수면시간 차이는 0보다 작습니다.\n"
          ]
        }
      ],
      "source": [
        "import numpy as np\n",
        "from scipy import stats\n",
        "\n",
        "# 데이터\n",
        "before = np.array([7, 3, 4, 5, 2, 1, 6, 6, 5, 4])\n",
        "after = np.array([8, 4, 5, 6, 2, 3, 6, 8, 6, 5])\n",
        "\n",
        "# 차이 값 계산\n",
        "D = before - after\n",
        "\n",
        "# 대응표본 t-검정 수행\n",
        "t_statistic, p_value = stats.ttest_rel(before, after)\n",
        "\n",
        "# 결과 출력\n",
        "print(\"대응 표본 t-검정 결과:\")\n",
        "print(f\"t-통계량(t-statistic): {t_statistic}\")\n",
        "print(f\"p-값(p-value): {p_value}\")\n",
        "\n",
        "# 가설 검정\n",
        "alpha = 0.05    # 유의수준\n",
        "\n",
        "if p_value < alpha:\n",
        "    print(\"p-값이 유의수준보다 작으므로 귀무가설을 기각합니다.\")\n",
        "    print(\"수면유도제를 복용하기 전과 후의 평균 수면시간 차이는 0보다 작습니다.\")\n",
        "else:\n",
        "    print(\"p-값이 유의수준보다 크므로 귀무가설을 기각하지 않습니다.\")\n",
        "    print(\"수면유도제를 복용하기 전과 후의 평균 수면시간에는 차이가 없습니다.\")"
      ]
    },
    {
      "cell_type": "markdown",
      "metadata": {
        "id": "OE6LuUQY8_XM"
      },
      "source": [
        ">>**4) 단일표본 모분산 검정 (카이제곱 검정)**"
      ]
    },
    {
      "cell_type": "code",
      "execution_count": 3,
      "metadata": {
        "colab": {
          "base_uri": "https://localhost:8080/"
        },
        "id": "8rgFUOMXLSED",
        "outputId": "8dac14fb-4893-4e11-b6fb-aaa38e033d8b"
      },
      "outputs": [
        {
          "name": "stdout",
          "output_type": "stream",
          "text": [
            "Chi-Square Statistic: 0.9800000000000009\n",
            "p-value: 0.9951447440742881\n",
            "귀무가설을 기각하지 못합니다. 모분산은 1.0과 같을 가능성이 있습니다.\n"
          ]
        }
      ],
      "source": [
        "import numpy as np\n",
        "from scipy.stats import chi2\n",
        "\n",
        "# 샘플 데이터 생성\n",
        "data = np.array([14.2, 15.1, 14.8, 15.4, 14.9, 15.2, 14.6, 15.0])\n",
        "\n",
        "# 가설 설정\n",
        "# H0: 모분산은 1.0과 같다.\n",
        "# H1: 모분산은 1.0과 다르다.\n",
        "\n",
        "population_variance = 1.0   # 모분산\n",
        "\n",
        "# 검정통계량 = (n-1) * 표본분산 / 모분산\n",
        "sample_variance = np.var(data, ddof=1)\n",
        "n = len(data)\n",
        "chi2_stat = (n-1) * sample_variance / population_variance\n",
        "\n",
        "# 카이제곱 분포의 자유도\n",
        "degrees_of_freedom = n-1\n",
        "\n",
        "# p-값 계산\n",
        "p_value = 1 - chi2.cdf(chi2_stat, degrees_of_freedom)\n",
        "\n",
        "# 결과 출력\n",
        "print(\"Chi-Square Statistic:\", chi2_stat)\n",
        "print(\"p-value:\", p_value)\n",
        "\n",
        "# 유의수준 0.05로 가설 검정\n",
        "alpha = 0.05\n",
        "if p_value < alpha:\n",
        "    print(\"귀무가설을 기각합니다. 모분산은 1.0과 다릅니다.\")\n",
        "else:\n",
        "    print(\"귀무가설을 기각하지 못합니다. 모분산은 1.0과 같을 가능성이 있습니다.\")\n"
      ]
    },
    {
      "cell_type": "markdown",
      "metadata": {
        "id": "t8kflI9a9ItG"
      },
      "source": [
        ">>**5) 두 모분산 비에 대한 가설 검정 (F 검정: 일원분산분석)**"
      ]
    },
    {
      "cell_type": "code",
      "execution_count": null,
      "metadata": {
        "colab": {
          "base_uri": "https://localhost:8080/"
        },
        "id": "AUo5W-plL0k2",
        "outputId": "87dd0535-3924-4784-8cfe-f445ce705c95"
      },
      "outputs": [
        {
          "name": "stdout",
          "output_type": "stream",
          "text": [
            "[ 2.82873879  6.99469089  5.565957    1.98741057  3.8427995   8.30287307\n",
            "  0.14664151  4.14217474  7.53187252  3.2665192   3.6422277   4.81058206\n",
            "  7.98277925  3.72219601  4.11203608  4.13129745  9.41186017  9.37357218\n",
            "  7.0081078   5.7723728   6.47473715  7.98146406  3.12833226  7.35165809\n",
            "  2.49223866  3.724497    6.81421039  2.1426386   4.71986256  3.27649021\n",
            "  4.48876126 -0.59717821  1.45693379  3.60024553  6.85492486  4.65272863\n",
            "  5.00569183  6.37644542  3.24092731  5.56725465  3.38926696  1.54466101\n",
            "  4.21820041  6.14761172  5.6771781   4.97633901  9.78473053  5.82582432\n",
            "  6.95747201  9.47628668]\n",
            "[ 1.11774403  1.88363537 10.23113668  2.60581179  5.08904969  8.20794791\n",
            "  7.67211917 10.26465855  9.48693241  8.20817801  2.68187386  7.384588\n",
            "  5.94281598  1.02120362  9.25189714  7.4217096   5.13647024  4.30072382\n",
            "  1.40509657  5.59857222  6.40531736  2.50653505  8.48661215  1.70839086\n",
            " -1.36930105  8.11918127  3.78990189  4.62191124  2.48744983  0.18211172\n",
            "  8.76571212  2.93339305  9.98285746  7.42192456  4.05572556  1.7422928\n",
            "  2.80261404  1.36243061 11.26134008  5.49332369  8.45061663  1.19794385\n",
            "  5.54310539  8.53358582  3.99496771  8.09334338  1.74629626  0.90958537\n",
            "  6.13820184  3.8624707 ]\n"
          ]
        }
      ],
      "source": [
        "import numpy as np\n",
        "\n",
        "np.random.seed(123) # 결과 재현을 위한 시드 설정\n",
        "\n",
        "sample1 = np.random.normal(loc=5, scale=2, size=50) # 첫 번째 표본 생성\n",
        "sample2 = np.random.normal(loc=5, scale=3, size=50) # 두 번째 표본 생성\n",
        "print(sample1)\n",
        "print(sample2)"
      ]
    },
    {
      "cell_type": "code",
      "execution_count": null,
      "metadata": {
        "colab": {
          "base_uri": "https://localhost:8080/"
        },
        "id": "-Uz2IwwGL8h_",
        "outputId": "00ec3c9d-dc30-4cd7-ada9-64983847ac7c"
      },
      "outputs": [
        {
          "name": "stdout",
          "output_type": "stream",
          "text": [
            "표본 1의 분산: 5.7763\n",
            "표본 2의 분산: 10.3800\n",
            "F-통계량: 0.5565\n",
            "p-value: 0.9787 >= 0.05, 귀무가설을 기각하지 않습니다. 두 표본의 모분산은 같을 수 있습니다.\n"
          ]
        }
      ],
      "source": [
        "from scipy import stats\n",
        "\n",
        "# 두 표본의 분산 계산\n",
        "variance_sample1 = np.var(sample1, ddof=1) # ddof=1은 자유도 보정을 위해 사용\n",
        "variance_sample2 = np.var(sample2, ddof=1)\n",
        "\n",
        "# F-검정 실행\n",
        "f_statistic = variance_sample1 / variance_sample2\n",
        "df1 = len(sample1) - 1\n",
        "df2 = len(sample2) - 1\n",
        "p_value = 1 - stats.f.cdf(f_statistic, df1, df2)\n",
        "\n",
        "print(f\"표본 1의 분산: {variance_sample1:.4f}\")\n",
        "print(f\"표본 2의 분산: {variance_sample2:.4f}\")\n",
        "print(f\"F-통계량: {f_statistic:.4f}\")\n",
        "\n",
        "alpha = 0.05 # 유의수준\n",
        "if p_value < alpha:\n",
        "    print(f\"p-value: {p_value:.4f} < {alpha}, 귀무가설을 기각합니다. 두 표본의 모분산은 다릅니다.\")\n",
        "else:\n",
        "    print(f\"p-value: {p_value:.4f} >= {alpha}, 귀무가설을 기각하지 않습니다. 두 표본의 모분산은 같을 수 있습니다.\")\n"
      ]
    },
    {
      "cell_type": "markdown",
      "metadata": {
        "id": "kF7k-b9R9R7Q"
      },
      "source": [
        ">>**6) 독립성 검정 (카이제곱 검정)**"
      ]
    },
    {
      "cell_type": "code",
      "execution_count": null,
      "metadata": {
        "colab": {
          "base_uri": "https://localhost:8080/"
        },
        "id": "ZWakjC-JNJ7a",
        "outputId": "84263c1d-1fca-43a3-e7ad-c05a8a382582"
      },
      "outputs": [
        {
          "name": "stdout",
          "output_type": "stream",
          "text": [
            "Chi-square statistic: 134.7511341579557\n",
            "p-value: 5.117490956087995e-29\n",
            "Degrees of freedom: 3\n",
            "Expected frequencies table:\n",
            "[[ 99.16666667  74.375      120.41666667 131.04166667]\n",
            " [ 40.83333333  30.625       49.58333333  53.95833333]]\n"
          ]
        }
      ],
      "source": [
        "import numpy as np\n",
        "from scipy.stats import chi2_contingency\n",
        "\n",
        "# 주어진 데이터를 매트릭스로 입력\n",
        "data_matrix = np.array([[50, 75, 125, 175], [90, 30, 45, 10]])\n",
        "\n",
        "# 카이제곱 독립성 검정 수행\n",
        "chi2, p, df, expected = chi2_contingency(data_matrix)\n",
        "\n",
        "# 결과 출력\n",
        "print(\"Chi-square statistic:\", chi2)\n",
        "print(\"p-value:\", p)\n",
        "print(\"Degrees of freedom:\", df)\n",
        "print(\"Expected frequencies table:\")\n",
        "print(expected)"
      ]
    },
    {
      "cell_type": "code",
      "execution_count": null,
      "metadata": {
        "colab": {
          "base_uri": "https://localhost:8080/"
        },
        "id": "byM8xmHjNX6l",
        "outputId": "7343413d-0deb-4ae5-ed8e-8e8968a89505"
      },
      "outputs": [
        {
          "name": "stdout",
          "output_type": "stream",
          "text": [
            "카이제곱 통계량: 260.71702016732104\n",
            "p-value: 1.1973570627755645e-58\n",
            "자유도(df): 1\n",
            "기대값(Expected Frequencies):\n",
            "[[193.47474747 120.52525253]\n",
            " [355.52525253 221.47474747]]\n"
          ]
        }
      ],
      "source": [
        "import pandas as pd\n",
        "import numpy as np\n",
        "from scipy.stats import chi2_contingency\n",
        "\n",
        "# 타이타닉 데이터셋\n",
        "titanic_data = pd.read_csv('https://raw.githubusercontent.com/YoungjinBD/dataset/main/titanic.csv')\n",
        "\n",
        "# 교차표 생성: 성별(Sex)과 생존 여부(Survived)를 기반\n",
        "cross_table = pd.crosstab(titanic_data['Sex'], titanic_data['Survived'])\n",
        "\n",
        "# 카이제곱 독립성 검정 수행\n",
        "chi2, p, df, expected = chi2_contingency(cross_table)\n",
        "\n",
        "# 결과 출력\n",
        "print(\"카이제곱 통계량:\", chi2)\n",
        "print(\"p-value:\", p)\n",
        "print(\"자유도(df):\", df)\n",
        "print(\"기대값(Expected Frequencies):\")\n",
        "print(expected)"
      ]
    },
    {
      "cell_type": "code",
      "execution_count": null,
      "metadata": {
        "colab": {
          "base_uri": "https://localhost:8080/"
        },
        "id": "fPEb2iexNqux",
        "outputId": "bef9f119-9046-4626-b960-5118f31e0fb4"
      },
      "outputs": [
        {
          "name": "stdout",
          "output_type": "stream",
          "text": [
            "           Age AgeGroup\n",
            "0    22.000000      20대\n",
            "1    38.000000      30대\n",
            "2    26.000000      20대\n",
            "3    35.000000      30대\n",
            "4    35.000000      30대\n",
            "..         ...      ...\n",
            "886  27.000000      20대\n",
            "887  19.000000      10대\n",
            "888  29.699118      20대\n",
            "889  26.000000      20대\n",
            "890  32.000000      30대\n",
            "\n",
            "[891 rows x 2 columns]\n"
          ]
        }
      ],
      "source": [
        "# 나이를 그룹으로 나누는 함수 정의\n",
        "def categorize_age(age):\n",
        "    if age < 20:\n",
        "        return '10대'\n",
        "    elif age < 30:\n",
        "        return '20대'\n",
        "    elif age < 40:\n",
        "        return '30대'\n",
        "    elif age < 50:\n",
        "        return '40대'\n",
        "    elif age < 60:\n",
        "        return '50대'\n",
        "    else:\n",
        "        return '60대 이상'\n",
        "\n",
        "# 나이가 NaN인 경우 해당 열의 평균값으로 대체\n",
        "average_age = titanic_data['Age'].mean()\n",
        "titanic_data['Age'] = titanic_data['Age'].apply(lambda x: average_age if np.isnan(x) else x)\n",
        "\n",
        "# apply() 함수로 새로운 열 생성\n",
        "titanic_data['AgeGroup'] = titanic_data['Age'].apply(categorize_age)\n",
        "\n",
        "# 결과 출력\n",
        "print(titanic_data[['Age', 'AgeGroup']])"
      ]
    },
    {
      "cell_type": "code",
      "execution_count": null,
      "metadata": {
        "colab": {
          "base_uri": "https://localhost:8080/"
        },
        "id": "lzDmH11AOH8B",
        "outputId": "ae3a5bb8-0e0d-46d0-b2c7-4e616ff0e4a0"
      },
      "outputs": [
        {
          "name": "stdout",
          "output_type": "stream",
          "text": [
            "카이제곱 통계량: 16.134525241016338\n",
            "p-value): 0.006470311249228111\n",
            "자유도(df): 5\n",
            "기대값(Expected Frequencies):\n",
            "[[101.05050505  62.94949495]\n",
            " [244.61616162 152.38383838]\n",
            " [102.8989899   64.1010101 ]\n",
            " [ 54.83838384  34.16161616]\n",
            " [ 29.57575758  18.42424242]\n",
            " [ 16.02020202   9.97979798]]\n"
          ]
        }
      ],
      "source": [
        "# 교차표 생성: 연령대(AgeGroup)과 생존 여부(Survived)를 기반\n",
        "cross_table = pd.crosstab(titanic_data['AgeGroup'], titanic_data['Survived'])\n",
        "\n",
        "# 카이제곱 독립성 검정 수행\n",
        "chi2, p, df, expected = chi2_contingency(cross_table)\n",
        "\n",
        "# 결과 출력\n",
        "print(\"카이제곱 통계량:\", chi2)\n",
        "print(\"p-value):\", p)\n",
        "print(\"자유도(df):\", df)\n",
        "print(\"기대값(Expected Frequencies):\")\n",
        "print(expected)"
      ]
    }
  ],
  "metadata": {
    "colab": {
      "provenance": []
    },
    "kernelspec": {
      "display_name": "Python 3",
      "name": "python3"
    },
    "language_info": {
      "name": "python"
    }
  },
  "nbformat": 4,
  "nbformat_minor": 0
}
