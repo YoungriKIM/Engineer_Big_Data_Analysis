{
  "nbformat": 4,
  "nbformat_minor": 0,
  "metadata": {
    "colab": {
      "provenance": []
    },
    "kernelspec": {
      "name": "python3",
      "display_name": "Python 3"
    },
    "language_info": {
      "name": "python"
    }
  },
  "cells": [
    {
      "cell_type": "markdown",
      "source": [
        "**PART 01** 파이썬 프로그래밍\n",
        "\n",
        "> **CHAPTER 01** 파이썬 프로그래밍 기초\n",
        "> >**01 파이썬(Python) 개요**"
      ],
      "metadata": {
        "id": "2PZB_dCpGd4F"
      }
    },
    {
      "cell_type": "code",
      "source": [
        "print(\"첫번째 파이썬 프로그래밍\")"
      ],
      "metadata": {
        "colab": {
          "base_uri": "https://localhost:8080/"
        },
        "id": "jDQFm-eSG8gU",
        "outputId": "c531bb73-4f9f-4ab1-8e0b-ae54bf826df5"
      },
      "execution_count": null,
      "outputs": [
        {
          "output_type": "stream",
          "name": "stdout",
          "text": [
            "첫번째 파이썬 프로그래밍\n"
          ]
        }
      ]
    },
    {
      "cell_type": "markdown",
      "source": [
        ">>**02 변수, 데이터타입, 연산자**"
      ],
      "metadata": {
        "id": "mjmll80yHcTn"
      }
    },
    {
      "cell_type": "code",
      "source": [
        "a = 1         # 변수 a의 값은 1\n",
        "print(a)      # print(a)의 결과로 1이 출력"
      ],
      "metadata": {
        "colab": {
          "base_uri": "https://localhost:8080/"
        },
        "id": "VzFAIWLGGxVS",
        "outputId": "6bbe6a8b-7a3f-4242-e900-9b1451ba1ed4"
      },
      "execution_count": null,
      "outputs": [
        {
          "output_type": "stream",
          "name": "stdout",
          "text": [
            "1\n"
          ]
        }
      ]
    },
    {
      "cell_type": "code",
      "source": [
        "b = 5         # 변수 b의 값은 5\n",
        "a = b         # 변수 a에 변수 b의 값을 대입\n",
        "print(a)      # 결과로 5가 출력"
      ],
      "metadata": {
        "colab": {
          "base_uri": "https://localhost:8080/"
        },
        "id": "Rz7YVceHH9YV",
        "outputId": "abcc52e8-2b68-4db1-91b1-aa6b07ddd77b"
      },
      "execution_count": null,
      "outputs": [
        {
          "output_type": "stream",
          "name": "stdout",
          "text": [
            "5\n"
          ]
        }
      ]
    },
    {
      "cell_type": "code",
      "source": [
        "a = 1         # a, b는 정수형 변수\n",
        "b = 5\n",
        "c = 3.3       # c, d는 실수형 변수\n",
        "d = 0.5\n",
        "print(a, b, c, d)"
      ],
      "metadata": {
        "colab": {
          "base_uri": "https://localhost:8080/"
        },
        "id": "lOA1APD1IDQN",
        "outputId": "18611028-3c10-43fe-d663-49d9b9030aac"
      },
      "execution_count": null,
      "outputs": [
        {
          "output_type": "stream",
          "name": "stdout",
          "text": [
            "1 5 3.3 0.5\n"
          ]
        }
      ]
    },
    {
      "cell_type": "code",
      "source": [
        "a = 10\n",
        "b = 5\n",
        "c = 3\n",
        "print(a+b, a-b, a*b, a/b)     # 10+5→15, 10-5→5, 10*5→50, 10/5→2.0\n",
        "print(a**c, a//c, a%c)        # 10**3→1000, 10//3→3(몫), 10%3→1(나머지)"
      ],
      "metadata": {
        "colab": {
          "base_uri": "https://localhost:8080/"
        },
        "id": "Xr7HUN0JIHOA",
        "outputId": "c4b5ec1a-65fd-463c-f464-4717a4e8e330"
      },
      "execution_count": null,
      "outputs": [
        {
          "output_type": "stream",
          "name": "stdout",
          "text": [
            "15 5 50 2.0\n",
            "1000 3 1\n"
          ]
        }
      ]
    },
    {
      "cell_type": "code",
      "source": [
        "str1 = \"python\"\n",
        "str2 = \"programming\"\n",
        "print(str1+str2)          # +는 두 개의 문자열을 연결\n",
        "print(str1*2)             # *는 숫자만큼 문자열을 반복해서 연결"
      ],
      "metadata": {
        "colab": {
          "base_uri": "https://localhost:8080/"
        },
        "id": "GCghNzbsIP7f",
        "outputId": "77ef7ec0-d129-4af0-be19-b20f93ac3aa5"
      },
      "execution_count": null,
      "outputs": [
        {
          "output_type": "stream",
          "name": "stdout",
          "text": [
            "pythonprogramming\n",
            "pythonpython\n"
          ]
        }
      ]
    },
    {
      "cell_type": "code",
      "source": [
        "str = \"python programming\"\n",
        "print(str[0], str[1], str[10])    # str[0]은 첫번째 문자, str[10]은 11번째문자\n",
        "print(str[0:4])                   # str[0:4]는 1~4번째 문자를 추출\n",
        "print(str[5:9])                   # str[5:9]는 6~9번째 문자를 추출"
      ],
      "metadata": {
        "colab": {
          "base_uri": "https://localhost:8080/"
        },
        "id": "WafRjz31IXBs",
        "outputId": "0fed131b-9695-4071-9221-b08745fdf097"
      },
      "execution_count": null,
      "outputs": [
        {
          "output_type": "stream",
          "name": "stdout",
          "text": [
            "p y g\n",
            "pyth\n",
            "n pr\n"
          ]
        }
      ]
    },
    {
      "cell_type": "code",
      "source": [
        "print(\"오늘은 %d일 입니다.\" %13)\n",
        "print(\"오늘은 %s일 입니다.\" %\"수요일\")\n",
        "print(\"지금 온도는 %f도 입니다.\" %32.7)\n",
        "print(\"지금 온도는 %0.2f도 입니다.\" %32.7)    # 소수점 2번째 자리까지 출력"
      ],
      "metadata": {
        "colab": {
          "base_uri": "https://localhost:8080/"
        },
        "id": "Nw5c2728Ie4V",
        "outputId": "c2312ba7-fbd3-4280-d4c6-14b208bed48f"
      },
      "execution_count": null,
      "outputs": [
        {
          "output_type": "stream",
          "name": "stdout",
          "text": [
            "오늘은 13일 입니다.\n",
            "오늘은 수요일일 입니다.\n",
            "지금 온도는 32.700000도 입니다.\n",
            "지금 온도는 32.70도 입니다.\n"
          ]
        }
      ]
    },
    {
      "cell_type": "markdown",
      "source": [
        " > >**03 조건문과 반복문**"
      ],
      "metadata": {
        "id": "3Lfl6qEiG5X5"
      }
    },
    {
      "cell_type": "code",
      "source": [
        "a = 10\n",
        "# a>0는 참이므로 if문 내의 문장을 실행\n",
        "if (a > 0) :\n",
        "    print(\"a는 양의 정수입니다.\")"
      ],
      "metadata": {
        "colab": {
          "base_uri": "https://localhost:8080/"
        },
        "id": "9FX0BWTSI5PQ",
        "outputId": "343cc204-4501-46f6-896f-9901551359b0"
      },
      "execution_count": null,
      "outputs": [
        {
          "output_type": "stream",
          "name": "stdout",
          "text": [
            "a는 양의 정수입니다.\n"
          ]
        }
      ]
    },
    {
      "cell_type": "code",
      "source": [
        "# a<0은 거짓이므로 if문 내의 문장을 실행하지 않고, if문 다음 문장 print(a)를 실행\n",
        "if (a < 0) :\n",
        "    print(\"a는 음의 정수입니다.\")\n",
        "print(a)"
      ],
      "metadata": {
        "colab": {
          "base_uri": "https://localhost:8080/"
        },
        "id": "qoqmyLC6JALy",
        "outputId": "08c684e2-d7b9-4b99-b71b-53ac8eabb087"
      },
      "execution_count": null,
      "outputs": [
        {
          "output_type": "stream",
          "name": "stdout",
          "text": [
            "10\n"
          ]
        }
      ]
    },
    {
      "cell_type": "code",
      "source": [
        "a = -10\n",
        "# a가 0보다 크면 if 아래 문장을 실행, 작거나 같으면 else 아래 문장을 실행\n",
        "# a = -10 이므로, else 다음 문장인 print(“a는 음의 정수입니다.”)를 실행\n",
        "if (a > 0) :\n",
        "    print(\"a는 %d입니다.\" %a)\n",
        "    print(\"a는 양의 정수입니다.\")\n",
        "else :\n",
        "    print(\"a는 %d입니다.\" %a)\n",
        "    print(\"a는 음의 정수입니다.\")\n",
        "# 문장이 2개 이상일 경우에도 들여쓰기만 정확히 맞춰주면 됨"
      ],
      "metadata": {
        "colab": {
          "base_uri": "https://localhost:8080/"
        },
        "id": "ZE0_oFSfJIHI",
        "outputId": "cde8d3af-b3d6-4c69-be4d-d5108c3be5d7"
      },
      "execution_count": null,
      "outputs": [
        {
          "output_type": "stream",
          "name": "stdout",
          "text": [
            "a는 -10입니다.\n",
            "a는 음의 정수입니다.\n"
          ]
        }
      ]
    },
    {
      "cell_type": "code",
      "source": [
        "a = -10\n",
        "# a>10은 거짓이므로 elif 조건인 a==0을 검사하고, 이 조건도 거짓이므로 else 다음 문장을 실행\n",
        "if (a > 0) :\n",
        "    print(\"a는 양의 정수입니다.\")\n",
        "elif (a == 0) :\n",
        "    print(\"a는 0입니다.\")\n",
        "else :\n",
        "    print(\"a는 음의 정수입니다.\")"
      ],
      "metadata": {
        "colab": {
          "base_uri": "https://localhost:8080/"
        },
        "id": "Z6nQFzq9JUPl",
        "outputId": "c1b5248e-2043-47ec-e5ed-506323fcc680"
      },
      "execution_count": null,
      "outputs": [
        {
          "output_type": "stream",
          "name": "stdout",
          "text": [
            "a는 음의 정수입니다.\n"
          ]
        }
      ]
    },
    {
      "cell_type": "code",
      "source": [
        "# 사용자로부터 숫자를 입력 받아서 변수 a, b, c에 대입\n",
        "a = int(input(\"첫번째 수를 입력하세요\"))\n",
        "b = int(input(\"두번째 수를 입력하세요\"))\n",
        "c = int(input(\"세번째 수를 입력하세요\"))\n",
        "# a와 b를 비교해서 더 큰 값을 big에 대입\n",
        "if (a >= b) :\n",
        "    big = a\n",
        "else :\n",
        "    big = b\n",
        "# c와 big을 비교해서 더 큰 값을 출력\n",
        "if (c >= big) :\n",
        "    print(\"가장 큰 수는 %d입니다.\" %c)\n",
        "else :\n",
        "    print(\"가장 큰 수는 %d입니다.\" %big)"
      ],
      "metadata": {
        "colab": {
          "base_uri": "https://localhost:8080/"
        },
        "id": "U5tt_cOuJfYh",
        "outputId": "bc302a62-a636-487c-9a45-f929df75db15"
      },
      "execution_count": null,
      "outputs": [
        {
          "output_type": "stream",
          "name": "stdout",
          "text": [
            "첫번째 수를 입력하세요20\n",
            "두번째 수를 입력하세요50\n",
            "세번째 수를 입력하세요30\n",
            "가장 큰 수는 50입니다.\n"
          ]
        }
      ]
    },
    {
      "cell_type": "code",
      "source": [
        "for i in range(5) :             # 5번을 반복해서 실행\n",
        "    print(\"python programming\")"
      ],
      "metadata": {
        "colab": {
          "base_uri": "https://localhost:8080/"
        },
        "id": "7gMlU1Wb4e5c",
        "outputId": "19cbc96c-5938-44c4-87df-7b9030508deb"
      },
      "execution_count": null,
      "outputs": [
        {
          "output_type": "stream",
          "name": "stdout",
          "text": [
            "python programming\n",
            "python programming\n",
            "python programming\n",
            "python programming\n",
            "python programming\n"
          ]
        }
      ]
    },
    {
      "cell_type": "code",
      "source": [
        "sum = 0\n",
        "# range(1,6)은 1,2,3,4,5의 5개 숫자를 생성\n",
        "for i in range(1, 6) :                            # 변수 i에 1,2,3,4,5를 대입하면서 반복 실행\n",
        "    sum = sum + i\n",
        "    print(\"i의 값 : %d, 합계 : %d\" %(i, sum))     # 2개 이상의 변수를 문자열 포맷팅하기 위해 괄호() 묶음"
      ],
      "metadata": {
        "colab": {
          "base_uri": "https://localhost:8080/"
        },
        "id": "y8KSnsVo4kG5",
        "outputId": "16acae5c-ae7f-4ac4-d817-d5890f46410f"
      },
      "execution_count": null,
      "outputs": [
        {
          "output_type": "stream",
          "name": "stdout",
          "text": [
            "i의 값 : 1, 합계 : 1\n",
            "i의 값 : 2, 합계 : 3\n",
            "i의 값 : 3, 합계 : 6\n",
            "i의 값 : 4, 합계 : 10\n",
            "i의 값 : 5, 합계 : 15\n"
          ]
        }
      ]
    },
    {
      "cell_type": "code",
      "source": [
        "# range(1, 10, 2)는 1부터 시작하여 10까지 2씩 증가하는 숫자(1, 3, 5, 7, 9)를 생성\n",
        "for i in range(1, 10, 2) :\n",
        "    print(i, end=' ')      # end=' '는 결과값을 하나의 줄에서 공백(' ')으로 구분하여 출력하라는 의미"
      ],
      "metadata": {
        "colab": {
          "base_uri": "https://localhost:8080/"
        },
        "id": "Kqm6H2pn4vPW",
        "outputId": "759b0df1-5dbb-4c22-d465-986d78a66152"
      },
      "execution_count": null,
      "outputs": [
        {
          "output_type": "stream",
          "name": "stdout",
          "text": [
            "1 3 5 7 9 "
          ]
        }
      ]
    },
    {
      "cell_type": "code",
      "source": [
        "for x in \"python\" :       # range 함수 대신에 문자열, 리스트 등도 가능\n",
        "    print(x)              # \"python\"의 6개 문자를 반복해서 출력"
      ],
      "metadata": {
        "colab": {
          "base_uri": "https://localhost:8080/"
        },
        "id": "jp5MLtRX454k",
        "outputId": "73ef0c34-82da-433e-c77e-05e6ca1488cf"
      },
      "execution_count": null,
      "outputs": [
        {
          "output_type": "stream",
          "name": "stdout",
          "text": [
            "p\n",
            "y\n",
            "t\n",
            "h\n",
            "o\n",
            "n\n"
          ]
        }
      ]
    },
    {
      "cell_type": "code",
      "source": [
        "# for문 내에 for문 중첩\n",
        "# i가 1, 2, 3, 4로 반복되는 동안 각각의 i에 대해서 j도 1, 2, 3, 4로 반복됨\n",
        "for i in range(1, 5) :\n",
        "    for j in range(1, 5) :\n",
        "        print(i * j, end = ' ')     # print(i * j)는 16번 실행됨\n",
        "    print()                         # i가 바뀌는 시점에 줄바꿈"
      ],
      "metadata": {
        "colab": {
          "base_uri": "https://localhost:8080/"
        },
        "id": "jEH0HytI5ErJ",
        "outputId": "d6afbaa0-b7f8-4f98-f54c-72efedab3185"
      },
      "execution_count": null,
      "outputs": [
        {
          "output_type": "stream",
          "name": "stdout",
          "text": [
            "1 2 3 4 \n",
            "2 4 6 8 \n",
            "3 6 9 12 \n",
            "4 8 12 16 \n"
          ]
        }
      ]
    },
    {
      "cell_type": "code",
      "source": [
        "for i in range(2,10) :                            # i는 2부터 9까지 반복\n",
        "    for j in range(1,10) :                        # j는 1부터 9까지 반복\n",
        "        print(\"%d*%d=%d\" %(i,j,i*j), end=' ')     # 2*1=2로 시작하여 같은 형태 반복\n",
        "    print()                                       # 줄바꿈"
      ],
      "metadata": {
        "colab": {
          "base_uri": "https://localhost:8080/"
        },
        "id": "llKeqayf5OG-",
        "outputId": "f5d3a56c-2dfe-4295-fed3-076c53c1154a"
      },
      "execution_count": null,
      "outputs": [
        {
          "output_type": "stream",
          "name": "stdout",
          "text": [
            "2*1=2 2*2=4 2*3=6 2*4=8 2*5=10 2*6=12 2*7=14 2*8=16 2*9=18 \n",
            "3*1=3 3*2=6 3*3=9 3*4=12 3*5=15 3*6=18 3*7=21 3*8=24 3*9=27 \n",
            "4*1=4 4*2=8 4*3=12 4*4=16 4*5=20 4*6=24 4*7=28 4*8=32 4*9=36 \n",
            "5*1=5 5*2=10 5*3=15 5*4=20 5*5=25 5*6=30 5*7=35 5*8=40 5*9=45 \n",
            "6*1=6 6*2=12 6*3=18 6*4=24 6*5=30 6*6=36 6*7=42 6*8=48 6*9=54 \n",
            "7*1=7 7*2=14 7*3=21 7*4=28 7*5=35 7*6=42 7*7=49 7*8=56 7*9=63 \n",
            "8*1=8 8*2=16 8*3=24 8*4=32 8*5=40 8*6=48 8*7=56 8*8=64 8*9=72 \n",
            "9*1=9 9*2=18 9*3=27 9*4=36 9*5=45 9*6=54 9*7=63 9*8=72 9*9=81 \n"
          ]
        }
      ]
    },
    {
      "cell_type": "code",
      "source": [
        "i = 1\n",
        "while i <= 5 :                    # i는 1부터 시작해서 5까지 5번 반복\n",
        "    print(\"python programming\")\n",
        "    i = i + 1                     # i 값을 증가, 이 구문이 없으면 무한반복됨"
      ],
      "metadata": {
        "colab": {
          "base_uri": "https://localhost:8080/"
        },
        "id": "Yxz6Q1yf5dmH",
        "outputId": "07143990-66cd-4ce8-cf00-98d53c4321b0"
      },
      "execution_count": null,
      "outputs": [
        {
          "output_type": "stream",
          "name": "stdout",
          "text": [
            "python programming\n",
            "python programming\n",
            "python programming\n",
            "python programming\n",
            "python programming\n"
          ]
        }
      ]
    },
    {
      "cell_type": "code",
      "source": [
        "sum = 0\n",
        "i = 1\n",
        "while i <= 5 :                                    # 변수 i 값을 확인하며 반복 실행, i 값이 5가 되었을 때 멈춤\n",
        "    sum = sum + i\n",
        "    print(\"i의 값 : %d, 합계 : %d\" %(i, sum))     # 변수 i, sum을 문자열 포맷팅 하기 위해 괄호()로 묶음\n",
        "    i = i + 1                                     # 변수 i를 1씩 증가시킴"
      ],
      "metadata": {
        "colab": {
          "base_uri": "https://localhost:8080/"
        },
        "id": "F1AePTtA5lih",
        "outputId": "64ccd00a-1b73-4311-d834-907041a4c237"
      },
      "execution_count": null,
      "outputs": [
        {
          "output_type": "stream",
          "name": "stdout",
          "text": [
            "i의 값 : 1, 합계 : 1\n",
            "i의 값 : 2, 합계 : 3\n",
            "i의 값 : 3, 합계 : 6\n",
            "i의 값 : 4, 합계 : 10\n",
            "i의 값 : 5, 합계 : 15\n"
          ]
        }
      ]
    },
    {
      "cell_type": "code",
      "source": [
        "i = 0\n",
        "s = \"python programming\"\n",
        "\n",
        "while i <= (len(s) - 1) :       # i가 (문자열길이-1)보다 작을 경우 반복\n",
        "    print(s[i], end = ' ')      # s[i]는 문자열에서 i번째 위치의 문자를 가리킴 (문자열 인덱스는 0부터 시작)\n",
        "    i = i + 1                   # 문자열을 구성하는 첫번째 문자부터 마지막 문자까지 한 문자씩 출력"
      ],
      "metadata": {
        "colab": {
          "base_uri": "https://localhost:8080/"
        },
        "id": "aK75afmL5xgP",
        "outputId": "9bc22085-a5f7-4b5a-bd11-3bbd5dd82245"
      },
      "execution_count": null,
      "outputs": [
        {
          "output_type": "stream",
          "name": "stdout",
          "text": [
            "p y t h o n   p r o g r a m m i n g "
          ]
        }
      ]
    },
    {
      "cell_type": "code",
      "source": [
        "i = 0\n",
        "while i < 100 :             # i가 100보다 작은 경우 반복\n",
        "    print(i, end = ' ')     # i의 값 출력\n",
        "    i = i + 1               # i의 값을 1 증가\n",
        "    if i == 10 :            # i의 값이 10이면 break로 while 문을 중지함\n",
        "        break"
      ],
      "metadata": {
        "colab": {
          "base_uri": "https://localhost:8080/"
        },
        "id": "jg2A9rEA58pt",
        "outputId": "287c7290-9f24-4077-9e5a-8b844501d431"
      },
      "execution_count": null,
      "outputs": [
        {
          "output_type": "stream",
          "name": "stdout",
          "text": [
            "0 1 2 3 4 5 6 7 8 9 "
          ]
        }
      ]
    },
    {
      "cell_type": "code",
      "source": [
        "a = [70, 60, 55, 95, 80, 70, 85, 47, 83, 78]\n",
        "sum = 0\n",
        "avg = 0\n",
        "\n",
        "for x in a :\n",
        "    sum = sum + x\n",
        "\n",
        "avg = sum / 10\n",
        "print(\"평균은 %f입니다.\" %avg)"
      ],
      "metadata": {
        "colab": {
          "base_uri": "https://localhost:8080/"
        },
        "id": "aCCUGRb36LUG",
        "outputId": "ba4ebab8-6df8-40f5-fcd7-1ae33f366d23"
      },
      "execution_count": null,
      "outputs": [
        {
          "output_type": "stream",
          "name": "stdout",
          "text": [
            "평균은 72.300000입니다.\n"
          ]
        }
      ]
    },
    {
      "cell_type": "code",
      "source": [
        "a = [70, 60, 55, 95, 80, 70, 85, 47, 83, 78]\n",
        "sum = 0\n",
        "avg = 0\n",
        "\n",
        "i = 0\n",
        "while i < 10 :\n",
        "    sum = sum + a[i]\n",
        "    i = i + 1\n",
        "avg = sum / 10\n",
        "print(\"평균은 %f입니다.\" %avg)"
      ],
      "metadata": {
        "colab": {
          "base_uri": "https://localhost:8080/"
        },
        "id": "Z9YpFPlm6Vf_",
        "outputId": "eb312cae-ad6b-4188-c418-23a0cb278176"
      },
      "execution_count": null,
      "outputs": [
        {
          "output_type": "stream",
          "name": "stdout",
          "text": [
            "평균은 72.300000입니다.\n"
          ]
        }
      ]
    },
    {
      "cell_type": "markdown",
      "source": [
        " > >**04 리스트, 튜플, 딕셔너리**"
      ],
      "metadata": {
        "id": "E27HQ7z96fWi"
      }
    },
    {
      "cell_type": "code",
      "source": [
        "a = [1, 2, 3, 4, 5]\n",
        "print(a)\n",
        "print(a[0], a[-1], a[0] + a[2])"
      ],
      "metadata": {
        "colab": {
          "base_uri": "https://localhost:8080/"
        },
        "id": "H4oZoYZS6ivv",
        "outputId": "0a56373a-37bf-4a31-d75d-2aee5cda7b7a"
      },
      "execution_count": null,
      "outputs": [
        {
          "output_type": "stream",
          "name": "stdout",
          "text": [
            "[1, 2, 3, 4, 5]\n",
            "1 5 4\n"
          ]
        }
      ]
    },
    {
      "cell_type": "code",
      "source": [
        "a = [1, 2, 3]\n",
        "b = [4, 5, 6]\n",
        "print(a + b)\n",
        "print(a * 3)"
      ],
      "metadata": {
        "colab": {
          "base_uri": "https://localhost:8080/"
        },
        "id": "5nLPLv056oZo",
        "outputId": "e65bd932-7aed-4788-a55f-5d3b21ec0345"
      },
      "execution_count": null,
      "outputs": [
        {
          "output_type": "stream",
          "name": "stdout",
          "text": [
            "[1, 2, 3, 4, 5, 6]\n",
            "[1, 2, 3, 1, 2, 3, 1, 2, 3]\n"
          ]
        }
      ]
    },
    {
      "cell_type": "code",
      "source": [
        "a = ['a', 'b', 'c']\n",
        "\n",
        "a.append('d') # 원소 ‘d’를 리스트 마지막에 추가\n",
        "print(a)\n",
        "\n",
        "a.insert(1, 'aa') # 원소 ‘aa’를 리스트의 2번째 위치(인덱스 1)에 추가\n",
        "print(a)"
      ],
      "metadata": {
        "colab": {
          "base_uri": "https://localhost:8080/"
        },
        "id": "kcLH5TD66rKp",
        "outputId": "591b0405-9fb0-4a45-a96c-3b371c8dbdeb"
      },
      "execution_count": null,
      "outputs": [
        {
          "output_type": "stream",
          "name": "stdout",
          "text": [
            "['a', 'b', 'c', 'd']\n",
            "['a', 'aa', 'b', 'c', 'd']\n"
          ]
        }
      ]
    },
    {
      "cell_type": "code",
      "source": [
        "a = ['a', 'b', 'c']\n",
        "a[2] = 'f'\n",
        "print(a)"
      ],
      "metadata": {
        "colab": {
          "base_uri": "https://localhost:8080/"
        },
        "id": "AMVvIIid7IDd",
        "outputId": "fef0ee3f-39e7-4edc-e086-e79d633eb88b"
      },
      "execution_count": null,
      "outputs": [
        {
          "output_type": "stream",
          "name": "stdout",
          "text": [
            "['a', 'b', 'f']\n"
          ]
        }
      ]
    },
    {
      "cell_type": "code",
      "source": [
        "a = ['a', 'b', 'c']\n",
        "del a[1]\n",
        "print(a)"
      ],
      "metadata": {
        "colab": {
          "base_uri": "https://localhost:8080/"
        },
        "id": "OKyUT_nn7btb",
        "outputId": "e7e8e896-eeee-4dd2-b179-2c421457b5fa"
      },
      "execution_count": null,
      "outputs": [
        {
          "output_type": "stream",
          "name": "stdout",
          "text": [
            "['a', 'c']\n"
          ]
        }
      ]
    },
    {
      "cell_type": "code",
      "source": [
        "a = ['a', 'b', 'c', 'd', 'e']\n",
        "a.reverse()\n",
        "print(a)\n",
        "print(a.index('b'))\n",
        "a.sort()\n",
        "print(a)\n",
        "print(a.index('b'))"
      ],
      "metadata": {
        "colab": {
          "base_uri": "https://localhost:8080/"
        },
        "id": "_JweKsME9k17",
        "outputId": "200d5741-389f-47a3-80d2-e05874a2e3b2"
      },
      "execution_count": null,
      "outputs": [
        {
          "output_type": "stream",
          "name": "stdout",
          "text": [
            "['e', 'd', 'c', 'b', 'a']\n",
            "3\n",
            "['a', 'b', 'c', 'd', 'e']\n",
            "1\n"
          ]
        }
      ]
    },
    {
      "cell_type": "code",
      "source": [
        "a = [10, 20, 30, 40, 30, 20, 50]\n",
        "print(a.count(30))        # 30의 개수 출력\n",
        "a.remove(30)              # 첫번째 30을 제거\n",
        "print(a)"
      ],
      "metadata": {
        "colab": {
          "base_uri": "https://localhost:8080/"
        },
        "id": "Rd5W_yHr9sB4",
        "outputId": "30b0de1f-9068-42be-a7bd-bf7ed0dddd57"
      },
      "execution_count": null,
      "outputs": [
        {
          "output_type": "stream",
          "name": "stdout",
          "text": [
            "2\n",
            "[10, 20, 40, 30, 20, 50]\n"
          ]
        }
      ]
    },
    {
      "cell_type": "code",
      "source": [
        "a = ['a', 'b', 'c']\n",
        "for x in a :\n",
        "    print(x, end = ' ')"
      ],
      "metadata": {
        "colab": {
          "base_uri": "https://localhost:8080/"
        },
        "id": "02gS7oYl93ya",
        "outputId": "ba7f23ad-5b02-4d69-9770-d6d5b3dd53a0"
      },
      "execution_count": null,
      "outputs": [
        {
          "output_type": "stream",
          "name": "stdout",
          "text": [
            "a b c "
          ]
        }
      ]
    },
    {
      "cell_type": "code",
      "source": [
        "a = ['a', 'b', 'c']\n",
        "i = 0\n",
        "while i < len(a) :\n",
        "    print(a[i], end = ' ')\n",
        "    i = i + 1"
      ],
      "metadata": {
        "colab": {
          "base_uri": "https://localhost:8080/"
        },
        "id": "q42fzzO-9-5g",
        "outputId": "e9ea19f0-e552-401f-da70-4c2f79da4821"
      },
      "execution_count": null,
      "outputs": [
        {
          "output_type": "stream",
          "name": "stdout",
          "text": [
            "a b c "
          ]
        }
      ]
    },
    {
      "cell_type": "code",
      "source": [
        "scores = [[70, 75], [80, 90], [100, 90], [95, 85], [82, 92]]\n",
        "\n",
        "print(scores[0][0]) # 첫번째 인덱스가 0인 원소 [70, 75] 중 인덱스 0인 원소: 70\n",
        "print(scores[0][1]) # 첫번째 인덱스가 0인 원소 [70, 75] 중 인덱스 1인 원소: 75\n",
        "print(scores[2][0]) # 첫번째 인덱스가 2인 원소 [1000, 90] 중 인덱스 0인 원소: 100"
      ],
      "metadata": {
        "colab": {
          "base_uri": "https://localhost:8080/"
        },
        "id": "qrU0YMTa-HFD",
        "outputId": "c1d542ed-f07d-4cc2-e048-7c4282010264"
      },
      "execution_count": null,
      "outputs": [
        {
          "output_type": "stream",
          "name": "stdout",
          "text": [
            "70\n",
            "75\n",
            "100\n"
          ]
        }
      ]
    },
    {
      "cell_type": "code",
      "source": [
        "t = ('a', 'b', 'c', 'd', 'e')\n",
        "print(t[0])     # 리스트와 똑같이 인덱스 사용\n",
        "print(t[2: ])   # 튜플 슬라이싱\n",
        "print(t * 2)    # 튜플 곱하기\n",
        "print(len(t))   # 튜플 길이 구하기"
      ],
      "metadata": {
        "colab": {
          "base_uri": "https://localhost:8080/"
        },
        "id": "-LFS7gH5QdY6",
        "outputId": "a7f6bce1-1739-4252-a12f-346e4d3b2a89"
      },
      "execution_count": null,
      "outputs": [
        {
          "output_type": "stream",
          "name": "stdout",
          "text": [
            "a\n",
            "('c', 'd', 'e')\n",
            "('a', 'b', 'c', 'd', 'e', 'a', 'b', 'c', 'd', 'e')\n",
            "5\n"
          ]
        }
      ]
    },
    {
      "cell_type": "code",
      "source": [
        "dic1 = {1:'a', 2:'b', 3:'c'}\n",
        "dic2 = {'name':'python', 'age':'30', 'job':'programming'}\n",
        "print(dic1[1])        # 키가 1인 원소의 값을 읽어 옴\n",
        "print(dic2['name'])   # 키가 'name'인 원소의 값을 읽어 옴"
      ],
      "metadata": {
        "colab": {
          "base_uri": "https://localhost:8080/"
        },
        "id": "eBYLCfUjQmdx",
        "outputId": "0806f22e-739c-4712-dc99-a43b6a33993c"
      },
      "execution_count": null,
      "outputs": [
        {
          "output_type": "stream",
          "name": "stdout",
          "text": [
            "a\n",
            "python\n"
          ]
        }
      ]
    },
    {
      "cell_type": "code",
      "source": [
        "dic1 = {1:'a', 2:'b', 3:'c'}\n",
        "dic2 = {'name':'python', 'age':'30', 'job':'programming'}\n",
        "dic1[5] = 'f' # 키가 5인 원소 'f'를 추가\n",
        "print(dic1)\n",
        "dic2['contact'] = 'python.org' # 키가 'contact'인 원소 'python.org'를 추가\n",
        "print(dic2)"
      ],
      "metadata": {
        "colab": {
          "base_uri": "https://localhost:8080/"
        },
        "id": "yFNlSC_TQ2z5",
        "outputId": "05db3886-e0aa-4ca0-fa33-c4306b97f244"
      },
      "execution_count": null,
      "outputs": [
        {
          "output_type": "stream",
          "name": "stdout",
          "text": [
            "{1: 'a', 2: 'b', 3: 'c', 5: 'f'}\n",
            "{'name': 'python', 'age': '30', 'job': 'programming', 'contact': 'python.org'}\n"
          ]
        }
      ]
    },
    {
      "cell_type": "code",
      "source": [
        "dic1 = {1:'a', 2:'b', 3:'c'}\n",
        "dic2 = {'name':'python', 'age':'30', 'job':'programming'}\n",
        "print(dic1.keys())          # 딕셔너리 dic1의 key를 dict_keys 객체로 반환\n",
        "print(dic2.values())        # 딕셔너리 dic2의 value를 dict_values 객체로 반환\n",
        "print(dic1.items())         # 딕셔너리 dic1의 key-value쌍을 dict_items 객체로 반환\n",
        "if 'age' in dic2 :          # 'age' key가 dic2에 있으면 'age'에 대응하는 값을 출력\n",
        "    print(dic2.get('age'))"
      ],
      "metadata": {
        "colab": {
          "base_uri": "https://localhost:8080/"
        },
        "id": "T_I7cbp8RJ2J",
        "outputId": "2f1cec07-be79-4243-8644-5d5bbbbf6753"
      },
      "execution_count": null,
      "outputs": [
        {
          "output_type": "stream",
          "name": "stdout",
          "text": [
            "dict_keys([1, 2, 3])\n",
            "dict_values(['python', '30', 'programming'])\n",
            "dict_items([(1, 'a'), (2, 'b'), (3, 'c')])\n",
            "30\n"
          ]
        }
      ]
    },
    {
      "cell_type": "code",
      "source": [
        "id_pass = {'cuk':'12ab', 'python':'11aa', 'bigdata':'cc21'}\n",
        "\n",
        "id = input(\"사용자 아이디를 입력하세요 : \")\n",
        "password = input(\"비밀번호를 입력하세요 : \")\n",
        "\n",
        "if id in id_pass : # 입력받은 아이디가 있으면\n",
        "    if password == id_pass.get(id) : # 비밀번호 비교\n",
        "        print(\"아이디와 비밀번호가 맞습니다.\")\n",
        "    else :\n",
        "        print(\"비밀번호가 틀립니다.\")\n",
        "else : # 일치하는 아이디가 없으면\n",
        "    print(\"아이디가 존재하지 않습니다.\") # 메시지 출력"
      ],
      "metadata": {
        "colab": {
          "base_uri": "https://localhost:8080/"
        },
        "id": "2pSMyWIjRhLe",
        "outputId": "d2e5169e-fbf2-4d8a-c458-ad985b802147"
      },
      "execution_count": null,
      "outputs": [
        {
          "output_type": "stream",
          "name": "stdout",
          "text": [
            "사용자 아이디를 입력하세요 : cuk\n",
            "비밀번호를 입력하세요 : 12ab\n",
            "아이디와 비밀번호가 맞습니다.\n"
          ]
        }
      ]
    },
    {
      "cell_type": "code",
      "source": [
        "def sum(x, y) :\n",
        "    return x + y"
      ],
      "metadata": {
        "id": "DnBnYuepR9UA"
      },
      "execution_count": null,
      "outputs": []
    },
    {
      "cell_type": "code",
      "source": [
        "def f1(x) :\n",
        "    if x % 2 == 0 :         # 2로 나눈 나머지가 0이면(짝수이면)\n",
        "        return(\"짝수\")      # \"짝수\"를 반환\n",
        "    else :\n",
        "        return(\"홀수\")              # 0이 아니면, \"홀수\"를 반환\n",
        "\n",
        "x = int(input(\"숫자를 입력하세요 : \"))\n",
        "print(\"%d은 %s입니다.\" %(x, f1(x)))"
      ],
      "metadata": {
        "colab": {
          "base_uri": "https://localhost:8080/"
        },
        "id": "3r8l_bgySDHE",
        "outputId": "d1d77af2-1026-4cc1-bc09-829436b88422"
      },
      "execution_count": null,
      "outputs": [
        {
          "output_type": "stream",
          "name": "stdout",
          "text": [
            "숫자를 입력하세요 : 7\n",
            "7은 홀수입니다.\n"
          ]
        }
      ]
    },
    {
      "cell_type": "code",
      "source": [
        "def f2(x, y) :\n",
        "    mul = x * y\n",
        "    return mul\n",
        "# 숫자를 입력받을 때에는 자료형을 정수형으로 변환\n",
        "x = int(input(\"첫번째 숫자를 입력하세요 : \"))\n",
        "y = int(input(\"두번째 숫자를 입력하세요 : \"))\n",
        "print(\"두 수의 곱은 %d입니다.\" %f2(x,y))"
      ],
      "metadata": {
        "colab": {
          "base_uri": "https://localhost:8080/"
        },
        "id": "OJufbryQSfNn",
        "outputId": "0f9c7a0c-bf32-44ac-b8c4-83b61bbdaad2"
      },
      "execution_count": null,
      "outputs": [
        {
          "output_type": "stream",
          "name": "stdout",
          "text": [
            "첫번째 숫자를 입력하세요 : 4\n",
            "두번째 숫자를 입력하세요 : 5\n",
            "두 수의 곱은 20입니다.\n"
          ]
        }
      ]
    }
  ]
}