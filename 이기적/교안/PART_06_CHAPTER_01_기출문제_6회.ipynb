{
  "nbformat": 4,
  "nbformat_minor": 0,
  "metadata": {
    "colab": {
      "provenance": []
    },
    "kernelspec": {
      "name": "python3",
      "display_name": "Python 3"
    },
    "language_info": {
      "name": "python"
    }
  },
  "cells": [
    {
      "cell_type": "markdown",
      "source": [
        "**PART 06** 기출문제\n",
        "\n",
        ">**CHAPTER 01** 기출문제 6회\n",
        "> >**01 제1유형**"
      ],
      "metadata": {
        "id": "shWWLB-fZmKQ"
      }
    },
    {
      "cell_type": "code",
      "execution_count": 1,
      "metadata": {
        "colab": {
          "base_uri": "https://localhost:8080/"
        },
        "id": "ZOF6hHLuY_Kf",
        "outputId": "f380af88-5bef-437c-b3da-33d62dd612ad"
      },
      "outputs": [
        {
          "output_type": "stream",
          "name": "stdout",
          "text": [
            "     구급대                 출동시간                 도착시간\n",
            "0   구급대8  2020-07-10 06:11:45  2020-07-10 06:52:06\n",
            "1   구급대9  2020-07-13 06:12:21  2020-07-13 07:58:59\n",
            "2   구급대1  2020-07-06 06:12:29  2020-07-06 07:51:55\n",
            "3   구급대5  2020-07-21 06:11:41  2020-07-21 08:08:36\n",
            "4   구급대1  2020-07-29 06:12:00  2020-07-29 07:24:21\n",
            "..   ...                  ...                  ...\n",
            "95  구급대3  2020-07-06 06:12:27  2020-07-06 06:50:09\n",
            "96  구급대6  2020-07-17 06:12:02  2020-07-17 06:16:49\n",
            "97  구급대7  2020-07-12 06:12:22  2020-07-12 07:32:26\n",
            "98  구급대6  2020-07-08 06:12:05  2020-07-08 06:41:31\n",
            "99  구급대8  2020-07-10 06:12:16  2020-07-10 06:30:46\n",
            "\n",
            "[100 rows x 3 columns]\n"
          ]
        }
      ],
      "source": [
        "import pandas as pd\n",
        "\n",
        "# csv 파일 불러오기\n",
        "df = pd.read_csv('https://raw.githubusercontent.com/YoungjinBD/dataset/main/data_6_1_1.csv')\n",
        "print(df)"
      ]
    },
    {
      "cell_type": "code",
      "source": [
        "# 데이터 타입 확인\n",
        "df.info()\n",
        "\n",
        "# 데이터 타입 변경\n",
        "df['출동시간'] = pd.to_datetime(df['출동시간'])\n",
        "df['도착시간'] = pd.to_datetime(df['도착시간'])"
      ],
      "metadata": {
        "colab": {
          "base_uri": "https://localhost:8080/"
        },
        "id": "tQqCVtXVIStl",
        "outputId": "a4d9d65b-2e17-4c07-8714-83725d4183c3"
      },
      "execution_count": 2,
      "outputs": [
        {
          "output_type": "stream",
          "name": "stdout",
          "text": [
            "<class 'pandas.core.frame.DataFrame'>\n",
            "RangeIndex: 100 entries, 0 to 99\n",
            "Data columns (total 3 columns):\n",
            " #   Column  Non-Null Count  Dtype \n",
            "---  ------  --------------  ----- \n",
            " 0   구급대     100 non-null    object\n",
            " 1   출동시간    100 non-null    object\n",
            " 2   도착시간    100 non-null    object\n",
            "dtypes: object(3)\n",
            "memory usage: 2.5+ KB\n"
          ]
        }
      ]
    },
    {
      "cell_type": "code",
      "source": [
        "# 도착시간과 출동시간의 차이(분)\n",
        "df['이동시간'] = df['도착시간'] - df['출동시간']\n",
        "df['이동시간'] = df['이동시간'].dt.total_seconds() / 60\n",
        "print(df)"
      ],
      "metadata": {
        "colab": {
          "base_uri": "https://localhost:8080/"
        },
        "id": "tI0Q8v5YIaz1",
        "outputId": "70c432f4-05ae-463d-802c-ff0faeb536f7"
      },
      "execution_count": 3,
      "outputs": [
        {
          "output_type": "stream",
          "name": "stdout",
          "text": [
            "     구급대                출동시간                도착시간        이동시간\n",
            "0   구급대8 2020-07-10 06:11:45 2020-07-10 06:52:06   40.350000\n",
            "1   구급대9 2020-07-13 06:12:21 2020-07-13 07:58:59  106.633333\n",
            "2   구급대1 2020-07-06 06:12:29 2020-07-06 07:51:55   99.433333\n",
            "3   구급대5 2020-07-21 06:11:41 2020-07-21 08:08:36  116.916667\n",
            "4   구급대1 2020-07-29 06:12:00 2020-07-29 07:24:21   72.350000\n",
            "..   ...                 ...                 ...         ...\n",
            "95  구급대3 2020-07-06 06:12:27 2020-07-06 06:50:09   37.700000\n",
            "96  구급대6 2020-07-17 06:12:02 2020-07-17 06:16:49    4.783333\n",
            "97  구급대7 2020-07-12 06:12:22 2020-07-12 07:32:26   80.066667\n",
            "98  구급대6 2020-07-08 06:12:05 2020-07-08 06:41:31   29.433333\n",
            "99  구급대8 2020-07-10 06:12:16 2020-07-10 06:30:46   18.500000\n",
            "\n",
            "[100 rows x 4 columns]\n"
          ]
        }
      ]
    },
    {
      "cell_type": "code",
      "source": [
        "# 구급대별 이동시간의 평균\n",
        "group_mean = df.groupby('구급대')['이동시간'].mean()\n",
        "print(group_mean)"
      ],
      "metadata": {
        "colab": {
          "base_uri": "https://localhost:8080/"
        },
        "id": "E7hWHSqJIg9k",
        "outputId": "b49115bb-f9a8-4494-97f8-d9ac77854cd6"
      },
      "execution_count": 4,
      "outputs": [
        {
          "output_type": "stream",
          "name": "stdout",
          "text": [
            "구급대\n",
            "구급대1     54.952381\n",
            "구급대10    42.365000\n",
            "구급대2     60.228571\n",
            "구급대3     43.490741\n",
            "구급대4     49.136667\n",
            "구급대5     61.250000\n",
            "구급대6     41.764583\n",
            "구급대7     83.337037\n",
            "구급대8     42.693750\n",
            "구급대9     80.658889\n",
            "Name: 이동시간, dtype: float64\n"
          ]
        }
      ]
    },
    {
      "cell_type": "code",
      "source": [
        "# 이동시간이 가장 큰 값\n",
        "result = round(group_mean.max())\n",
        "print(result)"
      ],
      "metadata": {
        "colab": {
          "base_uri": "https://localhost:8080/"
        },
        "id": "WzVorcsFIvWf",
        "outputId": "6e5245d2-24e9-48d5-c38c-86694b4a4901"
      },
      "execution_count": 5,
      "outputs": [
        {
          "output_type": "stream",
          "name": "stdout",
          "text": [
            "83\n"
          ]
        }
      ]
    },
    {
      "cell_type": "code",
      "source": [
        "import pandas as pd\n",
        "\n",
        "# csv 파일 불러오기\n",
        "df = pd.read_csv('https://raw.githubusercontent.com/YoungjinBD/dataset/main/data_6_1_2.csv')\n",
        "print(df)"
      ],
      "metadata": {
        "colab": {
          "base_uri": "https://localhost:8080/"
        },
        "id": "es-ELGC7IxeZ",
        "outputId": "79b323cd-8e38-47d9-afec-35964f4e67f6"
      },
      "execution_count": 6,
      "outputs": [
        {
          "output_type": "stream",
          "name": "stdout",
          "text": [
            "     대학교명  교수  경영학과  경제학과  컴퓨터공학과  산업공학과  국문학과  영문학과\n",
            "0    대학교1  20   121    72     158    131    77    59\n",
            "1    대학교2  31   178   139     145    137    63    90\n",
            "2    대학교3  23   136   139     154    111    91    50\n",
            "3    대학교4  32    72   136      67     51   133   159\n",
            "4    대학교5  22    61    73      86     82    55   124\n",
            "5    대학교6  32   169   172     137    173    59   128\n",
            "6    대학교7  29   173   183     112    154   134   133\n",
            "7    대학교8  19   141    81     101    118   151   123\n",
            "8    대학교9  40   137   145     191     58    96    71\n",
            "9   대학교10  34   197    93     125    116   181   150\n",
            "10  대학교11  21   136   139     136    126    54    98\n",
            "11  대학교12  37    72   113      53    180   118   153\n",
            "12  대학교13  36   138    65     153    126   139   189\n",
            "13  대학교14  34    95    89     179    164   131   167\n",
            "14  대학교15  20    52    84     160     99    55   113\n",
            "15  대학교16  30   129   191     117     50    77    66\n",
            "16  대학교17  35   143    72      71    161    52   177\n",
            "17  대학교18  31    68   187     113     57   133   113\n",
            "18  대학교19  34    58   140     141    126   149    56\n",
            "19  대학교20  39    91   131      66     86   146   101\n",
            "20  대학교21  31    50   156     103    111    51   156\n",
            "21  대학교22  26   166   178     197    120   136    62\n",
            "22  대학교23  39    83   156      58    124   139   133\n",
            "23  대학교24  23    71    94     178    121   157    93\n",
            "24  대학교25  24    81    55     159    177    83   172\n",
            "25  대학교26  19    89   127     135    112   124   121\n",
            "26  대학교27  31   128    66      56     81   195   150\n",
            "27  대학교28  36    60   170     188     86   133   144\n",
            "28  대학교29  21    78   113     123    110    82   192\n",
            "29  대학교30  27   195    63     189     98   129   129\n",
            "30  대학교31  26    58   168     179    123   198    53\n",
            "31  대학교32  40   152   138     108     65    64   190\n",
            "32  대학교33  38   190   136      55     87   128   122\n",
            "33  대학교34  29   148   108      66    114   122    93\n",
            "34  대학교35  32   137    86      72     52   124   133\n",
            "35  대학교36  25   159   104     177     61   158    66\n",
            "36  대학교37  32   141   158      61     53   177    92\n",
            "37  대학교38  40    60   141     162    102   111   110\n",
            "38  대학교39  23    93    62     190    106    66   159\n",
            "39  대학교40  25    61   121     184     92   185    99\n",
            "40  대학교41  20    64    88      79    168    73    84\n",
            "41  대학교42  37    98   152     195    161   186   143\n",
            "42  대학교43  28   177   169     107    122   185    73\n",
            "43  대학교44  22    87   106     167    160   101   153\n",
            "44  대학교45  21   105    72     162     60   186   129\n",
            "45  대학교46  22   163   189     192    121    99   183\n",
            "46  대학교47  34    85    51      91     72   134    58\n",
            "47  대학교48  41    57   103      59     89   184    75\n",
            "48  대학교49  21   150   158     159     78    65   195\n",
            "49  대학교50  42    71   102     148     96   157    82\n"
          ]
        }
      ]
    },
    {
      "cell_type": "code",
      "source": [
        "# 전체 학생 수\n",
        "df['학생'] = df.iloc[:, 2:].sum(axis=1)\n",
        "print(df.head())"
      ],
      "metadata": {
        "colab": {
          "base_uri": "https://localhost:8080/"
        },
        "id": "o1cHuT1KJsQP",
        "outputId": "32f491a3-11b6-43bb-8f72-73b5e46f8810"
      },
      "execution_count": 7,
      "outputs": [
        {
          "output_type": "stream",
          "name": "stdout",
          "text": [
            "   대학교명  교수  경영학과  경제학과  컴퓨터공학과  산업공학과  국문학과  영문학과   학생\n",
            "0  대학교1  20   121    72     158    131    77    59  618\n",
            "1  대학교2  31   178   139     145    137    63    90  752\n",
            "2  대학교3  23   136   139     154    111    91    50  681\n",
            "3  대학교4  32    72   136      67     51   133   159  618\n",
            "4  대학교5  22    61    73      86     82    55   124  481\n"
          ]
        }
      ]
    },
    {
      "cell_type": "code",
      "source": [
        "# 교수 1인당 맡은 학생 수\n",
        "df['학생/교수'] = df['학생'] / df['교수']\n",
        "print(df.head())"
      ],
      "metadata": {
        "colab": {
          "base_uri": "https://localhost:8080/"
        },
        "id": "AozAdJlUJvDU",
        "outputId": "a74351d5-8ffb-4a4c-ebd1-10b13e027ebe"
      },
      "execution_count": 8,
      "outputs": [
        {
          "output_type": "stream",
          "name": "stdout",
          "text": [
            "   대학교명  교수  경영학과  경제학과  컴퓨터공학과  산업공학과  국문학과  영문학과   학생      학생/교수\n",
            "0  대학교1  20   121    72     158    131    77    59  618  30.900000\n",
            "1  대학교2  31   178   139     145    137    63    90  752  24.258065\n",
            "2  대학교3  23   136   139     154    111    91    50  681  29.608696\n",
            "3  대학교4  32    72   136      67     51   133   159  618  19.312500\n",
            "4  대학교5  22    61    73      86     82    55   124  481  21.863636\n"
          ]
        }
      ]
    },
    {
      "cell_type": "code",
      "source": [
        "# 가장 큰 값을 가진 대학교 교수의 수\n",
        "max_id = df['학생/교수'].idxmax()\n",
        "result = int(df.loc[max_id, '교수'])\n",
        "print(result)"
      ],
      "metadata": {
        "colab": {
          "base_uri": "https://localhost:8080/"
        },
        "id": "Nv8RibaeJzhf",
        "outputId": "217d7a25-c7a3-49ba-b267-90a7fddcc0bc"
      },
      "execution_count": 9,
      "outputs": [
        {
          "output_type": "stream",
          "name": "stdout",
          "text": [
            "22\n"
          ]
        }
      ]
    },
    {
      "cell_type": "code",
      "source": [
        "import pandas as pd\n",
        "\n",
        "# csv 파일 불러오기\n",
        "df = pd.read_csv('https://raw.githubusercontent.com/YoungjinBD/dataset/main/data_6_1_3.csv')\n",
        "print(df)"
      ],
      "metadata": {
        "colab": {
          "base_uri": "https://localhost:8080/"
        },
        "id": "PR8ptcaPJ41o",
        "outputId": "8d9484f9-1047-465b-bae2-03f58857bdd7"
      },
      "execution_count": 1,
      "outputs": [
        {
          "output_type": "stream",
          "name": "stdout",
          "text": [
            "           날짜  폭력범죄  지능범죄  교통범죄  절도범죄  경제범죄  정치범죄 주요검찰청명\n",
            "0   2018년 01월    28   127    90    73    33   202   검찰청1\n",
            "1   2018년 02월    16   137    72    80    30   180   검찰청5\n",
            "2   2018년 03월    29   140    70    79    34   211   검찰청5\n",
            "3   2018년 04월    10   140    90    65    31   184   검찰청1\n",
            "4   2018년 05월    11   138    70    75    35   190   검찰청1\n",
            "5   2018년 06월    30   128    78    74    34   216   검찰청5\n",
            "6   2018년 07월    21   128    84    69    31   181   검찰청1\n",
            "7   2018년 08월    26   120    86    76    33   188   검찰청5\n",
            "8   2018년 09월    11   117    86    65    33   192   검찰청5\n",
            "9   2018년 10월    12   117    86    67    28   200   검찰청5\n",
            "10  2018년 11월    22   103    83    72    33   196   검찰청1\n",
            "11  2018년 12월    28   124    83    61    27   209   검찰청2\n",
            "12  2019년 01월    22   102    86    62    28   212   검찰청1\n",
            "13  2019년 02월    26   138    80    61    31   183   검찰청3\n",
            "14  2019년 03월    14   129    76    60    29   202   검찰청5\n",
            "15  2019년 04월    26   142    83    71    33   182   검찰청1\n",
            "16  2019년 05월    28   131    80    72    28   212   검찰청1\n",
            "17  2019년 06월    22   104    84    72    34   201   검찰청2\n",
            "18  2019년 07월    14   134    84    72    32   182   검찰청2\n",
            "19  2019년 08월    27   101    71    67    31   198   검찰청1\n",
            "20  2019년 09월    21   108    87    70    33   187   검찰청1\n",
            "21  2019년 10월    21   114    89    61    32   212   검찰청3\n",
            "22  2019년 11월    22   134    79    64    35   198   검찰청4\n",
            "23  2019년 12월    21   142    77    62    35   183   검찰청3\n",
            "24  2020년 01월    23   140    83    60    26   219   검찰청2\n",
            "25  2020년 02월    11   111    73    60    31   211   검찰청1\n",
            "26  2020년 03월    17   125    87    76    25   220   검찰청5\n",
            "27  2020년 04월    10   112    78    78    28   185   검찰청3\n",
            "28  2020년 05월    20   122    76    74    30   192   검찰청1\n",
            "29  2020년 06월    24   139    87    77    29   192   검찰청3\n",
            "30  2020년 07월    19   107    79    80    30   193   검찰청3\n",
            "31  2020년 08월    27   124    81    62    29   187   검찰청5\n",
            "32  2020년 09월    25   108    76    66    28   182   검찰청1\n",
            "33  2020년 10월    25   134    71    75    33   189   검찰청5\n",
            "34  2020년 11월    26   122    72    62    31   180   검찰청3\n",
            "35  2020년 12월    22   104    87    80    31   181   검찰청5\n",
            "36  2021년 01월    28   102    90    73    33   212   검찰청3\n",
            "37  2021년 02월    16   173    72    80    50   150   검찰청2\n",
            "38  2021년 03월    39   120    70    69    34   231   검찰청1\n",
            "39  2021년 04월    26   122    83    71    33   192   검찰청4\n",
            "40  2021년 05월    28   111    80    72    28   182   검찰청2\n",
            "41  2021년 06월   122    94    84    92    34   211   검찰청2\n",
            "42  2021년 07월    19   117    79    70    30   151   검찰청3\n",
            "43  2021년 08월    27   131    81    62    29   189   검찰청5\n",
            "44  2021년 09월    25   113    76    66    38   172   검찰청1\n",
            "45  2021년 10월    20   115    80    77    33   138   검찰청3\n",
            "46  2021년 11월    25   149    90    67    33   191   검찰청2\n",
            "47  2021년 12월    21   116    87    72    38   206   검찰청4\n",
            "48  2022년 01월    16   104    82    60    25   206   검찰청5\n",
            "49  2022년 02월    19   145    88    60    30   204   검찰청1\n",
            "50  2022년 03월    17   144    84    76    34   197   검찰청5\n",
            "51  2022년 04월    14   150    85    75    31   181   검찰청5\n",
            "52  2022년 05월    22   119    73    74    34   200   검찰청1\n",
            "53  2022년 06월    12   131    78    65    30   201   검찰청3\n",
            "54  2022년 07월    12   116    79    65    31   202   검찰청4\n",
            "55  2022년 08월    25   129    77    69    33   185   검찰청2\n",
            "56  2022년 09월    28   107    71    71    32   203   검찰청4\n",
            "57  2022년 10월    18   130    71    77    30   206   검찰청5\n",
            "58  2022년 11월    12   140    82    73    32   187   검찰청2\n",
            "59  2022년 12월    26   106    87    71    28   216   검찰청5\n"
          ]
        }
      ]
    },
    {
      "cell_type": "code",
      "source": [
        "# 월별 총 범죄 건수\n",
        "df['총범죄건수'] = df.iloc[:, 1:-1].sum(axis=1)\n",
        "print(df.head())"
      ],
      "metadata": {
        "colab": {
          "base_uri": "https://localhost:8080/"
        },
        "id": "aeR575FbKBtA",
        "outputId": "573fd7b8-c0b0-47e5-a786-f19c384a9e6e"
      },
      "execution_count": 2,
      "outputs": [
        {
          "output_type": "stream",
          "name": "stdout",
          "text": [
            "          날짜  폭력범죄  지능범죄  교통범죄  절도범죄  경제범죄  정치범죄 주요검찰청명  총범죄건수\n",
            "0  2018년 01월    28   127    90    73    33   202   검찰청1    553\n",
            "1  2018년 02월    16   137    72    80    30   180   검찰청5    515\n",
            "2  2018년 03월    29   140    70    79    34   211   검찰청5    563\n",
            "3  2018년 04월    10   140    90    65    31   184   검찰청1    520\n",
            "4  2018년 05월    11   138    70    75    35   190   검찰청1    519\n"
          ]
        }
      ]
    },
    {
      "cell_type": "code",
      "source": [
        "# 연도 생성\n",
        "df['연도'] = df['날짜'].str[:4]\n",
        "print(df.head())"
      ],
      "metadata": {
        "colab": {
          "base_uri": "https://localhost:8080/"
        },
        "id": "Df7yeSZDKEyp",
        "outputId": "6accddf8-7158-40c2-e4f9-d5adcdebc132"
      },
      "execution_count": 3,
      "outputs": [
        {
          "output_type": "stream",
          "name": "stdout",
          "text": [
            "          날짜  폭력범죄  지능범죄  교통범죄  절도범죄  경제범죄  정치범죄 주요검찰청명  총범죄건수    연도\n",
            "0  2018년 01월    28   127    90    73    33   202   검찰청1    553  2018\n",
            "1  2018년 02월    16   137    72    80    30   180   검찰청5    515  2018\n",
            "2  2018년 03월    29   140    70    79    34   211   검찰청5    563  2018\n",
            "3  2018년 04월    10   140    90    65    31   184   검찰청1    520  2018\n",
            "4  2018년 05월    11   138    70    75    35   190   검찰청1    519  2018\n"
          ]
        }
      ]
    },
    {
      "cell_type": "code",
      "source": [
        "# 연도별 총 범죄 건수의 월평균\n",
        "group_mean = df.groupby(\"연도\")['총범죄건수'].mean()\n",
        "print(group_mean)"
      ],
      "metadata": {
        "colab": {
          "base_uri": "https://localhost:8080/"
        },
        "id": "SzuLS8KgKJOq",
        "outputId": "b8517c43-62d6-418c-a137-38b5a10b2a8f"
      },
      "execution_count": 4,
      "outputs": [
        {
          "output_type": "stream",
          "name": "stdout",
          "text": [
            "연도\n",
            "2018    527.333333\n",
            "2019    520.500000\n",
            "2020    514.916667\n",
            "2021    528.333333\n",
            "2022    524.416667\n",
            "Name: 총범죄건수, dtype: float64\n"
          ]
        }
      ]
    },
    {
      "cell_type": "code",
      "source": [
        "# 가장 큰 값\n",
        "result = round(group_mean.max())\n",
        "print(result)"
      ],
      "metadata": {
        "colab": {
          "base_uri": "https://localhost:8080/"
        },
        "id": "u1cANzXNKOi2",
        "outputId": "ebb06292-d4f9-4e6d-9221-26ab64e32055"
      },
      "execution_count": 5,
      "outputs": [
        {
          "output_type": "stream",
          "name": "stdout",
          "text": [
            "528\n"
          ]
        }
      ]
    },
    {
      "cell_type": "markdown",
      "source": [
        ">>**02 제2유형**"
      ],
      "metadata": {
        "id": "UcaYZwQkanwI"
      }
    },
    {
      "cell_type": "code",
      "source": [
        "import pandas as pd\n",
        "\n",
        "# csv 파일 불러오기\n",
        "train_df = pd.read_csv('https://raw.githubusercontent.com/YoungjinBD/dataset/main/data_6_2_train.csv')\n",
        "test_df = pd.read_csv('https://raw.githubusercontent.com/YoungjinBD/dataset/main/data_6_2_test.csv')"
      ],
      "metadata": {
        "id": "Kimkw8rGKQ-t"
      },
      "execution_count": 1,
      "outputs": []
    },
    {
      "cell_type": "code",
      "source": [
        "print(train_df)"
      ],
      "metadata": {
        "colab": {
          "base_uri": "https://localhost:8080/"
        },
        "id": "4PDkt9uHKX_1",
        "outputId": "78e70992-e27d-425a-efdb-0a69f0f2574d"
      },
      "execution_count": 2,
      "outputs": [
        {
          "output_type": "stream",
          "name": "stdout",
          "text": [
            "     일평균수면시간  일평균학습시간  일평균스마트폰사용시간      키     몸무게  체격   기초대사량 거주지역    구분\n",
            "0       7.35     7.74          4.8   Tall  52.050   L  1499.4   동구  고등학생\n",
            "1       7.05     8.10          1.2   Tall  51.300   M  1624.4   서구   중학생\n",
            "2       7.35     7.74          3.0   Tall  51.285   L  1499.4   동구  고등학생\n",
            "3       8.58     6.66          4.8  Short  25.545  XS  1249.5   서구  초등학생\n",
            "4       7.05     8.10          4.8   Tall  54.150   M  1624.4   서구   대학생\n",
            "..       ...      ...          ...    ...     ...  ..     ...  ...   ...\n",
            "525    10.11     5.58          4.8  Short  25.185  XS  1874.3   동구  초등학생\n",
            "526     8.27     6.84          1.2   Tall  51.165   M  2124.2   동구  고등학생\n",
            "527     7.35     7.74          1.2   Tall  40.995   L  1499.4   동구   중학생\n",
            "528    10.11     5.58          0.0  Short  18.330  XS  1874.3   동구  유치원생\n",
            "529     6.44     8.82          3.0   Tall  44.535   S  1499.4   동구  고등학생\n",
            "\n",
            "[530 rows x 9 columns]\n"
          ]
        }
      ]
    },
    {
      "cell_type": "code",
      "source": [
        "print(test_df)"
      ],
      "metadata": {
        "colab": {
          "base_uri": "https://localhost:8080/"
        },
        "id": "5kT4j7heKaSu",
        "outputId": "78b6573e-8690-49de-bfd1-8f412f3c7302"
      },
      "execution_count": 3,
      "outputs": [
        {
          "output_type": "stream",
          "name": "stdout",
          "text": [
            "     일평균수면시간  일평균학습시간  일평균스마트폰사용시간      키     몸무게  체격   기초대사량 거주지역\n",
            "0       7.97     7.11          1.2   Tall  51.375   L  1749.3   북구\n",
            "1       9.80     5.76          1.2  Short  28.710  XS  1749.3   북구\n",
            "2       7.66     7.38          1.2   Tall  36.915   L  1624.4   남구\n",
            "3       9.50     5.94          3.0  Short  24.045  XS  1624.4   동구\n",
            "4       6.44     8.82          3.0   Tall  45.180   S  1499.4   서구\n",
            "..       ...      ...          ...    ...     ...  ..     ...  ...\n",
            "225     9.80     5.76          3.0  Short  30.195  XS  1749.3   북구\n",
            "226     8.58     6.66          4.8  Short  25.875  XS  1249.5   동구\n",
            "227     8.27     6.84          1.2   Tall  50.460   M  2124.2   남구\n",
            "228     7.66     7.38          4.8   Tall  48.645   L  1624.4   북구\n",
            "229     9.80     5.76          4.8  Short  33.375  XS  1749.3   남구\n",
            "\n",
            "[230 rows x 8 columns]\n"
          ]
        }
      ]
    },
    {
      "cell_type": "code",
      "source": [
        "# 학습용 데이터 – 데이터 타입 확인\n",
        "train_df.info()"
      ],
      "metadata": {
        "colab": {
          "base_uri": "https://localhost:8080/"
        },
        "id": "b4qg9ZReKcuo",
        "outputId": "3f713856-daf0-49fd-d157-8b26f75918e4"
      },
      "execution_count": 4,
      "outputs": [
        {
          "output_type": "stream",
          "name": "stdout",
          "text": [
            "<class 'pandas.core.frame.DataFrame'>\n",
            "RangeIndex: 530 entries, 0 to 529\n",
            "Data columns (total 9 columns):\n",
            " #   Column       Non-Null Count  Dtype  \n",
            "---  ------       --------------  -----  \n",
            " 0   일평균수면시간      530 non-null    float64\n",
            " 1   일평균학습시간      530 non-null    float64\n",
            " 2   일평균스마트폰사용시간  530 non-null    float64\n",
            " 3   키            530 non-null    object \n",
            " 4   몸무게          530 non-null    float64\n",
            " 5   체격           530 non-null    object \n",
            " 6   기초대사량        530 non-null    float64\n",
            " 7   거주지역         530 non-null    object \n",
            " 8   구분           530 non-null    object \n",
            "dtypes: float64(5), object(4)\n",
            "memory usage: 37.4+ KB\n"
          ]
        }
      ]
    },
    {
      "cell_type": "code",
      "source": [
        "# 학습용 데이터 기초통계 확인\n",
        "train_df.describe(include='object')"
      ],
      "metadata": {
        "colab": {
          "base_uri": "https://localhost:8080/",
          "height": 175
        },
        "id": "qGtocIcmKfXn",
        "outputId": "75fd281d-9d28-4d46-d97c-a97c869de98a"
      },
      "execution_count": 5,
      "outputs": [
        {
          "output_type": "execute_result",
          "data": {
            "text/plain": [
              "           키   체격 거주지역    구분\n",
              "count    530  530  530   530\n",
              "unique     2    4    4     5\n",
              "top     Tall   XS   남구  유치원생\n",
              "freq     277  253  145   140"
            ],
            "text/html": [
              "\n",
              "  <div id=\"df-7d0087b4-eb68-4133-85dc-10fb1c83673d\" class=\"colab-df-container\">\n",
              "    <div>\n",
              "<style scoped>\n",
              "    .dataframe tbody tr th:only-of-type {\n",
              "        vertical-align: middle;\n",
              "    }\n",
              "\n",
              "    .dataframe tbody tr th {\n",
              "        vertical-align: top;\n",
              "    }\n",
              "\n",
              "    .dataframe thead th {\n",
              "        text-align: right;\n",
              "    }\n",
              "</style>\n",
              "<table border=\"1\" class=\"dataframe\">\n",
              "  <thead>\n",
              "    <tr style=\"text-align: right;\">\n",
              "      <th></th>\n",
              "      <th>키</th>\n",
              "      <th>체격</th>\n",
              "      <th>거주지역</th>\n",
              "      <th>구분</th>\n",
              "    </tr>\n",
              "  </thead>\n",
              "  <tbody>\n",
              "    <tr>\n",
              "      <th>count</th>\n",
              "      <td>530</td>\n",
              "      <td>530</td>\n",
              "      <td>530</td>\n",
              "      <td>530</td>\n",
              "    </tr>\n",
              "    <tr>\n",
              "      <th>unique</th>\n",
              "      <td>2</td>\n",
              "      <td>4</td>\n",
              "      <td>4</td>\n",
              "      <td>5</td>\n",
              "    </tr>\n",
              "    <tr>\n",
              "      <th>top</th>\n",
              "      <td>Tall</td>\n",
              "      <td>XS</td>\n",
              "      <td>남구</td>\n",
              "      <td>유치원생</td>\n",
              "    </tr>\n",
              "    <tr>\n",
              "      <th>freq</th>\n",
              "      <td>277</td>\n",
              "      <td>253</td>\n",
              "      <td>145</td>\n",
              "      <td>140</td>\n",
              "    </tr>\n",
              "  </tbody>\n",
              "</table>\n",
              "</div>\n",
              "    <div class=\"colab-df-buttons\">\n",
              "\n",
              "  <div class=\"colab-df-container\">\n",
              "    <button class=\"colab-df-convert\" onclick=\"convertToInteractive('df-7d0087b4-eb68-4133-85dc-10fb1c83673d')\"\n",
              "            title=\"Convert this dataframe to an interactive table.\"\n",
              "            style=\"display:none;\">\n",
              "\n",
              "  <svg xmlns=\"http://www.w3.org/2000/svg\" height=\"24px\" viewBox=\"0 -960 960 960\">\n",
              "    <path d=\"M120-120v-720h720v720H120Zm60-500h600v-160H180v160Zm220 220h160v-160H400v160Zm0 220h160v-160H400v160ZM180-400h160v-160H180v160Zm440 0h160v-160H620v160ZM180-180h160v-160H180v160Zm440 0h160v-160H620v160Z\"/>\n",
              "  </svg>\n",
              "    </button>\n",
              "\n",
              "  <style>\n",
              "    .colab-df-container {\n",
              "      display:flex;\n",
              "      gap: 12px;\n",
              "    }\n",
              "\n",
              "    .colab-df-convert {\n",
              "      background-color: #E8F0FE;\n",
              "      border: none;\n",
              "      border-radius: 50%;\n",
              "      cursor: pointer;\n",
              "      display: none;\n",
              "      fill: #1967D2;\n",
              "      height: 32px;\n",
              "      padding: 0 0 0 0;\n",
              "      width: 32px;\n",
              "    }\n",
              "\n",
              "    .colab-df-convert:hover {\n",
              "      background-color: #E2EBFA;\n",
              "      box-shadow: 0px 1px 2px rgba(60, 64, 67, 0.3), 0px 1px 3px 1px rgba(60, 64, 67, 0.15);\n",
              "      fill: #174EA6;\n",
              "    }\n",
              "\n",
              "    .colab-df-buttons div {\n",
              "      margin-bottom: 4px;\n",
              "    }\n",
              "\n",
              "    [theme=dark] .colab-df-convert {\n",
              "      background-color: #3B4455;\n",
              "      fill: #D2E3FC;\n",
              "    }\n",
              "\n",
              "    [theme=dark] .colab-df-convert:hover {\n",
              "      background-color: #434B5C;\n",
              "      box-shadow: 0px 1px 3px 1px rgba(0, 0, 0, 0.15);\n",
              "      filter: drop-shadow(0px 1px 2px rgba(0, 0, 0, 0.3));\n",
              "      fill: #FFFFFF;\n",
              "    }\n",
              "  </style>\n",
              "\n",
              "    <script>\n",
              "      const buttonEl =\n",
              "        document.querySelector('#df-7d0087b4-eb68-4133-85dc-10fb1c83673d button.colab-df-convert');\n",
              "      buttonEl.style.display =\n",
              "        google.colab.kernel.accessAllowed ? 'block' : 'none';\n",
              "\n",
              "      async function convertToInteractive(key) {\n",
              "        const element = document.querySelector('#df-7d0087b4-eb68-4133-85dc-10fb1c83673d');\n",
              "        const dataTable =\n",
              "          await google.colab.kernel.invokeFunction('convertToInteractive',\n",
              "                                                    [key], {});\n",
              "        if (!dataTable) return;\n",
              "\n",
              "        const docLinkHtml = 'Like what you see? Visit the ' +\n",
              "          '<a target=\"_blank\" href=https://colab.research.google.com/notebooks/data_table.ipynb>data table notebook</a>'\n",
              "          + ' to learn more about interactive tables.';\n",
              "        element.innerHTML = '';\n",
              "        dataTable['output_type'] = 'display_data';\n",
              "        await google.colab.output.renderOutput(dataTable, element);\n",
              "        const docLink = document.createElement('div');\n",
              "        docLink.innerHTML = docLinkHtml;\n",
              "        element.appendChild(docLink);\n",
              "      }\n",
              "    </script>\n",
              "  </div>\n",
              "\n",
              "\n",
              "<div id=\"df-fae59bbc-1180-4a2c-a080-1bf186ba99e0\">\n",
              "  <button class=\"colab-df-quickchart\" onclick=\"quickchart('df-fae59bbc-1180-4a2c-a080-1bf186ba99e0')\"\n",
              "            title=\"Suggest charts.\"\n",
              "            style=\"display:none;\">\n",
              "\n",
              "<svg xmlns=\"http://www.w3.org/2000/svg\" height=\"24px\"viewBox=\"0 0 24 24\"\n",
              "     width=\"24px\">\n",
              "    <g>\n",
              "        <path d=\"M19 3H5c-1.1 0-2 .9-2 2v14c0 1.1.9 2 2 2h14c1.1 0 2-.9 2-2V5c0-1.1-.9-2-2-2zM9 17H7v-7h2v7zm4 0h-2V7h2v10zm4 0h-2v-4h2v4z\"/>\n",
              "    </g>\n",
              "</svg>\n",
              "  </button>\n",
              "\n",
              "<style>\n",
              "  .colab-df-quickchart {\n",
              "      --bg-color: #E8F0FE;\n",
              "      --fill-color: #1967D2;\n",
              "      --hover-bg-color: #E2EBFA;\n",
              "      --hover-fill-color: #174EA6;\n",
              "      --disabled-fill-color: #AAA;\n",
              "      --disabled-bg-color: #DDD;\n",
              "  }\n",
              "\n",
              "  [theme=dark] .colab-df-quickchart {\n",
              "      --bg-color: #3B4455;\n",
              "      --fill-color: #D2E3FC;\n",
              "      --hover-bg-color: #434B5C;\n",
              "      --hover-fill-color: #FFFFFF;\n",
              "      --disabled-bg-color: #3B4455;\n",
              "      --disabled-fill-color: #666;\n",
              "  }\n",
              "\n",
              "  .colab-df-quickchart {\n",
              "    background-color: var(--bg-color);\n",
              "    border: none;\n",
              "    border-radius: 50%;\n",
              "    cursor: pointer;\n",
              "    display: none;\n",
              "    fill: var(--fill-color);\n",
              "    height: 32px;\n",
              "    padding: 0;\n",
              "    width: 32px;\n",
              "  }\n",
              "\n",
              "  .colab-df-quickchart:hover {\n",
              "    background-color: var(--hover-bg-color);\n",
              "    box-shadow: 0 1px 2px rgba(60, 64, 67, 0.3), 0 1px 3px 1px rgba(60, 64, 67, 0.15);\n",
              "    fill: var(--button-hover-fill-color);\n",
              "  }\n",
              "\n",
              "  .colab-df-quickchart-complete:disabled,\n",
              "  .colab-df-quickchart-complete:disabled:hover {\n",
              "    background-color: var(--disabled-bg-color);\n",
              "    fill: var(--disabled-fill-color);\n",
              "    box-shadow: none;\n",
              "  }\n",
              "\n",
              "  .colab-df-spinner {\n",
              "    border: 2px solid var(--fill-color);\n",
              "    border-color: transparent;\n",
              "    border-bottom-color: var(--fill-color);\n",
              "    animation:\n",
              "      spin 1s steps(1) infinite;\n",
              "  }\n",
              "\n",
              "  @keyframes spin {\n",
              "    0% {\n",
              "      border-color: transparent;\n",
              "      border-bottom-color: var(--fill-color);\n",
              "      border-left-color: var(--fill-color);\n",
              "    }\n",
              "    20% {\n",
              "      border-color: transparent;\n",
              "      border-left-color: var(--fill-color);\n",
              "      border-top-color: var(--fill-color);\n",
              "    }\n",
              "    30% {\n",
              "      border-color: transparent;\n",
              "      border-left-color: var(--fill-color);\n",
              "      border-top-color: var(--fill-color);\n",
              "      border-right-color: var(--fill-color);\n",
              "    }\n",
              "    40% {\n",
              "      border-color: transparent;\n",
              "      border-right-color: var(--fill-color);\n",
              "      border-top-color: var(--fill-color);\n",
              "    }\n",
              "    60% {\n",
              "      border-color: transparent;\n",
              "      border-right-color: var(--fill-color);\n",
              "    }\n",
              "    80% {\n",
              "      border-color: transparent;\n",
              "      border-right-color: var(--fill-color);\n",
              "      border-bottom-color: var(--fill-color);\n",
              "    }\n",
              "    90% {\n",
              "      border-color: transparent;\n",
              "      border-bottom-color: var(--fill-color);\n",
              "    }\n",
              "  }\n",
              "</style>\n",
              "\n",
              "  <script>\n",
              "    async function quickchart(key) {\n",
              "      const quickchartButtonEl =\n",
              "        document.querySelector('#' + key + ' button');\n",
              "      quickchartButtonEl.disabled = true;  // To prevent multiple clicks.\n",
              "      quickchartButtonEl.classList.add('colab-df-spinner');\n",
              "      try {\n",
              "        const charts = await google.colab.kernel.invokeFunction(\n",
              "            'suggestCharts', [key], {});\n",
              "      } catch (error) {\n",
              "        console.error('Error during call to suggestCharts:', error);\n",
              "      }\n",
              "      quickchartButtonEl.classList.remove('colab-df-spinner');\n",
              "      quickchartButtonEl.classList.add('colab-df-quickchart-complete');\n",
              "    }\n",
              "    (() => {\n",
              "      let quickchartButtonEl =\n",
              "        document.querySelector('#df-fae59bbc-1180-4a2c-a080-1bf186ba99e0 button');\n",
              "      quickchartButtonEl.style.display =\n",
              "        google.colab.kernel.accessAllowed ? 'block' : 'none';\n",
              "    })();\n",
              "  </script>\n",
              "</div>\n",
              "    </div>\n",
              "  </div>\n"
            ]
          },
          "metadata": {},
          "execution_count": 5
        }
      ]
    },
    {
      "cell_type": "code",
      "source": [
        "# 학습용 데이터 결측치 확인\n",
        "train_df.isnull().sum()"
      ],
      "metadata": {
        "colab": {
          "base_uri": "https://localhost:8080/"
        },
        "id": "SmPkaQCxKkFR",
        "outputId": "aee21ed3-b397-49fc-fb87-63a7a04e542e"
      },
      "execution_count": 6,
      "outputs": [
        {
          "output_type": "execute_result",
          "data": {
            "text/plain": [
              "일평균수면시간        0\n",
              "일평균학습시간        0\n",
              "일평균스마트폰사용시간    0\n",
              "키              0\n",
              "몸무게            0\n",
              "체격             0\n",
              "기초대사량          0\n",
              "거주지역           0\n",
              "구분             0\n",
              "dtype: int64"
            ]
          },
          "metadata": {},
          "execution_count": 6
        }
      ]
    },
    {
      "cell_type": "code",
      "source": [
        "# 학습용 데이터의 타겟 값 분포 확인\n",
        "train_df['구분'].value_counts()"
      ],
      "metadata": {
        "colab": {
          "base_uri": "https://localhost:8080/"
        },
        "id": "KeYlVjlIKlnh",
        "outputId": "74acb410-4e6e-4527-9575-e2393255cd6e"
      },
      "execution_count": 8,
      "outputs": [
        {
          "output_type": "execute_result",
          "data": {
            "text/plain": [
              "유치원생    140\n",
              "초등학생    121\n",
              "고등학생    120\n",
              "대학생      78\n",
              "중학생      71\n",
              "Name: 구분, dtype: int64"
            ]
          },
          "metadata": {},
          "execution_count": 8
        }
      ]
    },
    {
      "cell_type": "code",
      "source": [
        "# 테스트용 데이터 데이터타입 확인\n",
        "test_df.info()"
      ],
      "metadata": {
        "colab": {
          "base_uri": "https://localhost:8080/"
        },
        "id": "MSleTKQ2KosA",
        "outputId": "0594af60-7179-4ce5-cfde-a3ff50151d85"
      },
      "execution_count": 9,
      "outputs": [
        {
          "output_type": "stream",
          "name": "stdout",
          "text": [
            "<class 'pandas.core.frame.DataFrame'>\n",
            "RangeIndex: 230 entries, 0 to 229\n",
            "Data columns (total 8 columns):\n",
            " #   Column       Non-Null Count  Dtype  \n",
            "---  ------       --------------  -----  \n",
            " 0   일평균수면시간      230 non-null    float64\n",
            " 1   일평균학습시간      230 non-null    float64\n",
            " 2   일평균스마트폰사용시간  230 non-null    float64\n",
            " 3   키            230 non-null    object \n",
            " 4   몸무게          230 non-null    float64\n",
            " 5   체격           230 non-null    object \n",
            " 6   기초대사량        230 non-null    float64\n",
            " 7   거주지역         230 non-null    object \n",
            "dtypes: float64(5), object(3)\n",
            "memory usage: 14.5+ KB\n"
          ]
        }
      ]
    },
    {
      "cell_type": "code",
      "source": [
        "# 테스트용 데이터 기초통계 확인\n",
        "test_df.describe(include='object')"
      ],
      "metadata": {
        "colab": {
          "base_uri": "https://localhost:8080/",
          "height": 175
        },
        "id": "gbyfjYIcKqrp",
        "outputId": "c47e73d1-b75c-4027-a6a6-fe7fd8aafa7a"
      },
      "execution_count": 10,
      "outputs": [
        {
          "output_type": "execute_result",
          "data": {
            "text/plain": [
              "            키   체격 거주지역\n",
              "count     230  230  230\n",
              "unique      2    4    4\n",
              "top     Short   XS   북구\n",
              "freq      126  126   74"
            ],
            "text/html": [
              "\n",
              "  <div id=\"df-9701160a-354f-4cd1-a5b5-5f6293c1611e\" class=\"colab-df-container\">\n",
              "    <div>\n",
              "<style scoped>\n",
              "    .dataframe tbody tr th:only-of-type {\n",
              "        vertical-align: middle;\n",
              "    }\n",
              "\n",
              "    .dataframe tbody tr th {\n",
              "        vertical-align: top;\n",
              "    }\n",
              "\n",
              "    .dataframe thead th {\n",
              "        text-align: right;\n",
              "    }\n",
              "</style>\n",
              "<table border=\"1\" class=\"dataframe\">\n",
              "  <thead>\n",
              "    <tr style=\"text-align: right;\">\n",
              "      <th></th>\n",
              "      <th>키</th>\n",
              "      <th>체격</th>\n",
              "      <th>거주지역</th>\n",
              "    </tr>\n",
              "  </thead>\n",
              "  <tbody>\n",
              "    <tr>\n",
              "      <th>count</th>\n",
              "      <td>230</td>\n",
              "      <td>230</td>\n",
              "      <td>230</td>\n",
              "    </tr>\n",
              "    <tr>\n",
              "      <th>unique</th>\n",
              "      <td>2</td>\n",
              "      <td>4</td>\n",
              "      <td>4</td>\n",
              "    </tr>\n",
              "    <tr>\n",
              "      <th>top</th>\n",
              "      <td>Short</td>\n",
              "      <td>XS</td>\n",
              "      <td>북구</td>\n",
              "    </tr>\n",
              "    <tr>\n",
              "      <th>freq</th>\n",
              "      <td>126</td>\n",
              "      <td>126</td>\n",
              "      <td>74</td>\n",
              "    </tr>\n",
              "  </tbody>\n",
              "</table>\n",
              "</div>\n",
              "    <div class=\"colab-df-buttons\">\n",
              "\n",
              "  <div class=\"colab-df-container\">\n",
              "    <button class=\"colab-df-convert\" onclick=\"convertToInteractive('df-9701160a-354f-4cd1-a5b5-5f6293c1611e')\"\n",
              "            title=\"Convert this dataframe to an interactive table.\"\n",
              "            style=\"display:none;\">\n",
              "\n",
              "  <svg xmlns=\"http://www.w3.org/2000/svg\" height=\"24px\" viewBox=\"0 -960 960 960\">\n",
              "    <path d=\"M120-120v-720h720v720H120Zm60-500h600v-160H180v160Zm220 220h160v-160H400v160Zm0 220h160v-160H400v160ZM180-400h160v-160H180v160Zm440 0h160v-160H620v160ZM180-180h160v-160H180v160Zm440 0h160v-160H620v160Z\"/>\n",
              "  </svg>\n",
              "    </button>\n",
              "\n",
              "  <style>\n",
              "    .colab-df-container {\n",
              "      display:flex;\n",
              "      gap: 12px;\n",
              "    }\n",
              "\n",
              "    .colab-df-convert {\n",
              "      background-color: #E8F0FE;\n",
              "      border: none;\n",
              "      border-radius: 50%;\n",
              "      cursor: pointer;\n",
              "      display: none;\n",
              "      fill: #1967D2;\n",
              "      height: 32px;\n",
              "      padding: 0 0 0 0;\n",
              "      width: 32px;\n",
              "    }\n",
              "\n",
              "    .colab-df-convert:hover {\n",
              "      background-color: #E2EBFA;\n",
              "      box-shadow: 0px 1px 2px rgba(60, 64, 67, 0.3), 0px 1px 3px 1px rgba(60, 64, 67, 0.15);\n",
              "      fill: #174EA6;\n",
              "    }\n",
              "\n",
              "    .colab-df-buttons div {\n",
              "      margin-bottom: 4px;\n",
              "    }\n",
              "\n",
              "    [theme=dark] .colab-df-convert {\n",
              "      background-color: #3B4455;\n",
              "      fill: #D2E3FC;\n",
              "    }\n",
              "\n",
              "    [theme=dark] .colab-df-convert:hover {\n",
              "      background-color: #434B5C;\n",
              "      box-shadow: 0px 1px 3px 1px rgba(0, 0, 0, 0.15);\n",
              "      filter: drop-shadow(0px 1px 2px rgba(0, 0, 0, 0.3));\n",
              "      fill: #FFFFFF;\n",
              "    }\n",
              "  </style>\n",
              "\n",
              "    <script>\n",
              "      const buttonEl =\n",
              "        document.querySelector('#df-9701160a-354f-4cd1-a5b5-5f6293c1611e button.colab-df-convert');\n",
              "      buttonEl.style.display =\n",
              "        google.colab.kernel.accessAllowed ? 'block' : 'none';\n",
              "\n",
              "      async function convertToInteractive(key) {\n",
              "        const element = document.querySelector('#df-9701160a-354f-4cd1-a5b5-5f6293c1611e');\n",
              "        const dataTable =\n",
              "          await google.colab.kernel.invokeFunction('convertToInteractive',\n",
              "                                                    [key], {});\n",
              "        if (!dataTable) return;\n",
              "\n",
              "        const docLinkHtml = 'Like what you see? Visit the ' +\n",
              "          '<a target=\"_blank\" href=https://colab.research.google.com/notebooks/data_table.ipynb>data table notebook</a>'\n",
              "          + ' to learn more about interactive tables.';\n",
              "        element.innerHTML = '';\n",
              "        dataTable['output_type'] = 'display_data';\n",
              "        await google.colab.output.renderOutput(dataTable, element);\n",
              "        const docLink = document.createElement('div');\n",
              "        docLink.innerHTML = docLinkHtml;\n",
              "        element.appendChild(docLink);\n",
              "      }\n",
              "    </script>\n",
              "  </div>\n",
              "\n",
              "\n",
              "<div id=\"df-ea9aa4f1-bc97-479e-b41a-9c752aa94f85\">\n",
              "  <button class=\"colab-df-quickchart\" onclick=\"quickchart('df-ea9aa4f1-bc97-479e-b41a-9c752aa94f85')\"\n",
              "            title=\"Suggest charts.\"\n",
              "            style=\"display:none;\">\n",
              "\n",
              "<svg xmlns=\"http://www.w3.org/2000/svg\" height=\"24px\"viewBox=\"0 0 24 24\"\n",
              "     width=\"24px\">\n",
              "    <g>\n",
              "        <path d=\"M19 3H5c-1.1 0-2 .9-2 2v14c0 1.1.9 2 2 2h14c1.1 0 2-.9 2-2V5c0-1.1-.9-2-2-2zM9 17H7v-7h2v7zm4 0h-2V7h2v10zm4 0h-2v-4h2v4z\"/>\n",
              "    </g>\n",
              "</svg>\n",
              "  </button>\n",
              "\n",
              "<style>\n",
              "  .colab-df-quickchart {\n",
              "      --bg-color: #E8F0FE;\n",
              "      --fill-color: #1967D2;\n",
              "      --hover-bg-color: #E2EBFA;\n",
              "      --hover-fill-color: #174EA6;\n",
              "      --disabled-fill-color: #AAA;\n",
              "      --disabled-bg-color: #DDD;\n",
              "  }\n",
              "\n",
              "  [theme=dark] .colab-df-quickchart {\n",
              "      --bg-color: #3B4455;\n",
              "      --fill-color: #D2E3FC;\n",
              "      --hover-bg-color: #434B5C;\n",
              "      --hover-fill-color: #FFFFFF;\n",
              "      --disabled-bg-color: #3B4455;\n",
              "      --disabled-fill-color: #666;\n",
              "  }\n",
              "\n",
              "  .colab-df-quickchart {\n",
              "    background-color: var(--bg-color);\n",
              "    border: none;\n",
              "    border-radius: 50%;\n",
              "    cursor: pointer;\n",
              "    display: none;\n",
              "    fill: var(--fill-color);\n",
              "    height: 32px;\n",
              "    padding: 0;\n",
              "    width: 32px;\n",
              "  }\n",
              "\n",
              "  .colab-df-quickchart:hover {\n",
              "    background-color: var(--hover-bg-color);\n",
              "    box-shadow: 0 1px 2px rgba(60, 64, 67, 0.3), 0 1px 3px 1px rgba(60, 64, 67, 0.15);\n",
              "    fill: var(--button-hover-fill-color);\n",
              "  }\n",
              "\n",
              "  .colab-df-quickchart-complete:disabled,\n",
              "  .colab-df-quickchart-complete:disabled:hover {\n",
              "    background-color: var(--disabled-bg-color);\n",
              "    fill: var(--disabled-fill-color);\n",
              "    box-shadow: none;\n",
              "  }\n",
              "\n",
              "  .colab-df-spinner {\n",
              "    border: 2px solid var(--fill-color);\n",
              "    border-color: transparent;\n",
              "    border-bottom-color: var(--fill-color);\n",
              "    animation:\n",
              "      spin 1s steps(1) infinite;\n",
              "  }\n",
              "\n",
              "  @keyframes spin {\n",
              "    0% {\n",
              "      border-color: transparent;\n",
              "      border-bottom-color: var(--fill-color);\n",
              "      border-left-color: var(--fill-color);\n",
              "    }\n",
              "    20% {\n",
              "      border-color: transparent;\n",
              "      border-left-color: var(--fill-color);\n",
              "      border-top-color: var(--fill-color);\n",
              "    }\n",
              "    30% {\n",
              "      border-color: transparent;\n",
              "      border-left-color: var(--fill-color);\n",
              "      border-top-color: var(--fill-color);\n",
              "      border-right-color: var(--fill-color);\n",
              "    }\n",
              "    40% {\n",
              "      border-color: transparent;\n",
              "      border-right-color: var(--fill-color);\n",
              "      border-top-color: var(--fill-color);\n",
              "    }\n",
              "    60% {\n",
              "      border-color: transparent;\n",
              "      border-right-color: var(--fill-color);\n",
              "    }\n",
              "    80% {\n",
              "      border-color: transparent;\n",
              "      border-right-color: var(--fill-color);\n",
              "      border-bottom-color: var(--fill-color);\n",
              "    }\n",
              "    90% {\n",
              "      border-color: transparent;\n",
              "      border-bottom-color: var(--fill-color);\n",
              "    }\n",
              "  }\n",
              "</style>\n",
              "\n",
              "  <script>\n",
              "    async function quickchart(key) {\n",
              "      const quickchartButtonEl =\n",
              "        document.querySelector('#' + key + ' button');\n",
              "      quickchartButtonEl.disabled = true;  // To prevent multiple clicks.\n",
              "      quickchartButtonEl.classList.add('colab-df-spinner');\n",
              "      try {\n",
              "        const charts = await google.colab.kernel.invokeFunction(\n",
              "            'suggestCharts', [key], {});\n",
              "      } catch (error) {\n",
              "        console.error('Error during call to suggestCharts:', error);\n",
              "      }\n",
              "      quickchartButtonEl.classList.remove('colab-df-spinner');\n",
              "      quickchartButtonEl.classList.add('colab-df-quickchart-complete');\n",
              "    }\n",
              "    (() => {\n",
              "      let quickchartButtonEl =\n",
              "        document.querySelector('#df-ea9aa4f1-bc97-479e-b41a-9c752aa94f85 button');\n",
              "      quickchartButtonEl.style.display =\n",
              "        google.colab.kernel.accessAllowed ? 'block' : 'none';\n",
              "    })();\n",
              "  </script>\n",
              "</div>\n",
              "    </div>\n",
              "  </div>\n"
            ]
          },
          "metadata": {},
          "execution_count": 10
        }
      ]
    },
    {
      "cell_type": "code",
      "source": [
        "# 테스트용 데이터 결측치 확인\n",
        "test_df.isnull().sum()"
      ],
      "metadata": {
        "colab": {
          "base_uri": "https://localhost:8080/"
        },
        "id": "mu-xwa8QKteL",
        "outputId": "ea0d68c3-a1b4-451a-9681-c6505d871528"
      },
      "execution_count": 11,
      "outputs": [
        {
          "output_type": "execute_result",
          "data": {
            "text/plain": [
              "일평균수면시간        0\n",
              "일평균학습시간        0\n",
              "일평균스마트폰사용시간    0\n",
              "키              0\n",
              "몸무게            0\n",
              "체격             0\n",
              "기초대사량          0\n",
              "거주지역           0\n",
              "dtype: int64"
            ]
          },
          "metadata": {},
          "execution_count": 11
        }
      ]
    },
    {
      "cell_type": "code",
      "source": [
        "# 학습용 데이터의 타겟 값 처리\n",
        "targetVal = train_df.pop('구분')"
      ],
      "metadata": {
        "id": "pCZhl3eUKvdF"
      },
      "execution_count": 12,
      "outputs": []
    },
    {
      "cell_type": "code",
      "source": [
        "# 학습용/테스트용 데이터의 인코딩 진행\n",
        "print(train_df.shape, test_df.shape)\n",
        "\n",
        "train_df = pd.get_dummies(train_df)\n",
        "test_df = pd.get_dummies(test_df)\n",
        "\n",
        "print(train_df.shape, test_df.shape)"
      ],
      "metadata": {
        "colab": {
          "base_uri": "https://localhost:8080/"
        },
        "id": "GucDzZEZKzYK",
        "outputId": "c865fdaa-7614-4515-e516-b46a7876e9ab"
      },
      "execution_count": 13,
      "outputs": [
        {
          "output_type": "stream",
          "name": "stdout",
          "text": [
            "(530, 8) (230, 8)\n",
            "(530, 15) (230, 15)\n"
          ]
        }
      ]
    },
    {
      "cell_type": "code",
      "source": [
        "from sklearn.model_selection import train_test_split\n",
        "train_x, validation_x, train_y, validation_y = train_test_split(train_df, targetVal, test_size=0.2, random_state=0)\n",
        "print(train_x.shape, validation_x.shape, train_y.shape, validation_y.shape)"
      ],
      "metadata": {
        "colab": {
          "base_uri": "https://localhost:8080/"
        },
        "id": "NpyJf0XDK2ky",
        "outputId": "2d5ed844-9536-4d2c-8aa1-2f30d3f3ed03"
      },
      "execution_count": 14,
      "outputs": [
        {
          "output_type": "stream",
          "name": "stdout",
          "text": [
            "(424, 15) (106, 15) (424,) (106,)\n"
          ]
        }
      ]
    },
    {
      "cell_type": "code",
      "source": [
        "from sklearn.ensemble import RandomForestClassifier\n",
        "from sklearn.metrics import f1_score\n",
        "\n",
        "# 랜덤포레스트 분류 모델 생성 및 평가\n",
        "rfc = RandomForestClassifier(random_state=0)\n",
        "rfc.fit(train_x, train_y)\n",
        "prediction_val = rfc.predict(validation_x)\n",
        "f1_score(validation_y, prediction_val, average='macro')"
      ],
      "metadata": {
        "colab": {
          "base_uri": "https://localhost:8080/"
        },
        "id": "b6wzh8KmK6KL",
        "outputId": "85b29b07-040c-450a-b4ae-8c333c5a802a"
      },
      "execution_count": 15,
      "outputs": [
        {
          "output_type": "execute_result",
          "data": {
            "text/plain": [
              "0.9317983948418732"
            ]
          },
          "metadata": {},
          "execution_count": 15
        }
      ]
    },
    {
      "cell_type": "code",
      "source": [
        "# 테스트용 데이터를 이용하여 예측\n",
        "prediction_test = rfc.predict(test_df)\n",
        "result = pd.DataFrame({'pred':prediction_test})\n",
        "print(result)\n",
        "# result.to_csv('result.csv', index=False)"
      ],
      "metadata": {
        "colab": {
          "base_uri": "https://localhost:8080/"
        },
        "id": "dkWtxHr9K-rs",
        "outputId": "94befbc5-d696-41e6-c510-2a1ad2e47635"
      },
      "execution_count": 16,
      "outputs": [
        {
          "output_type": "stream",
          "name": "stdout",
          "text": [
            "     pred\n",
            "0    고등학생\n",
            "1    초등학생\n",
            "2     중학생\n",
            "3    유치원생\n",
            "4    고등학생\n",
            "..    ...\n",
            "225  초등학생\n",
            "226  초등학생\n",
            "227  고등학생\n",
            "228  고등학생\n",
            "229  초등학생\n",
            "\n",
            "[230 rows x 1 columns]\n"
          ]
        }
      ]
    },
    {
      "cell_type": "markdown",
      "source": [
        ">>**03 제3유형**"
      ],
      "metadata": {
        "id": "-cInPfclGlra"
      }
    },
    {
      "cell_type": "code",
      "source": [
        "import pandas as pd\n",
        "\n",
        "# 주어진 데이터를 입력\n",
        "df = pd.DataFrame({\"항암제\" : ['무증상', '속쓰림', '무증상', '무증상', '조금아픔', '무증상', '조금아픔', '무증상', '조금아픔', '무증상', '아픔', '무증상', '조금아픔', '무증상', '아픔', '무증상', '속쓰림', '무증상', '아픔', '무증상']})\n",
        "print(df)"
      ],
      "metadata": {
        "colab": {
          "base_uri": "https://localhost:8080/"
        },
        "id": "wrreXIPxLGp6",
        "outputId": "5476b242-750c-4597-d6c0-c403b41bc809"
      },
      "execution_count": 17,
      "outputs": [
        {
          "output_type": "stream",
          "name": "stdout",
          "text": [
            "     항암제\n",
            "0    무증상\n",
            "1    속쓰림\n",
            "2    무증상\n",
            "3    무증상\n",
            "4   조금아픔\n",
            "5    무증상\n",
            "6   조금아픔\n",
            "7    무증상\n",
            "8   조금아픔\n",
            "9    무증상\n",
            "10    아픔\n",
            "11   무증상\n",
            "12  조금아픔\n",
            "13   무증상\n",
            "14    아픔\n",
            "15   무증상\n",
            "16   속쓰림\n",
            "17   무증상\n",
            "18    아픔\n",
            "19   무증상\n"
          ]
        }
      ]
    },
    {
      "cell_type": "code",
      "source": [
        "cnt = df['항암제'] == '무증상'\n",
        "total = len(df['항암제'])\n",
        "result = sum(cnt) / total\n",
        "print(result)"
      ],
      "metadata": {
        "colab": {
          "base_uri": "https://localhost:8080/"
        },
        "id": "tDX1iEwyLZ8n",
        "outputId": "b0a6a6f1-c46d-4f46-9a5d-43468c82235e"
      },
      "execution_count": 18,
      "outputs": [
        {
          "output_type": "stream",
          "name": "stdout",
          "text": [
            "0.55\n"
          ]
        }
      ]
    },
    {
      "cell_type": "code",
      "source": [
        "df['항암제'].value_counts(normalize=True)"
      ],
      "metadata": {
        "colab": {
          "base_uri": "https://localhost:8080/"
        },
        "id": "_pmsiqSTLe8_",
        "outputId": "8e244d42-15fe-4f76-92c3-2cf2d687415f"
      },
      "execution_count": 19,
      "outputs": [
        {
          "output_type": "execute_result",
          "data": {
            "text/plain": [
              "무증상     0.55\n",
              "조금아픔    0.20\n",
              "아픔      0.15\n",
              "속쓰림     0.10\n",
              "Name: 항암제, dtype: float64"
            ]
          },
          "metadata": {},
          "execution_count": 19
        }
      ]
    },
    {
      "cell_type": "code",
      "source": [
        "df['항암제'].value_counts()"
      ],
      "metadata": {
        "colab": {
          "base_uri": "https://localhost:8080/"
        },
        "id": "x3IOTw2dLhw4",
        "outputId": "6211b1eb-10c1-4f09-dc6c-2469ef354374"
      },
      "execution_count": 20,
      "outputs": [
        {
          "output_type": "execute_result",
          "data": {
            "text/plain": [
              "무증상     11\n",
              "조금아픔     4\n",
              "아픔       3\n",
              "속쓰림      2\n",
              "Name: 항암제, dtype: int64"
            ]
          },
          "metadata": {},
          "execution_count": 20
        }
      ]
    },
    {
      "cell_type": "code",
      "source": [
        "import scipy.stats as stats\n",
        "\n",
        "val1 = df['항암제'].value_counts().to_list()\n",
        "val2 = [0.7 * total, 0.1 * total, 0.05 * total, 0.15 * total]\n",
        "statistic, pvalue = stats.chisquare(val1, val2)\n",
        "print(statistic)"
      ],
      "metadata": {
        "colab": {
          "base_uri": "https://localhost:8080/"
        },
        "id": "yeawkSjcLldC",
        "outputId": "c7ce050f-3bb9-47c0-dd87-055f376b729b"
      },
      "execution_count": 21,
      "outputs": [
        {
          "output_type": "stream",
          "name": "stdout",
          "text": [
            "6.976190476190475\n"
          ]
        }
      ]
    },
    {
      "cell_type": "code",
      "source": [
        "stats.chisquare(val1, val2)"
      ],
      "metadata": {
        "colab": {
          "base_uri": "https://localhost:8080/"
        },
        "id": "9o4JJQGGLpuz",
        "outputId": "aefa59de-8e71-44ea-923d-c35306cf7721"
      },
      "execution_count": 22,
      "outputs": [
        {
          "output_type": "execute_result",
          "data": {
            "text/plain": [
              "Power_divergenceResult(statistic=6.976190476190475, pvalue=0.07266054733847582)"
            ]
          },
          "metadata": {},
          "execution_count": 22
        }
      ]
    },
    {
      "cell_type": "code",
      "source": [
        "print(pvalue)"
      ],
      "metadata": {
        "colab": {
          "base_uri": "https://localhost:8080/"
        },
        "id": "wEgkjXBJLr0P",
        "outputId": "03ec44c6-b39e-4d37-ad69-527c2a595170"
      },
      "execution_count": 23,
      "outputs": [
        {
          "output_type": "stream",
          "name": "stdout",
          "text": [
            "0.07266054733847582\n"
          ]
        }
      ]
    },
    {
      "cell_type": "code",
      "source": [
        "import pandas as pd\n",
        "\n",
        "# csv 파일 불러오기\n",
        "df = pd.read_csv('https://raw.githubusercontent.com/YoungjinBD/dataset/main/data_6_3_2.csv')\n",
        "print(df)"
      ],
      "metadata": {
        "colab": {
          "base_uri": "https://localhost:8080/"
        },
        "id": "8xa9eYozLuVR",
        "outputId": "c2547139-281f-49dc-a5ec-892ff8ecc63a"
      },
      "execution_count": 1,
      "outputs": [
        {
          "output_type": "stream",
          "name": "stdout",
          "text": [
            "     Ozone  Solar  Wind  Temp  Month  Day\n",
            "0     41.0  190.0   7.4    67      5    1\n",
            "1     36.0  118.0   8.0    72      5    2\n",
            "2     12.0  149.0  12.6    74      5    3\n",
            "3     18.0  313.0  11.5    62      5    4\n",
            "4      NaN    NaN  14.3    56      5    5\n",
            "..     ...    ...   ...   ...    ...  ...\n",
            "148   30.0  193.0   6.9    70      9   26\n",
            "149    NaN  145.0  13.2    77      9   27\n",
            "150   14.0  191.0  14.3    75      9   28\n",
            "151   18.0  131.0   8.0    76      9   29\n",
            "152   20.0  223.0  11.5    68      9   30\n",
            "\n",
            "[153 rows x 6 columns]\n"
          ]
        }
      ]
    },
    {
      "cell_type": "code",
      "source": [
        "from statsmodels.formula.api import ols\n",
        "\n",
        "formula = \"Temp ~ Solar + Wind + Ozone\" # 종속변수 Temp, 독립변수 Solar + Wind + Ozone\n",
        "model = ols(formula, data=df).fit()\n",
        "coef = model.params['Ozone']\n",
        "print(coef)"
      ],
      "metadata": {
        "colab": {
          "base_uri": "https://localhost:8080/"
        },
        "id": "Iwiq2JIkMB5M",
        "outputId": "265b97c7-e029-41c0-e393-70e8df742dc8"
      },
      "execution_count": 2,
      "outputs": [
        {
          "output_type": "stream",
          "name": "stdout",
          "text": [
            "0.1719660419798145\n"
          ]
        }
      ]
    },
    {
      "cell_type": "code",
      "source": [
        "model.summary()"
      ],
      "metadata": {
        "colab": {
          "base_uri": "https://localhost:8080/",
          "height": 529
        },
        "id": "wBbYQ8vbMIrG",
        "outputId": "6fd2bb9b-d645-4559-b28d-c393c7527b4a"
      },
      "execution_count": 3,
      "outputs": [
        {
          "output_type": "execute_result",
          "data": {
            "text/plain": [
              "<class 'statsmodels.iolib.summary.Summary'>\n",
              "\"\"\"\n",
              "                            OLS Regression Results                            \n",
              "==============================================================================\n",
              "Dep. Variable:                   Temp   R-squared:                       0.500\n",
              "Model:                            OLS   Adj. R-squared:                  0.486\n",
              "Method:                 Least Squares   F-statistic:                     35.65\n",
              "Date:                Mon, 06 Nov 2023   Prob (F-statistic):           4.73e-16\n",
              "Time:                        01:12:59   Log-Likelihood:                -368.79\n",
              "No. Observations:                 111   AIC:                             745.6\n",
              "Df Residuals:                     107   BIC:                             756.4\n",
              "Df Model:                           3                                         \n",
              "Covariance Type:            nonrobust                                         \n",
              "==============================================================================\n",
              "                 coef    std err          t      P>|t|      [0.025      0.975]\n",
              "------------------------------------------------------------------------------\n",
              "Intercept     72.4186      3.216     22.522      0.000      66.044      78.793\n",
              "Solar          0.0073      0.008      0.948      0.345      -0.008       0.022\n",
              "Wind          -0.3229      0.233     -1.384      0.169      -0.785       0.139\n",
              "Ozone          0.1720      0.026      6.516      0.000       0.120       0.224\n",
              "==============================================================================\n",
              "Omnibus:                        6.409   Durbin-Watson:                   1.170\n",
              "Prob(Omnibus):                  0.041   Jarque-Bera (JB):                6.615\n",
              "Skew:                          -0.591   Prob(JB):                       0.0366\n",
              "Kurtosis:                       2.817   Cond. No.                     1.05e+03\n",
              "==============================================================================\n",
              "\n",
              "Notes:\n",
              "[1] Standard Errors assume that the covariance matrix of the errors is correctly specified.\n",
              "[2] The condition number is large, 1.05e+03. This might indicate that there are\n",
              "strong multicollinearity or other numerical problems.\n",
              "\"\"\""
            ],
            "text/html": [
              "<table class=\"simpletable\">\n",
              "<caption>OLS Regression Results</caption>\n",
              "<tr>\n",
              "  <th>Dep. Variable:</th>          <td>Temp</td>       <th>  R-squared:         </th> <td>   0.500</td>\n",
              "</tr>\n",
              "<tr>\n",
              "  <th>Model:</th>                   <td>OLS</td>       <th>  Adj. R-squared:    </th> <td>   0.486</td>\n",
              "</tr>\n",
              "<tr>\n",
              "  <th>Method:</th>             <td>Least Squares</td>  <th>  F-statistic:       </th> <td>   35.65</td>\n",
              "</tr>\n",
              "<tr>\n",
              "  <th>Date:</th>             <td>Mon, 06 Nov 2023</td> <th>  Prob (F-statistic):</th> <td>4.73e-16</td>\n",
              "</tr>\n",
              "<tr>\n",
              "  <th>Time:</th>                 <td>01:12:59</td>     <th>  Log-Likelihood:    </th> <td> -368.79</td>\n",
              "</tr>\n",
              "<tr>\n",
              "  <th>No. Observations:</th>      <td>   111</td>      <th>  AIC:               </th> <td>   745.6</td>\n",
              "</tr>\n",
              "<tr>\n",
              "  <th>Df Residuals:</th>          <td>   107</td>      <th>  BIC:               </th> <td>   756.4</td>\n",
              "</tr>\n",
              "<tr>\n",
              "  <th>Df Model:</th>              <td>     3</td>      <th>                     </th>     <td> </td>   \n",
              "</tr>\n",
              "<tr>\n",
              "  <th>Covariance Type:</th>      <td>nonrobust</td>    <th>                     </th>     <td> </td>   \n",
              "</tr>\n",
              "</table>\n",
              "<table class=\"simpletable\">\n",
              "<tr>\n",
              "      <td></td>         <th>coef</th>     <th>std err</th>      <th>t</th>      <th>P>|t|</th>  <th>[0.025</th>    <th>0.975]</th>  \n",
              "</tr>\n",
              "<tr>\n",
              "  <th>Intercept</th> <td>   72.4186</td> <td>    3.216</td> <td>   22.522</td> <td> 0.000</td> <td>   66.044</td> <td>   78.793</td>\n",
              "</tr>\n",
              "<tr>\n",
              "  <th>Solar</th>     <td>    0.0073</td> <td>    0.008</td> <td>    0.948</td> <td> 0.345</td> <td>   -0.008</td> <td>    0.022</td>\n",
              "</tr>\n",
              "<tr>\n",
              "  <th>Wind</th>      <td>   -0.3229</td> <td>    0.233</td> <td>   -1.384</td> <td> 0.169</td> <td>   -0.785</td> <td>    0.139</td>\n",
              "</tr>\n",
              "<tr>\n",
              "  <th>Ozone</th>     <td>    0.1720</td> <td>    0.026</td> <td>    6.516</td> <td> 0.000</td> <td>    0.120</td> <td>    0.224</td>\n",
              "</tr>\n",
              "</table>\n",
              "<table class=\"simpletable\">\n",
              "<tr>\n",
              "  <th>Omnibus:</th>       <td> 6.409</td> <th>  Durbin-Watson:     </th> <td>   1.170</td>\n",
              "</tr>\n",
              "<tr>\n",
              "  <th>Prob(Omnibus):</th> <td> 0.041</td> <th>  Jarque-Bera (JB):  </th> <td>   6.615</td>\n",
              "</tr>\n",
              "<tr>\n",
              "  <th>Skew:</th>          <td>-0.591</td> <th>  Prob(JB):          </th> <td>  0.0366</td>\n",
              "</tr>\n",
              "<tr>\n",
              "  <th>Kurtosis:</th>      <td> 2.817</td> <th>  Cond. No.          </th> <td>1.05e+03</td>\n",
              "</tr>\n",
              "</table><br/><br/>Notes:<br/>[1] Standard Errors assume that the covariance matrix of the errors is correctly specified.<br/>[2] The condition number is large, 1.05e+03. This might indicate that there are<br/>strong multicollinearity or other numerical problems."
            ],
            "text/latex": "\\begin{center}\n\\begin{tabular}{lclc}\n\\toprule\n\\textbf{Dep. Variable:}    &       Temp       & \\textbf{  R-squared:         } &     0.500   \\\\\n\\textbf{Model:}            &       OLS        & \\textbf{  Adj. R-squared:    } &     0.486   \\\\\n\\textbf{Method:}           &  Least Squares   & \\textbf{  F-statistic:       } &     35.65   \\\\\n\\textbf{Date:}             & Mon, 06 Nov 2023 & \\textbf{  Prob (F-statistic):} &  4.73e-16   \\\\\n\\textbf{Time:}             &     01:12:59     & \\textbf{  Log-Likelihood:    } &   -368.79   \\\\\n\\textbf{No. Observations:} &         111      & \\textbf{  AIC:               } &     745.6   \\\\\n\\textbf{Df Residuals:}     &         107      & \\textbf{  BIC:               } &     756.4   \\\\\n\\textbf{Df Model:}         &           3      & \\textbf{                     } &             \\\\\n\\textbf{Covariance Type:}  &    nonrobust     & \\textbf{                     } &             \\\\\n\\bottomrule\n\\end{tabular}\n\\begin{tabular}{lcccccc}\n                   & \\textbf{coef} & \\textbf{std err} & \\textbf{t} & \\textbf{P$> |$t$|$} & \\textbf{[0.025} & \\textbf{0.975]}  \\\\\n\\midrule\n\\textbf{Intercept} &      72.4186  &        3.216     &    22.522  &         0.000        &       66.044    &       78.793     \\\\\n\\textbf{Solar}     &       0.0073  &        0.008     &     0.948  &         0.345        &       -0.008    &        0.022     \\\\\n\\textbf{Wind}      &      -0.3229  &        0.233     &    -1.384  &         0.169        &       -0.785    &        0.139     \\\\\n\\textbf{Ozone}     &       0.1720  &        0.026     &     6.516  &         0.000        &        0.120    &        0.224     \\\\\n\\bottomrule\n\\end{tabular}\n\\begin{tabular}{lclc}\n\\textbf{Omnibus:}       &  6.409 & \\textbf{  Durbin-Watson:     } &    1.170  \\\\\n\\textbf{Prob(Omnibus):} &  0.041 & \\textbf{  Jarque-Bera (JB):  } &    6.615  \\\\\n\\textbf{Skew:}          & -0.591 & \\textbf{  Prob(JB):          } &   0.0366  \\\\\n\\textbf{Kurtosis:}      &  2.817 & \\textbf{  Cond. No.          } & 1.05e+03  \\\\\n\\bottomrule\n\\end{tabular}\n%\\caption{OLS Regression Results}\n\\end{center}\n\nNotes: \\newline\n [1] Standard Errors assume that the covariance matrix of the errors is correctly specified. \\newline\n [2] The condition number is large, 1.05e+03. This might indicate that there are \\newline\n strong multicollinearity or other numerical problems."
          },
          "metadata": {},
          "execution_count": 3
        }
      ]
    },
    {
      "cell_type": "code",
      "source": [
        "pvalue = model.pvalues['Wind']\n",
        "print(pvalue)"
      ],
      "metadata": {
        "colab": {
          "base_uri": "https://localhost:8080/"
        },
        "id": "Jada_IpTMKN1",
        "outputId": "9a30d14d-694d-4e1a-8a57-065cd23dabc2"
      },
      "execution_count": 4,
      "outputs": [
        {
          "output_type": "stream",
          "name": "stdout",
          "text": [
            "0.16909868598497474\n"
          ]
        }
      ]
    },
    {
      "cell_type": "code",
      "source": [
        "data = pd.DataFrame({'Ozone':[45], 'Solar':[150], 'Wind':[7.5]})\n",
        "prediction = model.get_prediction(data)\n",
        "summary = prediction.summary_frame(alpha=0.05)\n",
        "print(summary)"
      ],
      "metadata": {
        "colab": {
          "base_uri": "https://localhost:8080/"
        },
        "id": "O3aKP6aNMNZ1",
        "outputId": "d2f59bf9-ea2e-437e-c723-3d2d4274a5e2"
      },
      "execution_count": 5,
      "outputs": [
        {
          "output_type": "stream",
          "name": "stdout",
          "text": [
            "        mean   mean_se  mean_ci_lower  mean_ci_upper  obs_ci_lower  \\\n",
            "0  78.826312  0.864464      77.112614      80.540011     65.171661   \n",
            "\n",
            "   obs_ci_upper  \n",
            "0     92.480964  \n"
          ]
        }
      ]
    }
  ]
}