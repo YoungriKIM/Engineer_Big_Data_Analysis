{
  "nbformat": 4,
  "nbformat_minor": 0,
  "metadata": {
    "colab": {
      "provenance": []
    },
    "kernelspec": {
      "name": "python3",
      "display_name": "Python 3"
    },
    "language_info": {
      "name": "python"
    }
  },
  "cells": [
    {
      "cell_type": "markdown",
      "source": [
        "**PART 06** 기출문제\n",
        "\n",
        ">**CHAPTER 02** 기출문제 5회\n",
        "> >**01 제1유형**"
      ],
      "metadata": {
        "id": "shWWLB-fZmKQ"
      }
    },
    {
      "cell_type": "code",
      "source": [
        "import pandas as pd\n",
        "\n",
        "df=pd.read_csv('https://raw.githubusercontent.com/YoungjinBD/dataset/main/trash_bag.csv', encoding='cp949')\n",
        "print(df.head())"
      ],
      "metadata": {
        "colab": {
          "base_uri": "https://localhost:8080/"
        },
        "id": "8WElLn1kNDvS",
        "outputId": "6aadca3c-2030-434c-c693-583432811f2d"
      },
      "execution_count": null,
      "outputs": [
        {
          "output_type": "stream",
          "name": "stdout",
          "text": [
            "   시도명 시군구명       종류 처리방식      용도 사용대상  1L가격  1.5L가격  2L가격  2.5L가격  ...  5L가격  \\\n",
            "0  강원도  강릉시     규격봉투  매립용   생활쓰레기   기타     0       0     0       0  ...   130   \n",
            "1  강원도  강릉시  재사용규격봉투  매립용   생활쓰레기   기타     0       0     0       0  ...     0   \n",
            "2  강원도  고성군     규격봉투  소각용   생활쓰레기  가정용     0       0     0       0  ...   140   \n",
            "3  강원도  고성군     규격봉투  소각용  음식물쓰레기  가정용     0       0    60       0  ...   120   \n",
            "4  강원도  고성군   특수규격마대  매립용   생활쓰레기  가정용     0       0     0       0  ...     0   \n",
            "\n",
            "   10L가격  20L가격  30L가격  50L가격  60L가격  75L가격  100L가격  120L가격  125L가격  \n",
            "0    270    520      0   1250      0   1880       0       0       0  \n",
            "1    270    520      0      0      0      0       0       0       0  \n",
            "2    260    500      0   1220      0      0    2410       0       0  \n",
            "3      0      0      0      0      0      0       0       0       0  \n",
            "4      0      0      0   1540      0      0       0       0       0  \n",
            "\n",
            "[5 rows x 21 columns]\n"
          ]
        }
      ]
    },
    {
      "cell_type": "code",
      "source": [
        "print(df['용도'].unique())\n",
        "print(df['사용대상'].unique())"
      ],
      "metadata": {
        "colab": {
          "base_uri": "https://localhost:8080/"
        },
        "id": "fFM-0Ct2NTN8",
        "outputId": "4e917629-5083-46c2-ac8d-83ff33a4b15a"
      },
      "execution_count": null,
      "outputs": [
        {
          "output_type": "stream",
          "name": "stdout",
          "text": [
            "['생활쓰레기' '음식물쓰레기']\n",
            "['기타' '가정용' '사업장용' '영업용' '영업장용' '범용']\n"
          ]
        }
      ]
    },
    {
      "cell_type": "code",
      "source": [
        "df_home_trash = df[(df['용도']=='음식물쓰레기')&(df['사용대상']=='가정용')]\n",
        "print(df_home_trash.head())"
      ],
      "metadata": {
        "colab": {
          "base_uri": "https://localhost:8080/"
        },
        "id": "DhmJO_EZNXCW",
        "outputId": "f0e7b9c4-3dcd-4ec6-b4f0-64c6d6df3539"
      },
      "execution_count": null,
      "outputs": [
        {
          "output_type": "stream",
          "name": "stdout",
          "text": [
            "    시도명 시군구명    종류 처리방식      용도 사용대상  1L가격  1.5L가격  2L가격  2.5L가격  ...  5L가격  \\\n",
            "3   강원도  고성군  규격봉투  소각용  음식물쓰레기  가정용     0       0    60       0  ...   120   \n",
            "8   강원도  삼척시  규격봉투  매립용  음식물쓰레기  가정용     0       0     0       0  ...    80   \n",
            "9   강원도  양구군  규격봉투  매립용  음식물쓰레기  가정용     0       0    50       0  ...   120   \n",
            "12  강원도  양양군  규격봉투   기타  음식물쓰레기  가정용     0       0    40       0  ...    90   \n",
            "16  강원도  영월군  규격봉투  매립용  음식물쓰레기  가정용     0       0     0       0  ...   110   \n",
            "\n",
            "    10L가격  20L가격  30L가격  50L가격  60L가격  75L가격  100L가격  120L가격  125L가격  \n",
            "3       0      0      0      0      0      0       0       0       0  \n",
            "8     150    290      0      0      0      0       0       0       0  \n",
            "9     210    400      0      0      0      0       0       0       0  \n",
            "12    170    340      0      0      0      0       0       0       0  \n",
            "16    180    350      0    900      0   1350       0       0       0  \n",
            "\n",
            "[5 rows x 21 columns]\n"
          ]
        }
      ]
    },
    {
      "cell_type": "code",
      "source": [
        "result_df = df_home_trash[df_home_trash['2L가격']!=0]\n",
        "print(result_df.head())"
      ],
      "metadata": {
        "colab": {
          "base_uri": "https://localhost:8080/"
        },
        "id": "DA2LhumQNdJI",
        "outputId": "8e611ff9-bdd2-4ab7-99dc-75e11bc523fc"
      },
      "execution_count": null,
      "outputs": [
        {
          "output_type": "stream",
          "name": "stdout",
          "text": [
            "    시도명 시군구명    종류 처리방식      용도 사용대상  1L가격  1.5L가격  2L가격  2.5L가격  ...  5L가격  \\\n",
            "3   강원도  고성군  규격봉투  소각용  음식물쓰레기  가정용     0       0    60       0  ...   120   \n",
            "9   강원도  양구군  규격봉투  매립용  음식물쓰레기  가정용     0       0    50       0  ...   120   \n",
            "12  강원도  양양군  규격봉투   기타  음식물쓰레기  가정용     0       0    40       0  ...    90   \n",
            "20  강원도  원주시  규격봉투   기타  음식물쓰레기  가정용     0       0    80       0  ...   170   \n",
            "33  강원도  춘천시  규격봉투  매립용  음식물쓰레기  가정용    40       0    50       0  ...   140   \n",
            "\n",
            "    10L가격  20L가격  30L가격  50L가격  60L가격  75L가격  100L가격  120L가격  125L가격  \n",
            "3       0      0      0      0      0      0       0       0       0  \n",
            "9     210    400      0      0      0      0       0       0       0  \n",
            "12    170    340      0      0      0      0       0       0       0  \n",
            "20    320    680      0   1690      0      0       0       0       0  \n",
            "33    230    470      0      0      0      0       0       0       0  \n",
            "\n",
            "[5 rows x 21 columns]\n"
          ]
        }
      ]
    },
    {
      "cell_type": "code",
      "source": [
        "result = int(result_df['2L가격'].mean())\n",
        "print(result)"
      ],
      "metadata": {
        "colab": {
          "base_uri": "https://localhost:8080/"
        },
        "id": "aa2HG21ZNgbG",
        "outputId": "0e4a9bde-dc6b-4a49-f113-dfd1db088e09"
      },
      "execution_count": null,
      "outputs": [
        {
          "output_type": "stream",
          "name": "stdout",
          "text": [
            "119\n"
          ]
        }
      ]
    },
    {
      "cell_type": "code",
      "source": [
        "import pandas as pd\n",
        "\n",
        "df=pd.read_csv('https://raw.githubusercontent.com/YoungjinBD/dataset/main/BMI.csv')\n",
        "print(df.head())"
      ],
      "metadata": {
        "colab": {
          "base_uri": "https://localhost:8080/"
        },
        "id": "GrZ3BU0JNkI_",
        "outputId": "1a8b1d5a-368d-446e-ee42-1f18860f7cf2"
      },
      "execution_count": null,
      "outputs": [
        {
          "output_type": "stream",
          "name": "stdout",
          "text": [
            "   Gender  Height  Weight\n",
            "0    Male     174      96\n",
            "1    Male     189      87\n",
            "2  Female     185     110\n",
            "3  Female     195     104\n",
            "4    Male     149      61\n"
          ]
        }
      ]
    },
    {
      "cell_type": "code",
      "source": [
        "df[\"Height_m\"] = df[\"Height\"]/100\n",
        "df[\"BMI\"] = df[\"Weight\"]/(df[\"Height_m\"]**2)\n",
        "print(df.head())"
      ],
      "metadata": {
        "colab": {
          "base_uri": "https://localhost:8080/"
        },
        "id": "InRaNWGeNrwn",
        "outputId": "e04bf88d-494a-41c1-99fe-9c884abdb190"
      },
      "execution_count": null,
      "outputs": [
        {
          "output_type": "stream",
          "name": "stdout",
          "text": [
            "   Gender  Height  Weight  Height_m        BMI\n",
            "0    Male     174      96      1.74  31.708284\n",
            "1    Male     189      87      1.89  24.355421\n",
            "2  Female     185     110      1.85  32.140248\n",
            "3  Female     195     104      1.95  27.350427\n",
            "4    Male     149      61      1.49  27.476240\n"
          ]
        }
      ]
    },
    {
      "cell_type": "code",
      "source": [
        "normal = len(df[(df[\"BMI\"]>=18.5)&(df[\"BMI\"]<23)])\n",
        "overweight = len(df[(df[\"BMI\"]>=23)&(df[\"BMI\"]<25)])\n",
        "print(normal)\n",
        "print(overweight)"
      ],
      "metadata": {
        "colab": {
          "base_uri": "https://localhost:8080/"
        },
        "id": "GHLsvvOiNytb",
        "outputId": "057ac168-d845-4c01-b362-d815440c6963"
      },
      "execution_count": null,
      "outputs": [
        {
          "output_type": "stream",
          "name": "stdout",
          "text": [
            "47\n",
            "19\n"
          ]
        }
      ]
    },
    {
      "cell_type": "code",
      "source": [
        "result = abs(normal - overweight)\n",
        "print(result)"
      ],
      "metadata": {
        "colab": {
          "base_uri": "https://localhost:8080/"
        },
        "id": "zVR4XvjqN4qj",
        "outputId": "6c23d9b0-a0b1-481d-836d-34121cd9b24a"
      },
      "execution_count": null,
      "outputs": [
        {
          "output_type": "stream",
          "name": "stdout",
          "text": [
            "28\n"
          ]
        }
      ]
    },
    {
      "cell_type": "code",
      "source": [
        "import pandas as pd\n",
        "\n",
        "df=pd.read_csv('https://raw.githubusercontent.com/YoungjinBD/dataset/main/students.csv', encoding='cp949')\n",
        "print(df.head())"
      ],
      "metadata": {
        "colab": {
          "base_uri": "https://localhost:8080/"
        },
        "id": "0PGlDyy9N7Z0",
        "outputId": "fc42341c-c53b-49d6-b207-509a5ad256f4"
      },
      "execution_count": null,
      "outputs": [
        {
          "output_type": "stream",
          "name": "stdout",
          "text": [
            "  학교  학년  총 전입학생  총 전출학생  전체학생 수\n",
            "0  A   1       9       1     222\n",
            "1  A   2      13       4     148\n",
            "2  A   3       8       7     196\n",
            "3  B   1       7       5     171\n",
            "4  B   2       9       1     216\n"
          ]
        }
      ]
    },
    {
      "cell_type": "code",
      "source": [
        "df['순 전입학생 수'] = df['총 전입학생'] - df['총 전출학생']\n",
        "print(df.head())"
      ],
      "metadata": {
        "colab": {
          "base_uri": "https://localhost:8080/"
        },
        "id": "snhvH6ioOE1U",
        "outputId": "6e5c5695-68dd-454a-bbed-71ebe36543b1"
      },
      "execution_count": null,
      "outputs": [
        {
          "output_type": "stream",
          "name": "stdout",
          "text": [
            "  학교  학년  총 전입학생  총 전출학생  전체학생 수  순 전입학생 수\n",
            "0  A   1       9       1     222         8\n",
            "1  A   2      13       4     148         9\n",
            "2  A   3       8       7     196         1\n",
            "3  B   1       7       5     171         2\n",
            "4  B   2       9       1     216         8\n"
          ]
        }
      ]
    },
    {
      "cell_type": "code",
      "source": [
        "result_df = df.groupby(['학교'])[['순 전입학생 수', '전체학생 수']].sum()\n",
        "print(result_df.head())"
      ],
      "metadata": {
        "colab": {
          "base_uri": "https://localhost:8080/"
        },
        "id": "v4NznWuWOI5k",
        "outputId": "2aa406a5-36ce-4c45-b056-0b7e89395bd0"
      },
      "execution_count": null,
      "outputs": [
        {
          "output_type": "stream",
          "name": "stdout",
          "text": [
            "    순 전입학생 수  전체학생 수\n",
            "학교                  \n",
            "A         18     566\n",
            "B         13     588\n",
            "C         -9     528\n",
            "D          7     548\n",
            "E         14     603\n"
          ]
        }
      ]
    },
    {
      "cell_type": "code",
      "source": [
        "result = result_df.loc[result_df['순 전입학생 수']==result_df['순 전입학생 수'].max(), '전체학생 수'].values[0]\n",
        "print(result)"
      ],
      "metadata": {
        "colab": {
          "base_uri": "https://localhost:8080/"
        },
        "id": "NM-wkYFCOOuf",
        "outputId": "a7d2d8ec-d3dc-41e6-e1fa-80b81cfcd3ae"
      },
      "execution_count": null,
      "outputs": [
        {
          "output_type": "stream",
          "name": "stdout",
          "text": [
            "566\n"
          ]
        }
      ]
    },
    {
      "cell_type": "markdown",
      "source": [
        ">>**02 제2유형**"
      ],
      "metadata": {
        "id": "UcaYZwQkanwI"
      }
    },
    {
      "cell_type": "code",
      "source": [
        "import pandas as pd\n",
        "\n",
        "X_test = pd.read_csv('https://raw.githubusercontent.com/YoungjinBD/dataset/main/used_car_X_test.csv')\n",
        "X_train = pd.read_csv('https://raw.githubusercontent.com/YoungjinBD/dataset/main/used_car_X_train.csv')\n",
        "y_train = pd.read_csv('https://raw.githubusercontent.com/YoungjinBD/dataset/main/used_car_y_train.csv')\n",
        "print(X_train.head())"
      ],
      "metadata": {
        "colab": {
          "base_uri": "https://localhost:8080/"
        },
        "id": "rRxsh0DhOWIA",
        "outputId": "672ffffe-2235-45fe-8bde-125c0725340a"
      },
      "execution_count": 9,
      "outputs": [
        {
          "output_type": "stream",
          "name": "stdout",
          "text": [
            "   id model  year transmission  mileage fuelType  tax   mpg  engineSize\n",
            "0   1    A1  2019    Automatic     3500   Petrol  145  40.9         2.0\n",
            "1   2   RS4  2020    Semi-Auto     2500   Petrol  145  28.8         2.9\n",
            "2   3    A8  2019    Semi-Auto      500   Diesel  145  40.4         3.0\n",
            "3   4    Q5  2019    Semi-Auto     5089   Diesel  150  38.2         2.0\n",
            "4   5    A5  2020    Semi-Auto     4951   Diesel  145  51.4         2.0\n"
          ]
        }
      ]
    },
    {
      "cell_type": "code",
      "source": [
        "print(f' X_train : {X_train.isnull().sum().sum()}')\n",
        "print(f' y_train : {y_train.isnull().sum().sum()}')\n",
        "print(f' X_test : {X_test.isnull().sum().sum()}')"
      ],
      "metadata": {
        "colab": {
          "base_uri": "https://localhost:8080/"
        },
        "id": "oU_raRwKOr68",
        "outputId": "e4e92432-7c55-4f85-c85c-5a694f6f9b43"
      },
      "execution_count": 10,
      "outputs": [
        {
          "output_type": "stream",
          "name": "stdout",
          "text": [
            " X_train : 0\n",
            " y_train : 0\n",
            " X_test : 0\n"
          ]
        }
      ]
    },
    {
      "cell_type": "code",
      "source": [
        "# 데이터 나누기\n",
        "# 범주형 데이터\n",
        "X_train_word = X_train[['model','transmission','fuelType']]\n",
        "X_test_word = X_test[['model','transmission','fuelType']]\n",
        "print(X_train_word)\n",
        "\n",
        "# 수치형 데이터\n",
        "X_train_num= X_train.drop(columns=['id','model','transmission','fuelType'])\n",
        "X_test_num= X_test.drop(columns=['id','model','transmission','fuelType'])\n",
        "print(X_train_num)"
      ],
      "metadata": {
        "colab": {
          "base_uri": "https://localhost:8080/"
        },
        "id": "Fuq15v9YOyze",
        "outputId": "482e5989-8d83-4704-b526-8df5c9cc36c0"
      },
      "execution_count": 11,
      "outputs": [
        {
          "output_type": "stream",
          "name": "stdout",
          "text": [
            "     model transmission fuelType\n",
            "0       A1    Automatic   Petrol\n",
            "1      RS4    Semi-Auto   Petrol\n",
            "2       A8    Semi-Auto   Diesel\n",
            "3       Q5    Semi-Auto   Diesel\n",
            "4       A5    Semi-Auto   Diesel\n",
            "...    ...          ...      ...\n",
            "7463    A3       Manual   Petrol\n",
            "7464    Q2       Manual   Diesel\n",
            "7465    A1    Semi-Auto   Petrol\n",
            "7466    Q3       Manual   Diesel\n",
            "7467    Q7    Automatic   Diesel\n",
            "\n",
            "[7468 rows x 3 columns]\n",
            "      year  mileage  tax   mpg  engineSize\n",
            "0     2019     3500  145  40.9         2.0\n",
            "1     2020     2500  145  28.8         2.9\n",
            "2     2019      500  145  40.4         3.0\n",
            "3     2019     5089  150  38.2         2.0\n",
            "4     2020     4951  145  51.4         2.0\n",
            "...    ...      ...  ...   ...         ...\n",
            "7463  2016    22633   30  58.9         1.4\n",
            "7464  2017    13272  145  64.2         1.6\n",
            "7465  2019     5000  145  40.9         2.0\n",
            "7466  2019       10  145  42.8         2.0\n",
            "7467  2012    91229  300  39.2         3.0\n",
            "\n",
            "[7468 rows x 5 columns]\n"
          ]
        }
      ]
    },
    {
      "cell_type": "code",
      "source": [
        "# 데이터 스케일링\n",
        "from sklearn.preprocessing import MinMaxScaler\n",
        "\n",
        "# MinMax 스케일러 생성\n",
        "scaler = MinMaxScaler()\n",
        "\n",
        "# 선택한 특성에 MinMax 스케일러를 적용하고 데이터 변환\n",
        "X_train_num_scale = scaler.fit_transform(X_train_num)\n",
        "X_test_num_scale = scaler.transform(X_test_num)\n",
        "\n",
        "# 데이터 프레임 설정\n",
        "df_train_num = pd.DataFrame(X_train_num_scale , columns = X_train_num.columns)\n",
        "df_test_num = pd.DataFrame(X_test_num_scale , columns = X_test_num.columns)\n",
        "\n",
        "# 원핫 인코딩\n",
        "df_train_word = pd.get_dummies(X_train_word)\n",
        "df_test_word = pd.get_dummies(X_test_word)"
      ],
      "metadata": {
        "id": "XSUltcr5PAh9"
      },
      "execution_count": 12,
      "outputs": []
    },
    {
      "cell_type": "code",
      "source": [
        "# 훈련 데이터프레임 컬럼 목록\n",
        "train_columns = set(df_train_word.columns)\n",
        "\n",
        "# 테스트 데이터프레임 컬럼 목록\n",
        "test_columns = set(df_test_word.columns)\n",
        "\n",
        "# 훈련 데이터에는 있지만 테스트 데이터에는 없는 컬럼 확인\n",
        "missing_in_test = train_columns - test_columns\n",
        "\n",
        "# 테스트 데이터에는 있지만 훈련 데이터에는 없는 컬럼 확인\n",
        "missing_in_train = test_columns - train_columns\n",
        "print(\"컬럼 목록 중 테스트 데이터에 없는 컬럼:\", missing_in_test)\n",
        "print(\"컬럼 목록 중 훈련 데이터에 없는 컬럼:\", missing_in_train)\n",
        "\n",
        "# 컬럼 목록 중 없는 컬럼의 값을 0으로 해서 채워줌\n",
        "df_test_word['model_ RS7'] = 0\n",
        "df_test_word['model_ S8'] = 0\n",
        "df_test_word['model_ A2'] = 0\n",
        "df_test_word['model_ S5'] = 0"
      ],
      "metadata": {
        "colab": {
          "base_uri": "https://localhost:8080/"
        },
        "id": "oKjf3hK7AnRJ",
        "outputId": "7afa79a7-7499-4622-dc63-f47f69c9a6ee"
      },
      "execution_count": 13,
      "outputs": [
        {
          "output_type": "stream",
          "name": "stdout",
          "text": [
            "컬럼 목록 중 테스트 데이터에 없는 컬럼: {'model_ A2', 'model_ RS7', 'model_ S8', 'model_ S5'}\n",
            "컬럼 목록 중 훈련 데이터에 없는 컬럼: set()\n"
          ]
        }
      ]
    },
    {
      "cell_type": "code",
      "source": [
        "# 데이터 결합\n",
        "df_train = pd.concat([df_train_num, df_train_word], axis = 1)\n",
        "df_test = pd.concat([df_test_num, df_test_word], axis = 1)\n",
        "print(df_train)"
      ],
      "metadata": {
        "colab": {
          "base_uri": "https://localhost:8080/"
        },
        "id": "OuU_y72XA8-k",
        "outputId": "d9a7a3ff-5638-4a5b-c93b-7dd1f879bbf2"
      },
      "execution_count": 14,
      "outputs": [
        {
          "output_type": "stream",
          "name": "stdout",
          "text": [
            "          year   mileage       tax       mpg  engineSize  model_ A1  \\\n",
            "0     0.954545  0.020825  0.250000  0.127811    0.317460          1   \n",
            "1     1.000000  0.014874  0.250000  0.056213    0.460317          0   \n",
            "2     0.954545  0.002970  0.250000  0.124852    0.476190          0   \n",
            "3     0.954545  0.030283  0.258621  0.111834    0.317460          0   \n",
            "4     1.000000  0.029461  0.250000  0.189941    0.317460          0   \n",
            "...        ...       ...       ...       ...         ...        ...   \n",
            "7463  0.818182  0.134701  0.051724  0.234320    0.222222          0   \n",
            "7464  0.863636  0.078987  0.250000  0.265680    0.253968          0   \n",
            "7465  0.954545  0.029753  0.250000  0.127811    0.317460          1   \n",
            "7466  0.954545  0.000054  0.250000  0.139053    0.317460          0   \n",
            "7467  0.636364  0.542972  0.517241  0.117751    0.476190          0   \n",
            "\n",
            "      model_ A2  model_ A3  model_ A4  model_ A5  ...  model_ S8  model_ SQ5  \\\n",
            "0             0          0          0          0  ...          0           0   \n",
            "1             0          0          0          0  ...          0           0   \n",
            "2             0          0          0          0  ...          0           0   \n",
            "3             0          0          0          0  ...          0           0   \n",
            "4             0          0          0          1  ...          0           0   \n",
            "...         ...        ...        ...        ...  ...        ...         ...   \n",
            "7463          0          1          0          0  ...          0           0   \n",
            "7464          0          0          0          0  ...          0           0   \n",
            "7465          0          0          0          0  ...          0           0   \n",
            "7466          0          0          0          0  ...          0           0   \n",
            "7467          0          0          0          0  ...          0           0   \n",
            "\n",
            "      model_ SQ7  model_ TT  transmission_Automatic  transmission_Manual  \\\n",
            "0              0          0                       1                    0   \n",
            "1              0          0                       0                    0   \n",
            "2              0          0                       0                    0   \n",
            "3              0          0                       0                    0   \n",
            "4              0          0                       0                    0   \n",
            "...          ...        ...                     ...                  ...   \n",
            "7463           0          0                       0                    1   \n",
            "7464           0          0                       0                    1   \n",
            "7465           0          0                       0                    0   \n",
            "7466           0          0                       0                    1   \n",
            "7467           0          0                       1                    0   \n",
            "\n",
            "      transmission_Semi-Auto  fuelType_Diesel  fuelType_Hybrid  \\\n",
            "0                          0                0                0   \n",
            "1                          1                0                0   \n",
            "2                          1                1                0   \n",
            "3                          1                1                0   \n",
            "4                          1                1                0   \n",
            "...                      ...              ...              ...   \n",
            "7463                       0                0                0   \n",
            "7464                       0                1                0   \n",
            "7465                       1                0                0   \n",
            "7466                       0                1                0   \n",
            "7467                       0                1                0   \n",
            "\n",
            "      fuelType_Petrol  \n",
            "0                   1  \n",
            "1                   1  \n",
            "2                   0  \n",
            "3                   0  \n",
            "4                   0  \n",
            "...               ...  \n",
            "7463                1  \n",
            "7464                0  \n",
            "7465                1  \n",
            "7466                0  \n",
            "7467                0  \n",
            "\n",
            "[7468 rows x 37 columns]\n"
          ]
        }
      ]
    },
    {
      "cell_type": "code",
      "source": [
        "# 모델 학습\n",
        "from pandas.core.common import random_state\n",
        "import xgboost as xgb\n",
        "from sklearn.model_selection import train_test_split\n",
        "from sklearn.metrics import mean_squared_error\n",
        "import numpy as np\n",
        "\n",
        "# 모델 생성\n",
        "model = xgb.XGBRegressor(random_state=77)\n",
        "\n",
        "# train , validation 데이터 설정\n",
        "X_train, X_val, y_train_t, y_val = train_test_split(df_train.values, y_train['price'].values, test_size=0.3)\n",
        "\n",
        "# 모델 학습\n",
        "model.fit(X_train, y_train_t)\n",
        "\n",
        "# vaidation 데이터로 성능 평가\n",
        "y_pred = model.predict(X_val)\n",
        "print(np.sqrt(mean_squared_error(y_val, y_pred)))"
      ],
      "metadata": {
        "colab": {
          "base_uri": "https://localhost:8080/"
        },
        "id": "qJ-n24XDPHJH",
        "outputId": "f7b2e316-89eb-4737-f1f8-cb6a90f04924"
      },
      "execution_count": 15,
      "outputs": [
        {
          "output_type": "stream",
          "name": "stdout",
          "text": [
            "2287.3009194036686\n"
          ]
        }
      ]
    },
    {
      "cell_type": "code",
      "source": [
        "# 예측\n",
        "y_pred = model.predict(df_test)\n",
        "df = pd.DataFrame(X_test['id'], columns=['id'])\n",
        "df['price'] = y_pred\n",
        "print(df.head())\n",
        "\n",
        "# CSV 파일 저장\n",
        "# df.to_csv('result.csv', index=False)"
      ],
      "metadata": {
        "colab": {
          "base_uri": "https://localhost:8080/"
        },
        "id": "DzQWdgXjPO8H",
        "outputId": "bdd66312-6a93-4b45-9076-53e9cd0ab884"
      },
      "execution_count": 16,
      "outputs": [
        {
          "output_type": "stream",
          "name": "stdout",
          "text": [
            "     id         price\n",
            "0  7469  37269.035156\n",
            "1  7470  19858.845703\n",
            "2  7471  31944.611328\n",
            "3  7472  19665.083984\n",
            "4  7473  18574.964844\n"
          ]
        }
      ]
    }
  ]
}