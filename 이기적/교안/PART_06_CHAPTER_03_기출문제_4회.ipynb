{
  "nbformat": 4,
  "nbformat_minor": 0,
  "metadata": {
    "colab": {
      "provenance": []
    },
    "kernelspec": {
      "name": "python3",
      "display_name": "Python 3"
    },
    "language_info": {
      "name": "python"
    }
  },
  "cells": [
    {
      "cell_type": "markdown",
      "source": [
        "**PART 06** 기출문제\n",
        "\n",
        ">**CHAPTER 03** 기출문제 4회\n",
        "> >**01 제1유형**"
      ],
      "metadata": {
        "id": "shWWLB-fZmKQ"
      }
    },
    {
      "cell_type": "code",
      "source": [
        "import numpy as np\n",
        "lst = [10, 11, 11.2, 13, 15.5, 18, 19.8, 20, 31, 33, 39.5, 42]\n",
        "\n",
        "# 제1사분위수\n",
        "q1 = np.percentile(lst, 25)\n",
        "\n",
        "# 제3사분위수\n",
        "q3 = np.percentile(lst, 75)\n",
        "\n",
        "print(q1)\n",
        "print(q3)"
      ],
      "metadata": {
        "colab": {
          "base_uri": "https://localhost:8080/"
        },
        "id": "8KqAM0WEP_lT",
        "outputId": "8750d10e-f767-4c24-c337-5463337bef97"
      },
      "execution_count": 7,
      "outputs": [
        {
          "output_type": "stream",
          "name": "stdout",
          "text": [
            "12.55\n",
            "31.5\n"
          ]
        }
      ]
    },
    {
      "cell_type": "code",
      "source": [
        "diff = abs(q1 - q3)\n",
        "print(diff)"
      ],
      "metadata": {
        "colab": {
          "base_uri": "https://localhost:8080/"
        },
        "id": "CvoNKNRHzeEP",
        "outputId": "aadad074-8847-435d-ca45-d351ca0ceda4"
      },
      "execution_count": 8,
      "outputs": [
        {
          "output_type": "stream",
          "name": "stdout",
          "text": [
            "18.95\n"
          ]
        }
      ]
    },
    {
      "cell_type": "code",
      "source": [
        "result = int(diff)\n",
        "print(result)"
      ],
      "metadata": {
        "colab": {
          "base_uri": "https://localhost:8080/"
        },
        "id": "emfS1c80zgCd",
        "outputId": "df5fdfed-5539-4a3a-af78-011eb664e5ad"
      },
      "execution_count": 9,
      "outputs": [
        {
          "output_type": "stream",
          "name": "stdout",
          "text": [
            "18\n"
          ]
        }
      ]
    },
    {
      "cell_type": "code",
      "source": [
        "import pandas as pd\n",
        "\n",
        "df = pd.read_csv('https://raw.githubusercontent.com/YoungjinBD/dataset/main/facebook.csv')\n",
        "print(df.head())"
      ],
      "metadata": {
        "colab": {
          "base_uri": "https://localhost:8080/"
        },
        "id": "XFHbbBRMzhiG",
        "outputId": "37bf0ae4-18a6-4903-d70e-8feb5e8ac50d"
      },
      "execution_count": 10,
      "outputs": [
        {
          "output_type": "stream",
          "name": "stdout",
          "text": [
            "                          status_id status_type  num_reactions  num_comments  \\\n",
            "0  246675545449582_1649696485147474       video            529           512   \n",
            "1  246675545449582_1649426988507757       photo            150             0   \n",
            "2  246675545449582_1648730588577397       video            227           236   \n",
            "3  246675545449582_1648576705259452       photo            111             0   \n",
            "4  246675545449582_1645700502213739       photo            213             0   \n",
            "\n",
            "   num_shares  num_likes  num_loves  num_wows  num_hahas  num_sads  num_angrys  \n",
            "0         262        432         92         3          1         1           0  \n",
            "1           0        150          0         0          0         0           0  \n",
            "2          57        204         21         1          1         0           0  \n",
            "3           0        111          0         0          0         0           0  \n",
            "4           0        204          9         0          0         0           0  \n"
          ]
        }
      ]
    },
    {
      "cell_type": "code",
      "source": [
        "df['positive'] =(df['num_loves']+df['num_wows'])/df['num_reactions']\n",
        "df['positive'].describe()"
      ],
      "metadata": {
        "colab": {
          "base_uri": "https://localhost:8080/"
        },
        "id": "aj2OPAU8zmv1",
        "outputId": "3db6d5e2-264c-4846-c5fa-ac5391288124"
      },
      "execution_count": 11,
      "outputs": [
        {
          "output_type": "execute_result",
          "data": {
            "text/plain": [
              "count    6929.000000\n",
              "mean        0.049604\n",
              "std         0.101727\n",
              "min         0.000000\n",
              "25%         0.000000\n",
              "50%         0.000000\n",
              "75%         0.040000\n",
              "max         1.000000\n",
              "Name: positive, dtype: float64"
            ]
          },
          "metadata": {},
          "execution_count": 11
        }
      ]
    },
    {
      "cell_type": "code",
      "source": [
        "result_df = df[(df['positive'] >0.4) & (df['positive']<0.5) & (df['status_type']=='video')]"
      ],
      "metadata": {
        "id": "iX4zRRykztZ9"
      },
      "execution_count": 12,
      "outputs": []
    },
    {
      "cell_type": "code",
      "source": [
        "result = len(result_df)\n",
        "print(result)"
      ],
      "metadata": {
        "colab": {
          "base_uri": "https://localhost:8080/"
        },
        "id": "1nvONW7jzygF",
        "outputId": "a95dca78-2b89-4f52-aeef-45bb9aba3221"
      },
      "execution_count": 13,
      "outputs": [
        {
          "output_type": "stream",
          "name": "stdout",
          "text": [
            "90\n"
          ]
        }
      ]
    },
    {
      "cell_type": "code",
      "source": [
        "import pandas as pd\n",
        "\n",
        "df = pd.read_csv('https://raw.githubusercontent.com/YoungjinBD/dataset/main/netflix.csv')\n",
        "print(df.head())"
      ],
      "metadata": {
        "colab": {
          "base_uri": "https://localhost:8080/"
        },
        "id": "DrCLXo-Pz0xC",
        "outputId": "867f8914-83fd-4783-9ec4-9386b001cc6a"
      },
      "execution_count": 14,
      "outputs": [
        {
          "output_type": "stream",
          "name": "stdout",
          "text": [
            "  show_id     type                  title         director  \\\n",
            "0      s1    Movie   Dick Johnson Is Dead  Kirsten Johnson   \n",
            "1      s2  TV Show          Blood & Water              NaN   \n",
            "2      s3  TV Show              Ganglands  Julien Leclercq   \n",
            "3      s4  TV Show  Jailbirds New Orleans              NaN   \n",
            "4      s5  TV Show           Kota Factory              NaN   \n",
            "\n",
            "                                                cast        country  \\\n",
            "0                                                NaN  United States   \n",
            "1  Ama Qamata, Khosi Ngema, Gail Mabalane, Thaban...   South Africa   \n",
            "2  Sami Bouajila, Tracy Gotoas, Samuel Jouy, Nabi...            NaN   \n",
            "3                                                NaN            NaN   \n",
            "4  Mayur More, Jitendra Kumar, Ranjan Raj, Alam K...          India   \n",
            "\n",
            "           date_added  release_year rating   duration  \\\n",
            "0  September 25, 2021          2020  PG-13     90 min   \n",
            "1  September 24, 2021          2021  TV-MA  2 Seasons   \n",
            "2  September 24, 2021          2021  TV-MA   1 Season   \n",
            "3  September 24, 2021          2021  TV-MA   1 Season   \n",
            "4  September 24, 2021          2021  TV-MA  2 Seasons   \n",
            "\n",
            "                                           listed_in  \\\n",
            "0                                      Documentaries   \n",
            "1    International TV Shows, TV Dramas, TV Mysteries   \n",
            "2  Crime TV Shows, International TV Shows, TV Act...   \n",
            "3                             Docuseries, Reality TV   \n",
            "4  International TV Shows, Romantic TV Shows, TV ...   \n",
            "\n",
            "                                         description  \n",
            "0  As her father nears the end of his life, filmm...  \n",
            "1  After crossing paths at a party, a Cape Town t...  \n",
            "2  To protect his family from a powerful drug lor...  \n",
            "3  Feuds, flirtations and toilet talk go down amo...  \n",
            "4  In a city of coaching centers known to train I...  \n"
          ]
        }
      ]
    },
    {
      "cell_type": "code",
      "source": [
        "print(df['date_added'])"
      ],
      "metadata": {
        "colab": {
          "base_uri": "https://localhost:8080/"
        },
        "id": "ak02JP8dz5RC",
        "outputId": "b2b306d8-5389-459c-b830-906f222202c2"
      },
      "execution_count": 15,
      "outputs": [
        {
          "output_type": "stream",
          "name": "stdout",
          "text": [
            "0       September 25, 2021\n",
            "1       September 24, 2021\n",
            "2       September 24, 2021\n",
            "3       September 24, 2021\n",
            "4       September 24, 2021\n",
            "               ...        \n",
            "8802     November 20, 2019\n",
            "8803          July 1, 2019\n",
            "8804      November 1, 2019\n",
            "8805      January 11, 2020\n",
            "8806         March 2, 2019\n",
            "Name: date_added, Length: 8807, dtype: object\n"
          ]
        }
      ]
    },
    {
      "cell_type": "code",
      "source": [
        "result_df = df[df['date_added'].str.contains('January')&df['date_added'].str.contains('2018')]\n",
        "print(result_df.head())"
      ],
      "metadata": {
        "colab": {
          "base_uri": "https://localhost:8080/"
        },
        "id": "OxOHkt8Az74r",
        "outputId": "60f1efeb-da6d-4056-db67-5ba9af62fee8"
      },
      "execution_count": 16,
      "outputs": [
        {
          "output_type": "stream",
          "name": "stdout",
          "text": [
            "     show_id     type                                              title  \\\n",
            "5055   s5056    Movie                               Expedition Happiness   \n",
            "5056   s5057    Movie  Jerry Seinfeld: I'm Telling You for the Last Time   \n",
            "5057   s5058  TV Show                                        Retribution   \n",
            "5058   s5059    Movie                                         Holy Camp!   \n",
            "5059   s5060    Movie                        A Futile and Stupid Gesture   \n",
            "\n",
            "                           director  \\\n",
            "5055                   Selima Taibi   \n",
            "5056                  Marty Callner   \n",
            "5057                            NaN   \n",
            "5058  Javier Ambrossi, Javier Calvo   \n",
            "5059                     David Wain   \n",
            "\n",
            "                                                   cast         country  \\\n",
            "5055                         Selima Taibi, Felix Starck         Germany   \n",
            "5056                                     Jerry Seinfeld   United States   \n",
            "5057  Georgina Campbell, Joe Dempsie, Adrian Edmonds...  United Kingdom   \n",
            "5058  Macarena García, Anna Castillo, Belén Cuesta, ...           Spain   \n",
            "5059  Will Forte, Domhnall Gleeson, Martin Mull, Joe...   United States   \n",
            "\n",
            "            date_added  release_year rating  duration  \\\n",
            "5055  January 31, 2018          2017  TV-PG    96 min   \n",
            "5056  January 30, 2018          1998  TV-14    69 min   \n",
            "5057  January 30, 2018          2016  TV-MA  1 Season   \n",
            "5058  January 29, 2018          2017  TV-MA   108 min   \n",
            "5059  January 26, 2018          2018  TV-MA   102 min   \n",
            "\n",
            "                                              listed_in  \\\n",
            "5055                Documentaries, International Movies   \n",
            "5056                                    Stand-Up Comedy   \n",
            "5057  British TV Shows, Crime TV Shows, Internationa...   \n",
            "5058             Comedies, Dramas, Faith & Spirituality   \n",
            "5059                                           Comedies   \n",
            "\n",
            "                                            description  \n",
            "5055  A filmmaker and his musician girlfriend attemp...  \n",
            "5056  Months after his classic TV sitcom ends, the l...  \n",
            "5057  A dark web of secrets and lies emerges when a ...  \n",
            "5058  In this musical comedy, two rebellious teen gi...  \n",
            "5059  In a brief life full of triumph and failure, \"...  \n"
          ]
        }
      ]
    },
    {
      "cell_type": "code",
      "source": [
        "result_df_UK = result_df[result_df['country'] =='United Kingdom']\n",
        "result = len(result_df_UK)\n",
        "print(result)"
      ],
      "metadata": {
        "colab": {
          "base_uri": "https://localhost:8080/"
        },
        "id": "PJ4yO1d70CrJ",
        "outputId": "9c8755fe-70ba-4c0c-ab32-e9802d29e7e1"
      },
      "execution_count": 17,
      "outputs": [
        {
          "output_type": "stream",
          "name": "stdout",
          "text": [
            "6\n"
          ]
        }
      ]
    },
    {
      "cell_type": "markdown",
      "source": [
        ">>**02 제2유형**"
      ],
      "metadata": {
        "id": "UcaYZwQkanwI"
      }
    },
    {
      "cell_type": "code",
      "source": [
        "import pandas as pd\n",
        "\n",
        "X_test = pd.read_csv('https://raw.githubusercontent.com/YoungjinBD/dataset/main/CS_Seg_X_test.csv')\n",
        "X_train = pd.read_csv('https://raw.githubusercontent.com/YoungjinBD/dataset/main/CS_Seg_X_train.csv')\n",
        "y_train = pd.read_csv('https://raw.githubusercontent.com/YoungjinBD/dataset/main/CS_Seg_y_train.csv')\n",
        "\n",
        "print(X_train.head())"
      ],
      "metadata": {
        "colab": {
          "base_uri": "https://localhost:8080/"
        },
        "id": "tpHPn83k0ICD",
        "outputId": "a735fe25-ec4d-4463-f2a8-67c06fa94797"
      },
      "execution_count": 18,
      "outputs": [
        {
          "output_type": "stream",
          "name": "stdout",
          "text": [
            "       ID  Gender Ever_Married  Age Graduated  Profession  Work_Experience  \\\n",
            "0  462809    Male           No   22        No  Healthcare              1.0   \n",
            "1  466315  Female          Yes   67       Yes    Engineer              1.0   \n",
            "2  461735    Male          Yes   67       Yes      Lawyer              0.0   \n",
            "3  461319    Male          Yes   56        No      Artist              0.0   \n",
            "4  460156    Male           No   32       Yes  Healthcare              1.0   \n",
            "\n",
            "  Spending_Score  Family_Size  \n",
            "0            Low          4.0  \n",
            "1            Low          1.0  \n",
            "2           High          2.0  \n",
            "3        Average          2.0  \n",
            "4            Low          3.0  \n"
          ]
        }
      ]
    },
    {
      "cell_type": "code",
      "source": [
        "print(f' X_train : {X_train.isnull().sum().sum()}')\n",
        "print(f' y_train : {y_train.isnull().sum().sum()}')\n",
        "print(f' X_test : {X_test.isnull().sum().sum()}')"
      ],
      "metadata": {
        "colab": {
          "base_uri": "https://localhost:8080/"
        },
        "id": "kH13DVo70O4y",
        "outputId": "a3fcf1a6-1c40-4cff-c9e7-973a308713de"
      },
      "execution_count": 19,
      "outputs": [
        {
          "output_type": "stream",
          "name": "stdout",
          "text": [
            " X_train : 0\n",
            " y_train : 0\n",
            " X_test : 0\n"
          ]
        }
      ]
    },
    {
      "cell_type": "code",
      "source": [
        "# 데이터 나누기\n",
        "# 범주형 데이터\n",
        "X_train_word = X_train[['Gender','Ever_Married','Graduated','Profession' ,'Spending_Score']]\n",
        "X_test_word = X_test[['Gender','Ever_Married','Graduated','Profession' ,'Spending_Score']]\n",
        "print(X_train_word)\n",
        "\n",
        "# 수치형 데이터\n",
        "X_train_num= X_train.drop(columns=['ID','Gender','Ever_Married','Graduated','Profession','Spending_Score'])\n",
        "X_test_num= X_test.drop(columns=['ID','Gender','Ever_Married','Graduated','Profession','Spending_Score'])\n",
        "print(X_train_num)"
      ],
      "metadata": {
        "colab": {
          "base_uri": "https://localhost:8080/"
        },
        "id": "iMwMnBE00UjG",
        "outputId": "ffff78d7-2310-45ad-8df2-c13898c2b1bc"
      },
      "execution_count": 20,
      "outputs": [
        {
          "output_type": "stream",
          "name": "stdout",
          "text": [
            "      Gender Ever_Married Graduated  Profession Spending_Score\n",
            "0       Male           No        No  Healthcare            Low\n",
            "1     Female          Yes       Yes    Engineer            Low\n",
            "2       Male          Yes       Yes      Lawyer           High\n",
            "3       Male          Yes        No      Artist        Average\n",
            "4       Male           No       Yes  Healthcare            Low\n",
            "...      ...          ...       ...         ...            ...\n",
            "6713    Male          Yes       Yes      Artist           High\n",
            "6714    Male           No        No   Executive            Low\n",
            "6715  Female           No       Yes  Healthcare            Low\n",
            "6716  Female           No       Yes  Healthcare            Low\n",
            "6717    Male          Yes       Yes   Executive        Average\n",
            "\n",
            "[6718 rows x 5 columns]\n",
            "      Age  Work_Experience  Family_Size\n",
            "0      22              1.0          4.0\n",
            "1      67              1.0          1.0\n",
            "2      67              0.0          2.0\n",
            "3      56              0.0          2.0\n",
            "4      32              1.0          3.0\n",
            "...   ...              ...          ...\n",
            "6713   41              0.0          5.0\n",
            "6714   35              3.0          4.0\n",
            "6715   33              1.0          1.0\n",
            "6716   27              1.0          4.0\n",
            "6717   37              0.0          3.0\n",
            "\n",
            "[6718 rows x 3 columns]\n"
          ]
        }
      ]
    },
    {
      "cell_type": "code",
      "source": [
        "# 데이터 스케일링\n",
        "from sklearn.preprocessing import MinMaxScaler\n",
        "\n",
        "# MinMax 스케일러 생성\n",
        "scaler = MinMaxScaler()\n",
        "\n",
        "# 선택한 특성에 MinMax 스케일러를 적용하고 데이터 변환\n",
        "X_train_num_scale = scaler.fit_transform(X_train_num)\n",
        "X_test_num_scale = scaler.transform(X_test_num)\n",
        "\n",
        "# 데이터 프레임 설정\n",
        "df_train_num = pd.DataFrame(X_train_num_scale , columns = X_train_num.columns)\n",
        "df_test_num = pd.DataFrame(X_test_num_scale , columns = X_test_num.columns)\n",
        "\n",
        "# 원핫 인코딩\n",
        "df_train_word = pd.get_dummies(X_train_word)\n",
        "df_test_word = pd.get_dummies(X_test_word)\n",
        "\n",
        "# 데이터 결합\n",
        "df_train = pd.concat([df_train_num, df_train_word], axis = 1)\n",
        "df_test = pd.concat([df_test_num, df_train_word], axis = 1)\n",
        "print(df_train)"
      ],
      "metadata": {
        "colab": {
          "base_uri": "https://localhost:8080/"
        },
        "id": "lGMGDpWx0qox",
        "outputId": "7e03e261-fb3d-426e-fd91-45eb4e908d38"
      },
      "execution_count": 21,
      "outputs": [
        {
          "output_type": "stream",
          "name": "stdout",
          "text": [
            "           Age  Work_Experience  Family_Size  Gender_Female  Gender_Male  \\\n",
            "0     0.056338         0.071429        0.375              0            1   \n",
            "1     0.690141         0.071429        0.000              1            0   \n",
            "2     0.690141         0.000000        0.125              0            1   \n",
            "3     0.535211         0.000000        0.125              0            1   \n",
            "4     0.197183         0.071429        0.250              0            1   \n",
            "...        ...              ...          ...            ...          ...   \n",
            "6713  0.323944         0.000000        0.500              0            1   \n",
            "6714  0.239437         0.214286        0.375              0            1   \n",
            "6715  0.211268         0.071429        0.000              1            0   \n",
            "6716  0.126761         0.071429        0.375              1            0   \n",
            "6717  0.267606         0.000000        0.250              0            1   \n",
            "\n",
            "      Ever_Married_No  Ever_Married_Yes  Graduated_No  Graduated_Yes  \\\n",
            "0                   1                 0             1              0   \n",
            "1                   0                 1             0              1   \n",
            "2                   0                 1             0              1   \n",
            "3                   0                 1             1              0   \n",
            "4                   1                 0             0              1   \n",
            "...               ...               ...           ...            ...   \n",
            "6713                0                 1             0              1   \n",
            "6714                1                 0             1              0   \n",
            "6715                1                 0             0              1   \n",
            "6716                1                 0             0              1   \n",
            "6717                0                 1             0              1   \n",
            "\n",
            "      Profession_Artist  ...  Profession_Engineer  Profession_Entertainment  \\\n",
            "0                     0  ...                    0                         0   \n",
            "1                     0  ...                    1                         0   \n",
            "2                     0  ...                    0                         0   \n",
            "3                     1  ...                    0                         0   \n",
            "4                     0  ...                    0                         0   \n",
            "...                 ...  ...                  ...                       ...   \n",
            "6713                  1  ...                    0                         0   \n",
            "6714                  0  ...                    0                         0   \n",
            "6715                  0  ...                    0                         0   \n",
            "6716                  0  ...                    0                         0   \n",
            "6717                  0  ...                    0                         0   \n",
            "\n",
            "      Profession_Executive  Profession_Healthcare  Profession_Homemaker  \\\n",
            "0                        0                      1                     0   \n",
            "1                        0                      0                     0   \n",
            "2                        0                      0                     0   \n",
            "3                        0                      0                     0   \n",
            "4                        0                      1                     0   \n",
            "...                    ...                    ...                   ...   \n",
            "6713                     0                      0                     0   \n",
            "6714                     1                      0                     0   \n",
            "6715                     0                      1                     0   \n",
            "6716                     0                      1                     0   \n",
            "6717                     1                      0                     0   \n",
            "\n",
            "      Profession_Lawyer  Profession_Marketing  Spending_Score_Average  \\\n",
            "0                     0                     0                       0   \n",
            "1                     0                     0                       0   \n",
            "2                     1                     0                       0   \n",
            "3                     0                     0                       1   \n",
            "4                     0                     0                       0   \n",
            "...                 ...                   ...                     ...   \n",
            "6713                  0                     0                       0   \n",
            "6714                  0                     0                       0   \n",
            "6715                  0                     0                       0   \n",
            "6716                  0                     0                       0   \n",
            "6717                  0                     0                       1   \n",
            "\n",
            "      Spending_Score_High  Spending_Score_Low  \n",
            "0                       0                   1  \n",
            "1                       0                   1  \n",
            "2                       1                   0  \n",
            "3                       0                   0  \n",
            "4                       0                   1  \n",
            "...                   ...                 ...  \n",
            "6713                    1                   0  \n",
            "6714                    0                   1  \n",
            "6715                    0                   1  \n",
            "6716                    0                   1  \n",
            "6717                    0                   0  \n",
            "\n",
            "[6718 rows x 21 columns]\n"
          ]
        }
      ]
    },
    {
      "cell_type": "code",
      "source": [
        "from pandas.core.common import random_state\n",
        "import xgboost as xgb\n",
        "from sklearn.model_selection import train_test_split\n",
        "from sklearn.metrics import classification_report\n",
        "\n",
        "# target 값 변경\n",
        "y_train[y_train['Segmentation'] =='A'] = 0\n",
        "y_train[y_train['Segmentation'] =='B'] = 1\n",
        "y_train[y_train['Segmentation'] =='C'] = 2\n",
        "y_train[y_train['Segmentation'] =='D'] = 3\n",
        "\n",
        "# 모델 생성\n",
        "model = xgb.XGBClassifier(random_state=77)\n",
        "\n",
        "# train, validation 데이터 설정\n",
        "X_train, X_val, y_train_t, y_val = train_test_split(df_train.values, y_train['Segmentation'].values, test_size=0.3)\n",
        "\n",
        "# 모델 학습\n",
        "model.fit(X_train, y_train_t)\n",
        "\n",
        "# vaidation 데이터로 성능 평가\n",
        "y_pred = model.predict(X_val)\n",
        "print(classification_report(y_val.astype(int), y_pred))"
      ],
      "metadata": {
        "colab": {
          "base_uri": "https://localhost:8080/"
        },
        "id": "C6Nxe93M0vNI",
        "outputId": "9558529e-42df-482a-c44e-c7179f184f5a"
      },
      "execution_count": 23,
      "outputs": [
        {
          "output_type": "stream",
          "name": "stdout",
          "text": [
            "              precision    recall  f1-score   support\n",
            "\n",
            "           0       0.43      0.42      0.42       489\n",
            "           1       0.36      0.33      0.35       462\n",
            "           2       0.53      0.55      0.54       536\n",
            "           3       0.62      0.67      0.64       529\n",
            "\n",
            "    accuracy                           0.50      2016\n",
            "   macro avg       0.49      0.49      0.49      2016\n",
            "weighted avg       0.49      0.50      0.50      2016\n",
            "\n"
          ]
        }
      ]
    },
    {
      "cell_type": "code",
      "source": [
        "# 예측\n",
        "y_pred = model.predict(df_test)\n",
        "df = pd.DataFrame(y_train['ID'], columns=['ID'])\n",
        "df['Segmentation'] = y_pred\n",
        "\n",
        "# Segmentation 데이터를 숫자에서 문자로 수정\n",
        "df['Segmentation'][df['Segmentation'] ==0] = 'A'\n",
        "df['Segmentation'][df['Segmentation'] ==1] = 'B'\n",
        "df['Segmentation'][df['Segmentation'] ==2] = 'C'\n",
        "df['Segmentation'][df['Segmentation'] ==3] = 'D'\n",
        "print(df.head())\n",
        "\n",
        "# CSV 파일 저장\n",
        "# df.to_csv('result.csv', index=False)"
      ],
      "metadata": {
        "colab": {
          "base_uri": "https://localhost:8080/"
        },
        "id": "YcdyRI9M08_5",
        "outputId": "bbb31ef5-f8f6-4aeb-f887-278f8f4f4bd2"
      },
      "execution_count": 24,
      "outputs": [
        {
          "output_type": "stream",
          "name": "stdout",
          "text": [
            "   ID Segmentation\n",
            "0   3            D\n",
            "1   1            D\n",
            "2   1            C\n",
            "3   2            B\n",
            "4   2            D\n"
          ]
        }
      ]
    }
  ]
}