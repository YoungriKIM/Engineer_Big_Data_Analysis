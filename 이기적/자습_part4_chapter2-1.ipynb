{
 "cells": [
  {
   "cell_type": "markdown",
   "metadata": {},
   "source": [
    "**PART 04** 제3유형: 통계적 가설 검정\n",
    "\n",
    "> **CHAPTER 02** 통계적 가설 검정 기법 실습\n",
    "> >**1) 표본의 평균 검정**"
   ]
  },
  {
   "cell_type": "code",
   "execution_count": null,
   "metadata": {},
   "outputs": [],
   "source": [
    "# 1) 표본의 평균 검정\n",
    "# \t1-1. 모집단의 분산(표준편차)을 알고 있는 경우: z-test(양측)\n",
    "# \t1-2. 모집단의 분산(표준편차)을 모르는 경우: t-test(양측)\n",
    "# \t\t- scipy.stats.ttest_1samp()\n",
    "# \t\t- scipy.tats.interval()\n",
    "# 2) 두 독립표본의 평균, 중앙값 차이 검정\n",
    "# \t2-1. 두 독립적인 표본 간의 평균 차이 검정: t-test\n",
    "# \t\t- scipy.stats.ttest_ind()\n",
    "# \t2-2. 두 독립적인 표본 간의 중앙값 차이 검정: Mann-Whitney u test\n",
    "# \t\t- scipy.stats.mannwhitneyu()\n",
    "# \t2-3. 정규성 검정: 샤피로-윌크 정규성 검정\n",
    "# \t\t- scipy.stats.shapiro()\n",
    "# 3) 두 대응표본의 평균 차이 검정: t-test\n",
    "# 4) 단일표본 모분산 검정: 카이제곱 검정\n",
    "# 5) 두 모분산 비에 대한 가설 검정: f 검정: 일원분산분석\n",
    "# 6) 독립성 검정: 카이제곱 검정\n",
    "\n"
   ]
  },
  {
   "cell_type": "code",
   "execution_count": 13,
   "metadata": {},
   "outputs": [],
   "source": [
    "# 1-1. 모집단의 분산(표준편차)을 알고 있는 경우: z-test(양측)\n",
    "# z-value는 z-test에 대한 검정 통계량으로, 관측된 통계량과 귀무 가설에서의 모집단 모수 간의 차이를 표준 오차 단위로 측정한 것이다.\n",
    "# z-value를 이용해서 p-value를 계산하고 이 값으로 귀무 가설 기각 여부를 결정한다.\n",
    "    # h0 - 모집단과 표본의 평균이 같다.\n",
    "    # h1 - 모집단과 표본의 평균이 다르다."
   ]
  },
  {
   "cell_type": "code",
   "execution_count": 18,
   "metadata": {},
   "outputs": [
    {
     "name": "stdout",
     "output_type": "stream",
     "text": [
      "표본평균: 27.9\n",
      "검정통계량: -0.15811388300842122\n",
      "임계값: 1.959963984540054\n",
      "p-value: 0.87436706116289\n",
      "귀무가설을 기각하지 못합니다. 표본평균이 모집단 평균과 차이가 없을 가능성이 있습니다.\n"
     ]
    }
   ],
   "source": [
    "import numpy as np\n",
    "from scipy.stats import norm # 표준분포 그릴용\n",
    "\n",
    "# 예제 데이터 생성\n",
    "data = np.array([23, 25, 28, 30, 26, 27, 29, 32, 31, 28])\n",
    "\n",
    "# 모집단의 평균과 분선(표준편차) 를 이미 알고 있음\n",
    "population_mean = 28 # 모집단의 평균\n",
    "population_variance = 4 # 모집단의 분산 (표준편차의 제곱)\n",
    "\n",
    "# 유의수준 설정\n",
    "alpha = 0.05 # 95% 수준에서 신뢰\n",
    "\n",
    "# 이번에는 양측검정인 two.sided를 진행\n",
    "\n",
    "# 표본의 평균 계산\n",
    "sample_mean = data.mean()\n",
    "# 표본의 크기\n",
    "n = len(data)\n",
    "\n",
    "# 검정통계량 계산 (Z-검정)\n",
    "test_statistic = (sample_mean - population_mean) / (np.sqrt(population_variance) / np.sqrt(n))\n",
    "\n",
    "# 임계값 계산 (Z 검정이고 양측 검정)\n",
    "# ppf = percent point function\n",
    "# PPF는 확률을 입력으로 받아 그 확률에 대응하는 값을 반환하는 함수\n",
    "critical_value = norm.ppf(1 - alpha / 2)\n",
    "\n",
    "# p-value 계산 (양측 검정)\n",
    "# cdf = Cumulative distribution function\n",
    "# CDF는 값을 입력으로 받아 그 값 이하일 확률을 반환하는 함수\n",
    "p_value = 2 * (1- norm.cdf(abs(test_statistic)))\n",
    "\n",
    "# 결과 출력\n",
    "print(\"표본평균:\", sample_mean)\n",
    "print(\"검정통계량:\", test_statistic)\n",
    "print(\"임계값:\", critical_value)\n",
    "print(\"p-value:\", p_value)\n",
    "\n",
    "if abs(test_statistic) > critical_value:\n",
    "    print(\"귀무가설을 기각합니다. 표본평균이 모집단 평균과 다릅니다.\")\n",
    "else:\n",
    "    print(\"귀무가설을 기각하지 못합니다. 표본평균이 모집단 평균과 차이가 없을 가능성이 있습니다.\")"
   ]
  },
  {
   "cell_type": "code",
   "execution_count": 19,
   "metadata": {},
   "outputs": [],
   "source": [
    "# 1-2. 모집단의 분산(표준편차)을 모르는 경우: 단일표본 t-test(양측)\n",
    "# - scipy.stats.ttest_1samp()\n",
    "# - scipy.tats.interval()\n",
    "    # h0 - 모집단과 표본의 평균이 같다.\n",
    "    # h1 - 모집단과 표본의 평균이 다르다."
   ]
  },
  {
   "cell_type": "code",
   "execution_count": 20,
   "metadata": {},
   "outputs": [
    {
     "name": "stdout",
     "output_type": "stream",
     "text": [
      "t-통계량: 31.887160448233363\n",
      "p-값: 1.4410218033665443e-10\n",
      "95% 신뢰구간: (25.92070225277866, 29.879297747221337)\n",
      "귀무가설을 기각합니다. 표본평균이 모집단 평균과 다릅니다.\n"
     ]
    }
   ],
   "source": [
    "import numpy as np\n",
    "import scipy.stats as ss\n",
    "\n",
    "# 예제 데이터 생성\n",
    "data = np.array([23, 25, 28, 30, 26, 27, 29, 32, 31, 28])\n",
    "\n",
    "# 유의수준 설정, 95% 수준에서 신뢰\n",
    "alpha = 0.05\n",
    "\n",
    "# 단측 또는 양측 검정 선택\n",
    "# 양측 검정 | two-sided : m = m0 (모집단의 평균이 특정 값과 같다)\n",
    "# 단측 검정 | less : m < m0 (모집단의 평균이 특정 값보다 작다)\n",
    "# 단측 검정 | greater : m > m0 (모딥단의 평균이 특정 값보다 크다)\n",
    "alternative = 'two-sided' # 우리는 귀무가설을 같다고 지정\n",
    "\n",
    "# 단일표본 t-검정 수행\n",
    "t_statistic, p_value = ss.ttest_1samp(data, popmean=0, alternative=alternative)\n",
    "\n",
    "# 95% 신뢰구간 계산\n",
    "confience_interval = ss.t.interval(1-alpha, # 유의 수준\n",
    "                                   len(data)-1, # 표본의 개수 -1\n",
    "                                   loc=np.mean(data), # loc는 표본의 평균\n",
    "                                   scale=ss.sem(data)) # scale은 표본의 표준오차\n",
    "\n",
    "# 결과 출력\n",
    "print(\"t-통계량:\", t_statistic)\n",
    "print(\"p-값:\", p_value)\n",
    "print(\"95% 신뢰구간:\", confience_interval)\n",
    "\n",
    "# 결과 해석\n",
    "if p_value < alpha:\n",
    "    print(\"귀무가설을 기각합니다. 표본평균이 모집단 평균과 다릅니다.\")\n",
    "else:\n",
    "    print(\"귀무가설을 기각하지 못합니다. 표본평균이 모집단 평균과 차이가 없을 가능성이 있습니다.\")"
   ]
  },
  {
   "cell_type": "code",
   "execution_count": 37,
   "metadata": {},
   "outputs": [
    {
     "name": "stdout",
     "output_type": "stream",
     "text": [
      "(32, 12)\n"
     ]
    },
    {
     "data": {
      "text/html": [
       "<div>\n",
       "<style scoped>\n",
       "    .dataframe tbody tr th:only-of-type {\n",
       "        vertical-align: middle;\n",
       "    }\n",
       "\n",
       "    .dataframe tbody tr th {\n",
       "        vertical-align: top;\n",
       "    }\n",
       "\n",
       "    .dataframe thead th {\n",
       "        text-align: right;\n",
       "    }\n",
       "</style>\n",
       "<table border=\"1\" class=\"dataframe\">\n",
       "  <thead>\n",
       "    <tr style=\"text-align: right;\">\n",
       "      <th></th>\n",
       "      <th>model</th>\n",
       "      <th>mpg</th>\n",
       "      <th>cyl</th>\n",
       "      <th>disp</th>\n",
       "      <th>hp</th>\n",
       "      <th>drat</th>\n",
       "      <th>wt</th>\n",
       "      <th>qsec</th>\n",
       "      <th>vs</th>\n",
       "      <th>am</th>\n",
       "      <th>gear</th>\n",
       "      <th>carb</th>\n",
       "    </tr>\n",
       "  </thead>\n",
       "  <tbody>\n",
       "    <tr>\n",
       "      <th>0</th>\n",
       "      <td>Mazda RX4</td>\n",
       "      <td>21.0</td>\n",
       "      <td>6</td>\n",
       "      <td>160.0</td>\n",
       "      <td>110</td>\n",
       "      <td>3.90</td>\n",
       "      <td>2.620</td>\n",
       "      <td>16.46</td>\n",
       "      <td>0</td>\n",
       "      <td>1</td>\n",
       "      <td>4</td>\n",
       "      <td>4</td>\n",
       "    </tr>\n",
       "    <tr>\n",
       "      <th>1</th>\n",
       "      <td>Mazda RX4 Wag</td>\n",
       "      <td>21.0</td>\n",
       "      <td>6</td>\n",
       "      <td>160.0</td>\n",
       "      <td>110</td>\n",
       "      <td>3.90</td>\n",
       "      <td>2.875</td>\n",
       "      <td>17.02</td>\n",
       "      <td>0</td>\n",
       "      <td>1</td>\n",
       "      <td>4</td>\n",
       "      <td>4</td>\n",
       "    </tr>\n",
       "    <tr>\n",
       "      <th>2</th>\n",
       "      <td>Datsun 710</td>\n",
       "      <td>22.8</td>\n",
       "      <td>4</td>\n",
       "      <td>108.0</td>\n",
       "      <td>93</td>\n",
       "      <td>3.85</td>\n",
       "      <td>2.320</td>\n",
       "      <td>18.61</td>\n",
       "      <td>1</td>\n",
       "      <td>1</td>\n",
       "      <td>4</td>\n",
       "      <td>1</td>\n",
       "    </tr>\n",
       "  </tbody>\n",
       "</table>\n",
       "</div>"
      ],
      "text/plain": [
       "           model   mpg  cyl   disp   hp  drat     wt   qsec  vs  am  gear  \\\n",
       "0      Mazda RX4  21.0    6  160.0  110  3.90  2.620  16.46   0   1     4   \n",
       "1  Mazda RX4 Wag  21.0    6  160.0  110  3.90  2.875  17.02   0   1     4   \n",
       "2     Datsun 710  22.8    4  108.0   93  3.85  2.320  18.61   1   1     4   \n",
       "\n",
       "   carb  \n",
       "0     4  \n",
       "1     4  \n",
       "2     1  "
      ]
     },
     "metadata": {},
     "output_type": "display_data"
    },
    {
     "name": "stdout",
     "output_type": "stream",
     "text": [
      "--------------------------------------------------\n",
      "표본의 평균: 20.0906\n",
      "표본의 분산: 36.3241\n",
      "--------------------------------------------------\n",
      "단일표본 t-검정 결과:\n",
      "t-통계량: 0.08506003568133688\n",
      "p-값:  0.9327606409093872\n",
      "--------------------------------------------------\n",
      "mpg 평균의 95% 신뢰구간: 17.9177 ~ 22.2636\n",
      "--------------------------------------------------\n",
      "대립가설 기각, 표본의 평균은 20과 같음\n"
     ]
    }
   ],
   "source": [
    "# 따라하기\n",
    "# mtcars의 mpg 데이터로 단일표본 t검정 진행해보기\n",
    "data_url = 'https://raw.githubusercontent.com/YoungjinBD/dataset/main/mtcars.csv'\n",
    "\n",
    "import pandas as pd\n",
    "import numpy as np\n",
    "import scipy.stats as ss\n",
    "\n",
    "mtcars = pd.read_csv(data_url)\n",
    "print(mtcars.shape)\n",
    "display(mtcars.head(3))\n",
    "print('-'*50)\n",
    "\n",
    "# 표본의 평균 확인(4자리 반올림)\n",
    "sample_mean = round(mtcars.mpg.mean(), 4)\n",
    "print('표본의 평균:', sample_mean)\n",
    "\n",
    "# 표본의 분산 확인(4자리 반올림)\n",
    "sample_variance = round(mtcars.mpg.var(), 4)\n",
    "print('표본의 분산:',sample_variance)\n",
    "print('-'*50)\n",
    "\n",
    "# 단일표본 t-검정 수행하기, 평균이 20인지 확인\n",
    "t_stat, p_value = ss.ttest_1samp(mtcars['mpg'], 20, alternative='two-sided')\n",
    "print(\"단일표본 t-검정 결과:\")\n",
    "print('t-통계량:', t_stat)\n",
    "print('p-값: ', p_value)\n",
    "print('-'*50)\n",
    "\n",
    "# mpg 평균의 95% 신뢰구간 계산해보고 확인\n",
    "conf_interval = ss.t.interval(0.95, # 신뢰수준\n",
    "              len(mtcars['mpg'])-1, # 표본의 크기 -1\n",
    "              loc=np.mean(mtcars['mpg']), # loc에는 표본의 평균\n",
    "              scale=ss.sem(mtcars['mpg'])) # scale에는 표본의 표준오차\n",
    "print(f'mpg 평균의 95% 신뢰구간: {round(conf_interval[0], 4)} ~ {round(conf_interval[1], 4)}')\n",
    "print('-'*50)\n",
    "\n",
    "# 결과 확인\n",
    "if p_value < alpha :\n",
    "    print(\"귀무가설 기각, 표본의 평균은 20과 다름\")\n",
    "else: print( \"대립가설 기각, 표본의 평균은 20과 같음\")"
   ]
  },
  {
   "cell_type": "markdown",
   "metadata": {},
   "source": [
    "**PART 04** 제3유형: 통계적 가설 검정\n",
    "\n",
    "> **CHAPTER 02** 통계적 가설 검정 기법 실습\n",
    ">>**2) 두 독립표본의 평균, 중앙값 차이 검정**"
   ]
  },
  {
   "cell_type": "code",
   "execution_count": 38,
   "metadata": {},
   "outputs": [],
   "source": [
    "# 2-1. 두 독립적인 표본 간의 평균 차이 검정: t-test\n",
    "    # - scipy.stats.ttest_ind()"
   ]
  },
  {
   "cell_type": "code",
   "execution_count": 39,
   "metadata": {},
   "outputs": [
    {
     "name": "stdout",
     "output_type": "stream",
     "text": [
      "t-통계량: 1.5778641172210597\n",
      "p-값: 0.15324889402868613\n",
      "sample1 평균: 27.6\n",
      "sample2 평균: 23.8\n",
      "대립가설 기각, 두 독립표본의 평균에 유의미한 차이가 없음\n"
     ]
    }
   ],
   "source": [
    "import scipy.stats as ss\n",
    "import numpy as np\n",
    "\n",
    "# 두 독립 표본 데이터 준비\n",
    "sample1 = [23, 25, 28, 30, 32]\n",
    "sample2 = [19, 21, 24, 26, 29]\n",
    "\n",
    "# t-검정 실행\n",
    "# h0 - 두 독립표본의 평균이 같다.\n",
    "# h1 - 두 독립표본의 평균이 다르다.\n",
    "t_statistic, p_value = ss.ttest_ind(sample1, sample2)\n",
    "\n",
    "# 각 샘플의 실제 평균 구해놓기\n",
    "mean_sample1 = np.mean(sample1)\n",
    "mean_sample2 = np.mean(sample2)\n",
    "\n",
    "# 유의수준 설정\n",
    "alpha = 0.05\n",
    "\n",
    "# 결과 출력\n",
    "print(f't-통계량: {t_statistic}')\n",
    "print(f'p-값: {p_value}')\n",
    "print(f'sample1 평균: {mean_sample1}')\n",
    "print(f'sample2 평균: {mean_sample2}')\n",
    "\n",
    "if p_value < alpha:\n",
    "    print('귀무가설 기각, 두 독립표본의 평균에 유의미한 차이가 있음')\n",
    "else:\n",
    "    print('대립가설 기각, 두 독립표본의 평균에 유의미한 차이가 없음')"
   ]
  },
  {
   "cell_type": "code",
   "execution_count": null,
   "metadata": {},
   "outputs": [],
   "source": [
    "# 2-2. 두 독립적인 표본 간의 중앙값 차이 검정: Mann-Whitney u test\n",
    "    # - scipy.stats.mannwhitneyu()"
   ]
  },
  {
   "cell_type": "code",
   "execution_count": 42,
   "metadata": {},
   "outputs": [
    {
     "name": "stdout",
     "output_type": "stream",
     "text": [
      "Mann Whitney U-통계량: 19.0\n",
      "p-value: 0.2222222222222222\n",
      "sample1 평균: 27.6\n",
      "sample2 평균: 23.8\n",
      "두 독립표본의 평균이 유의미하게 다르지 않음\n"
     ]
    }
   ],
   "source": [
    "import numpy as np\n",
    "import scipy.stats as ss\n",
    "\n",
    "# 두 개의 독립표본 준비하기\n",
    "sample1 = [23, 25, 28, 30, 32]\n",
    "sample2 = [19, 21, 24, 26, 29]\n",
    "\n",
    "# 각 샘플의 실제 평균\n",
    "mean_sample1 = np.mean(sample1)\n",
    "mean_sample2 = np.mean(sample2)\n",
    "\n",
    "# mannwhitneyu 테스트 진행\n",
    "# h0 - 두 독립표본의 평균이 같음\n",
    "# h1 - 두 독립표본의 평균이 다름\n",
    "u_stat, p_value = ss.mannwhitneyu(sample1, sample2)\n",
    "\n",
    "# 유의수준 설정\n",
    "alpha = 0.05\n",
    "\n",
    "# 결과 출력\n",
    "print(f'Mann Whitney U-통계량: {u_stat}')\n",
    "print(f'p-value: {p_value}')\n",
    "print(f'sample1 평균: {mean_sample1}')\n",
    "print(f'sample2 평균: {mean_sample2}')\n",
    "\n",
    "if p_value < alpha:\n",
    "    print('두 독립표본의 평균이 유의미하게 다름')\n",
    "else:\n",
    "    print('두 독립표본의 평균이 유의미하게 다르지 않음')"
   ]
  },
  {
   "cell_type": "code",
   "execution_count": null,
   "metadata": {},
   "outputs": [],
   "source": [
    "# + 표본의 정규성 검정 - shapiro()"
   ]
  },
  {
   "cell_type": "code",
   "execution_count": 1,
   "metadata": {},
   "outputs": [],
   "source": [
    "# 2-3. 정규성 검정: 샤피로-윌크 정규성 검정\n",
    "    # - scipy.stats.shapiro()\n",
    "\n",
    "# 샤피로윌크 검정은 표본이 정규성을 따르는지 검정하는 것\n",
    "# t-test, 회귀분석과 같은 분석방법은 데이터가 정규성을 따른다고 가정하고 실시함\n",
    "# 중심극한정리에 의해서 표본이 일정 개수 이상이 되면 정규성을 따르지만 그렇지 않은 경우도 있기 때문에 이름 검정하는 것\n",
    "\n",
    "# 샤피오-윌크 검정의 귀무가설(h0)은 데이터가 정규분포를 따른다임"
   ]
  },
  {
   "cell_type": "code",
   "execution_count": 3,
   "metadata": {},
   "outputs": [
    {
     "name": "stdout",
     "output_type": "stream",
     "text": [
      "샤피로윌크 통계량: 0.9553363445648536\n",
      "p_value: 0.7484769348718906\n",
      "대립가설 기각, 해당 표본은 정규분포를 따를 가능성 높음\n"
     ]
    }
   ],
   "source": [
    "import scipy.stats as ss\n",
    "\n",
    "# 정규성 검정을 위한 샘플 데이터 생성\n",
    "data = [2.4, 2.7, 3.1, 3.2, 3.5, 3.7, 3.9, 4.1, 4.2]\n",
    "\n",
    "# Shapiro-Wikl 테스트 수행\n",
    "statistic, p_value = ss.shapiro(data)\n",
    "\n",
    "# 유의 수준 설정\n",
    "alpha = 0.05\n",
    "\n",
    "# 결과 출력\n",
    "print(f'샤피로윌크 통계량: {statistic}')\n",
    "print(f'p_value: {p_value}')\n",
    "\n",
    "if p_value < alpha:\n",
    "    print('귀무가설 기각, 해당 표본은 정규분포를 따르지 않을 가능성 높음')\n",
    "else:\n",
    "    print('대립가설 기각, 해당 표본은 정규분포를 따를 가능성 높음')"
   ]
  },
  {
   "cell_type": "code",
   "execution_count": 4,
   "metadata": {},
   "outputs": [
    {
     "name": "stdout",
     "output_type": "stream",
     "text": [
      "M 데이터 - 샤피로윌크 통계량: 0.9326357614973092\n",
      "M 데이터 - p 값 0.17352612045868016\n",
      "F 데이터 - 샤피로윌크 통계량: 0.9615265146509544\n",
      "F 데이터 - p 값 0.5747781455168709\n",
      "--------------------------------------------------\n",
      "남성 데이터는 정규분포를 따른 가능성 높음\n",
      "여성 데이터는 정규분포를 따른 가능성 높음\n"
     ]
    }
   ],
   "source": [
    "# 따라하기\n",
    "# 두 개의 데이터가 정규분포 따르는지 확인하기\n",
    "\n",
    "import scipy.stats as ss\n",
    "\n",
    "# 데이터 준비\n",
    "dat_M = [117, 108, 105, 89, 101, 93, 96, 108, 108, 94, 93, 112, 92, 91, 100, 96, 120, 86, 96, 95]\n",
    "dat_F = [121, 101, 102, 114, 103, 105, 101, 131, 96, 109, 109, 113, 115, 94, 108, 96, 110, 112, 120, 100]\n",
    "\n",
    "# 샤피로-윌크 정규성 테스트 수행\n",
    "M_stat, M_p_value = ss.shapiro(dat_M)\n",
    "F_stat, F_p_value = ss.shapiro(dat_F)\n",
    "\n",
    "# 결과 출력\n",
    "print(f'M 데이터 - 샤피로윌크 통계량: {M_stat}')\n",
    "print(f'M 데이터 - p 값 {M_p_value}')\n",
    "print(f'F 데이터 - 샤피로윌크 통계량: {F_stat}')\n",
    "print(f'F 데이터 - p 값 {F_p_value}')\n",
    "print('-'*50)\n",
    "\n",
    "# 가설 확인\n",
    "if M_p_value < 0.05 :\n",
    "    print('남성 데이터는 정규분포를 따르지 않을 가능성 높음')\n",
    "else:\n",
    "    print('남성 데이터는 정규분포를 따른 가능성 높음')\n",
    "\n",
    "if F_p_value < 0.05 :\n",
    "    print('여성 데이터는 정규분포를 따르지 않을 가능성 높음')\n",
    "else:\n",
    "    print('여성 데이터는 정규분포를 따른 가능성 높음')"
   ]
  },
  {
   "cell_type": "code",
   "execution_count": 6,
   "metadata": {},
   "outputs": [
    {
     "name": "stdout",
     "output_type": "stream",
     "text": [
      "dat_M 평균: 100.0\n",
      "dat_F 평균: 108.0\n",
      "t-통계량: -2.670573872669349\n",
      "p-값: 0.011082895240510137\n",
      "--------------------------------------------------\n",
      "귀무가설 기각, 두 표본의 평균에 유의미한 차이가 있음\n"
     ]
    }
   ],
   "source": [
    "# 따라하기\n",
    "# 두 개의 데이터 평균 차이 있는지 독립표본 ttest로 확인\n",
    "import numpy as np\n",
    "import scipy.stats as ss\n",
    "\n",
    "# 데이터 준비\n",
    "dat_M = [117, 108, 105, 89, 101, 93, 96, 108, 108, 94, 93, 112, 92, 91, 100, 96, 120, 86, 96, 95]\n",
    "dat_F = [121, 101, 102, 114, 103, 105, 101, 131, 96, 109, 109, 113, 115, 94, 108, 96, 110, 112, 120, 100]\n",
    "\n",
    "# 두 데이터의 실제 평균\n",
    "mean_dat_M = np.mean(dat_M)\n",
    "mean_dat_F = np.mean(dat_F)\n",
    "\n",
    "# t-test 진행\n",
    "t_stat, p_value = ss.ttest_ind(dat_M, dat_F)\n",
    "\n",
    "# 유의수준 설정\n",
    "alpha = 0.05\n",
    "\n",
    "# 결과 출력\n",
    "print(f'dat_M 평균: {mean_dat_M}')\n",
    "print(f'dat_F 평균: {mean_dat_F}')\n",
    "print(f't-통계량: {t_stat}')\n",
    "print(f'p-값: {p_value}')\n",
    "print('-'*50)\n",
    "\n",
    "# 가설 확인\n",
    "if p_value < alpha :\n",
    "    print('귀무가설 기각, 두 표본의 평균에 유의미한 차이가 있음')\n",
    "else :\n",
    "    print('대립가설 기각, 두 표본의 평균에 유의미한 차이가 없음')"
   ]
  },
  {
   "cell_type": "markdown",
   "metadata": {},
   "source": [
    ">>**3) 대응표본의 평균 차이 검정 (t-검정)**"
   ]
  },
  {
   "cell_type": "code",
   "execution_count": 8,
   "metadata": {},
   "outputs": [],
   "source": [
    "# ss.ttest_rel() 사용\n",
    "# ralation data"
   ]
  },
  {
   "cell_type": "code",
   "execution_count": 9,
   "metadata": {},
   "outputs": [
    {
     "name": "stdout",
     "output_type": "stream",
     "text": [
      "대응표본 t-test 검정 결과\n",
      "t-통계량: -8.25674954467424\n",
      "p-값: 0.0011738040715128372\n"
     ]
    }
   ],
   "source": [
    "import scipy.stats as ss\n",
    "\n",
    "data_before = [72, 75, 68, 71, 73]\n",
    "data_after = [76, 79, 74, 78, 80]\n",
    "\n",
    "t_stat, p_value = ss.ttest_rel(data_before, data_after)\n",
    "\n",
    "print('대응표본 t-test 검정 결과')\n",
    "print(f't-통계량: {t_stat}')\n",
    "print(f'p-값: {p_value}')"
   ]
  },
  {
   "cell_type": "code",
   "execution_count": 10,
   "metadata": {},
   "outputs": [],
   "source": [
    "# 따라하기\n",
    "# 두 개의 대응 표본이 정규성을 따르는지, 이후에는 두 대응표본의 평균차이가 있는지"
   ]
  },
  {
   "cell_type": "code",
   "execution_count": 12,
   "metadata": {},
   "outputs": [
    {
     "name": "stdout",
     "output_type": "stream",
     "text": [
      "-before 데이터 정규성 검정-\n",
      "해당 데이터는 정규성을 따름\n",
      "--------------------------------------------------\n",
      "-after 데이터 정규성 검정-\n",
      "해당 데이터는 정규성을 따름\n"
     ]
    }
   ],
   "source": [
    "import scipy.stats as ss\n",
    "\n",
    "before = [7, 3, 4, 5, 2, 1, 6, 6, 5, 4]\n",
    "after = [8, 4, 5, 6, 2, 3, 6, 8, 6, 5]\n",
    "\n",
    "sb_stat, sb_p_value = ss.shapiro(before)\n",
    "sa_stat, sb_p_value = ss.shapiro(after)\n",
    "\n",
    "print('-before 데이터 정규성 검정-')\n",
    "if sb_p_value < 0.05: print('해당 데이터는 정규성을 따르지 않음')\n",
    "else: print('해당 데이터는 정규성을 따름')\n",
    "\n",
    "print('-'*50)\n",
    "print('-after 데이터 정규성 검정-')\n",
    "if sb_p_value < 0.05: print('해당 데이터는 정규성을 따르지 않음')\n",
    "else: print('해당 데이터는 정규성을 따름')"
   ]
  },
  {
   "cell_type": "code",
   "execution_count": 13,
   "metadata": {},
   "outputs": [
    {
     "name": "stdout",
     "output_type": "stream",
     "text": [
      "귀무가설 기각, 두 대응표본의 평균에 차이가 있음\n",
      "--------------------------------------------------\n",
      "before 평균: 4.3\n",
      "after 평균: 5.3\n"
     ]
    }
   ],
   "source": [
    "import scipy.stats as ss\n",
    "\n",
    "# 대응표본 t검정\n",
    "t_stat, p_value = ss.ttest_rel(before, after)\n",
    "\n",
    "# 실제 평균\n",
    "mean_b = np.mean(before)\n",
    "mean_a = np.mean(after)\n",
    "\n",
    "# 결과\n",
    "if p_value < 0.05: print('귀무가설 기각, 두 대응표본의 평균에 차이가 있음')\n",
    "else: print('대립가설 기각, 두 대응표본의 평균에 차이가 없음')\n",
    "print('-'*50)\n",
    "\n",
    "print(f'before 평균: {mean_b}')\n",
    "print(f'after 평균: {mean_a}')"
   ]
  },
  {
   "cell_type": "markdown",
   "metadata": {},
   "source": [
    ">>**4) 단일표본 모분산 검정 (카이제곱 검정)**"
   ]
  },
  {
   "cell_type": "markdown",
   "metadata": {},
   "source": [
    ">>**5) 두 모분산 비에 대한 가설 검정 (F 검정: 일원분산분석)**"
   ]
  },
  {
   "cell_type": "markdown",
   "metadata": {},
   "source": [
    ">>**6) 독립성 검정 (카이제곱 검정)**"
   ]
  }
 ],
 "metadata": {
  "kernelspec": {
   "display_name": "base",
   "language": "python",
   "name": "python3"
  },
  "language_info": {
   "codemirror_mode": {
    "name": "ipython",
    "version": 3
   },
   "file_extension": ".py",
   "mimetype": "text/x-python",
   "name": "python",
   "nbconvert_exporter": "python",
   "pygments_lexer": "ipython3",
   "version": "3.11.7"
  }
 },
 "nbformat": 4,
 "nbformat_minor": 2
}
