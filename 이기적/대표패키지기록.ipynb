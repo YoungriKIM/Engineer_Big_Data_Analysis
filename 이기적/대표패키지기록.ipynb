{
 "cells": [
  {
   "cell_type": "code",
   "execution_count": 4,
   "metadata": {},
   "outputs": [],
   "source": [
    "# 자주 쓰는 라이브러리들\n",
    "\n",
    "# 기본\n",
    "import pandas as pd\n",
    "import numpy as np\n",
    "import scipy.stats as ss\n",
    "import sklearn\n",
    "# 정제용\n",
    "from sklearn.preprocessing import LabelEncoder, StandardScaler\n",
    "from sklearn import feature_selection\n",
    "from sklearn import feature_extraction\n",
    "from sklearn import metrics\n",
    "from sklearn.model_selection import train_test_split\n",
    "# 학습용 - 분류\n",
    "from sklearn.tree import DecisionTreeClassifier # random_state\n",
    "from sklearn.neighbors import KNeighborsClassifier # n_neighbors k의개수\n",
    "from sklearn.ensemble import RandomForestClassifier, GradientBoostingClassifier\n",
    "from sklearn.naive_bayes import GaussianNB\n",
    "from sklearn.svm import SVC\n",
    "# 학습용 - 회귀\n",
    "from sklearn.linear_model import LinearRegression, Ridge, Lasso\n",
    "from sklearn.ensemble import RandomForestRegressor, GradientBoostingRegressor\n",
    "# 평가\n",
    "from sklearn.metrics import accuracy_score, f1_score, precision_score, recall_score\n",
    "from sklearn.metrics import confusion_matrix, classification_report"
   ]
  },
  {
   "cell_type": "code",
   "execution_count": 8,
   "metadata": {},
   "outputs": [],
   "source": [
    "import pandas as pd\n",
    "import numpy as np\n",
    "import sklearn \n",
    "import scipy.stats as ss\n",
    "# ss.ttest_ind(1,2)\n",
    "# ss.ttest_1samp(1,2)\n",
    "# ss.ttest_rel(1,1)\n",
    "# ss.chi2_contingency(1,1)\n",
    "# ss.mannwhitneyu(1,2)\n",
    "# ss.shapiro(1,2)\n",
    "from sklearn.model_selection import train_test_split\n",
    "from sklearn.preprocessing import LabelEncoder, StandardScaler, MinMaxScaler\n",
    "from sklearn.metrics import accuracy_score, f1_score, precision_score, recall_score\n",
    "\n",
    "from sklearn.linear_model import LogisticRegression, LinearRegression\n",
    "from sklearn.tree import DecisionTreeClassifier, DecisionTreeRegressor\n",
    "from sklearn.ensemble import RandomForestClassifier"
   ]
  }
 ],
 "metadata": {
  "kernelspec": {
   "display_name": "base",
   "language": "python",
   "name": "python3"
  },
  "language_info": {
   "codemirror_mode": {
    "name": "ipython",
    "version": 3
   },
   "file_extension": ".py",
   "mimetype": "text/x-python",
   "name": "python",
   "nbconvert_exporter": "python",
   "pygments_lexer": "ipython3",
   "version": "3.10.14"
  }
 },
 "nbformat": 4,
 "nbformat_minor": 2
}
