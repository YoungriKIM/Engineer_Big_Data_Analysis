{
  "nbformat": 4,
  "nbformat_minor": 0,
  "metadata": {
    "colab": {
      "provenance": []
    },
    "kernelspec": {
      "name": "python3",
      "display_name": "Python 3"
    },
    "language_info": {
      "name": "python"
    }
  },
  "cells": [
    {
      "cell_type": "markdown",
      "source": [
        "[구글 코랩(Colab)에서 실행하기](https://colab.research.google.com/github/lovedlim/bigdata_analyst_cert/blob/main/part3/ch5/ch5_logistic_regression.ipynb)"
      ],
      "metadata": {
        "id": "nFYUmBR9hu_R"
      }
    },
    {
      "cell_type": "markdown",
      "source": [
        "# 로지스틱 회귀분석"
      ],
      "metadata": {
        "id": "FwzB2swKZo2j"
      }
    },
    {
      "cell_type": "code",
      "source": [
        "import pandas as pd\n",
        "# df = pd.read_csv(\"health_survey.csv\")\n",
        "df = pd.read_csv(\"https://raw.githubusercontent.com/lovedlim/bigdata_analyst_cert/main/part3/ch5/health_survey.csv\")\n",
        "\n",
        "print(df.head())"
      ],
      "metadata": {
        "colab": {
          "base_uri": "https://localhost:8080/"
        },
        "id": "JuSKhrlWfVaI",
        "outputId": "d23e18d5-6aa4-4f44-ff22-5c2a6fce1a8e"
      },
      "execution_count": 1,
      "outputs": [
        {
          "output_type": "stream",
          "name": "stdout",
          "text": [
            "   age        bmi  smoker  activity_level  disease\n",
            "0   62  35.179089       0               0        1\n",
            "1   65  18.576042       0               2        1\n",
            "2   71  33.178426       0               1        1\n",
            "3   18  37.063007       1               2        0\n",
            "4   21  17.613266       0               0        0\n"
          ]
        }
      ]
    },
    {
      "cell_type": "code",
      "source": [
        "from statsmodels.formula.api import logit\n",
        "\n",
        "model = logit('disease ~ age + bmi', data=df).fit()\n",
        "print(model.summary())"
      ],
      "metadata": {
        "colab": {
          "base_uri": "https://localhost:8080/"
        },
        "id": "y00i8apYgU5b",
        "outputId": "40b4482e-f809-444e-9e38-54161c1190d0"
      },
      "execution_count": 2,
      "outputs": [
        {
          "output_type": "stream",
          "name": "stdout",
          "text": [
            "Optimization terminated successfully.\n",
            "         Current function value: 0.643725\n",
            "         Iterations 5\n",
            "                           Logit Regression Results                           \n",
            "==============================================================================\n",
            "Dep. Variable:                disease   No. Observations:                 1000\n",
            "Model:                          Logit   Df Residuals:                      997\n",
            "Method:                           MLE   Df Model:                            2\n",
            "Date:                Mon, 05 Aug 2024   Pseudo R-squ.:                 0.04996\n",
            "Time:                        15:30:22   Log-Likelihood:                -643.72\n",
            "converged:                       True   LL-Null:                       -677.58\n",
            "Covariance Type:            nonrobust   LLR p-value:                 1.984e-15\n",
            "==============================================================================\n",
            "                 coef    std err          z      P>|z|      [0.025      0.975]\n",
            "------------------------------------------------------------------------------\n",
            "Intercept     -1.8700      0.289     -6.482      0.000      -2.435      -1.305\n",
            "age            0.0177      0.004      4.747      0.000       0.010       0.025\n",
            "bmi            0.0563      0.009      6.418      0.000       0.039       0.074\n",
            "==============================================================================\n"
          ]
        }
      ]
    },
    {
      "cell_type": "code",
      "source": [
        "import numpy as np\n",
        "print(model.params['bmi'])\n",
        "print(np.exp(model.params['bmi']))"
      ],
      "metadata": {
        "colab": {
          "base_uri": "https://localhost:8080/"
        },
        "id": "WBltnh1-gU8M",
        "outputId": "6bad8637-f1fc-4e26-813e-3d5b55271245"
      },
      "execution_count": 3,
      "outputs": [
        {
          "output_type": "stream",
          "name": "stdout",
          "text": [
            "0.056333879687088535\n",
            "1.057950853075076\n"
          ]
        }
      ]
    },
    {
      "cell_type": "code",
      "source": [
        "print(model.llf)"
      ],
      "metadata": {
        "colab": {
          "base_uri": "https://localhost:8080/"
        },
        "id": "_icMMT0zfOan",
        "outputId": "8f53d796-0f9b-49a6-aa81-faeb1e290280"
      },
      "execution_count": 4,
      "outputs": [
        {
          "output_type": "stream",
          "name": "stdout",
          "text": [
            "-643.7246164682088\n"
          ]
        }
      ]
    },
    {
      "cell_type": "code",
      "source": [
        "print(-2 * model.llf)"
      ],
      "metadata": {
        "colab": {
          "base_uri": "https://localhost:8080/"
        },
        "id": "Xl9ltoyZfYW6",
        "outputId": "06aae68f-95ed-4060-f3d7-ef33e6c31520"
      },
      "execution_count": 5,
      "outputs": [
        {
          "output_type": "stream",
          "name": "stdout",
          "text": [
            "1287.4492329364175\n"
          ]
        }
      ]
    },
    {
      "cell_type": "code",
      "source": [],
      "metadata": {
        "id": "aCxBIez0hLB8"
      },
      "execution_count": 5,
      "outputs": []
    }
  ]
}