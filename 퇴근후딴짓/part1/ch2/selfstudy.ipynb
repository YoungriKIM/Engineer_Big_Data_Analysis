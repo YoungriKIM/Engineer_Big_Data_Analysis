{
 "cells": [
  {
   "cell_type": "code",
   "execution_count": 189,
   "metadata": {},
   "outputs": [],
   "source": [
    "import pandas as pd"
   ]
  },
  {
   "cell_type": "code",
   "execution_count": 190,
   "metadata": {},
   "outputs": [
    {
     "data": {
      "text/plain": [
       "0     비빔밥\n",
       "1    김치찌개\n",
       "2    된장찌개\n",
       "dtype: object"
      ]
     },
     "execution_count": 190,
     "metadata": {},
     "output_type": "execute_result"
    }
   ],
   "source": [
    "menu = pd.Series(['비빔밥', '김치찌개', '된장찌개'])\n",
    "menu"
   ]
  },
  {
   "cell_type": "code",
   "execution_count": 191,
   "metadata": {},
   "outputs": [
    {
     "data": {
      "text/plain": [
       "0    10000\n",
       "1     9000\n",
       "2     8000\n",
       "dtype: int64"
      ]
     },
     "execution_count": 191,
     "metadata": {},
     "output_type": "execute_result"
    }
   ],
   "source": [
    "price = pd.Series([10000, 9000, 8000])\n",
    "price"
   ]
  },
  {
   "cell_type": "code",
   "execution_count": 192,
   "metadata": {},
   "outputs": [
    {
     "data": {
      "text/html": [
       "<div>\n",
       "<style scoped>\n",
       "    .dataframe tbody tr th:only-of-type {\n",
       "        vertical-align: middle;\n",
       "    }\n",
       "\n",
       "    .dataframe tbody tr th {\n",
       "        vertical-align: top;\n",
       "    }\n",
       "\n",
       "    .dataframe thead th {\n",
       "        text-align: right;\n",
       "    }\n",
       "</style>\n",
       "<table border=\"1\" class=\"dataframe\">\n",
       "  <thead>\n",
       "    <tr style=\"text-align: right;\">\n",
       "      <th></th>\n",
       "      <th>메뉴</th>\n",
       "      <th>가격</th>\n",
       "    </tr>\n",
       "  </thead>\n",
       "  <tbody>\n",
       "    <tr>\n",
       "      <th>0</th>\n",
       "      <td>비빔밥</td>\n",
       "      <td>10000</td>\n",
       "    </tr>\n",
       "    <tr>\n",
       "      <th>1</th>\n",
       "      <td>김치찌개</td>\n",
       "      <td>9000</td>\n",
       "    </tr>\n",
       "    <tr>\n",
       "      <th>2</th>\n",
       "      <td>된장찌개</td>\n",
       "      <td>8000</td>\n",
       "    </tr>\n",
       "  </tbody>\n",
       "</table>\n",
       "</div>"
      ],
      "text/plain": [
       "     메뉴     가격\n",
       "0   비빔밥  10000\n",
       "1  김치찌개   9000\n",
       "2  된장찌개   8000"
      ]
     },
     "execution_count": 192,
     "metadata": {},
     "output_type": "execute_result"
    }
   ],
   "source": [
    "df = pd.DataFrame({'메뉴':menu, '가격':price})\n",
    "df"
   ]
  },
  {
   "cell_type": "code",
   "execution_count": 193,
   "metadata": {},
   "outputs": [
    {
     "data": {
      "text/plain": [
       "0     비빔밥\n",
       "1    김치찌개\n",
       "2    된장찌개\n",
       "Name: 메뉴, dtype: object"
      ]
     },
     "execution_count": 193,
     "metadata": {},
     "output_type": "execute_result"
    }
   ],
   "source": [
    "df.메뉴"
   ]
  },
  {
   "cell_type": "code",
   "execution_count": 194,
   "metadata": {},
   "outputs": [
    {
     "data": {
      "text/html": [
       "<div>\n",
       "<style scoped>\n",
       "    .dataframe tbody tr th:only-of-type {\n",
       "        vertical-align: middle;\n",
       "    }\n",
       "\n",
       "    .dataframe tbody tr th {\n",
       "        vertical-align: top;\n",
       "    }\n",
       "\n",
       "    .dataframe thead th {\n",
       "        text-align: right;\n",
       "    }\n",
       "</style>\n",
       "<table border=\"1\" class=\"dataframe\">\n",
       "  <thead>\n",
       "    <tr style=\"text-align: right;\">\n",
       "      <th></th>\n",
       "      <th>메뉴</th>\n",
       "    </tr>\n",
       "  </thead>\n",
       "  <tbody>\n",
       "    <tr>\n",
       "      <th>0</th>\n",
       "      <td>비빔밥</td>\n",
       "    </tr>\n",
       "    <tr>\n",
       "      <th>1</th>\n",
       "      <td>김치찌개</td>\n",
       "    </tr>\n",
       "    <tr>\n",
       "      <th>2</th>\n",
       "      <td>된장찌개</td>\n",
       "    </tr>\n",
       "  </tbody>\n",
       "</table>\n",
       "</div>"
      ],
      "text/plain": [
       "     메뉴\n",
       "0   비빔밥\n",
       "1  김치찌개\n",
       "2  된장찌개"
      ]
     },
     "execution_count": 194,
     "metadata": {},
     "output_type": "execute_result"
    }
   ],
   "source": [
    "df[['메뉴']]"
   ]
  },
  {
   "cell_type": "code",
   "execution_count": 195,
   "metadata": {},
   "outputs": [
    {
     "data": {
      "text/html": [
       "<div>\n",
       "<style scoped>\n",
       "    .dataframe tbody tr th:only-of-type {\n",
       "        vertical-align: middle;\n",
       "    }\n",
       "\n",
       "    .dataframe tbody tr th {\n",
       "        vertical-align: top;\n",
       "    }\n",
       "\n",
       "    .dataframe thead th {\n",
       "        text-align: right;\n",
       "    }\n",
       "</style>\n",
       "<table border=\"1\" class=\"dataframe\">\n",
       "  <thead>\n",
       "    <tr style=\"text-align: right;\">\n",
       "      <th></th>\n",
       "      <th>메뉴</th>\n",
       "    </tr>\n",
       "  </thead>\n",
       "  <tbody>\n",
       "    <tr>\n",
       "      <th>0</th>\n",
       "      <td>비빔밥</td>\n",
       "    </tr>\n",
       "    <tr>\n",
       "      <th>1</th>\n",
       "      <td>김치찌개</td>\n",
       "    </tr>\n",
       "    <tr>\n",
       "      <th>2</th>\n",
       "      <td>된장찌개</td>\n",
       "    </tr>\n",
       "  </tbody>\n",
       "</table>\n",
       "</div>"
      ],
      "text/plain": [
       "     메뉴\n",
       "0   비빔밥\n",
       "1  김치찌개\n",
       "2  된장찌개"
      ]
     },
     "execution_count": 195,
     "metadata": {},
     "output_type": "execute_result"
    }
   ],
   "source": [
    "df.메뉴.to_frame()"
   ]
  },
  {
   "cell_type": "code",
   "execution_count": 196,
   "metadata": {},
   "outputs": [
    {
     "data": {
      "text/html": [
       "<div>\n",
       "<style scoped>\n",
       "    .dataframe tbody tr th:only-of-type {\n",
       "        vertical-align: middle;\n",
       "    }\n",
       "\n",
       "    .dataframe tbody tr th {\n",
       "        vertical-align: top;\n",
       "    }\n",
       "\n",
       "    .dataframe thead th {\n",
       "        text-align: right;\n",
       "    }\n",
       "</style>\n",
       "<table border=\"1\" class=\"dataframe\">\n",
       "  <thead>\n",
       "    <tr style=\"text-align: right;\">\n",
       "      <th></th>\n",
       "      <th>가격</th>\n",
       "      <th>메뉴</th>\n",
       "    </tr>\n",
       "  </thead>\n",
       "  <tbody>\n",
       "    <tr>\n",
       "      <th>0</th>\n",
       "      <td>10000</td>\n",
       "      <td>비빔밥</td>\n",
       "    </tr>\n",
       "    <tr>\n",
       "      <th>1</th>\n",
       "      <td>9000</td>\n",
       "      <td>김치찌개</td>\n",
       "    </tr>\n",
       "    <tr>\n",
       "      <th>2</th>\n",
       "      <td>8000</td>\n",
       "      <td>된장찌개</td>\n",
       "    </tr>\n",
       "  </tbody>\n",
       "</table>\n",
       "</div>"
      ],
      "text/plain": [
       "      가격    메뉴\n",
       "0  10000   비빔밥\n",
       "1   9000  김치찌개\n",
       "2   8000  된장찌개"
      ]
     },
     "execution_count": 196,
     "metadata": {},
     "output_type": "execute_result"
    }
   ],
   "source": [
    "df[['가격','메뉴']]"
   ]
  },
  {
   "cell_type": "code",
   "execution_count": 197,
   "metadata": {},
   "outputs": [
    {
     "data": {
      "text/html": [
       "<div>\n",
       "<style scoped>\n",
       "    .dataframe tbody tr th:only-of-type {\n",
       "        vertical-align: middle;\n",
       "    }\n",
       "\n",
       "    .dataframe tbody tr th {\n",
       "        vertical-align: top;\n",
       "    }\n",
       "\n",
       "    .dataframe thead th {\n",
       "        text-align: right;\n",
       "    }\n",
       "</style>\n",
       "<table border=\"1\" class=\"dataframe\">\n",
       "  <thead>\n",
       "    <tr style=\"text-align: right;\">\n",
       "      <th></th>\n",
       "      <th>가격</th>\n",
       "      <th>메뉴</th>\n",
       "    </tr>\n",
       "  </thead>\n",
       "  <tbody>\n",
       "    <tr>\n",
       "      <th>0</th>\n",
       "      <td>10000</td>\n",
       "      <td>비빔밥</td>\n",
       "    </tr>\n",
       "    <tr>\n",
       "      <th>1</th>\n",
       "      <td>9000</td>\n",
       "      <td>김치찌개</td>\n",
       "    </tr>\n",
       "    <tr>\n",
       "      <th>2</th>\n",
       "      <td>8000</td>\n",
       "      <td>된장찌개</td>\n",
       "    </tr>\n",
       "  </tbody>\n",
       "</table>\n",
       "</div>"
      ],
      "text/plain": [
       "      가격    메뉴\n",
       "0  10000   비빔밥\n",
       "1   9000  김치찌개\n",
       "2   8000  된장찌개"
      ]
     },
     "execution_count": 197,
     "metadata": {},
     "output_type": "execute_result"
    }
   ],
   "source": [
    "cols = ['가격', '메뉴']\n",
    "df[cols]"
   ]
  },
  {
   "cell_type": "code",
   "execution_count": 198,
   "metadata": {},
   "outputs": [
    {
     "data": {
      "text/plain": [
       "(pandas.core.series.Series, pandas.core.frame.DataFrame)"
      ]
     },
     "execution_count": 198,
     "metadata": {},
     "output_type": "execute_result"
    }
   ],
   "source": [
    "type(df['가격']), type(df[['메뉴']])"
   ]
  },
  {
   "cell_type": "code",
   "execution_count": 199,
   "metadata": {},
   "outputs": [
    {
     "data": {
      "text/html": [
       "<div>\n",
       "<style scoped>\n",
       "    .dataframe tbody tr th:only-of-type {\n",
       "        vertical-align: middle;\n",
       "    }\n",
       "\n",
       "    .dataframe tbody tr th {\n",
       "        vertical-align: top;\n",
       "    }\n",
       "\n",
       "    .dataframe thead th {\n",
       "        text-align: right;\n",
       "    }\n",
       "</style>\n",
       "<table border=\"1\" class=\"dataframe\">\n",
       "  <thead>\n",
       "    <tr style=\"text-align: right;\">\n",
       "      <th></th>\n",
       "      <th>메뉴</th>\n",
       "      <th>가격</th>\n",
       "      <th>칼로리</th>\n",
       "    </tr>\n",
       "  </thead>\n",
       "  <tbody>\n",
       "    <tr>\n",
       "      <th>0</th>\n",
       "      <td>아메리카노</td>\n",
       "      <td>4500</td>\n",
       "      <td>10</td>\n",
       "    </tr>\n",
       "    <tr>\n",
       "      <th>1</th>\n",
       "      <td>카페라떼</td>\n",
       "      <td>5000</td>\n",
       "      <td>110</td>\n",
       "    </tr>\n",
       "    <tr>\n",
       "      <th>2</th>\n",
       "      <td>카페모카</td>\n",
       "      <td>5500</td>\n",
       "      <td>250</td>\n",
       "    </tr>\n",
       "    <tr>\n",
       "      <th>3</th>\n",
       "      <td>카푸치노</td>\n",
       "      <td>5000</td>\n",
       "      <td>110</td>\n",
       "    </tr>\n",
       "    <tr>\n",
       "      <th>4</th>\n",
       "      <td>에스프레소</td>\n",
       "      <td>4000</td>\n",
       "      <td>20</td>\n",
       "    </tr>\n",
       "    <tr>\n",
       "      <th>5</th>\n",
       "      <td>밀크티</td>\n",
       "      <td>5900</td>\n",
       "      <td>210</td>\n",
       "    </tr>\n",
       "    <tr>\n",
       "      <th>6</th>\n",
       "      <td>녹차</td>\n",
       "      <td>5300</td>\n",
       "      <td>0</td>\n",
       "    </tr>\n",
       "  </tbody>\n",
       "</table>\n",
       "</div>"
      ],
      "text/plain": [
       "      메뉴    가격  칼로리\n",
       "0  아메리카노  4500   10\n",
       "1   카페라떼  5000  110\n",
       "2   카페모카  5500  250\n",
       "3   카푸치노  5000  110\n",
       "4  에스프레소  4000   20\n",
       "5    밀크티  5900  210\n",
       "6     녹차  5300    0"
      ]
     },
     "execution_count": 199,
     "metadata": {},
     "output_type": "execute_result"
    }
   ],
   "source": [
    "df = pd.DataFrame({\n",
    "    \"메뉴\":['아메리카노', '카페라떼', '카페모카', '카푸치노', '에스프레소', '밀크티', '녹차'],\n",
    "    \"가격\":[4500, 5000, 5500, 5000, 4000, 5900, 5300],\n",
    "    \"칼로리\":[10, 110, 250, 110, 20, 210, 0],\n",
    "})\n",
    "df"
   ]
  },
  {
   "cell_type": "code",
   "execution_count": 200,
   "metadata": {},
   "outputs": [],
   "source": [
    "df.to_csv('test.csv')"
   ]
  },
  {
   "cell_type": "code",
   "execution_count": 201,
   "metadata": {},
   "outputs": [
    {
     "data": {
      "text/html": [
       "<div>\n",
       "<style scoped>\n",
       "    .dataframe tbody tr th:only-of-type {\n",
       "        vertical-align: middle;\n",
       "    }\n",
       "\n",
       "    .dataframe tbody tr th {\n",
       "        vertical-align: top;\n",
       "    }\n",
       "\n",
       "    .dataframe thead th {\n",
       "        text-align: right;\n",
       "    }\n",
       "</style>\n",
       "<table border=\"1\" class=\"dataframe\">\n",
       "  <thead>\n",
       "    <tr style=\"text-align: right;\">\n",
       "      <th></th>\n",
       "      <th>메뉴</th>\n",
       "      <th>가격</th>\n",
       "    </tr>\n",
       "  </thead>\n",
       "  <tbody>\n",
       "    <tr>\n",
       "      <th>0</th>\n",
       "      <td>아메리카노</td>\n",
       "      <td>4500</td>\n",
       "    </tr>\n",
       "    <tr>\n",
       "      <th>1</th>\n",
       "      <td>카페라떼</td>\n",
       "      <td>5000</td>\n",
       "    </tr>\n",
       "    <tr>\n",
       "      <th>2</th>\n",
       "      <td>카페모카</td>\n",
       "      <td>5500</td>\n",
       "    </tr>\n",
       "    <tr>\n",
       "      <th>3</th>\n",
       "      <td>카푸치노</td>\n",
       "      <td>5000</td>\n",
       "    </tr>\n",
       "    <tr>\n",
       "      <th>4</th>\n",
       "      <td>에스프레소</td>\n",
       "      <td>4000</td>\n",
       "    </tr>\n",
       "    <tr>\n",
       "      <th>5</th>\n",
       "      <td>밀크티</td>\n",
       "      <td>5900</td>\n",
       "    </tr>\n",
       "    <tr>\n",
       "      <th>6</th>\n",
       "      <td>녹차</td>\n",
       "      <td>5300</td>\n",
       "    </tr>\n",
       "  </tbody>\n",
       "</table>\n",
       "</div>"
      ],
      "text/plain": [
       "      메뉴    가격\n",
       "0  아메리카노  4500\n",
       "1   카페라떼  5000\n",
       "2   카페모카  5500\n",
       "3   카푸치노  5000\n",
       "4  에스프레소  4000\n",
       "5    밀크티  5900\n",
       "6     녹차  5300"
      ]
     },
     "execution_count": 201,
     "metadata": {},
     "output_type": "execute_result"
    }
   ],
   "source": [
    "temp_df = pd.read_csv('test.csv', index_col=None, usecols=['메뉴', '가격'], encoding='utf-8')\n",
    "temp_df"
   ]
  },
  {
   "cell_type": "code",
   "execution_count": 202,
   "metadata": {},
   "outputs": [
    {
     "data": {
      "text/html": [
       "<div>\n",
       "<style scoped>\n",
       "    .dataframe tbody tr th:only-of-type {\n",
       "        vertical-align: middle;\n",
       "    }\n",
       "\n",
       "    .dataframe tbody tr th {\n",
       "        vertical-align: top;\n",
       "    }\n",
       "\n",
       "    .dataframe thead th {\n",
       "        text-align: right;\n",
       "    }\n",
       "</style>\n",
       "<table border=\"1\" class=\"dataframe\">\n",
       "  <thead>\n",
       "    <tr style=\"text-align: right;\">\n",
       "      <th></th>\n",
       "      <th>메뉴</th>\n",
       "      <th>가격</th>\n",
       "      <th>칼로리</th>\n",
       "    </tr>\n",
       "  </thead>\n",
       "  <tbody>\n",
       "    <tr>\n",
       "      <th>3</th>\n",
       "      <td>카푸치노</td>\n",
       "      <td>5000</td>\n",
       "      <td>110</td>\n",
       "    </tr>\n",
       "    <tr>\n",
       "      <th>6</th>\n",
       "      <td>녹차</td>\n",
       "      <td>5300</td>\n",
       "      <td>0</td>\n",
       "    </tr>\n",
       "    <tr>\n",
       "      <th>1</th>\n",
       "      <td>카페라떼</td>\n",
       "      <td>5000</td>\n",
       "      <td>110</td>\n",
       "    </tr>\n",
       "  </tbody>\n",
       "</table>\n",
       "</div>"
      ],
      "text/plain": [
       "     메뉴    가격  칼로리\n",
       "3  카푸치노  5000  110\n",
       "6    녹차  5300    0\n",
       "1  카페라떼  5000  110"
      ]
     },
     "execution_count": 202,
     "metadata": {},
     "output_type": "execute_result"
    }
   ],
   "source": [
    "df.sample(3)"
   ]
  },
  {
   "cell_type": "code",
   "execution_count": 203,
   "metadata": {},
   "outputs": [
    {
     "data": {
      "text/html": [
       "<div>\n",
       "<style scoped>\n",
       "    .dataframe tbody tr th:only-of-type {\n",
       "        vertical-align: middle;\n",
       "    }\n",
       "\n",
       "    .dataframe tbody tr th {\n",
       "        vertical-align: top;\n",
       "    }\n",
       "\n",
       "    .dataframe thead th {\n",
       "        text-align: right;\n",
       "    }\n",
       "</style>\n",
       "<table border=\"1\" class=\"dataframe\">\n",
       "  <thead>\n",
       "    <tr style=\"text-align: right;\">\n",
       "      <th></th>\n",
       "      <th>메뉴</th>\n",
       "      <th>가격</th>\n",
       "      <th>칼로리</th>\n",
       "    </tr>\n",
       "  </thead>\n",
       "  <tbody>\n",
       "    <tr>\n",
       "      <th>5</th>\n",
       "      <td>밀크티</td>\n",
       "      <td>5900</td>\n",
       "      <td>210</td>\n",
       "    </tr>\n",
       "  </tbody>\n",
       "</table>\n",
       "</div>"
      ],
      "text/plain": [
       "    메뉴    가격  칼로리\n",
       "5  밀크티  5900  210"
      ]
     },
     "execution_count": 203,
     "metadata": {},
     "output_type": "execute_result"
    }
   ],
   "source": [
    "df.sample()"
   ]
  },
  {
   "cell_type": "code",
   "execution_count": 204,
   "metadata": {},
   "outputs": [
    {
     "data": {
      "text/plain": [
       "(7, 3)"
      ]
     },
     "execution_count": 204,
     "metadata": {},
     "output_type": "execute_result"
    }
   ],
   "source": [
    "df.shape"
   ]
  },
  {
   "cell_type": "code",
   "execution_count": 205,
   "metadata": {},
   "outputs": [
    {
     "name": "stdout",
     "output_type": "stream",
     "text": [
      "<class 'pandas.core.frame.DataFrame'>\n",
      "RangeIndex: 7 entries, 0 to 6\n",
      "Data columns (total 3 columns):\n",
      " #   Column  Non-Null Count  Dtype \n",
      "---  ------  --------------  ----- \n",
      " 0   메뉴      7 non-null      object\n",
      " 1   가격      7 non-null      int64 \n",
      " 2   칼로리     7 non-null      int64 \n",
      "dtypes: int64(2), object(1)\n",
      "memory usage: 296.0+ bytes\n"
     ]
    }
   ],
   "source": [
    "# 컬럼별 데이터 타입\n",
    "df.info()"
   ]
  },
  {
   "cell_type": "code",
   "execution_count": 206,
   "metadata": {},
   "outputs": [
    {
     "data": {
      "text/html": [
       "<div>\n",
       "<style scoped>\n",
       "    .dataframe tbody tr th:only-of-type {\n",
       "        vertical-align: middle;\n",
       "    }\n",
       "\n",
       "    .dataframe tbody tr th {\n",
       "        vertical-align: top;\n",
       "    }\n",
       "\n",
       "    .dataframe thead th {\n",
       "        text-align: right;\n",
       "    }\n",
       "</style>\n",
       "<table border=\"1\" class=\"dataframe\">\n",
       "  <thead>\n",
       "    <tr style=\"text-align: right;\">\n",
       "      <th></th>\n",
       "      <th>가격</th>\n",
       "      <th>칼로리</th>\n",
       "    </tr>\n",
       "  </thead>\n",
       "  <tbody>\n",
       "    <tr>\n",
       "      <th>가격</th>\n",
       "      <td>1.000000</td>\n",
       "      <td>0.713227</td>\n",
       "    </tr>\n",
       "    <tr>\n",
       "      <th>칼로리</th>\n",
       "      <td>0.713227</td>\n",
       "      <td>1.000000</td>\n",
       "    </tr>\n",
       "  </tbody>\n",
       "</table>\n",
       "</div>"
      ],
      "text/plain": [
       "           가격       칼로리\n",
       "가격   1.000000  0.713227\n",
       "칼로리  0.713227  1.000000"
      ]
     },
     "execution_count": 206,
     "metadata": {},
     "output_type": "execute_result"
    }
   ],
   "source": [
    "# 컬럼별 상관관계\n",
    "df.corr(numeric_only=True)"
   ]
  },
  {
   "cell_type": "code",
   "execution_count": 207,
   "metadata": {},
   "outputs": [
    {
     "data": {
      "text/html": [
       "<div>\n",
       "<style scoped>\n",
       "    .dataframe tbody tr th:only-of-type {\n",
       "        vertical-align: middle;\n",
       "    }\n",
       "\n",
       "    .dataframe tbody tr th {\n",
       "        vertical-align: top;\n",
       "    }\n",
       "\n",
       "    .dataframe thead th {\n",
       "        text-align: right;\n",
       "    }\n",
       "</style>\n",
       "<table border=\"1\" class=\"dataframe\">\n",
       "  <thead>\n",
       "    <tr style=\"text-align: right;\">\n",
       "      <th></th>\n",
       "      <th>car</th>\n",
       "      <th>size</th>\n",
       "    </tr>\n",
       "  </thead>\n",
       "  <tbody>\n",
       "    <tr>\n",
       "      <th>0</th>\n",
       "      <td>Sedan</td>\n",
       "      <td>S</td>\n",
       "    </tr>\n",
       "    <tr>\n",
       "      <th>1</th>\n",
       "      <td>SUV</td>\n",
       "      <td>M</td>\n",
       "    </tr>\n",
       "    <tr>\n",
       "      <th>2</th>\n",
       "      <td>Sedan</td>\n",
       "      <td>S</td>\n",
       "    </tr>\n",
       "  </tbody>\n",
       "</table>\n",
       "</div>"
      ],
      "text/plain": [
       "     car size\n",
       "0  Sedan    S\n",
       "1    SUV    M\n",
       "2  Sedan    S"
      ]
     },
     "execution_count": 207,
     "metadata": {},
     "output_type": "execute_result"
    }
   ],
   "source": [
    "# 중복 값이 있는 데이터 생성\n",
    "df_car = pd.DataFrame({\n",
    "    \"car\":['Sedan','SUV','Sedan','SUV','SUV','SUV','Sedan','Sedan','Sedan','Sedan','Sedan'],\n",
    "    \"size\":['S','M','S','S','M','M','L','S','S', 'M','S']\n",
    "})\n",
    "df_car.head(3)"
   ]
  },
  {
   "cell_type": "code",
   "execution_count": 208,
   "metadata": {},
   "outputs": [
    {
     "name": "stdout",
     "output_type": "stream",
     "text": [
      "car     2\n",
      "size    3\n",
      "dtype: int64\n"
     ]
    },
    {
     "data": {
      "text/plain": [
       "(3, 2)"
      ]
     },
     "execution_count": 208,
     "metadata": {},
     "output_type": "execute_result"
    }
   ],
   "source": [
    "# 고유한 값\n",
    "print(df_car.nunique())\n",
    "df_car['size'].nunique(), df_car['car'].nunique()"
   ]
  },
  {
   "cell_type": "code",
   "execution_count": 209,
   "metadata": {},
   "outputs": [
    {
     "data": {
      "text/plain": [
       "(array(['Sedan', 'SUV'], dtype=object), array(['S', 'M', 'L'], dtype=object))"
      ]
     },
     "execution_count": 209,
     "metadata": {},
     "output_type": "execute_result"
    }
   ],
   "source": [
    "df_car['car'].unique(), df_car['size'].unique()"
   ]
  },
  {
   "cell_type": "code",
   "execution_count": 210,
   "metadata": {},
   "outputs": [
    {
     "data": {
      "text/plain": [
       "car\n",
       "Sedan    7\n",
       "SUV      4\n",
       "Name: count, dtype: int64"
      ]
     },
     "execution_count": 210,
     "metadata": {},
     "output_type": "execute_result"
    }
   ],
   "source": [
    "df_car['car'].value_counts()"
   ]
  },
  {
   "cell_type": "code",
   "execution_count": 211,
   "metadata": {},
   "outputs": [
    {
     "data": {
      "text/html": [
       "<div>\n",
       "<style scoped>\n",
       "    .dataframe tbody tr th:only-of-type {\n",
       "        vertical-align: middle;\n",
       "    }\n",
       "\n",
       "    .dataframe tbody tr th {\n",
       "        vertical-align: top;\n",
       "    }\n",
       "\n",
       "    .dataframe thead th {\n",
       "        text-align: right;\n",
       "    }\n",
       "</style>\n",
       "<table border=\"1\" class=\"dataframe\">\n",
       "  <thead>\n",
       "    <tr style=\"text-align: right;\">\n",
       "      <th></th>\n",
       "      <th>메뉴</th>\n",
       "      <th>가격</th>\n",
       "      <th>칼로리</th>\n",
       "    </tr>\n",
       "  </thead>\n",
       "  <tbody>\n",
       "    <tr>\n",
       "      <th>0</th>\n",
       "      <td>아메리카노</td>\n",
       "      <td>4500</td>\n",
       "      <td>10</td>\n",
       "    </tr>\n",
       "    <tr>\n",
       "      <th>1</th>\n",
       "      <td>카페라떼</td>\n",
       "      <td>5000</td>\n",
       "      <td>110</td>\n",
       "    </tr>\n",
       "    <tr>\n",
       "      <th>2</th>\n",
       "      <td>카페모카</td>\n",
       "      <td>5500</td>\n",
       "      <td>250</td>\n",
       "    </tr>\n",
       "    <tr>\n",
       "      <th>3</th>\n",
       "      <td>카푸치노</td>\n",
       "      <td>5000</td>\n",
       "      <td>110</td>\n",
       "    </tr>\n",
       "    <tr>\n",
       "      <th>4</th>\n",
       "      <td>에스프레소</td>\n",
       "      <td>4000</td>\n",
       "      <td>20</td>\n",
       "    </tr>\n",
       "  </tbody>\n",
       "</table>\n",
       "</div>"
      ],
      "text/plain": [
       "      메뉴    가격  칼로리\n",
       "0  아메리카노  4500   10\n",
       "1   카페라떼  5000  110\n",
       "2   카페모카  5500  250\n",
       "3   카푸치노  5000  110\n",
       "4  에스프레소  4000   20"
      ]
     },
     "metadata": {},
     "output_type": "display_data"
    },
    {
     "data": {
      "text/html": [
       "<div>\n",
       "<style scoped>\n",
       "    .dataframe tbody tr th:only-of-type {\n",
       "        vertical-align: middle;\n",
       "    }\n",
       "\n",
       "    .dataframe tbody tr th {\n",
       "        vertical-align: top;\n",
       "    }\n",
       "\n",
       "    .dataframe thead th {\n",
       "        text-align: right;\n",
       "    }\n",
       "</style>\n",
       "<table border=\"1\" class=\"dataframe\">\n",
       "  <thead>\n",
       "    <tr style=\"text-align: right;\">\n",
       "      <th></th>\n",
       "      <th>가격</th>\n",
       "      <th>칼로리</th>\n",
       "    </tr>\n",
       "  </thead>\n",
       "  <tbody>\n",
       "    <tr>\n",
       "      <th>count</th>\n",
       "      <td>7.000000</td>\n",
       "      <td>7.000000</td>\n",
       "    </tr>\n",
       "    <tr>\n",
       "      <th>mean</th>\n",
       "      <td>5028.571429</td>\n",
       "      <td>101.428571</td>\n",
       "    </tr>\n",
       "    <tr>\n",
       "      <th>std</th>\n",
       "      <td>631.702160</td>\n",
       "      <td>99.402980</td>\n",
       "    </tr>\n",
       "    <tr>\n",
       "      <th>min</th>\n",
       "      <td>4000.000000</td>\n",
       "      <td>0.000000</td>\n",
       "    </tr>\n",
       "    <tr>\n",
       "      <th>25%</th>\n",
       "      <td>4750.000000</td>\n",
       "      <td>15.000000</td>\n",
       "    </tr>\n",
       "    <tr>\n",
       "      <th>50%</th>\n",
       "      <td>5000.000000</td>\n",
       "      <td>110.000000</td>\n",
       "    </tr>\n",
       "    <tr>\n",
       "      <th>75%</th>\n",
       "      <td>5400.000000</td>\n",
       "      <td>160.000000</td>\n",
       "    </tr>\n",
       "    <tr>\n",
       "      <th>max</th>\n",
       "      <td>5900.000000</td>\n",
       "      <td>250.000000</td>\n",
       "    </tr>\n",
       "  </tbody>\n",
       "</table>\n",
       "</div>"
      ],
      "text/plain": [
       "                가격         칼로리\n",
       "count     7.000000    7.000000\n",
       "mean   5028.571429  101.428571\n",
       "std     631.702160   99.402980\n",
       "min    4000.000000    0.000000\n",
       "25%    4750.000000   15.000000\n",
       "50%    5000.000000  110.000000\n",
       "75%    5400.000000  160.000000\n",
       "max    5900.000000  250.000000"
      ]
     },
     "execution_count": 211,
     "metadata": {},
     "output_type": "execute_result"
    }
   ],
   "source": [
    "display(df.head())\n",
    "df.describe()"
   ]
  },
  {
   "cell_type": "code",
   "execution_count": 212,
   "metadata": {},
   "outputs": [
    {
     "data": {
      "text/html": [
       "<div>\n",
       "<style scoped>\n",
       "    .dataframe tbody tr th:only-of-type {\n",
       "        vertical-align: middle;\n",
       "    }\n",
       "\n",
       "    .dataframe tbody tr th {\n",
       "        vertical-align: top;\n",
       "    }\n",
       "\n",
       "    .dataframe thead th {\n",
       "        text-align: right;\n",
       "    }\n",
       "</style>\n",
       "<table border=\"1\" class=\"dataframe\">\n",
       "  <thead>\n",
       "    <tr style=\"text-align: right;\">\n",
       "      <th></th>\n",
       "      <th>car</th>\n",
       "      <th>size</th>\n",
       "    </tr>\n",
       "  </thead>\n",
       "  <tbody>\n",
       "    <tr>\n",
       "      <th>0</th>\n",
       "      <td>Sedan</td>\n",
       "      <td>S</td>\n",
       "    </tr>\n",
       "    <tr>\n",
       "      <th>1</th>\n",
       "      <td>SUV</td>\n",
       "      <td>M</td>\n",
       "    </tr>\n",
       "    <tr>\n",
       "      <th>2</th>\n",
       "      <td>Sedan</td>\n",
       "      <td>S</td>\n",
       "    </tr>\n",
       "    <tr>\n",
       "      <th>3</th>\n",
       "      <td>SUV</td>\n",
       "      <td>S</td>\n",
       "    </tr>\n",
       "    <tr>\n",
       "      <th>4</th>\n",
       "      <td>SUV</td>\n",
       "      <td>M</td>\n",
       "    </tr>\n",
       "  </tbody>\n",
       "</table>\n",
       "</div>"
      ],
      "text/plain": [
       "     car size\n",
       "0  Sedan    S\n",
       "1    SUV    M\n",
       "2  Sedan    S\n",
       "3    SUV    S\n",
       "4    SUV    M"
      ]
     },
     "metadata": {},
     "output_type": "display_data"
    },
    {
     "data": {
      "text/html": [
       "<div>\n",
       "<style scoped>\n",
       "    .dataframe tbody tr th:only-of-type {\n",
       "        vertical-align: middle;\n",
       "    }\n",
       "\n",
       "    .dataframe tbody tr th {\n",
       "        vertical-align: top;\n",
       "    }\n",
       "\n",
       "    .dataframe thead th {\n",
       "        text-align: right;\n",
       "    }\n",
       "</style>\n",
       "<table border=\"1\" class=\"dataframe\">\n",
       "  <thead>\n",
       "    <tr style=\"text-align: right;\">\n",
       "      <th></th>\n",
       "      <th>car</th>\n",
       "      <th>size</th>\n",
       "    </tr>\n",
       "  </thead>\n",
       "  <tbody>\n",
       "    <tr>\n",
       "      <th>count</th>\n",
       "      <td>11</td>\n",
       "      <td>11</td>\n",
       "    </tr>\n",
       "    <tr>\n",
       "      <th>unique</th>\n",
       "      <td>2</td>\n",
       "      <td>3</td>\n",
       "    </tr>\n",
       "    <tr>\n",
       "      <th>top</th>\n",
       "      <td>Sedan</td>\n",
       "      <td>S</td>\n",
       "    </tr>\n",
       "    <tr>\n",
       "      <th>freq</th>\n",
       "      <td>7</td>\n",
       "      <td>6</td>\n",
       "    </tr>\n",
       "  </tbody>\n",
       "</table>\n",
       "</div>"
      ],
      "text/plain": [
       "          car size\n",
       "count      11   11\n",
       "unique      2    3\n",
       "top     Sedan    S\n",
       "freq        7    6"
      ]
     },
     "execution_count": 212,
     "metadata": {},
     "output_type": "execute_result"
    }
   ],
   "source": [
    "display(df_car.head())\n",
    "df_car.describe(include='O')"
   ]
  },
  {
   "cell_type": "code",
   "execution_count": 213,
   "metadata": {},
   "outputs": [
    {
     "name": "stdout",
     "output_type": "stream",
     "text": [
      "<class 'pandas.core.frame.DataFrame'>\n",
      "RangeIndex: 7 entries, 0 to 6\n",
      "Data columns (total 3 columns):\n",
      " #   Column  Non-Null Count  Dtype  \n",
      "---  ------  --------------  -----  \n",
      " 0   메뉴      7 non-null      object \n",
      " 1   가격      7 non-null      float64\n",
      " 2   칼로리     7 non-null      object \n",
      "dtypes: float64(1), object(2)\n",
      "memory usage: 296.0+ bytes\n"
     ]
    }
   ],
   "source": [
    "# 데이터 준비\n",
    "data = {\n",
    "    \"메뉴\":['아메리카노', '카페라떼', '카페모카', '카푸치노', '에스프레소', '밀크티', '녹차'],\n",
    "    \"가격\":[4500.0, 5000.0, 5500.0, 5000.0, 4000.0, 5900.0, 5300.0],\n",
    "    \"칼로리\":['10', '110', '250', '110', '20', '210', '0'],\n",
    "}\n",
    "df = pd.DataFrame(data)\n",
    "df.info()"
   ]
  },
  {
   "cell_type": "code",
   "execution_count": 214,
   "metadata": {},
   "outputs": [
    {
     "name": "stdout",
     "output_type": "stream",
     "text": [
      "<class 'pandas.core.frame.DataFrame'>\n",
      "RangeIndex: 7 entries, 0 to 6\n",
      "Data columns (total 3 columns):\n",
      " #   Column  Non-Null Count  Dtype \n",
      "---  ------  --------------  ----- \n",
      " 0   메뉴      7 non-null      object\n",
      " 1   가격      7 non-null      int64 \n",
      " 2   칼로리     7 non-null      object\n",
      "dtypes: int64(1), object(2)\n",
      "memory usage: 296.0+ bytes\n"
     ]
    }
   ],
   "source": [
    "df['가격'] = df['가격'].astype(\"int64\")\n",
    "df.info()"
   ]
  },
  {
   "cell_type": "code",
   "execution_count": 215,
   "metadata": {},
   "outputs": [
    {
     "name": "stdout",
     "output_type": "stream",
     "text": [
      "<class 'pandas.core.frame.DataFrame'>\n",
      "RangeIndex: 7 entries, 0 to 6\n",
      "Data columns (total 3 columns):\n",
      " #   Column  Non-Null Count  Dtype \n",
      "---  ------  --------------  ----- \n",
      " 0   메뉴      7 non-null      object\n",
      " 1   가격      7 non-null      int64 \n",
      " 2   칼로리     7 non-null      int64 \n",
      "dtypes: int64(2), object(1)\n",
      "memory usage: 296.0+ bytes\n"
     ]
    }
   ],
   "source": [
    "df['칼로리'] = df['칼로리'].astype(\"int64\")\n",
    "df.info()"
   ]
  },
  {
   "cell_type": "code",
   "execution_count": 216,
   "metadata": {},
   "outputs": [],
   "source": [
    "df.to_csv('cafe.csv')"
   ]
  },
  {
   "cell_type": "code",
   "execution_count": 217,
   "metadata": {},
   "outputs": [
    {
     "data": {
      "text/html": [
       "<div>\n",
       "<style scoped>\n",
       "    .dataframe tbody tr th:only-of-type {\n",
       "        vertical-align: middle;\n",
       "    }\n",
       "\n",
       "    .dataframe tbody tr th {\n",
       "        vertical-align: top;\n",
       "    }\n",
       "\n",
       "    .dataframe thead th {\n",
       "        text-align: right;\n",
       "    }\n",
       "</style>\n",
       "<table border=\"1\" class=\"dataframe\">\n",
       "  <thead>\n",
       "    <tr style=\"text-align: right;\">\n",
       "      <th></th>\n",
       "      <th>메뉴</th>\n",
       "      <th>가격</th>\n",
       "      <th>칼로리</th>\n",
       "    </tr>\n",
       "  </thead>\n",
       "  <tbody>\n",
       "    <tr>\n",
       "      <th>0</th>\n",
       "      <td>아메리카노</td>\n",
       "      <td>4500</td>\n",
       "      <td>10</td>\n",
       "    </tr>\n",
       "    <tr>\n",
       "      <th>1</th>\n",
       "      <td>카페라떼</td>\n",
       "      <td>5000</td>\n",
       "      <td>110</td>\n",
       "    </tr>\n",
       "    <tr>\n",
       "      <th>2</th>\n",
       "      <td>카페모카</td>\n",
       "      <td>5500</td>\n",
       "      <td>250</td>\n",
       "    </tr>\n",
       "    <tr>\n",
       "      <th>3</th>\n",
       "      <td>카푸치노</td>\n",
       "      <td>5000</td>\n",
       "      <td>110</td>\n",
       "    </tr>\n",
       "    <tr>\n",
       "      <th>4</th>\n",
       "      <td>에스프레소</td>\n",
       "      <td>4000</td>\n",
       "      <td>20</td>\n",
       "    </tr>\n",
       "    <tr>\n",
       "      <th>5</th>\n",
       "      <td>밀크티</td>\n",
       "      <td>5900</td>\n",
       "      <td>210</td>\n",
       "    </tr>\n",
       "    <tr>\n",
       "      <th>6</th>\n",
       "      <td>녹차</td>\n",
       "      <td>5300</td>\n",
       "      <td>0</td>\n",
       "    </tr>\n",
       "  </tbody>\n",
       "</table>\n",
       "</div>"
      ],
      "text/plain": [
       "      메뉴    가격  칼로리\n",
       "0  아메리카노  4500   10\n",
       "1   카페라떼  5000  110\n",
       "2   카페모카  5500  250\n",
       "3   카푸치노  5000  110\n",
       "4  에스프레소  4000   20\n",
       "5    밀크티  5900  210\n",
       "6     녹차  5300    0"
      ]
     },
     "execution_count": 217,
     "metadata": {},
     "output_type": "execute_result"
    }
   ],
   "source": [
    "df = pd.read_csv('cafe.csv', index_col=0)\n",
    "df"
   ]
  },
  {
   "cell_type": "code",
   "execution_count": 218,
   "metadata": {},
   "outputs": [
    {
     "data": {
      "text/html": [
       "<div>\n",
       "<style scoped>\n",
       "    .dataframe tbody tr th:only-of-type {\n",
       "        vertical-align: middle;\n",
       "    }\n",
       "\n",
       "    .dataframe tbody tr th {\n",
       "        vertical-align: top;\n",
       "    }\n",
       "\n",
       "    .dataframe thead th {\n",
       "        text-align: right;\n",
       "    }\n",
       "</style>\n",
       "<table border=\"1\" class=\"dataframe\">\n",
       "  <thead>\n",
       "    <tr style=\"text-align: right;\">\n",
       "      <th></th>\n",
       "      <th>메뉴</th>\n",
       "      <th>가격</th>\n",
       "      <th>칼로리</th>\n",
       "      <th>new</th>\n",
       "    </tr>\n",
       "  </thead>\n",
       "  <tbody>\n",
       "    <tr>\n",
       "      <th>0</th>\n",
       "      <td>아메리카노</td>\n",
       "      <td>4500</td>\n",
       "      <td>10</td>\n",
       "      <td>0</td>\n",
       "    </tr>\n",
       "    <tr>\n",
       "      <th>1</th>\n",
       "      <td>카페라떼</td>\n",
       "      <td>5000</td>\n",
       "      <td>110</td>\n",
       "      <td>0</td>\n",
       "    </tr>\n",
       "    <tr>\n",
       "      <th>2</th>\n",
       "      <td>카페모카</td>\n",
       "      <td>5500</td>\n",
       "      <td>250</td>\n",
       "      <td>0</td>\n",
       "    </tr>\n",
       "    <tr>\n",
       "      <th>3</th>\n",
       "      <td>카푸치노</td>\n",
       "      <td>5000</td>\n",
       "      <td>110</td>\n",
       "      <td>0</td>\n",
       "    </tr>\n",
       "    <tr>\n",
       "      <th>4</th>\n",
       "      <td>에스프레소</td>\n",
       "      <td>4000</td>\n",
       "      <td>20</td>\n",
       "      <td>0</td>\n",
       "    </tr>\n",
       "    <tr>\n",
       "      <th>5</th>\n",
       "      <td>밀크티</td>\n",
       "      <td>5900</td>\n",
       "      <td>210</td>\n",
       "      <td>0</td>\n",
       "    </tr>\n",
       "    <tr>\n",
       "      <th>6</th>\n",
       "      <td>녹차</td>\n",
       "      <td>5300</td>\n",
       "      <td>0</td>\n",
       "      <td>0</td>\n",
       "    </tr>\n",
       "  </tbody>\n",
       "</table>\n",
       "</div>"
      ],
      "text/plain": [
       "      메뉴    가격  칼로리  new\n",
       "0  아메리카노  4500   10    0\n",
       "1   카페라떼  5000  110    0\n",
       "2   카페모카  5500  250    0\n",
       "3   카푸치노  5000  110    0\n",
       "4  에스프레소  4000   20    0\n",
       "5    밀크티  5900  210    0\n",
       "6     녹차  5300    0    0"
      ]
     },
     "execution_count": 218,
     "metadata": {},
     "output_type": "execute_result"
    }
   ],
   "source": [
    "df['new'] = 0\n",
    "df"
   ]
  },
  {
   "cell_type": "code",
   "execution_count": 219,
   "metadata": {},
   "outputs": [
    {
     "data": {
      "text/html": [
       "<div>\n",
       "<style scoped>\n",
       "    .dataframe tbody tr th:only-of-type {\n",
       "        vertical-align: middle;\n",
       "    }\n",
       "\n",
       "    .dataframe tbody tr th {\n",
       "        vertical-align: top;\n",
       "    }\n",
       "\n",
       "    .dataframe thead th {\n",
       "        text-align: right;\n",
       "    }\n",
       "</style>\n",
       "<table border=\"1\" class=\"dataframe\">\n",
       "  <thead>\n",
       "    <tr style=\"text-align: right;\">\n",
       "      <th></th>\n",
       "      <th>메뉴</th>\n",
       "      <th>가격</th>\n",
       "      <th>칼로리</th>\n",
       "      <th>new</th>\n",
       "      <th>할인가</th>\n",
       "    </tr>\n",
       "  </thead>\n",
       "  <tbody>\n",
       "    <tr>\n",
       "      <th>0</th>\n",
       "      <td>아메리카노</td>\n",
       "      <td>4500</td>\n",
       "      <td>10</td>\n",
       "      <td>0</td>\n",
       "      <td>3600.0</td>\n",
       "    </tr>\n",
       "    <tr>\n",
       "      <th>1</th>\n",
       "      <td>카페라떼</td>\n",
       "      <td>5000</td>\n",
       "      <td>110</td>\n",
       "      <td>0</td>\n",
       "      <td>4000.0</td>\n",
       "    </tr>\n",
       "    <tr>\n",
       "      <th>2</th>\n",
       "      <td>카페모카</td>\n",
       "      <td>5500</td>\n",
       "      <td>250</td>\n",
       "      <td>0</td>\n",
       "      <td>4400.0</td>\n",
       "    </tr>\n",
       "    <tr>\n",
       "      <th>3</th>\n",
       "      <td>카푸치노</td>\n",
       "      <td>5000</td>\n",
       "      <td>110</td>\n",
       "      <td>0</td>\n",
       "      <td>4000.0</td>\n",
       "    </tr>\n",
       "    <tr>\n",
       "      <th>4</th>\n",
       "      <td>에스프레소</td>\n",
       "      <td>4000</td>\n",
       "      <td>20</td>\n",
       "      <td>0</td>\n",
       "      <td>3200.0</td>\n",
       "    </tr>\n",
       "    <tr>\n",
       "      <th>5</th>\n",
       "      <td>밀크티</td>\n",
       "      <td>5900</td>\n",
       "      <td>210</td>\n",
       "      <td>0</td>\n",
       "      <td>4720.0</td>\n",
       "    </tr>\n",
       "    <tr>\n",
       "      <th>6</th>\n",
       "      <td>녹차</td>\n",
       "      <td>5300</td>\n",
       "      <td>0</td>\n",
       "      <td>0</td>\n",
       "      <td>4240.0</td>\n",
       "    </tr>\n",
       "  </tbody>\n",
       "</table>\n",
       "</div>"
      ],
      "text/plain": [
       "      메뉴    가격  칼로리  new     할인가\n",
       "0  아메리카노  4500   10    0  3600.0\n",
       "1   카페라떼  5000  110    0  4000.0\n",
       "2   카페모카  5500  250    0  4400.0\n",
       "3   카푸치노  5000  110    0  4000.0\n",
       "4  에스프레소  4000   20    0  3200.0\n",
       "5    밀크티  5900  210    0  4720.0\n",
       "6     녹차  5300    0    0  4240.0"
      ]
     },
     "execution_count": 219,
     "metadata": {},
     "output_type": "execute_result"
    }
   ],
   "source": [
    "discount = 0.2\n",
    "df['할인가'] = df['가격']*(1-discount)\n",
    "df"
   ]
  },
  {
   "cell_type": "code",
   "execution_count": 220,
   "metadata": {},
   "outputs": [
    {
     "data": {
      "text/html": [
       "<div>\n",
       "<style scoped>\n",
       "    .dataframe tbody tr th:only-of-type {\n",
       "        vertical-align: middle;\n",
       "    }\n",
       "\n",
       "    .dataframe tbody tr th {\n",
       "        vertical-align: top;\n",
       "    }\n",
       "\n",
       "    .dataframe thead th {\n",
       "        text-align: right;\n",
       "    }\n",
       "</style>\n",
       "<table border=\"1\" class=\"dataframe\">\n",
       "  <thead>\n",
       "    <tr style=\"text-align: right;\">\n",
       "      <th></th>\n",
       "      <th>메뉴</th>\n",
       "      <th>가격</th>\n",
       "      <th>칼로리</th>\n",
       "      <th>new</th>\n",
       "      <th>할인가</th>\n",
       "    </tr>\n",
       "  </thead>\n",
       "  <tbody>\n",
       "    <tr>\n",
       "      <th>0</th>\n",
       "      <td>아메리카노</td>\n",
       "      <td>4500</td>\n",
       "      <td>10</td>\n",
       "      <td>0</td>\n",
       "      <td>3600.0</td>\n",
       "    </tr>\n",
       "    <tr>\n",
       "      <th>2</th>\n",
       "      <td>카페모카</td>\n",
       "      <td>5500</td>\n",
       "      <td>250</td>\n",
       "      <td>0</td>\n",
       "      <td>4400.0</td>\n",
       "    </tr>\n",
       "    <tr>\n",
       "      <th>3</th>\n",
       "      <td>카푸치노</td>\n",
       "      <td>5000</td>\n",
       "      <td>110</td>\n",
       "      <td>0</td>\n",
       "      <td>4000.0</td>\n",
       "    </tr>\n",
       "    <tr>\n",
       "      <th>4</th>\n",
       "      <td>에스프레소</td>\n",
       "      <td>4000</td>\n",
       "      <td>20</td>\n",
       "      <td>0</td>\n",
       "      <td>3200.0</td>\n",
       "    </tr>\n",
       "    <tr>\n",
       "      <th>5</th>\n",
       "      <td>밀크티</td>\n",
       "      <td>5900</td>\n",
       "      <td>210</td>\n",
       "      <td>0</td>\n",
       "      <td>4720.0</td>\n",
       "    </tr>\n",
       "    <tr>\n",
       "      <th>6</th>\n",
       "      <td>녹차</td>\n",
       "      <td>5300</td>\n",
       "      <td>0</td>\n",
       "      <td>0</td>\n",
       "      <td>4240.0</td>\n",
       "    </tr>\n",
       "  </tbody>\n",
       "</table>\n",
       "</div>"
      ],
      "text/plain": [
       "      메뉴    가격  칼로리  new     할인가\n",
       "0  아메리카노  4500   10    0  3600.0\n",
       "2   카페모카  5500  250    0  4400.0\n",
       "3   카푸치노  5000  110    0  4000.0\n",
       "4  에스프레소  4000   20    0  3200.0\n",
       "5    밀크티  5900  210    0  4720.0\n",
       "6     녹차  5300    0    0  4240.0"
      ]
     },
     "execution_count": 220,
     "metadata": {},
     "output_type": "execute_result"
    }
   ],
   "source": [
    "# 행 = 0\n",
    "# 열 = 1\n",
    "\n",
    "df.drop(1, axis=0)"
   ]
  },
  {
   "cell_type": "code",
   "execution_count": 221,
   "metadata": {},
   "outputs": [
    {
     "data": {
      "text/html": [
       "<div>\n",
       "<style scoped>\n",
       "    .dataframe tbody tr th:only-of-type {\n",
       "        vertical-align: middle;\n",
       "    }\n",
       "\n",
       "    .dataframe tbody tr th {\n",
       "        vertical-align: top;\n",
       "    }\n",
       "\n",
       "    .dataframe thead th {\n",
       "        text-align: right;\n",
       "    }\n",
       "</style>\n",
       "<table border=\"1\" class=\"dataframe\">\n",
       "  <thead>\n",
       "    <tr style=\"text-align: right;\">\n",
       "      <th></th>\n",
       "      <th>가격</th>\n",
       "      <th>칼로리</th>\n",
       "      <th>new</th>\n",
       "      <th>할인가</th>\n",
       "    </tr>\n",
       "  </thead>\n",
       "  <tbody>\n",
       "    <tr>\n",
       "      <th>0</th>\n",
       "      <td>4500</td>\n",
       "      <td>10</td>\n",
       "      <td>0</td>\n",
       "      <td>3600.0</td>\n",
       "    </tr>\n",
       "    <tr>\n",
       "      <th>1</th>\n",
       "      <td>5000</td>\n",
       "      <td>110</td>\n",
       "      <td>0</td>\n",
       "      <td>4000.0</td>\n",
       "    </tr>\n",
       "    <tr>\n",
       "      <th>2</th>\n",
       "      <td>5500</td>\n",
       "      <td>250</td>\n",
       "      <td>0</td>\n",
       "      <td>4400.0</td>\n",
       "    </tr>\n",
       "    <tr>\n",
       "      <th>3</th>\n",
       "      <td>5000</td>\n",
       "      <td>110</td>\n",
       "      <td>0</td>\n",
       "      <td>4000.0</td>\n",
       "    </tr>\n",
       "    <tr>\n",
       "      <th>4</th>\n",
       "      <td>4000</td>\n",
       "      <td>20</td>\n",
       "      <td>0</td>\n",
       "      <td>3200.0</td>\n",
       "    </tr>\n",
       "    <tr>\n",
       "      <th>5</th>\n",
       "      <td>5900</td>\n",
       "      <td>210</td>\n",
       "      <td>0</td>\n",
       "      <td>4720.0</td>\n",
       "    </tr>\n",
       "    <tr>\n",
       "      <th>6</th>\n",
       "      <td>5300</td>\n",
       "      <td>0</td>\n",
       "      <td>0</td>\n",
       "      <td>4240.0</td>\n",
       "    </tr>\n",
       "  </tbody>\n",
       "</table>\n",
       "</div>"
      ],
      "text/plain": [
       "     가격  칼로리  new     할인가\n",
       "0  4500   10    0  3600.0\n",
       "1  5000  110    0  4000.0\n",
       "2  5500  250    0  4400.0\n",
       "3  5000  110    0  4000.0\n",
       "4  4000   20    0  3200.0\n",
       "5  5900  210    0  4720.0\n",
       "6  5300    0    0  4240.0"
      ]
     },
     "execution_count": 221,
     "metadata": {},
     "output_type": "execute_result"
    }
   ],
   "source": [
    "df.drop('메뉴', axis=1)"
   ]
  },
  {
   "cell_type": "code",
   "execution_count": 222,
   "metadata": {},
   "outputs": [
    {
     "data": {
      "text/html": [
       "<div>\n",
       "<style scoped>\n",
       "    .dataframe tbody tr th:only-of-type {\n",
       "        vertical-align: middle;\n",
       "    }\n",
       "\n",
       "    .dataframe tbody tr th {\n",
       "        vertical-align: top;\n",
       "    }\n",
       "\n",
       "    .dataframe thead th {\n",
       "        text-align: right;\n",
       "    }\n",
       "</style>\n",
       "<table border=\"1\" class=\"dataframe\">\n",
       "  <thead>\n",
       "    <tr style=\"text-align: right;\">\n",
       "      <th></th>\n",
       "      <th>메뉴</th>\n",
       "      <th>가격</th>\n",
       "      <th>칼로리</th>\n",
       "    </tr>\n",
       "  </thead>\n",
       "  <tbody>\n",
       "    <tr>\n",
       "      <th>0</th>\n",
       "      <td>아메리카노</td>\n",
       "      <td>4500</td>\n",
       "      <td>10</td>\n",
       "    </tr>\n",
       "    <tr>\n",
       "      <th>1</th>\n",
       "      <td>카페라떼</td>\n",
       "      <td>5000</td>\n",
       "      <td>110</td>\n",
       "    </tr>\n",
       "    <tr>\n",
       "      <th>2</th>\n",
       "      <td>카페모카</td>\n",
       "      <td>5500</td>\n",
       "      <td>250</td>\n",
       "    </tr>\n",
       "  </tbody>\n",
       "</table>\n",
       "</div>"
      ],
      "text/plain": [
       "      메뉴    가격  칼로리\n",
       "0  아메리카노  4500   10\n",
       "1   카페라떼  5000  110\n",
       "2   카페모카  5500  250"
      ]
     },
     "execution_count": 222,
     "metadata": {},
     "output_type": "execute_result"
    }
   ],
   "source": [
    "df = pd.read_csv('cafe.csv', index_col=0)\n",
    "df.head(3)"
   ]
  },
  {
   "cell_type": "code",
   "execution_count": 223,
   "metadata": {},
   "outputs": [
    {
     "data": {
      "text/plain": [
       "메뉴     아메리카노\n",
       "가격      4500\n",
       "칼로리       10\n",
       "Name: 0, dtype: object"
      ]
     },
     "execution_count": 223,
     "metadata": {},
     "output_type": "execute_result"
    }
   ],
   "source": [
    "df.loc[0]"
   ]
  },
  {
   "cell_type": "code",
   "execution_count": 224,
   "metadata": {},
   "outputs": [
    {
     "data": {
      "text/plain": [
       "5000"
      ]
     },
     "execution_count": 224,
     "metadata": {},
     "output_type": "execute_result"
    }
   ],
   "source": [
    "df.loc[1, '가격']"
   ]
  },
  {
   "cell_type": "code",
   "execution_count": 225,
   "metadata": {},
   "outputs": [
    {
     "data": {
      "text/plain": [
       "0     10\n",
       "1    110\n",
       "2    250\n",
       "3    110\n",
       "4     20\n",
       "5    210\n",
       "6      0\n",
       "Name: 칼로리, dtype: int64"
      ]
     },
     "execution_count": 225,
     "metadata": {},
     "output_type": "execute_result"
    }
   ],
   "source": [
    "df.loc[:, '칼로리']"
   ]
  },
  {
   "cell_type": "code",
   "execution_count": 226,
   "metadata": {},
   "outputs": [
    {
     "data": {
      "text/plain": [
       "가격     5000\n",
       "칼로리     110\n",
       "Name: 1, dtype: object"
      ]
     },
     "execution_count": 226,
     "metadata": {},
     "output_type": "execute_result"
    }
   ],
   "source": [
    "df.loc[1, '가격':'칼로리']"
   ]
  },
  {
   "cell_type": "code",
   "execution_count": 227,
   "metadata": {},
   "outputs": [
    {
     "data": {
      "text/plain": [
       "메뉴     카페라떼\n",
       "칼로리     110\n",
       "Name: 1, dtype: object"
      ]
     },
     "execution_count": 227,
     "metadata": {},
     "output_type": "execute_result"
    }
   ],
   "source": [
    "df.loc[1, ['메뉴','칼로리']]"
   ]
  },
  {
   "cell_type": "code",
   "execution_count": 228,
   "metadata": {},
   "outputs": [
    {
     "data": {
      "text/html": [
       "<div>\n",
       "<style scoped>\n",
       "    .dataframe tbody tr th:only-of-type {\n",
       "        vertical-align: middle;\n",
       "    }\n",
       "\n",
       "    .dataframe tbody tr th {\n",
       "        vertical-align: top;\n",
       "    }\n",
       "\n",
       "    .dataframe thead th {\n",
       "        text-align: right;\n",
       "    }\n",
       "</style>\n",
       "<table border=\"1\" class=\"dataframe\">\n",
       "  <thead>\n",
       "    <tr style=\"text-align: right;\">\n",
       "      <th></th>\n",
       "      <th>메뉴</th>\n",
       "      <th>칼로리</th>\n",
       "    </tr>\n",
       "  </thead>\n",
       "  <tbody>\n",
       "    <tr>\n",
       "      <th>1</th>\n",
       "      <td>카페라떼</td>\n",
       "      <td>110</td>\n",
       "    </tr>\n",
       "    <tr>\n",
       "      <th>2</th>\n",
       "      <td>카페모카</td>\n",
       "      <td>250</td>\n",
       "    </tr>\n",
       "    <tr>\n",
       "      <th>3</th>\n",
       "      <td>카푸치노</td>\n",
       "      <td>110</td>\n",
       "    </tr>\n",
       "  </tbody>\n",
       "</table>\n",
       "</div>"
      ],
      "text/plain": [
       "     메뉴  칼로리\n",
       "1  카페라떼  110\n",
       "2  카페모카  250\n",
       "3  카푸치노  110"
      ]
     },
     "execution_count": 228,
     "metadata": {},
     "output_type": "execute_result"
    }
   ],
   "source": [
    "df.loc[1:3, ['메뉴','칼로리']]"
   ]
  },
  {
   "cell_type": "code",
   "execution_count": 229,
   "metadata": {},
   "outputs": [
    {
     "data": {
      "text/plain": [
       "메뉴     카페라떼\n",
       "가격     5000\n",
       "칼로리     110\n",
       "Name: 1, dtype: object"
      ]
     },
     "execution_count": 229,
     "metadata": {},
     "output_type": "execute_result"
    }
   ],
   "source": [
    "df.drop(0, axis=0, inplace=True)\n",
    "df.iloc[0]\n",
    "# df.loc[0]"
   ]
  },
  {
   "cell_type": "code",
   "execution_count": 230,
   "metadata": {},
   "outputs": [
    {
     "data": {
      "text/html": [
       "<div>\n",
       "<style scoped>\n",
       "    .dataframe tbody tr th:only-of-type {\n",
       "        vertical-align: middle;\n",
       "    }\n",
       "\n",
       "    .dataframe tbody tr th {\n",
       "        vertical-align: top;\n",
       "    }\n",
       "\n",
       "    .dataframe thead th {\n",
       "        text-align: right;\n",
       "    }\n",
       "</style>\n",
       "<table border=\"1\" class=\"dataframe\">\n",
       "  <thead>\n",
       "    <tr style=\"text-align: right;\">\n",
       "      <th></th>\n",
       "      <th>메뉴</th>\n",
       "      <th>가격</th>\n",
       "      <th>칼로리</th>\n",
       "    </tr>\n",
       "  </thead>\n",
       "  <tbody>\n",
       "    <tr>\n",
       "      <th>1</th>\n",
       "      <td>카페라떼</td>\n",
       "      <td>5000</td>\n",
       "      <td>110</td>\n",
       "    </tr>\n",
       "    <tr>\n",
       "      <th>2</th>\n",
       "      <td>카페모카</td>\n",
       "      <td>5500</td>\n",
       "      <td>250</td>\n",
       "    </tr>\n",
       "    <tr>\n",
       "      <th>3</th>\n",
       "      <td>카푸치노</td>\n",
       "      <td>5000</td>\n",
       "      <td>110</td>\n",
       "    </tr>\n",
       "    <tr>\n",
       "      <th>4</th>\n",
       "      <td>에스프레소</td>\n",
       "      <td>4000</td>\n",
       "      <td>20</td>\n",
       "    </tr>\n",
       "    <tr>\n",
       "      <th>5</th>\n",
       "      <td>밀크티</td>\n",
       "      <td>5900</td>\n",
       "      <td>210</td>\n",
       "    </tr>\n",
       "    <tr>\n",
       "      <th>6</th>\n",
       "      <td>녹차</td>\n",
       "      <td>5300</td>\n",
       "      <td>0</td>\n",
       "    </tr>\n",
       "  </tbody>\n",
       "</table>\n",
       "</div>"
      ],
      "text/plain": [
       "      메뉴    가격  칼로리\n",
       "1   카페라떼  5000  110\n",
       "2   카페모카  5500  250\n",
       "3   카푸치노  5000  110\n",
       "4  에스프레소  4000   20\n",
       "5    밀크티  5900  210\n",
       "6     녹차  5300    0"
      ]
     },
     "execution_count": 230,
     "metadata": {},
     "output_type": "execute_result"
    }
   ],
   "source": [
    "df"
   ]
  },
  {
   "cell_type": "code",
   "execution_count": 231,
   "metadata": {},
   "outputs": [
    {
     "data": {
      "text/plain": [
       "1    5000\n",
       "2    5500\n",
       "3    5000\n",
       "4    4000\n",
       "5    5900\n",
       "6    5300\n",
       "Name: 가격, dtype: int64"
      ]
     },
     "execution_count": 231,
     "metadata": {},
     "output_type": "execute_result"
    }
   ],
   "source": [
    "df.iloc[:,1]"
   ]
  },
  {
   "cell_type": "code",
   "execution_count": 232,
   "metadata": {},
   "outputs": [
    {
     "data": {
      "text/html": [
       "<div>\n",
       "<style scoped>\n",
       "    .dataframe tbody tr th:only-of-type {\n",
       "        vertical-align: middle;\n",
       "    }\n",
       "\n",
       "    .dataframe tbody tr th {\n",
       "        vertical-align: top;\n",
       "    }\n",
       "\n",
       "    .dataframe thead th {\n",
       "        text-align: right;\n",
       "    }\n",
       "</style>\n",
       "<table border=\"1\" class=\"dataframe\">\n",
       "  <thead>\n",
       "    <tr style=\"text-align: right;\">\n",
       "      <th></th>\n",
       "      <th>메뉴</th>\n",
       "      <th>가격</th>\n",
       "      <th>칼로리</th>\n",
       "    </tr>\n",
       "  </thead>\n",
       "  <tbody>\n",
       "    <tr>\n",
       "      <th>0</th>\n",
       "      <td>아메리카노</td>\n",
       "      <td>4500</td>\n",
       "      <td>10</td>\n",
       "    </tr>\n",
       "    <tr>\n",
       "      <th>1</th>\n",
       "      <td>카페라떼</td>\n",
       "      <td>5000</td>\n",
       "      <td>110</td>\n",
       "    </tr>\n",
       "    <tr>\n",
       "      <th>2</th>\n",
       "      <td>카페모카</td>\n",
       "      <td>5500</td>\n",
       "      <td>250</td>\n",
       "    </tr>\n",
       "    <tr>\n",
       "      <th>3</th>\n",
       "      <td>카푸치노</td>\n",
       "      <td>5000</td>\n",
       "      <td>110</td>\n",
       "    </tr>\n",
       "    <tr>\n",
       "      <th>4</th>\n",
       "      <td>에스프레소</td>\n",
       "      <td>4000</td>\n",
       "      <td>20</td>\n",
       "    </tr>\n",
       "    <tr>\n",
       "      <th>5</th>\n",
       "      <td>밀크티</td>\n",
       "      <td>5900</td>\n",
       "      <td>210</td>\n",
       "    </tr>\n",
       "    <tr>\n",
       "      <th>6</th>\n",
       "      <td>녹차</td>\n",
       "      <td>5300</td>\n",
       "      <td>0</td>\n",
       "    </tr>\n",
       "  </tbody>\n",
       "</table>\n",
       "</div>"
      ],
      "text/plain": [
       "      메뉴    가격  칼로리\n",
       "0  아메리카노  4500   10\n",
       "1   카페라떼  5000  110\n",
       "2   카페모카  5500  250\n",
       "3   카푸치노  5000  110\n",
       "4  에스프레소  4000   20\n",
       "5    밀크티  5900  210\n",
       "6     녹차  5300    0"
      ]
     },
     "execution_count": 232,
     "metadata": {},
     "output_type": "execute_result"
    }
   ],
   "source": [
    "df = pd.read_csv('cafe.csv', index_col=0)\n",
    "df"
   ]
  },
  {
   "cell_type": "code",
   "execution_count": 233,
   "metadata": {},
   "outputs": [
    {
     "data": {
      "text/html": [
       "<div>\n",
       "<style scoped>\n",
       "    .dataframe tbody tr th:only-of-type {\n",
       "        vertical-align: middle;\n",
       "    }\n",
       "\n",
       "    .dataframe tbody tr th {\n",
       "        vertical-align: top;\n",
       "    }\n",
       "\n",
       "    .dataframe thead th {\n",
       "        text-align: right;\n",
       "    }\n",
       "</style>\n",
       "<table border=\"1\" class=\"dataframe\">\n",
       "  <thead>\n",
       "    <tr style=\"text-align: right;\">\n",
       "      <th></th>\n",
       "      <th>메뉴</th>\n",
       "      <th>가격</th>\n",
       "      <th>칼로리</th>\n",
       "      <th>원산지</th>\n",
       "    </tr>\n",
       "  </thead>\n",
       "  <tbody>\n",
       "    <tr>\n",
       "      <th>0</th>\n",
       "      <td>아메리카노</td>\n",
       "      <td>4500</td>\n",
       "      <td>10</td>\n",
       "      <td>NaN</td>\n",
       "    </tr>\n",
       "    <tr>\n",
       "      <th>1</th>\n",
       "      <td>카페라떼</td>\n",
       "      <td>5000</td>\n",
       "      <td>110</td>\n",
       "      <td>NaN</td>\n",
       "    </tr>\n",
       "    <tr>\n",
       "      <th>2</th>\n",
       "      <td>카페모카</td>\n",
       "      <td>5500</td>\n",
       "      <td>250</td>\n",
       "      <td>NaN</td>\n",
       "    </tr>\n",
       "    <tr>\n",
       "      <th>3</th>\n",
       "      <td>카푸치노</td>\n",
       "      <td>5000</td>\n",
       "      <td>110</td>\n",
       "      <td>NaN</td>\n",
       "    </tr>\n",
       "    <tr>\n",
       "      <th>4</th>\n",
       "      <td>에스프레소</td>\n",
       "      <td>4000</td>\n",
       "      <td>20</td>\n",
       "      <td>NaN</td>\n",
       "    </tr>\n",
       "    <tr>\n",
       "      <th>5</th>\n",
       "      <td>밀크티</td>\n",
       "      <td>5900</td>\n",
       "      <td>210</td>\n",
       "      <td>NaN</td>\n",
       "    </tr>\n",
       "    <tr>\n",
       "      <th>6</th>\n",
       "      <td>녹차</td>\n",
       "      <td>5300</td>\n",
       "      <td>0</td>\n",
       "      <td>NaN</td>\n",
       "    </tr>\n",
       "  </tbody>\n",
       "</table>\n",
       "</div>"
      ],
      "text/plain": [
       "      메뉴    가격  칼로리  원산지\n",
       "0  아메리카노  4500   10  NaN\n",
       "1   카페라떼  5000  110  NaN\n",
       "2   카페모카  5500  250  NaN\n",
       "3   카푸치노  5000  110  NaN\n",
       "4  에스프레소  4000   20  NaN\n",
       "5    밀크티  5900  210  NaN\n",
       "6     녹차  5300    0  NaN"
      ]
     },
     "execution_count": 233,
     "metadata": {},
     "output_type": "execute_result"
    }
   ],
   "source": [
    "import numpy as np\n",
    "\n",
    "df['원산지'] = np.nan\n",
    "df"
   ]
  },
  {
   "cell_type": "code",
   "execution_count": 234,
   "metadata": {},
   "outputs": [
    {
     "name": "stderr",
     "output_type": "stream",
     "text": [
      "C:\\Users\\lemon\\AppData\\Local\\Temp\\ipykernel_15280\\3359314603.py:1: FutureWarning: Setting an item of incompatible dtype is deprecated and will raise an error in a future version of pandas. Value '콜롬비아' has dtype incompatible with float64, please explicitly cast to a compatible dtype first.\n",
      "  df.loc[0, '원산지'] = '콜롬비아'\n"
     ]
    },
    {
     "data": {
      "text/html": [
       "<div>\n",
       "<style scoped>\n",
       "    .dataframe tbody tr th:only-of-type {\n",
       "        vertical-align: middle;\n",
       "    }\n",
       "\n",
       "    .dataframe tbody tr th {\n",
       "        vertical-align: top;\n",
       "    }\n",
       "\n",
       "    .dataframe thead th {\n",
       "        text-align: right;\n",
       "    }\n",
       "</style>\n",
       "<table border=\"1\" class=\"dataframe\">\n",
       "  <thead>\n",
       "    <tr style=\"text-align: right;\">\n",
       "      <th></th>\n",
       "      <th>메뉴</th>\n",
       "      <th>가격</th>\n",
       "      <th>칼로리</th>\n",
       "      <th>원산지</th>\n",
       "    </tr>\n",
       "  </thead>\n",
       "  <tbody>\n",
       "    <tr>\n",
       "      <th>0</th>\n",
       "      <td>아메리카노</td>\n",
       "      <td>4500</td>\n",
       "      <td>10</td>\n",
       "      <td>콜롬비아</td>\n",
       "    </tr>\n",
       "    <tr>\n",
       "      <th>1</th>\n",
       "      <td>카페라떼</td>\n",
       "      <td>5000</td>\n",
       "      <td>110</td>\n",
       "      <td>NaN</td>\n",
       "    </tr>\n",
       "    <tr>\n",
       "      <th>2</th>\n",
       "      <td>카페모카</td>\n",
       "      <td>5500</td>\n",
       "      <td>250</td>\n",
       "      <td>과테말라</td>\n",
       "    </tr>\n",
       "    <tr>\n",
       "      <th>3</th>\n",
       "      <td>카푸치노</td>\n",
       "      <td>5000</td>\n",
       "      <td>110</td>\n",
       "      <td>과테말라</td>\n",
       "    </tr>\n",
       "    <tr>\n",
       "      <th>4</th>\n",
       "      <td>에스프레소</td>\n",
       "      <td>4000</td>\n",
       "      <td>20</td>\n",
       "      <td>NaN</td>\n",
       "    </tr>\n",
       "    <tr>\n",
       "      <th>5</th>\n",
       "      <td>밀크티</td>\n",
       "      <td>5900</td>\n",
       "      <td>210</td>\n",
       "      <td>NaN</td>\n",
       "    </tr>\n",
       "    <tr>\n",
       "      <th>6</th>\n",
       "      <td>녹차</td>\n",
       "      <td>5300</td>\n",
       "      <td>0</td>\n",
       "      <td>NaN</td>\n",
       "    </tr>\n",
       "  </tbody>\n",
       "</table>\n",
       "</div>"
      ],
      "text/plain": [
       "      메뉴    가격  칼로리   원산지\n",
       "0  아메리카노  4500   10  콜롬비아\n",
       "1   카페라떼  5000  110   NaN\n",
       "2   카페모카  5500  250  과테말라\n",
       "3   카푸치노  5000  110  과테말라\n",
       "4  에스프레소  4000   20   NaN\n",
       "5    밀크티  5900  210   NaN\n",
       "6     녹차  5300    0   NaN"
      ]
     },
     "execution_count": 234,
     "metadata": {},
     "output_type": "execute_result"
    }
   ],
   "source": [
    "df.loc[0, '원산지'] = '콜롬비아'\n",
    "df.iloc[2:4, 3] = '과테말라'\n",
    "df"
   ]
  },
  {
   "cell_type": "code",
   "execution_count": 235,
   "metadata": {},
   "outputs": [
    {
     "data": {
      "text/html": [
       "<div>\n",
       "<style scoped>\n",
       "    .dataframe tbody tr th:only-of-type {\n",
       "        vertical-align: middle;\n",
       "    }\n",
       "\n",
       "    .dataframe tbody tr th {\n",
       "        vertical-align: top;\n",
       "    }\n",
       "\n",
       "    .dataframe thead th {\n",
       "        text-align: right;\n",
       "    }\n",
       "</style>\n",
       "<table border=\"1\" class=\"dataframe\">\n",
       "  <thead>\n",
       "    <tr style=\"text-align: right;\">\n",
       "      <th></th>\n",
       "      <th>메뉴</th>\n",
       "      <th>가격</th>\n",
       "      <th>칼로리</th>\n",
       "      <th>원산지</th>\n",
       "    </tr>\n",
       "  </thead>\n",
       "  <tbody>\n",
       "    <tr>\n",
       "      <th>5</th>\n",
       "      <td>밀크티</td>\n",
       "      <td>5900</td>\n",
       "      <td>210</td>\n",
       "      <td>NaN</td>\n",
       "    </tr>\n",
       "    <tr>\n",
       "      <th>6</th>\n",
       "      <td>녹차</td>\n",
       "      <td>5300</td>\n",
       "      <td>0</td>\n",
       "      <td>NaN</td>\n",
       "    </tr>\n",
       "    <tr>\n",
       "      <th>시즌</th>\n",
       "      <td>크리스마스라떼</td>\n",
       "      <td>6000</td>\n",
       "      <td>300</td>\n",
       "      <td>한국</td>\n",
       "    </tr>\n",
       "  </tbody>\n",
       "</table>\n",
       "</div>"
      ],
      "text/plain": [
       "         메뉴    가격  칼로리  원산지\n",
       "5       밀크티  5900  210  NaN\n",
       "6        녹차  5300    0  NaN\n",
       "시즌  크리스마스라떼  6000  300   한국"
      ]
     },
     "execution_count": 235,
     "metadata": {},
     "output_type": "execute_result"
    }
   ],
   "source": [
    "df.loc['시즌'] = ['크리스마스라떼', 6000, 300, '한국']\n",
    "df.tail(3)"
   ]
  },
  {
   "cell_type": "code",
   "execution_count": 236,
   "metadata": {},
   "outputs": [
    {
     "data": {
      "text/html": [
       "<div>\n",
       "<style scoped>\n",
       "    .dataframe tbody tr th:only-of-type {\n",
       "        vertical-align: middle;\n",
       "    }\n",
       "\n",
       "    .dataframe tbody tr th {\n",
       "        vertical-align: top;\n",
       "    }\n",
       "\n",
       "    .dataframe thead th {\n",
       "        text-align: right;\n",
       "    }\n",
       "</style>\n",
       "<table border=\"1\" class=\"dataframe\">\n",
       "  <thead>\n",
       "    <tr style=\"text-align: right;\">\n",
       "      <th></th>\n",
       "      <th>메뉴</th>\n",
       "      <th>가격</th>\n",
       "      <th>칼로리</th>\n",
       "      <th>원산지</th>\n",
       "    </tr>\n",
       "  </thead>\n",
       "  <tbody>\n",
       "    <tr>\n",
       "      <th>6</th>\n",
       "      <td>녹차</td>\n",
       "      <td>5300</td>\n",
       "      <td>0</td>\n",
       "      <td>NaN</td>\n",
       "    </tr>\n",
       "    <tr>\n",
       "      <th>시즌</th>\n",
       "      <td>크리스마스라떼</td>\n",
       "      <td>6000</td>\n",
       "      <td>300</td>\n",
       "      <td>한국</td>\n",
       "    </tr>\n",
       "    <tr>\n",
       "      <th>7</th>\n",
       "      <td>새로운 커피</td>\n",
       "      <td>2000</td>\n",
       "      <td>20</td>\n",
       "      <td>NaN</td>\n",
       "    </tr>\n",
       "  </tbody>\n",
       "</table>\n",
       "</div>"
      ],
      "text/plain": [
       "         메뉴    가격  칼로리  원산지\n",
       "6        녹차  5300    0  NaN\n",
       "시즌  크리스마스라떼  6000  300   한국\n",
       "7    새로운 커피  2000   20  NaN"
      ]
     },
     "execution_count": 236,
     "metadata": {},
     "output_type": "execute_result"
    }
   ],
   "source": [
    "df.loc[7] = {'메뉴': '새로운 커피', '가격':2000, '칼로리':20}\n",
    "df.tail(3)"
   ]
  },
  {
   "cell_type": "code",
   "execution_count": 237,
   "metadata": {},
   "outputs": [],
   "source": [
    "df.drop('시즌', axis=0, inplace=True)\n",
    "df.to_csv('cafe2.csv', index=False)"
   ]
  },
  {
   "cell_type": "code",
   "execution_count": 238,
   "metadata": {},
   "outputs": [
    {
     "data": {
      "text/html": [
       "<div>\n",
       "<style scoped>\n",
       "    .dataframe tbody tr th:only-of-type {\n",
       "        vertical-align: middle;\n",
       "    }\n",
       "\n",
       "    .dataframe tbody tr th {\n",
       "        vertical-align: top;\n",
       "    }\n",
       "\n",
       "    .dataframe thead th {\n",
       "        text-align: right;\n",
       "    }\n",
       "</style>\n",
       "<table border=\"1\" class=\"dataframe\">\n",
       "  <thead>\n",
       "    <tr style=\"text-align: right;\">\n",
       "      <th></th>\n",
       "      <th>메뉴</th>\n",
       "      <th>가격</th>\n",
       "      <th>칼로리</th>\n",
       "      <th>원산지</th>\n",
       "    </tr>\n",
       "  </thead>\n",
       "  <tbody>\n",
       "    <tr>\n",
       "      <th>0</th>\n",
       "      <td>아메리카노</td>\n",
       "      <td>4500</td>\n",
       "      <td>10</td>\n",
       "      <td>콜롬비아</td>\n",
       "    </tr>\n",
       "    <tr>\n",
       "      <th>1</th>\n",
       "      <td>카페라떼</td>\n",
       "      <td>5000</td>\n",
       "      <td>110</td>\n",
       "      <td>NaN</td>\n",
       "    </tr>\n",
       "    <tr>\n",
       "      <th>2</th>\n",
       "      <td>카페모카</td>\n",
       "      <td>5500</td>\n",
       "      <td>250</td>\n",
       "      <td>과테말라</td>\n",
       "    </tr>\n",
       "    <tr>\n",
       "      <th>3</th>\n",
       "      <td>카푸치노</td>\n",
       "      <td>5000</td>\n",
       "      <td>110</td>\n",
       "      <td>과테말라</td>\n",
       "    </tr>\n",
       "    <tr>\n",
       "      <th>4</th>\n",
       "      <td>에스프레소</td>\n",
       "      <td>4000</td>\n",
       "      <td>20</td>\n",
       "      <td>NaN</td>\n",
       "    </tr>\n",
       "    <tr>\n",
       "      <th>5</th>\n",
       "      <td>밀크티</td>\n",
       "      <td>5900</td>\n",
       "      <td>210</td>\n",
       "      <td>NaN</td>\n",
       "    </tr>\n",
       "    <tr>\n",
       "      <th>6</th>\n",
       "      <td>녹차</td>\n",
       "      <td>5300</td>\n",
       "      <td>0</td>\n",
       "      <td>NaN</td>\n",
       "    </tr>\n",
       "    <tr>\n",
       "      <th>7</th>\n",
       "      <td>새로운 커피</td>\n",
       "      <td>2000</td>\n",
       "      <td>20</td>\n",
       "      <td>NaN</td>\n",
       "    </tr>\n",
       "  </tbody>\n",
       "</table>\n",
       "</div>"
      ],
      "text/plain": [
       "       메뉴    가격  칼로리   원산지\n",
       "0   아메리카노  4500   10  콜롬비아\n",
       "1    카페라떼  5000  110   NaN\n",
       "2    카페모카  5500  250  과테말라\n",
       "3    카푸치노  5000  110  과테말라\n",
       "4   에스프레소  4000   20   NaN\n",
       "5     밀크티  5900  210   NaN\n",
       "6      녹차  5300    0   NaN\n",
       "7  새로운 커피  2000   20   NaN"
      ]
     },
     "execution_count": 238,
     "metadata": {},
     "output_type": "execute_result"
    }
   ],
   "source": [
    "df = pd.read_csv('cafe2.csv')\n",
    "df"
   ]
  },
  {
   "cell_type": "code",
   "execution_count": 239,
   "metadata": {},
   "outputs": [
    {
     "data": {
      "text/html": [
       "<div>\n",
       "<style scoped>\n",
       "    .dataframe tbody tr th:only-of-type {\n",
       "        vertical-align: middle;\n",
       "    }\n",
       "\n",
       "    .dataframe tbody tr th {\n",
       "        vertical-align: top;\n",
       "    }\n",
       "\n",
       "    .dataframe thead th {\n",
       "        text-align: right;\n",
       "    }\n",
       "</style>\n",
       "<table border=\"1\" class=\"dataframe\">\n",
       "  <thead>\n",
       "    <tr style=\"text-align: right;\">\n",
       "      <th></th>\n",
       "      <th>메뉴</th>\n",
       "      <th>가격</th>\n",
       "      <th>칼로리</th>\n",
       "      <th>원산지</th>\n",
       "    </tr>\n",
       "  </thead>\n",
       "  <tbody>\n",
       "    <tr>\n",
       "      <th>7</th>\n",
       "      <td>새로운 커피</td>\n",
       "      <td>2000</td>\n",
       "      <td>20</td>\n",
       "      <td>NaN</td>\n",
       "    </tr>\n",
       "    <tr>\n",
       "      <th>6</th>\n",
       "      <td>녹차</td>\n",
       "      <td>5300</td>\n",
       "      <td>0</td>\n",
       "      <td>NaN</td>\n",
       "    </tr>\n",
       "    <tr>\n",
       "      <th>5</th>\n",
       "      <td>밀크티</td>\n",
       "      <td>5900</td>\n",
       "      <td>210</td>\n",
       "      <td>NaN</td>\n",
       "    </tr>\n",
       "    <tr>\n",
       "      <th>4</th>\n",
       "      <td>에스프레소</td>\n",
       "      <td>4000</td>\n",
       "      <td>20</td>\n",
       "      <td>NaN</td>\n",
       "    </tr>\n",
       "    <tr>\n",
       "      <th>3</th>\n",
       "      <td>카푸치노</td>\n",
       "      <td>5000</td>\n",
       "      <td>110</td>\n",
       "      <td>과테말라</td>\n",
       "    </tr>\n",
       "    <tr>\n",
       "      <th>2</th>\n",
       "      <td>카페모카</td>\n",
       "      <td>5500</td>\n",
       "      <td>250</td>\n",
       "      <td>과테말라</td>\n",
       "    </tr>\n",
       "    <tr>\n",
       "      <th>1</th>\n",
       "      <td>카페라떼</td>\n",
       "      <td>5000</td>\n",
       "      <td>110</td>\n",
       "      <td>NaN</td>\n",
       "    </tr>\n",
       "    <tr>\n",
       "      <th>0</th>\n",
       "      <td>아메리카노</td>\n",
       "      <td>4500</td>\n",
       "      <td>10</td>\n",
       "      <td>콜롬비아</td>\n",
       "    </tr>\n",
       "  </tbody>\n",
       "</table>\n",
       "</div>"
      ],
      "text/plain": [
       "       메뉴    가격  칼로리   원산지\n",
       "7  새로운 커피  2000   20   NaN\n",
       "6      녹차  5300    0   NaN\n",
       "5     밀크티  5900  210   NaN\n",
       "4   에스프레소  4000   20   NaN\n",
       "3    카푸치노  5000  110  과테말라\n",
       "2    카페모카  5500  250  과테말라\n",
       "1    카페라떼  5000  110   NaN\n",
       "0   아메리카노  4500   10  콜롬비아"
      ]
     },
     "execution_count": 239,
     "metadata": {},
     "output_type": "execute_result"
    }
   ],
   "source": [
    "df.sort_index(ascending=False)"
   ]
  },
  {
   "cell_type": "code",
   "execution_count": 240,
   "metadata": {},
   "outputs": [
    {
     "data": {
      "text/html": [
       "<div>\n",
       "<style scoped>\n",
       "    .dataframe tbody tr th:only-of-type {\n",
       "        vertical-align: middle;\n",
       "    }\n",
       "\n",
       "    .dataframe tbody tr th {\n",
       "        vertical-align: top;\n",
       "    }\n",
       "\n",
       "    .dataframe thead th {\n",
       "        text-align: right;\n",
       "    }\n",
       "</style>\n",
       "<table border=\"1\" class=\"dataframe\">\n",
       "  <thead>\n",
       "    <tr style=\"text-align: right;\">\n",
       "      <th></th>\n",
       "      <th>메뉴</th>\n",
       "      <th>가격</th>\n",
       "      <th>칼로리</th>\n",
       "      <th>원산지</th>\n",
       "    </tr>\n",
       "  </thead>\n",
       "  <tbody>\n",
       "    <tr>\n",
       "      <th>5</th>\n",
       "      <td>밀크티</td>\n",
       "      <td>5900</td>\n",
       "      <td>210</td>\n",
       "      <td>NaN</td>\n",
       "    </tr>\n",
       "    <tr>\n",
       "      <th>2</th>\n",
       "      <td>카페모카</td>\n",
       "      <td>5500</td>\n",
       "      <td>250</td>\n",
       "      <td>과테말라</td>\n",
       "    </tr>\n",
       "    <tr>\n",
       "      <th>6</th>\n",
       "      <td>녹차</td>\n",
       "      <td>5300</td>\n",
       "      <td>0</td>\n",
       "      <td>NaN</td>\n",
       "    </tr>\n",
       "    <tr>\n",
       "      <th>1</th>\n",
       "      <td>카페라떼</td>\n",
       "      <td>5000</td>\n",
       "      <td>110</td>\n",
       "      <td>NaN</td>\n",
       "    </tr>\n",
       "    <tr>\n",
       "      <th>3</th>\n",
       "      <td>카푸치노</td>\n",
       "      <td>5000</td>\n",
       "      <td>110</td>\n",
       "      <td>과테말라</td>\n",
       "    </tr>\n",
       "    <tr>\n",
       "      <th>0</th>\n",
       "      <td>아메리카노</td>\n",
       "      <td>4500</td>\n",
       "      <td>10</td>\n",
       "      <td>콜롬비아</td>\n",
       "    </tr>\n",
       "    <tr>\n",
       "      <th>4</th>\n",
       "      <td>에스프레소</td>\n",
       "      <td>4000</td>\n",
       "      <td>20</td>\n",
       "      <td>NaN</td>\n",
       "    </tr>\n",
       "    <tr>\n",
       "      <th>7</th>\n",
       "      <td>새로운 커피</td>\n",
       "      <td>2000</td>\n",
       "      <td>20</td>\n",
       "      <td>NaN</td>\n",
       "    </tr>\n",
       "  </tbody>\n",
       "</table>\n",
       "</div>"
      ],
      "text/plain": [
       "       메뉴    가격  칼로리   원산지\n",
       "5     밀크티  5900  210   NaN\n",
       "2    카페모카  5500  250  과테말라\n",
       "6      녹차  5300    0   NaN\n",
       "1    카페라떼  5000  110   NaN\n",
       "3    카푸치노  5000  110  과테말라\n",
       "0   아메리카노  4500   10  콜롬비아\n",
       "4   에스프레소  4000   20   NaN\n",
       "7  새로운 커피  2000   20   NaN"
      ]
     },
     "execution_count": 240,
     "metadata": {},
     "output_type": "execute_result"
    }
   ],
   "source": [
    "df.sort_values(by='가격', ascending=False)"
   ]
  },
  {
   "cell_type": "code",
   "execution_count": 241,
   "metadata": {},
   "outputs": [
    {
     "data": {
      "text/html": [
       "<div>\n",
       "<style scoped>\n",
       "    .dataframe tbody tr th:only-of-type {\n",
       "        vertical-align: middle;\n",
       "    }\n",
       "\n",
       "    .dataframe tbody tr th {\n",
       "        vertical-align: top;\n",
       "    }\n",
       "\n",
       "    .dataframe thead th {\n",
       "        text-align: right;\n",
       "    }\n",
       "</style>\n",
       "<table border=\"1\" class=\"dataframe\">\n",
       "  <thead>\n",
       "    <tr style=\"text-align: right;\">\n",
       "      <th></th>\n",
       "      <th>메뉴</th>\n",
       "      <th>가격</th>\n",
       "      <th>칼로리</th>\n",
       "      <th>원산지</th>\n",
       "    </tr>\n",
       "  </thead>\n",
       "  <tbody>\n",
       "    <tr>\n",
       "      <th>5</th>\n",
       "      <td>밀크티</td>\n",
       "      <td>5900</td>\n",
       "      <td>210</td>\n",
       "      <td>NaN</td>\n",
       "    </tr>\n",
       "    <tr>\n",
       "      <th>2</th>\n",
       "      <td>카페모카</td>\n",
       "      <td>5500</td>\n",
       "      <td>250</td>\n",
       "      <td>과테말라</td>\n",
       "    </tr>\n",
       "    <tr>\n",
       "      <th>6</th>\n",
       "      <td>녹차</td>\n",
       "      <td>5300</td>\n",
       "      <td>0</td>\n",
       "      <td>NaN</td>\n",
       "    </tr>\n",
       "    <tr>\n",
       "      <th>1</th>\n",
       "      <td>카페라떼</td>\n",
       "      <td>5000</td>\n",
       "      <td>110</td>\n",
       "      <td>NaN</td>\n",
       "    </tr>\n",
       "    <tr>\n",
       "      <th>3</th>\n",
       "      <td>카푸치노</td>\n",
       "      <td>5000</td>\n",
       "      <td>110</td>\n",
       "      <td>과테말라</td>\n",
       "    </tr>\n",
       "    <tr>\n",
       "      <th>0</th>\n",
       "      <td>아메리카노</td>\n",
       "      <td>4500</td>\n",
       "      <td>10</td>\n",
       "      <td>콜롬비아</td>\n",
       "    </tr>\n",
       "    <tr>\n",
       "      <th>4</th>\n",
       "      <td>에스프레소</td>\n",
       "      <td>4000</td>\n",
       "      <td>20</td>\n",
       "      <td>NaN</td>\n",
       "    </tr>\n",
       "    <tr>\n",
       "      <th>7</th>\n",
       "      <td>새로운 커피</td>\n",
       "      <td>2000</td>\n",
       "      <td>20</td>\n",
       "      <td>NaN</td>\n",
       "    </tr>\n",
       "  </tbody>\n",
       "</table>\n",
       "</div>"
      ],
      "text/plain": [
       "       메뉴    가격  칼로리   원산지\n",
       "5     밀크티  5900  210   NaN\n",
       "2    카페모카  5500  250  과테말라\n",
       "6      녹차  5300    0   NaN\n",
       "1    카페라떼  5000  110   NaN\n",
       "3    카푸치노  5000  110  과테말라\n",
       "0   아메리카노  4500   10  콜롬비아\n",
       "4   에스프레소  4000   20   NaN\n",
       "7  새로운 커피  2000   20   NaN"
      ]
     },
     "execution_count": 241,
     "metadata": {},
     "output_type": "execute_result"
    }
   ],
   "source": [
    "df.sort_values(by=['가격', '메뉴'], ascending=[False, True], inplace=True)\n",
    "df"
   ]
  },
  {
   "cell_type": "code",
   "execution_count": 242,
   "metadata": {},
   "outputs": [
    {
     "data": {
      "text/html": [
       "<div>\n",
       "<style scoped>\n",
       "    .dataframe tbody tr th:only-of-type {\n",
       "        vertical-align: middle;\n",
       "    }\n",
       "\n",
       "    .dataframe tbody tr th {\n",
       "        vertical-align: top;\n",
       "    }\n",
       "\n",
       "    .dataframe thead th {\n",
       "        text-align: right;\n",
       "    }\n",
       "</style>\n",
       "<table border=\"1\" class=\"dataframe\">\n",
       "  <thead>\n",
       "    <tr style=\"text-align: right;\">\n",
       "      <th></th>\n",
       "      <th>메뉴</th>\n",
       "      <th>가격</th>\n",
       "      <th>칼로리</th>\n",
       "      <th>원산지</th>\n",
       "    </tr>\n",
       "  </thead>\n",
       "  <tbody>\n",
       "    <tr>\n",
       "      <th>0</th>\n",
       "      <td>밀크티</td>\n",
       "      <td>5900</td>\n",
       "      <td>210</td>\n",
       "      <td>NaN</td>\n",
       "    </tr>\n",
       "    <tr>\n",
       "      <th>1</th>\n",
       "      <td>카페모카</td>\n",
       "      <td>5500</td>\n",
       "      <td>250</td>\n",
       "      <td>과테말라</td>\n",
       "    </tr>\n",
       "    <tr>\n",
       "      <th>2</th>\n",
       "      <td>녹차</td>\n",
       "      <td>5300</td>\n",
       "      <td>0</td>\n",
       "      <td>NaN</td>\n",
       "    </tr>\n",
       "    <tr>\n",
       "      <th>3</th>\n",
       "      <td>카페라떼</td>\n",
       "      <td>5000</td>\n",
       "      <td>110</td>\n",
       "      <td>NaN</td>\n",
       "    </tr>\n",
       "    <tr>\n",
       "      <th>4</th>\n",
       "      <td>카푸치노</td>\n",
       "      <td>5000</td>\n",
       "      <td>110</td>\n",
       "      <td>과테말라</td>\n",
       "    </tr>\n",
       "    <tr>\n",
       "      <th>5</th>\n",
       "      <td>아메리카노</td>\n",
       "      <td>4500</td>\n",
       "      <td>10</td>\n",
       "      <td>콜롬비아</td>\n",
       "    </tr>\n",
       "    <tr>\n",
       "      <th>6</th>\n",
       "      <td>에스프레소</td>\n",
       "      <td>4000</td>\n",
       "      <td>20</td>\n",
       "      <td>NaN</td>\n",
       "    </tr>\n",
       "    <tr>\n",
       "      <th>7</th>\n",
       "      <td>새로운 커피</td>\n",
       "      <td>2000</td>\n",
       "      <td>20</td>\n",
       "      <td>NaN</td>\n",
       "    </tr>\n",
       "  </tbody>\n",
       "</table>\n",
       "</div>"
      ],
      "text/plain": [
       "       메뉴    가격  칼로리   원산지\n",
       "0     밀크티  5900  210   NaN\n",
       "1    카페모카  5500  250  과테말라\n",
       "2      녹차  5300    0   NaN\n",
       "3    카페라떼  5000  110   NaN\n",
       "4    카푸치노  5000  110  과테말라\n",
       "5   아메리카노  4500   10  콜롬비아\n",
       "6   에스프레소  4000   20   NaN\n",
       "7  새로운 커피  2000   20   NaN"
      ]
     },
     "execution_count": 242,
     "metadata": {},
     "output_type": "execute_result"
    }
   ],
   "source": [
    "df.reset_index(drop=True, inplace=True)\n",
    "df"
   ]
  },
  {
   "cell_type": "code",
   "execution_count": 243,
   "metadata": {},
   "outputs": [
    {
     "data": {
      "text/html": [
       "<div>\n",
       "<style scoped>\n",
       "    .dataframe tbody tr th:only-of-type {\n",
       "        vertical-align: middle;\n",
       "    }\n",
       "\n",
       "    .dataframe tbody tr th {\n",
       "        vertical-align: top;\n",
       "    }\n",
       "\n",
       "    .dataframe thead th {\n",
       "        text-align: right;\n",
       "    }\n",
       "</style>\n",
       "<table border=\"1\" class=\"dataframe\">\n",
       "  <thead>\n",
       "    <tr style=\"text-align: right;\">\n",
       "      <th></th>\n",
       "      <th>메뉴</th>\n",
       "      <th>가격</th>\n",
       "      <th>칼로리</th>\n",
       "      <th>원산지</th>\n",
       "    </tr>\n",
       "  </thead>\n",
       "  <tbody>\n",
       "    <tr>\n",
       "      <th>0</th>\n",
       "      <td>아메리카노</td>\n",
       "      <td>4500</td>\n",
       "      <td>10</td>\n",
       "      <td>콜롬비아</td>\n",
       "    </tr>\n",
       "    <tr>\n",
       "      <th>1</th>\n",
       "      <td>카페라떼</td>\n",
       "      <td>5000</td>\n",
       "      <td>110</td>\n",
       "      <td>NaN</td>\n",
       "    </tr>\n",
       "    <tr>\n",
       "      <th>2</th>\n",
       "      <td>카페모카</td>\n",
       "      <td>5500</td>\n",
       "      <td>250</td>\n",
       "      <td>과테말라</td>\n",
       "    </tr>\n",
       "    <tr>\n",
       "      <th>3</th>\n",
       "      <td>카푸치노</td>\n",
       "      <td>5000</td>\n",
       "      <td>110</td>\n",
       "      <td>과테말라</td>\n",
       "    </tr>\n",
       "    <tr>\n",
       "      <th>4</th>\n",
       "      <td>에스프레소</td>\n",
       "      <td>4000</td>\n",
       "      <td>20</td>\n",
       "      <td>NaN</td>\n",
       "    </tr>\n",
       "    <tr>\n",
       "      <th>5</th>\n",
       "      <td>밀크티</td>\n",
       "      <td>5900</td>\n",
       "      <td>210</td>\n",
       "      <td>NaN</td>\n",
       "    </tr>\n",
       "    <tr>\n",
       "      <th>6</th>\n",
       "      <td>녹차</td>\n",
       "      <td>5300</td>\n",
       "      <td>0</td>\n",
       "      <td>NaN</td>\n",
       "    </tr>\n",
       "    <tr>\n",
       "      <th>7</th>\n",
       "      <td>새로운 커피</td>\n",
       "      <td>2000</td>\n",
       "      <td>20</td>\n",
       "      <td>NaN</td>\n",
       "    </tr>\n",
       "  </tbody>\n",
       "</table>\n",
       "</div>"
      ],
      "text/plain": [
       "       메뉴    가격  칼로리   원산지\n",
       "0   아메리카노  4500   10  콜롬비아\n",
       "1    카페라떼  5000  110   NaN\n",
       "2    카페모카  5500  250  과테말라\n",
       "3    카푸치노  5000  110  과테말라\n",
       "4   에스프레소  4000   20   NaN\n",
       "5     밀크티  5900  210   NaN\n",
       "6      녹차  5300    0   NaN\n",
       "7  새로운 커피  2000   20   NaN"
      ]
     },
     "execution_count": 243,
     "metadata": {},
     "output_type": "execute_result"
    }
   ],
   "source": [
    "df = pd.read_csv('cafe2.csv')\n",
    "df"
   ]
  },
  {
   "cell_type": "code",
   "execution_count": 244,
   "metadata": {},
   "outputs": [
    {
     "data": {
      "text/html": [
       "<div>\n",
       "<style scoped>\n",
       "    .dataframe tbody tr th:only-of-type {\n",
       "        vertical-align: middle;\n",
       "    }\n",
       "\n",
       "    .dataframe tbody tr th {\n",
       "        vertical-align: top;\n",
       "    }\n",
       "\n",
       "    .dataframe thead th {\n",
       "        text-align: right;\n",
       "    }\n",
       "</style>\n",
       "<table border=\"1\" class=\"dataframe\">\n",
       "  <thead>\n",
       "    <tr style=\"text-align: right;\">\n",
       "      <th></th>\n",
       "      <th>메뉴</th>\n",
       "      <th>가격</th>\n",
       "      <th>칼로리</th>\n",
       "      <th>원산지</th>\n",
       "    </tr>\n",
       "  </thead>\n",
       "  <tbody>\n",
       "    <tr>\n",
       "      <th>0</th>\n",
       "      <td>아메리카노</td>\n",
       "      <td>4500</td>\n",
       "      <td>10</td>\n",
       "      <td>콜롬비아</td>\n",
       "    </tr>\n",
       "    <tr>\n",
       "      <th>4</th>\n",
       "      <td>에스프레소</td>\n",
       "      <td>4000</td>\n",
       "      <td>20</td>\n",
       "      <td>NaN</td>\n",
       "    </tr>\n",
       "    <tr>\n",
       "      <th>6</th>\n",
       "      <td>녹차</td>\n",
       "      <td>5300</td>\n",
       "      <td>0</td>\n",
       "      <td>NaN</td>\n",
       "    </tr>\n",
       "    <tr>\n",
       "      <th>7</th>\n",
       "      <td>새로운 커피</td>\n",
       "      <td>2000</td>\n",
       "      <td>20</td>\n",
       "      <td>NaN</td>\n",
       "    </tr>\n",
       "  </tbody>\n",
       "</table>\n",
       "</div>"
      ],
      "text/plain": [
       "       메뉴    가격  칼로리   원산지\n",
       "0   아메리카노  4500   10  콜롬비아\n",
       "4   에스프레소  4000   20   NaN\n",
       "6      녹차  5300    0   NaN\n",
       "7  새로운 커피  2000   20   NaN"
      ]
     },
     "execution_count": 244,
     "metadata": {},
     "output_type": "execute_result"
    }
   ],
   "source": [
    "df[df.칼로리 < 50]"
   ]
  },
  {
   "cell_type": "code",
   "execution_count": 245,
   "metadata": {},
   "outputs": [
    {
     "data": {
      "text/html": [
       "<div>\n",
       "<style scoped>\n",
       "    .dataframe tbody tr th:only-of-type {\n",
       "        vertical-align: middle;\n",
       "    }\n",
       "\n",
       "    .dataframe tbody tr th {\n",
       "        vertical-align: top;\n",
       "    }\n",
       "\n",
       "    .dataframe thead th {\n",
       "        text-align: right;\n",
       "    }\n",
       "</style>\n",
       "<table border=\"1\" class=\"dataframe\">\n",
       "  <thead>\n",
       "    <tr style=\"text-align: right;\">\n",
       "      <th></th>\n",
       "      <th>메뉴</th>\n",
       "      <th>가격</th>\n",
       "      <th>칼로리</th>\n",
       "      <th>원산지</th>\n",
       "    </tr>\n",
       "  </thead>\n",
       "  <tbody>\n",
       "    <tr>\n",
       "      <th>1</th>\n",
       "      <td>카페라떼</td>\n",
       "      <td>5000</td>\n",
       "      <td>110</td>\n",
       "      <td>NaN</td>\n",
       "    </tr>\n",
       "    <tr>\n",
       "      <th>2</th>\n",
       "      <td>카페모카</td>\n",
       "      <td>5500</td>\n",
       "      <td>250</td>\n",
       "      <td>과테말라</td>\n",
       "    </tr>\n",
       "    <tr>\n",
       "      <th>3</th>\n",
       "      <td>카푸치노</td>\n",
       "      <td>5000</td>\n",
       "      <td>110</td>\n",
       "      <td>과테말라</td>\n",
       "    </tr>\n",
       "    <tr>\n",
       "      <th>4</th>\n",
       "      <td>에스프레소</td>\n",
       "      <td>4000</td>\n",
       "      <td>20</td>\n",
       "      <td>NaN</td>\n",
       "    </tr>\n",
       "    <tr>\n",
       "      <th>5</th>\n",
       "      <td>밀크티</td>\n",
       "      <td>5900</td>\n",
       "      <td>210</td>\n",
       "      <td>NaN</td>\n",
       "    </tr>\n",
       "    <tr>\n",
       "      <th>6</th>\n",
       "      <td>녹차</td>\n",
       "      <td>5300</td>\n",
       "      <td>0</td>\n",
       "      <td>NaN</td>\n",
       "    </tr>\n",
       "    <tr>\n",
       "      <th>7</th>\n",
       "      <td>새로운 커피</td>\n",
       "      <td>2000</td>\n",
       "      <td>20</td>\n",
       "      <td>NaN</td>\n",
       "    </tr>\n",
       "  </tbody>\n",
       "</table>\n",
       "</div>"
      ],
      "text/plain": [
       "       메뉴    가격  칼로리   원산지\n",
       "1    카페라떼  5000  110   NaN\n",
       "2    카페모카  5500  250  과테말라\n",
       "3    카푸치노  5000  110  과테말라\n",
       "4   에스프레소  4000   20   NaN\n",
       "5     밀크티  5900  210   NaN\n",
       "6      녹차  5300    0   NaN\n",
       "7  새로운 커피  2000   20   NaN"
      ]
     },
     "execution_count": 245,
     "metadata": {},
     "output_type": "execute_result"
    }
   ],
   "source": [
    "df[~df.칼로리 < 50]\n",
    "df[~(df.메뉴 == '아메리카노')]"
   ]
  },
  {
   "cell_type": "code",
   "execution_count": 246,
   "metadata": {},
   "outputs": [
    {
     "data": {
      "text/html": [
       "<div>\n",
       "<style scoped>\n",
       "    .dataframe tbody tr th:only-of-type {\n",
       "        vertical-align: middle;\n",
       "    }\n",
       "\n",
       "    .dataframe tbody tr th {\n",
       "        vertical-align: top;\n",
       "    }\n",
       "\n",
       "    .dataframe thead th {\n",
       "        text-align: right;\n",
       "    }\n",
       "</style>\n",
       "<table border=\"1\" class=\"dataframe\">\n",
       "  <thead>\n",
       "    <tr style=\"text-align: right;\">\n",
       "      <th></th>\n",
       "      <th>메뉴</th>\n",
       "      <th>가격</th>\n",
       "      <th>칼로리</th>\n",
       "      <th>원산지</th>\n",
       "    </tr>\n",
       "  </thead>\n",
       "  <tbody>\n",
       "    <tr>\n",
       "      <th>1</th>\n",
       "      <td>카페라떼</td>\n",
       "      <td>5000</td>\n",
       "      <td>110</td>\n",
       "      <td>NaN</td>\n",
       "    </tr>\n",
       "    <tr>\n",
       "      <th>2</th>\n",
       "      <td>카페모카</td>\n",
       "      <td>5500</td>\n",
       "      <td>250</td>\n",
       "      <td>과테말라</td>\n",
       "    </tr>\n",
       "    <tr>\n",
       "      <th>3</th>\n",
       "      <td>카푸치노</td>\n",
       "      <td>5000</td>\n",
       "      <td>110</td>\n",
       "      <td>과테말라</td>\n",
       "    </tr>\n",
       "    <tr>\n",
       "      <th>5</th>\n",
       "      <td>밀크티</td>\n",
       "      <td>5900</td>\n",
       "      <td>210</td>\n",
       "      <td>NaN</td>\n",
       "    </tr>\n",
       "  </tbody>\n",
       "</table>\n",
       "</div>"
      ],
      "text/plain": [
       "     메뉴    가격  칼로리   원산지\n",
       "1  카페라떼  5000  110   NaN\n",
       "2  카페모카  5500  250  과테말라\n",
       "3  카푸치노  5000  110  과테말라\n",
       "5   밀크티  5900  210   NaN"
      ]
     },
     "execution_count": 246,
     "metadata": {},
     "output_type": "execute_result"
    }
   ],
   "source": [
    "df[(df['가격']>=5000)&(df['칼로리']>100)]"
   ]
  },
  {
   "cell_type": "code",
   "execution_count": 247,
   "metadata": {},
   "outputs": [
    {
     "data": {
      "text/html": [
       "<div>\n",
       "<style scoped>\n",
       "    .dataframe tbody tr th:only-of-type {\n",
       "        vertical-align: middle;\n",
       "    }\n",
       "\n",
       "    .dataframe tbody tr th {\n",
       "        vertical-align: top;\n",
       "    }\n",
       "\n",
       "    .dataframe thead th {\n",
       "        text-align: right;\n",
       "    }\n",
       "</style>\n",
       "<table border=\"1\" class=\"dataframe\">\n",
       "  <thead>\n",
       "    <tr style=\"text-align: right;\">\n",
       "      <th></th>\n",
       "      <th>메뉴</th>\n",
       "      <th>가격</th>\n",
       "      <th>칼로리</th>\n",
       "      <th>원산지</th>\n",
       "    </tr>\n",
       "  </thead>\n",
       "  <tbody>\n",
       "    <tr>\n",
       "      <th>1</th>\n",
       "      <td>카페라떼</td>\n",
       "      <td>5000</td>\n",
       "      <td>110</td>\n",
       "      <td>NaN</td>\n",
       "    </tr>\n",
       "    <tr>\n",
       "      <th>2</th>\n",
       "      <td>카페모카</td>\n",
       "      <td>5500</td>\n",
       "      <td>250</td>\n",
       "      <td>과테말라</td>\n",
       "    </tr>\n",
       "    <tr>\n",
       "      <th>3</th>\n",
       "      <td>카푸치노</td>\n",
       "      <td>5000</td>\n",
       "      <td>110</td>\n",
       "      <td>과테말라</td>\n",
       "    </tr>\n",
       "    <tr>\n",
       "      <th>5</th>\n",
       "      <td>밀크티</td>\n",
       "      <td>5900</td>\n",
       "      <td>210</td>\n",
       "      <td>NaN</td>\n",
       "    </tr>\n",
       "    <tr>\n",
       "      <th>6</th>\n",
       "      <td>녹차</td>\n",
       "      <td>5300</td>\n",
       "      <td>0</td>\n",
       "      <td>NaN</td>\n",
       "    </tr>\n",
       "  </tbody>\n",
       "</table>\n",
       "</div>"
      ],
      "text/plain": [
       "     메뉴    가격  칼로리   원산지\n",
       "1  카페라떼  5000  110   NaN\n",
       "2  카페모카  5500  250  과테말라\n",
       "3  카푸치노  5000  110  과테말라\n",
       "5   밀크티  5900  210   NaN\n",
       "6    녹차  5300    0   NaN"
      ]
     },
     "execution_count": 247,
     "metadata": {},
     "output_type": "execute_result"
    }
   ],
   "source": [
    "cond1 = df['가격'] >= 5000\n",
    "cond2 = df['칼로리'] > 100\n",
    "df[cond1 | cond2]"
   ]
  },
  {
   "cell_type": "code",
   "execution_count": 248,
   "metadata": {},
   "outputs": [
    {
     "data": {
      "text/html": [
       "<div>\n",
       "<style scoped>\n",
       "    .dataframe tbody tr th:only-of-type {\n",
       "        vertical-align: middle;\n",
       "    }\n",
       "\n",
       "    .dataframe tbody tr th {\n",
       "        vertical-align: top;\n",
       "    }\n",
       "\n",
       "    .dataframe thead th {\n",
       "        text-align: right;\n",
       "    }\n",
       "</style>\n",
       "<table border=\"1\" class=\"dataframe\">\n",
       "  <thead>\n",
       "    <tr style=\"text-align: right;\">\n",
       "      <th></th>\n",
       "      <th>메뉴</th>\n",
       "      <th>가격</th>\n",
       "      <th>칼로리</th>\n",
       "      <th>원산지</th>\n",
       "    </tr>\n",
       "  </thead>\n",
       "  <tbody>\n",
       "    <tr>\n",
       "      <th>2</th>\n",
       "      <td>카페모카</td>\n",
       "      <td>5500</td>\n",
       "      <td>250</td>\n",
       "      <td>과테말라</td>\n",
       "    </tr>\n",
       "    <tr>\n",
       "      <th>3</th>\n",
       "      <td>카푸치노</td>\n",
       "      <td>5000</td>\n",
       "      <td>110</td>\n",
       "      <td>과테말라</td>\n",
       "    </tr>\n",
       "  </tbody>\n",
       "</table>\n",
       "</div>"
      ],
      "text/plain": [
       "     메뉴    가격  칼로리   원산지\n",
       "2  카페모카  5500  250  과테말라\n",
       "3  카푸치노  5000  110  과테말라"
      ]
     },
     "execution_count": 248,
     "metadata": {},
     "output_type": "execute_result"
    }
   ],
   "source": [
    "df[df['원산지'] == '과테말라']"
   ]
  },
  {
   "cell_type": "code",
   "execution_count": 249,
   "metadata": {},
   "outputs": [
    {
     "data": {
      "text/html": [
       "<div>\n",
       "<style scoped>\n",
       "    .dataframe tbody tr th:only-of-type {\n",
       "        vertical-align: middle;\n",
       "    }\n",
       "\n",
       "    .dataframe tbody tr th {\n",
       "        vertical-align: top;\n",
       "    }\n",
       "\n",
       "    .dataframe thead th {\n",
       "        text-align: right;\n",
       "    }\n",
       "</style>\n",
       "<table border=\"1\" class=\"dataframe\">\n",
       "  <thead>\n",
       "    <tr style=\"text-align: right;\">\n",
       "      <th></th>\n",
       "      <th>메뉴</th>\n",
       "      <th>가격</th>\n",
       "      <th>칼로리</th>\n",
       "      <th>원산지</th>\n",
       "    </tr>\n",
       "  </thead>\n",
       "  <tbody>\n",
       "    <tr>\n",
       "      <th>3</th>\n",
       "      <td>카푸치노</td>\n",
       "      <td>5000</td>\n",
       "      <td>110</td>\n",
       "      <td>과테말라</td>\n",
       "    </tr>\n",
       "  </tbody>\n",
       "</table>\n",
       "</div>"
      ],
      "text/plain": [
       "     메뉴    가격  칼로리   원산지\n",
       "3  카푸치노  5000  110  과테말라"
      ]
     },
     "execution_count": 249,
     "metadata": {},
     "output_type": "execute_result"
    }
   ],
   "source": [
    "df[(df['원산지']=='과테말라')&(df['가격']<=5000)]"
   ]
  },
  {
   "cell_type": "code",
   "execution_count": 250,
   "metadata": {},
   "outputs": [
    {
     "data": {
      "text/html": [
       "<div>\n",
       "<style scoped>\n",
       "    .dataframe tbody tr th:only-of-type {\n",
       "        vertical-align: middle;\n",
       "    }\n",
       "\n",
       "    .dataframe tbody tr th {\n",
       "        vertical-align: top;\n",
       "    }\n",
       "\n",
       "    .dataframe thead th {\n",
       "        text-align: right;\n",
       "    }\n",
       "</style>\n",
       "<table border=\"1\" class=\"dataframe\">\n",
       "  <thead>\n",
       "    <tr style=\"text-align: right;\">\n",
       "      <th></th>\n",
       "      <th>메뉴</th>\n",
       "      <th>가격</th>\n",
       "      <th>칼로리</th>\n",
       "      <th>원산지</th>\n",
       "    </tr>\n",
       "  </thead>\n",
       "  <tbody>\n",
       "    <tr>\n",
       "      <th>6</th>\n",
       "      <td>녹차</td>\n",
       "      <td>5300</td>\n",
       "      <td>0</td>\n",
       "      <td>NaN</td>\n",
       "    </tr>\n",
       "  </tbody>\n",
       "</table>\n",
       "</div>"
      ],
      "text/plain": [
       "   메뉴    가격  칼로리  원산지\n",
       "6  녹차  5300    0  NaN"
      ]
     },
     "execution_count": 250,
     "metadata": {},
     "output_type": "execute_result"
    }
   ],
   "source": [
    "df[df['메뉴'].isin(['녹차'])]"
   ]
  },
  {
   "cell_type": "code",
   "execution_count": 251,
   "metadata": {},
   "outputs": [
    {
     "data": {
      "text/plain": [
       "0    False\n",
       "1     True\n",
       "2     True\n",
       "3     True\n",
       "4    False\n",
       "5    False\n",
       "6    False\n",
       "7    False\n",
       "Name: 가격, dtype: bool"
      ]
     },
     "execution_count": 251,
     "metadata": {},
     "output_type": "execute_result"
    }
   ],
   "source": [
    "df['가격'].isin([5000, 5500])"
   ]
  },
  {
   "cell_type": "code",
   "execution_count": 252,
   "metadata": {},
   "outputs": [
    {
     "data": {
      "text/html": [
       "<div>\n",
       "<style scoped>\n",
       "    .dataframe tbody tr th:only-of-type {\n",
       "        vertical-align: middle;\n",
       "    }\n",
       "\n",
       "    .dataframe tbody tr th {\n",
       "        vertical-align: top;\n",
       "    }\n",
       "\n",
       "    .dataframe thead th {\n",
       "        text-align: right;\n",
       "    }\n",
       "</style>\n",
       "<table border=\"1\" class=\"dataframe\">\n",
       "  <thead>\n",
       "    <tr style=\"text-align: right;\">\n",
       "      <th></th>\n",
       "      <th>메뉴</th>\n",
       "      <th>가격</th>\n",
       "      <th>칼로리</th>\n",
       "      <th>원산지</th>\n",
       "    </tr>\n",
       "  </thead>\n",
       "  <tbody>\n",
       "    <tr>\n",
       "      <th>1</th>\n",
       "      <td>카페라떼</td>\n",
       "      <td>5000</td>\n",
       "      <td>110</td>\n",
       "      <td>NaN</td>\n",
       "    </tr>\n",
       "    <tr>\n",
       "      <th>3</th>\n",
       "      <td>카푸치노</td>\n",
       "      <td>5000</td>\n",
       "      <td>110</td>\n",
       "      <td>과테말라</td>\n",
       "    </tr>\n",
       "    <tr>\n",
       "      <th>6</th>\n",
       "      <td>녹차</td>\n",
       "      <td>5300</td>\n",
       "      <td>0</td>\n",
       "      <td>NaN</td>\n",
       "    </tr>\n",
       "  </tbody>\n",
       "</table>\n",
       "</div>"
      ],
      "text/plain": [
       "     메뉴    가격  칼로리   원산지\n",
       "1  카페라떼  5000  110   NaN\n",
       "3  카푸치노  5000  110  과테말라\n",
       "6    녹차  5300    0   NaN"
      ]
     },
     "execution_count": 252,
     "metadata": {},
     "output_type": "execute_result"
    }
   ],
   "source": [
    "df[df['메뉴'].isin(['녹차', '카페라떼', '카푸치노'])]"
   ]
  },
  {
   "cell_type": "code",
   "execution_count": 253,
   "metadata": {},
   "outputs": [
    {
     "data": {
      "text/html": [
       "<div>\n",
       "<style scoped>\n",
       "    .dataframe tbody tr th:only-of-type {\n",
       "        vertical-align: middle;\n",
       "    }\n",
       "\n",
       "    .dataframe tbody tr th {\n",
       "        vertical-align: top;\n",
       "    }\n",
       "\n",
       "    .dataframe thead th {\n",
       "        text-align: right;\n",
       "    }\n",
       "</style>\n",
       "<table border=\"1\" class=\"dataframe\">\n",
       "  <thead>\n",
       "    <tr style=\"text-align: right;\">\n",
       "      <th></th>\n",
       "      <th>메뉴</th>\n",
       "      <th>가격</th>\n",
       "      <th>칼로리</th>\n",
       "      <th>원산지</th>\n",
       "    </tr>\n",
       "  </thead>\n",
       "  <tbody>\n",
       "    <tr>\n",
       "      <th>0</th>\n",
       "      <td>아메리카노</td>\n",
       "      <td>4500</td>\n",
       "      <td>10</td>\n",
       "      <td>콜롬비아</td>\n",
       "    </tr>\n",
       "    <tr>\n",
       "      <th>1</th>\n",
       "      <td>카페라떼</td>\n",
       "      <td>5000</td>\n",
       "      <td>110</td>\n",
       "      <td>NaN</td>\n",
       "    </tr>\n",
       "    <tr>\n",
       "      <th>2</th>\n",
       "      <td>카페모카</td>\n",
       "      <td>5500</td>\n",
       "      <td>250</td>\n",
       "      <td>과테말라</td>\n",
       "    </tr>\n",
       "    <tr>\n",
       "      <th>3</th>\n",
       "      <td>카푸치노</td>\n",
       "      <td>5000</td>\n",
       "      <td>110</td>\n",
       "      <td>과테말라</td>\n",
       "    </tr>\n",
       "    <tr>\n",
       "      <th>4</th>\n",
       "      <td>에스프레소</td>\n",
       "      <td>4000</td>\n",
       "      <td>20</td>\n",
       "      <td>NaN</td>\n",
       "    </tr>\n",
       "    <tr>\n",
       "      <th>5</th>\n",
       "      <td>밀크티</td>\n",
       "      <td>5900</td>\n",
       "      <td>210</td>\n",
       "      <td>NaN</td>\n",
       "    </tr>\n",
       "    <tr>\n",
       "      <th>6</th>\n",
       "      <td>녹차</td>\n",
       "      <td>5300</td>\n",
       "      <td>0</td>\n",
       "      <td>NaN</td>\n",
       "    </tr>\n",
       "    <tr>\n",
       "      <th>7</th>\n",
       "      <td>새로운 커피</td>\n",
       "      <td>2000</td>\n",
       "      <td>20</td>\n",
       "      <td>NaN</td>\n",
       "    </tr>\n",
       "  </tbody>\n",
       "</table>\n",
       "</div>"
      ],
      "text/plain": [
       "       메뉴    가격  칼로리   원산지\n",
       "0   아메리카노  4500   10  콜롬비아\n",
       "1    카페라떼  5000  110   NaN\n",
       "2    카페모카  5500  250  과테말라\n",
       "3    카푸치노  5000  110  과테말라\n",
       "4   에스프레소  4000   20   NaN\n",
       "5     밀크티  5900  210   NaN\n",
       "6      녹차  5300    0   NaN\n",
       "7  새로운 커피  2000   20   NaN"
      ]
     },
     "execution_count": 253,
     "metadata": {},
     "output_type": "execute_result"
    }
   ],
   "source": [
    "df = pd.read_csv('cafe2.csv')\n",
    "df"
   ]
  },
  {
   "cell_type": "code",
   "execution_count": 254,
   "metadata": {},
   "outputs": [
    {
     "data": {
      "text/html": [
       "<div>\n",
       "<style scoped>\n",
       "    .dataframe tbody tr th:only-of-type {\n",
       "        vertical-align: middle;\n",
       "    }\n",
       "\n",
       "    .dataframe tbody tr th {\n",
       "        vertical-align: top;\n",
       "    }\n",
       "\n",
       "    .dataframe thead th {\n",
       "        text-align: right;\n",
       "    }\n",
       "</style>\n",
       "<table border=\"1\" class=\"dataframe\">\n",
       "  <thead>\n",
       "    <tr style=\"text-align: right;\">\n",
       "      <th></th>\n",
       "      <th>메뉴</th>\n",
       "      <th>가격</th>\n",
       "      <th>칼로리</th>\n",
       "      <th>원산지</th>\n",
       "    </tr>\n",
       "  </thead>\n",
       "  <tbody>\n",
       "    <tr>\n",
       "      <th>0</th>\n",
       "      <td>False</td>\n",
       "      <td>False</td>\n",
       "      <td>False</td>\n",
       "      <td>False</td>\n",
       "    </tr>\n",
       "    <tr>\n",
       "      <th>1</th>\n",
       "      <td>False</td>\n",
       "      <td>False</td>\n",
       "      <td>False</td>\n",
       "      <td>True</td>\n",
       "    </tr>\n",
       "    <tr>\n",
       "      <th>2</th>\n",
       "      <td>False</td>\n",
       "      <td>False</td>\n",
       "      <td>False</td>\n",
       "      <td>False</td>\n",
       "    </tr>\n",
       "    <tr>\n",
       "      <th>3</th>\n",
       "      <td>False</td>\n",
       "      <td>False</td>\n",
       "      <td>False</td>\n",
       "      <td>False</td>\n",
       "    </tr>\n",
       "    <tr>\n",
       "      <th>4</th>\n",
       "      <td>False</td>\n",
       "      <td>False</td>\n",
       "      <td>False</td>\n",
       "      <td>True</td>\n",
       "    </tr>\n",
       "    <tr>\n",
       "      <th>5</th>\n",
       "      <td>False</td>\n",
       "      <td>False</td>\n",
       "      <td>False</td>\n",
       "      <td>True</td>\n",
       "    </tr>\n",
       "    <tr>\n",
       "      <th>6</th>\n",
       "      <td>False</td>\n",
       "      <td>False</td>\n",
       "      <td>False</td>\n",
       "      <td>True</td>\n",
       "    </tr>\n",
       "    <tr>\n",
       "      <th>7</th>\n",
       "      <td>False</td>\n",
       "      <td>False</td>\n",
       "      <td>False</td>\n",
       "      <td>True</td>\n",
       "    </tr>\n",
       "  </tbody>\n",
       "</table>\n",
       "</div>"
      ],
      "text/plain": [
       "      메뉴     가격    칼로리    원산지\n",
       "0  False  False  False  False\n",
       "1  False  False  False   True\n",
       "2  False  False  False  False\n",
       "3  False  False  False  False\n",
       "4  False  False  False   True\n",
       "5  False  False  False   True\n",
       "6  False  False  False   True\n",
       "7  False  False  False   True"
      ]
     },
     "execution_count": 254,
     "metadata": {},
     "output_type": "execute_result"
    }
   ],
   "source": [
    "df.isnull()"
   ]
  },
  {
   "cell_type": "code",
   "execution_count": 255,
   "metadata": {},
   "outputs": [
    {
     "data": {
      "text/plain": [
       "메뉴     0\n",
       "가격     0\n",
       "칼로리    0\n",
       "원산지    5\n",
       "dtype: int64"
      ]
     },
     "execution_count": 255,
     "metadata": {},
     "output_type": "execute_result"
    }
   ],
   "source": [
    "df.isnull().sum()"
   ]
  },
  {
   "cell_type": "code",
   "execution_count": 256,
   "metadata": {},
   "outputs": [
    {
     "data": {
      "text/html": [
       "<div>\n",
       "<style scoped>\n",
       "    .dataframe tbody tr th:only-of-type {\n",
       "        vertical-align: middle;\n",
       "    }\n",
       "\n",
       "    .dataframe tbody tr th {\n",
       "        vertical-align: top;\n",
       "    }\n",
       "\n",
       "    .dataframe thead th {\n",
       "        text-align: right;\n",
       "    }\n",
       "</style>\n",
       "<table border=\"1\" class=\"dataframe\">\n",
       "  <thead>\n",
       "    <tr style=\"text-align: right;\">\n",
       "      <th></th>\n",
       "      <th>메뉴</th>\n",
       "      <th>가격</th>\n",
       "      <th>칼로리</th>\n",
       "      <th>원산지</th>\n",
       "    </tr>\n",
       "  </thead>\n",
       "  <tbody>\n",
       "    <tr>\n",
       "      <th>0</th>\n",
       "      <td>False</td>\n",
       "      <td>False</td>\n",
       "      <td>False</td>\n",
       "      <td>False</td>\n",
       "    </tr>\n",
       "    <tr>\n",
       "      <th>1</th>\n",
       "      <td>False</td>\n",
       "      <td>False</td>\n",
       "      <td>False</td>\n",
       "      <td>True</td>\n",
       "    </tr>\n",
       "    <tr>\n",
       "      <th>2</th>\n",
       "      <td>False</td>\n",
       "      <td>False</td>\n",
       "      <td>False</td>\n",
       "      <td>False</td>\n",
       "    </tr>\n",
       "    <tr>\n",
       "      <th>3</th>\n",
       "      <td>False</td>\n",
       "      <td>False</td>\n",
       "      <td>False</td>\n",
       "      <td>False</td>\n",
       "    </tr>\n",
       "    <tr>\n",
       "      <th>4</th>\n",
       "      <td>False</td>\n",
       "      <td>False</td>\n",
       "      <td>False</td>\n",
       "      <td>True</td>\n",
       "    </tr>\n",
       "    <tr>\n",
       "      <th>5</th>\n",
       "      <td>False</td>\n",
       "      <td>False</td>\n",
       "      <td>False</td>\n",
       "      <td>True</td>\n",
       "    </tr>\n",
       "    <tr>\n",
       "      <th>6</th>\n",
       "      <td>False</td>\n",
       "      <td>False</td>\n",
       "      <td>False</td>\n",
       "      <td>True</td>\n",
       "    </tr>\n",
       "    <tr>\n",
       "      <th>7</th>\n",
       "      <td>False</td>\n",
       "      <td>False</td>\n",
       "      <td>False</td>\n",
       "      <td>True</td>\n",
       "    </tr>\n",
       "  </tbody>\n",
       "</table>\n",
       "</div>"
      ],
      "text/plain": [
       "      메뉴     가격    칼로리    원산지\n",
       "0  False  False  False  False\n",
       "1  False  False  False   True\n",
       "2  False  False  False  False\n",
       "3  False  False  False  False\n",
       "4  False  False  False   True\n",
       "5  False  False  False   True\n",
       "6  False  False  False   True\n",
       "7  False  False  False   True"
      ]
     },
     "execution_count": 256,
     "metadata": {},
     "output_type": "execute_result"
    }
   ],
   "source": [
    "df.isna()"
   ]
  },
  {
   "cell_type": "code",
   "execution_count": 257,
   "metadata": {},
   "outputs": [
    {
     "data": {
      "text/plain": [
       "메뉴     0\n",
       "가격     0\n",
       "칼로리    0\n",
       "원산지    5\n",
       "dtype: int64"
      ]
     },
     "execution_count": 257,
     "metadata": {},
     "output_type": "execute_result"
    }
   ],
   "source": [
    "df.isna().sum()"
   ]
  },
  {
   "cell_type": "code",
   "execution_count": 258,
   "metadata": {},
   "outputs": [
    {
     "name": "stderr",
     "output_type": "stream",
     "text": [
      "C:\\Users\\lemon\\AppData\\Local\\Temp\\ipykernel_15280\\1314037755.py:1: FutureWarning: A value is trying to be set on a copy of a DataFrame or Series through chained assignment using an inplace method.\n",
      "The behavior will change in pandas 3.0. This inplace method will never work because the intermediate object on which we are setting values always behaves as a copy.\n",
      "\n",
      "For example, when doing 'df[col].method(value, inplace=True)', try using 'df.method({col: value}, inplace=True)' or df[col] = df[col].method(value) instead, to perform the operation inplace on the original object.\n",
      "\n",
      "\n",
      "  df['원산지'].fillna('코스타리카', inplace=True)\n"
     ]
    },
    {
     "data": {
      "text/html": [
       "<div>\n",
       "<style scoped>\n",
       "    .dataframe tbody tr th:only-of-type {\n",
       "        vertical-align: middle;\n",
       "    }\n",
       "\n",
       "    .dataframe tbody tr th {\n",
       "        vertical-align: top;\n",
       "    }\n",
       "\n",
       "    .dataframe thead th {\n",
       "        text-align: right;\n",
       "    }\n",
       "</style>\n",
       "<table border=\"1\" class=\"dataframe\">\n",
       "  <thead>\n",
       "    <tr style=\"text-align: right;\">\n",
       "      <th></th>\n",
       "      <th>메뉴</th>\n",
       "      <th>가격</th>\n",
       "      <th>칼로리</th>\n",
       "      <th>원산지</th>\n",
       "    </tr>\n",
       "  </thead>\n",
       "  <tbody>\n",
       "    <tr>\n",
       "      <th>0</th>\n",
       "      <td>아메리카노</td>\n",
       "      <td>4500</td>\n",
       "      <td>10</td>\n",
       "      <td>콜롬비아</td>\n",
       "    </tr>\n",
       "    <tr>\n",
       "      <th>1</th>\n",
       "      <td>카페라떼</td>\n",
       "      <td>5000</td>\n",
       "      <td>110</td>\n",
       "      <td>코스타리카</td>\n",
       "    </tr>\n",
       "    <tr>\n",
       "      <th>2</th>\n",
       "      <td>카페모카</td>\n",
       "      <td>5500</td>\n",
       "      <td>250</td>\n",
       "      <td>과테말라</td>\n",
       "    </tr>\n",
       "    <tr>\n",
       "      <th>3</th>\n",
       "      <td>카푸치노</td>\n",
       "      <td>5000</td>\n",
       "      <td>110</td>\n",
       "      <td>과테말라</td>\n",
       "    </tr>\n",
       "    <tr>\n",
       "      <th>4</th>\n",
       "      <td>에스프레소</td>\n",
       "      <td>4000</td>\n",
       "      <td>20</td>\n",
       "      <td>코스타리카</td>\n",
       "    </tr>\n",
       "    <tr>\n",
       "      <th>5</th>\n",
       "      <td>밀크티</td>\n",
       "      <td>5900</td>\n",
       "      <td>210</td>\n",
       "      <td>코스타리카</td>\n",
       "    </tr>\n",
       "    <tr>\n",
       "      <th>6</th>\n",
       "      <td>녹차</td>\n",
       "      <td>5300</td>\n",
       "      <td>0</td>\n",
       "      <td>코스타리카</td>\n",
       "    </tr>\n",
       "    <tr>\n",
       "      <th>7</th>\n",
       "      <td>새로운 커피</td>\n",
       "      <td>2000</td>\n",
       "      <td>20</td>\n",
       "      <td>코스타리카</td>\n",
       "    </tr>\n",
       "  </tbody>\n",
       "</table>\n",
       "</div>"
      ],
      "text/plain": [
       "       메뉴    가격  칼로리    원산지\n",
       "0   아메리카노  4500   10   콜롬비아\n",
       "1    카페라떼  5000  110  코스타리카\n",
       "2    카페모카  5500  250   과테말라\n",
       "3    카푸치노  5000  110   과테말라\n",
       "4   에스프레소  4000   20  코스타리카\n",
       "5     밀크티  5900  210  코스타리카\n",
       "6      녹차  5300    0  코스타리카\n",
       "7  새로운 커피  2000   20  코스타리카"
      ]
     },
     "execution_count": 258,
     "metadata": {},
     "output_type": "execute_result"
    }
   ],
   "source": [
    "df['원산지'].fillna('코스타리카', inplace=True)\n",
    "df"
   ]
  },
  {
   "cell_type": "code",
   "execution_count": 259,
   "metadata": {},
   "outputs": [],
   "source": [
    "df.to_csv('cafe3.csv', index=False)"
   ]
  },
  {
   "cell_type": "code",
   "execution_count": 260,
   "metadata": {},
   "outputs": [
    {
     "data": {
      "text/html": [
       "<div>\n",
       "<style scoped>\n",
       "    .dataframe tbody tr th:only-of-type {\n",
       "        vertical-align: middle;\n",
       "    }\n",
       "\n",
       "    .dataframe tbody tr th {\n",
       "        vertical-align: top;\n",
       "    }\n",
       "\n",
       "    .dataframe thead th {\n",
       "        text-align: right;\n",
       "    }\n",
       "</style>\n",
       "<table border=\"1\" class=\"dataframe\">\n",
       "  <thead>\n",
       "    <tr style=\"text-align: right;\">\n",
       "      <th></th>\n",
       "      <th>메뉴</th>\n",
       "      <th>가격</th>\n",
       "      <th>칼로리</th>\n",
       "      <th>원산지</th>\n",
       "    </tr>\n",
       "  </thead>\n",
       "  <tbody>\n",
       "    <tr>\n",
       "      <th>0</th>\n",
       "      <td>아메리카노</td>\n",
       "      <td>4500</td>\n",
       "      <td>10</td>\n",
       "      <td>콜롬비아</td>\n",
       "    </tr>\n",
       "    <tr>\n",
       "      <th>1</th>\n",
       "      <td>카페라떼</td>\n",
       "      <td>5000</td>\n",
       "      <td>110</td>\n",
       "      <td>코스타리카</td>\n",
       "    </tr>\n",
       "    <tr>\n",
       "      <th>2</th>\n",
       "      <td>카페모카</td>\n",
       "      <td>5500</td>\n",
       "      <td>250</td>\n",
       "      <td>과테말라</td>\n",
       "    </tr>\n",
       "    <tr>\n",
       "      <th>3</th>\n",
       "      <td>카푸치노</td>\n",
       "      <td>5000</td>\n",
       "      <td>110</td>\n",
       "      <td>과테말라</td>\n",
       "    </tr>\n",
       "    <tr>\n",
       "      <th>4</th>\n",
       "      <td>에스프레소</td>\n",
       "      <td>4000</td>\n",
       "      <td>20</td>\n",
       "      <td>코스타리카</td>\n",
       "    </tr>\n",
       "    <tr>\n",
       "      <th>5</th>\n",
       "      <td>밀크티</td>\n",
       "      <td>5900</td>\n",
       "      <td>210</td>\n",
       "      <td>코스타리카</td>\n",
       "    </tr>\n",
       "    <tr>\n",
       "      <th>6</th>\n",
       "      <td>녹차</td>\n",
       "      <td>5300</td>\n",
       "      <td>0</td>\n",
       "      <td>코스타리카</td>\n",
       "    </tr>\n",
       "    <tr>\n",
       "      <th>7</th>\n",
       "      <td>새로운 커피</td>\n",
       "      <td>2000</td>\n",
       "      <td>20</td>\n",
       "      <td>코스타리카</td>\n",
       "    </tr>\n",
       "  </tbody>\n",
       "</table>\n",
       "</div>"
      ],
      "text/plain": [
       "       메뉴    가격  칼로리    원산지\n",
       "0   아메리카노  4500   10   콜롬비아\n",
       "1    카페라떼  5000  110  코스타리카\n",
       "2    카페모카  5500  250   과테말라\n",
       "3    카푸치노  5000  110   과테말라\n",
       "4   에스프레소  4000   20  코스타리카\n",
       "5     밀크티  5900  210  코스타리카\n",
       "6      녹차  5300    0  코스타리카\n",
       "7  새로운 커피  2000   20  코스타리카"
      ]
     },
     "execution_count": 260,
     "metadata": {},
     "output_type": "execute_result"
    }
   ],
   "source": [
    "df = pd.read_csv('cafe3.csv')\n",
    "df"
   ]
  },
  {
   "cell_type": "code",
   "execution_count": 261,
   "metadata": {},
   "outputs": [
    {
     "data": {
      "text/html": [
       "<div>\n",
       "<style scoped>\n",
       "    .dataframe tbody tr th:only-of-type {\n",
       "        vertical-align: middle;\n",
       "    }\n",
       "\n",
       "    .dataframe tbody tr th {\n",
       "        vertical-align: top;\n",
       "    }\n",
       "\n",
       "    .dataframe thead th {\n",
       "        text-align: right;\n",
       "    }\n",
       "</style>\n",
       "<table border=\"1\" class=\"dataframe\">\n",
       "  <thead>\n",
       "    <tr style=\"text-align: right;\">\n",
       "      <th></th>\n",
       "      <th>메뉴</th>\n",
       "      <th>가격</th>\n",
       "      <th>칼로리</th>\n",
       "      <th>원산지</th>\n",
       "    </tr>\n",
       "  </thead>\n",
       "  <tbody>\n",
       "    <tr>\n",
       "      <th>0</th>\n",
       "      <td>룽고</td>\n",
       "      <td>4500</td>\n",
       "      <td>10</td>\n",
       "      <td>콜롬비아</td>\n",
       "    </tr>\n",
       "    <tr>\n",
       "      <th>1</th>\n",
       "      <td>카페라떼</td>\n",
       "      <td>5000</td>\n",
       "      <td>110</td>\n",
       "      <td>코스타리카</td>\n",
       "    </tr>\n",
       "    <tr>\n",
       "      <th>2</th>\n",
       "      <td>카페모카</td>\n",
       "      <td>5500</td>\n",
       "      <td>250</td>\n",
       "      <td>과테말라</td>\n",
       "    </tr>\n",
       "    <tr>\n",
       "      <th>3</th>\n",
       "      <td>카푸치노</td>\n",
       "      <td>5000</td>\n",
       "      <td>110</td>\n",
       "      <td>과테말라</td>\n",
       "    </tr>\n",
       "    <tr>\n",
       "      <th>4</th>\n",
       "      <td>에스프레소</td>\n",
       "      <td>4000</td>\n",
       "      <td>20</td>\n",
       "      <td>코스타리카</td>\n",
       "    </tr>\n",
       "    <tr>\n",
       "      <th>5</th>\n",
       "      <td>밀크티</td>\n",
       "      <td>5900</td>\n",
       "      <td>210</td>\n",
       "      <td>코스타리카</td>\n",
       "    </tr>\n",
       "    <tr>\n",
       "      <th>6</th>\n",
       "      <td>그린티</td>\n",
       "      <td>5300</td>\n",
       "      <td>0</td>\n",
       "      <td>코스타리카</td>\n",
       "    </tr>\n",
       "    <tr>\n",
       "      <th>7</th>\n",
       "      <td>새로운 커피</td>\n",
       "      <td>2000</td>\n",
       "      <td>20</td>\n",
       "      <td>코스타리카</td>\n",
       "    </tr>\n",
       "  </tbody>\n",
       "</table>\n",
       "</div>"
      ],
      "text/plain": [
       "       메뉴    가격  칼로리    원산지\n",
       "0      룽고  4500   10   콜롬비아\n",
       "1    카페라떼  5000  110  코스타리카\n",
       "2    카페모카  5500  250   과테말라\n",
       "3    카푸치노  5000  110   과테말라\n",
       "4   에스프레소  4000   20  코스타리카\n",
       "5     밀크티  5900  210  코스타리카\n",
       "6     그린티  5300    0  코스타리카\n",
       "7  새로운 커피  2000   20  코스타리카"
      ]
     },
     "execution_count": 261,
     "metadata": {},
     "output_type": "execute_result"
    }
   ],
   "source": [
    "df.replace('녹차', '그린티', inplace=True)\n",
    "df.replace('아메리카노', '룽고', inplace=True)\n",
    "df"
   ]
  },
  {
   "cell_type": "code",
   "execution_count": 262,
   "metadata": {},
   "outputs": [
    {
     "data": {
      "text/html": [
       "<div>\n",
       "<style scoped>\n",
       "    .dataframe tbody tr th:only-of-type {\n",
       "        vertical-align: middle;\n",
       "    }\n",
       "\n",
       "    .dataframe tbody tr th {\n",
       "        vertical-align: top;\n",
       "    }\n",
       "\n",
       "    .dataframe thead th {\n",
       "        text-align: right;\n",
       "    }\n",
       "</style>\n",
       "<table border=\"1\" class=\"dataframe\">\n",
       "  <thead>\n",
       "    <tr style=\"text-align: right;\">\n",
       "      <th></th>\n",
       "      <th>메뉴</th>\n",
       "      <th>가격</th>\n",
       "      <th>칼로리</th>\n",
       "      <th>원산지</th>\n",
       "    </tr>\n",
       "  </thead>\n",
       "  <tbody>\n",
       "    <tr>\n",
       "      <th>0</th>\n",
       "      <td>아메리카노</td>\n",
       "      <td>4500</td>\n",
       "      <td>10</td>\n",
       "      <td>콜롬비아</td>\n",
       "    </tr>\n",
       "    <tr>\n",
       "      <th>1</th>\n",
       "      <td>카페라떼</td>\n",
       "      <td>5000</td>\n",
       "      <td>110</td>\n",
       "      <td>코스타리카</td>\n",
       "    </tr>\n",
       "    <tr>\n",
       "      <th>2</th>\n",
       "      <td>카페모카</td>\n",
       "      <td>5500</td>\n",
       "      <td>250</td>\n",
       "      <td>과테말라</td>\n",
       "    </tr>\n",
       "    <tr>\n",
       "      <th>3</th>\n",
       "      <td>카푸치노</td>\n",
       "      <td>5000</td>\n",
       "      <td>110</td>\n",
       "      <td>과테말라</td>\n",
       "    </tr>\n",
       "    <tr>\n",
       "      <th>4</th>\n",
       "      <td>에스프레소</td>\n",
       "      <td>4000</td>\n",
       "      <td>20</td>\n",
       "      <td>코스타리카</td>\n",
       "    </tr>\n",
       "    <tr>\n",
       "      <th>5</th>\n",
       "      <td>밀크티</td>\n",
       "      <td>5900</td>\n",
       "      <td>210</td>\n",
       "      <td>코스타리카</td>\n",
       "    </tr>\n",
       "    <tr>\n",
       "      <th>6</th>\n",
       "      <td>녹차</td>\n",
       "      <td>5300</td>\n",
       "      <td>0</td>\n",
       "      <td>코스타리카</td>\n",
       "    </tr>\n",
       "    <tr>\n",
       "      <th>7</th>\n",
       "      <td>새로운 커피</td>\n",
       "      <td>2000</td>\n",
       "      <td>20</td>\n",
       "      <td>코스타리카</td>\n",
       "    </tr>\n",
       "  </tbody>\n",
       "</table>\n",
       "</div>"
      ],
      "text/plain": [
       "       메뉴    가격  칼로리    원산지\n",
       "0   아메리카노  4500   10   콜롬비아\n",
       "1    카페라떼  5000  110  코스타리카\n",
       "2    카페모카  5500  250   과테말라\n",
       "3    카푸치노  5000  110   과테말라\n",
       "4   에스프레소  4000   20  코스타리카\n",
       "5     밀크티  5900  210  코스타리카\n",
       "6      녹차  5300    0  코스타리카\n",
       "7  새로운 커피  2000   20  코스타리카"
      ]
     },
     "execution_count": 262,
     "metadata": {},
     "output_type": "execute_result"
    }
   ],
   "source": [
    "change_dict = {'룽고':'아메리카노', '그린티':'녹차'}\n",
    "df.replace(change_dict, inplace=True)\n",
    "df"
   ]
  },
  {
   "cell_type": "code",
   "execution_count": 263,
   "metadata": {},
   "outputs": [
    {
     "data": {
      "text/html": [
       "<div>\n",
       "<style scoped>\n",
       "    .dataframe tbody tr th:only-of-type {\n",
       "        vertical-align: middle;\n",
       "    }\n",
       "\n",
       "    .dataframe tbody tr th {\n",
       "        vertical-align: top;\n",
       "    }\n",
       "\n",
       "    .dataframe thead th {\n",
       "        text-align: right;\n",
       "    }\n",
       "</style>\n",
       "<table border=\"1\" class=\"dataframe\">\n",
       "  <thead>\n",
       "    <tr style=\"text-align: right;\">\n",
       "      <th></th>\n",
       "      <th>메뉴</th>\n",
       "      <th>가격</th>\n",
       "      <th>칼로리</th>\n",
       "      <th>원산지</th>\n",
       "    </tr>\n",
       "  </thead>\n",
       "  <tbody>\n",
       "    <tr>\n",
       "      <th>0</th>\n",
       "      <td>아메리카노</td>\n",
       "      <td>4500</td>\n",
       "      <td>10</td>\n",
       "      <td>콜롬비아</td>\n",
       "    </tr>\n",
       "    <tr>\n",
       "      <th>1</th>\n",
       "      <td>카페라떼</td>\n",
       "      <td>5000</td>\n",
       "      <td>110</td>\n",
       "      <td>코스타리카</td>\n",
       "    </tr>\n",
       "    <tr>\n",
       "      <th>2</th>\n",
       "      <td>카페모카</td>\n",
       "      <td>5500</td>\n",
       "      <td>250</td>\n",
       "      <td>과테말라</td>\n",
       "    </tr>\n",
       "    <tr>\n",
       "      <th>3</th>\n",
       "      <td>카푸치노</td>\n",
       "      <td>5000</td>\n",
       "      <td>110</td>\n",
       "      <td>과테말라</td>\n",
       "    </tr>\n",
       "    <tr>\n",
       "      <th>4</th>\n",
       "      <td>에스프레소</td>\n",
       "      <td>4000</td>\n",
       "      <td>20</td>\n",
       "      <td>코스타리카</td>\n",
       "    </tr>\n",
       "    <tr>\n",
       "      <th>5</th>\n",
       "      <td>밀크티</td>\n",
       "      <td>5900</td>\n",
       "      <td>210</td>\n",
       "      <td>코스타리카</td>\n",
       "    </tr>\n",
       "    <tr>\n",
       "      <th>6</th>\n",
       "      <td>녹차</td>\n",
       "      <td>5300</td>\n",
       "      <td>0</td>\n",
       "      <td>대한민국</td>\n",
       "    </tr>\n",
       "    <tr>\n",
       "      <th>7</th>\n",
       "      <td>새로운 커피</td>\n",
       "      <td>2000</td>\n",
       "      <td>20</td>\n",
       "      <td>코스타리카</td>\n",
       "    </tr>\n",
       "  </tbody>\n",
       "</table>\n",
       "</div>"
      ],
      "text/plain": [
       "       메뉴    가격  칼로리    원산지\n",
       "0   아메리카노  4500   10   콜롬비아\n",
       "1    카페라떼  5000  110  코스타리카\n",
       "2    카페모카  5500  250   과테말라\n",
       "3    카푸치노  5000  110   과테말라\n",
       "4   에스프레소  4000   20  코스타리카\n",
       "5     밀크티  5900  210  코스타리카\n",
       "6      녹차  5300    0   대한민국\n",
       "7  새로운 커피  2000   20  코스타리카"
      ]
     },
     "execution_count": 263,
     "metadata": {},
     "output_type": "execute_result"
    }
   ],
   "source": [
    "df.loc[df[df['메뉴']=='녹차'].index.item(), '원산지'] = '대한민국'\n",
    "df"
   ]
  },
  {
   "cell_type": "code",
   "execution_count": 264,
   "metadata": {},
   "outputs": [
    {
     "data": {
      "text/html": [
       "<div>\n",
       "<style scoped>\n",
       "    .dataframe tbody tr th:only-of-type {\n",
       "        vertical-align: middle;\n",
       "    }\n",
       "\n",
       "    .dataframe tbody tr th {\n",
       "        vertical-align: top;\n",
       "    }\n",
       "\n",
       "    .dataframe thead th {\n",
       "        text-align: right;\n",
       "    }\n",
       "</style>\n",
       "<table border=\"1\" class=\"dataframe\">\n",
       "  <thead>\n",
       "    <tr style=\"text-align: right;\">\n",
       "      <th></th>\n",
       "      <th>메뉴</th>\n",
       "      <th>가격</th>\n",
       "      <th>칼로리</th>\n",
       "      <th>원산지</th>\n",
       "      <th>이벤트가</th>\n",
       "    </tr>\n",
       "  </thead>\n",
       "  <tbody>\n",
       "    <tr>\n",
       "      <th>0</th>\n",
       "      <td>아메리카노</td>\n",
       "      <td>4500</td>\n",
       "      <td>10</td>\n",
       "      <td>콜롬비아</td>\n",
       "      <td>NaN</td>\n",
       "    </tr>\n",
       "    <tr>\n",
       "      <th>1</th>\n",
       "      <td>카페라떼</td>\n",
       "      <td>5000</td>\n",
       "      <td>110</td>\n",
       "      <td>코스타리카</td>\n",
       "      <td>1000.0</td>\n",
       "    </tr>\n",
       "    <tr>\n",
       "      <th>2</th>\n",
       "      <td>카페모카</td>\n",
       "      <td>5500</td>\n",
       "      <td>250</td>\n",
       "      <td>과테말라</td>\n",
       "      <td>1000.0</td>\n",
       "    </tr>\n",
       "    <tr>\n",
       "      <th>3</th>\n",
       "      <td>카푸치노</td>\n",
       "      <td>5000</td>\n",
       "      <td>110</td>\n",
       "      <td>과테말라</td>\n",
       "      <td>NaN</td>\n",
       "    </tr>\n",
       "    <tr>\n",
       "      <th>4</th>\n",
       "      <td>에스프레소</td>\n",
       "      <td>4000</td>\n",
       "      <td>20</td>\n",
       "      <td>코스타리카</td>\n",
       "      <td>NaN</td>\n",
       "    </tr>\n",
       "    <tr>\n",
       "      <th>5</th>\n",
       "      <td>밀크티</td>\n",
       "      <td>5900</td>\n",
       "      <td>210</td>\n",
       "      <td>코스타리카</td>\n",
       "      <td>NaN</td>\n",
       "    </tr>\n",
       "    <tr>\n",
       "      <th>6</th>\n",
       "      <td>녹차</td>\n",
       "      <td>5300</td>\n",
       "      <td>0</td>\n",
       "      <td>대한민국</td>\n",
       "      <td>NaN</td>\n",
       "    </tr>\n",
       "    <tr>\n",
       "      <th>7</th>\n",
       "      <td>새로운 커피</td>\n",
       "      <td>2000</td>\n",
       "      <td>20</td>\n",
       "      <td>코스타리카</td>\n",
       "      <td>NaN</td>\n",
       "    </tr>\n",
       "  </tbody>\n",
       "</table>\n",
       "</div>"
      ],
      "text/plain": [
       "       메뉴    가격  칼로리    원산지    이벤트가\n",
       "0   아메리카노  4500   10   콜롬비아     NaN\n",
       "1    카페라떼  5000  110  코스타리카  1000.0\n",
       "2    카페모카  5500  250   과테말라  1000.0\n",
       "3    카푸치노  5000  110   과테말라     NaN\n",
       "4   에스프레소  4000   20  코스타리카     NaN\n",
       "5     밀크티  5900  210  코스타리카     NaN\n",
       "6      녹차  5300    0   대한민국     NaN\n",
       "7  새로운 커피  2000   20  코스타리카     NaN"
      ]
     },
     "execution_count": 264,
     "metadata": {},
     "output_type": "execute_result"
    }
   ],
   "source": [
    "df.loc[1:2, '이벤트가'] = 1000\n",
    "df"
   ]
  },
  {
   "cell_type": "code",
   "execution_count": 265,
   "metadata": {},
   "outputs": [],
   "source": [
    "df.to_csv('cafe4.csv', index=False)"
   ]
  },
  {
   "cell_type": "code",
   "execution_count": 266,
   "metadata": {},
   "outputs": [
    {
     "data": {
      "text/html": [
       "<div>\n",
       "<style scoped>\n",
       "    .dataframe tbody tr th:only-of-type {\n",
       "        vertical-align: middle;\n",
       "    }\n",
       "\n",
       "    .dataframe tbody tr th {\n",
       "        vertical-align: top;\n",
       "    }\n",
       "\n",
       "    .dataframe thead th {\n",
       "        text-align: right;\n",
       "    }\n",
       "</style>\n",
       "<table border=\"1\" class=\"dataframe\">\n",
       "  <thead>\n",
       "    <tr style=\"text-align: right;\">\n",
       "      <th></th>\n",
       "      <th>A</th>\n",
       "      <th>B</th>\n",
       "      <th>C</th>\n",
       "    </tr>\n",
       "  </thead>\n",
       "  <tbody>\n",
       "    <tr>\n",
       "      <th>0</th>\n",
       "      <td>데이터 분석</td>\n",
       "      <td>10</td>\n",
       "      <td>ab cd</td>\n",
       "    </tr>\n",
       "    <tr>\n",
       "      <th>1</th>\n",
       "      <td>기본 학습서</td>\n",
       "      <td>20</td>\n",
       "      <td>AB CD</td>\n",
       "    </tr>\n",
       "    <tr>\n",
       "      <th>2</th>\n",
       "      <td>퇴근 후 열공</td>\n",
       "      <td>30</td>\n",
       "      <td>ab cd</td>\n",
       "    </tr>\n",
       "  </tbody>\n",
       "</table>\n",
       "</div>"
      ],
      "text/plain": [
       "         A   B       C\n",
       "0   데이터 분석  10   ab cd\n",
       "1   기본 학습서  20   AB CD\n",
       "2  퇴근 후 열공  30  ab cd "
      ]
     },
     "execution_count": 266,
     "metadata": {},
     "output_type": "execute_result"
    }
   ],
   "source": [
    "df = pd.DataFrame({'A': ['데이터 분석', '기본 학습서', '퇴근 후 열공'],\n",
    "                   'B': [10, 20, 30],\n",
    "                   'C': ['ab cd', 'AB CD', 'ab cd ']\n",
    "                   })\n",
    "df"
   ]
  },
  {
   "cell_type": "code",
   "execution_count": 267,
   "metadata": {},
   "outputs": [
    {
     "data": {
      "text/plain": [
       "0     데이터 분석\n",
       "1     기본 학습서\n",
       "2    퇴근 후 열공\n",
       "Name: A, dtype: object"
      ]
     },
     "execution_count": 267,
     "metadata": {},
     "output_type": "execute_result"
    }
   ],
   "source": [
    "df['A'].replace('분석', '시각화')"
   ]
  },
  {
   "cell_type": "code",
   "execution_count": 268,
   "metadata": {},
   "outputs": [
    {
     "data": {
      "text/html": [
       "<div>\n",
       "<style scoped>\n",
       "    .dataframe tbody tr th:only-of-type {\n",
       "        vertical-align: middle;\n",
       "    }\n",
       "\n",
       "    .dataframe tbody tr th {\n",
       "        vertical-align: top;\n",
       "    }\n",
       "\n",
       "    .dataframe thead th {\n",
       "        text-align: right;\n",
       "    }\n",
       "</style>\n",
       "<table border=\"1\" class=\"dataframe\">\n",
       "  <thead>\n",
       "    <tr style=\"text-align: right;\">\n",
       "      <th></th>\n",
       "      <th>A</th>\n",
       "      <th>B</th>\n",
       "      <th>C</th>\n",
       "    </tr>\n",
       "  </thead>\n",
       "  <tbody>\n",
       "    <tr>\n",
       "      <th>0</th>\n",
       "      <td>데이터 시각화</td>\n",
       "      <td>10</td>\n",
       "      <td>ab cd</td>\n",
       "    </tr>\n",
       "    <tr>\n",
       "      <th>1</th>\n",
       "      <td>기본 학습서</td>\n",
       "      <td>20</td>\n",
       "      <td>AB CD</td>\n",
       "    </tr>\n",
       "    <tr>\n",
       "      <th>2</th>\n",
       "      <td>퇴근 후 열공</td>\n",
       "      <td>30</td>\n",
       "      <td>ab cd</td>\n",
       "    </tr>\n",
       "  </tbody>\n",
       "</table>\n",
       "</div>"
      ],
      "text/plain": [
       "         A   B       C\n",
       "0  데이터 시각화  10   ab cd\n",
       "1   기본 학습서  20   AB CD\n",
       "2  퇴근 후 열공  30  ab cd "
      ]
     },
     "execution_count": 268,
     "metadata": {},
     "output_type": "execute_result"
    }
   ],
   "source": [
    "df['A'] = df['A'].str.replace('분석', '시각화')\n",
    "df"
   ]
  },
  {
   "cell_type": "code",
   "execution_count": 269,
   "metadata": {},
   "outputs": [
    {
     "data": {
      "text/plain": [
       "0    데이터\n",
       "1     기본\n",
       "2     퇴근\n",
       "Name: A, dtype: object"
      ]
     },
     "execution_count": 269,
     "metadata": {},
     "output_type": "execute_result"
    }
   ],
   "source": [
    "df['A'].str.split().str[0]"
   ]
  },
  {
   "cell_type": "code",
   "execution_count": 270,
   "metadata": {},
   "outputs": [
    {
     "data": {
      "text/html": [
       "<div>\n",
       "<style scoped>\n",
       "    .dataframe tbody tr th:only-of-type {\n",
       "        vertical-align: middle;\n",
       "    }\n",
       "\n",
       "    .dataframe tbody tr th {\n",
       "        vertical-align: top;\n",
       "    }\n",
       "\n",
       "    .dataframe thead th {\n",
       "        text-align: right;\n",
       "    }\n",
       "</style>\n",
       "<table border=\"1\" class=\"dataframe\">\n",
       "  <thead>\n",
       "    <tr style=\"text-align: right;\">\n",
       "      <th></th>\n",
       "      <th>A</th>\n",
       "      <th>B</th>\n",
       "      <th>C</th>\n",
       "      <th>D</th>\n",
       "    </tr>\n",
       "  </thead>\n",
       "  <tbody>\n",
       "    <tr>\n",
       "      <th>0</th>\n",
       "      <td>데이터 시각화</td>\n",
       "      <td>10</td>\n",
       "      <td>ab cd</td>\n",
       "      <td>데이터</td>\n",
       "    </tr>\n",
       "    <tr>\n",
       "      <th>1</th>\n",
       "      <td>기본 학습서</td>\n",
       "      <td>20</td>\n",
       "      <td>AB CD</td>\n",
       "      <td>기본</td>\n",
       "    </tr>\n",
       "    <tr>\n",
       "      <th>2</th>\n",
       "      <td>퇴근 후 열공</td>\n",
       "      <td>30</td>\n",
       "      <td>ab cd</td>\n",
       "      <td>퇴근</td>\n",
       "    </tr>\n",
       "  </tbody>\n",
       "</table>\n",
       "</div>"
      ],
      "text/plain": [
       "         A   B       C    D\n",
       "0  데이터 시각화  10   ab cd  데이터\n",
       "1   기본 학습서  20   AB CD   기본\n",
       "2  퇴근 후 열공  30  ab cd    퇴근"
      ]
     },
     "execution_count": 270,
     "metadata": {},
     "output_type": "execute_result"
    }
   ],
   "source": [
    "df['D'] = df['A'].str.split().str[0]\n",
    "df"
   ]
  },
  {
   "cell_type": "code",
   "execution_count": 271,
   "metadata": {},
   "outputs": [
    {
     "data": {
      "text/plain": [
       "0    False\n",
       "1     True\n",
       "2    False\n",
       "Name: A, dtype: bool"
      ]
     },
     "execution_count": 271,
     "metadata": {},
     "output_type": "execute_result"
    }
   ],
   "source": [
    "df['A'].str.contains('기본')"
   ]
  },
  {
   "cell_type": "code",
   "execution_count": 272,
   "metadata": {},
   "outputs": [
    {
     "data": {
      "text/html": [
       "<div>\n",
       "<style scoped>\n",
       "    .dataframe tbody tr th:only-of-type {\n",
       "        vertical-align: middle;\n",
       "    }\n",
       "\n",
       "    .dataframe tbody tr th {\n",
       "        vertical-align: top;\n",
       "    }\n",
       "\n",
       "    .dataframe thead th {\n",
       "        text-align: right;\n",
       "    }\n",
       "</style>\n",
       "<table border=\"1\" class=\"dataframe\">\n",
       "  <thead>\n",
       "    <tr style=\"text-align: right;\">\n",
       "      <th></th>\n",
       "      <th>A</th>\n",
       "      <th>B</th>\n",
       "      <th>C</th>\n",
       "      <th>D</th>\n",
       "      <th>기본포함유무</th>\n",
       "    </tr>\n",
       "  </thead>\n",
       "  <tbody>\n",
       "    <tr>\n",
       "      <th>0</th>\n",
       "      <td>데이터 시각화</td>\n",
       "      <td>10</td>\n",
       "      <td>ab cd</td>\n",
       "      <td>데이터</td>\n",
       "      <td>False</td>\n",
       "    </tr>\n",
       "    <tr>\n",
       "      <th>1</th>\n",
       "      <td>기본 학습서</td>\n",
       "      <td>20</td>\n",
       "      <td>AB CD</td>\n",
       "      <td>기본</td>\n",
       "      <td>True</td>\n",
       "    </tr>\n",
       "    <tr>\n",
       "      <th>2</th>\n",
       "      <td>퇴근 후 열공</td>\n",
       "      <td>30</td>\n",
       "      <td>ab cd</td>\n",
       "      <td>퇴근</td>\n",
       "      <td>False</td>\n",
       "    </tr>\n",
       "  </tbody>\n",
       "</table>\n",
       "</div>"
      ],
      "text/plain": [
       "         A   B       C    D  기본포함유무\n",
       "0  데이터 시각화  10   ab cd  데이터   False\n",
       "1   기본 학습서  20   AB CD   기본    True\n",
       "2  퇴근 후 열공  30  ab cd    퇴근   False"
      ]
     },
     "execution_count": 272,
     "metadata": {},
     "output_type": "execute_result"
    }
   ],
   "source": [
    "df['기본포함유무'] = df['A'].str.contains('기본')\n",
    "df"
   ]
  },
  {
   "cell_type": "code",
   "execution_count": 273,
   "metadata": {},
   "outputs": [
    {
     "data": {
      "text/html": [
       "<div>\n",
       "<style scoped>\n",
       "    .dataframe tbody tr th:only-of-type {\n",
       "        vertical-align: middle;\n",
       "    }\n",
       "\n",
       "    .dataframe tbody tr th {\n",
       "        vertical-align: top;\n",
       "    }\n",
       "\n",
       "    .dataframe thead th {\n",
       "        text-align: right;\n",
       "    }\n",
       "</style>\n",
       "<table border=\"1\" class=\"dataframe\">\n",
       "  <thead>\n",
       "    <tr style=\"text-align: right;\">\n",
       "      <th></th>\n",
       "      <th>A</th>\n",
       "      <th>B</th>\n",
       "      <th>C</th>\n",
       "      <th>D</th>\n",
       "      <th>기본포함유무</th>\n",
       "      <th>문자길이</th>\n",
       "    </tr>\n",
       "  </thead>\n",
       "  <tbody>\n",
       "    <tr>\n",
       "      <th>0</th>\n",
       "      <td>데이터 시각화</td>\n",
       "      <td>10</td>\n",
       "      <td>ab cd</td>\n",
       "      <td>데이터</td>\n",
       "      <td>False</td>\n",
       "      <td>7</td>\n",
       "    </tr>\n",
       "    <tr>\n",
       "      <th>1</th>\n",
       "      <td>기본 학습서</td>\n",
       "      <td>20</td>\n",
       "      <td>AB CD</td>\n",
       "      <td>기본</td>\n",
       "      <td>True</td>\n",
       "      <td>6</td>\n",
       "    </tr>\n",
       "    <tr>\n",
       "      <th>2</th>\n",
       "      <td>퇴근 후 열공</td>\n",
       "      <td>30</td>\n",
       "      <td>ab cd</td>\n",
       "      <td>퇴근</td>\n",
       "      <td>False</td>\n",
       "      <td>7</td>\n",
       "    </tr>\n",
       "  </tbody>\n",
       "</table>\n",
       "</div>"
      ],
      "text/plain": [
       "         A   B       C    D  기본포함유무  문자길이\n",
       "0  데이터 시각화  10   ab cd  데이터   False     7\n",
       "1   기본 학습서  20   AB CD   기본    True     6\n",
       "2  퇴근 후 열공  30  ab cd    퇴근   False     7"
      ]
     },
     "execution_count": 273,
     "metadata": {},
     "output_type": "execute_result"
    }
   ],
   "source": [
    "df['문자길이'] = df['A'].str.len()\n",
    "df"
   ]
  },
  {
   "cell_type": "code",
   "execution_count": 274,
   "metadata": {},
   "outputs": [
    {
     "data": {
      "text/html": [
       "<div>\n",
       "<style scoped>\n",
       "    .dataframe tbody tr th:only-of-type {\n",
       "        vertical-align: middle;\n",
       "    }\n",
       "\n",
       "    .dataframe tbody tr th {\n",
       "        vertical-align: top;\n",
       "    }\n",
       "\n",
       "    .dataframe thead th {\n",
       "        text-align: right;\n",
       "    }\n",
       "</style>\n",
       "<table border=\"1\" class=\"dataframe\">\n",
       "  <thead>\n",
       "    <tr style=\"text-align: right;\">\n",
       "      <th></th>\n",
       "      <th>A</th>\n",
       "      <th>B</th>\n",
       "      <th>C</th>\n",
       "      <th>D</th>\n",
       "      <th>기본포함유무</th>\n",
       "      <th>문자길이</th>\n",
       "    </tr>\n",
       "  </thead>\n",
       "  <tbody>\n",
       "    <tr>\n",
       "      <th>0</th>\n",
       "      <td>데이터 시각화</td>\n",
       "      <td>10</td>\n",
       "      <td>ab cd</td>\n",
       "      <td>데이터</td>\n",
       "      <td>False</td>\n",
       "      <td>7</td>\n",
       "    </tr>\n",
       "    <tr>\n",
       "      <th>1</th>\n",
       "      <td>기본 학습서</td>\n",
       "      <td>20</td>\n",
       "      <td>ab cd</td>\n",
       "      <td>기본</td>\n",
       "      <td>True</td>\n",
       "      <td>6</td>\n",
       "    </tr>\n",
       "    <tr>\n",
       "      <th>2</th>\n",
       "      <td>퇴근 후 열공</td>\n",
       "      <td>30</td>\n",
       "      <td>ab cd</td>\n",
       "      <td>퇴근</td>\n",
       "      <td>False</td>\n",
       "      <td>7</td>\n",
       "    </tr>\n",
       "  </tbody>\n",
       "</table>\n",
       "</div>"
      ],
      "text/plain": [
       "         A   B       C    D  기본포함유무  문자길이\n",
       "0  데이터 시각화  10   ab cd  데이터   False     7\n",
       "1   기본 학습서  20   ab cd   기본    True     6\n",
       "2  퇴근 후 열공  30  ab cd    퇴근   False     7"
      ]
     },
     "execution_count": 274,
     "metadata": {},
     "output_type": "execute_result"
    }
   ],
   "source": [
    "df['C'] = df['C'].str.lower()\n",
    "df"
   ]
  },
  {
   "cell_type": "code",
   "execution_count": 275,
   "metadata": {},
   "outputs": [
    {
     "data": {
      "text/html": [
       "<div>\n",
       "<style scoped>\n",
       "    .dataframe tbody tr th:only-of-type {\n",
       "        vertical-align: middle;\n",
       "    }\n",
       "\n",
       "    .dataframe tbody tr th {\n",
       "        vertical-align: top;\n",
       "    }\n",
       "\n",
       "    .dataframe thead th {\n",
       "        text-align: right;\n",
       "    }\n",
       "</style>\n",
       "<table border=\"1\" class=\"dataframe\">\n",
       "  <thead>\n",
       "    <tr style=\"text-align: right;\">\n",
       "      <th></th>\n",
       "      <th>A</th>\n",
       "      <th>B</th>\n",
       "      <th>C</th>\n",
       "      <th>D</th>\n",
       "      <th>기본포함유무</th>\n",
       "      <th>문자길이</th>\n",
       "    </tr>\n",
       "  </thead>\n",
       "  <tbody>\n",
       "    <tr>\n",
       "      <th>0</th>\n",
       "      <td>데이터 시각화</td>\n",
       "      <td>10</td>\n",
       "      <td>abcd</td>\n",
       "      <td>데이터</td>\n",
       "      <td>False</td>\n",
       "      <td>7</td>\n",
       "    </tr>\n",
       "    <tr>\n",
       "      <th>1</th>\n",
       "      <td>기본 학습서</td>\n",
       "      <td>20</td>\n",
       "      <td>abcd</td>\n",
       "      <td>기본</td>\n",
       "      <td>True</td>\n",
       "      <td>6</td>\n",
       "    </tr>\n",
       "    <tr>\n",
       "      <th>2</th>\n",
       "      <td>퇴근 후 열공</td>\n",
       "      <td>30</td>\n",
       "      <td>abcd</td>\n",
       "      <td>퇴근</td>\n",
       "      <td>False</td>\n",
       "      <td>7</td>\n",
       "    </tr>\n",
       "  </tbody>\n",
       "</table>\n",
       "</div>"
      ],
      "text/plain": [
       "         A   B     C    D  기본포함유무  문자길이\n",
       "0  데이터 시각화  10  abcd  데이터   False     7\n",
       "1   기본 학습서  20  abcd   기본    True     6\n",
       "2  퇴근 후 열공  30  abcd   퇴근   False     7"
      ]
     },
     "execution_count": 275,
     "metadata": {},
     "output_type": "execute_result"
    }
   ],
   "source": [
    "df['C'] = df['C'].str.replace(' ','')\n",
    "df"
   ]
  },
  {
   "cell_type": "code",
   "execution_count": 276,
   "metadata": {},
   "outputs": [
    {
     "data": {
      "text/plain": [
       "0    abc\n",
       "1    abc\n",
       "2    abc\n",
       "Name: C, dtype: object"
      ]
     },
     "execution_count": 276,
     "metadata": {},
     "output_type": "execute_result"
    }
   ],
   "source": [
    "df['C'].str[0:3]"
   ]
  },
  {
   "cell_type": "code",
   "execution_count": 277,
   "metadata": {},
   "outputs": [
    {
     "data": {
      "text/html": [
       "<div>\n",
       "<style scoped>\n",
       "    .dataframe tbody tr th:only-of-type {\n",
       "        vertical-align: middle;\n",
       "    }\n",
       "\n",
       "    .dataframe tbody tr th {\n",
       "        vertical-align: top;\n",
       "    }\n",
       "\n",
       "    .dataframe thead th {\n",
       "        text-align: right;\n",
       "    }\n",
       "</style>\n",
       "<table border=\"1\" class=\"dataframe\">\n",
       "  <thead>\n",
       "    <tr style=\"text-align: right;\">\n",
       "      <th></th>\n",
       "      <th>메뉴</th>\n",
       "      <th>가격</th>\n",
       "      <th>칼로리</th>\n",
       "      <th>원산지</th>\n",
       "      <th>이벤트가</th>\n",
       "    </tr>\n",
       "  </thead>\n",
       "  <tbody>\n",
       "    <tr>\n",
       "      <th>0</th>\n",
       "      <td>아메리카노</td>\n",
       "      <td>4500</td>\n",
       "      <td>10</td>\n",
       "      <td>콜롬비아</td>\n",
       "      <td>NaN</td>\n",
       "    </tr>\n",
       "    <tr>\n",
       "      <th>1</th>\n",
       "      <td>카페라떼</td>\n",
       "      <td>5000</td>\n",
       "      <td>110</td>\n",
       "      <td>코스타리카</td>\n",
       "      <td>1000.0</td>\n",
       "    </tr>\n",
       "    <tr>\n",
       "      <th>2</th>\n",
       "      <td>카페모카</td>\n",
       "      <td>5500</td>\n",
       "      <td>250</td>\n",
       "      <td>과테말라</td>\n",
       "      <td>1000.0</td>\n",
       "    </tr>\n",
       "    <tr>\n",
       "      <th>3</th>\n",
       "      <td>카푸치노</td>\n",
       "      <td>5000</td>\n",
       "      <td>110</td>\n",
       "      <td>과테말라</td>\n",
       "      <td>NaN</td>\n",
       "    </tr>\n",
       "    <tr>\n",
       "      <th>4</th>\n",
       "      <td>에스프레소</td>\n",
       "      <td>4000</td>\n",
       "      <td>20</td>\n",
       "      <td>코스타리카</td>\n",
       "      <td>NaN</td>\n",
       "    </tr>\n",
       "    <tr>\n",
       "      <th>5</th>\n",
       "      <td>밀크티</td>\n",
       "      <td>5900</td>\n",
       "      <td>210</td>\n",
       "      <td>코스타리카</td>\n",
       "      <td>NaN</td>\n",
       "    </tr>\n",
       "    <tr>\n",
       "      <th>6</th>\n",
       "      <td>녹차</td>\n",
       "      <td>5300</td>\n",
       "      <td>0</td>\n",
       "      <td>대한민국</td>\n",
       "      <td>NaN</td>\n",
       "    </tr>\n",
       "    <tr>\n",
       "      <th>7</th>\n",
       "      <td>새로운 커피</td>\n",
       "      <td>2000</td>\n",
       "      <td>20</td>\n",
       "      <td>코스타리카</td>\n",
       "      <td>NaN</td>\n",
       "    </tr>\n",
       "  </tbody>\n",
       "</table>\n",
       "</div>"
      ],
      "text/plain": [
       "       메뉴    가격  칼로리    원산지    이벤트가\n",
       "0   아메리카노  4500   10   콜롬비아     NaN\n",
       "1    카페라떼  5000  110  코스타리카  1000.0\n",
       "2    카페모카  5500  250   과테말라  1000.0\n",
       "3    카푸치노  5000  110   과테말라     NaN\n",
       "4   에스프레소  4000   20  코스타리카     NaN\n",
       "5     밀크티  5900  210  코스타리카     NaN\n",
       "6      녹차  5300    0   대한민국     NaN\n",
       "7  새로운 커피  2000   20  코스타리카     NaN"
      ]
     },
     "execution_count": 277,
     "metadata": {},
     "output_type": "execute_result"
    }
   ],
   "source": [
    "df = pd.read_csv('cafe4.csv')\n",
    "df"
   ]
  },
  {
   "cell_type": "code",
   "execution_count": 278,
   "metadata": {},
   "outputs": [
    {
     "data": {
      "text/plain": [
       "8"
      ]
     },
     "execution_count": 278,
     "metadata": {},
     "output_type": "execute_result"
    }
   ],
   "source": [
    "len(df)"
   ]
  },
  {
   "cell_type": "code",
   "execution_count": 279,
   "metadata": {},
   "outputs": [
    {
     "data": {
      "text/plain": [
       "(8, 5)"
      ]
     },
     "execution_count": 279,
     "metadata": {},
     "output_type": "execute_result"
    }
   ],
   "source": [
    "df.shape"
   ]
  },
  {
   "cell_type": "code",
   "execution_count": 280,
   "metadata": {},
   "outputs": [
    {
     "data": {
      "text/plain": [
       "730"
      ]
     },
     "execution_count": 280,
     "metadata": {},
     "output_type": "execute_result"
    }
   ],
   "source": [
    "sum(df['칼로리'])\n",
    "# 총 값"
   ]
  },
  {
   "cell_type": "code",
   "execution_count": 281,
   "metadata": {},
   "outputs": [
    {
     "data": {
      "text/plain": [
       "4"
      ]
     },
     "execution_count": 281,
     "metadata": {},
     "output_type": "execute_result"
    }
   ],
   "source": [
    "sum(df['칼로리'] > 50)\n",
    "# 조건에 맞는 개수"
   ]
  },
  {
   "cell_type": "code",
   "execution_count": 282,
   "metadata": {},
   "outputs": [
    {
     "data": {
      "text/plain": [
       "0    4510.0\n",
       "1    6110.0\n",
       "2    6750.0\n",
       "3    5110.0\n",
       "4    4020.0\n",
       "5    6110.0\n",
       "6    5300.0\n",
       "7    2020.0\n",
       "dtype: float64"
      ]
     },
     "execution_count": 282,
     "metadata": {},
     "output_type": "execute_result"
    }
   ],
   "source": [
    "df.sum(axis=1, numeric_only=True)"
   ]
  },
  {
   "cell_type": "code",
   "execution_count": 283,
   "metadata": {},
   "outputs": [
    {
     "data": {
      "text/plain": [
       "1488571.4285714286"
      ]
     },
     "execution_count": 283,
     "metadata": {},
     "output_type": "execute_result"
    }
   ],
   "source": [
    "df['가격'].max()\n",
    "df['가격'].min()\n",
    "df['가격'].mean()\n",
    "df['가격'].median()\n",
    "df['가격'].sum()\n",
    "df['가격'].std()\n",
    "df['가격'].var()"
   ]
  },
  {
   "cell_type": "code",
   "execution_count": 284,
   "metadata": {},
   "outputs": [
    {
     "name": "stdout",
     "output_type": "stream",
     "text": [
      "1사분위수:  4375.0\n",
      "2사분위수:  5000.0\n",
      "3사분위수:  5350.0\n"
     ]
    }
   ],
   "source": [
    "print('1사분위수: ', df['가격'].quantile(.25))\n",
    "print('2사분위수: ', df['가격'].quantile(.50))\n",
    "print('3사분위수: ', df['가격'].quantile(.75))"
   ]
  },
  {
   "cell_type": "code",
   "execution_count": 285,
   "metadata": {},
   "outputs": [
    {
     "data": {
      "text/html": [
       "<div>\n",
       "<style scoped>\n",
       "    .dataframe tbody tr th:only-of-type {\n",
       "        vertical-align: middle;\n",
       "    }\n",
       "\n",
       "    .dataframe tbody tr th {\n",
       "        vertical-align: top;\n",
       "    }\n",
       "\n",
       "    .dataframe thead th {\n",
       "        text-align: right;\n",
       "    }\n",
       "</style>\n",
       "<table border=\"1\" class=\"dataframe\">\n",
       "  <thead>\n",
       "    <tr style=\"text-align: right;\">\n",
       "      <th></th>\n",
       "      <th>메뉴</th>\n",
       "      <th>가격</th>\n",
       "      <th>칼로리</th>\n",
       "      <th>원산지</th>\n",
       "      <th>이벤트가</th>\n",
       "    </tr>\n",
       "  </thead>\n",
       "  <tbody>\n",
       "    <tr>\n",
       "      <th>4</th>\n",
       "      <td>에스프레소</td>\n",
       "      <td>4000</td>\n",
       "      <td>20</td>\n",
       "      <td>코스타리카</td>\n",
       "      <td>NaN</td>\n",
       "    </tr>\n",
       "    <tr>\n",
       "      <th>7</th>\n",
       "      <td>새로운 커피</td>\n",
       "      <td>2000</td>\n",
       "      <td>20</td>\n",
       "      <td>코스타리카</td>\n",
       "      <td>NaN</td>\n",
       "    </tr>\n",
       "  </tbody>\n",
       "</table>\n",
       "</div>"
      ],
      "text/plain": [
       "       메뉴    가격  칼로리    원산지  이벤트가\n",
       "4   에스프레소  4000   20  코스타리카   NaN\n",
       "7  새로운 커피  2000   20  코스타리카   NaN"
      ]
     },
     "execution_count": 285,
     "metadata": {},
     "output_type": "execute_result"
    }
   ],
   "source": [
    "# 가격의 1사분위수보다 작은 값만 보기\n",
    "df[df['가격'].quantile(0.25) > df['가격']]"
   ]
  },
  {
   "cell_type": "code",
   "execution_count": 286,
   "metadata": {},
   "outputs": [
    {
     "data": {
      "text/html": [
       "<div>\n",
       "<style scoped>\n",
       "    .dataframe tbody tr th:only-of-type {\n",
       "        vertical-align: middle;\n",
       "    }\n",
       "\n",
       "    .dataframe tbody tr th {\n",
       "        vertical-align: top;\n",
       "    }\n",
       "\n",
       "    .dataframe thead th {\n",
       "        text-align: right;\n",
       "    }\n",
       "</style>\n",
       "<table border=\"1\" class=\"dataframe\">\n",
       "  <thead>\n",
       "    <tr style=\"text-align: right;\">\n",
       "      <th></th>\n",
       "      <th>메뉴</th>\n",
       "      <th>가격</th>\n",
       "      <th>칼로리</th>\n",
       "      <th>원산지</th>\n",
       "      <th>이벤트가</th>\n",
       "    </tr>\n",
       "  </thead>\n",
       "  <tbody>\n",
       "    <tr>\n",
       "      <th>2</th>\n",
       "      <td>카페모카</td>\n",
       "      <td>5500</td>\n",
       "      <td>250</td>\n",
       "      <td>과테말라</td>\n",
       "      <td>1000.0</td>\n",
       "    </tr>\n",
       "    <tr>\n",
       "      <th>5</th>\n",
       "      <td>밀크티</td>\n",
       "      <td>5900</td>\n",
       "      <td>210</td>\n",
       "      <td>코스타리카</td>\n",
       "      <td>NaN</td>\n",
       "    </tr>\n",
       "  </tbody>\n",
       "</table>\n",
       "</div>"
      ],
      "text/plain": [
       "     메뉴    가격  칼로리    원산지    이벤트가\n",
       "2  카페모카  5500  250   과테말라  1000.0\n",
       "5   밀크티  5900  210  코스타리카     NaN"
      ]
     },
     "execution_count": 286,
     "metadata": {},
     "output_type": "execute_result"
    }
   ],
   "source": [
    "# 3사분위수보다 큰 데이터만 보기\n",
    "df[df['가격'] > df['가격'].quantile(0.75)]"
   ]
  },
  {
   "cell_type": "code",
   "execution_count": 287,
   "metadata": {},
   "outputs": [
    {
     "data": {
      "text/plain": [
       "'코스타리카'"
      ]
     },
     "execution_count": 287,
     "metadata": {},
     "output_type": "execute_result"
    }
   ],
   "source": [
    "# 최빈값\n",
    "df['원산지'].mode()[0]"
   ]
  },
  {
   "cell_type": "code",
   "execution_count": 288,
   "metadata": {},
   "outputs": [
    {
     "name": "stdout",
     "output_type": "stream",
     "text": [
      "5\n"
     ]
    },
    {
     "data": {
      "text/plain": [
       "메뉴        밀크티\n",
       "가격       5900\n",
       "칼로리       210\n",
       "원산지     코스타리카\n",
       "이벤트가      NaN\n",
       "Name: 5, dtype: object"
      ]
     },
     "execution_count": 288,
     "metadata": {},
     "output_type": "execute_result"
    }
   ],
   "source": [
    "# 최소값 혹은 최대값의 인덱스 찾기\n",
    "print(df['가격'].idxmax())\n",
    "df.loc[5]"
   ]
  },
  {
   "cell_type": "code",
   "execution_count": 289,
   "metadata": {},
   "outputs": [
    {
     "data": {
      "text/plain": [
       "메뉴      새로운 커피\n",
       "가격        2000\n",
       "칼로리         20\n",
       "원산지      코스타리카\n",
       "이벤트가       NaN\n",
       "Name: 7, dtype: object"
      ]
     },
     "execution_count": 289,
     "metadata": {},
     "output_type": "execute_result"
    }
   ],
   "source": [
    "# 최소로\n",
    "df.loc[df['가격'].idxmin()]"
   ]
  },
  {
   "cell_type": "code",
   "execution_count": 290,
   "metadata": {},
   "outputs": [
    {
     "data": {
      "text/html": [
       "<div>\n",
       "<style scoped>\n",
       "    .dataframe tbody tr th:only-of-type {\n",
       "        vertical-align: middle;\n",
       "    }\n",
       "\n",
       "    .dataframe tbody tr th {\n",
       "        vertical-align: top;\n",
       "    }\n",
       "\n",
       "    .dataframe thead th {\n",
       "        text-align: right;\n",
       "    }\n",
       "</style>\n",
       "<table border=\"1\" class=\"dataframe\">\n",
       "  <thead>\n",
       "    <tr style=\"text-align: right;\">\n",
       "      <th></th>\n",
       "      <th>메뉴</th>\n",
       "      <th>가격</th>\n",
       "      <th>칼로리</th>\n",
       "      <th>원산지</th>\n",
       "      <th>이벤트가</th>\n",
       "    </tr>\n",
       "  </thead>\n",
       "  <tbody>\n",
       "    <tr>\n",
       "      <th>5</th>\n",
       "      <td>밀크티</td>\n",
       "      <td>5900</td>\n",
       "      <td>210</td>\n",
       "      <td>코스타리카</td>\n",
       "      <td>NaN</td>\n",
       "    </tr>\n",
       "    <tr>\n",
       "      <th>2</th>\n",
       "      <td>카페모카</td>\n",
       "      <td>5500</td>\n",
       "      <td>250</td>\n",
       "      <td>과테말라</td>\n",
       "      <td>1000.0</td>\n",
       "    </tr>\n",
       "    <tr>\n",
       "      <th>6</th>\n",
       "      <td>녹차</td>\n",
       "      <td>5300</td>\n",
       "      <td>0</td>\n",
       "      <td>대한민국</td>\n",
       "      <td>NaN</td>\n",
       "    </tr>\n",
       "  </tbody>\n",
       "</table>\n",
       "</div>"
      ],
      "text/plain": [
       "     메뉴    가격  칼로리    원산지    이벤트가\n",
       "5   밀크티  5900  210  코스타리카     NaN\n",
       "2  카페모카  5500  250   과테말라  1000.0\n",
       "6    녹차  5300    0   대한민국     NaN"
      ]
     },
     "execution_count": 290,
     "metadata": {},
     "output_type": "execute_result"
    }
   ],
   "source": [
    "# 특정 컬럼에서 큰 순서 상위 n개 반환\n",
    "df.nlargest(3, '가격')"
   ]
  },
  {
   "cell_type": "code",
   "execution_count": 291,
   "metadata": {},
   "outputs": [
    {
     "data": {
      "text/html": [
       "<div>\n",
       "<style scoped>\n",
       "    .dataframe tbody tr th:only-of-type {\n",
       "        vertical-align: middle;\n",
       "    }\n",
       "\n",
       "    .dataframe tbody tr th {\n",
       "        vertical-align: top;\n",
       "    }\n",
       "\n",
       "    .dataframe thead th {\n",
       "        text-align: right;\n",
       "    }\n",
       "</style>\n",
       "<table border=\"1\" class=\"dataframe\">\n",
       "  <thead>\n",
       "    <tr style=\"text-align: right;\">\n",
       "      <th></th>\n",
       "      <th>메뉴</th>\n",
       "      <th>가격</th>\n",
       "      <th>칼로리</th>\n",
       "      <th>원산지</th>\n",
       "      <th>이벤트가</th>\n",
       "    </tr>\n",
       "  </thead>\n",
       "  <tbody>\n",
       "    <tr>\n",
       "      <th>7</th>\n",
       "      <td>새로운 커피</td>\n",
       "      <td>2000</td>\n",
       "      <td>20</td>\n",
       "      <td>코스타리카</td>\n",
       "      <td>NaN</td>\n",
       "    </tr>\n",
       "    <tr>\n",
       "      <th>4</th>\n",
       "      <td>에스프레소</td>\n",
       "      <td>4000</td>\n",
       "      <td>20</td>\n",
       "      <td>코스타리카</td>\n",
       "      <td>NaN</td>\n",
       "    </tr>\n",
       "    <tr>\n",
       "      <th>0</th>\n",
       "      <td>아메리카노</td>\n",
       "      <td>4500</td>\n",
       "      <td>10</td>\n",
       "      <td>콜롬비아</td>\n",
       "      <td>NaN</td>\n",
       "    </tr>\n",
       "    <tr>\n",
       "      <th>1</th>\n",
       "      <td>카페라떼</td>\n",
       "      <td>5000</td>\n",
       "      <td>110</td>\n",
       "      <td>코스타리카</td>\n",
       "      <td>1000.0</td>\n",
       "    </tr>\n",
       "    <tr>\n",
       "      <th>3</th>\n",
       "      <td>카푸치노</td>\n",
       "      <td>5000</td>\n",
       "      <td>110</td>\n",
       "      <td>과테말라</td>\n",
       "      <td>NaN</td>\n",
       "    </tr>\n",
       "  </tbody>\n",
       "</table>\n",
       "</div>"
      ],
      "text/plain": [
       "       메뉴    가격  칼로리    원산지    이벤트가\n",
       "7  새로운 커피  2000   20  코스타리카     NaN\n",
       "4   에스프레소  4000   20  코스타리카     NaN\n",
       "0   아메리카노  4500   10   콜롬비아     NaN\n",
       "1    카페라떼  5000  110  코스타리카  1000.0\n",
       "3    카푸치노  5000  110   과테말라     NaN"
      ]
     },
     "execution_count": 291,
     "metadata": {},
     "output_type": "execute_result"
    }
   ],
   "source": [
    "df.nsmallest(5, '가격')"
   ]
  },
  {
   "cell_type": "code",
   "execution_count": 292,
   "metadata": {},
   "outputs": [
    {
     "data": {
      "text/plain": [
       "0    Yes\n",
       "1     No\n",
       "2     No\n",
       "3     No\n",
       "4    Yes\n",
       "5     No\n",
       "6    Yes\n",
       "7    Yes\n",
       "Name: 칼로리, dtype: object"
      ]
     },
     "metadata": {},
     "output_type": "display_data"
    },
    {
     "data": {
      "text/html": [
       "<div>\n",
       "<style scoped>\n",
       "    .dataframe tbody tr th:only-of-type {\n",
       "        vertical-align: middle;\n",
       "    }\n",
       "\n",
       "    .dataframe tbody tr th {\n",
       "        vertical-align: top;\n",
       "    }\n",
       "\n",
       "    .dataframe thead th {\n",
       "        text-align: right;\n",
       "    }\n",
       "</style>\n",
       "<table border=\"1\" class=\"dataframe\">\n",
       "  <thead>\n",
       "    <tr style=\"text-align: right;\">\n",
       "      <th></th>\n",
       "      <th>메뉴</th>\n",
       "      <th>가격</th>\n",
       "      <th>칼로리</th>\n",
       "      <th>원산지</th>\n",
       "      <th>이벤트가</th>\n",
       "      <th>먹어도 될까</th>\n",
       "    </tr>\n",
       "  </thead>\n",
       "  <tbody>\n",
       "    <tr>\n",
       "      <th>0</th>\n",
       "      <td>아메리카노</td>\n",
       "      <td>4500</td>\n",
       "      <td>10</td>\n",
       "      <td>콜롬비아</td>\n",
       "      <td>NaN</td>\n",
       "      <td>Yes</td>\n",
       "    </tr>\n",
       "    <tr>\n",
       "      <th>1</th>\n",
       "      <td>카페라떼</td>\n",
       "      <td>5000</td>\n",
       "      <td>110</td>\n",
       "      <td>코스타리카</td>\n",
       "      <td>1000.0</td>\n",
       "      <td>No</td>\n",
       "    </tr>\n",
       "    <tr>\n",
       "      <th>2</th>\n",
       "      <td>카페모카</td>\n",
       "      <td>5500</td>\n",
       "      <td>250</td>\n",
       "      <td>과테말라</td>\n",
       "      <td>1000.0</td>\n",
       "      <td>No</td>\n",
       "    </tr>\n",
       "    <tr>\n",
       "      <th>3</th>\n",
       "      <td>카푸치노</td>\n",
       "      <td>5000</td>\n",
       "      <td>110</td>\n",
       "      <td>과테말라</td>\n",
       "      <td>NaN</td>\n",
       "      <td>No</td>\n",
       "    </tr>\n",
       "    <tr>\n",
       "      <th>4</th>\n",
       "      <td>에스프레소</td>\n",
       "      <td>4000</td>\n",
       "      <td>20</td>\n",
       "      <td>코스타리카</td>\n",
       "      <td>NaN</td>\n",
       "      <td>Yes</td>\n",
       "    </tr>\n",
       "    <tr>\n",
       "      <th>5</th>\n",
       "      <td>밀크티</td>\n",
       "      <td>5900</td>\n",
       "      <td>210</td>\n",
       "      <td>코스타리카</td>\n",
       "      <td>NaN</td>\n",
       "      <td>No</td>\n",
       "    </tr>\n",
       "    <tr>\n",
       "      <th>6</th>\n",
       "      <td>녹차</td>\n",
       "      <td>5300</td>\n",
       "      <td>0</td>\n",
       "      <td>대한민국</td>\n",
       "      <td>NaN</td>\n",
       "      <td>Yes</td>\n",
       "    </tr>\n",
       "    <tr>\n",
       "      <th>7</th>\n",
       "      <td>새로운 커피</td>\n",
       "      <td>2000</td>\n",
       "      <td>20</td>\n",
       "      <td>코스타리카</td>\n",
       "      <td>NaN</td>\n",
       "      <td>Yes</td>\n",
       "    </tr>\n",
       "  </tbody>\n",
       "</table>\n",
       "</div>"
      ],
      "text/plain": [
       "       메뉴    가격  칼로리    원산지    이벤트가 먹어도 될까\n",
       "0   아메리카노  4500   10   콜롬비아     NaN    Yes\n",
       "1    카페라떼  5000  110  코스타리카  1000.0     No\n",
       "2    카페모카  5500  250   과테말라  1000.0     No\n",
       "3    카푸치노  5000  110   과테말라     NaN     No\n",
       "4   에스프레소  4000   20  코스타리카     NaN    Yes\n",
       "5     밀크티  5900  210  코스타리카     NaN     No\n",
       "6      녹차  5300    0   대한민국     NaN    Yes\n",
       "7  새로운 커피  2000   20  코스타리카     NaN    Yes"
      ]
     },
     "execution_count": 292,
     "metadata": {},
     "output_type": "execute_result"
    }
   ],
   "source": [
    "# apply 사용하기\n",
    "\n",
    "def cal(x):\n",
    "    if x >= 100: return 'No'\n",
    "    else: return 'Yes'\n",
    "\n",
    "# 확인\n",
    "display(df['칼로리'].apply(cal))\n",
    "\n",
    "# 열로 추가\n",
    "df['먹어도 될까'] = df['칼로리'].apply(cal)\n",
    "df"
   ]
  },
  {
   "cell_type": "code",
   "execution_count": 293,
   "metadata": {},
   "outputs": [
    {
     "data": {
      "text/html": [
       "<div>\n",
       "<style scoped>\n",
       "    .dataframe tbody tr th:only-of-type {\n",
       "        vertical-align: middle;\n",
       "    }\n",
       "\n",
       "    .dataframe tbody tr th {\n",
       "        vertical-align: top;\n",
       "    }\n",
       "\n",
       "    .dataframe thead th {\n",
       "        text-align: right;\n",
       "    }\n",
       "</style>\n",
       "<table border=\"1\" class=\"dataframe\">\n",
       "  <thead>\n",
       "    <tr style=\"text-align: right;\">\n",
       "      <th></th>\n",
       "      <th>Name</th>\n",
       "      <th>수학</th>\n",
       "      <th>영어</th>\n",
       "      <th>국어</th>\n",
       "    </tr>\n",
       "  </thead>\n",
       "  <tbody>\n",
       "    <tr>\n",
       "      <th>0</th>\n",
       "      <td>쿼카</td>\n",
       "      <td>90</td>\n",
       "      <td>92</td>\n",
       "      <td>91</td>\n",
       "    </tr>\n",
       "    <tr>\n",
       "      <th>1</th>\n",
       "      <td>알파카</td>\n",
       "      <td>93</td>\n",
       "      <td>84</td>\n",
       "      <td>94</td>\n",
       "    </tr>\n",
       "    <tr>\n",
       "      <th>2</th>\n",
       "      <td>시바견</td>\n",
       "      <td>85</td>\n",
       "      <td>86</td>\n",
       "      <td>83</td>\n",
       "    </tr>\n",
       "  </tbody>\n",
       "</table>\n",
       "</div>"
      ],
      "text/plain": [
       "  Name  수학  영어  국어\n",
       "0   쿼카  90  92  91\n",
       "1  알파카  93  84  94\n",
       "2  시바견  85  86  83"
      ]
     },
     "execution_count": 293,
     "metadata": {},
     "output_type": "execute_result"
    }
   ],
   "source": [
    "# melt 사용해보기\n",
    "import pandas as pd\n",
    "df = pd.DataFrame({'Name': {0: '쿼카', 1: '알파카', 2: '시바견'},\n",
    "                   '수학': {0: 90, 1: 93, 2: 85},\n",
    "                   '영어': {0: 92, 1: 84, 2: 86},\n",
    "                   '국어': {0: 91, 1: 94, 2: 83},})\n",
    "\n",
    "df"
   ]
  },
  {
   "cell_type": "code",
   "execution_count": 294,
   "metadata": {},
   "outputs": [
    {
     "data": {
      "text/html": [
       "<div>\n",
       "<style scoped>\n",
       "    .dataframe tbody tr th:only-of-type {\n",
       "        vertical-align: middle;\n",
       "    }\n",
       "\n",
       "    .dataframe tbody tr th {\n",
       "        vertical-align: top;\n",
       "    }\n",
       "\n",
       "    .dataframe thead th {\n",
       "        text-align: right;\n",
       "    }\n",
       "</style>\n",
       "<table border=\"1\" class=\"dataframe\">\n",
       "  <thead>\n",
       "    <tr style=\"text-align: right;\">\n",
       "      <th></th>\n",
       "      <th>Name</th>\n",
       "      <th>variable</th>\n",
       "      <th>value</th>\n",
       "    </tr>\n",
       "  </thead>\n",
       "  <tbody>\n",
       "    <tr>\n",
       "      <th>0</th>\n",
       "      <td>쿼카</td>\n",
       "      <td>수학</td>\n",
       "      <td>90</td>\n",
       "    </tr>\n",
       "    <tr>\n",
       "      <th>1</th>\n",
       "      <td>알파카</td>\n",
       "      <td>수학</td>\n",
       "      <td>93</td>\n",
       "    </tr>\n",
       "    <tr>\n",
       "      <th>2</th>\n",
       "      <td>시바견</td>\n",
       "      <td>수학</td>\n",
       "      <td>85</td>\n",
       "    </tr>\n",
       "    <tr>\n",
       "      <th>3</th>\n",
       "      <td>쿼카</td>\n",
       "      <td>영어</td>\n",
       "      <td>92</td>\n",
       "    </tr>\n",
       "    <tr>\n",
       "      <th>4</th>\n",
       "      <td>알파카</td>\n",
       "      <td>영어</td>\n",
       "      <td>84</td>\n",
       "    </tr>\n",
       "    <tr>\n",
       "      <th>5</th>\n",
       "      <td>시바견</td>\n",
       "      <td>영어</td>\n",
       "      <td>86</td>\n",
       "    </tr>\n",
       "    <tr>\n",
       "      <th>6</th>\n",
       "      <td>쿼카</td>\n",
       "      <td>국어</td>\n",
       "      <td>91</td>\n",
       "    </tr>\n",
       "    <tr>\n",
       "      <th>7</th>\n",
       "      <td>알파카</td>\n",
       "      <td>국어</td>\n",
       "      <td>94</td>\n",
       "    </tr>\n",
       "    <tr>\n",
       "      <th>8</th>\n",
       "      <td>시바견</td>\n",
       "      <td>국어</td>\n",
       "      <td>83</td>\n",
       "    </tr>\n",
       "  </tbody>\n",
       "</table>\n",
       "</div>"
      ],
      "text/plain": [
       "  Name variable  value\n",
       "0   쿼카       수학     90\n",
       "1  알파카       수학     93\n",
       "2  시바견       수학     85\n",
       "3   쿼카       영어     92\n",
       "4  알파카       영어     84\n",
       "5  시바견       영어     86\n",
       "6   쿼카       국어     91\n",
       "7  알파카       국어     94\n",
       "8  시바견       국어     83"
      ]
     },
     "execution_count": 294,
     "metadata": {},
     "output_type": "execute_result"
    }
   ],
   "source": [
    "pd.melt(df, id_vars=['Name'], value_vars=['수학', '영어', '국어'])"
   ]
  },
  {
   "cell_type": "code",
   "execution_count": 295,
   "metadata": {},
   "outputs": [],
   "source": [
    "# 그룹핑"
   ]
  },
  {
   "cell_type": "code",
   "execution_count": 296,
   "metadata": {},
   "outputs": [
    {
     "data": {
      "text/html": [
       "<div>\n",
       "<style scoped>\n",
       "    .dataframe tbody tr th:only-of-type {\n",
       "        vertical-align: middle;\n",
       "    }\n",
       "\n",
       "    .dataframe tbody tr th {\n",
       "        vertical-align: top;\n",
       "    }\n",
       "\n",
       "    .dataframe thead th {\n",
       "        text-align: right;\n",
       "    }\n",
       "</style>\n",
       "<table border=\"1\" class=\"dataframe\">\n",
       "  <thead>\n",
       "    <tr style=\"text-align: right;\">\n",
       "      <th></th>\n",
       "      <th>메뉴</th>\n",
       "      <th>가격</th>\n",
       "      <th>칼로리</th>\n",
       "      <th>원산지</th>\n",
       "      <th>이벤트가</th>\n",
       "    </tr>\n",
       "  </thead>\n",
       "  <tbody>\n",
       "    <tr>\n",
       "      <th>0</th>\n",
       "      <td>아메리카노</td>\n",
       "      <td>4500</td>\n",
       "      <td>10</td>\n",
       "      <td>콜롬비아</td>\n",
       "      <td>NaN</td>\n",
       "    </tr>\n",
       "    <tr>\n",
       "      <th>1</th>\n",
       "      <td>카페라떼</td>\n",
       "      <td>5000</td>\n",
       "      <td>110</td>\n",
       "      <td>코스타리카</td>\n",
       "      <td>1000.0</td>\n",
       "    </tr>\n",
       "    <tr>\n",
       "      <th>2</th>\n",
       "      <td>카페모카</td>\n",
       "      <td>5500</td>\n",
       "      <td>250</td>\n",
       "      <td>과테말라</td>\n",
       "      <td>1000.0</td>\n",
       "    </tr>\n",
       "  </tbody>\n",
       "</table>\n",
       "</div>"
      ],
      "text/plain": [
       "      메뉴    가격  칼로리    원산지    이벤트가\n",
       "0  아메리카노  4500   10   콜롬비아     NaN\n",
       "1   카페라떼  5000  110  코스타리카  1000.0\n",
       "2   카페모카  5500  250   과테말라  1000.0"
      ]
     },
     "execution_count": 296,
     "metadata": {},
     "output_type": "execute_result"
    }
   ],
   "source": [
    "df = pd.read_csv('cafe4.csv')\n",
    "df.head(3)"
   ]
  },
  {
   "cell_type": "code",
   "execution_count": 297,
   "metadata": {},
   "outputs": [
    {
     "data": {
      "text/html": [
       "<div>\n",
       "<style scoped>\n",
       "    .dataframe tbody tr th:only-of-type {\n",
       "        vertical-align: middle;\n",
       "    }\n",
       "\n",
       "    .dataframe tbody tr th {\n",
       "        vertical-align: top;\n",
       "    }\n",
       "\n",
       "    .dataframe thead th {\n",
       "        text-align: right;\n",
       "    }\n",
       "</style>\n",
       "<table border=\"1\" class=\"dataframe\">\n",
       "  <thead>\n",
       "    <tr style=\"text-align: right;\">\n",
       "      <th></th>\n",
       "      <th>가격</th>\n",
       "      <th>칼로리</th>\n",
       "      <th>이벤트가</th>\n",
       "    </tr>\n",
       "    <tr>\n",
       "      <th>원산지</th>\n",
       "      <th></th>\n",
       "      <th></th>\n",
       "      <th></th>\n",
       "    </tr>\n",
       "  </thead>\n",
       "  <tbody>\n",
       "    <tr>\n",
       "      <th>과테말라</th>\n",
       "      <td>5250.0</td>\n",
       "      <td>180.0</td>\n",
       "      <td>1000.0</td>\n",
       "    </tr>\n",
       "    <tr>\n",
       "      <th>대한민국</th>\n",
       "      <td>5300.0</td>\n",
       "      <td>0.0</td>\n",
       "      <td>NaN</td>\n",
       "    </tr>\n",
       "    <tr>\n",
       "      <th>코스타리카</th>\n",
       "      <td>4225.0</td>\n",
       "      <td>90.0</td>\n",
       "      <td>1000.0</td>\n",
       "    </tr>\n",
       "    <tr>\n",
       "      <th>콜롬비아</th>\n",
       "      <td>4500.0</td>\n",
       "      <td>10.0</td>\n",
       "      <td>NaN</td>\n",
       "    </tr>\n",
       "  </tbody>\n",
       "</table>\n",
       "</div>"
      ],
      "text/plain": [
       "           가격    칼로리    이벤트가\n",
       "원산지                         \n",
       "과테말라   5250.0  180.0  1000.0\n",
       "대한민국   5300.0    0.0     NaN\n",
       "코스타리카  4225.0   90.0  1000.0\n",
       "콜롬비아   4500.0   10.0     NaN"
      ]
     },
     "execution_count": 297,
     "metadata": {},
     "output_type": "execute_result"
    }
   ],
   "source": [
    "df.groupby(['원산지']).mean(numeric_only=True)"
   ]
  },
  {
   "cell_type": "code",
   "execution_count": 298,
   "metadata": {},
   "outputs": [
    {
     "data": {
      "text/html": [
       "<div>\n",
       "<style scoped>\n",
       "    .dataframe tbody tr th:only-of-type {\n",
       "        vertical-align: middle;\n",
       "    }\n",
       "\n",
       "    .dataframe tbody tr th {\n",
       "        vertical-align: top;\n",
       "    }\n",
       "\n",
       "    .dataframe thead th {\n",
       "        text-align: right;\n",
       "    }\n",
       "</style>\n",
       "<table border=\"1\" class=\"dataframe\">\n",
       "  <thead>\n",
       "    <tr style=\"text-align: right;\">\n",
       "      <th></th>\n",
       "      <th></th>\n",
       "      <th>가격</th>\n",
       "      <th>이벤트가</th>\n",
       "    </tr>\n",
       "    <tr>\n",
       "      <th>원산지</th>\n",
       "      <th>칼로리</th>\n",
       "      <th></th>\n",
       "      <th></th>\n",
       "    </tr>\n",
       "  </thead>\n",
       "  <tbody>\n",
       "    <tr>\n",
       "      <th rowspan=\"2\" valign=\"top\">과테말라</th>\n",
       "      <th>110</th>\n",
       "      <td>5000.0</td>\n",
       "      <td>NaN</td>\n",
       "    </tr>\n",
       "    <tr>\n",
       "      <th>250</th>\n",
       "      <td>5500.0</td>\n",
       "      <td>1000.0</td>\n",
       "    </tr>\n",
       "    <tr>\n",
       "      <th>대한민국</th>\n",
       "      <th>0</th>\n",
       "      <td>5300.0</td>\n",
       "      <td>NaN</td>\n",
       "    </tr>\n",
       "    <tr>\n",
       "      <th rowspan=\"3\" valign=\"top\">코스타리카</th>\n",
       "      <th>20</th>\n",
       "      <td>3000.0</td>\n",
       "      <td>NaN</td>\n",
       "    </tr>\n",
       "    <tr>\n",
       "      <th>110</th>\n",
       "      <td>5000.0</td>\n",
       "      <td>1000.0</td>\n",
       "    </tr>\n",
       "    <tr>\n",
       "      <th>210</th>\n",
       "      <td>5900.0</td>\n",
       "      <td>NaN</td>\n",
       "    </tr>\n",
       "    <tr>\n",
       "      <th>콜롬비아</th>\n",
       "      <th>10</th>\n",
       "      <td>4500.0</td>\n",
       "      <td>NaN</td>\n",
       "    </tr>\n",
       "  </tbody>\n",
       "</table>\n",
       "</div>"
      ],
      "text/plain": [
       "               가격    이벤트가\n",
       "원산지   칼로리                \n",
       "과테말라  110  5000.0     NaN\n",
       "      250  5500.0  1000.0\n",
       "대한민국  0    5300.0     NaN\n",
       "코스타리카 20   3000.0     NaN\n",
       "      110  5000.0  1000.0\n",
       "      210  5900.0     NaN\n",
       "콜롬비아  10   4500.0     NaN"
      ]
     },
     "execution_count": 298,
     "metadata": {},
     "output_type": "execute_result"
    }
   ],
   "source": [
    "df.groupby(['원산지', '칼로리']).mean(numeric_only=True)"
   ]
  },
  {
   "cell_type": "code",
   "execution_count": 299,
   "metadata": {},
   "outputs": [
    {
     "data": {
      "text/html": [
       "<div>\n",
       "<style scoped>\n",
       "    .dataframe tbody tr th:only-of-type {\n",
       "        vertical-align: middle;\n",
       "    }\n",
       "\n",
       "    .dataframe tbody tr th {\n",
       "        vertical-align: top;\n",
       "    }\n",
       "\n",
       "    .dataframe thead th {\n",
       "        text-align: right;\n",
       "    }\n",
       "</style>\n",
       "<table border=\"1\" class=\"dataframe\">\n",
       "  <thead>\n",
       "    <tr style=\"text-align: right;\">\n",
       "      <th></th>\n",
       "      <th>메뉴</th>\n",
       "      <th>가격</th>\n",
       "      <th>칼로리</th>\n",
       "      <th>이벤트가</th>\n",
       "    </tr>\n",
       "    <tr>\n",
       "      <th>원산지</th>\n",
       "      <th></th>\n",
       "      <th></th>\n",
       "      <th></th>\n",
       "      <th></th>\n",
       "    </tr>\n",
       "  </thead>\n",
       "  <tbody>\n",
       "    <tr>\n",
       "      <th>과테말라</th>\n",
       "      <td>2</td>\n",
       "      <td>2</td>\n",
       "      <td>2</td>\n",
       "      <td>1</td>\n",
       "    </tr>\n",
       "    <tr>\n",
       "      <th>대한민국</th>\n",
       "      <td>1</td>\n",
       "      <td>1</td>\n",
       "      <td>1</td>\n",
       "      <td>0</td>\n",
       "    </tr>\n",
       "    <tr>\n",
       "      <th>코스타리카</th>\n",
       "      <td>4</td>\n",
       "      <td>4</td>\n",
       "      <td>4</td>\n",
       "      <td>1</td>\n",
       "    </tr>\n",
       "    <tr>\n",
       "      <th>콜롬비아</th>\n",
       "      <td>1</td>\n",
       "      <td>1</td>\n",
       "      <td>1</td>\n",
       "      <td>0</td>\n",
       "    </tr>\n",
       "  </tbody>\n",
       "</table>\n",
       "</div>"
      ],
      "text/plain": [
       "       메뉴  가격  칼로리  이벤트가\n",
       "원산지                     \n",
       "과테말라    2   2    2     1\n",
       "대한민국    1   1    1     0\n",
       "코스타리카   4   4    4     1\n",
       "콜롬비아    1   1    1     0"
      ]
     },
     "execution_count": 299,
     "metadata": {},
     "output_type": "execute_result"
    }
   ],
   "source": [
    "# mean, sum, max, min, count, size\n",
    "df.groupby('원산지').min()\n",
    "df.groupby('원산지').max()\n",
    "df.groupby('원산지').sum()\n",
    "df.groupby('원산지').size()\n",
    "df.groupby('원산지').count()"
   ]
  },
  {
   "cell_type": "code",
   "execution_count": 300,
   "metadata": {},
   "outputs": [
    {
     "data": {
      "text/html": [
       "<div>\n",
       "<style scoped>\n",
       "    .dataframe tbody tr th:only-of-type {\n",
       "        vertical-align: middle;\n",
       "    }\n",
       "\n",
       "    .dataframe tbody tr th {\n",
       "        vertical-align: top;\n",
       "    }\n",
       "\n",
       "    .dataframe thead th {\n",
       "        text-align: right;\n",
       "    }\n",
       "</style>\n",
       "<table border=\"1\" class=\"dataframe\">\n",
       "  <thead>\n",
       "    <tr style=\"text-align: right;\">\n",
       "      <th></th>\n",
       "      <th></th>\n",
       "      <th>가격</th>\n",
       "      <th>이벤트가</th>\n",
       "    </tr>\n",
       "    <tr>\n",
       "      <th>원산지</th>\n",
       "      <th>칼로리</th>\n",
       "      <th></th>\n",
       "      <th></th>\n",
       "    </tr>\n",
       "  </thead>\n",
       "  <tbody>\n",
       "    <tr>\n",
       "      <th rowspan=\"2\" valign=\"top\">과테말라</th>\n",
       "      <th>110</th>\n",
       "      <td>5000.0</td>\n",
       "      <td>NaN</td>\n",
       "    </tr>\n",
       "    <tr>\n",
       "      <th>250</th>\n",
       "      <td>5500.0</td>\n",
       "      <td>1000.0</td>\n",
       "    </tr>\n",
       "    <tr>\n",
       "      <th>대한민국</th>\n",
       "      <th>0</th>\n",
       "      <td>5300.0</td>\n",
       "      <td>NaN</td>\n",
       "    </tr>\n",
       "    <tr>\n",
       "      <th rowspan=\"3\" valign=\"top\">코스타리카</th>\n",
       "      <th>20</th>\n",
       "      <td>3000.0</td>\n",
       "      <td>NaN</td>\n",
       "    </tr>\n",
       "    <tr>\n",
       "      <th>110</th>\n",
       "      <td>5000.0</td>\n",
       "      <td>1000.0</td>\n",
       "    </tr>\n",
       "    <tr>\n",
       "      <th>210</th>\n",
       "      <td>5900.0</td>\n",
       "      <td>NaN</td>\n",
       "    </tr>\n",
       "    <tr>\n",
       "      <th>콜롬비아</th>\n",
       "      <th>10</th>\n",
       "      <td>4500.0</td>\n",
       "      <td>NaN</td>\n",
       "    </tr>\n",
       "  </tbody>\n",
       "</table>\n",
       "</div>"
      ],
      "text/plain": [
       "               가격    이벤트가\n",
       "원산지   칼로리                \n",
       "과테말라  110  5000.0     NaN\n",
       "      250  5500.0  1000.0\n",
       "대한민국  0    5300.0     NaN\n",
       "코스타리카 20   3000.0     NaN\n",
       "      110  5000.0  1000.0\n",
       "      210  5900.0     NaN\n",
       "콜롬비아  10   4500.0     NaN"
      ]
     },
     "execution_count": 300,
     "metadata": {},
     "output_type": "execute_result"
    }
   ],
   "source": [
    "df.groupby(['원산지', '칼로리']).mean(numeric_only=True)"
   ]
  },
  {
   "cell_type": "code",
   "execution_count": 301,
   "metadata": {},
   "outputs": [
    {
     "data": {
      "text/html": [
       "<div>\n",
       "<style scoped>\n",
       "    .dataframe tbody tr th:only-of-type {\n",
       "        vertical-align: middle;\n",
       "    }\n",
       "\n",
       "    .dataframe tbody tr th {\n",
       "        vertical-align: top;\n",
       "    }\n",
       "\n",
       "    .dataframe thead tr th {\n",
       "        text-align: left;\n",
       "    }\n",
       "\n",
       "    .dataframe thead tr:last-of-type th {\n",
       "        text-align: right;\n",
       "    }\n",
       "</style>\n",
       "<table border=\"1\" class=\"dataframe\">\n",
       "  <thead>\n",
       "    <tr>\n",
       "      <th></th>\n",
       "      <th></th>\n",
       "      <th colspan=\"2\" halign=\"left\">메뉴</th>\n",
       "      <th colspan=\"2\" halign=\"left\">가격</th>\n",
       "      <th colspan=\"2\" halign=\"left\">이벤트가</th>\n",
       "    </tr>\n",
       "    <tr>\n",
       "      <th></th>\n",
       "      <th></th>\n",
       "      <th>max</th>\n",
       "      <th>min</th>\n",
       "      <th>max</th>\n",
       "      <th>min</th>\n",
       "      <th>max</th>\n",
       "      <th>min</th>\n",
       "    </tr>\n",
       "    <tr>\n",
       "      <th>원산지</th>\n",
       "      <th>칼로리</th>\n",
       "      <th></th>\n",
       "      <th></th>\n",
       "      <th></th>\n",
       "      <th></th>\n",
       "      <th></th>\n",
       "      <th></th>\n",
       "    </tr>\n",
       "  </thead>\n",
       "  <tbody>\n",
       "    <tr>\n",
       "      <th rowspan=\"2\" valign=\"top\">과테말라</th>\n",
       "      <th>110</th>\n",
       "      <td>카푸치노</td>\n",
       "      <td>카푸치노</td>\n",
       "      <td>5000</td>\n",
       "      <td>5000</td>\n",
       "      <td>NaN</td>\n",
       "      <td>NaN</td>\n",
       "    </tr>\n",
       "    <tr>\n",
       "      <th>250</th>\n",
       "      <td>카페모카</td>\n",
       "      <td>카페모카</td>\n",
       "      <td>5500</td>\n",
       "      <td>5500</td>\n",
       "      <td>1000.0</td>\n",
       "      <td>1000.0</td>\n",
       "    </tr>\n",
       "    <tr>\n",
       "      <th>대한민국</th>\n",
       "      <th>0</th>\n",
       "      <td>녹차</td>\n",
       "      <td>녹차</td>\n",
       "      <td>5300</td>\n",
       "      <td>5300</td>\n",
       "      <td>NaN</td>\n",
       "      <td>NaN</td>\n",
       "    </tr>\n",
       "    <tr>\n",
       "      <th rowspan=\"3\" valign=\"top\">코스타리카</th>\n",
       "      <th>20</th>\n",
       "      <td>에스프레소</td>\n",
       "      <td>새로운 커피</td>\n",
       "      <td>4000</td>\n",
       "      <td>2000</td>\n",
       "      <td>NaN</td>\n",
       "      <td>NaN</td>\n",
       "    </tr>\n",
       "    <tr>\n",
       "      <th>110</th>\n",
       "      <td>카페라떼</td>\n",
       "      <td>카페라떼</td>\n",
       "      <td>5000</td>\n",
       "      <td>5000</td>\n",
       "      <td>1000.0</td>\n",
       "      <td>1000.0</td>\n",
       "    </tr>\n",
       "    <tr>\n",
       "      <th>210</th>\n",
       "      <td>밀크티</td>\n",
       "      <td>밀크티</td>\n",
       "      <td>5900</td>\n",
       "      <td>5900</td>\n",
       "      <td>NaN</td>\n",
       "      <td>NaN</td>\n",
       "    </tr>\n",
       "    <tr>\n",
       "      <th>콜롬비아</th>\n",
       "      <th>10</th>\n",
       "      <td>아메리카노</td>\n",
       "      <td>아메리카노</td>\n",
       "      <td>4500</td>\n",
       "      <td>4500</td>\n",
       "      <td>NaN</td>\n",
       "      <td>NaN</td>\n",
       "    </tr>\n",
       "  </tbody>\n",
       "</table>\n",
       "</div>"
      ],
      "text/plain": [
       "              메뉴            가격          이벤트가        \n",
       "             max     min   max   min     max     min\n",
       "원산지   칼로리                                           \n",
       "과테말라  110   카푸치노    카푸치노  5000  5000     NaN     NaN\n",
       "      250   카페모카    카페모카  5500  5500  1000.0  1000.0\n",
       "대한민국  0       녹차      녹차  5300  5300     NaN     NaN\n",
       "코스타리카 20   에스프레소  새로운 커피  4000  2000     NaN     NaN\n",
       "      110   카페라떼    카페라떼  5000  5000  1000.0  1000.0\n",
       "      210    밀크티     밀크티  5900  5900     NaN     NaN\n",
       "콜롬비아  10   아메리카노   아메리카노  4500  4500     NaN     NaN"
      ]
     },
     "execution_count": 301,
     "metadata": {},
     "output_type": "execute_result"
    }
   ],
   "source": [
    "df.groupby(['원산지', '칼로리']).agg(['max', 'min'])"
   ]
  },
  {
   "cell_type": "code",
   "execution_count": 302,
   "metadata": {},
   "outputs": [
    {
     "data": {
      "text/html": [
       "<div>\n",
       "<style scoped>\n",
       "    .dataframe tbody tr th:only-of-type {\n",
       "        vertical-align: middle;\n",
       "    }\n",
       "\n",
       "    .dataframe tbody tr th {\n",
       "        vertical-align: top;\n",
       "    }\n",
       "\n",
       "    .dataframe thead th {\n",
       "        text-align: right;\n",
       "    }\n",
       "</style>\n",
       "<table border=\"1\" class=\"dataframe\">\n",
       "  <thead>\n",
       "    <tr style=\"text-align: right;\">\n",
       "      <th></th>\n",
       "      <th>원산지</th>\n",
       "      <th>칼로리</th>\n",
       "      <th>가격</th>\n",
       "      <th>이벤트가</th>\n",
       "    </tr>\n",
       "  </thead>\n",
       "  <tbody>\n",
       "    <tr>\n",
       "      <th>0</th>\n",
       "      <td>과테말라</td>\n",
       "      <td>110</td>\n",
       "      <td>5000.0</td>\n",
       "      <td>NaN</td>\n",
       "    </tr>\n",
       "    <tr>\n",
       "      <th>1</th>\n",
       "      <td>과테말라</td>\n",
       "      <td>250</td>\n",
       "      <td>5500.0</td>\n",
       "      <td>1000.0</td>\n",
       "    </tr>\n",
       "    <tr>\n",
       "      <th>2</th>\n",
       "      <td>대한민국</td>\n",
       "      <td>0</td>\n",
       "      <td>5300.0</td>\n",
       "      <td>NaN</td>\n",
       "    </tr>\n",
       "    <tr>\n",
       "      <th>3</th>\n",
       "      <td>코스타리카</td>\n",
       "      <td>20</td>\n",
       "      <td>3000.0</td>\n",
       "      <td>NaN</td>\n",
       "    </tr>\n",
       "    <tr>\n",
       "      <th>4</th>\n",
       "      <td>코스타리카</td>\n",
       "      <td>110</td>\n",
       "      <td>5000.0</td>\n",
       "      <td>1000.0</td>\n",
       "    </tr>\n",
       "    <tr>\n",
       "      <th>5</th>\n",
       "      <td>코스타리카</td>\n",
       "      <td>210</td>\n",
       "      <td>5900.0</td>\n",
       "      <td>NaN</td>\n",
       "    </tr>\n",
       "    <tr>\n",
       "      <th>6</th>\n",
       "      <td>콜롬비아</td>\n",
       "      <td>10</td>\n",
       "      <td>4500.0</td>\n",
       "      <td>NaN</td>\n",
       "    </tr>\n",
       "  </tbody>\n",
       "</table>\n",
       "</div>"
      ],
      "text/plain": [
       "     원산지  칼로리      가격    이벤트가\n",
       "0   과테말라  110  5000.0     NaN\n",
       "1   과테말라  250  5500.0  1000.0\n",
       "2   대한민국    0  5300.0     NaN\n",
       "3  코스타리카   20  3000.0     NaN\n",
       "4  코스타리카  110  5000.0  1000.0\n",
       "5  코스타리카  210  5900.0     NaN\n",
       "6   콜롬비아   10  4500.0     NaN"
      ]
     },
     "execution_count": 302,
     "metadata": {},
     "output_type": "execute_result"
    }
   ],
   "source": [
    "# reset_index\n",
    "\n",
    "df.groupby(['원산지', '칼로리']).mean(numeric_only=True).reset_index()"
   ]
  },
  {
   "cell_type": "code",
   "execution_count": 303,
   "metadata": {},
   "outputs": [
    {
     "data": {
      "text/html": [
       "<div>\n",
       "<style scoped>\n",
       "    .dataframe tbody tr th:only-of-type {\n",
       "        vertical-align: middle;\n",
       "    }\n",
       "\n",
       "    .dataframe tbody tr th {\n",
       "        vertical-align: top;\n",
       "    }\n",
       "\n",
       "    .dataframe thead th {\n",
       "        text-align: right;\n",
       "    }\n",
       "</style>\n",
       "<table border=\"1\" class=\"dataframe\">\n",
       "  <thead>\n",
       "    <tr style=\"text-align: right;\">\n",
       "      <th></th>\n",
       "      <th>Date1</th>\n",
       "      <th>Date2</th>\n",
       "      <th>Date3</th>\n",
       "      <th>Date4</th>\n",
       "      <th>Date5</th>\n",
       "      <th>DateTime1</th>\n",
       "      <th>DateTime2</th>\n",
       "      <th>DateTime3</th>\n",
       "      <th>DateTime4</th>\n",
       "    </tr>\n",
       "  </thead>\n",
       "  <tbody>\n",
       "    <tr>\n",
       "      <th>0</th>\n",
       "      <td>2024-02-17</td>\n",
       "      <td>2024:02:17</td>\n",
       "      <td>24/02/17</td>\n",
       "      <td>02/17/2024</td>\n",
       "      <td>17-Feb-2024</td>\n",
       "      <td>24-02-17 13:45:30</td>\n",
       "      <td>2024-02-17 13-45-30</td>\n",
       "      <td>02/17/2024 01:45:30 PM</td>\n",
       "      <td>17 Feb 2024 13:45:30</td>\n",
       "    </tr>\n",
       "    <tr>\n",
       "      <th>1</th>\n",
       "      <td>2024-02-18</td>\n",
       "      <td>2024:02:18</td>\n",
       "      <td>24/02/18</td>\n",
       "      <td>02/18/2024</td>\n",
       "      <td>18-Feb-2024</td>\n",
       "      <td>24-02-18 14:55:45</td>\n",
       "      <td>2024-02-18 14-55-45</td>\n",
       "      <td>02/18/2024 02:55:45 PM</td>\n",
       "      <td>18 Feb 2024 14:55:45</td>\n",
       "    </tr>\n",
       "    <tr>\n",
       "      <th>2</th>\n",
       "      <td>2024-02-19</td>\n",
       "      <td>2024:02:19</td>\n",
       "      <td>24/02/19</td>\n",
       "      <td>02/19/2024</td>\n",
       "      <td>19-Feb-2024</td>\n",
       "      <td>24-02-19 15:30:15</td>\n",
       "      <td>2024-02-19 15-30-15</td>\n",
       "      <td>02/19/2024 03:30:15 AM</td>\n",
       "      <td>19 Feb 2024 15:30:15</td>\n",
       "    </tr>\n",
       "    <tr>\n",
       "      <th>3</th>\n",
       "      <td>2024-02-20</td>\n",
       "      <td>2024:02:20</td>\n",
       "      <td>24/02/20</td>\n",
       "      <td>02/20/2024</td>\n",
       "      <td>20-Feb-2024</td>\n",
       "      <td>24-02-20 16:10:50</td>\n",
       "      <td>2024-02-20 16-10-50</td>\n",
       "      <td>02/20/2024 04:10:50 AM</td>\n",
       "      <td>20 Feb 2024 16:10:50</td>\n",
       "    </tr>\n",
       "  </tbody>\n",
       "</table>\n",
       "</div>"
      ],
      "text/plain": [
       "        Date1       Date2     Date3       Date4        Date5  \\\n",
       "0  2024-02-17  2024:02:17  24/02/17  02/17/2024  17-Feb-2024   \n",
       "1  2024-02-18  2024:02:18  24/02/18  02/18/2024  18-Feb-2024   \n",
       "2  2024-02-19  2024:02:19  24/02/19  02/19/2024  19-Feb-2024   \n",
       "3  2024-02-20  2024:02:20  24/02/20  02/20/2024  20-Feb-2024   \n",
       "\n",
       "           DateTime1            DateTime2               DateTime3  \\\n",
       "0  24-02-17 13:45:30  2024-02-17 13-45-30  02/17/2024 01:45:30 PM   \n",
       "1  24-02-18 14:55:45  2024-02-18 14-55-45  02/18/2024 02:55:45 PM   \n",
       "2  24-02-19 15:30:15  2024-02-19 15-30-15  02/19/2024 03:30:15 AM   \n",
       "3  24-02-20 16:10:50  2024-02-20 16-10-50  02/20/2024 04:10:50 AM   \n",
       "\n",
       "              DateTime4  \n",
       "0  17 Feb 2024 13:45:30  \n",
       "1  18 Feb 2024 14:55:45  \n",
       "2  19 Feb 2024 15:30:15  \n",
       "3  20 Feb 2024 16:10:50  "
      ]
     },
     "execution_count": 303,
     "metadata": {},
     "output_type": "execute_result"
    }
   ],
   "source": [
    "# 시계열 데이터\n",
    "\n",
    "import pandas as pd\n",
    "data = {\n",
    "    'Date1': ['2024-02-17', '2024-02-18', '2024-02-19', '2024-02-20'],\n",
    "    'Date2': ['2024:02:17', '2024:02:18', '2024:02:19', '2024:02:20'],\n",
    "    'Date3': ['24/02/17', '24/02/18', '24/02/19', '24/02/20'],\n",
    "    'Date4': ['02/17/2024', '02/18/2024', '02/19/2024', '02/20/2024'],\n",
    "    'Date5': ['17-Feb-2024', '18-Feb-2024', '19-Feb-2024', '20-Feb-2024'],\n",
    "    'DateTime1': ['24-02-17 13:45:30', '24-02-18 14:55:45', '24-02-19 15:30:15', '24-02-20 16:10:50'],\n",
    "    'DateTime2': ['2024-02-17 13-45-30', '2024-02-18 14-55-45', '2024-02-19 15-30-15', '2024-02-20 16-10-50'],\n",
    "    'DateTime3': ['02/17/2024 01:45:30 PM', '02/18/2024 02:55:45 PM', '02/19/2024 03:30:15 AM', '02/20/2024 04:10:50 AM'],\n",
    "    'DateTime4': ['17 Feb 2024 13:45:30', '18 Feb 2024 14:55:45', '19 Feb 2024 15:30:15', '20 Feb 2024 16:10:50']\n",
    "}\n",
    "\n",
    "df = pd.DataFrame(data)\n",
    "df.to_csv(\"date_data.csv\", index=False)\n",
    "df"
   ]
  },
  {
   "cell_type": "code",
   "execution_count": 304,
   "metadata": {},
   "outputs": [
    {
     "name": "stdout",
     "output_type": "stream",
     "text": [
      "<class 'pandas.core.frame.DataFrame'>\n",
      "RangeIndex: 4 entries, 0 to 3\n",
      "Data columns (total 9 columns):\n",
      " #   Column     Non-Null Count  Dtype \n",
      "---  ------     --------------  ----- \n",
      " 0   Date1      4 non-null      object\n",
      " 1   Date2      4 non-null      object\n",
      " 2   Date3      4 non-null      object\n",
      " 3   Date4      4 non-null      object\n",
      " 4   Date5      4 non-null      object\n",
      " 5   DateTime1  4 non-null      object\n",
      " 6   DateTime2  4 non-null      object\n",
      " 7   DateTime3  4 non-null      object\n",
      " 8   DateTime4  4 non-null      object\n",
      "dtypes: object(9)\n",
      "memory usage: 416.0+ bytes\n"
     ]
    }
   ],
   "source": [
    "# 날짜와 시간을 자동으로 인식하지 못해서 str, object로 인식함\n",
    "df.info()"
   ]
  },
  {
   "cell_type": "code",
   "execution_count": 305,
   "metadata": {},
   "outputs": [
    {
     "data": {
      "text/plain": [
       "0    17 Feb 2024 13:45:30\n",
       "1    18 Feb 2024 14:55:45\n",
       "2    19 Feb 2024 15:30:15\n",
       "3    20 Feb 2024 16:10:50\n",
       "Name: DateTime4, dtype: object"
      ]
     },
     "metadata": {},
     "output_type": "display_data"
    },
    {
     "data": {
      "text/plain": [
       "0   2024-02-17 13:45:30\n",
       "1   2024-02-18 14:55:45\n",
       "2   2024-02-19 15:30:15\n",
       "3   2024-02-20 16:10:50\n",
       "Name: DateTime4, dtype: datetime64[ns]"
      ]
     },
     "execution_count": 305,
     "metadata": {},
     "output_type": "execute_result"
    }
   ],
   "source": [
    "# datatime으로 파싱하기\n",
    "target = 'DateTime4'\n",
    "perso_format = None\n",
    "\n",
    "display(df[target])\n",
    "pd.to_datetime(df[target], format=perso_format)"
   ]
  },
  {
   "cell_type": "code",
   "execution_count": 306,
   "metadata": {},
   "outputs": [
    {
     "name": "stdout",
     "output_type": "stream",
     "text": [
      "Date2 - Date2 - Date2 - Date2 - Date2 - Date2 - Date2 - Date2 - Date2 - Date2 - \n"
     ]
    },
    {
     "data": {
      "text/plain": [
       "0    2024:02:17\n",
       "1    2024:02:18\n",
       "2    2024:02:19\n",
       "3    2024:02:20\n",
       "Name: Date2, dtype: object"
      ]
     },
     "metadata": {},
     "output_type": "display_data"
    },
    {
     "data": {
      "text/plain": [
       "0   2024-02-17\n",
       "1   2024-02-18\n",
       "2   2024-02-19\n",
       "3   2024-02-20\n",
       "Name: Date2, dtype: datetime64[ns]"
      ]
     },
     "metadata": {},
     "output_type": "display_data"
    },
    {
     "name": "stdout",
     "output_type": "stream",
     "text": [
      "Date3 - Date3 - Date3 - Date3 - Date3 - Date3 - Date3 - Date3 - Date3 - Date3 - \n"
     ]
    },
    {
     "data": {
      "text/plain": [
       "0    24/02/17\n",
       "1    24/02/18\n",
       "2    24/02/19\n",
       "3    24/02/20\n",
       "Name: Date3, dtype: object"
      ]
     },
     "metadata": {},
     "output_type": "display_data"
    },
    {
     "data": {
      "text/plain": [
       "0   2024-02-17\n",
       "1   2024-02-18\n",
       "2   2024-02-19\n",
       "3   2024-02-20\n",
       "Name: Date3, dtype: datetime64[ns]"
      ]
     },
     "metadata": {},
     "output_type": "display_data"
    }
   ],
   "source": [
    "# %Y 4자리 #y 2자리\n",
    "target, perso_format = 'Date2', '%Y:%m:%d'\n",
    "print((target+(' - '))*10)\n",
    "display(df[target])\n",
    "display(pd.to_datetime(df[target], format=perso_format))\n",
    "\n",
    "target, perso_format = 'Date3', '%y/%m/%d'\n",
    "print((target+(' - '))*10)\n",
    "display(df[target])\n",
    "display(pd.to_datetime(df[target], format=perso_format))"
   ]
  },
  {
   "cell_type": "code",
   "execution_count": 307,
   "metadata": {},
   "outputs": [
    {
     "name": "stdout",
     "output_type": "stream",
     "text": [
      "DateTime1 - DateTime1 - DateTime1 - DateTime1 - DateTime1 - DateTime1 - DateTime1 - DateTime1 - DateTime1 - DateTime1 - \n"
     ]
    },
    {
     "data": {
      "text/plain": [
       "0    24-02-17 13:45:30\n",
       "1    24-02-18 14:55:45\n",
       "2    24-02-19 15:30:15\n",
       "3    24-02-20 16:10:50\n",
       "Name: DateTime1, dtype: object"
      ]
     },
     "metadata": {},
     "output_type": "display_data"
    },
    {
     "data": {
      "text/plain": [
       "0   2024-02-17 13:45:30\n",
       "1   2024-02-18 14:55:45\n",
       "2   2024-02-19 15:30:15\n",
       "3   2024-02-20 16:10:50\n",
       "Name: DateTime1, dtype: datetime64[ns]"
      ]
     },
     "metadata": {},
     "output_type": "display_data"
    },
    {
     "name": "stdout",
     "output_type": "stream",
     "text": [
      "DateTime2 - DateTime2 - DateTime2 - DateTime2 - DateTime2 - DateTime2 - DateTime2 - DateTime2 - DateTime2 - DateTime2 - \n"
     ]
    },
    {
     "data": {
      "text/plain": [
       "0    2024-02-17 13-45-30\n",
       "1    2024-02-18 14-55-45\n",
       "2    2024-02-19 15-30-15\n",
       "3    2024-02-20 16-10-50\n",
       "Name: DateTime2, dtype: object"
      ]
     },
     "metadata": {},
     "output_type": "display_data"
    },
    {
     "data": {
      "text/plain": [
       "0   2024-02-17 13:45:30\n",
       "1   2024-02-18 14:55:45\n",
       "2   2024-02-19 15:30:15\n",
       "3   2024-02-20 16:10:50\n",
       "Name: DateTime2, dtype: datetime64[ns]"
      ]
     },
     "metadata": {},
     "output_type": "display_data"
    }
   ],
   "source": [
    "target, perso_format = 'DateTime1', '%y-%m-%d %H:%M:%S'\n",
    "print((target+(' - '))*10)\n",
    "display(df[target])\n",
    "display(pd.to_datetime(df[target], format=perso_format))\n",
    "\n",
    "target, perso_format = 'DateTime2', '%Y-%m-%d %H-%M-%S'\n",
    "print((target+(' - '))*10)\n",
    "display(df[target])\n",
    "display(pd.to_datetime(df[target], format=perso_format))"
   ]
  },
  {
   "cell_type": "code",
   "execution_count": 308,
   "metadata": {},
   "outputs": [
    {
     "data": {
      "text/html": [
       "<div>\n",
       "<style scoped>\n",
       "    .dataframe tbody tr th:only-of-type {\n",
       "        vertical-align: middle;\n",
       "    }\n",
       "\n",
       "    .dataframe tbody tr th {\n",
       "        vertical-align: top;\n",
       "    }\n",
       "\n",
       "    .dataframe thead th {\n",
       "        text-align: right;\n",
       "    }\n",
       "</style>\n",
       "<table border=\"1\" class=\"dataframe\">\n",
       "  <thead>\n",
       "    <tr style=\"text-align: right;\">\n",
       "      <th></th>\n",
       "      <th>Date1</th>\n",
       "      <th>Date2</th>\n",
       "      <th>Date3</th>\n",
       "      <th>Date4</th>\n",
       "      <th>Date5</th>\n",
       "      <th>DateTime1</th>\n",
       "      <th>DateTime2</th>\n",
       "      <th>DateTime3</th>\n",
       "      <th>DateTime4</th>\n",
       "    </tr>\n",
       "  </thead>\n",
       "  <tbody>\n",
       "    <tr>\n",
       "      <th>0</th>\n",
       "      <td>2024-02-17</td>\n",
       "      <td>2024-02-17</td>\n",
       "      <td>2024-02-17</td>\n",
       "      <td>02/17/2024</td>\n",
       "      <td>17-Feb-2024</td>\n",
       "      <td>2024-02-17 13:45:30</td>\n",
       "      <td>2024-02-17 13:45:30</td>\n",
       "      <td>02/17/2024 01:45:30 PM</td>\n",
       "      <td>17 Feb 2024 13:45:30</td>\n",
       "    </tr>\n",
       "    <tr>\n",
       "      <th>1</th>\n",
       "      <td>2024-02-18</td>\n",
       "      <td>2024-02-18</td>\n",
       "      <td>2024-02-18</td>\n",
       "      <td>02/18/2024</td>\n",
       "      <td>18-Feb-2024</td>\n",
       "      <td>2024-02-18 14:55:45</td>\n",
       "      <td>2024-02-18 14:55:45</td>\n",
       "      <td>02/18/2024 02:55:45 PM</td>\n",
       "      <td>18 Feb 2024 14:55:45</td>\n",
       "    </tr>\n",
       "    <tr>\n",
       "      <th>2</th>\n",
       "      <td>2024-02-19</td>\n",
       "      <td>2024-02-19</td>\n",
       "      <td>2024-02-19</td>\n",
       "      <td>02/19/2024</td>\n",
       "      <td>19-Feb-2024</td>\n",
       "      <td>2024-02-19 15:30:15</td>\n",
       "      <td>2024-02-19 15:30:15</td>\n",
       "      <td>02/19/2024 03:30:15 AM</td>\n",
       "      <td>19 Feb 2024 15:30:15</td>\n",
       "    </tr>\n",
       "    <tr>\n",
       "      <th>3</th>\n",
       "      <td>2024-02-20</td>\n",
       "      <td>2024-02-20</td>\n",
       "      <td>2024-02-20</td>\n",
       "      <td>02/20/2024</td>\n",
       "      <td>20-Feb-2024</td>\n",
       "      <td>2024-02-20 16:10:50</td>\n",
       "      <td>2024-02-20 16:10:50</td>\n",
       "      <td>02/20/2024 04:10:50 AM</td>\n",
       "      <td>20 Feb 2024 16:10:50</td>\n",
       "    </tr>\n",
       "  </tbody>\n",
       "</table>\n",
       "</div>"
      ],
      "text/plain": [
       "        Date1      Date2      Date3       Date4        Date5  \\\n",
       "0  2024-02-17 2024-02-17 2024-02-17  02/17/2024  17-Feb-2024   \n",
       "1  2024-02-18 2024-02-18 2024-02-18  02/18/2024  18-Feb-2024   \n",
       "2  2024-02-19 2024-02-19 2024-02-19  02/19/2024  19-Feb-2024   \n",
       "3  2024-02-20 2024-02-20 2024-02-20  02/20/2024  20-Feb-2024   \n",
       "\n",
       "            DateTime1           DateTime2               DateTime3  \\\n",
       "0 2024-02-17 13:45:30 2024-02-17 13:45:30  02/17/2024 01:45:30 PM   \n",
       "1 2024-02-18 14:55:45 2024-02-18 14:55:45  02/18/2024 02:55:45 PM   \n",
       "2 2024-02-19 15:30:15 2024-02-19 15:30:15  02/19/2024 03:30:15 AM   \n",
       "3 2024-02-20 16:10:50 2024-02-20 16:10:50  02/20/2024 04:10:50 AM   \n",
       "\n",
       "              DateTime4  \n",
       "0  17 Feb 2024 13:45:30  \n",
       "1  18 Feb 2024 14:55:45  \n",
       "2  19 Feb 2024 15:30:15  \n",
       "3  20 Feb 2024 16:10:50  "
      ]
     },
     "execution_count": 308,
     "metadata": {},
     "output_type": "execute_result"
    }
   ],
   "source": [
    "# format 설정해서 한 번에 불러오기\n",
    "df = pd.read_csv('date_data.csv')\n",
    "df['Date2'] = pd.to_datetime(df['Date2'], format='%Y:%m:%d')\n",
    "df['Date3'] = pd.to_datetime(df['Date3'], format='%y/%m/%d')\n",
    "df['DateTime1'] = pd.to_datetime(df['DateTime1'], format='%y-%m-%d %H:%M:%S')\n",
    "df['DateTime2'] = pd.to_datetime(df['DateTime2'], format='%Y-%m-%d %H-%M-%S')\n",
    "df"
   ]
  },
  {
   "cell_type": "code",
   "execution_count": 309,
   "metadata": {},
   "outputs": [
    {
     "data": {
      "text/html": [
       "<div>\n",
       "<style scoped>\n",
       "    .dataframe tbody tr th:only-of-type {\n",
       "        vertical-align: middle;\n",
       "    }\n",
       "\n",
       "    .dataframe tbody tr th {\n",
       "        vertical-align: top;\n",
       "    }\n",
       "\n",
       "    .dataframe thead th {\n",
       "        text-align: right;\n",
       "    }\n",
       "</style>\n",
       "<table border=\"1\" class=\"dataframe\">\n",
       "  <thead>\n",
       "    <tr style=\"text-align: right;\">\n",
       "      <th></th>\n",
       "      <th>Date2</th>\n",
       "      <th>Date3</th>\n",
       "      <th>DateTime1</th>\n",
       "      <th>DateTime2</th>\n",
       "    </tr>\n",
       "  </thead>\n",
       "  <tbody>\n",
       "    <tr>\n",
       "      <th>0</th>\n",
       "      <td>2024-02-17</td>\n",
       "      <td>2024-02-17</td>\n",
       "      <td>2024-02-17 13:45:30</td>\n",
       "      <td>2024-02-17 13:45:30</td>\n",
       "    </tr>\n",
       "    <tr>\n",
       "      <th>1</th>\n",
       "      <td>2024-02-18</td>\n",
       "      <td>2024-02-18</td>\n",
       "      <td>2024-02-18 14:55:45</td>\n",
       "      <td>2024-02-18 14:55:45</td>\n",
       "    </tr>\n",
       "    <tr>\n",
       "      <th>2</th>\n",
       "      <td>2024-02-19</td>\n",
       "      <td>2024-02-19</td>\n",
       "      <td>2024-02-19 15:30:15</td>\n",
       "      <td>2024-02-19 15:30:15</td>\n",
       "    </tr>\n",
       "    <tr>\n",
       "      <th>3</th>\n",
       "      <td>2024-02-20</td>\n",
       "      <td>2024-02-20</td>\n",
       "      <td>2024-02-20 16:10:50</td>\n",
       "      <td>2024-02-20 16:10:50</td>\n",
       "    </tr>\n",
       "  </tbody>\n",
       "</table>\n",
       "</div>"
      ],
      "text/plain": [
       "       Date2      Date3           DateTime1           DateTime2\n",
       "0 2024-02-17 2024-02-17 2024-02-17 13:45:30 2024-02-17 13:45:30\n",
       "1 2024-02-18 2024-02-18 2024-02-18 14:55:45 2024-02-18 14:55:45\n",
       "2 2024-02-19 2024-02-19 2024-02-19 15:30:15 2024-02-19 15:30:15\n",
       "3 2024-02-20 2024-02-20 2024-02-20 16:10:50 2024-02-20 16:10:50"
      ]
     },
     "execution_count": 309,
     "metadata": {},
     "output_type": "execute_result"
    }
   ],
   "source": [
    "# 변환한 것만 보기\n",
    "cols = ['Date2', 'Date3', 'DateTime1', 'DateTime2']\n",
    "df[cols]"
   ]
  },
  {
   "cell_type": "code",
   "execution_count": 188,
   "metadata": {},
   "outputs": [
    {
     "name": "stdout",
     "output_type": "stream",
     "text": [
      "<class 'pandas.core.frame.DataFrame'>\n",
      "RangeIndex: 4 entries, 0 to 3\n",
      "Data columns (total 4 columns):\n",
      " #   Column     Non-Null Count  Dtype         \n",
      "---  ------     --------------  -----         \n",
      " 0   Date2      4 non-null      datetime64[ns]\n",
      " 1   Date3      4 non-null      datetime64[ns]\n",
      " 2   DateTime1  4 non-null      datetime64[ns]\n",
      " 3   DateTime2  4 non-null      datetime64[ns]\n",
      "dtypes: datetime64[ns](4)\n",
      "memory usage: 256.0 bytes\n"
     ]
    }
   ],
   "source": [
    "df.info()"
   ]
  },
  {
   "cell_type": "code",
   "execution_count": 313,
   "metadata": {},
   "outputs": [
    {
     "data": {
      "text/html": [
       "<div>\n",
       "<style scoped>\n",
       "    .dataframe tbody tr th:only-of-type {\n",
       "        vertical-align: middle;\n",
       "    }\n",
       "\n",
       "    .dataframe tbody tr th {\n",
       "        vertical-align: top;\n",
       "    }\n",
       "\n",
       "    .dataframe thead th {\n",
       "        text-align: right;\n",
       "    }\n",
       "</style>\n",
       "<table border=\"1\" class=\"dataframe\">\n",
       "  <thead>\n",
       "    <tr style=\"text-align: right;\">\n",
       "      <th></th>\n",
       "      <th>Date1</th>\n",
       "      <th>Date2</th>\n",
       "      <th>Date3</th>\n",
       "      <th>Date4</th>\n",
       "      <th>Date5</th>\n",
       "      <th>DateTime1</th>\n",
       "      <th>DateTime2</th>\n",
       "      <th>DateTime3</th>\n",
       "      <th>DateTime4</th>\n",
       "      <th>Year</th>\n",
       "      <th>month</th>\n",
       "      <th>day</th>\n",
       "      <th>hour</th>\n",
       "      <th>minute</th>\n",
       "      <th>second</th>\n",
       "    </tr>\n",
       "  </thead>\n",
       "  <tbody>\n",
       "    <tr>\n",
       "      <th>0</th>\n",
       "      <td>2024-02-17</td>\n",
       "      <td>2024-02-17</td>\n",
       "      <td>2024-02-17</td>\n",
       "      <td>02/17/2024</td>\n",
       "      <td>17-Feb-2024</td>\n",
       "      <td>2024-02-17 13:45:30</td>\n",
       "      <td>2024-02-17 13:45:30</td>\n",
       "      <td>02/17/2024 01:45:30 PM</td>\n",
       "      <td>17 Feb 2024 13:45:30</td>\n",
       "      <td>2024</td>\n",
       "      <td>2</td>\n",
       "      <td>17</td>\n",
       "      <td>13</td>\n",
       "      <td>45</td>\n",
       "      <td>30</td>\n",
       "    </tr>\n",
       "    <tr>\n",
       "      <th>1</th>\n",
       "      <td>2024-02-18</td>\n",
       "      <td>2024-02-18</td>\n",
       "      <td>2024-02-18</td>\n",
       "      <td>02/18/2024</td>\n",
       "      <td>18-Feb-2024</td>\n",
       "      <td>2024-02-18 14:55:45</td>\n",
       "      <td>2024-02-18 14:55:45</td>\n",
       "      <td>02/18/2024 02:55:45 PM</td>\n",
       "      <td>18 Feb 2024 14:55:45</td>\n",
       "      <td>2024</td>\n",
       "      <td>2</td>\n",
       "      <td>18</td>\n",
       "      <td>14</td>\n",
       "      <td>55</td>\n",
       "      <td>45</td>\n",
       "    </tr>\n",
       "    <tr>\n",
       "      <th>2</th>\n",
       "      <td>2024-02-19</td>\n",
       "      <td>2024-02-19</td>\n",
       "      <td>2024-02-19</td>\n",
       "      <td>02/19/2024</td>\n",
       "      <td>19-Feb-2024</td>\n",
       "      <td>2024-02-19 15:30:15</td>\n",
       "      <td>2024-02-19 15:30:15</td>\n",
       "      <td>02/19/2024 03:30:15 AM</td>\n",
       "      <td>19 Feb 2024 15:30:15</td>\n",
       "      <td>2024</td>\n",
       "      <td>2</td>\n",
       "      <td>19</td>\n",
       "      <td>15</td>\n",
       "      <td>30</td>\n",
       "      <td>15</td>\n",
       "    </tr>\n",
       "    <tr>\n",
       "      <th>3</th>\n",
       "      <td>2024-02-20</td>\n",
       "      <td>2024-02-20</td>\n",
       "      <td>2024-02-20</td>\n",
       "      <td>02/20/2024</td>\n",
       "      <td>20-Feb-2024</td>\n",
       "      <td>2024-02-20 16:10:50</td>\n",
       "      <td>2024-02-20 16:10:50</td>\n",
       "      <td>02/20/2024 04:10:50 AM</td>\n",
       "      <td>20 Feb 2024 16:10:50</td>\n",
       "      <td>2024</td>\n",
       "      <td>2</td>\n",
       "      <td>20</td>\n",
       "      <td>16</td>\n",
       "      <td>10</td>\n",
       "      <td>50</td>\n",
       "    </tr>\n",
       "  </tbody>\n",
       "</table>\n",
       "</div>"
      ],
      "text/plain": [
       "        Date1      Date2      Date3       Date4        Date5  \\\n",
       "0  2024-02-17 2024-02-17 2024-02-17  02/17/2024  17-Feb-2024   \n",
       "1  2024-02-18 2024-02-18 2024-02-18  02/18/2024  18-Feb-2024   \n",
       "2  2024-02-19 2024-02-19 2024-02-19  02/19/2024  19-Feb-2024   \n",
       "3  2024-02-20 2024-02-20 2024-02-20  02/20/2024  20-Feb-2024   \n",
       "\n",
       "            DateTime1           DateTime2               DateTime3  \\\n",
       "0 2024-02-17 13:45:30 2024-02-17 13:45:30  02/17/2024 01:45:30 PM   \n",
       "1 2024-02-18 14:55:45 2024-02-18 14:55:45  02/18/2024 02:55:45 PM   \n",
       "2 2024-02-19 15:30:15 2024-02-19 15:30:15  02/19/2024 03:30:15 AM   \n",
       "3 2024-02-20 16:10:50 2024-02-20 16:10:50  02/20/2024 04:10:50 AM   \n",
       "\n",
       "              DateTime4  Year  month  day  hour  minute  second  \n",
       "0  17 Feb 2024 13:45:30  2024      2   17    13      45      30  \n",
       "1  18 Feb 2024 14:55:45  2024      2   18    14      55      45  \n",
       "2  19 Feb 2024 15:30:15  2024      2   19    15      30      15  \n",
       "3  20 Feb 2024 16:10:50  2024      2   20    16      10      50  "
      ]
     },
     "execution_count": 313,
     "metadata": {},
     "output_type": "execute_result"
    }
   ],
   "source": [
    "# dt 를 이용해서 날짜 정보 뽑아내기\n",
    "# year, month, day, hour, minute, second\n",
    "df['Year'] = df['DateTime1'].dt.year\n",
    "df['month'] = df['DateTime1'].dt.month\n",
    "df['day'] = df['DateTime1'].dt.day\n",
    "df['hour'] = df['DateTime1'].dt.hour\n",
    "df['minute'] = df['DateTime1'].dt.minute\n",
    "df['second'] = df['DateTime1'].dt.second\n",
    "df"
   ]
  },
  {
   "cell_type": "code",
   "execution_count": 316,
   "metadata": {},
   "outputs": [
    {
     "data": {
      "text/plain": [
       "0    5\n",
       "1    6\n",
       "2    0\n",
       "3    1\n",
       "Name: DateTime1, dtype: int32"
      ]
     },
     "execution_count": 316,
     "metadata": {},
     "output_type": "execute_result"
    }
   ],
   "source": [
    "# 요일 뽑기 dt.dayofweek\n",
    "# 0 월 ~ 6 일\n",
    "df['DateTime1'].dt.dayofweek"
   ]
  },
  {
   "cell_type": "code",
   "execution_count": 326,
   "metadata": {},
   "outputs": [
    {
     "data": {
      "text/plain": [
       "0    2024-02-17 13:00\n",
       "1    2024-02-18 14:00\n",
       "2    2024-02-19 15:00\n",
       "3    2024-02-20 16:00\n",
       "Name: DateTime1, dtype: period[h]"
      ]
     },
     "execution_count": 326,
     "metadata": {},
     "output_type": "execute_result"
    }
   ],
   "source": [
    "# 특정 단위로 데이터 바꾸기 dt.to_period(단위)\n",
    "df['DateTime1'].dt.to_period('Y')\n",
    "df['DateTime1'].dt.to_period('Q')\n",
    "df['DateTime1'].dt.to_period('M')\n",
    "df['DateTime1'].dt.to_period('D')\n",
    "df['DateTime1'].dt.to_period('h')\n",
    "df['DateTime1'].dt.to_period('h')"
   ]
  },
  {
   "cell_type": "code",
   "execution_count": 341,
   "metadata": {},
   "outputs": [
    {
     "data": {
      "text/html": [
       "<div>\n",
       "<style scoped>\n",
       "    .dataframe tbody tr th:only-of-type {\n",
       "        vertical-align: middle;\n",
       "    }\n",
       "\n",
       "    .dataframe tbody tr th {\n",
       "        vertical-align: top;\n",
       "    }\n",
       "\n",
       "    .dataframe thead th {\n",
       "        text-align: right;\n",
       "    }\n",
       "</style>\n",
       "<table border=\"1\" class=\"dataframe\">\n",
       "  <thead>\n",
       "    <tr style=\"text-align: right;\">\n",
       "      <th></th>\n",
       "      <th>DateTime4</th>\n",
       "    </tr>\n",
       "  </thead>\n",
       "  <tbody>\n",
       "    <tr>\n",
       "      <th>0</th>\n",
       "      <td>2024-02-17 13:45:30</td>\n",
       "    </tr>\n",
       "    <tr>\n",
       "      <th>1</th>\n",
       "      <td>2024-02-18 14:55:45</td>\n",
       "    </tr>\n",
       "    <tr>\n",
       "      <th>2</th>\n",
       "      <td>2024-02-19 15:30:15</td>\n",
       "    </tr>\n",
       "    <tr>\n",
       "      <th>3</th>\n",
       "      <td>2024-02-20 16:10:50</td>\n",
       "    </tr>\n",
       "  </tbody>\n",
       "</table>\n",
       "</div>"
      ],
      "text/plain": [
       "            DateTime4\n",
       "0 2024-02-17 13:45:30\n",
       "1 2024-02-18 14:55:45\n",
       "2 2024-02-19 15:30:15\n",
       "3 2024-02-20 16:10:50"
      ]
     },
     "execution_count": 341,
     "metadata": {},
     "output_type": "execute_result"
    }
   ],
   "source": [
    "# Timedelta 이용하기\n",
    "# datetime은 특정 시점의 날짜와 시간, Timedelta는 두 시점 사이의 차이\n",
    "# months, weeks, days, hours, minutes, seconds\n",
    "\n",
    "df = pd.read_csv('date_data.csv', usecols=['DateTime4'], parse_dates=['DateTime4'])\n",
    "df"
   ]
  },
  {
   "cell_type": "code",
   "execution_count": 342,
   "metadata": {},
   "outputs": [
    {
     "data": {
      "text/html": [
       "<div>\n",
       "<style scoped>\n",
       "    .dataframe tbody tr th:only-of-type {\n",
       "        vertical-align: middle;\n",
       "    }\n",
       "\n",
       "    .dataframe tbody tr th {\n",
       "        vertical-align: top;\n",
       "    }\n",
       "\n",
       "    .dataframe thead th {\n",
       "        text-align: right;\n",
       "    }\n",
       "</style>\n",
       "<table border=\"1\" class=\"dataframe\">\n",
       "  <thead>\n",
       "    <tr style=\"text-align: right;\">\n",
       "      <th></th>\n",
       "      <th>DateTime4</th>\n",
       "      <th>100day</th>\n",
       "    </tr>\n",
       "  </thead>\n",
       "  <tbody>\n",
       "    <tr>\n",
       "      <th>0</th>\n",
       "      <td>2024-02-17 13:45:30</td>\n",
       "      <td>2024-05-26 13:45:30</td>\n",
       "    </tr>\n",
       "    <tr>\n",
       "      <th>1</th>\n",
       "      <td>2024-02-18 14:55:45</td>\n",
       "      <td>2024-05-27 14:55:45</td>\n",
       "    </tr>\n",
       "    <tr>\n",
       "      <th>2</th>\n",
       "      <td>2024-02-19 15:30:15</td>\n",
       "      <td>2024-05-28 15:30:15</td>\n",
       "    </tr>\n",
       "    <tr>\n",
       "      <th>3</th>\n",
       "      <td>2024-02-20 16:10:50</td>\n",
       "      <td>2024-05-29 16:10:50</td>\n",
       "    </tr>\n",
       "  </tbody>\n",
       "</table>\n",
       "</div>"
      ],
      "text/plain": [
       "            DateTime4              100day\n",
       "0 2024-02-17 13:45:30 2024-05-26 13:45:30\n",
       "1 2024-02-18 14:55:45 2024-05-27 14:55:45\n",
       "2 2024-02-19 15:30:15 2024-05-28 15:30:15\n",
       "3 2024-02-20 16:10:50 2024-05-29 16:10:50"
      ]
     },
     "execution_count": 342,
     "metadata": {},
     "output_type": "execute_result"
    }
   ],
   "source": [
    "df['100day'] = df['DateTime4'] + pd.Timedelta(days=99)\n",
    "df"
   ]
  },
  {
   "cell_type": "code",
   "execution_count": 343,
   "metadata": {},
   "outputs": [
    {
     "data": {
      "text/html": [
       "<div>\n",
       "<style scoped>\n",
       "    .dataframe tbody tr th:only-of-type {\n",
       "        vertical-align: middle;\n",
       "    }\n",
       "\n",
       "    .dataframe tbody tr th {\n",
       "        vertical-align: top;\n",
       "    }\n",
       "\n",
       "    .dataframe thead th {\n",
       "        text-align: right;\n",
       "    }\n",
       "</style>\n",
       "<table border=\"1\" class=\"dataframe\">\n",
       "  <thead>\n",
       "    <tr style=\"text-align: right;\">\n",
       "      <th></th>\n",
       "      <th>DateTime4</th>\n",
       "      <th>100day</th>\n",
       "      <th>100hour</th>\n",
       "    </tr>\n",
       "  </thead>\n",
       "  <tbody>\n",
       "    <tr>\n",
       "      <th>0</th>\n",
       "      <td>2024-02-17 13:45:30</td>\n",
       "      <td>2024-05-26 13:45:30</td>\n",
       "      <td>2024-02-21 17:45:30</td>\n",
       "    </tr>\n",
       "    <tr>\n",
       "      <th>1</th>\n",
       "      <td>2024-02-18 14:55:45</td>\n",
       "      <td>2024-05-27 14:55:45</td>\n",
       "      <td>2024-02-22 18:55:45</td>\n",
       "    </tr>\n",
       "    <tr>\n",
       "      <th>2</th>\n",
       "      <td>2024-02-19 15:30:15</td>\n",
       "      <td>2024-05-28 15:30:15</td>\n",
       "      <td>2024-02-23 19:30:15</td>\n",
       "    </tr>\n",
       "    <tr>\n",
       "      <th>3</th>\n",
       "      <td>2024-02-20 16:10:50</td>\n",
       "      <td>2024-05-29 16:10:50</td>\n",
       "      <td>2024-02-24 20:10:50</td>\n",
       "    </tr>\n",
       "  </tbody>\n",
       "</table>\n",
       "</div>"
      ],
      "text/plain": [
       "            DateTime4              100day             100hour\n",
       "0 2024-02-17 13:45:30 2024-05-26 13:45:30 2024-02-21 17:45:30\n",
       "1 2024-02-18 14:55:45 2024-05-27 14:55:45 2024-02-22 18:55:45\n",
       "2 2024-02-19 15:30:15 2024-05-28 15:30:15 2024-02-23 19:30:15\n",
       "3 2024-02-20 16:10:50 2024-05-29 16:10:50 2024-02-24 20:10:50"
      ]
     },
     "execution_count": 343,
     "metadata": {},
     "output_type": "execute_result"
    }
   ],
   "source": [
    "df['100hour'] = df['DateTime4'] + pd.Timedelta(hours=100)\n",
    "df"
   ]
  },
  {
   "cell_type": "code",
   "execution_count": 344,
   "metadata": {},
   "outputs": [
    {
     "data": {
      "text/html": [
       "<div>\n",
       "<style scoped>\n",
       "    .dataframe tbody tr th:only-of-type {\n",
       "        vertical-align: middle;\n",
       "    }\n",
       "\n",
       "    .dataframe tbody tr th {\n",
       "        vertical-align: top;\n",
       "    }\n",
       "\n",
       "    .dataframe thead th {\n",
       "        text-align: right;\n",
       "    }\n",
       "</style>\n",
       "<table border=\"1\" class=\"dataframe\">\n",
       "  <thead>\n",
       "    <tr style=\"text-align: right;\">\n",
       "      <th></th>\n",
       "      <th>DateTime4</th>\n",
       "      <th>100day</th>\n",
       "      <th>100hour</th>\n",
       "      <th>difference</th>\n",
       "    </tr>\n",
       "  </thead>\n",
       "  <tbody>\n",
       "    <tr>\n",
       "      <th>0</th>\n",
       "      <td>2024-02-17 13:45:30</td>\n",
       "      <td>2024-05-26 13:45:30</td>\n",
       "      <td>2024-02-21 17:45:30</td>\n",
       "      <td>2023-12-23 06:38:23</td>\n",
       "    </tr>\n",
       "    <tr>\n",
       "      <th>1</th>\n",
       "      <td>2024-02-18 14:55:45</td>\n",
       "      <td>2024-05-27 14:55:45</td>\n",
       "      <td>2024-02-22 18:55:45</td>\n",
       "      <td>2023-12-24 07:48:38</td>\n",
       "    </tr>\n",
       "    <tr>\n",
       "      <th>2</th>\n",
       "      <td>2024-02-19 15:30:15</td>\n",
       "      <td>2024-05-28 15:30:15</td>\n",
       "      <td>2024-02-23 19:30:15</td>\n",
       "      <td>2023-12-25 08:23:08</td>\n",
       "    </tr>\n",
       "    <tr>\n",
       "      <th>3</th>\n",
       "      <td>2024-02-20 16:10:50</td>\n",
       "      <td>2024-05-29 16:10:50</td>\n",
       "      <td>2024-02-24 20:10:50</td>\n",
       "      <td>2023-12-26 09:03:43</td>\n",
       "    </tr>\n",
       "  </tbody>\n",
       "</table>\n",
       "</div>"
      ],
      "text/plain": [
       "            DateTime4              100day             100hour  \\\n",
       "0 2024-02-17 13:45:30 2024-05-26 13:45:30 2024-02-21 17:45:30   \n",
       "1 2024-02-18 14:55:45 2024-05-27 14:55:45 2024-02-22 18:55:45   \n",
       "2 2024-02-19 15:30:15 2024-05-28 15:30:15 2024-02-23 19:30:15   \n",
       "3 2024-02-20 16:10:50 2024-05-29 16:10:50 2024-02-24 20:10:50   \n",
       "\n",
       "           difference  \n",
       "0 2023-12-23 06:38:23  \n",
       "1 2023-12-24 07:48:38  \n",
       "2 2023-12-25 08:23:08  \n",
       "3 2023-12-26 09:03:43  "
      ]
     },
     "execution_count": 344,
     "metadata": {},
     "output_type": "execute_result"
    }
   ],
   "source": [
    "df['difference'] = df['DateTime4'] - pd.Timedelta(weeks=7, days=7, hours=7, minutes=7, seconds=7)\n",
    "df"
   ]
  },
  {
   "cell_type": "code",
   "execution_count": 348,
   "metadata": {},
   "outputs": [
    {
     "data": {
      "text/plain": [
       "0   60 days 11:07:07\n",
       "1   60 days 11:07:07\n",
       "2   60 days 11:07:07\n",
       "3   60 days 11:07:07\n",
       "dtype: timedelta64[ns]"
      ]
     },
     "execution_count": 348,
     "metadata": {},
     "output_type": "execute_result"
    }
   ],
   "source": [
    "# 차이 구하기\n",
    "diff = df['100hour'] - df['difference']\n",
    "diff"
   ]
  },
  {
   "cell_type": "code",
   "execution_count": 356,
   "metadata": {},
   "outputs": [
    {
     "data": {
      "text/plain": [
       "0    60.463275\n",
       "1    60.463275\n",
       "2    60.463275\n",
       "3    60.463275\n",
       "dtype: float64"
      ]
     },
     "execution_count": 356,
     "metadata": {},
     "output_type": "execute_result"
    }
   ],
   "source": [
    "# 차이를 초, 분, 시간, 일 단위로 바꾸기\n",
    "diff.dt.total_seconds() # 초\n",
    "diff.dt.total_seconds()/60 # 분\n",
    "diff.dt.total_seconds()/60/60 # 시간\n",
    "diff.dt.total_seconds()/60/60/24 # 일"
   ]
  },
  {
   "cell_type": "code",
   "execution_count": 389,
   "metadata": {},
   "outputs": [
    {
     "name": "stdout",
     "output_type": "stream",
     "text": [
      "<class 'pandas.core.series.Series'>\n",
      "RangeIndex: 4 entries, 0 to 3\n",
      "Series name: None\n",
      "Non-Null Count  Dtype          \n",
      "--------------  -----          \n",
      "4 non-null      timedelta64[ns]\n",
      "dtypes: timedelta64[ns](1)\n",
      "memory usage: 160.0 bytes\n",
      "None\n"
     ]
    },
    {
     "data": {
      "text/plain": [
       "0   60 days 11:07:07\n",
       "1   60 days 11:07:07\n",
       "2   60 days 11:07:07\n",
       "3   60 days 11:07:07\n",
       "dtype: timedelta64[ns]"
      ]
     },
     "metadata": {},
     "output_type": "display_data"
    },
    {
     "data": {
      "text/plain": [
       "0    40027\n",
       "1    40027\n",
       "2    40027\n",
       "3    40027\n",
       "dtype: int32"
      ]
     },
     "metadata": {},
     "output_type": "display_data"
    },
    {
     "data": {
      "text/plain": [
       "0    5224027.0\n",
       "1    5224027.0\n",
       "2    5224027.0\n",
       "3    5224027.0\n",
       "dtype: float64"
      ]
     },
     "metadata": {},
     "output_type": "display_data"
    }
   ],
   "source": [
    "# Timedelta도 dt가 있음\n",
    "# days, seconds, microseconds, total_seconds 를 지원함\n",
    "print(diff.info())\n",
    "display(diff)\n",
    "display(diff.dt.seconds) # 11:07:07 초로 변환한 것\n",
    "display(diff.dt.total_seconds()) # 전체를 초로 변환한 것"
   ]
  },
  {
   "cell_type": "code",
   "execution_count": 391,
   "metadata": {},
   "outputs": [
    {
     "name": "stdout",
     "output_type": "stream",
     "text": [
      "5 분\n",
      "24.60000000000001 초\n"
     ]
    }
   ],
   "source": [
    "# 시간 반올림\n",
    "min = 5.41\n",
    "print(int(min), '분')\n",
    "print((min - int(min))*60, '초')"
   ]
  },
  {
   "cell_type": "code",
   "execution_count": 396,
   "metadata": {},
   "outputs": [
    {
     "data": {
      "text/plain": [
       "0    87067.0\n",
       "1    87067.0\n",
       "2    87067.0\n",
       "3    87067.0\n",
       "dtype: float64"
      ]
     },
     "execution_count": 396,
     "metadata": {},
     "output_type": "execute_result"
    }
   ],
   "source": [
    "diff.dt.total_seconds()/60  # 분으로 환산한 것\n",
    "round(diff.dt.total_seconds()/60) # 에 반올림"
   ]
  },
  {
   "cell_type": "code",
   "execution_count": null,
   "metadata": {},
   "outputs": [],
   "source": [
    "            "
   ]
  }
 ],
 "metadata": {
  "kernelspec": {
   "display_name": "big",
   "language": "python",
   "name": "python3"
  },
  "language_info": {
   "codemirror_mode": {
    "name": "ipython",
    "version": 3
   },
   "file_extension": ".py",
   "mimetype": "text/x-python",
   "name": "python",
   "nbconvert_exporter": "python",
   "pygments_lexer": "ipython3",
   "version": "3.10.14"
  }
 },
 "nbformat": 4,
 "nbformat_minor": 2
}
