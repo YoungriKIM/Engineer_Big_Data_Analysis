{
  "nbformat": 4,
  "nbformat_minor": 0,
  "metadata": {
    "colab": {
      "provenance": [],
      "toc_visible": true
    },
    "kernelspec": {
      "name": "python3",
      "display_name": "Python 3"
    },
    "language_info": {
      "name": "python"
    }
  },
  "cells": [
    {
      "cell_type": "markdown",
      "source": [
        "[구글 코랩(Colab)에서 실행하기](https://colab.research.google.com/github/lovedlim/bigdata_analyst_cert/blob/main/part1/ch1/ch1_python.ipynb)"
      ],
      "metadata": {
        "id": "Q6Hu55_oruvQ"
      }
    },
    {
      "cell_type": "markdown",
      "metadata": {
        "id": "k2ulWwXXlIl8"
      },
      "source": [
        "# 파이썬(python)"
      ]
    },
    {
      "cell_type": "markdown",
      "metadata": {
        "id": "ZZo_KUGc2vcb"
      },
      "source": [
        "## Section1.출력"
      ]
    },
    {
      "cell_type": "code",
      "source": [
        "print(\"안녕! 시나공\")"
      ],
      "metadata": {
        "colab": {
          "base_uri": "https://localhost:8080/"
        },
        "id": "YYHIQ6KLExdm",
        "outputId": "701206c5-d4ca-4aa5-934c-a23fd9ed9137"
      },
      "execution_count": 1,
      "outputs": [
        {
          "output_type": "stream",
          "name": "stdout",
          "text": [
            "안녕! 시나공\n"
          ]
        }
      ]
    },
    {
      "cell_type": "code",
      "metadata": {
        "id": "LaqOXQChbEHz",
        "colab": {
          "base_uri": "https://localhost:8080/"
        },
        "outputId": "ed0e700d-3fcf-40c7-ff71-8a74dc7ee8fd"
      },
      "source": [
        "print(2024)"
      ],
      "execution_count": 2,
      "outputs": [
        {
          "output_type": "stream",
          "name": "stdout",
          "text": [
            "2024\n"
          ]
        }
      ]
    },
    {
      "cell_type": "code",
      "source": [
        "\"길벗은\"\n",
        "\"여러분의 합격을 응원합니다.\""
      ],
      "metadata": {
        "colab": {
          "base_uri": "https://localhost:8080/",
          "height": 35
        },
        "id": "6eeY6fqj6ONs",
        "outputId": "12abcbac-3fc0-4797-cacf-cb3b1fa60181"
      },
      "execution_count": 3,
      "outputs": [
        {
          "output_type": "execute_result",
          "data": {
            "text/plain": [
              "'여러분의 합격을 응원합니다.'"
            ],
            "application/vnd.google.colaboratory.intrinsic+json": {
              "type": "string"
            }
          },
          "metadata": {},
          "execution_count": 3
        }
      ]
    },
    {
      "cell_type": "markdown",
      "metadata": {
        "id": "Q7nGnhavkTta"
      },
      "source": [
        "## Section2. 주석"
      ]
    },
    {
      "cell_type": "code",
      "metadata": {
        "id": "azuDs-2YkTGj",
        "colab": {
          "base_uri": "https://localhost:8080/"
        },
        "outputId": "2914f83e-bb4a-4be0-d0ca-b9808879a787"
      },
      "source": [
        "# 주석\n",
        "print(\"파이썬\")\n",
        "# print(\"파이썬은 쉽다\")"
      ],
      "execution_count": 4,
      "outputs": [
        {
          "output_type": "stream",
          "name": "stdout",
          "text": [
            "파이썬\n"
          ]
        }
      ]
    },
    {
      "cell_type": "code",
      "source": [
        "# print(\"이 책의 저자 김태헌입니다.\")\n",
        "print(\"여러분을 합격의 가장 빠른 길로 안내할게요!\")\n",
        "# print(\"믿고 따라와주세요!\")"
      ],
      "metadata": {
        "id": "GdgqR9wS_2n4",
        "colab": {
          "base_uri": "https://localhost:8080/"
        },
        "outputId": "03f5aa4f-9ae6-4f17-880f-96fccc0f946f"
      },
      "execution_count": 5,
      "outputs": [
        {
          "output_type": "stream",
          "name": "stdout",
          "text": [
            "여러분을 합격의 가장 빠른 길로 안내할게요!\n"
          ]
        }
      ]
    },
    {
      "cell_type": "markdown",
      "metadata": {
        "id": "rPXrOqw23eYk"
      },
      "source": [
        "## Section3. 산술연산자"
      ]
    },
    {
      "cell_type": "code",
      "metadata": {
        "id": "kL1pwn9g3gSM",
        "colab": {
          "base_uri": "https://localhost:8080/"
        },
        "outputId": "45727ec0-7d99-42ea-8842-05c9a338180f"
      },
      "source": [
        "# 산술연산\n",
        "print(1+2, 4-1, 2*3, 16/3)"
      ],
      "execution_count": 6,
      "outputs": [
        {
          "output_type": "stream",
          "name": "stdout",
          "text": [
            "3 3 6 5.333333333333333\n"
          ]
        }
      ]
    },
    {
      "cell_type": "code",
      "source": [
        "# 나눗셈\n",
        "15/3"
      ],
      "metadata": {
        "colab": {
          "base_uri": "https://localhost:8080/"
        },
        "id": "ZokK5R2PAL6a",
        "outputId": "15c25919-234b-43e7-8caf-724786c95201"
      },
      "execution_count": 7,
      "outputs": [
        {
          "output_type": "execute_result",
          "data": {
            "text/plain": [
              "5.0"
            ]
          },
          "metadata": {},
          "execution_count": 7
        }
      ]
    },
    {
      "cell_type": "code",
      "metadata": {
        "id": "aEqCTZCfs7zB",
        "colab": {
          "base_uri": "https://localhost:8080/"
        },
        "outputId": "df6b8337-36ab-47e0-b1e9-925bbf404392"
      },
      "source": [
        "# 몫\n",
        "16//3"
      ],
      "execution_count": 8,
      "outputs": [
        {
          "output_type": "execute_result",
          "data": {
            "text/plain": [
              "5"
            ]
          },
          "metadata": {},
          "execution_count": 8
        }
      ]
    },
    {
      "cell_type": "code",
      "metadata": {
        "id": "tLhgikIPs_g5",
        "colab": {
          "base_uri": "https://localhost:8080/"
        },
        "outputId": "7fcf8990-f67d-4269-af9d-37f2af8c630a"
      },
      "source": [
        "# 나머지\n",
        "16%3"
      ],
      "execution_count": 9,
      "outputs": [
        {
          "output_type": "execute_result",
          "data": {
            "text/plain": [
              "1"
            ]
          },
          "metadata": {},
          "execution_count": 9
        }
      ]
    },
    {
      "cell_type": "code",
      "metadata": {
        "id": "ORtvddjetFxD",
        "colab": {
          "base_uri": "https://localhost:8080/"
        },
        "outputId": "75f2b934-cdd7-4316-ace4-33ca40497016"
      },
      "source": [
        "# 거듭제곱\n",
        "4**2"
      ],
      "execution_count": 10,
      "outputs": [
        {
          "output_type": "execute_result",
          "data": {
            "text/plain": [
              "16"
            ]
          },
          "metadata": {},
          "execution_count": 10
        }
      ]
    },
    {
      "cell_type": "code",
      "source": [
        "# 제곱근\n",
        "16**0.5"
      ],
      "metadata": {
        "colab": {
          "base_uri": "https://localhost:8080/"
        },
        "id": "BdyRt9bVPvsR",
        "outputId": "ff645bf3-871f-424f-e3a7-2d9b0c0c68a1"
      },
      "execution_count": 11,
      "outputs": [
        {
          "output_type": "execute_result",
          "data": {
            "text/plain": [
              "4.0"
            ]
          },
          "metadata": {},
          "execution_count": 11
        }
      ]
    },
    {
      "cell_type": "code",
      "source": [
        "# 연산자 우선순위\n",
        "4+3*2"
      ],
      "metadata": {
        "colab": {
          "base_uri": "https://localhost:8080/"
        },
        "id": "Hc9FBYmfI7rP",
        "outputId": "f1822ac3-59d1-47c2-be2c-71114dd78577"
      },
      "execution_count": 12,
      "outputs": [
        {
          "output_type": "execute_result",
          "data": {
            "text/plain": [
              "10"
            ]
          },
          "metadata": {},
          "execution_count": 12
        }
      ]
    },
    {
      "cell_type": "code",
      "source": [
        "# 괄호\n",
        "(4+3)*2"
      ],
      "metadata": {
        "colab": {
          "base_uri": "https://localhost:8080/"
        },
        "id": "dPUMn-prJEAa",
        "outputId": "92478e37-8518-48d4-adcb-288a860d0454"
      },
      "execution_count": 13,
      "outputs": [
        {
          "output_type": "execute_result",
          "data": {
            "text/plain": [
              "14"
            ]
          },
          "metadata": {},
          "execution_count": 13
        }
      ]
    },
    {
      "cell_type": "code",
      "metadata": {
        "id": "QSZeZ8D-3gZQ",
        "colab": {
          "base_uri": "https://localhost:8080/",
          "height": 35
        },
        "outputId": "cc0041e9-cf0f-4c33-d328-87dbdce7eeeb"
      },
      "source": [
        "# 문자열 더하기(합친다)\n",
        "\"py\" + \"thon\""
      ],
      "execution_count": 14,
      "outputs": [
        {
          "output_type": "execute_result",
          "data": {
            "text/plain": [
              "'python'"
            ],
            "application/vnd.google.colaboratory.intrinsic+json": {
              "type": "string"
            }
          },
          "metadata": {},
          "execution_count": 14
        }
      ]
    },
    {
      "cell_type": "code",
      "source": [
        "#\"py\" + 3"
      ],
      "metadata": {
        "id": "KleDQSvtUeJ-"
      },
      "execution_count": 15,
      "outputs": []
    },
    {
      "cell_type": "code",
      "source": [
        "\"py\" + \"3\""
      ],
      "metadata": {
        "colab": {
          "base_uri": "https://localhost:8080/",
          "height": 35
        },
        "id": "e-lx3leX8nCj",
        "outputId": "6ff1c2e4-d934-4716-8e3f-1461e83038b9"
      },
      "execution_count": 16,
      "outputs": [
        {
          "output_type": "execute_result",
          "data": {
            "text/plain": [
              "'py3'"
            ],
            "application/vnd.google.colaboratory.intrinsic+json": {
              "type": "string"
            }
          },
          "metadata": {},
          "execution_count": 16
        }
      ]
    },
    {
      "cell_type": "markdown",
      "metadata": {
        "id": "MjEH32hddNoh"
      },
      "source": [
        "## Section4. 자료형(데이터 타입)"
      ]
    },
    {
      "cell_type": "code",
      "metadata": {
        "id": "Xx1sQev5dOuO",
        "colab": {
          "base_uri": "https://localhost:8080/"
        },
        "outputId": "048d9611-4a91-496d-dcc1-cf11e52b6876"
      },
      "source": [
        "# 정수형\n",
        "type(1)"
      ],
      "execution_count": 17,
      "outputs": [
        {
          "output_type": "execute_result",
          "data": {
            "text/plain": [
              "int"
            ]
          },
          "metadata": {},
          "execution_count": 17
        }
      ]
    },
    {
      "cell_type": "code",
      "metadata": {
        "id": "SBbgexcCdVUH",
        "colab": {
          "base_uri": "https://localhost:8080/"
        },
        "outputId": "2190c1c5-eaf7-4a8c-92b0-c99c72e7906e"
      },
      "source": [
        "# 실수형\n",
        "type(1.1)"
      ],
      "execution_count": 18,
      "outputs": [
        {
          "output_type": "execute_result",
          "data": {
            "text/plain": [
              "float"
            ]
          },
          "metadata": {},
          "execution_count": 18
        }
      ]
    },
    {
      "cell_type": "code",
      "metadata": {
        "id": "KdElWU6bdWj6",
        "colab": {
          "base_uri": "https://localhost:8080/"
        },
        "outputId": "3d80ac9e-3af6-43de-c426-d4cb24109eab"
      },
      "source": [
        "# 문자열\n",
        "type('hello')"
      ],
      "execution_count": 19,
      "outputs": [
        {
          "output_type": "execute_result",
          "data": {
            "text/plain": [
              "str"
            ]
          },
          "metadata": {},
          "execution_count": 19
        }
      ]
    },
    {
      "cell_type": "code",
      "source": [
        "type('3')"
      ],
      "metadata": {
        "id": "mEWXE934KgZz",
        "outputId": "e6a7a829-7230-4b2f-a03b-51bd21047006",
        "colab": {
          "base_uri": "https://localhost:8080/"
        }
      },
      "execution_count": 20,
      "outputs": [
        {
          "output_type": "execute_result",
          "data": {
            "text/plain": [
              "str"
            ]
          },
          "metadata": {},
          "execution_count": 20
        }
      ]
    },
    {
      "cell_type": "code",
      "source": [
        "type(3), type(3.0), type('3')"
      ],
      "metadata": {
        "colab": {
          "base_uri": "https://localhost:8080/"
        },
        "id": "k2RKhO8f9U7Y",
        "outputId": "24f5bba8-39d7-4650-c4eb-ce656b0c67a6"
      },
      "execution_count": 21,
      "outputs": [
        {
          "output_type": "execute_result",
          "data": {
            "text/plain": [
              "(int, float, str)"
            ]
          },
          "metadata": {},
          "execution_count": 21
        }
      ]
    },
    {
      "cell_type": "code",
      "metadata": {
        "id": "aM8UgBYSmeEg",
        "colab": {
          "base_uri": "https://localhost:8080/"
        },
        "outputId": "93d45341-d1aa-4244-d4c3-c3ba5694dafd"
      },
      "source": [
        "# 참/거짓\n",
        "type(True), type(False)"
      ],
      "execution_count": 22,
      "outputs": [
        {
          "output_type": "execute_result",
          "data": {
            "text/plain": [
              "(bool, bool)"
            ]
          },
          "metadata": {},
          "execution_count": 22
        }
      ]
    },
    {
      "cell_type": "code",
      "source": [
        "True + True + True + False + False"
      ],
      "metadata": {
        "colab": {
          "base_uri": "https://localhost:8080/"
        },
        "id": "nmf76FVtMIyA",
        "outputId": "7b9753d3-c326-46a8-bb2e-04990b51ef49"
      },
      "execution_count": 23,
      "outputs": [
        {
          "output_type": "execute_result",
          "data": {
            "text/plain": [
              "3"
            ]
          },
          "metadata": {},
          "execution_count": 23
        }
      ]
    },
    {
      "cell_type": "markdown",
      "metadata": {
        "id": "F6_6KAM-31QN"
      },
      "source": [
        "## Section5. 변수"
      ]
    },
    {
      "cell_type": "code",
      "source": [
        "#[tip]예약어\n",
        "import keyword\n",
        "keyword.kwlist"
      ],
      "metadata": {
        "colab": {
          "base_uri": "https://localhost:8080/"
        },
        "id": "XRCBVM0pPJLi",
        "outputId": "3dd12ee5-fac1-4627-b984-23362cc87513"
      },
      "execution_count": 24,
      "outputs": [
        {
          "output_type": "execute_result",
          "data": {
            "text/plain": [
              "['False',\n",
              " 'None',\n",
              " 'True',\n",
              " 'and',\n",
              " 'as',\n",
              " 'assert',\n",
              " 'async',\n",
              " 'await',\n",
              " 'break',\n",
              " 'class',\n",
              " 'continue',\n",
              " 'def',\n",
              " 'del',\n",
              " 'elif',\n",
              " 'else',\n",
              " 'except',\n",
              " 'finally',\n",
              " 'for',\n",
              " 'from',\n",
              " 'global',\n",
              " 'if',\n",
              " 'import',\n",
              " 'in',\n",
              " 'is',\n",
              " 'lambda',\n",
              " 'nonlocal',\n",
              " 'not',\n",
              " 'or',\n",
              " 'pass',\n",
              " 'raise',\n",
              " 'return',\n",
              " 'try',\n",
              " 'while',\n",
              " 'with',\n",
              " 'yield']"
            ]
          },
          "metadata": {},
          "execution_count": 24
        }
      ]
    },
    {
      "cell_type": "code",
      "metadata": {
        "id": "6ouKLr5z334V"
      },
      "source": [
        "americano = 4500"
      ],
      "execution_count": 25,
      "outputs": []
    },
    {
      "cell_type": "code",
      "metadata": {
        "id": "hnIbRIsv339m",
        "colab": {
          "base_uri": "https://localhost:8080/"
        },
        "outputId": "753f19f4-a81b-4d79-ef19-5a2bc8afc052"
      },
      "source": [
        "print(americano)    #변수 출력\n",
        "print('americano')  #문자 출력"
      ],
      "execution_count": 26,
      "outputs": [
        {
          "output_type": "stream",
          "name": "stdout",
          "text": [
            "4500\n",
            "americano\n"
          ]
        }
      ]
    },
    {
      "cell_type": "code",
      "metadata": {
        "id": "lqmZl6Bd34At",
        "colab": {
          "base_uri": "https://localhost:8080/"
        },
        "outputId": "0d74e1fa-8090-4bed-ee5f-5aed94422942"
      },
      "source": [
        "# 변수에 값 대입\n",
        "latte = 5000\n",
        "print(americano + latte)"
      ],
      "execution_count": 27,
      "outputs": [
        {
          "output_type": "stream",
          "name": "stdout",
          "text": [
            "9500\n"
          ]
        }
      ]
    },
    {
      "cell_type": "code",
      "metadata": {
        "id": "lFcDCOQT5P1A",
        "colab": {
          "base_uri": "https://localhost:8080/"
        },
        "outputId": "68a362b0-ed1b-4b25-c660-80f60b986213"
      },
      "source": [
        "result = americano + latte\n",
        "print(result)"
      ],
      "execution_count": 28,
      "outputs": [
        {
          "output_type": "stream",
          "name": "stdout",
          "text": [
            "9500\n"
          ]
        }
      ]
    },
    {
      "cell_type": "code",
      "source": [
        "americano = 4500\n",
        "americano = americano - 1000\n",
        "print(americano)"
      ],
      "metadata": {
        "colab": {
          "base_uri": "https://localhost:8080/"
        },
        "id": "q0FcJKQFNiZU",
        "outputId": "fd61eb24-28af-41da-d062-a23f626d9ad9"
      },
      "execution_count": 29,
      "outputs": [
        {
          "output_type": "stream",
          "name": "stdout",
          "text": [
            "3500\n"
          ]
        }
      ]
    },
    {
      "cell_type": "code",
      "source": [
        "a, b, c = 10, 20, 30\n",
        "print(a+b+c)"
      ],
      "metadata": {
        "colab": {
          "base_uri": "https://localhost:8080/"
        },
        "id": "yzeY0EjHecwW",
        "outputId": "744491d9-2255-4a43-9409-295faeb6832c"
      },
      "execution_count": 30,
      "outputs": [
        {
          "output_type": "stream",
          "name": "stdout",
          "text": [
            "60\n"
          ]
        }
      ]
    },
    {
      "cell_type": "markdown",
      "metadata": {
        "id": "PW5uDK2z4uSS"
      },
      "source": [
        "##  Section6. 자료형 변환"
      ]
    },
    {
      "cell_type": "code",
      "source": [
        "a = 2\n",
        "b = 0.17\n",
        "a = a + b\n",
        "type(a)"
      ],
      "metadata": {
        "colab": {
          "base_uri": "https://localhost:8080/"
        },
        "id": "Bhv2I5jKMAuA",
        "outputId": "e18e42b9-8df0-4b55-e101-33b58bb677ed"
      },
      "execution_count": 31,
      "outputs": [
        {
          "output_type": "execute_result",
          "data": {
            "text/plain": [
              "float"
            ]
          },
          "metadata": {},
          "execution_count": 31
        }
      ]
    },
    {
      "cell_type": "code",
      "metadata": {
        "id": "n17X9ikmqDn7",
        "colab": {
          "base_uri": "https://localhost:8080/"
        },
        "outputId": "d342b40c-b7f1-43f0-d66c-9d0568d3cdaa"
      },
      "source": [
        "box = 2.17\n",
        "print(\"문자열:\", str(box))\n",
        "print(\"정수형:\", int(box))"
      ],
      "execution_count": 32,
      "outputs": [
        {
          "output_type": "stream",
          "name": "stdout",
          "text": [
            "문자열: 2.17\n",
            "정수형: 2\n"
          ]
        }
      ]
    },
    {
      "cell_type": "code",
      "metadata": {
        "id": "egzIOnas4wxd",
        "colab": {
          "base_uri": "https://localhost:8080/"
        },
        "outputId": "107e7005-e172-4ec6-8ec0-f09fccf21202"
      },
      "source": [
        "# str(문자)\n",
        "box = \"3.14\"\n",
        "box = float(box) + 10\n",
        "box"
      ],
      "execution_count": 33,
      "outputs": [
        {
          "output_type": "execute_result",
          "data": {
            "text/plain": [
              "13.14"
            ]
          },
          "metadata": {},
          "execution_count": 33
        }
      ]
    },
    {
      "cell_type": "markdown",
      "metadata": {
        "id": "_zM17gMJ5t5p"
      },
      "source": [
        "## Section7. 비교연산자"
      ]
    },
    {
      "cell_type": "code",
      "metadata": {
        "id": "fE2S36lStvaa",
        "colab": {
          "base_uri": "https://localhost:8080/"
        },
        "outputId": "bf39a4d2-dc79-449b-b3f5-89767e8ead84"
      },
      "source": [
        "# 크다(참)\n",
        "10 > 5"
      ],
      "execution_count": 34,
      "outputs": [
        {
          "output_type": "execute_result",
          "data": {
            "text/plain": [
              "True"
            ]
          },
          "metadata": {},
          "execution_count": 34
        }
      ]
    },
    {
      "cell_type": "code",
      "metadata": {
        "id": "tD-UPP7D5GYL",
        "colab": {
          "base_uri": "https://localhost:8080/"
        },
        "outputId": "40989540-71a4-489d-c4fd-591ccb01be04"
      },
      "source": [
        "# 작다\n",
        "10 < 5"
      ],
      "execution_count": 35,
      "outputs": [
        {
          "output_type": "execute_result",
          "data": {
            "text/plain": [
              "False"
            ]
          },
          "metadata": {},
          "execution_count": 35
        }
      ]
    },
    {
      "cell_type": "code",
      "metadata": {
        "id": "rfrS5wNA5jig",
        "colab": {
          "base_uri": "https://localhost:8080/"
        },
        "outputId": "f122794f-9c5e-4165-d160-9265b9bedf6d"
      },
      "source": [
        "# 같거나 크다\n",
        "10 >= 5"
      ],
      "execution_count": 36,
      "outputs": [
        {
          "output_type": "execute_result",
          "data": {
            "text/plain": [
              "True"
            ]
          },
          "metadata": {},
          "execution_count": 36
        }
      ]
    },
    {
      "cell_type": "code",
      "metadata": {
        "id": "lIUab7Mq5Ghf",
        "colab": {
          "base_uri": "https://localhost:8080/"
        },
        "outputId": "a1af830e-3ed4-4f76-ac06-e7283e43e7c9"
      },
      "source": [
        "# 같다\n",
        "10 == 10"
      ],
      "execution_count": 37,
      "outputs": [
        {
          "output_type": "execute_result",
          "data": {
            "text/plain": [
              "True"
            ]
          },
          "metadata": {},
          "execution_count": 37
        }
      ]
    },
    {
      "cell_type": "code",
      "metadata": {
        "id": "_6kQowYCguce",
        "colab": {
          "base_uri": "https://localhost:8080/"
        },
        "outputId": "9d172a8c-6e05-4c82-b5c5-0fe7cf61ff2d"
      },
      "source": [
        "# 같지 않다\n",
        "10 != 5"
      ],
      "execution_count": 38,
      "outputs": [
        {
          "output_type": "execute_result",
          "data": {
            "text/plain": [
              "True"
            ]
          },
          "metadata": {},
          "execution_count": 38
        }
      ]
    },
    {
      "cell_type": "code",
      "metadata": {
        "id": "Ih3z-dslAF1Z",
        "colab": {
          "base_uri": "https://localhost:8080/"
        },
        "outputId": "ba5856da-b962-4108-ce1e-7b57f23e4690"
      },
      "source": [
        "# 같다\n",
        "a = 10\n",
        "b = 10\n",
        "a == b"
      ],
      "execution_count": 39,
      "outputs": [
        {
          "output_type": "execute_result",
          "data": {
            "text/plain": [
              "True"
            ]
          },
          "metadata": {},
          "execution_count": 39
        }
      ]
    },
    {
      "cell_type": "code",
      "metadata": {
        "id": "jUrfhIkmAF-K",
        "colab": {
          "base_uri": "https://localhost:8080/"
        },
        "outputId": "6ae18527-59d1-4961-8bfb-85675e5d4142"
      },
      "source": [
        "# 같거나 크다\n",
        "a >= b"
      ],
      "execution_count": 40,
      "outputs": [
        {
          "output_type": "execute_result",
          "data": {
            "text/plain": [
              "True"
            ]
          },
          "metadata": {},
          "execution_count": 40
        }
      ]
    },
    {
      "cell_type": "code",
      "metadata": {
        "id": "9g11nbHVAGGx",
        "colab": {
          "base_uri": "https://localhost:8080/"
        },
        "outputId": "2a1be9bb-012e-4b87-bbb8-c990881115b5"
      },
      "source": [
        "# False\n",
        "a > b"
      ],
      "execution_count": 41,
      "outputs": [
        {
          "output_type": "execute_result",
          "data": {
            "text/plain": [
              "False"
            ]
          },
          "metadata": {},
          "execution_count": 41
        }
      ]
    },
    {
      "cell_type": "code",
      "metadata": {
        "id": "3vb1GxkZUJDk",
        "colab": {
          "base_uri": "https://localhost:8080/"
        },
        "outputId": "24d02149-aa1a-427c-b48f-dadf3f1883e3"
      },
      "source": [
        "c = \"빅데이터\"\n",
        "d = \"빅데이터\"\n",
        "e = \"데이터\"\n",
        "\n",
        "print(c == d)\n",
        "print(d == e)"
      ],
      "execution_count": 42,
      "outputs": [
        {
          "output_type": "stream",
          "name": "stdout",
          "text": [
            "True\n",
            "False\n"
          ]
        }
      ]
    },
    {
      "cell_type": "markdown",
      "metadata": {
        "id": "pz4G7EFCT3ow"
      },
      "source": [
        "## Section8. 조건문"
      ]
    },
    {
      "cell_type": "code",
      "metadata": {
        "id": "MeetgWilCY_K",
        "colab": {
          "base_uri": "https://localhost:8080/"
        },
        "outputId": "618e2586-3dbe-496c-9161-4dc94dab28fb"
      },
      "source": [
        "if True:\n",
        "    print(\"실행\")"
      ],
      "execution_count": 43,
      "outputs": [
        {
          "output_type": "stream",
          "name": "stdout",
          "text": [
            "실행\n"
          ]
        }
      ]
    },
    {
      "cell_type": "code",
      "metadata": {
        "id": "G2APl1mxDlJ_"
      },
      "source": [
        "if False:\n",
        "    print(\"무시\")"
      ],
      "execution_count": 44,
      "outputs": []
    },
    {
      "cell_type": "code",
      "metadata": {
        "id": "kIu_ng9Kr_Z4",
        "colab": {
          "base_uri": "https://localhost:8080/"
        },
        "outputId": "79852e6f-b373-4772-d2e5-eb7ef4951d67"
      },
      "source": [
        "score = 10\n",
        "if score >= 10:\n",
        "    print(\"10보다 크거나 같다\")"
      ],
      "execution_count": 45,
      "outputs": [
        {
          "output_type": "stream",
          "name": "stdout",
          "text": [
            "10보다 크거나 같다\n"
          ]
        }
      ]
    },
    {
      "cell_type": "code",
      "source": [
        "if score > 9:\n",
        "    print(\"9 보다 크다\")"
      ],
      "metadata": {
        "colab": {
          "base_uri": "https://localhost:8080/"
        },
        "id": "00P6kmLYHv5H",
        "outputId": "a4abaa3d-a375-4b9d-e36f-6c2aa6bc49b4"
      },
      "execution_count": 46,
      "outputs": [
        {
          "output_type": "stream",
          "name": "stdout",
          "text": [
            "9 보다 크다\n"
          ]
        }
      ]
    },
    {
      "cell_type": "code",
      "source": [
        "if score <= 10:\n",
        "    print(\"10 보다 작거나 같다\")"
      ],
      "metadata": {
        "colab": {
          "base_uri": "https://localhost:8080/"
        },
        "id": "Hp8h6lOYHv8f",
        "outputId": "cbe19605-34aa-47ba-a4a6-3a6d5ee5948e"
      },
      "execution_count": 47,
      "outputs": [
        {
          "output_type": "stream",
          "name": "stdout",
          "text": [
            "10 보다 작거나 같다\n"
          ]
        }
      ]
    },
    {
      "cell_type": "code",
      "source": [
        "if score < 11:\n",
        "    print(\"11 보다 작다\")"
      ],
      "metadata": {
        "colab": {
          "base_uri": "https://localhost:8080/"
        },
        "id": "BB7XF4JvHv_q",
        "outputId": "8786e800-72a8-4c01-d742-af3bc57b1019"
      },
      "execution_count": 48,
      "outputs": [
        {
          "output_type": "stream",
          "name": "stdout",
          "text": [
            "11 보다 작다\n"
          ]
        }
      ]
    },
    {
      "cell_type": "code",
      "source": [
        "if score == 10:\n",
        "    print(\"score는 10이다\")"
      ],
      "metadata": {
        "colab": {
          "base_uri": "https://localhost:8080/"
        },
        "id": "Hy4vnhbBIxEA",
        "outputId": "8968ade2-a9d5-45da-aedf-96d99ef8e6c4"
      },
      "execution_count": 49,
      "outputs": [
        {
          "output_type": "stream",
          "name": "stdout",
          "text": [
            "score는 10이다\n"
          ]
        }
      ]
    },
    {
      "cell_type": "code",
      "source": [
        "if score != 11:\n",
        "    print(\"score는 11과 같지 않다\")"
      ],
      "metadata": {
        "colab": {
          "base_uri": "https://localhost:8080/"
        },
        "id": "q5k2-aiXHwCQ",
        "outputId": "ebe73dae-373f-4c30-b92a-ff8630289c76"
      },
      "execution_count": 50,
      "outputs": [
        {
          "output_type": "stream",
          "name": "stdout",
          "text": [
            "score는 11과 같지 않다\n"
          ]
        }
      ]
    },
    {
      "cell_type": "code",
      "source": [
        "print(\"True and False:\", True and False)\n",
        "print(\"True and True:\", True and True)\n",
        "print(\"True or False:\", True or False)\n",
        "print(\"True or True:\", True or True)"
      ],
      "metadata": {
        "colab": {
          "base_uri": "https://localhost:8080/"
        },
        "id": "VZnoR4YoHxuY",
        "outputId": "e8334c96-a449-4664-bee4-914d73d5e637"
      },
      "execution_count": 51,
      "outputs": [
        {
          "output_type": "stream",
          "name": "stdout",
          "text": [
            "True and False: False\n",
            "True and True: True\n",
            "True or False: True\n",
            "True or True: True\n"
          ]
        }
      ]
    },
    {
      "cell_type": "code",
      "metadata": {
        "id": "ivMOAhUe5uKF",
        "colab": {
          "base_uri": "https://localhost:8080/"
        },
        "outputId": "1acd29f4-6c1c-4a77-a73e-01828e06650f"
      },
      "source": [
        "if score < 10 and score >= 5:\n",
        "    print(\"score는 5 이상, 10 미만입니다.\")\n",
        "else:\n",
        "    print(\"score는 5 미만, 10 이상입니다.\")"
      ],
      "execution_count": 52,
      "outputs": [
        {
          "output_type": "stream",
          "name": "stdout",
          "text": [
            "score는 5 미만, 10 이상입니다.\n"
          ]
        }
      ]
    },
    {
      "cell_type": "code",
      "metadata": {
        "id": "WtZ_KIo5LHs1",
        "colab": {
          "base_uri": "https://localhost:8080/"
        },
        "outputId": "1b2844c6-8419-4438-a02f-d793c80140c3"
      },
      "source": [
        "score = 7\n",
        "\n",
        "if score >= 10:\n",
        "    print(\"A\")\n",
        "elif score < 10 and score >= 5:\n",
        "    print(\"B\")\n",
        "else:\n",
        "    print(\"C\")"
      ],
      "execution_count": 53,
      "outputs": [
        {
          "output_type": "stream",
          "name": "stdout",
          "text": [
            "B\n"
          ]
        }
      ]
    },
    {
      "cell_type": "code",
      "metadata": {
        "id": "XHZWWFTT5uNO",
        "colab": {
          "base_uri": "https://localhost:8080/"
        },
        "outputId": "64866571-ce99-4d1a-8f86-5947b5240ad9"
      },
      "source": [
        "score = 2\n",
        "\n",
        "if score >= 10:\n",
        "    print(\"score는 10 이상입니다.\")\n",
        "elif score < 10 and score >= 5:\n",
        "    print(\"score는 5 이상 10 미만입니다.\")\n",
        "elif score < 4 and score >= 3:\n",
        "    print(\"score는 3 이상 4 미만입니다.\")\n",
        "else:\n",
        "    print(\"score는 2 이하입니다.\")"
      ],
      "execution_count": 54,
      "outputs": [
        {
          "output_type": "stream",
          "name": "stdout",
          "text": [
            "score는 2 이하입니다.\n"
          ]
        }
      ]
    },
    {
      "cell_type": "markdown",
      "metadata": {
        "id": "sn96Y4ue8eIh"
      },
      "source": [
        "## Section9. 리스트"
      ]
    },
    {
      "cell_type": "code",
      "metadata": {
        "id": "VZhB5Wyj5uQ9",
        "colab": {
          "base_uri": "https://localhost:8080/"
        },
        "outputId": "b6f10b56-cd53-4a78-f2c7-922ed3957161"
      },
      "source": [
        "# 리스트 변수\n",
        "listbox = [4,2,10,6,8]\n",
        "print(listbox)"
      ],
      "execution_count": 55,
      "outputs": [
        {
          "output_type": "stream",
          "name": "stdout",
          "text": [
            "[4, 2, 10, 6, 8]\n"
          ]
        }
      ]
    },
    {
      "cell_type": "code",
      "source": [
        "print(listbox[0])"
      ],
      "metadata": {
        "colab": {
          "base_uri": "https://localhost:8080/"
        },
        "id": "VnKGyIDZYUiI",
        "outputId": "aac3162e-9b76-4998-8070-c6dde0f000b9"
      },
      "execution_count": 56,
      "outputs": [
        {
          "output_type": "stream",
          "name": "stdout",
          "text": [
            "4\n"
          ]
        }
      ]
    },
    {
      "cell_type": "code",
      "metadata": {
        "id": "yv3-b_gwOwjW",
        "colab": {
          "base_uri": "https://localhost:8080/"
        },
        "outputId": "826d99cd-8bfb-4d76-c075-7d54a283ea54"
      },
      "source": [
        "# type\n",
        "print(type(listbox))"
      ],
      "execution_count": 57,
      "outputs": [
        {
          "output_type": "stream",
          "name": "stdout",
          "text": [
            "<class 'list'>\n"
          ]
        }
      ]
    },
    {
      "cell_type": "code",
      "metadata": {
        "id": "C6aj7SJl5uTh",
        "colab": {
          "base_uri": "https://localhost:8080/"
        },
        "outputId": "71d26ffc-35ad-4fcf-9f03-78b1cb7975ff"
      },
      "source": [
        "# 문자열\n",
        "listbox = ['길벗','시나공','빅데이터']\n",
        "print(listbox)"
      ],
      "execution_count": 58,
      "outputs": [
        {
          "output_type": "stream",
          "name": "stdout",
          "text": [
            "['길벗', '시나공', '빅데이터']\n"
          ]
        }
      ]
    },
    {
      "cell_type": "code",
      "metadata": {
        "id": "ZZ3IhUFf-4wv",
        "colab": {
          "base_uri": "https://localhost:8080/"
        },
        "outputId": "3e5c4026-1dba-4045-b800-73be9564b65c"
      },
      "source": [
        "# 추가\n",
        "listbox.append('분석')\n",
        "print(listbox)"
      ],
      "execution_count": 59,
      "outputs": [
        {
          "output_type": "stream",
          "name": "stdout",
          "text": [
            "['길벗', '시나공', '빅데이터', '분석']\n"
          ]
        }
      ]
    },
    {
      "cell_type": "code",
      "source": [
        "listbox = [4,2,10,6,8]\n",
        "listbox_sorted = sorted(listbox)\n",
        "listbox_sorted"
      ],
      "metadata": {
        "colab": {
          "base_uri": "https://localhost:8080/"
        },
        "id": "23IokQDdPPaf",
        "outputId": "c2e681b5-c408-4b47-8b85-f4681757b263"
      },
      "execution_count": 60,
      "outputs": [
        {
          "output_type": "execute_result",
          "data": {
            "text/plain": [
              "[2, 4, 6, 8, 10]"
            ]
          },
          "metadata": {},
          "execution_count": 60
        }
      ]
    },
    {
      "cell_type": "code",
      "source": [
        "sorted(listbox, reverse = True)"
      ],
      "metadata": {
        "colab": {
          "base_uri": "https://localhost:8080/"
        },
        "id": "9tUz2x1hPtQ3",
        "outputId": "54321cd4-edd4-446e-bae3-080a21e16f50"
      },
      "execution_count": 61,
      "outputs": [
        {
          "output_type": "execute_result",
          "data": {
            "text/plain": [
              "[10, 8, 6, 4, 2]"
            ]
          },
          "metadata": {},
          "execution_count": 61
        }
      ]
    },
    {
      "cell_type": "code",
      "source": [
        "listbox = ['길벗','시나공','빅데이터']\n",
        "listbox_sorted = sorted(listbox)\n",
        "listbox_sorted"
      ],
      "metadata": {
        "colab": {
          "base_uri": "https://localhost:8080/"
        },
        "id": "Z2B-CY9UTE4H",
        "outputId": "de2fbbbe-d330-4c51-857d-fef12794ea06"
      },
      "execution_count": 62,
      "outputs": [
        {
          "output_type": "execute_result",
          "data": {
            "text/plain": [
              "['길벗', '빅데이터', '시나공']"
            ]
          },
          "metadata": {},
          "execution_count": 62
        }
      ]
    },
    {
      "cell_type": "markdown",
      "metadata": {
        "id": "sMaNulq9AeuE"
      },
      "source": [
        "## Section10. 딕셔너리(Dictionary)"
      ]
    },
    {
      "cell_type": "code",
      "metadata": {
        "id": "lzuN0U8IAg_A",
        "colab": {
          "base_uri": "https://localhost:8080/"
        },
        "outputId": "439af13f-dccf-4037-da60-042274f285c3"
      },
      "source": [
        "# 딕셔너리\n",
        "dictbox = {'name':'쿼카', 'level': 5}\n",
        "dictbox"
      ],
      "execution_count": 63,
      "outputs": [
        {
          "output_type": "execute_result",
          "data": {
            "text/plain": [
              "{'name': '쿼카', 'level': 5}"
            ]
          },
          "metadata": {},
          "execution_count": 63
        }
      ]
    },
    {
      "cell_type": "code",
      "metadata": {
        "id": "W48Flt_fPzPl",
        "colab": {
          "base_uri": "https://localhost:8080/"
        },
        "outputId": "2f4a39eb-41c3-4173-b8de-8aceb88ec1ad"
      },
      "source": [
        "# type\n",
        "type(dictbox)"
      ],
      "execution_count": 64,
      "outputs": [
        {
          "output_type": "execute_result",
          "data": {
            "text/plain": [
              "dict"
            ]
          },
          "metadata": {},
          "execution_count": 64
        }
      ]
    },
    {
      "cell_type": "code",
      "source": [
        "# 키(key)로 값 출력하기\n",
        "print(dictbox['name'])\n",
        "print(dictbox['level'])"
      ],
      "metadata": {
        "colab": {
          "base_uri": "https://localhost:8080/"
        },
        "id": "LfmpJX8KnBfc",
        "outputId": "9caabe1b-8f01-4012-9fb3-05449b8c0f8e"
      },
      "execution_count": 65,
      "outputs": [
        {
          "output_type": "stream",
          "name": "stdout",
          "text": [
            "쿼카\n",
            "5\n"
          ]
        }
      ]
    },
    {
      "cell_type": "code",
      "metadata": {
        "id": "K2aPJAQEzqoW",
        "colab": {
          "base_uri": "https://localhost:8080/"
        },
        "outputId": "9ea2c859-77d2-4714-b86d-9230e23db108"
      },
      "source": [
        "# 값 변경하기\n",
        "dictbox['level'] = 6\n",
        "dictbox['level']"
      ],
      "execution_count": 66,
      "outputs": [
        {
          "output_type": "execute_result",
          "data": {
            "text/plain": [
              "6"
            ]
          },
          "metadata": {},
          "execution_count": 66
        }
      ]
    },
    {
      "cell_type": "code",
      "metadata": {
        "id": "o0WZq19xzyyk",
        "colab": {
          "base_uri": "https://localhost:8080/"
        },
        "outputId": "1ca1c4ca-aebf-46a6-f1d2-04d16dd8b11c"
      },
      "source": [
        "# 키 값\n",
        "dictbox.keys()"
      ],
      "execution_count": 67,
      "outputs": [
        {
          "output_type": "execute_result",
          "data": {
            "text/plain": [
              "dict_keys(['name', 'level'])"
            ]
          },
          "metadata": {},
          "execution_count": 67
        }
      ]
    },
    {
      "cell_type": "code",
      "metadata": {
        "id": "Fo8xrNgmz4kX",
        "colab": {
          "base_uri": "https://localhost:8080/"
        },
        "outputId": "7020f62a-ea2b-447c-a183-f37011712837"
      },
      "source": [
        "# 밸류 값\n",
        "dictbox.values()"
      ],
      "execution_count": 68,
      "outputs": [
        {
          "output_type": "execute_result",
          "data": {
            "text/plain": [
              "dict_values(['쿼카', 6])"
            ]
          },
          "metadata": {},
          "execution_count": 68
        }
      ]
    },
    {
      "cell_type": "code",
      "source": [
        "dictbox.items()"
      ],
      "metadata": {
        "colab": {
          "base_uri": "https://localhost:8080/"
        },
        "id": "a21TgIIFA9kX",
        "outputId": "7ce8f811-a677-4561-f25d-a53efe55d374"
      },
      "execution_count": 69,
      "outputs": [
        {
          "output_type": "execute_result",
          "data": {
            "text/plain": [
              "dict_items([('name', '쿼카'), ('level', 6)])"
            ]
          },
          "metadata": {},
          "execution_count": 69
        }
      ]
    },
    {
      "cell_type": "code",
      "source": [
        "list(dictbox.values())"
      ],
      "metadata": {
        "colab": {
          "base_uri": "https://localhost:8080/"
        },
        "id": "2SHjT4dRSHSu",
        "outputId": "75bb5f0b-5edb-46df-d628-24bb7808b115"
      },
      "execution_count": 70,
      "outputs": [
        {
          "output_type": "execute_result",
          "data": {
            "text/plain": [
              "['쿼카', 6]"
            ]
          },
          "metadata": {},
          "execution_count": 70
        }
      ]
    },
    {
      "cell_type": "code",
      "source": [
        "a = '합격맛집'\n",
        "b = '길벗'\n",
        "c = '출판사'\n",
        "\n",
        "dictbox = {'닉네임': a, c : b}\n",
        "dictbox"
      ],
      "metadata": {
        "colab": {
          "base_uri": "https://localhost:8080/"
        },
        "id": "SEKvs8olUdWq",
        "outputId": "af097e83-7b05-445b-b2fb-c63df1648169"
      },
      "execution_count": 71,
      "outputs": [
        {
          "output_type": "execute_result",
          "data": {
            "text/plain": [
              "{'닉네임': '합격맛집', '출판사': '길벗'}"
            ]
          },
          "metadata": {},
          "execution_count": 71
        }
      ]
    },
    {
      "cell_type": "code",
      "source": [
        "listbox1 = ['딴짓분식','딴짓카페','딴짓피자']\n",
        "listbox2 = [4.8, 4.9, 5.0]\n",
        "\n",
        "dictbox = {'가게': listbox1, '평점': listbox2}\n",
        "dictbox"
      ],
      "metadata": {
        "colab": {
          "base_uri": "https://localhost:8080/"
        },
        "id": "517DzCrCTbRs",
        "outputId": "f534c8e0-8370-4fe2-c6d7-23545c87c040"
      },
      "execution_count": 72,
      "outputs": [
        {
          "output_type": "execute_result",
          "data": {
            "text/plain": [
              "{'가게': ['딴짓분식', '딴짓카페', '딴짓피자'], '평점': [4.8, 4.9, 5.0]}"
            ]
          },
          "metadata": {},
          "execution_count": 72
        }
      ]
    },
    {
      "cell_type": "markdown",
      "metadata": {
        "id": "tHba7NxMsY-r"
      },
      "source": [
        "## Section11. 인덱싱과 슬라이싱"
      ]
    },
    {
      "cell_type": "code",
      "metadata": {
        "id": "X3jgCz-KXAHt",
        "colab": {
          "base_uri": "https://localhost:8080/"
        },
        "outputId": "6a40ca12-1b46-46eb-eee7-e2a6f26cfa2b"
      },
      "source": [
        "# list[index] 원소 값\n",
        "\n",
        "listbox = [2,4,6,8,10]\n",
        "print(listbox[0])  # index 첫번째 값\n",
        "print(listbox[3])  # index 3 (네번째)"
      ],
      "execution_count": 73,
      "outputs": [
        {
          "output_type": "stream",
          "name": "stdout",
          "text": [
            "2\n",
            "8\n"
          ]
        }
      ]
    },
    {
      "cell_type": "code",
      "metadata": {
        "id": "lmi4cQp-memb",
        "colab": {
          "base_uri": "https://localhost:8080/"
        },
        "outputId": "a8f5244b-c393-47f5-d40c-e84cd3ca99ef"
      },
      "source": [
        "# index 마지막 값\n",
        "print(listbox[-1])"
      ],
      "execution_count": 74,
      "outputs": [
        {
          "output_type": "stream",
          "name": "stdout",
          "text": [
            "10\n"
          ]
        }
      ]
    },
    {
      "cell_type": "code",
      "metadata": {
        "id": "wrjMxzGosXZ-",
        "colab": {
          "base_uri": "https://localhost:8080/"
        },
        "outputId": "a9edcd4d-c931-4d01-8f99-18a985e3e091"
      },
      "source": [
        "# list[start:stop]\n",
        "# index 0부터 2까지\n",
        "print(listbox[0:3])"
      ],
      "execution_count": 75,
      "outputs": [
        {
          "output_type": "stream",
          "name": "stdout",
          "text": [
            "[2, 4, 6]\n"
          ]
        }
      ]
    },
    {
      "cell_type": "code",
      "source": [
        "# index 1부터 2까지\n",
        "print(listbox[1:3])"
      ],
      "metadata": {
        "colab": {
          "base_uri": "https://localhost:8080/"
        },
        "id": "zATlUjI8CD8t",
        "outputId": "cf8ef0f6-f277-4604-fa53-ac1181f5f439"
      },
      "execution_count": 76,
      "outputs": [
        {
          "output_type": "stream",
          "name": "stdout",
          "text": [
            "[4, 6]\n"
          ]
        }
      ]
    },
    {
      "cell_type": "code",
      "metadata": {
        "id": "GFY0NdKSW5A-",
        "colab": {
          "base_uri": "https://localhost:8080/"
        },
        "outputId": "152e4f8b-6132-4e5a-d545-e7fedbf5be95"
      },
      "source": [
        "# index 3부터 끝까지\n",
        "print(listbox[3:])"
      ],
      "execution_count": 77,
      "outputs": [
        {
          "output_type": "stream",
          "name": "stdout",
          "text": [
            "[8, 10]\n"
          ]
        }
      ]
    },
    {
      "cell_type": "code",
      "source": [
        "# 처음부터 index 3까지\n",
        "print(listbox[:3])"
      ],
      "metadata": {
        "colab": {
          "base_uri": "https://localhost:8080/"
        },
        "id": "w_W2paYPBscS",
        "outputId": "b1f318a2-7c9d-4859-8415-37ab0132ecab"
      },
      "execution_count": 78,
      "outputs": [
        {
          "output_type": "stream",
          "name": "stdout",
          "text": [
            "[2, 4, 6]\n"
          ]
        }
      ]
    },
    {
      "cell_type": "code",
      "metadata": {
        "id": "3l7vc-WEmEjL",
        "colab": {
          "base_uri": "https://localhost:8080/"
        },
        "outputId": "6c4a2fcb-e32c-4cf7-ba48-9c8e332fedc6"
      },
      "source": [
        "# list[start:stop:step]\n",
        "# index 처음부터 끝까지, 한칸 건너띄기\n",
        "print(listbox[::2])"
      ],
      "execution_count": 79,
      "outputs": [
        {
          "output_type": "stream",
          "name": "stdout",
          "text": [
            "[2, 6, 10]\n"
          ]
        }
      ]
    },
    {
      "cell_type": "code",
      "source": [
        "listbox[1:3] = [10, 20]\n",
        "print(listbox)"
      ],
      "metadata": {
        "colab": {
          "base_uri": "https://localhost:8080/"
        },
        "id": "kP5wAhSy39Us",
        "outputId": "fcf0cc99-9eed-403f-8fe5-5ee3995ed80b"
      },
      "execution_count": 80,
      "outputs": [
        {
          "output_type": "stream",
          "name": "stdout",
          "text": [
            "[2, 10, 20, 8, 10]\n"
          ]
        }
      ]
    },
    {
      "cell_type": "markdown",
      "metadata": {
        "id": "88qGNAwFU36g"
      },
      "source": [
        "## Section12. 내장 함수"
      ]
    },
    {
      "cell_type": "code",
      "metadata": {
        "id": "r4mkP9Q0VWay",
        "colab": {
          "base_uri": "https://localhost:8080/"
        },
        "outputId": "f3bc1fc8-ffb0-4b13-eb7c-f93a39064550"
      },
      "source": [
        "# 합계\n",
        "listbox = [4,2,10,6,8]\n",
        "sum(listbox)"
      ],
      "execution_count": 81,
      "outputs": [
        {
          "output_type": "execute_result",
          "data": {
            "text/plain": [
              "30"
            ]
          },
          "metadata": {},
          "execution_count": 81
        }
      ]
    },
    {
      "cell_type": "code",
      "source": [
        "boolbox = [True, False, True]\n",
        "sum(boolbox)"
      ],
      "metadata": {
        "colab": {
          "base_uri": "https://localhost:8080/"
        },
        "id": "bWl5KmdeESgz",
        "outputId": "a0ba6e81-26d0-4a61-ede2-fa8fe3c60f0b"
      },
      "execution_count": 82,
      "outputs": [
        {
          "output_type": "execute_result",
          "data": {
            "text/plain": [
              "2"
            ]
          },
          "metadata": {},
          "execution_count": 82
        }
      ]
    },
    {
      "cell_type": "code",
      "metadata": {
        "id": "KesjV3w0U774",
        "colab": {
          "base_uri": "https://localhost:8080/"
        },
        "outputId": "e81f91c2-2816-455b-859c-87fc387b5695"
      },
      "source": [
        "# 최대값\n",
        "max(listbox)"
      ],
      "execution_count": 83,
      "outputs": [
        {
          "output_type": "execute_result",
          "data": {
            "text/plain": [
              "10"
            ]
          },
          "metadata": {},
          "execution_count": 83
        }
      ]
    },
    {
      "cell_type": "code",
      "metadata": {
        "id": "qlxoqmVrVmIi",
        "colab": {
          "base_uri": "https://localhost:8080/"
        },
        "outputId": "82347f9d-5928-4262-e97b-68b5d7186979"
      },
      "source": [
        "# 최소값\n",
        "min(listbox)"
      ],
      "execution_count": 84,
      "outputs": [
        {
          "output_type": "execute_result",
          "data": {
            "text/plain": [
              "2"
            ]
          },
          "metadata": {},
          "execution_count": 84
        }
      ]
    },
    {
      "cell_type": "code",
      "metadata": {
        "id": "nWOmvtLrVjvN",
        "colab": {
          "base_uri": "https://localhost:8080/"
        },
        "outputId": "d9dbabfb-3f6f-4e7c-dd1f-4f2c0bfad084"
      },
      "source": [
        "# 길이(갯수)\n",
        "len(listbox)"
      ],
      "execution_count": 85,
      "outputs": [
        {
          "output_type": "execute_result",
          "data": {
            "text/plain": [
              "5"
            ]
          },
          "metadata": {},
          "execution_count": 85
        }
      ]
    },
    {
      "cell_type": "code",
      "metadata": {
        "id": "UfHaZY7Y1Cf8",
        "colab": {
          "base_uri": "https://localhost:8080/"
        },
        "outputId": "b0842a01-8ddb-4a8a-ad8a-98258c6cf1b5"
      },
      "source": [
        "# 반올림\n",
        "round(1.2345, 2), round(1.2375, 2)"
      ],
      "execution_count": 86,
      "outputs": [
        {
          "output_type": "execute_result",
          "data": {
            "text/plain": [
              "(1.23, 1.24)"
            ]
          },
          "metadata": {},
          "execution_count": 86
        }
      ]
    },
    {
      "cell_type": "markdown",
      "metadata": {
        "id": "60a8CfviXNzB"
      },
      "source": [
        "## Section13. 문자열"
      ]
    },
    {
      "cell_type": "markdown",
      "metadata": {
        "id": "GC88pkXCVtXW"
      },
      "source": [
        "### 문자열 변경"
      ]
    },
    {
      "cell_type": "code",
      "metadata": {
        "id": "4v6OZg0beGNn",
        "colab": {
          "base_uri": "https://localhost:8080/",
          "height": 35
        },
        "outputId": "8c439360-56a1-4c6b-ef5f-6db4c1039803"
      },
      "source": [
        "# 한 단어 변경\n",
        "text = \"빅데이터 분석기사 파이썬 공부\"\n",
        "text = text.replace(\"공부\",\"스터디\")\n",
        "text"
      ],
      "execution_count": 87,
      "outputs": [
        {
          "output_type": "execute_result",
          "data": {
            "text/plain": [
              "'빅데이터 분석기사 파이썬 스터디'"
            ],
            "application/vnd.google.colaboratory.intrinsic+json": {
              "type": "string"
            }
          },
          "metadata": {},
          "execution_count": 87
        }
      ]
    },
    {
      "cell_type": "code",
      "metadata": {
        "id": "TWaRdm59euuw",
        "colab": {
          "base_uri": "https://localhost:8080/",
          "height": 35
        },
        "outputId": "940f21a9-ac39-4546-9751-d5ff2831bf7e"
      },
      "source": [
        "# 여러 단어 변경\n",
        "text = \"빅데이터 분석기사 파이썬 공부\"\n",
        "text = text.replace(\"파이썬\",\"머신러닝\").replace(\"분석기사\",\"분석을 위한\")\n",
        "text"
      ],
      "execution_count": 88,
      "outputs": [
        {
          "output_type": "execute_result",
          "data": {
            "text/plain": [
              "'빅데이터 분석을 위한 머신러닝 공부'"
            ],
            "application/vnd.google.colaboratory.intrinsic+json": {
              "type": "string"
            }
          },
          "metadata": {},
          "execution_count": 88
        }
      ]
    },
    {
      "cell_type": "markdown",
      "metadata": {
        "id": "tJ4TMr1Zr3uk"
      },
      "source": [
        "### 문자열 슬라이싱"
      ]
    },
    {
      "cell_type": "code",
      "metadata": {
        "id": "i8nqO6HRr6Rp",
        "colab": {
          "base_uri": "https://localhost:8080/",
          "height": 35
        },
        "outputId": "cd9b4d9e-45be-46e3-d77b-ca0caab6d7e5"
      },
      "source": [
        "# 문자열 슬라이싱\n",
        "text = \"안녕하세요! 함께 성장해요.\"\n",
        "text[:2]"
      ],
      "execution_count": 89,
      "outputs": [
        {
          "output_type": "execute_result",
          "data": {
            "text/plain": [
              "'안녕'"
            ],
            "application/vnd.google.colaboratory.intrinsic+json": {
              "type": "string"
            }
          },
          "metadata": {},
          "execution_count": 89
        }
      ]
    },
    {
      "cell_type": "code",
      "source": [
        "text[7:9]"
      ],
      "metadata": {
        "colab": {
          "base_uri": "https://localhost:8080/",
          "height": 35
        },
        "id": "p6ReCrlEo4C9",
        "outputId": "739a2951-369c-4479-9794-661566a33d2c"
      },
      "execution_count": 90,
      "outputs": [
        {
          "output_type": "execute_result",
          "data": {
            "text/plain": [
              "'함께'"
            ],
            "application/vnd.google.colaboratory.intrinsic+json": {
              "type": "string"
            }
          },
          "metadata": {},
          "execution_count": 90
        }
      ]
    },
    {
      "cell_type": "code",
      "metadata": {
        "id": "-Gn-Q-m2sOG7",
        "colab": {
          "base_uri": "https://localhost:8080/",
          "height": 35
        },
        "outputId": "7f479df6-97b0-4df2-9669-8db76149a50c"
      },
      "source": [
        "# 월-일\n",
        "date = \"2022-12-25\"\n",
        "date[5:]"
      ],
      "execution_count": 91,
      "outputs": [
        {
          "output_type": "execute_result",
          "data": {
            "text/plain": [
              "'12-25'"
            ],
            "application/vnd.google.colaboratory.intrinsic+json": {
              "type": "string"
            }
          },
          "metadata": {},
          "execution_count": 91
        }
      ]
    },
    {
      "cell_type": "code",
      "source": [
        "print(date.split('-'))\n",
        "print(text.split())"
      ],
      "metadata": {
        "colab": {
          "base_uri": "https://localhost:8080/"
        },
        "id": "IlTtRzLUYrUu",
        "outputId": "c9538251-f8c7-491f-fa46-09d6b3ab2c66"
      },
      "execution_count": 92,
      "outputs": [
        {
          "output_type": "stream",
          "name": "stdout",
          "text": [
            "['2022', '12', '25']\n",
            "['안녕하세요!', '함께', '성장해요.']\n"
          ]
        }
      ]
    },
    {
      "cell_type": "code",
      "source": [
        "list(date)"
      ],
      "metadata": {
        "colab": {
          "base_uri": "https://localhost:8080/"
        },
        "id": "_FJGaW6hX-TP",
        "outputId": "f2003597-e330-43d7-88ee-60c912a861d0"
      },
      "execution_count": 93,
      "outputs": [
        {
          "output_type": "execute_result",
          "data": {
            "text/plain": [
              "['2', '0', '2', '2', '-', '1', '2', '-', '2', '5']"
            ]
          },
          "metadata": {},
          "execution_count": 93
        }
      ]
    },
    {
      "cell_type": "markdown",
      "metadata": {
        "id": "EXgwKIeQ9LSc"
      },
      "source": [
        "## Section14. 반복문"
      ]
    },
    {
      "cell_type": "code",
      "metadata": {
        "id": "xOe8qt-G5uVv",
        "colab": {
          "base_uri": "https://localhost:8080/"
        },
        "outputId": "6c553ffa-8ad8-42f7-9b19-3bb9391ff785"
      },
      "source": [
        "# 리스트에 있는 값, 반복문을 통해 출력\n",
        "listbox = [2,4,6,8,10]\n",
        "for item in listbox:\n",
        "    print(item)"
      ],
      "execution_count": 94,
      "outputs": [
        {
          "output_type": "stream",
          "name": "stdout",
          "text": [
            "2\n",
            "4\n",
            "6\n",
            "8\n",
            "10\n"
          ]
        }
      ]
    },
    {
      "cell_type": "code",
      "metadata": {
        "id": "8FfABDZt9QL2",
        "colab": {
          "base_uri": "https://localhost:8080/"
        },
        "outputId": "ba185710-3cbd-40e5-ee4e-b205c6b050dd"
      },
      "source": [
        "# 리스트에 있는 문자열 출력\n",
        "listbox = ['길벗','시나공','빅분기']\n",
        "for i in listbox:\n",
        "    print(i)"
      ],
      "execution_count": 95,
      "outputs": [
        {
          "output_type": "stream",
          "name": "stdout",
          "text": [
            "길벗\n",
            "시나공\n",
            "빅분기\n"
          ]
        }
      ]
    },
    {
      "cell_type": "code",
      "source": [
        "# 리스트에 있는 값, 반복문을 통해 출력\n",
        "listbox = [2,4,6,8,10]\n",
        "for item in listbox:\n",
        "    print(item)\n",
        "print(\"끝\")"
      ],
      "metadata": {
        "colab": {
          "base_uri": "https://localhost:8080/"
        },
        "id": "PWNLWhSbPhFc",
        "outputId": "f00c6559-10aa-4447-fb49-8c4bdac8b562"
      },
      "execution_count": 96,
      "outputs": [
        {
          "output_type": "stream",
          "name": "stdout",
          "text": [
            "2\n",
            "4\n",
            "6\n",
            "8\n",
            "10\n",
            "끝\n"
          ]
        }
      ]
    },
    {
      "cell_type": "code",
      "metadata": {
        "id": "-e3ldxTl9fC2",
        "colab": {
          "base_uri": "https://localhost:8080/"
        },
        "outputId": "eb4d161b-3e0c-4ca2-88cd-c1a75581b49d"
      },
      "source": [
        "# 리스트에 있는 값 반복문을 통해 +1 한 값, 출력\n",
        "listbox = [2,4,6,8,10]\n",
        "for item in listbox:\n",
        "    result = item + 1\n",
        "    print(result)"
      ],
      "execution_count": 97,
      "outputs": [
        {
          "output_type": "stream",
          "name": "stdout",
          "text": [
            "3\n",
            "5\n",
            "7\n",
            "9\n",
            "11\n"
          ]
        }
      ]
    },
    {
      "cell_type": "code",
      "metadata": {
        "id": "xSa4BJrlC5gl",
        "colab": {
          "base_uri": "https://localhost:8080/"
        },
        "outputId": "f2e418f4-daee-4889-a1f5-0f390b96b308"
      },
      "source": [
        "# 0부터 4까지 반복 출력\n",
        "for item in range(5):\n",
        "    print(item)"
      ],
      "execution_count": 98,
      "outputs": [
        {
          "output_type": "stream",
          "name": "stdout",
          "text": [
            "0\n",
            "1\n",
            "2\n",
            "3\n",
            "4\n"
          ]
        }
      ]
    },
    {
      "cell_type": "code",
      "metadata": {
        "id": "AYO-Jaunw92V",
        "colab": {
          "base_uri": "https://localhost:8080/"
        },
        "outputId": "2994859a-c3a0-4f45-9e53-81f861182dea"
      },
      "source": [
        "# 5부터 9까지 반복 출력\n",
        "for i in range(5,10):\n",
        "    print(i)"
      ],
      "execution_count": 99,
      "outputs": [
        {
          "output_type": "stream",
          "name": "stdout",
          "text": [
            "5\n",
            "6\n",
            "7\n",
            "8\n",
            "9\n"
          ]
        }
      ]
    },
    {
      "cell_type": "code",
      "metadata": {
        "id": "HbAA3JX11HBu",
        "colab": {
          "base_uri": "https://localhost:8080/"
        },
        "outputId": "673ea89c-278d-46b3-97db-b134b4bbdd21"
      },
      "source": [
        "listbox = []\n",
        "for i in range(1,6):\n",
        "    listbox.append(i)\n",
        "\n",
        "listbox"
      ],
      "execution_count": 100,
      "outputs": [
        {
          "output_type": "execute_result",
          "data": {
            "text/plain": [
              "[1, 2, 3, 4, 5]"
            ]
          },
          "metadata": {},
          "execution_count": 100
        }
      ]
    },
    {
      "cell_type": "code",
      "source": [
        "# 리스트에 있는 문자열과 인덱스값 출력\n",
        "listbox = ['길벗','시나공','빅분기', '분석']\n",
        "for index, item in enumerate(listbox):\n",
        "    print(index, item)"
      ],
      "metadata": {
        "colab": {
          "base_uri": "https://localhost:8080/"
        },
        "id": "AVvP0X5ycPDn",
        "outputId": "fee79276-5c8c-4342-c4cc-57ebb6d3778e"
      },
      "execution_count": 101,
      "outputs": [
        {
          "output_type": "stream",
          "name": "stdout",
          "text": [
            "0 길벗\n",
            "1 시나공\n",
            "2 빅분기\n",
            "3 분석\n"
          ]
        }
      ]
    },
    {
      "cell_type": "code",
      "source": [
        "person_info = {\n",
        "    'name': '사랑',\n",
        "    'age': 20,\n",
        "    'city': '부산',\n",
        "    'hobbies': ['연애', '수영', '코딩']\n",
        "}\n",
        "for k, v in zip(person_info.keys(), person_info.values()):\n",
        "    print(k, v)"
      ],
      "metadata": {
        "colab": {
          "base_uri": "https://localhost:8080/"
        },
        "id": "ZRHxoT_vd_lL",
        "outputId": "f011d060-0c4a-48da-9b39-9554f3827ae5"
      },
      "execution_count": 102,
      "outputs": [
        {
          "output_type": "stream",
          "name": "stdout",
          "text": [
            "name 사랑\n",
            "age 20\n",
            "city 부산\n",
            "hobbies ['연애', '수영', '코딩']\n"
          ]
        }
      ]
    },
    {
      "cell_type": "code",
      "metadata": {
        "id": "8dkdcNRI2tUu"
      },
      "source": [
        "# # Tip (print(f스트링))\n",
        "# for index, item in enumerate(listbox):\n",
        "#     print(f'인덱스{index}인 값은{item}입니다.')"
      ],
      "execution_count": 103,
      "outputs": []
    },
    {
      "cell_type": "markdown",
      "metadata": {
        "id": "j7bxnMRkCvee"
      },
      "source": [
        "## Section15. 함수"
      ]
    },
    {
      "cell_type": "markdown",
      "metadata": {
        "id": "xwknzPFZqLC9"
      },
      "source": [
        "### 기본함수"
      ]
    },
    {
      "cell_type": "code",
      "metadata": {
        "id": "v-5HTz-UoCrC",
        "colab": {
          "base_uri": "https://localhost:8080/"
        },
        "outputId": "6beb46e1-9e12-4a41-94db-40bb51fc8a11"
      },
      "source": [
        "def hello():   #함수 정의\n",
        "    print(\"안녕하세요!\")\n",
        "\n",
        "hello()        #함수 호출\n",
        "hello()        #함수 호출\n",
        "hello()        #함수 호출"
      ],
      "execution_count": 104,
      "outputs": [
        {
          "output_type": "stream",
          "name": "stdout",
          "text": [
            "안녕하세요!\n",
            "안녕하세요!\n",
            "안녕하세요!\n"
          ]
        }
      ]
    },
    {
      "cell_type": "markdown",
      "metadata": {
        "id": "m8UUcfokqNDe"
      },
      "source": [
        "### 함수(파라미터)"
      ]
    },
    {
      "cell_type": "code",
      "source": [
        "# 함수 정의 (파라미터)\n",
        "def hello(name):\n",
        "    print(\"hello \" + name)\n",
        "\n",
        "hello(\"빅분기\")"
      ],
      "metadata": {
        "colab": {
          "base_uri": "https://localhost:8080/"
        },
        "id": "c9uSjs2cAT_K",
        "outputId": "6a0817b4-deeb-418d-af78-ad3f0d8a9744"
      },
      "execution_count": 105,
      "outputs": [
        {
          "output_type": "stream",
          "name": "stdout",
          "text": [
            "hello 빅분기\n"
          ]
        }
      ]
    },
    {
      "cell_type": "code",
      "source": [
        "# 매개변수의 범위(에러)\n",
        "# def hello(name):\n",
        "#     print(name)\n",
        "# print(name)\n",
        "\n",
        "# hello(\"빅분기\")"
      ],
      "metadata": {
        "id": "J472tyenMtvr"
      },
      "execution_count": 106,
      "outputs": []
    },
    {
      "cell_type": "code",
      "metadata": {
        "id": "T5ZMWdSLW0RD",
        "colab": {
          "base_uri": "https://localhost:8080/"
        },
        "outputId": "f1bdae95-508c-4b5f-e625-d93652ee54e5"
      },
      "source": [
        "# 함수 정의 (파라미터)\n",
        "def plus(x, y):\n",
        "    print(x+y)\n",
        "\n",
        "# 함수 호출\n",
        "a=2\n",
        "b=3\n",
        "plus(a,b)"
      ],
      "execution_count": 107,
      "outputs": [
        {
          "output_type": "stream",
          "name": "stdout",
          "text": [
            "5\n"
          ]
        }
      ]
    },
    {
      "cell_type": "markdown",
      "metadata": {
        "id": "EmP4p9izqREt"
      },
      "source": [
        "### 리턴이 있는 함수"
      ]
    },
    {
      "cell_type": "code",
      "metadata": {
        "id": "QbUnPQhtpYBN",
        "colab": {
          "base_uri": "https://localhost:8080/"
        },
        "outputId": "8e19e4ae-9427-47b4-aca8-f83e2031008f"
      },
      "source": [
        "# 함수 정의 (리턴 값)\n",
        "def plus(x, y):\n",
        "    result = x+y\n",
        "    return result\n",
        "\n",
        "# 함수 호출\n",
        "a = plus(2,3)\n",
        "print(a)"
      ],
      "execution_count": 108,
      "outputs": [
        {
          "output_type": "stream",
          "name": "stdout",
          "text": [
            "5\n"
          ]
        }
      ]
    },
    {
      "cell_type": "code",
      "metadata": {
        "id": "AcTLatFGwXV9",
        "colab": {
          "base_uri": "https://localhost:8080/"
        },
        "outputId": "7ce331e0-5b96-4427-9e36-b8038863863f"
      },
      "source": [
        "# 리턴값이 2개 (최소, 최대값을 구하는 함수)\n",
        "listbox = [15, 46, 78, 24, 56]\n",
        "def min_max(data):\n",
        "    mi = min(data)\n",
        "    ma = max(data)\n",
        "    return mi, ma\n",
        "\n",
        "a, b = min_max(listbox)\n",
        "print(a,b)"
      ],
      "execution_count": 109,
      "outputs": [
        {
          "output_type": "stream",
          "name": "stdout",
          "text": [
            "15 78\n"
          ]
        }
      ]
    },
    {
      "cell_type": "code",
      "metadata": {
        "colab": {
          "base_uri": "https://localhost:8080/"
        },
        "id": "s0AfIdrZ5Vkg",
        "outputId": "42ab13f9-358b-487c-ca23-6ead5fdb0e7c"
      },
      "source": [
        "# 평균을 구하는 함수\n",
        "listbox = [15, 46, 78, 24, 56]\n",
        "\n",
        "def mean(data):\n",
        "    return sum(data) / len(data)\n",
        "\n",
        "mean(listbox)\n"
      ],
      "execution_count": 110,
      "outputs": [
        {
          "output_type": "execute_result",
          "data": {
            "text/plain": [
              "43.8"
            ]
          },
          "metadata": {},
          "execution_count": 110
        }
      ]
    },
    {
      "cell_type": "markdown",
      "metadata": {
        "id": "O1QnE6ZaliuP"
      },
      "source": [
        "## Section16. Quiz"
      ]
    },
    {
      "cell_type": "code",
      "metadata": {
        "id": "veDH5XwYixWa",
        "colab": {
          "base_uri": "https://localhost:8080/"
        },
        "outputId": "de94e3c1-2e07-4430-b0c7-20ed57a835c2"
      },
      "source": [
        "listbox = [\"감사\", \"행복\", \"사랑\", \"성공\", \"긍정\", \"변화\", \"성장\", \"희망\"]\n",
        "listbox"
      ],
      "execution_count": 111,
      "outputs": [
        {
          "output_type": "execute_result",
          "data": {
            "text/plain": [
              "['감사', '행복', '사랑', '성공', '긍정', '변화', '성장', '희망']"
            ]
          },
          "metadata": {},
          "execution_count": 111
        }
      ]
    },
    {
      "cell_type": "code",
      "metadata": {
        "id": "lPFvMHhVuGZ0",
        "colab": {
          "base_uri": "https://localhost:8080/"
        },
        "outputId": "790e1532-53f3-41f2-c231-61df0bf7bd8e"
      },
      "source": [
        "# Q1.리스트에 있는 값은 몇개인가?\n",
        "len(listbox)"
      ],
      "execution_count": 112,
      "outputs": [
        {
          "output_type": "execute_result",
          "data": {
            "text/plain": [
              "8"
            ]
          },
          "metadata": {},
          "execution_count": 112
        }
      ]
    },
    {
      "cell_type": "code",
      "metadata": {
        "id": "xeDlrQnHuZu8",
        "colab": {
          "base_uri": "https://localhost:8080/",
          "height": 35
        },
        "outputId": "38124d49-e155-46a4-d5c5-b70e29345e34"
      },
      "source": [
        "# Q2.리스트의 첫번째 값을 출력하시오\n",
        "listbox[0]"
      ],
      "execution_count": 113,
      "outputs": [
        {
          "output_type": "execute_result",
          "data": {
            "text/plain": [
              "'감사'"
            ],
            "application/vnd.google.colaboratory.intrinsic+json": {
              "type": "string"
            }
          },
          "metadata": {},
          "execution_count": 113
        }
      ]
    },
    {
      "cell_type": "code",
      "metadata": {
        "id": "X9ekhyU3vIng",
        "colab": {
          "base_uri": "https://localhost:8080/",
          "height": 35
        },
        "outputId": "9efc90a4-a5de-418b-8814-697a95e87849"
      },
      "source": [
        "# Q3.리스트의 마지막 값을 출력하시오\n",
        "listbox[-1]"
      ],
      "execution_count": 114,
      "outputs": [
        {
          "output_type": "execute_result",
          "data": {
            "text/plain": [
              "'희망'"
            ],
            "application/vnd.google.colaboratory.intrinsic+json": {
              "type": "string"
            }
          },
          "metadata": {},
          "execution_count": 114
        }
      ]
    },
    {
      "cell_type": "code",
      "metadata": {
        "id": "E77pYhgsuV4C",
        "colab": {
          "base_uri": "https://localhost:8080/"
        },
        "outputId": "a66c1149-5fe1-4f2e-eec0-00ca64d0a091"
      },
      "source": [
        "# Q4.리스트에서 처음부터 세번째 값까지 출력하시오\n",
        "listbox[:3]"
      ],
      "execution_count": 115,
      "outputs": [
        {
          "output_type": "execute_result",
          "data": {
            "text/plain": [
              "['감사', '행복', '사랑']"
            ]
          },
          "metadata": {},
          "execution_count": 115
        }
      ]
    },
    {
      "cell_type": "code",
      "metadata": {
        "id": "Lnr-3gUhuKhB",
        "colab": {
          "base_uri": "https://localhost:8080/",
          "height": 35
        },
        "outputId": "4fe93c2c-1e15-4188-fff3-d63744ef3e04"
      },
      "source": [
        "# Q5.리스트에서 마지막 앞 단어를 출력하시오\n",
        "listbox[-2]"
      ],
      "execution_count": 116,
      "outputs": [
        {
          "output_type": "execute_result",
          "data": {
            "text/plain": [
              "'성장'"
            ],
            "application/vnd.google.colaboratory.intrinsic+json": {
              "type": "string"
            }
          },
          "metadata": {},
          "execution_count": 116
        }
      ]
    },
    {
      "cell_type": "code",
      "metadata": {
        "id": "C_P8l56RvQuB",
        "colab": {
          "base_uri": "https://localhost:8080/"
        },
        "outputId": "d32da891-557c-4b35-fe68-d0ff1395b29b"
      },
      "source": [
        "# Q6.리스트 값 중 ‘행복’과 ‘사랑’만 출력하시오\n",
        "listbox[1:3]"
      ],
      "execution_count": 117,
      "outputs": [
        {
          "output_type": "execute_result",
          "data": {
            "text/plain": [
              "['행복', '사랑']"
            ]
          },
          "metadata": {},
          "execution_count": 117
        }
      ]
    },
    {
      "cell_type": "code",
      "source": [
        "# Q7.리스트 값 중 \"변화\" -> \"웃음\"으로 변경하시오\n",
        "listbox[5] = '웃음'\n",
        "listbox"
      ],
      "metadata": {
        "colab": {
          "base_uri": "https://localhost:8080/"
        },
        "id": "R8rC1oPEBeiH",
        "outputId": "40bfc883-2e68-4013-cb20-18659c5caed4"
      },
      "execution_count": 118,
      "outputs": [
        {
          "output_type": "execute_result",
          "data": {
            "text/plain": [
              "['감사', '행복', '사랑', '성공', '긍정', '웃음', '성장', '희망']"
            ]
          },
          "metadata": {},
          "execution_count": 118
        }
      ]
    },
    {
      "cell_type": "code",
      "metadata": {
        "id": "FnDj6uJ7ixCz",
        "colab": {
          "base_uri": "https://localhost:8080/"
        },
        "outputId": "650453e8-c1cf-4c56-e6df-b41cd70f0199"
      },
      "source": [
        "# Q8. 리스트에 있는 name, age, phone 컬럼명을 반복문을 통해 출력하시오\n",
        "cols = ['name', 'age', 'phone']\n",
        "for col in cols:\n",
        "    print(col)"
      ],
      "execution_count": 119,
      "outputs": [
        {
          "output_type": "stream",
          "name": "stdout",
          "text": [
            "name\n",
            "age\n",
            "phone\n"
          ]
        }
      ]
    },
    {
      "cell_type": "code",
      "metadata": {
        "id": "jJD-lq6mwDfs",
        "colab": {
          "base_uri": "https://localhost:8080/"
        },
        "outputId": "6c638dac-80ab-44a7-d6d6-18e4fbb2efc2"
      },
      "source": [
        "# Q9. 리스트에서 최대값에서 최소값을 뺀 결과를 리턴하는 함수를 만들고 실행하시오\n",
        "listbox = [15, 46, 78, 24, 56]\n",
        "def maxmin(data):\n",
        "    return max(data) - min(data)\n",
        "\n",
        "maxmin(listbox)"
      ],
      "execution_count": 120,
      "outputs": [
        {
          "output_type": "execute_result",
          "data": {
            "text/plain": [
              "63"
            ]
          },
          "metadata": {},
          "execution_count": 120
        }
      ]
    },
    {
      "cell_type": "code",
      "source": [
        "# Q10. 다음 문자열에서 \"여러분\"을 \"당신\"으로 변경한 결과를 리턴하는 함수를 만들고 실행하시오\n",
        "str_data = \"여러분의 합격을 응원합니다!\"\n",
        "def rep(data):\n",
        "    return data.replace(\"여러분\", \"당신\")\n",
        "\n",
        "rep(str_data)"
      ],
      "metadata": {
        "colab": {
          "base_uri": "https://localhost:8080/",
          "height": 35
        },
        "id": "E55R4Iu4LpAD",
        "outputId": "e45985a9-5c57-4afe-8dfe-249e81b888b4"
      },
      "execution_count": 121,
      "outputs": [
        {
          "output_type": "execute_result",
          "data": {
            "text/plain": [
              "'당신의 합격을 응원합니다!'"
            ],
            "application/vnd.google.colaboratory.intrinsic+json": {
              "type": "string"
            }
          },
          "metadata": {},
          "execution_count": 121
        }
      ]
    },
    {
      "cell_type": "code",
      "source": [],
      "metadata": {
        "id": "QLXCt0qUyILT"
      },
      "execution_count": 121,
      "outputs": []
    }
  ]
}