{
 "cells": [
  {
   "cell_type": "markdown",
   "metadata": {
    "id": "g7CyV-X4r6S2"
   },
   "source": [
    "[구글 코랩(Colab)에서 실행하기](https://colab.research.google.com/github/lovedlim/bigdata_analyst_cert/blob/main/part1/ch3/ch3_ex_type1.ipynb)"
   ]
  },
  {
   "cell_type": "markdown",
   "metadata": {
    "id": "fyetqPi1ngy-"
   },
   "source": [
    "### Section1."
   ]
  },
  {
   "cell_type": "code",
   "execution_count": 1,
   "metadata": {
    "colab": {
     "base_uri": "https://localhost:8080/"
    },
    "id": "dIoPqGGwnhzJ",
    "outputId": "7aeb9071-da24-4aab-d77c-5607a0e2fa5a"
   },
   "outputs": [
    {
     "name": "stdout",
     "output_type": "stream",
     "text": [
      "5924\n"
     ]
    },
    {
     "name": "stderr",
     "output_type": "stream",
     "text": [
      "C:\\Users\\Administrator\\AppData\\Local\\Temp\\ipykernel_29508\\832427656.py:11: FutureWarning: A value is trying to be set on a copy of a DataFrame or Series through chained assignment using an inplace method.\n",
      "The behavior will change in pandas 3.0. This inplace method will never work because the intermediate object on which we are setting values always behaves as a copy.\n",
      "\n",
      "For example, when doing 'df[col].method(value, inplace=True)', try using 'df.method({col: value}, inplace=True)' or df[col] = df[col].method(value) instead, to perform the operation inplace on the original object.\n",
      "\n",
      "\n",
      "  df['views'].fillna(min, inplace=True)\n"
     ]
    }
   ],
   "source": [
    "import pandas as pd\n",
    "# df = pd.read_csv(\"type1_data1.csv\")\n",
    "df = pd.read_csv(\"https://raw.githubusercontent.com/lovedlim/bigdata_analyst_cert/main/part1/ch3/type1_data1.csv\")\n",
    "\n",
    "# 0 제외\n",
    "cond = df['f5'] != 0\n",
    "df = df[cond]\n",
    "\n",
    "# 'views' 컬럼 결측치 최소값으로 채우기\n",
    "min = df['views'].min()\n",
    "df['views'].fillna(min, inplace=True)\n",
    "\n",
    "# 'views' 컬럼 중앙값 계산\n",
    "print(int(df['views'].median()))"
   ]
  },
  {
   "cell_type": "markdown",
   "metadata": {
    "id": "_bsCOCjZqK6b"
   },
   "source": [
    "### Section2."
   ]
  },
  {
   "cell_type": "code",
   "execution_count": 2,
   "metadata": {
    "colab": {
     "base_uri": "https://localhost:8080/"
    },
    "id": "QhA96ADRqLDJ",
    "outputId": "4ad0afad-a247-4097-8950-95495c79ea37"
   },
   "outputs": [
    {
     "data": {
      "text/plain": [
       "17"
      ]
     },
     "execution_count": 2,
     "metadata": {},
     "output_type": "execute_result"
    }
   ],
   "source": [
    "# df = pd.read_csv(\"type1_data1.csv\")\n",
    "df = pd.read_csv(\"https://raw.githubusercontent.com/lovedlim/bigdata_analyst_cert/main/part1/ch3/type1_data1.csv\")\n",
    "\n",
    "# subscribed 종류 중 가장 많은 날짜 구하기\n",
    "df = df['subscribed'].value_counts()\n",
    "\n",
    "# 일(day)값을 찾고, 정수형으로 변경\n",
    "int(df.index[0][-2:])"
   ]
  },
  {
   "cell_type": "markdown",
   "metadata": {
    "id": "009FIr1kqNp1"
   },
   "source": [
    "### Section3."
   ]
  },
  {
   "cell_type": "code",
   "execution_count": 3,
   "metadata": {
    "colab": {
     "base_uri": "https://localhost:8080/"
    },
    "id": "JE3-zjc1qQTU",
    "outputId": "e6469382-7b92-4bc7-8af5-0c633a5e9923"
   },
   "outputs": [
    {
     "data": {
      "text/plain": [
       "22"
      ]
     },
     "execution_count": 3,
     "metadata": {},
     "output_type": "execute_result"
    }
   ],
   "source": [
    "import pandas as pd\n",
    "# df = pd.read_csv(\"type1_data1.csv\")\n",
    "df = pd.read_csv(\"https://raw.githubusercontent.com/lovedlim/bigdata_analyst_cert/main/part1/ch3/type1_data1.csv\")\n",
    "\n",
    "# 결측치 제거\n",
    "df = df.dropna()\n",
    "\n",
    "# 새로운 컬럼 계산\n",
    "df['new'] = df['views']/df['f1']\n",
    "\n",
    "# 내림차순 정렬\n",
    "df = df.sort_values('new', ascending=False)\n",
    "\n",
    "# age 값 찾아서 출력\n",
    "int(df.iloc[0,1])"
   ]
  },
  {
   "cell_type": "markdown",
   "metadata": {
    "id": "O_vJrS85qQzo"
   },
   "source": [
    "### Section4."
   ]
  },
  {
   "cell_type": "code",
   "execution_count": 4,
   "metadata": {
    "colab": {
     "base_uri": "https://localhost:8080/"
    },
    "id": "3n2tsh8HqSUU",
    "outputId": "328f748a-1f02-4652-ba0f-3005ec1b6fcb"
   },
   "outputs": [
    {
     "name": "stdout",
     "output_type": "stream",
     "text": [
      "652812\n"
     ]
    },
    {
     "name": "stderr",
     "output_type": "stream",
     "text": [
      "C:\\Users\\Administrator\\AppData\\Local\\Temp\\ipykernel_29508\\1176725669.py:6: FutureWarning: A value is trying to be set on a copy of a DataFrame or Series through chained assignment using an inplace method.\n",
      "The behavior will change in pandas 3.0. This inplace method will never work because the intermediate object on which we are setting values always behaves as a copy.\n",
      "\n",
      "For example, when doing 'df[col].method(value, inplace=True)', try using 'df.method({col: value}, inplace=True)' or df[col] = df[col].method(value) instead, to perform the operation inplace on the original object.\n",
      "\n",
      "\n",
      "  df['views'].fillna(0, inplace=True)\n"
     ]
    }
   ],
   "source": [
    "import pandas as pd\n",
    "# df = pd.read_csv(\"type1_data1.csv\")\n",
    "df = pd.read_csv(\"https://raw.githubusercontent.com/lovedlim/bigdata_analyst_cert/main/part1/ch3/type1_data1.csv\")\n",
    "\n",
    "# 결측 데이터 0으로 대체\n",
    "df['views'].fillna(0, inplace=True)\n",
    "\n",
    "# 내림차순 정렬\n",
    "df = df.sort_values('views',ascending=False)\n",
    "\n",
    "# views 상위 10개 데이터에 최소값 대입\n",
    "views_min = df.iloc[:10]['views'].min()\n",
    "df.iloc[:10, -1] = views_min\n",
    "\n",
    "# views 컬럼의 합\n",
    "print(int(df['views'].sum()))"
   ]
  },
  {
   "cell_type": "code",
   "execution_count": 5,
   "metadata": {
    "colab": {
     "base_uri": "https://localhost:8080/"
    },
    "id": "PITWFa67OhyE",
    "outputId": "659cd1ee-fefb-49eb-ecdb-b196776b3e1b"
   },
   "outputs": [
    {
     "name": "stdout",
     "output_type": "stream",
     "text": [
      "652812\n"
     ]
    },
    {
     "name": "stderr",
     "output_type": "stream",
     "text": [
      "C:\\Users\\Administrator\\AppData\\Local\\Temp\\ipykernel_29508\\272620906.py:6: FutureWarning: A value is trying to be set on a copy of a DataFrame or Series through chained assignment using an inplace method.\n",
      "The behavior will change in pandas 3.0. This inplace method will never work because the intermediate object on which we are setting values always behaves as a copy.\n",
      "\n",
      "For example, when doing 'df[col].method(value, inplace=True)', try using 'df.method({col: value}, inplace=True)' or df[col] = df[col].method(value) instead, to perform the operation inplace on the original object.\n",
      "\n",
      "\n",
      "  df['views'].fillna(0, inplace=True)\n"
     ]
    }
   ],
   "source": [
    "import pandas as pd\n",
    "# df = pd.read_csv(\"type1_data1.csv\")\n",
    "df = pd.read_csv(\"https://raw.githubusercontent.com/lovedlim/bigdata_analyst_cert/main/part1/ch3/type1_data1.csv\")\n",
    "\n",
    "# 결측 데이터 0으로 대체\n",
    "df['views'].fillna(0, inplace=True)\n",
    "\n",
    "# views 컬럼에서 10번째로 큰 값을 구합니다.\n",
    "value = df['views'].nlargest(10).iloc[-1]\n",
    "\n",
    "# views 컬럼에서 가장 큰 10개의 값을 10번째로 큰 값으로 대체\n",
    "df.loc[df['views'] > value, 'views'] = value\n",
    "\n",
    "# views 컬럼의 합\n",
    "print(int(df['views'].sum()))"
   ]
  },
  {
   "cell_type": "markdown",
   "metadata": {
    "id": "hWZP_Ppds-uO"
   },
   "source": [
    "### Section5."
   ]
  },
  {
   "cell_type": "code",
   "execution_count": 6,
   "metadata": {
    "colab": {
     "base_uri": "https://localhost:8080/"
    },
    "id": "W4wM3sAKs-uP",
    "outputId": "51f89b7e-697a-4f97-e81c-3334b63a38d1"
   },
   "outputs": [
    {
     "name": "stdout",
     "output_type": "stream",
     "text": [
      "0.61\n"
     ]
    }
   ],
   "source": [
    "import pandas as pd\n",
    "# df = pd.read_csv(\"type1_data1.csv\")\n",
    "df = pd.read_csv(\"https://raw.githubusercontent.com/lovedlim/bigdata_analyst_cert/main/part1/ch3/type1_data1.csv\")\n",
    "\n",
    "# f4 컬럼에서 뒤에 2개 값 슬라이싱\n",
    "df['new'] = df['f4'].str[2:4]\n",
    "\n",
    "# FJ인 데이터 찾기\n",
    "cond = df['new'] == 'FJ'\n",
    "df = df[cond]\n",
    "\n",
    "# f2 평균 구하기\n",
    "print(round(df['f2'].mean(), 2))"
   ]
  },
  {
   "cell_type": "code",
   "execution_count": 7,
   "metadata": {
    "colab": {
     "base_uri": "https://localhost:8080/"
    },
    "id": "3ONeJePCDEIz",
    "outputId": "3a192a91-bed9-4ccd-aaab-b590f1090dba"
   },
   "outputs": [
    {
     "name": "stdout",
     "output_type": "stream",
     "text": [
      "0.61\n"
     ]
    }
   ],
   "source": [
    "import pandas as pd\n",
    "# df = pd.read_csv(\"type1_data1.csv\")\n",
    "df = pd.read_csv(\"https://raw.githubusercontent.com/lovedlim/bigdata_analyst_cert/main/part1/ch3/type1_data1.csv\")\n",
    "\n",
    "# FJ인 데이터 찾기\n",
    "cond = df['f4'].str.contains('FJ')\n",
    "df = df[cond]\n",
    "\n",
    "# f2 평균 구하기\n",
    "print(round(df['f2'].mean(), 2))"
   ]
  },
  {
   "cell_type": "markdown",
   "metadata": {
    "id": "1_R6mL-as_IJ"
   },
   "source": [
    "### Section6."
   ]
  },
  {
   "cell_type": "code",
   "execution_count": 8,
   "metadata": {
    "colab": {
     "base_uri": "https://localhost:8080/"
    },
    "id": "A7aR-DfEeWaI",
    "outputId": "56f1590f-811b-406e-c925-06bf3bbeabf7"
   },
   "outputs": [
    {
     "name": "stdout",
     "output_type": "stream",
     "text": [
      "235.43\n"
     ]
    }
   ],
   "source": [
    "import pandas as pd\n",
    "# df = pd.read_csv(\"type1_data1.csv\")\n",
    "df = pd.read_csv(\"https://raw.githubusercontent.com/lovedlim/bigdata_analyst_cert/main/part1/ch3/type1_data1.csv\")\n",
    "\n",
    "# 조건에 맞는 데이터\n",
    "cond1 = df['f3'] == 'gold'\n",
    "cond2 = df['f2'] == 2\n",
    "df = df[cond1 & cond2]\n",
    "\n",
    "# 분산\n",
    "result = df['f1'].var()\n",
    "\n",
    "# 출력\n",
    "print(round(result,2))"
   ]
  },
  {
   "cell_type": "markdown",
   "metadata": {
    "id": "_zgaSeQ9s_dI"
   },
   "source": [
    "### Section7."
   ]
  },
  {
   "cell_type": "code",
   "execution_count": 9,
   "metadata": {
    "colab": {
     "base_uri": "https://localhost:8080/"
    },
    "id": "fxpIvj1vs_dJ",
    "outputId": "2addb280-ac33-4fa8-9765-783b8b6f61a5"
   },
   "outputs": [
    {
     "name": "stdout",
     "output_type": "stream",
     "text": [
      "263.13\n"
     ]
    }
   ],
   "source": [
    "import pandas as pd\n",
    "# df = pd.read_csv(\"type1_data1.csv\")\n",
    "df = pd.read_csv(\"https://raw.githubusercontent.com/lovedlim/bigdata_analyst_cert/main/part1/ch3/type1_data1.csv\")\n",
    "\n",
    "# 나이 + 1\n",
    "df['age'] = df['age'] + 1\n",
    "\n",
    "# 20대, 30대 조건\n",
    "cond1 = (df['age'] >= 20) & (df['age'] < 30)\n",
    "cond2 = (df['age'] >= 30) & (df['age'] < 40)\n",
    "\n",
    "# 30대 views\n",
    "result = abs(df[cond1]['views'].mean() - df[cond2]['views'].mean())\n",
    "\n",
    "print(round(result,2))"
   ]
  },
  {
   "cell_type": "markdown",
   "metadata": {
    "id": "Qj1dSVqXs_2t"
   },
   "source": [
    "### Section8."
   ]
  },
  {
   "cell_type": "code",
   "execution_count": 10,
   "metadata": {
    "colab": {
     "base_uri": "https://localhost:8080/"
    },
    "id": "XzeSXWfrs_2u",
    "outputId": "f7476a59-1b90-4b11-ad61-82350fc460b5"
   },
   "outputs": [
    {
     "name": "stdout",
     "output_type": "stream",
     "text": [
      "5\n"
     ]
    }
   ],
   "source": [
    "import pandas as pd\n",
    "# df = pd.read_csv(\"type1_data1.csv\")\n",
    "df = pd.read_csv(\"https://raw.githubusercontent.com/lovedlim/bigdata_analyst_cert/main/part1/ch3/type1_data1.csv\")\n",
    "\n",
    "# 자료형 변환\n",
    "df['subscribed'] = pd.to_datetime(df['subscribed'])\n",
    "# df['subscribed'] = pd.to_datetime(df['subscribed'], format=\"%Y-%m-%d\") # format 사용\n",
    "\n",
    "# 파생변수 생성 (년, 월)\n",
    "df['year'] = df['subscribed'].dt.year\n",
    "df['month'] = df['subscribed'].dt.month\n",
    "\n",
    "# 2024년 2월이고, 'f3'이 gold인 데이터\n",
    "cond1 = df['year'] == 2024\n",
    "cond2 = df['month'] == 2\n",
    "cond3 = df['f3'] == 'gold'\n",
    "df = df[cond1 & cond2 & cond3]\n",
    "\n",
    "# 데이터 개수\n",
    "print(len(df))"
   ]
  },
  {
   "cell_type": "markdown",
   "metadata": {
    "id": "rrk8AZhsk-Bx"
   },
   "source": [
    "### Section9."
   ]
  },
  {
   "cell_type": "code",
   "execution_count": 11,
   "metadata": {
    "colab": {
     "base_uri": "https://localhost:8080/"
    },
    "id": "rYBoJsslj0pq",
    "outputId": "bb66faff-d3bb-42ee-f6f9-7136761640bc"
   },
   "outputs": [
    {
     "name": "stdout",
     "output_type": "stream",
     "text": [
      "ISFJ\n"
     ]
    }
   ],
   "source": [
    "import pandas as pd\n",
    "# df = pd.read_csv(\"type1_data1.csv\")\n",
    "df = pd.read_csv(\"https://raw.githubusercontent.com/lovedlim/bigdata_analyst_cert/main/part1/ch3/type1_data1.csv\")\n",
    "\n",
    "# views수가 1000이하\n",
    "cond = df['views'] <= 1000\n",
    "df = df[cond]\n",
    "\n",
    "# f4컬럼 종류별 개수\n",
    "df = df['f4'].value_counts()\n",
    "\n",
    "# f4컬럼 최빈값\n",
    "print(df.index[0])"
   ]
  },
  {
   "cell_type": "code",
   "execution_count": 12,
   "metadata": {
    "colab": {
     "base_uri": "https://localhost:8080/"
    },
    "id": "QQ4e8rs1AGJe",
    "outputId": "250f182d-3b22-47ba-e377-61ec69612b8d"
   },
   "outputs": [
    {
     "name": "stdout",
     "output_type": "stream",
     "text": [
      "ISFJ\n"
     ]
    }
   ],
   "source": [
    "import pandas as pd\n",
    "# df = pd.read_csv(\"type1_data1.csv\")\n",
    "df = pd.read_csv(\"https://raw.githubusercontent.com/lovedlim/bigdata_analyst_cert/main/part1/ch3/type1_data1.csv\")\n",
    "\n",
    "# views수가 1000이하\n",
    "cond = df['views'] <= 1000\n",
    "df = df[cond]\n",
    "\n",
    "# f4컬럼 종류별 개수\n",
    "print(df['f4'].mode()[0])"
   ]
  },
  {
   "cell_type": "markdown",
   "metadata": {
    "id": "TgO7R8c8f49P"
   },
   "source": [
    "### Section10."
   ]
  },
  {
   "cell_type": "code",
   "execution_count": 13,
   "metadata": {
    "colab": {
     "base_uri": "https://localhost:8080/"
    },
    "id": "SVAm1nibj1Hu",
    "outputId": "58ed5a8e-209c-4ac8-fe84-c59daea3caac"
   },
   "outputs": [
    {
     "name": "stdout",
     "output_type": "stream",
     "text": [
      "서울\n"
     ]
    }
   ],
   "source": [
    "import pandas as pd\n",
    "# df = pd.read_csv(\"type1_data1.csv\")\n",
    "df = pd.read_csv(\"https://raw.githubusercontent.com/lovedlim/bigdata_analyst_cert/main/part1/ch3/type1_data1.csv\")\n",
    "\n",
    "# 결측치가 있는 행은 삭제하고\n",
    "df.dropna(inplace=True)\n",
    "\n",
    "# 지역별 평균 계산\n",
    "df = df.groupby(['city']).mean(numeric_only=True) # 시험환경은 mean() 사용\n",
    "\n",
    "# 'f2'컬럼이 가장 큰 지역 출력\n",
    "print(df.sort_values(\"f2\", ascending = False).index[0])"
   ]
  },
  {
   "cell_type": "code",
   "execution_count": 14,
   "metadata": {
    "colab": {
     "base_uri": "https://localhost:8080/"
    },
    "id": "zz6ttce-hq0G",
    "outputId": "19ecbbcf-9c87-44db-c1c7-adf713c4aecc"
   },
   "outputs": [
    {
     "name": "stdout",
     "output_type": "stream",
     "text": [
      "서울\n"
     ]
    }
   ],
   "source": [
    "import pandas as pd\n",
    "# df = pd.read_csv(\"type1_data1.csv\")\n",
    "df = pd.read_csv(\"https://raw.githubusercontent.com/lovedlim/bigdata_analyst_cert/main/part1/ch3/type1_data1.csv\")\n",
    "\n",
    "# 결측치가 있는 행은 삭제하고\n",
    "df.dropna(inplace=True)\n",
    "\n",
    "# 지역별 평균 계산\n",
    "df = df.groupby('city').mean(numeric_only=True) # 시험환경은 mean() 사용\n",
    "\n",
    "# 'f2'컬럼이 가장 큰 지역 출력\n",
    "print(df['f2'].idxmax())\n"
   ]
  },
  {
   "cell_type": "markdown",
   "metadata": {
    "id": "upHoC0eb7CC0"
   },
   "source": [
    "### Section11."
   ]
  },
  {
   "cell_type": "code",
   "execution_count": 15,
   "metadata": {
    "colab": {
     "base_uri": "https://localhost:8080/"
    },
    "id": "HAeSMA747N_I",
    "outputId": "116f2781-c5c3-4c6a-be16-05a69c176b12"
   },
   "outputs": [
    {
     "name": "stdout",
     "output_type": "stream",
     "text": [
      "2771\n"
     ]
    }
   ],
   "source": [
    "import pandas as pd\n",
    "# df = pd.read_csv(\"type1_data1.csv\")\n",
    "df = pd.read_csv(\"https://raw.githubusercontent.com/lovedlim/bigdata_analyst_cert/main/part1/ch3/type1_data1.csv\")\n",
    "\n",
    "# 결측치가 있는 행 제거\n",
    "df.dropna(inplace=True)\n",
    "\n",
    "# 70% 지점\n",
    "end = int(len(df) * 0.7)\n",
    "\n",
    "# 70% 데이터 슬라이싱\n",
    "df = df.iloc[:end]\n",
    "\n",
    "# 3사분위수, 1사분위수\n",
    "q3 = df['views'].quantile(.75)\n",
    "q1 = df['views'].quantile(.25)\n",
    "\n",
    "# 결과 출력\n",
    "print(int(q3 - q1))"
   ]
  },
  {
   "cell_type": "markdown",
   "metadata": {
    "id": "kmcKIuaz_wRx"
   },
   "source": [
    "### Section12."
   ]
  },
  {
   "cell_type": "code",
   "execution_count": 16,
   "metadata": {
    "colab": {
     "base_uri": "https://localhost:8080/"
    },
    "id": "x8G4a2Jp_zy-",
    "outputId": "9454c646-ef62-4ba6-d4c0-f9a28afd6fe8"
   },
   "outputs": [
    {
     "name": "stdout",
     "output_type": "stream",
     "text": [
      "63\n"
     ]
    },
    {
     "name": "stderr",
     "output_type": "stream",
     "text": [
      "C:\\Users\\Administrator\\AppData\\Local\\Temp\\ipykernel_29508\\1965529311.py:13: FutureWarning: A value is trying to be set on a copy of a DataFrame or Series through chained assignment using an inplace method.\n",
      "The behavior will change in pandas 3.0. This inplace method will never work because the intermediate object on which we are setting values always behaves as a copy.\n",
      "\n",
      "For example, when doing 'df[col].method(value, inplace=True)', try using 'df.method({col: value}, inplace=True)' or df[col] = df[col].method(value) instead, to perform the operation inplace on the original object.\n",
      "\n",
      "\n",
      "  df['f3'].fillna(freq, inplace=True)\n"
     ]
    }
   ],
   "source": [
    "import pandas as pd\n",
    "# df = pd.read_csv(\"type1_data1.csv\")\n",
    "df = pd.read_csv(\"https://raw.githubusercontent.com/lovedlim/bigdata_analyst_cert/main/part1/ch3/type1_data1.csv\")\n",
    "\n",
    "# 결측치가 가장 많은 컬럼, 출력 결과로 확인\n",
    "#print(df.isnull().sum())\n",
    "\n",
    "# 결측치가 가장 많은 컬럼 제거\n",
    "df = df.dropna(subset=['f1'])\n",
    "\n",
    "# 두번째로 가장 결측치가 많은 컬럼 최빈값 대체\n",
    "freq = df['f3'].mode()[0]\n",
    "df['f3'].fillna(freq, inplace=True)\n",
    "\n",
    "# f3컬럼이 gold인 데이터의 수\n",
    "print(sum(df['f3'] == 'gold'))"
   ]
  },
  {
   "cell_type": "code",
   "execution_count": 17,
   "metadata": {
    "colab": {
     "base_uri": "https://localhost:8080/"
    },
    "id": "vKWjyP9KEmZO",
    "outputId": "9fe4991d-2766-4166-e0d7-51618b69b662"
   },
   "outputs": [
    {
     "name": "stdout",
     "output_type": "stream",
     "text": [
      "63\n"
     ]
    }
   ],
   "source": [
    "import pandas as pd\n",
    "# df = pd.read_csv(\"type1_data1.csv\")\n",
    "df = pd.read_csv(\"https://raw.githubusercontent.com/lovedlim/bigdata_analyst_cert/main/part1/ch3/type1_data1.csv\")\n",
    "\n",
    "# 결측치가 가장 많은 컬럼\n",
    "col = df.isnull().sum().idxmax()\n",
    "\n",
    "# 결측치가 가장 많은 컬럼 제거\n",
    "df = df.dropna(subset=[col])\n",
    "\n",
    "# 두번째로 가장 결측치가 많은 컬럼 최빈값 대체\n",
    "freq = df['f3'].mode()[0]\n",
    "df['f3'] = df['f3'].fillna(freq)\n",
    "\n",
    "# f3컬럼이 gold인 데이터의 수\n",
    "print(len(df[df['f3'] == 'gold']))"
   ]
  },
  {
   "cell_type": "markdown",
   "metadata": {
    "id": "Zz1RT2JFC7iz"
   },
   "source": [
    "### Section13."
   ]
  },
  {
   "cell_type": "code",
   "execution_count": 18,
   "metadata": {
    "colab": {
     "base_uri": "https://localhost:8080/"
    },
    "id": "HAYA4FhMCIKx",
    "outputId": "cc9ea1c0-b23e-4b62-f5db-16f70ec4a874"
   },
   "outputs": [
    {
     "name": "stdout",
     "output_type": "stream",
     "text": [
      "53.6\n"
     ]
    }
   ],
   "source": [
    "import pandas as pd\n",
    "# df = pd.read_csv(\"type1_data1.csv\")\n",
    "df = pd.read_csv(\"https://raw.githubusercontent.com/lovedlim/bigdata_analyst_cert/main/part1/ch3/type1_data1.csv\")\n",
    "\n",
    "# 결측치가 있는 데이터 True / False\n",
    "cond = df['f1'].isnull()\n",
    "\n",
    "# 결측치가 있는 데이터 선택\n",
    "df = df[cond]\n",
    "\n",
    "# age의 평균값을 구하시오\n",
    "result = df['age'].mean()\n",
    "\n",
    "# 소수 첫째자리 까지 출력\n",
    "print(round(result, 1))"
   ]
  },
  {
   "cell_type": "markdown",
   "metadata": {
    "id": "1wY-DwCKFjm1"
   },
   "source": [
    "### Section14."
   ]
  },
  {
   "cell_type": "code",
   "execution_count": 19,
   "metadata": {
    "colab": {
     "base_uri": "https://localhost:8080/"
    },
    "id": "HhgaIWypFmlo",
    "outputId": "37967418-c8f1-4309-b87f-294d379a98a8"
   },
   "outputs": [
    {
     "name": "stdout",
     "output_type": "stream",
     "text": [
      "167\n"
     ]
    },
    {
     "name": "stderr",
     "output_type": "stream",
     "text": [
      "C:\\Users\\Administrator\\AppData\\Local\\Temp\\ipykernel_29508\\852382092.py:10: FutureWarning: Downcasting behavior in `replace` is deprecated and will be removed in a future version. To retain the old behavior, explicitly call `result.infer_objects(copy=False)`. To opt-in to the future behavior, set `pd.set_option('future.no_silent_downcasting', True)`\n",
      "  df['f3'] = df['f3'].replace(np.nan,0).replace('silver',1).replace('gold',2).replace('vip',3)\n"
     ]
    }
   ],
   "source": [
    "import pandas as pd\n",
    "# df = pd.read_csv(\"type1_data1.csv\")\n",
    "df = pd.read_csv(\"https://raw.githubusercontent.com/lovedlim/bigdata_analyst_cert/main/part1/ch3/type1_data1.csv\")\n",
    "\n",
    "# 중복데이터 제거\n",
    "df.drop_duplicates(inplace=True)\n",
    "\n",
    "# 값 대체\n",
    "import numpy as np\n",
    "df['f3'] = df['f3'].replace(np.nan,0).replace('silver',1).replace('gold',2).replace('vip',3)\n",
    "\n",
    "# f3컬럼의 총합 (정수형으로 출력)\n",
    "print(int(df['f3'].sum()))"
   ]
  },
  {
   "cell_type": "code",
   "execution_count": 20,
   "metadata": {
    "colab": {
     "base_uri": "https://localhost:8080/"
    },
    "id": "-4nnZd4PHblL",
    "outputId": "8ba1af3b-4d50-4453-8342-8f2601f32083"
   },
   "outputs": [
    {
     "name": "stdout",
     "output_type": "stream",
     "text": [
      "167\n"
     ]
    }
   ],
   "source": [
    "# 방법2\n",
    "import pandas as pd\n",
    "# df = pd.read_csv(\"type1_data1.csv\")\n",
    "df = pd.read_csv(\"https://raw.githubusercontent.com/lovedlim/bigdata_analyst_cert/main/part1/ch3/type1_data1.csv\")\n",
    "\n",
    "# 중복데이터 제거\n",
    "df.drop_duplicates(inplace=True)\n",
    "\n",
    "# 계산\n",
    "r1 = sum(df['f3'] == 'silver') * 1\n",
    "r2 = sum(df['f3'] == 'gold') * 2\n",
    "r3 = sum(df['f3'] == 'vip') * 3\n",
    "print(r1 + r2 + r3)"
   ]
  },
  {
   "cell_type": "markdown",
   "metadata": {
    "id": "_5wI5LtEIg7z"
   },
   "source": [
    "### Section15."
   ]
  },
  {
   "cell_type": "code",
   "execution_count": 21,
   "metadata": {
    "colab": {
     "base_uri": "https://localhost:8080/"
    },
    "id": "UsweG-C8Ikfx",
    "outputId": "979549fa-2e3d-48bc-b847-aa310d3599be"
   },
   "outputs": [
    {
     "name": "stdout",
     "output_type": "stream",
     "text": [
      "88\n"
     ]
    }
   ],
   "source": [
    "import pandas as pd\n",
    "# df = pd.read_csv(\"type1_data1.csv\")\n",
    "df = pd.read_csv(\"https://raw.githubusercontent.com/lovedlim/bigdata_analyst_cert/main/part1/ch3/type1_data1.csv\")\n",
    "\n",
    "# 자료형이 object 컬럼 선택\n",
    "cols = df.select_dtypes(exclude='object').columns\n",
    "df = df[cols]\n",
    "\n",
    "# 결측치 0으로 대체\n",
    "df = df.fillna(0)\n",
    "\n",
    "# 행과 열 변경\n",
    "df = df.T\n",
    "\n",
    "# 행별 합이 3000이상인 데이터 수\n",
    "print(sum(df.sum() > 3000))"
   ]
  },
  {
   "cell_type": "markdown",
   "metadata": {
    "id": "czzQ7mCZK85p"
   },
   "source": [
    "### Section16."
   ]
  },
  {
   "cell_type": "code",
   "execution_count": 22,
   "metadata": {
    "colab": {
     "base_uri": "https://localhost:8080/"
    },
    "id": "q8bwlASyK3KM",
    "outputId": "b9c2f353-a297-4ee7-f2e2-5d277928e385"
   },
   "outputs": [
    {
     "name": "stdout",
     "output_type": "stream",
     "text": [
      "77699\n"
     ]
    }
   ],
   "source": [
    "import pandas as pd\n",
    "# df = pd.read_csv(\"type1_data1.csv\")\n",
    "df = pd.read_csv(\"https://raw.githubusercontent.com/lovedlim/bigdata_analyst_cert/main/part1/ch3/type1_data1.csv\")\n",
    "\n",
    "# 3사분위 1사분위\n",
    "q3 = df['views'].quantile(.75)\n",
    "q1 = df['views'].quantile(.25)\n",
    "\n",
    "# IQR 계산\n",
    "IQR = q3 - q1\n",
    "\n",
    "# 이상치 기준 찾기\n",
    "line1 = q1 - 1.5 * IQR\n",
    "line2 = q3 + 1.5 * IQR\n",
    "\n",
    "# 이상치 조건에 만족하는 데이터 찾기\n",
    "cond1 = df['views'] < line1\n",
    "cond2 = df['views'] > line2\n",
    "df = df[cond1 | cond2]\n",
    "\n",
    "# views 컬럼 합\n",
    "print(int(df['views'].sum()))"
   ]
  },
  {
   "cell_type": "markdown",
   "metadata": {
    "id": "bs-cfwPHM_Oo"
   },
   "source": [
    "### Section17."
   ]
  },
  {
   "cell_type": "code",
   "execution_count": 23,
   "metadata": {
    "colab": {
     "base_uri": "https://localhost:8080/"
    },
    "id": "A2lQ6p8YNB0s",
    "outputId": "ccc8fbbf-ac6b-4750-bed2-a9b80bf1a67b"
   },
   "outputs": [
    {
     "name": "stdout",
     "output_type": "stream",
     "text": [
      "8297.31\n"
     ]
    }
   ],
   "source": [
    "import pandas as pd\n",
    "# df = pd.read_csv(\"type1_data1.csv\")\n",
    "df = pd.read_csv(\"https://raw.githubusercontent.com/lovedlim/bigdata_analyst_cert/main/part1/ch3/type1_data1.csv\")\n",
    "\n",
    "# 표준편차\n",
    "r1 = df['views'].std()\n",
    "\n",
    "# 음수이거나 0 테이터 제외\n",
    "cond = df['age'] <= 0\n",
    "df = df[~cond]\n",
    "\n",
    "# 소수점이 없는 값만 선택\n",
    "cond = df['age'] == round(df['age'],0)\n",
    "df = df[cond]\n",
    "\n",
    "# 표준편차\n",
    "r2 = df['views'].std()\n",
    "\n",
    "print(round(r1 + r2, 2))"
   ]
  },
  {
   "cell_type": "markdown",
   "metadata": {
    "id": "Uvi2VH67Od_9"
   },
   "source": [
    "### Section18."
   ]
  },
  {
   "cell_type": "code",
   "execution_count": 24,
   "metadata": {
    "colab": {
     "base_uri": "https://localhost:8080/"
    },
    "id": "x-3LbkaGQEdp",
    "outputId": "1128ee3a-9c72-4694-85b2-de516f0551dd"
   },
   "outputs": [
    {
     "name": "stdout",
     "output_type": "stream",
     "text": [
      "202\n"
     ]
    }
   ],
   "source": [
    "import pandas as pd\n",
    "# df = pd.read_csv(\"type1_data2.csv\", index_col=\"year\")\n",
    "df = pd.read_csv(\"https://raw.githubusercontent.com/lovedlim/bigdata_analyst_cert/main/part1/ch3/type1_data2.csv\", index_col=\"year\")\n",
    "\n",
    "# 2001, 평균보다 큰값 합계\n",
    "m1 = df.loc[2001].mean()\n",
    "cond1 = df.loc[2001] > m1\n",
    "r1 = sum(cond1)\n",
    "\n",
    "# 2003평균보다 작은값 합계\n",
    "m2 = df.loc[2003].mean()\n",
    "cond2 = df.loc[2003] < m2\n",
    "r2 = sum(cond2)\n",
    "\n",
    "print(r1+r2)"
   ]
  },
  {
   "cell_type": "code",
   "execution_count": 25,
   "metadata": {
    "colab": {
     "base_uri": "https://localhost:8080/"
    },
    "id": "JncpmT-fB347",
    "outputId": "4f793e97-90cb-4cd7-a4e3-ef0173e72352"
   },
   "outputs": [
    {
     "name": "stdout",
     "output_type": "stream",
     "text": [
      "202\n"
     ]
    }
   ],
   "source": [
    "import pandas as pd\n",
    "# df = pd.read_csv(\"type1_data2.csv\", index_col=\"year\")\n",
    "df = pd.read_csv(\"https://raw.githubusercontent.com/lovedlim/bigdata_analyst_cert/main/part1/ch3/type1_data2.csv\", index_col=\"year\")\n",
    "df = df.T # 행과 열 변경\n",
    "\n",
    "# 평균보다 큰값 합계\n",
    "m1 = df[2001].mean()\n",
    "cond1 = df[2001] > m1\n",
    "r1 = sum(cond1)\n",
    "\n",
    "# 평균보다 작은값 합계\n",
    "m2 = df[2003].mean()\n",
    "cond2 = df[2003] < m2\n",
    "r2 = sum(cond2)\n",
    "\n",
    "print(r1+r2)"
   ]
  },
  {
   "cell_type": "markdown",
   "metadata": {
    "id": "zuCLLKHuRF68"
   },
   "source": [
    "### Section19."
   ]
  },
  {
   "cell_type": "code",
   "execution_count": 26,
   "metadata": {
    "colab": {
     "base_uri": "https://localhost:8080/"
    },
    "id": "3nf3FldiRQRi",
    "outputId": "21da25ce-d157-4675-fb7f-979f380b6ed3"
   },
   "outputs": [
    {
     "name": "stdout",
     "output_type": "stream",
     "text": [
      "경기\n"
     ]
    },
    {
     "name": "stderr",
     "output_type": "stream",
     "text": [
      "C:\\Users\\Administrator\\AppData\\Local\\Temp\\ipykernel_29508\\2656217568.py:6: FutureWarning: DataFrame.fillna with 'method' is deprecated and will raise in a future version. Use obj.ffill() or obj.bfill() instead.\n",
      "  df = df.fillna(method='bfill')\n"
     ]
    }
   ],
   "source": [
    "import pandas as pd\n",
    "# df = pd.read_csv(\"type1_data1.csv\")\n",
    "df = pd.read_csv(\"https://raw.githubusercontent.com/lovedlim/bigdata_analyst_cert/main/part1/ch3/type1_data1.csv\")\n",
    "\n",
    "# 결측치 채우기\n",
    "df = df.fillna(method='bfill')\n",
    "\n",
    "# city와 f2기준 그룹합 계산\n",
    "df = df.groupby(['city','f2']).sum(numeric_only=True).reset_index()\n",
    "\n",
    "# 내림차순 정렬\n",
    "df = df.sort_values('views', ascending=False)\n",
    "\n",
    "# 3번째로 큰 값 출력\n",
    "print(df.iloc[2,0])"
   ]
  },
  {
   "cell_type": "markdown",
   "metadata": {
    "id": "4PpSgq4URj1E"
   },
   "source": [
    "### Section20."
   ]
  },
  {
   "cell_type": "code",
   "execution_count": 27,
   "metadata": {
    "colab": {
     "base_uri": "https://localhost:8080/"
    },
    "id": "DfHTMhLdR2G4",
    "outputId": "e39401c8-03fd-4577-f4ef-7fd70057285e"
   },
   "outputs": [
    {
     "name": "stdout",
     "output_type": "stream",
     "text": [
      "11\n"
     ]
    }
   ],
   "source": [
    "import pandas as pd\n",
    "# df = pd.read_csv(\"type1_data1.csv\")\n",
    "df = pd.read_csv(\"https://raw.githubusercontent.com/lovedlim/bigdata_analyst_cert/main/part1/ch3/type1_data1.csv\")\n",
    "\n",
    "# 자료형 변환\n",
    "df['subscribed'] = pd.to_datetime(df['subscribed'])\n",
    "\n",
    "# 파생변수 생성\n",
    "df['month'] = df['subscribed'].dt.month\n",
    "\n",
    "# 월별로 데이터 합 집계\n",
    "df = df.groupby('month').sum(numeric_only=True)\n",
    "\n",
    "# 오름차순 정렬 및 가장 작은값 출력\n",
    "print(df.sort_values('views').index[0])"
   ]
  },
  {
   "cell_type": "markdown",
   "metadata": {
    "id": "_VaGdUm5Jvha"
   },
   "source": [
    "### Section21."
   ]
  },
  {
   "cell_type": "code",
   "execution_count": 28,
   "metadata": {
    "colab": {
     "base_uri": "https://localhost:8080/"
    },
    "id": "Q_inq7MObx64",
    "outputId": "617c0b75-e83a-464f-d0f6-99d436400312"
   },
   "outputs": [
    {
     "name": "stdout",
     "output_type": "stream",
     "text": [
      "311\n"
     ]
    }
   ],
   "source": [
    "import pandas as pd\n",
    "# df = pd.read_csv(\"delivery_time.csv\")\n",
    "df = pd.read_csv(\"https://raw.githubusercontent.com/lovedlim/bigdata_analyst_cert/main/part1/ch3/delivery_time.csv\")\n",
    "\n",
    "# datetime으로 자료형 변경\n",
    "df['실제도착시간'] = pd.to_datetime(df['실제도착시간'])\n",
    "df['예상도착시간'] = pd.to_datetime(df['예상도착시간'])\n",
    "\n",
    "# 지연시간 계산(분)\n",
    "df['지연시간'] = (df['실제도착시간'] - df['예상도착시간']).dt.total_seconds()/60\n",
    "\n",
    "# 조건1 - 예상 도착시간보다 늦게 도착한 건\n",
    "cond1 = df['지연시간'] > 0\n",
    "\n",
    "# 조건2 - 거리가 7 이상인 건\n",
    "cond2 = df['거리'] >= 7\n",
    "\n",
    "# 조건에 맞는 데이터(행) 수 출력\n",
    "print(len(df[cond1 & cond2]))"
   ]
  },
  {
   "cell_type": "markdown",
   "metadata": {
    "id": "1qbnwrbQJz52"
   },
   "source": [
    "### Section22."
   ]
  },
  {
   "cell_type": "code",
   "execution_count": 29,
   "metadata": {
    "colab": {
     "base_uri": "https://localhost:8080/"
    },
    "id": "apFpK_tAJzZ8",
    "outputId": "93872d6d-7d88-454e-8f5b-e4c049866ba3"
   },
   "outputs": [
    {
     "name": "stdout",
     "output_type": "stream",
     "text": [
      "62\n"
     ]
    }
   ],
   "source": [
    "import pandas as pd\n",
    "# df = pd.read_csv(\"delivery_time.csv\")\n",
    "df = pd.read_csv(\"https://raw.githubusercontent.com/lovedlim/bigdata_analyst_cert/main/part1/ch3/delivery_time.csv\")\n",
    "\n",
    "# datetime으로 자료형 변경\n",
    "df['실제도착시간'] = pd.to_datetime(df['실제도착시간'])\n",
    "df['주문시간'] = pd.to_datetime(df['주문시간'])\n",
    "\n",
    "# 실제 도착시간과 주문시간 차이 계산(분)\n",
    "df['diff'] = (df['실제도착시간'] - df['주문시간']).dt.total_seconds()/60\n",
    "\n",
    "# 앱종류별 도착시간과 주문시간 차이의 평균 계산\n",
    "df = df.groupby('앱종류')['diff'].mean()\n",
    "\n",
    "# 가장 작은 시간(분) 반올림 후 출력\n",
    "print(round(df.min()))"
   ]
  },
  {
   "cell_type": "markdown",
   "metadata": {
    "id": "dHGcmLvRJ1fy"
   },
   "source": [
    "### Section23."
   ]
  },
  {
   "cell_type": "code",
   "execution_count": 30,
   "metadata": {
    "colab": {
     "base_uri": "https://localhost:8080/"
    },
    "id": "FuLpNI5yJziX",
    "outputId": "b9b09ea7-4032-498a-a994-b382baf34fab"
   },
   "outputs": [
    {
     "name": "stdout",
     "output_type": "stream",
     "text": [
      "0.56\n"
     ]
    }
   ],
   "source": [
    "import pandas as pd\n",
    "# df = pd.read_csv(\"delivery_time.csv\")\n",
    "df = pd.read_csv(\"https://raw.githubusercontent.com/lovedlim/bigdata_analyst_cert/main/part1/ch3/delivery_time.csv\")\n",
    "\n",
    "# datetime 자료형으로 변경\n",
    "df['실제도착시간'] = pd.to_datetime(df['실제도착시간'])\n",
    "df['예상도착시간'] = pd.to_datetime(df['예상도착시간'])\n",
    "\n",
    "# 지연시간 계산(분)\n",
    "df['지연시간'] = (df['실제도착시간'] - df['예상도착시간']).dt.total_seconds() / 60  # 분 단위로 계산\n",
    "\n",
    "# 실제 도착시간이 예상 도착시간보다 늦은 경우를 체크하는 컬럼 생성\n",
    "df['지연여부'] = df['지연시간'] > 0\n",
    "\n",
    "# 결제 종류별 지연된 주문의 비율 계산\n",
    "result = df.groupby('결제종류')['지연여부'].mean()\n",
    "\n",
    "# 가장 비율이 높은 값\n",
    "print(round(result.max(), 2))"
   ]
  },
  {
   "cell_type": "markdown",
   "metadata": {
    "id": "fy4e8_O271u-"
   },
   "source": [
    "### Section24."
   ]
  },
  {
   "cell_type": "code",
   "execution_count": 31,
   "metadata": {
    "colab": {
     "base_uri": "https://localhost:8080/"
    },
    "id": "61UVl8WsJzks",
    "outputId": "8788c4b9-0831-41a4-a1ed-6a5581f36b27"
   },
   "outputs": [
    {
     "name": "stdout",
     "output_type": "stream",
     "text": [
      "48\n"
     ]
    },
    {
     "name": "stderr",
     "output_type": "stream",
     "text": [
      "C:\\Users\\Administrator\\AppData\\Local\\Temp\\ipykernel_29508\\353110964.py:19: FutureWarning: Series.__getitem__ treating keys as positions is deprecated. In a future version, integer keys will always be treated as labels (consistent with DataFrame behavior). To access a value by position, use `ser.iloc[pos]`\n",
      "  print(payment_method[0])\n"
     ]
    }
   ],
   "source": [
    "import pandas as pd\n",
    "# df = pd.read_csv(\"delivery_time.csv\")\n",
    "df = pd.read_csv(\"https://raw.githubusercontent.com/lovedlim/bigdata_analyst_cert/main/part1/ch3/delivery_time.csv\")\n",
    "df.head()\n",
    "\n",
    "# 사용자별로 주문 거리의 합계와 평균 계산\n",
    "df_distance = df.groupby('user')['거리'].sum()\n",
    "\n",
    "# 주문 거리의 합계가 50km 이상인 사용자만 필터링\n",
    "cond = df_distance >= 50\n",
    "df_distance = df_distance[cond]\n",
    "\n",
    "# 주문 거리의 합계가 50km 이상인 사용자들의 데이터 필터링\n",
    "filtered_data = df[df['user'].isin(df_distance.index)]\n",
    "filtered_data\n",
    "\n",
    "# 해당 사용자들의 선호 결제 방식 중 큰 값\n",
    "payment_method = filtered_data['결제종류'].value_counts()\n",
    "print(payment_method[0])"
   ]
  },
  {
   "cell_type": "markdown",
   "metadata": {
    "id": "-U-07CoFWCUK"
   },
   "source": [
    "### Section25."
   ]
  },
  {
   "cell_type": "code",
   "execution_count": 32,
   "metadata": {
    "colab": {
     "base_uri": "https://localhost:8080/"
    },
    "id": "TIJ4FisqX6K_",
    "outputId": "fddad4c9-2a0d-4606-e149-b03495f54f79"
   },
   "outputs": [
    {
     "name": "stdout",
     "output_type": "stream",
     "text": [
      "146\n"
     ]
    }
   ],
   "source": [
    "import pandas as pd\n",
    "# df = pd.read_csv(\"delivery_time.csv\")\n",
    "df = pd.read_csv(\"https://raw.githubusercontent.com/lovedlim/bigdata_analyst_cert/main/part1/ch3/delivery_time.csv\")\n",
    "\n",
    "# 각 사용자별로 첫 주문과 마지막 주문 사이의 시간 간격(일 단위)을 계산\n",
    "df['주문시간'] = pd.to_datetime(df['주문시간'])\n",
    "min_order_time = df.groupby('user')['주문시간'].min()\n",
    "max_order_time = df.groupby('user')['주문시간'].max()\n",
    "time_interval = (max_order_time - min_order_time).dt.days\n",
    "\n",
    "# 1회 이하 주문 제외\n",
    "cond1 = time_interval>0\n",
    "m = time_interval[cond1].mean()\n",
    "\n",
    "# 평균보다 기간이 긴 유저 수\n",
    "cond2 = time_interval > m\n",
    "print(len(time_interval[cond2]))"
   ]
  },
  {
   "cell_type": "markdown",
   "metadata": {
    "id": "-s8mvo6TvcNR"
   },
   "source": [
    "### Section26."
   ]
  },
  {
   "cell_type": "code",
   "execution_count": 33,
   "metadata": {
    "colab": {
     "base_uri": "https://localhost:8080/"
    },
    "id": "-3nDBTHesH-e",
    "outputId": "c43ebd1f-6a6b-448b-a273-067b5d026d5c"
   },
   "outputs": [
    {
     "name": "stdout",
     "output_type": "stream",
     "text": [
      "0.31\n"
     ]
    }
   ],
   "source": [
    "import pandas as pd\n",
    "# df = pd.read_csv(\"delivery_time.csv\")\n",
    "df = pd.read_csv(\"https://raw.githubusercontent.com/lovedlim/bigdata_analyst_cert/main/part1/ch3/delivery_time.csv\")\n",
    "\n",
    "# 주문이 가장 많이 발생한 연-월 찾기\n",
    "df['주문시간'] = pd.to_datetime(df['주문시간'])\n",
    "df['주문월'] = df['주문시간'].dt.to_period('M')\n",
    "year_month = df['주문월'].value_counts().idxmax()\n",
    "\n",
    "# 해당 연-월에 배고팡 앱을 통한 주문 중, '앱결제'로 결제된 주문의 비율 계산\n",
    "cond1 = df['주문월'] == year_month\n",
    "cond2 = df['앱종류'] == '배고팡'\n",
    "filtered_df = df[cond1 & cond2]\n",
    "cond3 = filtered_df['결제종류'] == '앱결제'\n",
    "result = len(filtered_df[cond3])/len(filtered_df)\n",
    "print(round(result,2))"
   ]
  },
  {
   "cell_type": "markdown",
   "metadata": {
    "id": "CnpKbKtyWC4V"
   },
   "source": [
    "### Section27."
   ]
  },
  {
   "cell_type": "code",
   "execution_count": 34,
   "metadata": {
    "colab": {
     "base_uri": "https://localhost:8080/"
    },
    "id": "RUAg4sT2WFzj",
    "outputId": "94b7c1e3-be85-4d3d-9095-737ff9ab6bf5"
   },
   "outputs": [
    {
     "data": {
      "text/plain": [
       "1"
      ]
     },
     "execution_count": 34,
     "metadata": {},
     "output_type": "execute_result"
    }
   ],
   "source": [
    "import pandas as pd\n",
    "# df = pd.read_csv(\"delivery_time.csv\")\n",
    "df = pd.read_csv(\"https://raw.githubusercontent.com/lovedlim/bigdata_analyst_cert/main/part1/ch3/delivery_time.csv\")\n",
    "\n",
    "# datetime 자료형으로 변경\n",
    "df['주문시간'] = pd.to_datetime(df['주문시간'])\n",
    "df['실제도착시간'] = pd.to_datetime(df['실제도착시간'])\n",
    "\n",
    "# 점심시간 주문 선택\n",
    "df['시간'] = df['주문시간'].dt.hour\n",
    "cond1 = df['시간'] >= 10\n",
    "cond2 = df['시간'] < 13\n",
    "df = df[cond1 & cond2]\n",
    "\n",
    "# 속도(km/h) = 거리(km) / 시간(h)\n",
    "df['배달시간'] = df['실제도착시간'] - df['주문시간']\n",
    "df['배달시간'] = df['배달시간'].dt.total_seconds() / 60 / 60 # 시간 단위로 변경\n",
    "df['속도'] = df['거리'] / df['배달시간']\n",
    "sum(df['속도'] >= 50)"
   ]
  },
  {
   "cell_type": "markdown",
   "metadata": {
    "id": "KrdTvruoWGFP"
   },
   "source": [
    "### Section28."
   ]
  },
  {
   "cell_type": "code",
   "execution_count": 35,
   "metadata": {
    "colab": {
     "base_uri": "https://localhost:8080/"
    },
    "id": "jgHA5q5iWHke",
    "outputId": "82c856b2-f689-40bf-e8d4-f1096afb3c5e"
   },
   "outputs": [
    {
     "name": "stdout",
     "output_type": "stream",
     "text": [
      "202209\n"
     ]
    }
   ],
   "source": [
    "import pandas as pd\n",
    "# df = pd.read_csv(\"delivery_time.csv\")\n",
    "df = pd.read_csv(\"https://raw.githubusercontent.com/lovedlim/bigdata_analyst_cert/main/part1/ch3/delivery_time.csv\")\n",
    "\n",
    "# 주문 연월 추출 (연도-월)\n",
    "df['주문시간'] = pd.to_datetime(df['주문시간'])\n",
    "df['주문월'] = df['주문시간'].dt.to_period('M')\n",
    "\n",
    "# 주문월을 기준으로 빈도 수(주문 횟수) 계산\n",
    "count_month = df.groupby('주문월').size()\n",
    "\n",
    "# 주문 횟수가 가장 많은 월의 인덱스 추출\n",
    "year_month = count_month.idxmax()\n",
    "\n",
    "# 문자열로 변경 및 하이픈(-) 제거\n",
    "year_month = str(year_month)\n",
    "result = year_month.replace(\"-\",\"\")\n",
    "print(result)"
   ]
  },
  {
   "cell_type": "markdown",
   "metadata": {
    "id": "VDcz3cQIWH93"
   },
   "source": [
    "### Section29."
   ]
  },
  {
   "cell_type": "code",
   "execution_count": 36,
   "metadata": {
    "colab": {
     "base_uri": "https://localhost:8080/"
    },
    "id": "OipM5UbYWJG1",
    "outputId": "2ef35bdf-2e5a-42fd-e177-891bb7c1dc81"
   },
   "outputs": [
    {
     "data": {
      "text/plain": [
       "448000"
      ]
     },
     "execution_count": 36,
     "metadata": {},
     "output_type": "execute_result"
    }
   ],
   "source": [
    "import pandas as pd\n",
    "# df = pd.read_csv(\"delivery_time.csv\")\n",
    "df = pd.read_csv(\"https://raw.githubusercontent.com/lovedlim/bigdata_analyst_cert/main/part1/ch3/delivery_time.csv\")\n",
    "\n",
    "# 배달료 계산 함수 정의\n",
    "def delivery_fee(distance):\n",
    "    if distance < 5:\n",
    "        return 2000\n",
    "    elif distance < 10:\n",
    "        return 4000\n",
    "    elif distance < 15:\n",
    "        return 6000\n",
    "    elif distance < 20:\n",
    "        return 8000\n",
    "\n",
    "# 각 주문에 대한 배달료 계산\n",
    "df['배달료'] = df['거리'].apply(delivery_fee)\n",
    "\n",
    "# 월별로 배달료 집계\n",
    "df['주문시간'] = pd.to_datetime(df['주문시간'])\n",
    "period_M = df['주문시간'].dt.to_period(\"M\")\n",
    "monthly = df.groupby(period_M)['배달료'].sum()\n",
    "\n",
    "# 가장 많은 배달료가 발생한 월과 그 월의 총 배달료 찾기\n",
    "max_fee_month = monthly.idxmax()\n",
    "max_fee_value = monthly[max_fee_month]\n",
    "max_fee_value"
   ]
  },
  {
   "cell_type": "markdown",
   "metadata": {
    "id": "1iBC38EkNvlN"
   },
   "source": [
    "### Section30."
   ]
  },
  {
   "cell_type": "code",
   "execution_count": 37,
   "metadata": {
    "colab": {
     "base_uri": "https://localhost:8080/"
    },
    "id": "Rjjl0YFwMIOR",
    "outputId": "5569dbc4-2ef8-429a-beae-281a35d3802f"
   },
   "outputs": [
    {
     "name": "stdout",
     "output_type": "stream",
     "text": [
      "412\n"
     ]
    }
   ],
   "source": [
    "import pandas as pd\n",
    "# df = pd.read_csv(\"delivery_time.csv\")\n",
    "df = pd.read_csv(\"https://raw.githubusercontent.com/lovedlim/bigdata_analyst_cert/main/part1/ch3/delivery_time.csv\")\n",
    "df['주문시간'] = pd.to_datetime(df['주문시간'])\n",
    "\n",
    "# 주말/평일 구분 0:월, 1:화 ~ 5:토, 6:일\n",
    "df['dayofweek'] = df['주문시간'].dt.dayofweek\n",
    "df['주말'] = df['dayofweek'] >= 5\n",
    "\n",
    "# 주말 개수, 평일 개수 계산\n",
    "weekend = sum(df['주말'])\n",
    "weekday = sum(~df['주말'])\n",
    "\n",
    "# 차이 절대값 출력\n",
    "print(abs(weekend - weekday))"
   ]
  },
  {
   "cell_type": "markdown",
   "metadata": {
    "id": "SFA4nMg7WJiE"
   },
   "source": [
    "### Section31."
   ]
  },
  {
   "cell_type": "code",
   "execution_count": 38,
   "metadata": {
    "colab": {
     "base_uri": "https://localhost:8080/"
    },
    "id": "zAi-yt4wWLtj",
    "outputId": "e47fe15c-e04e-4c1a-8940-1bb8f54090f0"
   },
   "outputs": [
    {
     "name": "stdout",
     "output_type": "stream",
     "text": [
      "261387\n"
     ]
    }
   ],
   "source": [
    "import pandas as pd\n",
    "# df = pd.read_csv(\"delivery_time.csv\")\n",
    "df = pd.read_csv(\"https://raw.githubusercontent.com/lovedlim/bigdata_analyst_cert/main/part1/ch3/delivery_time.csv\")\n",
    "\n",
    "# 문자 슬라이싱\n",
    "df['user_int'] = df['user'].str[5:]\n",
    "\n",
    "# 자료형 변환\n",
    "df['user_int'] = df['user_int'].astype(int)\n",
    "\n",
    "# 합계\n",
    "print(df['user_int'].sum())\n"
   ]
  },
  {
   "cell_type": "markdown",
   "metadata": {
    "id": "m2eNPxcHCQMT"
   },
   "source": [
    "### Section32."
   ]
  },
  {
   "cell_type": "code",
   "execution_count": 39,
   "metadata": {
    "colab": {
     "base_uri": "https://localhost:8080/"
    },
    "id": "xNzYeMWP-iW1",
    "outputId": "c81daa09-10ec-43ac-a55a-2d3a703edd88"
   },
   "outputs": [
    {
     "name": "stdout",
     "output_type": "stream",
     "text": [
      "82\n"
     ]
    }
   ],
   "source": [
    "import pandas as pd\n",
    "# df = pd.read_csv(\"school_data.csv\")\n",
    "df = pd.read_csv(\"https://raw.githubusercontent.com/lovedlim/bigdata_analyst_cert/main/part1/ch3/school_data.csv\")\n",
    "\n",
    "# 수학, 영어, 국어 점수 합계\n",
    "df['total_score'] = df[['수학', '영어', '국어']].sum(axis=1)\n",
    "\n",
    "# 합계 점수를 기준으로 상위 10명 선택\n",
    "top10 = df.nlargest(10, 'total_score')\n",
    "\n",
    "# 선택된 10명의 수학 평균 점수 계산\n",
    "result = top10['수학'].mean()\n",
    "print(round(result))"
   ]
  },
  {
   "cell_type": "markdown",
   "metadata": {
    "id": "NvkyoUhwKjpr"
   },
   "source": [
    "### Section33."
   ]
  },
  {
   "cell_type": "code",
   "execution_count": 40,
   "metadata": {
    "colab": {
     "base_uri": "https://localhost:8080/"
    },
    "id": "Nh9lB7yj-iZd",
    "outputId": "8f21db4d-4009-4b43-bbea-5257aa4c60d8"
   },
   "outputs": [
    {
     "name": "stdout",
     "output_type": "stream",
     "text": [
      "420\n"
     ]
    }
   ],
   "source": [
    "import pandas as pd\n",
    "# df = pd.read_csv(\"school_data.csv\")\n",
    "df = pd.read_csv(\"https://raw.githubusercontent.com/lovedlim/bigdata_analyst_cert/main/part1/ch3/school_data.csv\")\n",
    "\n",
    "# 이름을 유지하면서 수학, 영어, 국어 형태 변경\n",
    "melted_df = df.melt(id_vars=['이름'], value_vars=['수학', '영어', '국어'])\n",
    "\n",
    "# 가장 작은 값 25개의 합\n",
    "result = melted_df['value'].nsmallest(25).sum()\n",
    "print(result)"
   ]
  },
  {
   "cell_type": "markdown",
   "metadata": {
    "id": "UJGiDOMHKk3l"
   },
   "source": [
    "### Section34."
   ]
  },
  {
   "cell_type": "code",
   "execution_count": 41,
   "metadata": {
    "colab": {
     "base_uri": "https://localhost:8080/"
    },
    "id": "q3A-C3XmKmL4",
    "outputId": "ec2ebe9d-f96c-42f9-eb63-3a8c6015f60b"
   },
   "outputs": [
    {
     "name": "stdout",
     "output_type": "stream",
     "text": [
      "9\n"
     ]
    }
   ],
   "source": [
    "import pandas as pd\n",
    "# df = pd.read_csv(\"school_data.csv\")\n",
    "df = pd.read_csv(\"https://raw.githubusercontent.com/lovedlim/bigdata_analyst_cert/main/part1/ch3/school_data.csv\")\n",
    "# df_science = pd.read_csv(\"school_data_science.csv\")\n",
    "df_science = pd.read_csv(\"https://raw.githubusercontent.com/lovedlim/bigdata_analyst_cert/main/part1/ch3/school_data_science.csv\")\n",
    "\n",
    "# 두 데이터프레임 합치기(axis=1)\n",
    "df = pd.concat([df, df_science], axis=1)\n",
    "\n",
    "# 수평(열)으로 평균 계산\n",
    "df['수영국과 평균'] = df[['수학', '영어', '국어', '과학']].mean(axis=1)\n",
    "\n",
    "# 수학, 영어, 국어, 과학 평균이 60점 이상\n",
    "result = sum(df['수영국과 평균'] >= 60)\n",
    "print(result)"
   ]
  },
  {
   "cell_type": "markdown",
   "metadata": {
    "id": "ShHG0GgUNmlL"
   },
   "source": [
    "### Section35."
   ]
  },
  {
   "cell_type": "code",
   "execution_count": 42,
   "metadata": {
    "colab": {
     "base_uri": "https://localhost:8080/"
    },
    "id": "osSamxV3Gg5e",
    "outputId": "08d65bad-8d79-4077-a353-db9e45472c7b"
   },
   "outputs": [
    {
     "name": "stdout",
     "output_type": "stream",
     "text": [
      "602\n"
     ]
    }
   ],
   "source": [
    "import pandas as pd\n",
    "# df = pd.read_csv(\"school_data.csv\")\n",
    "df = pd.read_csv(\"https://raw.githubusercontent.com/lovedlim/bigdata_analyst_cert/main/part1/ch3/school_data.csv\")\n",
    "# df_social = pd.read_csv(\"school_data_social.csv\")\n",
    "df_social = pd.read_csv(\"https://raw.githubusercontent.com/lovedlim/bigdata_analyst_cert/main/part1/ch3/school_data_social.csv\")\n",
    "\n",
    "# '이름'을 기준으로 두 데이터프레임 합치기\n",
    "merged_df = pd.merge(df, df_social, on='이름')\n",
    "\n",
    "# 교사 필터링\n",
    "cond1 = merged_df['영어교사'] == '장선생'\n",
    "cond2 = merged_df['사회교사'] == '오선생'\n",
    "\n",
    "# 필터링된 데이터에서 수학점수 합\n",
    "result = merged_df[cond1 & cond2]['수학'].sum()\n",
    "print(result)"
   ]
  }
 ],
 "metadata": {
  "colab": {
   "provenance": [],
   "toc_visible": true
  },
  "kernelspec": {
   "display_name": "Python 3",
   "name": "python3"
  },
  "language_info": {
   "codemirror_mode": {
    "name": "ipython",
    "version": 3
   },
   "file_extension": ".py",
   "mimetype": "text/x-python",
   "name": "python",
   "nbconvert_exporter": "python",
   "pygments_lexer": "ipython3",
   "version": "3.10.14"
  }
 },
 "nbformat": 4,
 "nbformat_minor": 0
}
