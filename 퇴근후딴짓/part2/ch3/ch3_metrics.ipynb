{
 "cells": [
  {
   "cell_type": "markdown",
   "metadata": {
    "id": "zpGaMMdZUki7"
   },
   "source": [
    "[구글 코랩(Colab)에서 실행하기](https://colab.research.google.com/github/lovedlim/bigdata_analyst_cert/blob/main/part2/ch3/ch3_metrics.ipynb)"
   ]
  },
  {
   "cell_type": "markdown",
   "metadata": {
    "id": "xkQxClqpjqya"
   },
   "source": [
    "## 이진분류 평가지표"
   ]
  },
  {
   "cell_type": "code",
   "execution_count": null,
   "metadata": {
    "id": "qVxYWt82irzy"
   },
   "outputs": [],
   "source": [
    "# 이진분류 데이터\n",
    "import pandas as pd\n",
    "y_true = pd.DataFrame([1, 1, 1, 0, 0, 1, 1, 1, 1, 0]) #실제값\n",
    "y_pred = pd.DataFrame([1, 0, 1, 1, 0, 0, 0, 1, 1, 0]) #예측값\n",
    "\n",
    "y_true_str = pd.DataFrame(['A', 'A', 'A', 'B', 'B', 'A', 'A', 'A', 'A', 'B']) #실제값\n",
    "y_pred_str = pd.DataFrame(['A', 'B', 'A', 'A', 'B', 'B', 'B', 'A', 'A', 'B']) #예측값"
   ]
  },
  {
   "cell_type": "code",
   "execution_count": null,
   "metadata": {
    "colab": {
     "base_uri": "https://localhost:8080/"
    },
    "executionInfo": {
     "elapsed": 496,
     "status": "ok",
     "timestamp": 1711787831407,
     "user": {
      "displayName": "Tae Heon Kim",
      "userId": "07653788752262629837"
     },
     "user_tz": -540
    },
    "id": "pvCf5mUdihRO",
    "outputId": "840ef927-4cdc-4ef0-c5e6-11b35fef5703"
   },
   "outputs": [
    {
     "name": "stdout",
     "output_type": "stream",
     "text": [
      "정확도: 0.6\n",
      "정확도: 0.6\n"
     ]
    }
   ],
   "source": [
    "# 정확도(Accuracy)\n",
    "from sklearn.metrics import accuracy_score\n",
    "accuracy = accuracy_score(y_true, y_pred)\n",
    "print(\"정확도:\", accuracy)\n",
    "\n",
    "accuracy = accuracy_score(y_true_str, y_pred_str)\n",
    "print(\"정확도:\", accuracy)"
   ]
  },
  {
   "cell_type": "code",
   "execution_count": null,
   "metadata": {
    "colab": {
     "base_uri": "https://localhost:8080/"
    },
    "executionInfo": {
     "elapsed": 4,
     "status": "ok",
     "timestamp": 1711787831407,
     "user": {
      "displayName": "Tae Heon Kim",
      "userId": "07653788752262629837"
     },
     "user_tz": -540
    },
    "id": "kYd9ae01jPb4",
    "outputId": "c4d8207b-c032-419a-b290-4f8a2a07c583"
   },
   "outputs": [
    {
     "name": "stdout",
     "output_type": "stream",
     "text": [
      "정밀도: 0.8\n",
      "정밀도: 0.8\n"
     ]
    }
   ],
   "source": [
    "# 정밀도(Precision)\n",
    "from sklearn.metrics import precision_score\n",
    "precision = precision_score(y_true, y_pred)\n",
    "print(\"정밀도:\", precision)\n",
    "\n",
    "precision = precision_score(y_true_str, y_pred_str, pos_label='A')\n",
    "print(\"정밀도:\", precision)"
   ]
  },
  {
   "cell_type": "code",
   "execution_count": null,
   "metadata": {
    "colab": {
     "base_uri": "https://localhost:8080/"
    },
    "executionInfo": {
     "elapsed": 305,
     "status": "ok",
     "timestamp": 1711787831709,
     "user": {
      "displayName": "Tae Heon Kim",
      "userId": "07653788752262629837"
     },
     "user_tz": -540
    },
    "id": "_m3LRdF7jPgD",
    "outputId": "d36cafd1-7e82-411d-d9df-e120360da41b"
   },
   "outputs": [
    {
     "name": "stdout",
     "output_type": "stream",
     "text": [
      "재현율: 0.5714285714285714\n",
      "재현율: 0.5714285714285714\n"
     ]
    }
   ],
   "source": [
    "# 재현율(Recall)\n",
    "from sklearn.metrics import recall_score\n",
    "recall = recall_score(y_true, y_pred)\n",
    "print(\"재현율:\", recall)\n",
    "\n",
    "recall = recall_score(y_true_str, y_pred_str, pos_label='A')\n",
    "print(\"재현율:\", recall)"
   ]
  },
  {
   "cell_type": "code",
   "execution_count": null,
   "metadata": {
    "colab": {
     "base_uri": "https://localhost:8080/"
    },
    "executionInfo": {
     "elapsed": 377,
     "status": "ok",
     "timestamp": 1711787832084,
     "user": {
      "displayName": "Tae Heon Kim",
      "userId": "07653788752262629837"
     },
     "user_tz": -540
    },
    "id": "nhbdwRnWjPil",
    "outputId": "366c1a7f-28cb-4788-e731-d077c73faaa4"
   },
   "outputs": [
    {
     "name": "stdout",
     "output_type": "stream",
     "text": [
      "F1 스코어: 0.6666666666666666\n",
      "F1 스코어: 0.6666666666666666\n"
     ]
    }
   ],
   "source": [
    "# F1 스코어(F1 Score)\n",
    "from sklearn.metrics import f1_score\n",
    "f1 = f1_score(y_true, y_pred)\n",
    "print(\"F1 스코어:\", f1)\n",
    "\n",
    "f1 = f1_score(y_true_str, y_pred_str, pos_label='A')\n",
    "print(\"F1 스코어:\", f1)"
   ]
  },
  {
   "cell_type": "code",
   "execution_count": null,
   "metadata": {
    "colab": {
     "base_uri": "https://localhost:8080/"
    },
    "executionInfo": {
     "elapsed": 5,
     "status": "ok",
     "timestamp": 1711787832084,
     "user": {
      "displayName": "Tae Heon Kim",
      "userId": "07653788752262629837"
     },
     "user_tz": -540
    },
    "id": "A8ymIAM3jPk-",
    "outputId": "3f23d2cf-832c-4094-c51e-7ee94abc917c"
   },
   "outputs": [
    {
     "name": "stdout",
     "output_type": "stream",
     "text": [
      "ROC-AUC: 0.86\n"
     ]
    }
   ],
   "source": [
    "# ROC-AUC\n",
    "from sklearn.metrics import roc_auc_score\n",
    "# 실제값 (0: 음성, 1: 양성)\n",
    "y_true = pd.DataFrame([0, 1, 0, 1, 1, 0, 0, 0, 1, 1])\n",
    "# 예측값 중 양성(1) 확률\n",
    "y_pred_proba = pd.DataFrame([0.4, 0.9, 0.1, 0.3, 0.8, 0.6, 0.4, 0.2, 0.7, 0.6])\n",
    "\n",
    "roc_auc = roc_auc_score(y_true, y_pred_proba)\n",
    "print(\"ROC-AUC:\", roc_auc)"
   ]
  },
  {
   "cell_type": "code",
   "execution_count": null,
   "metadata": {
    "colab": {
     "base_uri": "https://localhost:8080/"
    },
    "executionInfo": {
     "elapsed": 274,
     "status": "ok",
     "timestamp": 1711787905418,
     "user": {
      "displayName": "Tae Heon Kim",
      "userId": "07653788752262629837"
     },
     "user_tz": -540
    },
    "id": "kDHt8BmA82ml",
    "outputId": "ac1ed1b7-2eba-4738-8b79-ae73274cbe97"
   },
   "outputs": [
    {
     "name": "stdout",
     "output_type": "stream",
     "text": [
      "ROC-AUC: 0.86\n"
     ]
    }
   ],
   "source": [
    "# 실제값\n",
    "y_true_str = pd.DataFrame(['A', 'B', 'A', 'B', 'B', 'A', 'A', 'A', 'B', 'B'])\n",
    "\n",
    "# 예측값 중 B 확률\n",
    "y_pred_proba_str = pd.DataFrame([0.4, 0.9, 0.1, 0.3, 0.8, 0.6, 0.4, 0.2, 0.7, 0.6])\n",
    "roc_auc = roc_auc_score(y_true_str, y_pred_proba_str)\n",
    "\n",
    "print(\"ROC-AUC:\", roc_auc)"
   ]
  },
  {
   "cell_type": "code",
   "execution_count": null,
   "metadata": {
    "colab": {
     "base_uri": "https://localhost:8080/"
    },
    "executionInfo": {
     "elapsed": 4,
     "status": "ok",
     "timestamp": 1711787947340,
     "user": {
      "displayName": "Tae Heon Kim",
      "userId": "07653788752262629837"
     },
     "user_tz": -540
    },
    "id": "EGq3WO9rgRGB",
    "outputId": "4b5bcb0e-bc33-4f98-8c79-89c88f300441"
   },
   "outputs": [
    {
     "name": "stdout",
     "output_type": "stream",
     "text": [
      "ROC-AUC: 0.86\n"
     ]
    }
   ],
   "source": [
    "# 참고 (실제값을 0과 1로 변경)\n",
    "from sklearn.metrics import roc_auc_score\n",
    "\n",
    "y_true_str = pd.DataFrame(['A', 'B', 'A', 'B', 'B', 'A', 'A', 'A', 'B', 'B'])\n",
    "y_pred_proba_str = pd.DataFrame([0.4, 0.9, 0.1, 0.3, 0.8, 0.6, 0.4, 0.2, 0.7, 0.6])\n",
    "\n",
    "# 'A'를 0, 'B'를 1으로 변환\n",
    "y_true_binary = (y_true_str == 'B').astype(int)\n",
    "\n",
    "roc_auc = roc_auc_score(y_true_binary, y_pred_proba)\n",
    "print(\"ROC-AUC:\", roc_auc)"
   ]
  },
  {
   "cell_type": "markdown",
   "metadata": {
    "id": "CCrgqDtQlWLe"
   },
   "source": [
    "## 다중분류 평가지표"
   ]
  },
  {
   "cell_type": "code",
   "execution_count": null,
   "metadata": {
    "id": "CQhA_jUQjHxW"
   },
   "outputs": [],
   "source": [
    "# 다중분류 데이터\n",
    "y_true = pd.DataFrame([1, 2, 3, 3, 2, 1, 3, 3, 2, 1]) # 실제값\n",
    "y_pred = pd.DataFrame([1, 2, 1, 3, 2, 1, 1, 2, 2, 1]) # 예측값\n",
    "\n",
    "y_true_str = pd.DataFrame(['A', 'B', 'C', 'C', 'B', 'A', 'C', 'C', 'B', 'A']) # 실제값\n",
    "y_pred_str = pd.DataFrame(['A', 'B', 'A', 'C', 'B', 'A', 'A', 'B', 'B', 'A']) # 예측값"
   ]
  },
  {
   "cell_type": "code",
   "execution_count": null,
   "metadata": {
    "colab": {
     "base_uri": "https://localhost:8080/"
    },
    "executionInfo": {
     "elapsed": 316,
     "status": "ok",
     "timestamp": 1711787832397,
     "user": {
      "displayName": "Tae Heon Kim",
      "userId": "07653788752262629837"
     },
     "user_tz": -540
    },
    "id": "lQGHo-DdlYIp",
    "outputId": "080ebd81-b958-4584-e85e-73a7c4e30c72"
   },
   "outputs": [
    {
     "name": "stdout",
     "output_type": "stream",
     "text": [
      "정확도: 0.7\n",
      "정확도: 0.7\n"
     ]
    }
   ],
   "source": [
    "# 정확도(Accuracy)\n",
    "from sklearn.metrics import accuracy_score\n",
    "accuracy = accuracy_score(y_true, y_pred)\n",
    "print(\"정확도:\", accuracy)\n",
    "\n",
    "accuracy = accuracy_score(y_true_str, y_pred_str)\n",
    "print(\"정확도:\", accuracy)"
   ]
  },
  {
   "cell_type": "code",
   "execution_count": null,
   "metadata": {
    "colab": {
     "base_uri": "https://localhost:8080/"
    },
    "executionInfo": {
     "elapsed": 314,
     "status": "ok",
     "timestamp": 1711787832709,
     "user": {
      "displayName": "Tae Heon Kim",
      "userId": "07653788752262629837"
     },
     "user_tz": -540
    },
    "id": "4mSLzqU3lzTr",
    "outputId": "c816bb9e-d408-457e-bdeb-fc450ac65730"
   },
   "outputs": [
    {
     "name": "stdout",
     "output_type": "stream",
     "text": [
      "정밀도: 0.7833333333333333\n",
      "정밀도: 0.7833333333333333\n"
     ]
    }
   ],
   "source": [
    "# 정밀도(Precision)\n",
    "from sklearn.metrics import precision_score\n",
    "precision = precision_score(y_true, y_pred, average='macro')  # average= micro, macro, weighted\n",
    "print(\"정밀도:\", precision)\n",
    "\n",
    "precision = precision_score(y_true_str, y_pred_str, average='macro')\n",
    "print(\"정밀도:\", precision)"
   ]
  },
  {
   "cell_type": "code",
   "execution_count": null,
   "metadata": {
    "colab": {
     "base_uri": "https://localhost:8080/"
    },
    "executionInfo": {
     "elapsed": 4,
     "status": "ok",
     "timestamp": 1711787832709,
     "user": {
      "displayName": "Tae Heon Kim",
      "userId": "07653788752262629837"
     },
     "user_tz": -540
    },
    "id": "E_n4u8wUl3nS",
    "outputId": "ea47f782-ef01-4c05-d05e-bf2018516108"
   },
   "outputs": [
    {
     "name": "stdout",
     "output_type": "stream",
     "text": [
      "재현율: 0.75\n",
      "재현율: 0.75\n"
     ]
    }
   ],
   "source": [
    "# 재현율(Recall)\n",
    "from sklearn.metrics import recall_score\n",
    "recall = recall_score(y_true, y_pred, average='macro')  # average= micro, macro, weighted\n",
    "print(\"재현율:\", recall)\n",
    "\n",
    "recall = recall_score(y_true_str, y_pred_str, average='macro')\n",
    "print(\"재현율:\", recall)"
   ]
  },
  {
   "cell_type": "code",
   "execution_count": null,
   "metadata": {
    "colab": {
     "base_uri": "https://localhost:8080/"
    },
    "executionInfo": {
     "elapsed": 322,
     "status": "ok",
     "timestamp": 1711787833028,
     "user": {
      "displayName": "Tae Heon Kim",
      "userId": "07653788752262629837"
     },
     "user_tz": -540
    },
    "id": "fPNIshTOmzhA",
    "outputId": "6eb5b091-836d-430c-fb6b-9464563d3084"
   },
   "outputs": [
    {
     "name": "stdout",
     "output_type": "stream",
     "text": [
      "F1 스코어: 0.669047619047619\n",
      "F1 스코어: 0.669047619047619\n"
     ]
    }
   ],
   "source": [
    "# F1 스코어(F1 Score)\n",
    "from sklearn.metrics import f1_score\n",
    "f1 = f1_score(y_true, y_pred, average='macro')  # average= micro, macro, weighted\n",
    "print(\"F1 스코어:\", f1)\n",
    "\n",
    "f1 = f1_score(y_true_str, y_pred_str, average='macro')\n",
    "print(\"F1 스코어:\", f1)"
   ]
  },
  {
   "cell_type": "markdown",
   "metadata": {
    "id": "CPpvxE1gox0C"
   },
   "source": [
    "## 회귀 평가지표"
   ]
  },
  {
   "cell_type": "code",
   "execution_count": null,
   "metadata": {
    "id": "gxaFPg9urVDH"
   },
   "outputs": [],
   "source": [
    "# 회귀 데이터\n",
    "import pandas as pd\n",
    "y_true = pd.DataFrame([1, 2, 5, 2, 4, 4, 7, 9]) # 실제값\n",
    "y_pred = pd.DataFrame([1.14, 2.53, 4.87, 3.08, 4.21, 5.53, 7.51, 10.32]) # 예측값"
   ]
  },
  {
   "cell_type": "code",
   "execution_count": null,
   "metadata": {
    "colab": {
     "base_uri": "https://localhost:8080/"
    },
    "executionInfo": {
     "elapsed": 8,
     "status": "ok",
     "timestamp": 1711787833028,
     "user": {
      "displayName": "Tae Heon Kim",
      "userId": "07653788752262629837"
     },
     "user_tz": -540
    },
    "id": "JkPY1sH_ofQc",
    "outputId": "c71cb29e-e6d4-4240-bf3e-abd9cb7aa6d1"
   },
   "outputs": [
    {
     "name": "stdout",
     "output_type": "stream",
     "text": [
      "MSE: 0.7339125000000001\n"
     ]
    }
   ],
   "source": [
    "# MSE(Mean Squared Error)\n",
    "from sklearn.metrics import mean_squared_error\n",
    "mse = mean_squared_error(y_true, y_pred)\n",
    "print(\"MSE:\", mse)"
   ]
  },
  {
   "cell_type": "code",
   "execution_count": null,
   "metadata": {
    "colab": {
     "base_uri": "https://localhost:8080/"
    },
    "executionInfo": {
     "elapsed": 6,
     "status": "ok",
     "timestamp": 1711787833028,
     "user": {
      "displayName": "Tae Heon Kim",
      "userId": "07653788752262629837"
     },
     "user_tz": -540
    },
    "id": "foCZLZSso-Sg",
    "outputId": "f7492a39-e940-4b34-a869-a40ecd1a78db"
   },
   "outputs": [
    {
     "name": "stdout",
     "output_type": "stream",
     "text": [
      "MAE: 0.68125\n"
     ]
    }
   ],
   "source": [
    "# MAE(Mean Absolute Error)\n",
    "from sklearn.metrics import mean_absolute_error\n",
    "mae = mean_absolute_error(y_true, y_pred)\n",
    "print(\"MAE:\", mae)"
   ]
  },
  {
   "cell_type": "code",
   "execution_count": null,
   "metadata": {
    "colab": {
     "base_uri": "https://localhost:8080/"
    },
    "executionInfo": {
     "elapsed": 349,
     "status": "ok",
     "timestamp": 1711787833372,
     "user": {
      "displayName": "Tae Heon Kim",
      "userId": "07653788752262629837"
     },
     "user_tz": -540
    },
    "id": "pijoRvYdo-aD",
    "outputId": "f9172311-68a4-49ee-e5af-8ca8f04b7f88"
   },
   "outputs": [
    {
     "name": "stdout",
     "output_type": "stream",
     "text": [
      "결정 계수: 0.8859941747572815\n"
     ]
    }
   ],
   "source": [
    "# 결정 계수(R-squared)\n",
    "from sklearn.metrics import r2_score\n",
    "r2 = r2_score(y_true, y_pred)\n",
    "print(\"결정 계수:\", r2)"
   ]
  },
  {
   "cell_type": "code",
   "execution_count": null,
   "metadata": {
    "colab": {
     "base_uri": "https://localhost:8080/"
    },
    "executionInfo": {
     "elapsed": 10,
     "status": "ok",
     "timestamp": 1711787833372,
     "user": {
      "displayName": "Tae Heon Kim",
      "userId": "07653788752262629837"
     },
     "user_tz": -540
    },
    "id": "0tsm8n_5o-hT",
    "outputId": "dcc7eec9-af0c-4196-9d5b-2ed4634046af"
   },
   "outputs": [
    {
     "name": "stdout",
     "output_type": "stream",
     "text": [
      "RMSE: 0.8566869323154171\n"
     ]
    }
   ],
   "source": [
    "# RMSE(Root Mean Squared Error)\n",
    "from sklearn.metrics import mean_squared_error\n",
    "mse = mean_squared_error(y_true, y_pred)\n",
    "rmse = mse ** 0.5\n",
    "print(\"RMSE:\", rmse)"
   ]
  },
  {
   "cell_type": "code",
   "execution_count": null,
   "metadata": {
    "colab": {
     "base_uri": "https://localhost:8080/"
    },
    "executionInfo": {
     "elapsed": 9,
     "status": "ok",
     "timestamp": 1711787833372,
     "user": {
      "displayName": "Tae Heon Kim",
      "userId": "07653788752262629837"
     },
     "user_tz": -540
    },
    "id": "RHG3TIHqq1M0",
    "outputId": "e76deb4f-0b93-448f-8f8a-9f29330dab89"
   },
   "outputs": [
    {
     "name": "stdout",
     "output_type": "stream",
     "text": [
      "MSLE: 0.027278486182156975\n"
     ]
    }
   ],
   "source": [
    "# MSLE(Mean Squared Log Error)\n",
    "from sklearn.metrics import mean_squared_log_error\n",
    "msle = mean_squared_log_error(y_true, y_pred)\n",
    "print(\"MSLE:\", msle)"
   ]
  },
  {
   "cell_type": "code",
   "execution_count": null,
   "metadata": {
    "colab": {
     "base_uri": "https://localhost:8080/"
    },
    "executionInfo": {
     "elapsed": 8,
     "status": "ok",
     "timestamp": 1711787833372,
     "user": {
      "displayName": "Tae Heon Kim",
      "userId": "07653788752262629837"
     },
     "user_tz": -540
    },
    "id": "wsAnyeb1qGyt",
    "outputId": "a5bab992-0e65-4a2f-a405-f522f4042a09"
   },
   "outputs": [
    {
     "name": "stdout",
     "output_type": "stream",
     "text": [
      "RMSLE: 0.1651619998127807\n"
     ]
    }
   ],
   "source": [
    "# RMSLE(Root Mean Squared Log Error)\n",
    "from sklearn.metrics import mean_squared_log_error\n",
    "rmsle = mean_squared_log_error(y_true, y_pred) ** 0.5\n",
    "print(\"RMSLE:\", rmsle)"
   ]
  },
  {
   "cell_type": "code",
   "execution_count": null,
   "metadata": {
    "colab": {
     "base_uri": "https://localhost:8080/"
    },
    "executionInfo": {
     "elapsed": 9,
     "status": "ok",
     "timestamp": 1711787833705,
     "user": {
      "displayName": "Tae Heon Kim",
      "userId": "07653788752262629837"
     },
     "user_tz": -540
    },
    "id": "cZVmLXZJ_pxE",
    "outputId": "20a3d800-3cb7-4410-eda2-3d0c6fefb827"
   },
   "outputs": [
    {
     "name": "stdout",
     "output_type": "stream",
     "text": [
      "MAPE: 0    20.319048\n",
      "dtype: float64\n"
     ]
    }
   ],
   "source": [
    "# MAPE(Mean Absolute Percentage Error)\n",
    "mape = (abs((y_true - y_pred) / y_true)).mean() * 100\n",
    "print(\"MAPE:\", mape)"
   ]
  },
  {
   "cell_type": "code",
   "execution_count": null,
   "metadata": {
    "colab": {
     "base_uri": "https://localhost:8080/"
    },
    "executionInfo": {
     "elapsed": 7,
     "status": "ok",
     "timestamp": 1711787833705,
     "user": {
      "displayName": "Tae Heon Kim",
      "userId": "07653788752262629837"
     },
     "user_tz": -540
    },
    "id": "i9gT--uOCW-b",
    "outputId": "1dfc4141-2fe8-4f2a-f528-3a937db8ad0a"
   },
   "outputs": [
    {
     "name": "stdout",
     "output_type": "stream",
     "text": [
      "MAPE: 0    20.319048\n",
      "dtype: float64\n"
     ]
    }
   ],
   "source": [
    "epsilon = 1e-10\n",
    "mape = (abs((y_true - y_pred) / (y_true + epsilon))).mean() * 100\n",
    "print(\"MAPE:\", mape)"
   ]
  },
  {
   "cell_type": "code",
   "execution_count": null,
   "metadata": {
    "id": "RGg7hqRkCZJb"
   },
   "outputs": [],
   "source": []
  }
 ],
 "metadata": {
  "colab": {
   "authorship_tag": "ABX9TyMCK1VEa3NmQxvmuxyJe94e",
   "provenance": []
  },
  "kernelspec": {
   "display_name": "Python 3",
   "name": "python3"
  },
  "language_info": {
   "name": "python"
  }
 },
 "nbformat": 4,
 "nbformat_minor": 0
}
