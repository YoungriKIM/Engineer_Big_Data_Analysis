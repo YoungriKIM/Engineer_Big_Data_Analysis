{
  "nbformat": 4,
  "nbformat_minor": 0,
  "metadata": {
    "colab": {
      "provenance": []
    },
    "kernelspec": {
      "name": "python3",
      "display_name": "Python 3"
    },
    "language_info": {
      "name": "python"
    }
  },
  "cells": [
    {
      "cell_type": "markdown",
      "source": [
        "[구글 코랩(Colab)에서 실행하기](https://colab.research.google.com/github/lovedlim/bigdata_analyst_cert/blob/main/part2/ch7/ch7_ex_multi_class_classification.ipynb)"
      ],
      "metadata": {
        "id": "nMcXfkQuZwYh"
      }
    },
    {
      "cell_type": "markdown",
      "source": [
        "# Section1"
      ],
      "metadata": {
        "id": "BOP3Swas4qUL"
      }
    },
    {
      "cell_type": "markdown",
      "source": [
        "### 베이스라인"
      ],
      "metadata": {
        "id": "ZOPeO0C-4yPQ"
      }
    },
    {
      "cell_type": "code",
      "execution_count": 11,
      "metadata": {
        "colab": {
          "base_uri": "https://localhost:8080/"
        },
        "id": "wZqMv2Yl4amh",
        "outputId": "4a1b8b14-d738-41e1-c5b8-ef83c2bcf65f"
      },
      "outputs": [
        {
          "output_type": "stream",
          "name": "stdout",
          "text": [
            "===== 데이터 크기 =====\n",
            "Train Shape: (4198, 21)\n",
            "Test Shape: (1499, 20)\n",
            "\n",
            "\n",
            "===== 데이터 정보(자료형) =====\n",
            "<class 'pandas.core.frame.DataFrame'>\n",
            "RangeIndex: 4198 entries, 0 to 4197\n",
            "Data columns (total 21 columns):\n",
            " #   Column                    Non-Null Count  Dtype  \n",
            "---  ------                    --------------  -----  \n",
            " 0   Delay_from_due_date       4198 non-null   float64\n",
            " 1   Num_of_Delayed_Payment    4198 non-null   float64\n",
            " 2   Num_Credit_Inquiries      4198 non-null   float64\n",
            " 3   Credit_Utilization_Ratio  4198 non-null   float64\n",
            " 4   Credit_History_Age        4198 non-null   float64\n",
            " 5   Payment_of_Min_Amount     4198 non-null   object \n",
            " 6   Amount_invested_monthly   4198 non-null   float64\n",
            " 7   Monthly_Balance           4198 non-null   float64\n",
            " 8   Credit_Mix                4198 non-null   object \n",
            " 9   Payment_Behaviour         4198 non-null   object \n",
            " 10  Age                       4198 non-null   float64\n",
            " 11  Annual_Income             4198 non-null   float64\n",
            " 12  Num_Bank_Accounts         4198 non-null   float64\n",
            " 13  Num_Credit_Card           4198 non-null   float64\n",
            " 14  Interest_Rate             4198 non-null   float64\n",
            " 15  Num_of_Loan               4198 non-null   float64\n",
            " 16  Monthly_Inhand_Salary     4198 non-null   float64\n",
            " 17  Changed_Credit_Limit      4198 non-null   float64\n",
            " 18  Outstanding_Debt          4198 non-null   float64\n",
            " 19  Total_EMI_per_month       4198 non-null   float64\n",
            " 20  Credit_Score              4198 non-null   object \n",
            "dtypes: float64(17), object(4)\n",
            "memory usage: 688.9+ KB\n",
            "None\n",
            "\n",
            "\n",
            "===== train 결측치 수 =====\n",
            "0\n",
            "\n",
            "\n",
            "===== test 결측치 수 =====\n",
            "0\n",
            "\n",
            "\n",
            "===== target 빈도 =====\n",
            "Credit_Score\n",
            "Standard    2225\n",
            "Poor        1232\n",
            "Good         741\n",
            "Name: count, dtype: int64\n"
          ]
        }
      ],
      "source": [
        "# 1. 문제정의\n",
        "# 평가: f1 macro\n",
        "# target: Credit_Score\n",
        "# 최종파일: result.csv(컬럼 1개 pred)\n",
        "\n",
        "# 2. 라이브러리 및 데이터 불러오기\n",
        "import pandas as pd\n",
        "\n",
        "# train = pd.read_csv(\"score_train.csv\")\n",
        "# test = pd.read_csv(\"score_test.csv\")\n",
        "train = pd.read_csv(\"https://raw.githubusercontent.com/lovedlim/bigdata_analyst_cert/main/part2/ch7/score_train.csv\")\n",
        "test = pd.read_csv(\"https://raw.githubusercontent.com/lovedlim/bigdata_analyst_cert/main/part2/ch7/score_test.csv\")\n",
        "\n",
        "# 3. 탐색적 데이터 분석(EDA)\n",
        "print(\"===== 데이터 크기 =====\")\n",
        "print(\"Train Shape:\", train.shape)\n",
        "print(\"Test Shape:\", test.shape)\n",
        "print(\"\\n\") # 줄 바꿈\n",
        "\n",
        "print(\"===== 데이터 정보(자료형) =====\")\n",
        "print(train.info())\n",
        "print(\"\\n\")\n",
        "\n",
        "print(\"===== train 결측치 수 =====\")\n",
        "print(train.isnull().sum().sum())\n",
        "print(\"\\n\")\n",
        "\n",
        "print(\"===== test 결측치 수 =====\")\n",
        "print(test.isnull().sum().sum())\n",
        "print(\"\\n\")\n",
        "\n",
        "print(\"===== target 빈도 =====\")\n",
        "print(train['Credit_Score'].value_counts())"
      ]
    },
    {
      "cell_type": "code",
      "source": [
        "# 4. 데이터 전처리\n",
        "# 원핫인코딩 (target컬럼이 object형이라 제외)\n",
        "target = train.pop('Credit_Score')\n",
        "\n",
        "train = pd.get_dummies(train)\n",
        "test = pd.get_dummies(test)\n",
        "\n",
        "# 5. 검증 데이터 분할\n",
        "from sklearn.model_selection import train_test_split\n",
        "X_tr, X_val, y_tr, y_val = train_test_split(train, target, test_size=0.2, random_state=0)\n",
        "\n",
        "print(\"\\n ===== 분할된 데이터 크기 =====\")\n",
        "print(X_tr.shape, X_val.shape, y_tr.shape, y_val.shape)\n",
        "\n",
        "# 6. 머신러닝 학습 및 평가\n",
        "from sklearn.ensemble import RandomForestClassifier\n",
        "rf = RandomForestClassifier(random_state=0)\n",
        "rf.fit(X_tr, y_tr)\n",
        "pred = rf.predict(X_val)\n",
        "\n",
        "from sklearn.metrics import f1_score\n",
        "f1 = f1_score(y_val, pred, average='macro')\n",
        "print('\\n f1-macro:', f1)\n",
        "\n",
        "# 7. 예측 및 결과 파일 생성\n",
        "pred = rf.predict(test)\n",
        "submit = pd.DataFrame({'pred':pred})\n",
        "submit.to_csv(\"result.csv\", index=False)\n",
        "\n",
        "# 제출파일 확인\n",
        "print(\"\\n ===== 제출파일 (샘플 5개) =====\")\n",
        "print(pd.read_csv(\"result.csv\").head())"
      ],
      "metadata": {
        "colab": {
          "base_uri": "https://localhost:8080/"
        },
        "id": "Qger82hPAVc-",
        "outputId": "433c0cde-5236-4c2f-d69a-d86c257aa918"
      },
      "execution_count": 12,
      "outputs": [
        {
          "output_type": "stream",
          "name": "stdout",
          "text": [
            "\n",
            " ===== 분할된 데이터 크기 =====\n",
            "(3358, 29) (840, 29) (3358,) (840,)\n",
            "\n",
            " f1-macro: 0.7004593488873695\n",
            "\n",
            " ===== 제출파일 (샘플 5개) =====\n",
            "       pred\n",
            "0      Poor\n",
            "1      Good\n",
            "2  Standard\n",
            "3      Good\n",
            "4  Standard\n"
          ]
        }
      ]
    },
    {
      "cell_type": "markdown",
      "source": [
        "### 성능개선"
      ],
      "metadata": {
        "id": "Sngv2-3geOyp"
      }
    },
    {
      "cell_type": "code",
      "source": [
        "# 2. 라이브러리 및 데이터 불러오기\n",
        "import pandas as pd\n",
        "\n",
        "# train = pd.read_csv(\"score_train.csv\")\n",
        "# test = pd.read_csv(\"score_test.csv\")\n",
        "train = pd.read_csv(\"https://raw.githubusercontent.com/lovedlim/bigdata_analyst_cert/main/part2/ch7/score_train.csv\")\n",
        "test = pd.read_csv(\"https://raw.githubusercontent.com/lovedlim/bigdata_analyst_cert/main/part2/ch7/score_test.csv\")\n",
        "\n",
        "# 4. 데이터 전처리\n",
        "target = train.pop('Credit_Score')\n",
        "\n",
        "# 스케일링\n",
        "from sklearn.preprocessing import StandardScaler\n",
        "scaler = StandardScaler()\n",
        "cols = train.select_dtypes(include=['int', 'float']).columns\n",
        "train[cols] = scaler.fit_transform(train[cols])\n",
        "test[cols] = scaler.transform(test[cols])\n",
        "\n",
        "# 원핫인코딩\n",
        "train = pd.get_dummies(train)\n",
        "test = pd.get_dummies(test)\n",
        "\n",
        "# 레이블 인코딩\n",
        "# target = train.pop('Credit_Score')\n",
        "# from sklearn.preprocessing import LabelEncoder\n",
        "# cols = train.select_dtypes(include='object').columns\n",
        "# for col in cols:\n",
        "#     le = LabelEncoder()\n",
        "#     train[col] = le.fit_transform(train[col])\n",
        "#     test[col] = le.transform(test[col])\n",
        "\n",
        "# 5. 검증 데이터 분할\n",
        "from sklearn.model_selection import train_test_split\n",
        "X_tr, X_val, y_tr, y_val = train_test_split(train, target, test_size=0.2, random_state=0)\n",
        "\n",
        "# 6. 머신러닝 학습 및 평가\n",
        "from sklearn.ensemble import RandomForestClassifier\n",
        "rf = RandomForestClassifier(random_state=0)\n",
        "rf.fit(X_tr, y_tr)\n",
        "pred = rf.predict(X_val)\n",
        "\n",
        "from sklearn.metrics import f1_score\n",
        "f1 = f1_score(y_val, pred, average='macro')\n",
        "print('\\n f1-macro:', f1)\n",
        "\n",
        "# 7. 예측 및 결과 파일 생성\n",
        "pred = rf.predict(test)\n",
        "submit = pd.DataFrame({'pred':pred})\n",
        "submit.to_csv(\"result.csv\", index=False)"
      ],
      "metadata": {
        "colab": {
          "base_uri": "https://localhost:8080/"
        },
        "id": "55lTP7zWfpr5",
        "outputId": "d6d1293f-1256-4a94-b610-63e69ed21ae8"
      },
      "execution_count": 13,
      "outputs": [
        {
          "output_type": "stream",
          "name": "stdout",
          "text": [
            "\n",
            " f1-macro: 0.7020460066061173\n"
          ]
        }
      ]
    },
    {
      "cell_type": "code",
      "source": [],
      "metadata": {
        "id": "FDpJCrbgSWrp"
      },
      "execution_count": 13,
      "outputs": []
    },
    {
      "cell_type": "markdown",
      "source": [
        "# Section2"
      ],
      "metadata": {
        "id": "kZytIUxx6ovr"
      }
    },
    {
      "cell_type": "markdown",
      "source": [
        "### 베이스라인"
      ],
      "metadata": {
        "id": "jKRElbx16q-B"
      }
    },
    {
      "cell_type": "code",
      "source": [
        "# 1. 문제정의\n",
        "# 평가: f1-macro\n",
        "# target: Drug\n",
        "# 최종파일: result.csv(컬럼 1개 pred, 1확률값)\n",
        "\n",
        "# 2. 라이브러리 및 데이터 불러오기\n",
        "import pandas as pd\n",
        "# train = pd.read_csv(\"drug_train.csv\")\n",
        "# test = pd.read_csv(\"drug_test.csv\")\n",
        "train = pd.read_csv(\"https://raw.githubusercontent.com/lovedlim/bigdata_analyst_cert/main/part2/ch7/drug_train.csv\")\n",
        "test = pd.read_csv(\"https://raw.githubusercontent.com/lovedlim/bigdata_analyst_cert/main/part2/ch7/drug_test.csv\")\n",
        "\n",
        "# 3. 탐색적 데이터 분석(EDA)\n",
        "print(\"===== 데이터 정보(자료형) =====\")\n",
        "print(train.info())\n",
        "\n",
        "print(\"\\n ===== train 결측치 수 =====\")\n",
        "print(train.isnull().sum().sum())\n",
        "\n",
        "print(\"\\n ===== test 결측치 수 =====\")\n",
        "print(test.isnull().sum().sum())\n",
        "\n",
        "print(\"\\n ===== train/test 카테고리별 수 =====\")\n",
        "print(train[['Sex', 'BP', 'Cholesterol']].nunique())\n",
        "print(test[['Sex', 'BP', 'Cholesterol']].nunique())\n",
        "\n",
        "print(\"\\n ===== target 빈도 =====\")\n",
        "print(train['Drug'].value_counts())"
      ],
      "metadata": {
        "colab": {
          "base_uri": "https://localhost:8080/"
        },
        "id": "DRxO5M064p6i",
        "outputId": "ca58273c-e07d-4573-84ad-f412a01f03c6"
      },
      "execution_count": 14,
      "outputs": [
        {
          "output_type": "stream",
          "name": "stdout",
          "text": [
            "===== 데이터 정보(자료형) =====\n",
            "<class 'pandas.core.frame.DataFrame'>\n",
            "RangeIndex: 100 entries, 0 to 99\n",
            "Data columns (total 6 columns):\n",
            " #   Column       Non-Null Count  Dtype  \n",
            "---  ------       --------------  -----  \n",
            " 0   Age          100 non-null    int64  \n",
            " 1   Sex          100 non-null    object \n",
            " 2   BP           100 non-null    object \n",
            " 3   Cholesterol  100 non-null    object \n",
            " 4   Na_to_K      100 non-null    float64\n",
            " 5   Drug         100 non-null    object \n",
            "dtypes: float64(1), int64(1), object(4)\n",
            "memory usage: 4.8+ KB\n",
            "None\n",
            "\n",
            " ===== train 결측치 수 =====\n",
            "0\n",
            "\n",
            " ===== test 결측치 수 =====\n",
            "0\n",
            "\n",
            " ===== train/test 카테고리별 수 =====\n",
            "Sex            2\n",
            "BP             3\n",
            "Cholesterol    2\n",
            "dtype: int64\n",
            "Sex            2\n",
            "BP             3\n",
            "Cholesterol    2\n",
            "dtype: int64\n",
            "\n",
            " ===== target 빈도 =====\n",
            "Drug\n",
            "DrugY    41\n",
            "drugX    34\n",
            "drugA    13\n",
            "drugB     8\n",
            "drugC     4\n",
            "Name: count, dtype: int64\n"
          ]
        }
      ]
    },
    {
      "cell_type": "code",
      "source": [
        "# 4. 데이터 전처리\n",
        "# 원핫인코딩\n",
        "target = train.pop('Drug')\n",
        "train = pd.get_dummies(train)\n",
        "test = pd.get_dummies(test)\n",
        "\n",
        "# 5. 검증 데이터 분할\n",
        "from sklearn.model_selection import train_test_split\n",
        "X_tr, X_val, y_tr, y_val = train_test_split(train, target, test_size=0.2, random_state=0)\n",
        "\n",
        "# 6. 머신러닝 학습 및 평가\n",
        "from sklearn.ensemble import RandomForestClassifier\n",
        "rf = RandomForestClassifier(random_state=0)\n",
        "rf.fit(X_tr, y_tr)\n",
        "pred = rf.predict(X_val)\n",
        "\n",
        "from sklearn.metrics import f1_score\n",
        "f1 = f1_score(y_val, pred, average='macro')\n",
        "print('\\n f1-macro:', f1)\n",
        "\n",
        "# 7. 예측 및 결과 파일 생성\n",
        "pred = rf.predict(test)\n",
        "submit = pd.DataFrame({'pred':pred})\n",
        "submit.to_csv(\"result.csv\", index=False)"
      ],
      "metadata": {
        "colab": {
          "base_uri": "https://localhost:8080/"
        },
        "id": "T444qTklQQXi",
        "outputId": "c75c569d-444f-4a9c-e6ff-71653661b270"
      },
      "execution_count": 15,
      "outputs": [
        {
          "output_type": "stream",
          "name": "stdout",
          "text": [
            "\n",
            " f1-macro: 1.0\n"
          ]
        }
      ]
    },
    {
      "cell_type": "code",
      "source": [
        "# 크로스 밸리데이션(cross-validation)\n",
        "from sklearn.metrics import f1_score\n",
        "from sklearn.model_selection import cross_val_score\n",
        "f1_scores = cross_val_score(rf, train, target, cv=3, scoring='f1_macro')\n",
        "print(f1_scores)\n",
        "print(f1_scores.mean())"
      ],
      "metadata": {
        "colab": {
          "base_uri": "https://localhost:8080/"
        },
        "id": "dRCQoH_TD0-s",
        "outputId": "816d9b1e-b605-44c1-bbc3-837add39cbc9"
      },
      "execution_count": 16,
      "outputs": [
        {
          "output_type": "stream",
          "name": "stdout",
          "text": [
            "[1.         0.93777778 0.78461538]\n",
            "0.9074643874643874\n"
          ]
        }
      ]
    },
    {
      "cell_type": "code",
      "source": [
        "# scoring에 입력 가능한 평가지표: 시험환경에서 확인 방법 (사이킷런 구버전)\n",
        "# from sklearn.metrics import SCORERS\n",
        "# print(list(SCORERS.keys()))"
      ],
      "metadata": {
        "id": "mKByi5A7EQHv"
      },
      "execution_count": 19,
      "outputs": []
    },
    {
      "cell_type": "code",
      "source": [
        "# scoring에 입력 가능한 평가지표: 코랩에서 확인 방법 (사이킷런 최신버전)\n",
        "from sklearn.metrics import get_scorer_names\n",
        "print(get_scorer_names())"
      ],
      "metadata": {
        "colab": {
          "base_uri": "https://localhost:8080/"
        },
        "id": "qn6EMu2OzpGs",
        "outputId": "4d971624-d486-451e-8d31-22df151b2cee"
      },
      "execution_count": 20,
      "outputs": [
        {
          "output_type": "stream",
          "name": "stdout",
          "text": [
            "['accuracy', 'adjusted_mutual_info_score', 'adjusted_rand_score', 'average_precision', 'balanced_accuracy', 'completeness_score', 'explained_variance', 'f1', 'f1_macro', 'f1_micro', 'f1_samples', 'f1_weighted', 'fowlkes_mallows_score', 'homogeneity_score', 'jaccard', 'jaccard_macro', 'jaccard_micro', 'jaccard_samples', 'jaccard_weighted', 'matthews_corrcoef', 'max_error', 'mutual_info_score', 'neg_brier_score', 'neg_log_loss', 'neg_mean_absolute_error', 'neg_mean_absolute_percentage_error', 'neg_mean_gamma_deviance', 'neg_mean_poisson_deviance', 'neg_mean_squared_error', 'neg_mean_squared_log_error', 'neg_median_absolute_error', 'neg_negative_likelihood_ratio', 'neg_root_mean_squared_error', 'normalized_mutual_info_score', 'positive_likelihood_ratio', 'precision', 'precision_macro', 'precision_micro', 'precision_samples', 'precision_weighted', 'r2', 'rand_score', 'recall', 'recall_macro', 'recall_micro', 'recall_samples', 'recall_weighted', 'roc_auc', 'roc_auc_ovo', 'roc_auc_ovo_weighted', 'roc_auc_ovr', 'roc_auc_ovr_weighted', 'top_k_accuracy', 'v_measure_score']\n"
          ]
        }
      ]
    },
    {
      "cell_type": "markdown",
      "source": [
        "### 성능개선"
      ],
      "metadata": {
        "id": "zzYwbCGM6sGp"
      }
    },
    {
      "cell_type": "code",
      "source": [
        "# 2. 라이브러리 및 데이터 불러오기\n",
        "import pandas as pd\n",
        "# train = pd.read_csv(\"drug_train.csv\")\n",
        "# test = pd.read_csv(\"drug_test.csv\")\n",
        "train = pd.read_csv(\"https://raw.githubusercontent.com/lovedlim/bigdata_analyst_cert/main/part2/ch7/drug_train.csv\")\n",
        "test = pd.read_csv(\"https://raw.githubusercontent.com/lovedlim/bigdata_analyst_cert/main/part2/ch7/drug_test.csv\")\n",
        "\n",
        "# 4. 데이터 전처리\n",
        "target = train.pop('Drug')\n",
        "\n",
        "# 스케일링\n",
        "# from sklearn.preprocessing import MinMaxScaler\n",
        "# scaler = MinMaxScaler()\n",
        "# train['Age'] = scaler.fit_transform(train[['Age']])\n",
        "# test['Age'] = scaler.transform(test[['Age']])\n",
        "\n",
        "# 원핫인코딩 (Drug 컬럼 제외)\n",
        "train = pd.get_dummies(train)\n",
        "test = pd.get_dummies(test)\n",
        "\n",
        "# 레이블 인코딩 (Drug 컬럼 제외)\n",
        "# target = train.pop('Drug')\n",
        "# from sklearn.preprocessing import LabelEncoder\n",
        "# cols = train.select_dtypes(include='object').columns\n",
        "# for col in cols:\n",
        "#     le = LabelEncoder()\n",
        "#     train[col] = le.fit_transform(train[col])\n",
        "#     test[col] = le.transform(test[col])\n",
        "\n",
        "# 5. 크로스 밸리데이션(cross-validation)\n",
        "from sklearn.metrics import f1_score\n",
        "from sklearn.model_selection import cross_val_score\n",
        "from sklearn.ensemble import RandomForestClassifier\n",
        "\n",
        "rf = RandomForestClassifier(random_state=0)\n",
        "f1_scores = cross_val_score(rf, train, target, cv=3, scoring='f1_macro')\n",
        "print(f1_scores.mean())\n",
        "\n",
        "# 6. 머신러닝 학습 및 평가\n",
        "rf.fit(train, target)\n",
        "\n",
        "# 7. 예측 및 결과 파일 생성\n",
        "pred = rf.predict(test)\n",
        "submit = pd.DataFrame({'pred':pred})\n",
        "submit.to_csv(\"result.csv\", index=False)"
      ],
      "metadata": {
        "id": "0e5G20_weMC1"
      },
      "execution_count": null,
      "outputs": []
    },
    {
      "cell_type": "markdown",
      "source": [
        "# Section3"
      ],
      "metadata": {
        "id": "Nz6AOym51jma"
      }
    },
    {
      "cell_type": "markdown",
      "source": [
        "### 베이스라인"
      ],
      "metadata": {
        "id": "qGYl2v491pLo"
      }
    },
    {
      "cell_type": "code",
      "source": [
        "# 1. 문제정의\n",
        "# 평가: f1-weighted\n",
        "# target: Type\n",
        "# 최종파일: result.csv(컬럼 1개 pred)\n",
        "\n",
        "# 2. 라이브러리 및 데이터 불러오기\n",
        "import pandas as pd\n",
        "# train = pd.read_csv(\"glass_train.csv\")\n",
        "# test = pd.read_csv(\"glass_test.csv\")\n",
        "train = pd.read_csv(\"https://raw.githubusercontent.com/lovedlim/bigdata_analyst_cert/main/part2/ch7/glass_train.csv\")\n",
        "test = pd.read_csv(\"https://raw.githubusercontent.com/lovedlim/bigdata_analyst_cert/main/part2/ch7/glass_test.csv\")\n",
        "\n",
        "# 3. 탐색적 데이터 분석(EDA)\n",
        "print(\"===== 데이터 크기 =====\")\n",
        "print(train.shape, test.shape)\n",
        "\n",
        "print(\"\\n ===== train 데이터 샘플 =====\")\n",
        "print(train.head(1))\n",
        "\n",
        "print(\"\\n ===== test 데이터 샘플 =====\")\n",
        "print(test.head(1))\n",
        "\n",
        "print(\"\\n ===== 데이터 정보(자료형) =====\")\n",
        "print(train.info())\n",
        "\n",
        "print(\"\\n ===== train 결측치 수 =====\")\n",
        "print(train.isnull().sum().sum())\n",
        "\n",
        "print(\"\\n ===== test 결측치 수 =====\")\n",
        "print(test.isnull().sum().sum())\n",
        "\n",
        "print(\"\\n ===== target 빈도 =====\")\n",
        "print(train['Type'].value_counts())"
      ],
      "metadata": {
        "id": "i7lmEbRT4p9U"
      },
      "execution_count": null,
      "outputs": []
    },
    {
      "cell_type": "code",
      "source": [
        "# 4. 데이터 전처리\n",
        "target = train.pop('Type')\n",
        "\n",
        "# 5. 검증 데이터 분할\n",
        "from sklearn.model_selection import train_test_split\n",
        "\n",
        "X_tr, X_val, y_tr, y_val = train_test_split(train, target, test_size=0.2, random_state=0)\n",
        "\n",
        "# 6. 머신러닝 학습 및 평가\n",
        "from sklearn.ensemble import RandomForestClassifier\n",
        "rf = RandomForestClassifier(random_state=0)\n",
        "rf.fit(X_tr, y_tr)\n",
        "pred = rf.predict(X_val)\n",
        "\n",
        "from sklearn.metrics import f1_score\n",
        "score = f1_score(y_val, pred, average='weighted')\n",
        "print('f1:', score)\n",
        "\n",
        "# 7. 예측 및 결과 파일 생성\n",
        "pred = rf.predict(test)\n",
        "submit = pd.DataFrame({'pred':pred})\n",
        "submit.to_csv(\"result.csv\", index=False)"
      ],
      "metadata": {
        "id": "aMDZLMSAoVVM"
      },
      "execution_count": null,
      "outputs": []
    },
    {
      "cell_type": "markdown",
      "source": [
        "### 성능개선"
      ],
      "metadata": {
        "id": "FTHlRpM81qPl"
      }
    },
    {
      "cell_type": "code",
      "source": [
        "# 2. 라이브러리 및 데이터 불러오기\n",
        "import pandas as pd\n",
        "# train = pd.read_csv(\"glass_train.csv\")\n",
        "# test = pd.read_csv(\"glass_test.csv\")\n",
        "train = pd.read_csv(\"https://raw.githubusercontent.com/lovedlim/bigdata_analyst_cert/main/part2/ch7/glass_train.csv\")\n",
        "test = pd.read_csv(\"https://raw.githubusercontent.com/lovedlim/bigdata_analyst_cert/main/part2/ch7/glass_test.csv\")\n",
        "\n",
        "# 4. 데이터 전처리\n",
        "target = train.pop('Type')\n",
        "\n",
        "# 스케일링 효과 없음\n",
        "\n",
        "# 5. 검증 데이터 분할\n",
        "from sklearn.model_selection import train_test_split\n",
        "X_tr, X_val, y_tr, y_val = train_test_split(train, target, test_size=0.2, random_state=0)\n",
        "\n",
        "# 6. 머신러닝 학습 및 평가\n",
        "from sklearn.ensemble import RandomForestClassifier\n",
        "rf = RandomForestClassifier(max_depth=5, n_estimators=200, random_state=0)\n",
        "rf.fit(X_tr, y_tr)\n",
        "pred = rf.predict(X_val)\n",
        "\n",
        "from sklearn.metrics import f1_score\n",
        "score = f1_score(y_val, pred, average='weighted')\n",
        "print('f1:', score)\n",
        "\n",
        "# 7. 예측 및 결과 파일 생성\n",
        "pred = rf.predict(test)\n",
        "submit = pd.DataFrame({'pred':pred})\n",
        "submit.to_csv(\"result.csv\", index=False)"
      ],
      "metadata": {
        "id": "_7ridIKUjDAp"
      },
      "execution_count": null,
      "outputs": []
    },
    {
      "cell_type": "code",
      "source": [],
      "metadata": {
        "id": "J1FnX9QKy8aO"
      },
      "execution_count": null,
      "outputs": []
    }
  ]
}