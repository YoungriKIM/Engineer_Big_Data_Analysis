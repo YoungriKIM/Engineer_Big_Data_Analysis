{
 "cells": [
  {
   "cell_type": "markdown",
   "metadata": {},
   "source": [
    "### 회귀"
   ]
  },
  {
   "cell_type": "markdown",
   "metadata": {},
   "source": [
    "#### 문제1 | 항공권 가격 예측"
   ]
  },
  {
   "cell_type": "code",
   "execution_count": 21,
   "metadata": {},
   "outputs": [],
   "source": [
    "# 데이터 : flight_train.csv, flight_test.csv\n",
    "# 예측값 : price 가격\n",
    "# 평가 지표 : RMSE"
   ]
  },
  {
   "cell_type": "code",
   "execution_count": 22,
   "metadata": {},
   "outputs": [
    {
     "name": "stdout",
     "output_type": "stream",
     "text": [
      "(10505, 11) (4502, 10)\n"
     ]
    },
    {
     "data": {
      "text/html": [
       "<div>\n",
       "<style scoped>\n",
       "    .dataframe tbody tr th:only-of-type {\n",
       "        vertical-align: middle;\n",
       "    }\n",
       "\n",
       "    .dataframe tbody tr th {\n",
       "        vertical-align: top;\n",
       "    }\n",
       "\n",
       "    .dataframe thead th {\n",
       "        text-align: right;\n",
       "    }\n",
       "</style>\n",
       "<table border=\"1\" class=\"dataframe\">\n",
       "  <thead>\n",
       "    <tr style=\"text-align: right;\">\n",
       "      <th></th>\n",
       "      <th>airline</th>\n",
       "      <th>flight</th>\n",
       "      <th>source_city</th>\n",
       "      <th>departure_time</th>\n",
       "      <th>stops</th>\n",
       "      <th>arrival_time</th>\n",
       "      <th>destination_city</th>\n",
       "      <th>class</th>\n",
       "      <th>duration</th>\n",
       "      <th>days_left</th>\n",
       "      <th>price</th>\n",
       "    </tr>\n",
       "  </thead>\n",
       "  <tbody>\n",
       "    <tr>\n",
       "      <th>0</th>\n",
       "      <td>Vistara</td>\n",
       "      <td>UK-776</td>\n",
       "      <td>Kolkata</td>\n",
       "      <td>Evening</td>\n",
       "      <td>one</td>\n",
       "      <td>Late_Night</td>\n",
       "      <td>Delhi</td>\n",
       "      <td>Economy</td>\n",
       "      <td>6.58</td>\n",
       "      <td>31</td>\n",
       "      <td>7056</td>\n",
       "    </tr>\n",
       "    <tr>\n",
       "      <th>1</th>\n",
       "      <td>Vistara</td>\n",
       "      <td>UK-852</td>\n",
       "      <td>Bangalore</td>\n",
       "      <td>Morning</td>\n",
       "      <td>zero</td>\n",
       "      <td>Morning</td>\n",
       "      <td>Mumbai</td>\n",
       "      <td>Business</td>\n",
       "      <td>1.92</td>\n",
       "      <td>37</td>\n",
       "      <td>20760</td>\n",
       "    </tr>\n",
       "  </tbody>\n",
       "</table>\n",
       "</div>"
      ],
      "text/plain": [
       "   airline  flight source_city departure_time stops arrival_time  \\\n",
       "0  Vistara  UK-776     Kolkata        Evening   one   Late_Night   \n",
       "1  Vistara  UK-852   Bangalore        Morning  zero      Morning   \n",
       "\n",
       "  destination_city     class  duration  days_left  price  \n",
       "0            Delhi   Economy      6.58         31   7056  \n",
       "1           Mumbai  Business      1.92         37  20760  "
      ]
     },
     "metadata": {},
     "output_type": "display_data"
    },
    {
     "name": "stdout",
     "output_type": "stream",
     "text": [
      "(10505, 10) (4502, 10)\n",
      "(15007, 10)\n",
      "3782.986566193416\n"
     ]
    }
   ],
   "source": [
    "import pandas as pd\n",
    "from sklearn.preprocessing import LabelEncoder\n",
    "from sklearn.model_selection import train_test_split\n",
    "from sklearn.linear_model import SGDRegressor\n",
    "from sklearn.ensemble import RandomForestRegressor ### 주목 ### 랜포도 회귀에 사용 가능한 모델 있음\n",
    "from sklearn.metrics import mean_squared_error\n",
    "from sklearn.preprocessing import MinMaxScaler, StandardScaler, RobustScaler\n",
    "\n",
    "train = pd.read_csv('flight_train.csv')\n",
    "test = pd.read_csv('flight_test.csv')\n",
    "print(train.shape, test.shape)\n",
    "\n",
    "# EDA\n",
    "display(train.head(2))\n",
    "# display(test.head(2))\n",
    "# train.info()\n",
    "# test.info()\n",
    "# train['price'].describe()\n",
    "# 결측값 없고 오브젝트 타입이 많음\n",
    "# display(train.describe(include='O'))\n",
    "# display(test.describe(include='O'))\n",
    "\n",
    "# 전처리\n",
    "target = train.pop('price')\n",
    "print(train.shape, test.shape)\n",
    "df = pd.concat([train,test])\n",
    "print(df.shape)\n",
    "\n",
    "# 인코딩\n",
    "for col_name in df.select_dtypes(include='O').columns.to_list():\n",
    "    le = LabelEncoder()\n",
    "    df[col_name] = le.fit_transform(df[col_name])\n",
    "    \n",
    "# 데이터 분할\n",
    "train = df.iloc[:len(train)].copy()\n",
    "test = df.iloc[len(train):].copy()\n",
    "# display(train.head(2))\n",
    "# display(test.head(2))\n",
    "x_train, x_val, y_train, y_val = train_test_split(train, target, test_size=0.2, random_state=0)\n",
    "\n",
    "# 스케일링\n",
    "scaler = StandardScaler()\n",
    "x_train = scaler.fit_transform(x_train)\n",
    "x_val = scaler.transform(x_val)\n",
    "test = scaler.transform(test)\n",
    "\n",
    "# 모델 학습 및 검증\n",
    "# model = SGDRegressor(random_state=0)\n",
    "model = RandomForestRegressor(random_state=0)\n",
    "model.fit(x_train, y_train)\n",
    "y_pred = model.predict(x_val)\n",
    "print(mean_squared_error(y_val, y_pred)**0.5)\n",
    "\n",
    "# 예측 및 제출\n",
    "pred = model.predict(test)\n",
    "result = pd.DataFrame({'pred':pred})\n",
    "result.to_csv('result.csv', index=False)\n",
    "# pd.read_csv('result.csv')"
   ]
  },
  {
   "cell_type": "markdown",
   "metadata": {},
   "source": [
    "#### 문제2 | 노트북 가격 예측"
   ]
  },
  {
   "cell_type": "code",
   "execution_count": 23,
   "metadata": {},
   "outputs": [],
   "source": [
    "# 데이터 : laptop_train.csv, laptop_test.csv\n",
    "# 예측값 : price\n",
    "# 평가 지표: R2 score"
   ]
  },
  {
   "cell_type": "code",
   "execution_count": 24,
   "metadata": {},
   "outputs": [
    {
     "data": {
      "text/html": [
       "<div>\n",
       "<style scoped>\n",
       "    .dataframe tbody tr th:only-of-type {\n",
       "        vertical-align: middle;\n",
       "    }\n",
       "\n",
       "    .dataframe tbody tr th {\n",
       "        vertical-align: top;\n",
       "    }\n",
       "\n",
       "    .dataframe thead th {\n",
       "        text-align: right;\n",
       "    }\n",
       "</style>\n",
       "<table border=\"1\" class=\"dataframe\">\n",
       "  <thead>\n",
       "    <tr style=\"text-align: right;\">\n",
       "      <th></th>\n",
       "      <th>Brand</th>\n",
       "      <th>Model</th>\n",
       "      <th>Series</th>\n",
       "      <th>Processor</th>\n",
       "      <th>Processor_Gen</th>\n",
       "      <th>RAM</th>\n",
       "      <th>Hard_Disk_Capacity</th>\n",
       "      <th>OS</th>\n",
       "      <th>Rating</th>\n",
       "      <th>Price</th>\n",
       "    </tr>\n",
       "  </thead>\n",
       "  <tbody>\n",
       "    <tr>\n",
       "      <th>0</th>\n",
       "      <td>ASUS</td>\n",
       "      <td>VivoBook</td>\n",
       "      <td>15</td>\n",
       "      <td>i3</td>\n",
       "      <td>10th</td>\n",
       "      <td>8.0</td>\n",
       "      <td>512 GB SSD</td>\n",
       "      <td>Windows 11 Home</td>\n",
       "      <td>4.3</td>\n",
       "      <td>37940</td>\n",
       "    </tr>\n",
       "    <tr>\n",
       "      <th>1</th>\n",
       "      <td>DELL</td>\n",
       "      <td>Inspiron</td>\n",
       "      <td>NaN</td>\n",
       "      <td>i3</td>\n",
       "      <td>11th</td>\n",
       "      <td>8.0</td>\n",
       "      <td>1 TB HDD</td>\n",
       "      <td>Windows 11 Home</td>\n",
       "      <td>3.7</td>\n",
       "      <td>39040</td>\n",
       "    </tr>\n",
       "  </tbody>\n",
       "</table>\n",
       "</div>"
      ],
      "text/plain": [
       "  Brand     Model Series Processor Processor_Gen  RAM Hard_Disk_Capacity  \\\n",
       "0  ASUS  VivoBook     15        i3          10th  8.0         512 GB SSD   \n",
       "1  DELL  Inspiron    NaN        i3          11th  8.0           1 TB HDD   \n",
       "\n",
       "                OS  Rating  Price  \n",
       "0  Windows 11 Home     4.3  37940  \n",
       "1  Windows 11 Home     3.7  39040  "
      ]
     },
     "metadata": {},
     "output_type": "display_data"
    },
    {
     "name": "stdout",
     "output_type": "stream",
     "text": [
      "0.8002583947958681\n"
     ]
    }
   ],
   "source": [
    "import pandas as pd\n",
    "from sklearn.preprocessing import LabelEncoder\n",
    "from sklearn.model_selection import train_test_split\n",
    "from sklearn.ensemble import RandomForestRegressor\n",
    "from sklearn.linear_model import SGDRegressor\n",
    "from sklearn.metrics import r2_score\n",
    "\n",
    "train = pd.read_csv('laptop_train.csv')\n",
    "test = pd.read_csv('laptop_test.csv')\n",
    "# print(train.shape, test.shape)\n",
    "\n",
    "# EDA\n",
    "display(train.head(2))\n",
    "# display(test.head(2))\n",
    "# Hard_Disk_Capacity 분리하면 좋을 것 같음\n",
    "# 오브젝트 타입 인코딩 필요\n",
    "# print(train.isna().sum())\n",
    "# print(test.isna().sum())\n",
    "# 결측값 있음\n",
    "# train['Price'].describe()\n",
    "\n",
    "# 전처리\n",
    "target = train.pop('Price')\n",
    "# print(train.shape, test.shape)\n",
    "df = pd.concat([train, test])\n",
    "# print(df.shape)\n",
    "\n",
    "# 결측치 처리\n",
    "# 결측치 많은 컬럼 삭제\n",
    "df = df.drop(columns=['Model'])\n",
    "# 'X'로 채우기\n",
    "df['RAM'] = df['RAM'].astype(str)\n",
    "df = df.fillna('X')\n",
    "\n",
    "# Hard_Disk_Capacity 분리하기\n",
    "df['Hard_Disk_Capacity_1'] = df['Hard_Disk_Capacity'].str.split(' ').str[:2].str.join(' ')\n",
    "df['Hard_Disk_Capacity_2'] = df['Hard_Disk_Capacity'].str.split(' ').str[-1]\n",
    "df = df.drop(columns='Hard_Disk_Capacity')\n",
    "\n",
    "# 인코딩\n",
    "for col_name in df.select_dtypes(include='O').columns.to_list():\n",
    "    le = LabelEncoder()\n",
    "    df[col_name] = le.fit_transform(df[col_name].astype(object))\n",
    "\n",
    "# 스케일링, 결과보고 다시\n",
    "\n",
    "# 데이터 분리\n",
    "train = df.iloc[:len(train)].copy()\n",
    "test = df.iloc[len(train):].copy()\n",
    "# print(train.shape, test.shape)\n",
    "x_train, x_val, y_train, y_val = train_test_split(train, target, test_size=0.2, random_state=0)\n",
    "# print(x_train.shape, y_train.shape)\n",
    "# print(x_val.shape, y_val.shape)\n",
    "\n",
    "\n",
    "# 모델 학습 및 검증\n",
    "model = RandomForestRegressor(random_state=0)\n",
    "model.fit(x_train, y_train)\n",
    "y_pred = model.predict(x_val)\n",
    "print(r2_score(y_val, y_pred))\n",
    "\n",
    "# 예측 및 제출\n",
    "pred = model.predict(test)\n",
    "result = pd.DataFrame({'pred':pred})\n",
    "result.to_csv('result.csv', index=False)\n",
    "# pd.read_csv('result.csv')"
   ]
  },
  {
   "cell_type": "markdown",
   "metadata": {},
   "source": [
    "#### 문제3 | 중고차 가격 예측"
   ]
  },
  {
   "cell_type": "code",
   "execution_count": 25,
   "metadata": {},
   "outputs": [],
   "source": [
    "# 데이터: car_train.csv, car_test.csv\n",
    "# 예측할 컬럼: price\n",
    "# 평가 지표: RMSLE"
   ]
  },
  {
   "cell_type": "code",
   "execution_count": 26,
   "metadata": {},
   "outputs": [
    {
     "name": "stdout",
     "output_type": "stream",
     "text": [
      "(6732, 17) (5772, 16)\n"
     ]
    }
   ],
   "source": [
    "import pandas as pd\n",
    "\n",
    "train = pd.read_csv('car_train.csv')\n",
    "test = pd.read_csv('car_test.csv')\n",
    "print(train.shape, test.shape)"
   ]
  },
  {
   "cell_type": "code",
   "execution_count": 27,
   "metadata": {},
   "outputs": [],
   "source": [
    "# EDA"
   ]
  },
  {
   "cell_type": "code",
   "execution_count": 28,
   "metadata": {},
   "outputs": [
    {
     "data": {
      "text/html": [
       "<div>\n",
       "<style scoped>\n",
       "    .dataframe tbody tr th:only-of-type {\n",
       "        vertical-align: middle;\n",
       "    }\n",
       "\n",
       "    .dataframe tbody tr th {\n",
       "        vertical-align: top;\n",
       "    }\n",
       "\n",
       "    .dataframe thead th {\n",
       "        text-align: right;\n",
       "    }\n",
       "</style>\n",
       "<table border=\"1\" class=\"dataframe\">\n",
       "  <thead>\n",
       "    <tr style=\"text-align: right;\">\n",
       "      <th></th>\n",
       "      <th>Price</th>\n",
       "      <th>Levy</th>\n",
       "      <th>Manufacturer</th>\n",
       "      <th>Model</th>\n",
       "      <th>Prod. year</th>\n",
       "      <th>Category</th>\n",
       "      <th>Leather interior</th>\n",
       "      <th>Fuel type</th>\n",
       "      <th>Engine volume</th>\n",
       "      <th>Mileage</th>\n",
       "      <th>Cylinders</th>\n",
       "      <th>Gear box type</th>\n",
       "      <th>Drive wheels</th>\n",
       "      <th>Doors</th>\n",
       "      <th>Wheel</th>\n",
       "      <th>Color</th>\n",
       "      <th>Airbags</th>\n",
       "    </tr>\n",
       "  </thead>\n",
       "  <tbody>\n",
       "    <tr>\n",
       "      <th>0</th>\n",
       "      <td>13956</td>\n",
       "      <td>603</td>\n",
       "      <td>LEXUS</td>\n",
       "      <td>RX 450</td>\n",
       "      <td>2015</td>\n",
       "      <td>Jeep</td>\n",
       "      <td>Yes</td>\n",
       "      <td>Hybrid</td>\n",
       "      <td>3.5</td>\n",
       "      <td>143619 km</td>\n",
       "      <td>6.0</td>\n",
       "      <td>Automatic</td>\n",
       "      <td>4x4</td>\n",
       "      <td>04-May</td>\n",
       "      <td>Left wheel</td>\n",
       "      <td>Black</td>\n",
       "      <td>12</td>\n",
       "    </tr>\n",
       "    <tr>\n",
       "      <th>1</th>\n",
       "      <td>26108</td>\n",
       "      <td>640</td>\n",
       "      <td>SSANGYONG</td>\n",
       "      <td>REXTON</td>\n",
       "      <td>2013</td>\n",
       "      <td>Jeep</td>\n",
       "      <td>Yes</td>\n",
       "      <td>Diesel</td>\n",
       "      <td>2</td>\n",
       "      <td>111307 km</td>\n",
       "      <td>4.0</td>\n",
       "      <td>Automatic</td>\n",
       "      <td>Front</td>\n",
       "      <td>04-May</td>\n",
       "      <td>Left wheel</td>\n",
       "      <td>White</td>\n",
       "      <td>4</td>\n",
       "    </tr>\n",
       "    <tr>\n",
       "      <th>2</th>\n",
       "      <td>549</td>\n",
       "      <td>1493</td>\n",
       "      <td>MERCEDES-BENZ</td>\n",
       "      <td>GLE 350</td>\n",
       "      <td>2016</td>\n",
       "      <td>Jeep</td>\n",
       "      <td>Yes</td>\n",
       "      <td>Petrol</td>\n",
       "      <td>3.5</td>\n",
       "      <td>91493 km</td>\n",
       "      <td>6.0</td>\n",
       "      <td>Automatic</td>\n",
       "      <td>Rear</td>\n",
       "      <td>04-May</td>\n",
       "      <td>Left wheel</td>\n",
       "      <td>Black</td>\n",
       "      <td>0</td>\n",
       "    </tr>\n",
       "  </tbody>\n",
       "</table>\n",
       "</div>"
      ],
      "text/plain": [
       "   Price  Levy   Manufacturer    Model  Prod. year Category Leather interior  \\\n",
       "0  13956   603          LEXUS   RX 450        2015     Jeep              Yes   \n",
       "1  26108   640      SSANGYONG   REXTON        2013     Jeep              Yes   \n",
       "2    549  1493  MERCEDES-BENZ  GLE 350        2016     Jeep              Yes   \n",
       "\n",
       "  Fuel type Engine volume    Mileage  Cylinders Gear box type Drive wheels  \\\n",
       "0    Hybrid           3.5  143619 km        6.0     Automatic          4x4   \n",
       "1    Diesel             2  111307 km        4.0     Automatic        Front   \n",
       "2    Petrol           3.5   91493 km        6.0     Automatic         Rear   \n",
       "\n",
       "    Doors       Wheel  Color  Airbags  \n",
       "0  04-May  Left wheel  Black       12  \n",
       "1  04-May  Left wheel  White        4  \n",
       "2  04-May  Left wheel  Black        0  "
      ]
     },
     "metadata": {},
     "output_type": "display_data"
    },
    {
     "data": {
      "text/html": [
       "<div>\n",
       "<style scoped>\n",
       "    .dataframe tbody tr th:only-of-type {\n",
       "        vertical-align: middle;\n",
       "    }\n",
       "\n",
       "    .dataframe tbody tr th {\n",
       "        vertical-align: top;\n",
       "    }\n",
       "\n",
       "    .dataframe thead th {\n",
       "        text-align: right;\n",
       "    }\n",
       "</style>\n",
       "<table border=\"1\" class=\"dataframe\">\n",
       "  <thead>\n",
       "    <tr style=\"text-align: right;\">\n",
       "      <th></th>\n",
       "      <th>Levy</th>\n",
       "      <th>Manufacturer</th>\n",
       "      <th>Model</th>\n",
       "      <th>Prod. year</th>\n",
       "      <th>Category</th>\n",
       "      <th>Leather interior</th>\n",
       "      <th>Fuel type</th>\n",
       "      <th>Engine volume</th>\n",
       "      <th>Mileage</th>\n",
       "      <th>Cylinders</th>\n",
       "      <th>Gear box type</th>\n",
       "      <th>Drive wheels</th>\n",
       "      <th>Doors</th>\n",
       "      <th>Wheel</th>\n",
       "      <th>Color</th>\n",
       "      <th>Airbags</th>\n",
       "    </tr>\n",
       "  </thead>\n",
       "  <tbody>\n",
       "    <tr>\n",
       "      <th>0</th>\n",
       "      <td>730</td>\n",
       "      <td>SSANGYONG</td>\n",
       "      <td>Actyon</td>\n",
       "      <td>2016</td>\n",
       "      <td>Jeep</td>\n",
       "      <td>Yes</td>\n",
       "      <td>Petrol</td>\n",
       "      <td>1.6</td>\n",
       "      <td>70940 km</td>\n",
       "      <td>4.0</td>\n",
       "      <td>Automatic</td>\n",
       "      <td>Front</td>\n",
       "      <td>04-May</td>\n",
       "      <td>Left wheel</td>\n",
       "      <td>Black</td>\n",
       "      <td>4</td>\n",
       "    </tr>\n",
       "    <tr>\n",
       "      <th>1</th>\n",
       "      <td>609</td>\n",
       "      <td>TOYOTA</td>\n",
       "      <td>Camry</td>\n",
       "      <td>2018</td>\n",
       "      <td>Sedan</td>\n",
       "      <td>Yes</td>\n",
       "      <td>Hybrid</td>\n",
       "      <td>2.5</td>\n",
       "      <td>32000 km</td>\n",
       "      <td>4.0</td>\n",
       "      <td>Automatic</td>\n",
       "      <td>Front</td>\n",
       "      <td>04-May</td>\n",
       "      <td>Left wheel</td>\n",
       "      <td>Black</td>\n",
       "      <td>12</td>\n",
       "    </tr>\n",
       "    <tr>\n",
       "      <th>2</th>\n",
       "      <td>761</td>\n",
       "      <td>TOYOTA</td>\n",
       "      <td>Prius</td>\n",
       "      <td>2010</td>\n",
       "      <td>Hatchback</td>\n",
       "      <td>No</td>\n",
       "      <td>Hybrid</td>\n",
       "      <td>1.8</td>\n",
       "      <td>135797 km</td>\n",
       "      <td>4.0</td>\n",
       "      <td>Automatic</td>\n",
       "      <td>Front</td>\n",
       "      <td>04-May</td>\n",
       "      <td>Left wheel</td>\n",
       "      <td>Red</td>\n",
       "      <td>0</td>\n",
       "    </tr>\n",
       "  </tbody>\n",
       "</table>\n",
       "</div>"
      ],
      "text/plain": [
       "  Levy Manufacturer   Model  Prod. year   Category Leather interior Fuel type  \\\n",
       "0  730    SSANGYONG  Actyon        2016       Jeep              Yes    Petrol   \n",
       "1  609       TOYOTA   Camry        2018      Sedan              Yes    Hybrid   \n",
       "2  761       TOYOTA   Prius        2010  Hatchback               No    Hybrid   \n",
       "\n",
       "  Engine volume    Mileage  Cylinders Gear box type Drive wheels   Doors  \\\n",
       "0           1.6   70940 km        4.0     Automatic        Front  04-May   \n",
       "1           2.5   32000 km        4.0     Automatic        Front  04-May   \n",
       "2           1.8  135797 km        4.0     Automatic        Front  04-May   \n",
       "\n",
       "        Wheel  Color  Airbags  \n",
       "0  Left wheel  Black        4  \n",
       "1  Left wheel  Black       12  \n",
       "2  Left wheel    Red        0  "
      ]
     },
     "metadata": {},
     "output_type": "display_data"
    }
   ],
   "source": [
    "display(train.head(3))\n",
    "display(test.head(3))"
   ]
  },
  {
   "cell_type": "code",
   "execution_count": 29,
   "metadata": {},
   "outputs": [
    {
     "name": "stdout",
     "output_type": "stream",
     "text": [
      "0\n",
      "0\n"
     ]
    }
   ],
   "source": [
    "# 결측치 확인\n",
    "print(sum(train.isna().sum()))\n",
    "print(sum(test.isna().sum()))"
   ]
  },
  {
   "cell_type": "code",
   "execution_count": 30,
   "metadata": {},
   "outputs": [
    {
     "name": "stdout",
     "output_type": "stream",
     "text": [
      "<class 'pandas.core.frame.DataFrame'>\n",
      "RangeIndex: 6732 entries, 0 to 6731\n",
      "Data columns (total 17 columns):\n",
      " #   Column            Non-Null Count  Dtype  \n",
      "---  ------            --------------  -----  \n",
      " 0   Price             6732 non-null   int64  \n",
      " 1   Levy              6732 non-null   object \n",
      " 2   Manufacturer      6732 non-null   object \n",
      " 3   Model             6732 non-null   object \n",
      " 4   Prod. year        6732 non-null   int64  \n",
      " 5   Category          6732 non-null   object \n",
      " 6   Leather interior  6732 non-null   object \n",
      " 7   Fuel type         6732 non-null   object \n",
      " 8   Engine volume     6732 non-null   object \n",
      " 9   Mileage           6732 non-null   object \n",
      " 10  Cylinders         6732 non-null   float64\n",
      " 11  Gear box type     6732 non-null   object \n",
      " 12  Drive wheels      6732 non-null   object \n",
      " 13  Doors             6732 non-null   object \n",
      " 14  Wheel             6732 non-null   object \n",
      " 15  Color             6732 non-null   object \n",
      " 16  Airbags           6732 non-null   int64  \n",
      "dtypes: float64(1), int64(3), object(13)\n",
      "memory usage: 894.2+ KB\n",
      "<class 'pandas.core.frame.DataFrame'>\n",
      "RangeIndex: 5772 entries, 0 to 5771\n",
      "Data columns (total 16 columns):\n",
      " #   Column            Non-Null Count  Dtype  \n",
      "---  ------            --------------  -----  \n",
      " 0   Levy              5772 non-null   object \n",
      " 1   Manufacturer      5772 non-null   object \n",
      " 2   Model             5772 non-null   object \n",
      " 3   Prod. year        5772 non-null   int64  \n",
      " 4   Category          5772 non-null   object \n",
      " 5   Leather interior  5772 non-null   object \n",
      " 6   Fuel type         5772 non-null   object \n",
      " 7   Engine volume     5772 non-null   object \n",
      " 8   Mileage           5772 non-null   object \n",
      " 9   Cylinders         5772 non-null   float64\n",
      " 10  Gear box type     5772 non-null   object \n",
      " 11  Drive wheels      5772 non-null   object \n",
      " 12  Doors             5772 non-null   object \n",
      " 13  Wheel             5772 non-null   object \n",
      " 14  Color             5772 non-null   object \n",
      " 15  Airbags           5772 non-null   int64  \n",
      "dtypes: float64(1), int64(2), object(13)\n",
      "memory usage: 721.6+ KB\n"
     ]
    }
   ],
   "source": [
    "# 데이터 타입 확인\n",
    "train.info()\n",
    "test.info()\n",
    "# 오브젝트 타입이 많아서 인코딩 필요"
   ]
  },
  {
   "cell_type": "code",
   "execution_count": 31,
   "metadata": {},
   "outputs": [
    {
     "data": {
      "text/plain": [
       "count      6732.000000\n",
       "mean      17018.565954\n",
       "std       17497.072247\n",
       "min           3.000000\n",
       "25%        5331.000000\n",
       "50%       13172.000000\n",
       "75%       21953.000000\n",
       "max      228935.000000\n",
       "Name: Price, dtype: float64"
      ]
     },
     "execution_count": 31,
     "metadata": {},
     "output_type": "execute_result"
    }
   ],
   "source": [
    "# 타겟값 분포\n",
    "train['Price'].describe()\n",
    "# 마이너스 이상치 없음"
   ]
  },
  {
   "cell_type": "code",
   "execution_count": 32,
   "metadata": {},
   "outputs": [],
   "source": [
    "# 전처리"
   ]
  },
  {
   "cell_type": "code",
   "execution_count": 33,
   "metadata": {},
   "outputs": [
    {
     "name": "stdout",
     "output_type": "stream",
     "text": [
      "(6732, 16) (5772, 16)\n",
      "(12504, 16)\n"
     ]
    }
   ],
   "source": [
    "target = train.pop('Price')\n",
    "print(train.shape, test.shape)\n",
    "\n",
    "df = pd.concat([train, test])\n",
    "print(df.shape)"
   ]
  },
  {
   "cell_type": "code",
   "execution_count": 35,
   "metadata": {},
   "outputs": [],
   "source": [
    "# 인코딩\n",
    "from sklearn.preprocessing import LabelEncoder\n",
    "\n",
    "for col_name in df.select_dtypes(include='O').columns.to_list():\n",
    "    le = LabelEncoder()\n",
    "    df[col_name] = le.fit_transform(df[col_name])"
   ]
  },
  {
   "cell_type": "code",
   "execution_count": 36,
   "metadata": {},
   "outputs": [
    {
     "name": "stdout",
     "output_type": "stream",
     "text": [
      "(6732, 16) (5772, 16)\n",
      "(5385, 16) (5385,)\n",
      "(1347, 16) (1347,)\n"
     ]
    }
   ],
   "source": [
    "# 데이터 나누기\n",
    "train = df.iloc[:len(train)].copy()\n",
    "test = df.iloc[len(train):].copy()\n",
    "print(train.shape, test.shape)\n",
    "\n",
    "from sklearn.model_selection import train_test_split\n",
    "x_train, x_val, y_train, y_val = train_test_split(train, target, test_size=0.2, random_state=0)\n",
    "print(x_train.shape, y_train.shape)\n",
    "print(x_val.shape, y_val.shape)"
   ]
  },
  {
   "cell_type": "code",
   "execution_count": 37,
   "metadata": {},
   "outputs": [],
   "source": [
    "# 스케일링\n",
    "from sklearn.preprocessing import MinMaxScaler, StandardScaler, RobustScaler\n",
    "scaler = MinMaxScaler()\n",
    "\n",
    "x_train = scaler.fit_transform(x_train)\n",
    "x_val = scaler.transform(x_val)\n",
    "test = scaler.transform(test)"
   ]
  },
  {
   "cell_type": "code",
   "execution_count": 38,
   "metadata": {},
   "outputs": [],
   "source": [
    "# 모델 학습 및 검증"
   ]
  },
  {
   "cell_type": "code",
   "execution_count": 58,
   "metadata": {},
   "outputs": [
    {
     "name": "stdout",
     "output_type": "stream",
     "text": [
      "1.2115452791726906\n"
     ]
    }
   ],
   "source": [
    "from sklearn.ensemble import RandomForestRegressor\n",
    "from sklearn.linear_model import SGDRegressor\n",
    "import lightgbm as lgbm\n",
    "from sklearn.metrics import mean_squared_log_error\n",
    "model = RandomForestRegressor(random_state=0)\n",
    "# model = SGDRegressor(random_state=0)\n",
    "# model = lgbm.LGBMRegressor(random_state=0, force_row_wise=True)\n",
    "\n",
    "model.fit(x_train, y_train)\n",
    "y_pred = model.predict(x_val)\n",
    "print(mean_squared_log_error(y_val , y_pred))"
   ]
  },
  {
   "cell_type": "code",
   "execution_count": 59,
   "metadata": {},
   "outputs": [],
   "source": [
    "# 예측 및 제출"
   ]
  },
  {
   "cell_type": "code",
   "execution_count": 60,
   "metadata": {},
   "outputs": [
    {
     "data": {
      "text/html": [
       "<div>\n",
       "<style scoped>\n",
       "    .dataframe tbody tr th:only-of-type {\n",
       "        vertical-align: middle;\n",
       "    }\n",
       "\n",
       "    .dataframe tbody tr th {\n",
       "        vertical-align: top;\n",
       "    }\n",
       "\n",
       "    .dataframe thead th {\n",
       "        text-align: right;\n",
       "    }\n",
       "</style>\n",
       "<table border=\"1\" class=\"dataframe\">\n",
       "  <thead>\n",
       "    <tr style=\"text-align: right;\">\n",
       "      <th></th>\n",
       "      <th>pred</th>\n",
       "    </tr>\n",
       "  </thead>\n",
       "  <tbody>\n",
       "    <tr>\n",
       "      <th>0</th>\n",
       "      <td>38983.35</td>\n",
       "    </tr>\n",
       "    <tr>\n",
       "      <th>1</th>\n",
       "      <td>11606.19</td>\n",
       "    </tr>\n",
       "    <tr>\n",
       "      <th>2</th>\n",
       "      <td>16466.38</td>\n",
       "    </tr>\n",
       "    <tr>\n",
       "      <th>3</th>\n",
       "      <td>73556.18</td>\n",
       "    </tr>\n",
       "    <tr>\n",
       "      <th>4</th>\n",
       "      <td>47652.85</td>\n",
       "    </tr>\n",
       "    <tr>\n",
       "      <th>...</th>\n",
       "      <td>...</td>\n",
       "    </tr>\n",
       "    <tr>\n",
       "      <th>5767</th>\n",
       "      <td>12256.73</td>\n",
       "    </tr>\n",
       "    <tr>\n",
       "      <th>5768</th>\n",
       "      <td>6852.63</td>\n",
       "    </tr>\n",
       "    <tr>\n",
       "      <th>5769</th>\n",
       "      <td>10620.86</td>\n",
       "    </tr>\n",
       "    <tr>\n",
       "      <th>5770</th>\n",
       "      <td>26048.51</td>\n",
       "    </tr>\n",
       "    <tr>\n",
       "      <th>5771</th>\n",
       "      <td>13946.32</td>\n",
       "    </tr>\n",
       "  </tbody>\n",
       "</table>\n",
       "<p>5772 rows × 1 columns</p>\n",
       "</div>"
      ],
      "text/plain": [
       "          pred\n",
       "0     38983.35\n",
       "1     11606.19\n",
       "2     16466.38\n",
       "3     73556.18\n",
       "4     47652.85\n",
       "...        ...\n",
       "5767  12256.73\n",
       "5768   6852.63\n",
       "5769  10620.86\n",
       "5770  26048.51\n",
       "5771  13946.32\n",
       "\n",
       "[5772 rows x 1 columns]"
      ]
     },
     "execution_count": 60,
     "metadata": {},
     "output_type": "execute_result"
    }
   ],
   "source": [
    "pred = model.predict(test)\n",
    "result = pd.DataFrame({'pred':pred})\n",
    "result.to_csv('result.csv', index=False)\n",
    "\n",
    "pd.read_csv('result.csv')"
   ]
  }
 ],
 "metadata": {
  "kernelspec": {
   "display_name": "big",
   "language": "python",
   "name": "python3"
  },
  "language_info": {
   "codemirror_mode": {
    "name": "ipython",
    "version": 3
   },
   "file_extension": ".py",
   "mimetype": "text/x-python",
   "name": "python",
   "nbconvert_exporter": "python",
   "pygments_lexer": "ipython3",
   "version": "3.10.14"
  }
 },
 "nbformat": 4,
 "nbformat_minor": 2
}
